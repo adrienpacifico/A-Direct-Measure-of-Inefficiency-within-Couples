{
 "cells": [
  {
   "cell_type": "markdown",
   "metadata": {},
   "source": [
    "# Simulation impot concubains avec enfants biologiques."
   ]
  },
  {
   "cell_type": "code",
   "execution_count": 1,
   "metadata": {
    "collapsed": false
   },
   "outputs": [
    {
     "data": {
      "text/html": [
       "<style>.container { width:100% !important; }<\\style>"
      ],
      "text/plain": [
       "<IPython.core.display.HTML object>"
      ]
     },
     "metadata": {},
     "output_type": "display_data"
    }
   ],
   "source": [
    "from IPython.core.display import display, HTML\n",
    "display(HTML(\"<style>.container { width:100% !important; }<\\style>\"))"
   ]
  },
  {
   "cell_type": "code",
   "execution_count": 2,
   "metadata": {
    "collapsed": false
   },
   "outputs": [
    {
     "name": "stdout",
     "output_type": "stream",
     "text": [
      "2019-04-24 15:24:26.493000\n"
     ]
    }
   ],
   "source": [
    "import datetime\n",
    "start_time = datetime.datetime.now(); print(start_time)"
   ]
  },
  {
   "cell_type": "code",
   "execution_count": 3,
   "metadata": {
    "collapsed": true
   },
   "outputs": [],
   "source": [
    "year = 2013"
   ]
  },
  {
   "cell_type": "code",
   "execution_count": 4,
   "metadata": {
    "collapsed": false
   },
   "outputs": [],
   "source": [
    "%matplotlib inline"
   ]
  },
  {
   "cell_type": "code",
   "execution_count": 5,
   "metadata": {
    "collapsed": true
   },
   "outputs": [],
   "source": [
    "import matplotlib.pyplot as plt"
   ]
  },
  {
   "cell_type": "code",
   "execution_count": 6,
   "metadata": {
    "collapsed": false
   },
   "outputs": [],
   "source": [
    "from __future__ import division\n",
    "import pandas as pd ; pd.set_option(\"display.max_columns\",200)\n",
    "import numpy as np\n",
    "import pickle\n",
    "import statsmodels.api as sm\n",
    "import sys"
   ]
  },
  {
   "cell_type": "code",
   "execution_count": 7,
   "metadata": {
    "collapsed": true
   },
   "outputs": [],
   "source": [
    "from __future__ import division\n",
    "import pandas as pd ; pd.set_option(\"display.max_columns\",200)\n",
    "import numpy as np\n",
    "import pickle\n",
    "import statsmodels.api as sm\n",
    "import sys"
   ]
  },
  {
   "cell_type": "code",
   "execution_count": 8,
   "metadata": {
    "collapsed": false
   },
   "outputs": [],
   "source": [
    "#Store = pd.HDFStore(store_path)"
   ]
  },
  {
   "cell_type": "code",
   "execution_count": 9,
   "metadata": {
    "collapsed": true
   },
   "outputs": [],
   "source": [
    "def load_fisc_i_by_year(year = None):\n",
    "    df_fisci = pd.read_hdf(store_path, 'FISC_INDIVIDU_{}'.format(year))\n",
    "    return df_fisci\n",
    "def load_fisc_r_by_year(year = None):\n",
    "    df_fiscr = pd.read_hdf(store_path, 'FISC_REVENU_{}'.format(year))\n",
    "    return df_fiscr\n",
    "def load_fisc_l_by_year(year = None):\n",
    "    df_fiscr = pd.read_hdf(store_path, 'FISC_LOGEMENT_{}'.format(year))\n",
    "    return df_fiscr\n",
    "\n",
    "def load_df_fiscrevdet_by_year(year = None):\n",
    "    df_fiscrevdet = pd.read_hdf(store_path, 'FISC_REVDET_{}'.format(year))\n",
    "    return df_fiscrevdet\n",
    "    "
   ]
  },
  {
   "cell_type": "code",
   "execution_count": 10,
   "metadata": {
    "collapsed": true
   },
   "outputs": [],
   "source": [
    "diploma_labels = {1:\"No_school\", 2 : \"primary_middle_school\",11:\"CEP\", 12:\"BEPC\", 13:\"CAP\", 14:\"BEP\", 15:\"BAC\", 16:\"Bac_pro\",17:\"Bac_plus_3\",18:\"Master_PhD\" }\n",
    "diploma_labels_homme = {1:\"No_school_man\", 2 : \"primary_middle_school_man\",11:\"CEP_man\", 12:\"BEPC_man\", 13:\"CAP_man\", 14:\"BEP_man\", 15:\"BAC_man\", 16:\"Bac_pro_man\",17:\"Bac_plus_3_man\",18:\"Master_PhD_man\" }\n",
    "diploma_labels_femme = {1:\"No_school_wo\", 2 : \"primary_middle_school_wo\",11:\"CEP_wo\", 12:\"BEPC_wo\", 13:\"CAP_wo\", 14:\"BEP_wo\", 15:\"BAC_wo\", 16:\"Bac_pro_wo\",17:\"Bac_plus_3_wo\",18:\"Master_PhD_wo\" }\n",
    "\n",
    "\n",
    "def add_diplomas_dummies(df_temp):\n",
    "    df_temp.loc[df_temp.Diplome_femme == 3, \"Diplome_femme\"] = 2\n",
    "    df_temp.loc[df_temp.Diplome_homme == 3, \"Diplome_homme\"] = 2\n",
    "    df_temp.loc[df_temp.Diplome_femme == 19, \"Diplome_femme\"] = 18\n",
    "    df_temp.loc[df_temp.Diplome_homme == 3, \"Diplome_homme\"] = 18\n",
    "    diplome_homme = pd.get_dummies(df_temp.Diplome_homme)\n",
    "    diplome_femme = pd.get_dummies(df_temp.Diplome_femme)\n",
    "    diplome_homme = diplome_homme.rename(columns=diploma_labels_homme)\n",
    "    diplome_femme = diplome_femme.rename(columns=diploma_labels_femme)\n",
    "    df_temp = pd.concat([df_temp, diplome_homme], axis = 1)\n",
    "    df_temp = pd.concat([df_temp, diplome_femme], axis = 1)\n",
    "    \n",
    "    df_temp[\"No_education_femme\"] = df_temp.Diplome_femme.isin([1,2,11,12])\n",
    "    df_temp[\"No_education_homme\"] = df_temp.Diplome_homme.isin([1,2,11,12])\n",
    "    \n",
    "    df_temp[\"Vocational_education_femme\"] = df_temp.Diplome_femme.isin([13,14,15,16])\n",
    "    df_temp[\"Vocational_education_homme\"] = df_temp.Diplome_homme.isin([13,14,15,16])\n",
    "    \n",
    "    df_temp[\"Licence_education_femme\"] = df_temp.Diplome_femme.isin([17])\n",
    "    df_temp[\"Licence_education_homme\"] = df_temp.Diplome_homme.isin([17])\n",
    "\n",
    "    df_temp[\"Master_PhD_education_femme\"] = df_temp.Diplome_femme.isin([18])\n",
    "    df_temp[\"Master_PhD_education_homme\"] = df_temp.Diplome_homme.isin([18])\n",
    "    \n",
    "    \n",
    "    \n",
    "    return df_temp"
   ]
  },
  {
   "cell_type": "code",
   "execution_count": 11,
   "metadata": {
    "collapsed": true
   },
   "outputs": [],
   "source": [
    "hdf_path = (\"./Generated_hdf/optimizers.h5\")"
   ]
  },
  {
   "cell_type": "code",
   "execution_count": 12,
   "metadata": {
    "collapsed": false
   },
   "outputs": [],
   "source": [
    "biologic_path = (u\"./Pickle/biologic/biologic_households{}.p\".format(2013))\n",
    "biologic_2013 = pickle.load( \n",
    "        open(biologic_path, 'rb'))"
   ]
  },
  {
   "cell_type": "code",
   "execution_count": 13,
   "metadata": {
    "collapsed": false
   },
   "outputs": [],
   "source": [
    "biologic_path = (u\"./Pickle/biologic/biologic_households{}.p\".format(2014))\n",
    "biologic_2014 = pickle.load( \n",
    "        open(biologic_path, 'rb'))"
   ]
  },
  {
   "cell_type": "code",
   "execution_count": 14,
   "metadata": {
    "collapsed": false
   },
   "outputs": [],
   "source": [
    "hdf_for_exploitation_path = (\"./Generated_hdf/data_to_exploit.h5\")"
   ]
  },
  {
   "cell_type": "code",
   "execution_count": 15,
   "metadata": {
    "collapsed": false
   },
   "outputs": [
    {
     "name": "stdout",
     "output_type": "stream",
     "text": [
      "Wall time: 2.32 s\n"
     ]
    }
   ],
   "source": [
    "%%time\n",
    "for key in [\"df2013_A\",\"df2013_B\", \"df2013_C\" ,  \"df2013_D\", \n",
    "            \"df2014_A\",\"df2014_B\", \"df2014_C\",\"df2014_D\", \n",
    "            \"df_concat_A\", \"df_concat_B\",\"df_concat_C\",\"df_concat_D\",\n",
    "            \"df_A\", \"df_B\", \"df_C\",\"df_D\",]:\n",
    "    globals()[key] = pd.read_hdf(hdf_for_exploitation_path, key)"
   ]
  },
  {
   "cell_type": "code",
   "execution_count": 16,
   "metadata": {
    "collapsed": true
   },
   "outputs": [],
   "source": [
    "diploma_4_categories = [\"No_education_femme\", \"Vocational_education_femme\",\"Licence_education_femme\", \"Master_PhD_education_femme\",\n",
    "                       \"No_education_homme\", \"Vocational_education_homme\",\"Licence_education_homme\", \"Master_PhD_education_homme\"]\n",
    "diploma_4_categories_to_regress =  [\"Vocational_education_femme\",\"Licence_education_femme\", \"Master_PhD_education_femme\",\n",
    "                       \"Vocational_education_homme\",\"Licence_education_homme\", \"Master_PhD_education_homme\"]"
   ]
  },
  {
   "cell_type": "code",
   "execution_count": 17,
   "metadata": {
    "collapsed": false
   },
   "outputs": [
    {
     "data": {
      "text/plain": [
       "False    45507\n",
       "True       939\n",
       "dtype: int64"
      ]
     },
     "execution_count": 17,
     "metadata": {},
     "output_type": "execute_result"
    }
   ],
   "source": [
    "df2013_B.Separation.value_counts()"
   ]
  },
  {
   "cell_type": "code",
   "execution_count": 18,
   "metadata": {
    "collapsed": false
   },
   "outputs": [
    {
     "data": {
      "text/plain": [
       "(46446, 229)"
      ]
     },
     "execution_count": 18,
     "metadata": {},
     "output_type": "execute_result"
    }
   ],
   "source": [
    "df2013_B.shape"
   ]
  },
  {
   "cell_type": "code",
   "execution_count": 19,
   "metadata": {
    "collapsed": false
   },
   "outputs": [
    {
     "data": {
      "text/plain": [
       "(32272, 422)"
      ]
     },
     "execution_count": 19,
     "metadata": {},
     "output_type": "execute_result"
    }
   ],
   "source": [
    "df_B.shape"
   ]
  },
  {
   "cell_type": "code",
   "execution_count": 20,
   "metadata": {
    "collapsed": false
   },
   "outputs": [
    {
     "data": {
      "text/plain": [
       "(45873, 180)"
      ]
     },
     "execution_count": 20,
     "metadata": {},
     "output_type": "execute_result"
    }
   ],
   "source": [
    "df2014_B.shape"
   ]
  },
  {
   "cell_type": "code",
   "execution_count": 21,
   "metadata": {
    "collapsed": true
   },
   "outputs": [],
   "source": [
    "df_B[\"Fiscal_max_potential_loss_2013\"] = df_B.result_min_allocation_2013 - df_B.result_max_allocation_2013\n",
    "hello_2013 = df_B.Fiscal_loss_2013/df_B.Fiscal_max_potential_loss_2013\n",
    "\n",
    "df_B[\"Fiscal_max_potential_loss_2014\"] = df_B.result_min_allocation_2014 - df_B.result_max_allocation_2014\n",
    "hello_2014 = df_B.Fiscal_loss_2014/df_B.Fiscal_max_potential_loss_2014"
   ]
  },
  {
   "cell_type": "markdown",
   "metadata": {},
   "source": [
    "## Create diplomas dataset"
   ]
  },
  {
   "cell_type": "code",
   "execution_count": 22,
   "metadata": {
    "collapsed": false
   },
   "outputs": [],
   "source": [
    "diploma_4_categories_2013 = [a + \"_2013\" for a in diploma_4_categories]\n",
    "for key in [\"df2013_A\",\"df2013_B\", \"df2013_C\", \"df2013_D\",\n",
    "            \"df2014_A\",\"df2014_B\", \"df2014_C\",\"df2014_D\", \n",
    "            \"df_concat_A\", \"df_concat_B\",\"df_concat_C\",\"df_concat_D\",\n",
    "            \"df_A\", \"df_B\", \"df_C\", \"df_D\"]:\n",
    "    \n",
    "\n",
    "    \n",
    "    \n",
    "    \n",
    "    df_temp = globals()[key]\n",
    "    try:\n",
    "        df_temp = df_temp[df_temp[diploma_4_categories].sum(axis = 1) == 2]\n",
    "        globals()[key+\"_diplomas\"] = df_temp\n",
    "    except KeyError: #Deal with diplomas variable having the year in the end of the name\n",
    "        try: \n",
    "            df_temp = df_temp[df_temp[diploma_4_categories_2013].sum(axis = 1) == 2]\n",
    "            globals()[key+\"_diplomas\"] = df_temp\n",
    "        except: Boum\n",
    "\n",
    "    "
   ]
  },
  {
   "cell_type": "markdown",
   "metadata": {},
   "source": [
    "## Same oportunity set"
   ]
  },
  {
   "cell_type": "code",
   "execution_count": 23,
   "metadata": {
    "collapsed": false
   },
   "outputs": [
    {
     "name": "stdout",
     "output_type": "stream",
     "text": [
      "(28997, 424)\n",
      "(3275, 424)\n"
     ]
    }
   ],
   "source": [
    "print df_B.query(\"Nb_enfants_2013 == Nb_enfants_2014 \").shape\n",
    "print df_B.query(\"Nb_enfants_2013 != Nb_enfants_2014 \").shape"
   ]
  },
  {
   "cell_type": "code",
   "execution_count": 24,
   "metadata": {
    "collapsed": false
   },
   "outputs": [
    {
     "data": {
      "text/plain": [
       "0.10148116013882003"
      ]
     },
     "execution_count": 24,
     "metadata": {},
     "output_type": "execute_result"
    }
   ],
   "source": [
    "df_B.query(\"Nb_enfants_2013 != Nb_enfants_2014 \").shape[0]/df_B.shape[0]"
   ]
  },
  {
   "cell_type": "code",
   "execution_count": 25,
   "metadata": {
    "collapsed": false
   },
   "outputs": [
    {
     "data": {
      "text/plain": [
       "0.0913795240456123"
      ]
     },
     "execution_count": 25,
     "metadata": {},
     "output_type": "execute_result"
    }
   ],
   "source": [
    "df_B.query(\"Nb_enfants_2013 < Nb_enfants_2014 \").shape[0]/df_B.shape[0]"
   ]
  },
  {
   "cell_type": "markdown",
   "metadata": {},
   "source": [
    "### Number of optimal allocations"
   ]
  },
  {
   "cell_type": "code",
   "execution_count": 26,
   "metadata": {
    "collapsed": false
   },
   "outputs": [],
   "source": []
  },
  {
   "cell_type": "code",
   "execution_count": 26,
   "metadata": {
    "collapsed": false
   },
   "outputs": [
    {
     "data": {
      "text/plain": [
       "True     0.881197\n",
       "False    0.118803\n",
       "dtype: float64"
      ]
     },
     "execution_count": 26,
     "metadata": {},
     "output_type": "execute_result"
    }
   ],
   "source": [
    "(df_B.Number_of_optimal_allocations_2013==df_B.Number_of_optimal_allocations_2014).value_counts(normalize = True)"
   ]
  },
  {
   "cell_type": "code",
   "execution_count": 27,
   "metadata": {
    "collapsed": false
   },
   "outputs": [
    {
     "name": "stdout",
     "output_type": "stream",
     "text": [
      "1     0.951878\n",
      "2     0.039725\n",
      "3     0.005980\n",
      "4     0.001952\n",
      "5     0.000310\n",
      "6     0.000093\n",
      "12    0.000062\n",
      "dtype: float64\n",
      "1    0.867253\n",
      "2    0.108174\n",
      "3    0.017724\n",
      "4    0.005485\n",
      "5    0.000899\n",
      "6    0.000403\n",
      "8    0.000062\n",
      "dtype: float64\n"
     ]
    }
   ],
   "source": [
    "print df_B.Number_of_optimal_allocations_2013.value_counts(normalize = True)\n",
    "print df_B.Number_of_optimal_allocations_2014.value_counts(normalize = True)"
   ]
  },
  {
   "cell_type": "code",
   "execution_count": 28,
   "metadata": {
    "collapsed": false
   },
   "outputs": [
    {
     "data": {
      "text/plain": [
       "True     0.856718\n",
       "False    0.143282\n",
       "dtype: float64"
      ]
     },
     "execution_count": 28,
     "metadata": {},
     "output_type": "execute_result"
    }
   ],
   "source": [
    "((df_B.Number_of_optimal_allocations_2013 == 1)&\n",
    "    (df_B.Number_of_optimal_allocations_2013==df_B.Number_of_optimal_allocations_2014)).value_counts(normalize = True)"
   ]
  },
  {
   "cell_type": "markdown",
   "metadata": {},
   "source": [
    "### Stat des sur les transitions"
   ]
  },
  {
   "cell_type": "code",
   "execution_count": 29,
   "metadata": {
    "collapsed": false
   },
   "outputs": [
    {
     "name": "stdout",
     "output_type": "stream",
     "text": [
      "False    0.90862\n",
      "True     0.09138\n",
      "dtype: float64\n",
      "False    0.989898\n",
      "True     0.010102\n",
      "dtype: float64\n"
     ]
    }
   ],
   "source": [
    "print df_B.Family_child_gain.value_counts(normalize = True)\n",
    "print df_B.Family_child_loss.value_counts(normalize = True)"
   ]
  },
  {
   "cell_type": "code",
   "execution_count": 30,
   "metadata": {
    "collapsed": false
   },
   "outputs": [
    {
     "data": {
      "text/plain": [
       "1     23001\n",
       "0      8227\n",
       "2       851\n",
       "3       145\n",
       "4        32\n",
       "5        10\n",
       "64        4\n",
       "6         2\n",
       "dtype: int64"
      ]
     },
     "execution_count": 30,
     "metadata": {},
     "output_type": "execute_result"
    }
   ],
   "source": [
    "df_B.Same_optimal_allocation_same_family.value_counts()"
   ]
  },
  {
   "cell_type": "code",
   "execution_count": 31,
   "metadata": {
    "collapsed": false
   },
   "outputs": [
    {
     "data": {
      "text/html": [
       "<div>\n",
       "<table border=\"1\" class=\"dataframe\">\n",
       "  <thead>\n",
       "    <tr style=\"text-align: right;\">\n",
       "      <th>Same_optimal_allocation_same_family</th>\n",
       "      <th>False</th>\n",
       "      <th>True</th>\n",
       "    </tr>\n",
       "    <tr>\n",
       "      <th>Same_family_did_not_change_allocation</th>\n",
       "      <th></th>\n",
       "      <th></th>\n",
       "    </tr>\n",
       "  </thead>\n",
       "  <tbody>\n",
       "    <tr>\n",
       "      <th>False</th>\n",
       "      <td>0.023416</td>\n",
       "      <td>0.031762</td>\n",
       "    </tr>\n",
       "    <tr>\n",
       "      <th>True</th>\n",
       "      <td>0.147360</td>\n",
       "      <td>0.797462</td>\n",
       "    </tr>\n",
       "  </tbody>\n",
       "</table>\n",
       "</div>"
      ],
      "text/plain": [
       "Same_optimal_allocation_same_family       False     True \n",
       "Same_family_did_not_change_allocation                    \n",
       "False                                  0.023416  0.031762\n",
       "True                                   0.147360  0.797462"
      ]
     },
     "execution_count": 31,
     "metadata": {},
     "output_type": "execute_result"
    }
   ],
   "source": [
    "\n",
    "df_temp = df_B.query(\"Nb_enfants_2013 == Nb_enfants_2014 \")\n",
    "pd.crosstab(df_temp.Same_family_did_not_change_allocation.astype(\"bool\"), \n",
    "            df_temp.Same_optimal_allocation_same_family.astype(\"bool\"))/df_temp.shape[0]"
   ]
  },
  {
   "cell_type": "code",
   "execution_count": 32,
   "metadata": {
    "collapsed": true
   },
   "outputs": [],
   "source": [
    "\n",
    "df_temp = df_B.query(\"Nb_enfants_2013 == Nb_enfants_2014 \")\n"
   ]
  },
  {
   "cell_type": "code",
   "execution_count": 33,
   "metadata": {
    "collapsed": false
   },
   "outputs": [
    {
     "data": {
      "text/html": [
       "<div>\n",
       "<table border=\"1\" class=\"dataframe\">\n",
       "  <thead>\n",
       "    <tr>\n",
       "      <th>Same_optimal_allocation_same_family</th>\n",
       "      <th colspan=\"2\" halign=\"left\">False</th>\n",
       "      <th colspan=\"2\" halign=\"left\">True</th>\n",
       "    </tr>\n",
       "    <tr>\n",
       "      <th>Do_not_optimize_0_1_prct_income_share_2013</th>\n",
       "      <th>False</th>\n",
       "      <th>True</th>\n",
       "      <th>False</th>\n",
       "      <th>True</th>\n",
       "    </tr>\n",
       "    <tr>\n",
       "      <th>Same_family_did_not_change_allocation</th>\n",
       "      <th></th>\n",
       "      <th></th>\n",
       "      <th></th>\n",
       "      <th></th>\n",
       "    </tr>\n",
       "  </thead>\n",
       "  <tbody>\n",
       "    <tr>\n",
       "      <th>False</th>\n",
       "      <td>0.019692</td>\n",
       "      <td>0.003725</td>\n",
       "      <td>0.015312</td>\n",
       "      <td>0.016450</td>\n",
       "    </tr>\n",
       "    <tr>\n",
       "      <th>True</th>\n",
       "      <td>0.087975</td>\n",
       "      <td>0.059385</td>\n",
       "      <td>0.630065</td>\n",
       "      <td>0.167397</td>\n",
       "    </tr>\n",
       "  </tbody>\n",
       "</table>\n",
       "</div>"
      ],
      "text/plain": [
       "Same_optimal_allocation_same_family            False               True   \\\n",
       "Do_not_optimize_0_1_prct_income_share_2013     False     True      False   \n",
       "Same_family_did_not_change_allocation                                      \n",
       "False                                       0.019692  0.003725  0.015312   \n",
       "True                                        0.087975  0.059385  0.630065   \n",
       "\n",
       "Same_optimal_allocation_same_family                   \n",
       "Do_not_optimize_0_1_prct_income_share_2013     True   \n",
       "Same_family_did_not_change_allocation                 \n",
       "False                                       0.016450  \n",
       "True                                        0.167397  "
      ]
     },
     "execution_count": 33,
     "metadata": {},
     "output_type": "execute_result"
    }
   ],
   "source": [
    "pd.crosstab(df_temp.Same_family_did_not_change_allocation.astype(\"bool\"), \n",
    "           columns =  [df_temp.Same_optimal_allocation_same_family.astype(\"bool\"), df_temp.Do_not_optimize_0_1_prct_income_share_2013])/df_temp.shape[0]"
   ]
  },
  {
   "cell_type": "code",
   "execution_count": 34,
   "metadata": {
    "collapsed": false
   },
   "outputs": [
    {
     "data": {
      "text/html": [
       "<div>\n",
       "<table border=\"1\" class=\"dataframe\">\n",
       "  <thead>\n",
       "    <tr>\n",
       "      <th>Same_optimal_allocation_same_family</th>\n",
       "      <th colspan=\"2\" halign=\"left\">False</th>\n",
       "      <th colspan=\"2\" halign=\"left\">True</th>\n",
       "    </tr>\n",
       "    <tr>\n",
       "      <th>Do_not_optimize_0_1_prct_income_share_2013</th>\n",
       "      <th>False</th>\n",
       "      <th>True</th>\n",
       "      <th>False</th>\n",
       "      <th>True</th>\n",
       "    </tr>\n",
       "    <tr>\n",
       "      <th>Same_family_did_not_change_allocation</th>\n",
       "      <th></th>\n",
       "      <th></th>\n",
       "      <th></th>\n",
       "      <th></th>\n",
       "    </tr>\n",
       "  </thead>\n",
       "  <tbody>\n",
       "    <tr>\n",
       "      <th>False</th>\n",
       "      <td>0.019692</td>\n",
       "      <td>0.003725</td>\n",
       "      <td>0.015312</td>\n",
       "      <td>0.016450</td>\n",
       "    </tr>\n",
       "    <tr>\n",
       "      <th>True</th>\n",
       "      <td>0.087975</td>\n",
       "      <td>0.059385</td>\n",
       "      <td>0.630065</td>\n",
       "      <td>0.167397</td>\n",
       "    </tr>\n",
       "  </tbody>\n",
       "</table>\n",
       "</div>"
      ],
      "text/plain": [
       "Same_optimal_allocation_same_family            False               True   \\\n",
       "Do_not_optimize_0_1_prct_income_share_2013     False     True      False   \n",
       "Same_family_did_not_change_allocation                                      \n",
       "False                                       0.019692  0.003725  0.015312   \n",
       "True                                        0.087975  0.059385  0.630065   \n",
       "\n",
       "Same_optimal_allocation_same_family                   \n",
       "Do_not_optimize_0_1_prct_income_share_2013     True   \n",
       "Same_family_did_not_change_allocation                 \n",
       "False                                       0.016450  \n",
       "True                                        0.167397  "
      ]
     },
     "execution_count": 34,
     "metadata": {},
     "output_type": "execute_result"
    }
   ],
   "source": [
    "pd.crosstab(df_temp.Same_family_did_not_change_allocation.astype(\"bool\"), \n",
    "           columns =  [df_temp.Same_optimal_allocation_same_family.astype(\"bool\"), df_temp.Do_not_optimize_0_1_prct_income_share_2013])/df_temp.shape[0]"
   ]
  },
  {
   "cell_type": "code",
   "execution_count": 35,
   "metadata": {
    "collapsed": false,
    "scrolled": true
   },
   "outputs": [
    {
     "data": {
      "text/html": [
       "<div>\n",
       "<table border=\"1\" class=\"dataframe\">\n",
       "  <thead>\n",
       "    <tr>\n",
       "      <th>Same_optimal_allocation_same_family</th>\n",
       "      <th colspan=\"4\" halign=\"left\">True</th>\n",
       "      <th>All</th>\n",
       "    </tr>\n",
       "    <tr>\n",
       "      <th>Do_not_optimize_2013</th>\n",
       "      <th colspan=\"2\" halign=\"left\">False</th>\n",
       "      <th colspan=\"2\" halign=\"left\">True</th>\n",
       "      <th></th>\n",
       "    </tr>\n",
       "    <tr>\n",
       "      <th>Do_not_optimize_2014</th>\n",
       "      <th>False</th>\n",
       "      <th>True</th>\n",
       "      <th>False</th>\n",
       "      <th>True</th>\n",
       "      <th></th>\n",
       "    </tr>\n",
       "    <tr>\n",
       "      <th>Same_family_did_not_change_allocation</th>\n",
       "      <th></th>\n",
       "      <th></th>\n",
       "      <th></th>\n",
       "      <th></th>\n",
       "      <th></th>\n",
       "    </tr>\n",
       "  </thead>\n",
       "  <tbody>\n",
       "    <tr>\n",
       "      <th>False</th>\n",
       "      <td>67</td>\n",
       "      <td>291</td>\n",
       "      <td>482</td>\n",
       "      <td>43</td>\n",
       "      <td>883</td>\n",
       "    </tr>\n",
       "    <tr>\n",
       "      <th>True</th>\n",
       "      <td>16781</td>\n",
       "      <td>78</td>\n",
       "      <td>473</td>\n",
       "      <td>4786</td>\n",
       "      <td>22118</td>\n",
       "    </tr>\n",
       "    <tr>\n",
       "      <th>All</th>\n",
       "      <td>16848</td>\n",
       "      <td>369</td>\n",
       "      <td>955</td>\n",
       "      <td>4829</td>\n",
       "      <td>23001</td>\n",
       "    </tr>\n",
       "  </tbody>\n",
       "</table>\n",
       "</div>"
      ],
      "text/plain": [
       "Same_optimal_allocation_same_family     True                     All\n",
       "Do_not_optimize_2013                   False       True             \n",
       "Do_not_optimize_2014                   False True False  True       \n",
       "Same_family_did_not_change_allocation                               \n",
       "False                                     67  291   482    43    883\n",
       "True                                   16781   78   473  4786  22118\n",
       "All                                    16848  369   955  4829  23001"
      ]
     },
     "execution_count": 35,
     "metadata": {},
     "output_type": "execute_result"
    }
   ],
   "source": [
    "df_temp = df_B.query(\"(Same_optimal_allocation_same_family==1) & (Nb_enfants_2013>=1) \")\n",
    "crosstab = pd.crosstab(df_temp.Same_family_did_not_change_allocation.astype(\"bool\"), \n",
    "            [df_temp.Same_optimal_allocation_same_family.astype(\"bool\"), df_temp.Do_not_optimize_2013, df_temp.Do_not_optimize_2014],\n",
    "           margins = True) ; crosstab"
   ]
  },
  {
   "cell_type": "code",
   "execution_count": 36,
   "metadata": {
    "collapsed": true
   },
   "outputs": [],
   "source": []
  },
  {
   "cell_type": "code",
   "execution_count": 36,
   "metadata": {
    "collapsed": false
   },
   "outputs": [],
   "source": [
    "# df_temp.query('(Do_not_optimize_2013==False)&(Do_not_optimize_2014==False)&(Same_family_did_not_change_allocation==False)'\n",
    "#             )"
   ]
  },
  {
   "cell_type": "code",
   "execution_count": 37,
   "metadata": {
    "collapsed": false
   },
   "outputs": [
    {
     "data": {
      "text/html": [
       "<div>\n",
       "<table border=\"1\" class=\"dataframe\">\n",
       "  <thead>\n",
       "    <tr>\n",
       "      <th>Same_optimal_allocation_same_family</th>\n",
       "      <th colspan=\"4\" halign=\"left\">True</th>\n",
       "      <th>All</th>\n",
       "    </tr>\n",
       "    <tr>\n",
       "      <th>Do_not_optimize_2013</th>\n",
       "      <th colspan=\"2\" halign=\"left\">False</th>\n",
       "      <th colspan=\"2\" halign=\"left\">True</th>\n",
       "      <th></th>\n",
       "    </tr>\n",
       "    <tr>\n",
       "      <th>Do_not_optimize_2014</th>\n",
       "      <th>False</th>\n",
       "      <th>True</th>\n",
       "      <th>False</th>\n",
       "      <th>True</th>\n",
       "      <th></th>\n",
       "    </tr>\n",
       "    <tr>\n",
       "      <th>Same_family_did_not_change_allocation</th>\n",
       "      <th></th>\n",
       "      <th></th>\n",
       "      <th></th>\n",
       "      <th></th>\n",
       "      <th></th>\n",
       "    </tr>\n",
       "  </thead>\n",
       "  <tbody>\n",
       "    <tr>\n",
       "      <th>False</th>\n",
       "      <td>67</td>\n",
       "      <td>291</td>\n",
       "      <td>482</td>\n",
       "      <td>43</td>\n",
       "      <td>883</td>\n",
       "    </tr>\n",
       "    <tr>\n",
       "      <th>True</th>\n",
       "      <td>16781</td>\n",
       "      <td>78</td>\n",
       "      <td>473</td>\n",
       "      <td>4786</td>\n",
       "      <td>22118</td>\n",
       "    </tr>\n",
       "    <tr>\n",
       "      <th>All</th>\n",
       "      <td>16848</td>\n",
       "      <td>369</td>\n",
       "      <td>955</td>\n",
       "      <td>4829</td>\n",
       "      <td>23001</td>\n",
       "    </tr>\n",
       "  </tbody>\n",
       "</table>\n",
       "</div>"
      ],
      "text/plain": [
       "Same_optimal_allocation_same_family     True                     All\n",
       "Do_not_optimize_2013                   False       True             \n",
       "Do_not_optimize_2014                   False True False  True       \n",
       "Same_family_did_not_change_allocation                               \n",
       "False                                     67  291   482    43    883\n",
       "True                                   16781   78   473  4786  22118\n",
       "All                                    16848  369   955  4829  23001"
      ]
     },
     "execution_count": 37,
     "metadata": {},
     "output_type": "execute_result"
    }
   ],
   "source": [
    "df_temp = df_B.query(\"(Same_optimal_allocation_same_family==1) & (Nb_enfants_2013>=1) \")\n",
    "crosstab = pd.crosstab(df_temp.Same_family_did_not_change_allocation.astype(\"bool\"), \n",
    "            [df_temp.Same_optimal_allocation_same_family.astype(\"bool\"), df_temp.Do_not_optimize_2013, df_temp.Do_not_optimize_2014],\n",
    "           margins = True) ; crosstab"
   ]
  },
  {
   "cell_type": "code",
   "execution_count": 38,
   "metadata": {
    "collapsed": true
   },
   "outputs": [],
   "source": []
  },
  {
   "cell_type": "markdown",
   "metadata": {},
   "source": [
    "### On garde que les ménages qui ont une seul allocation optimale en 2013 et 2014"
   ]
  },
  {
   "cell_type": "code",
   "execution_count": 38,
   "metadata": {
    "collapsed": false
   },
   "outputs": [
    {
     "data": {
      "text/html": [
       "<div>\n",
       "<table border=\"1\" class=\"dataframe\">\n",
       "  <thead>\n",
       "    <tr>\n",
       "      <th>Same_optimal_allocation_same_family</th>\n",
       "      <th colspan=\"4\" halign=\"left\">True</th>\n",
       "      <th>All</th>\n",
       "    </tr>\n",
       "    <tr>\n",
       "      <th>Do_not_optimize_2013</th>\n",
       "      <th colspan=\"2\" halign=\"left\">False</th>\n",
       "      <th colspan=\"2\" halign=\"left\">True</th>\n",
       "      <th></th>\n",
       "    </tr>\n",
       "    <tr>\n",
       "      <th>Do_not_optimize_2014</th>\n",
       "      <th>False</th>\n",
       "      <th>True</th>\n",
       "      <th>False</th>\n",
       "      <th>True</th>\n",
       "      <th></th>\n",
       "    </tr>\n",
       "    <tr>\n",
       "      <th>Same_family_did_not_change_allocation</th>\n",
       "      <th></th>\n",
       "      <th></th>\n",
       "      <th></th>\n",
       "      <th></th>\n",
       "      <th></th>\n",
       "    </tr>\n",
       "  </thead>\n",
       "  <tbody>\n",
       "    <tr>\n",
       "      <th>False</th>\n",
       "      <td>0</td>\n",
       "      <td>273</td>\n",
       "      <td>432</td>\n",
       "      <td>40</td>\n",
       "      <td>745</td>\n",
       "    </tr>\n",
       "    <tr>\n",
       "      <th>True</th>\n",
       "      <td>15220</td>\n",
       "      <td>0</td>\n",
       "      <td>0</td>\n",
       "      <td>4634</td>\n",
       "      <td>19854</td>\n",
       "    </tr>\n",
       "    <tr>\n",
       "      <th>All</th>\n",
       "      <td>15220</td>\n",
       "      <td>273</td>\n",
       "      <td>432</td>\n",
       "      <td>4674</td>\n",
       "      <td>20599</td>\n",
       "    </tr>\n",
       "  </tbody>\n",
       "</table>\n",
       "</div>"
      ],
      "text/plain": [
       "Same_optimal_allocation_same_family     True                     All\n",
       "Do_not_optimize_2013                   False       True             \n",
       "Do_not_optimize_2014                   False True False  True       \n",
       "Same_family_did_not_change_allocation                               \n",
       "False                                      0  273   432    40    745\n",
       "True                                   15220    0     0  4634  19854\n",
       "All                                    15220  273   432  4674  20599"
      ]
     },
     "execution_count": 38,
     "metadata": {},
     "output_type": "execute_result"
    }
   ],
   "source": [
    "df_temp = df_B.query(\"(Same_optimal_allocation_same_family==1) & (Nb_enfants_2013>=1)\"\n",
    "                    + \"&(Number_of_optimal_allocations_2013 == 1)&(Number_of_optimal_allocations_2014 == 1)  \")\n",
    "crosstab = pd.crosstab(df_temp.Same_family_did_not_change_allocation.astype(\"bool\"), \n",
    "            [df_temp.Same_optimal_allocation_same_family.astype(\"bool\"), df_temp.Do_not_optimize_2013, df_temp.Do_not_optimize_2014],\n",
    "           margins = True) ; crosstab"
   ]
  },
  {
   "cell_type": "code",
   "execution_count": 39,
   "metadata": {
    "collapsed": false
   },
   "outputs": [
    {
     "data": {
      "text/html": [
       "<div>\n",
       "<table border=\"1\" class=\"dataframe\">\n",
       "  <thead>\n",
       "    <tr>\n",
       "      <th>Same_optimal_allocation_same_family</th>\n",
       "      <th colspan=\"4\" halign=\"left\">True</th>\n",
       "      <th>All</th>\n",
       "    </tr>\n",
       "    <tr>\n",
       "      <th>Do_not_optimize_1_prct_income_share_2013</th>\n",
       "      <th colspan=\"2\" halign=\"left\">False</th>\n",
       "      <th colspan=\"2\" halign=\"left\">True</th>\n",
       "      <th></th>\n",
       "    </tr>\n",
       "    <tr>\n",
       "      <th>Do_not_optimize_1_prct_income_share_2014</th>\n",
       "      <th>False</th>\n",
       "      <th>True</th>\n",
       "      <th>False</th>\n",
       "      <th>True</th>\n",
       "      <th></th>\n",
       "    </tr>\n",
       "    <tr>\n",
       "      <th>Same_family_did_not_change_allocation</th>\n",
       "      <th></th>\n",
       "      <th></th>\n",
       "      <th></th>\n",
       "      <th></th>\n",
       "      <th></th>\n",
       "    </tr>\n",
       "  </thead>\n",
       "  <tbody>\n",
       "    <tr>\n",
       "      <th>False</th>\n",
       "      <td>397</td>\n",
       "      <td>137</td>\n",
       "      <td>195</td>\n",
       "      <td>16</td>\n",
       "      <td>745</td>\n",
       "    </tr>\n",
       "    <tr>\n",
       "      <th>True</th>\n",
       "      <td>17312</td>\n",
       "      <td>957</td>\n",
       "      <td>308</td>\n",
       "      <td>1277</td>\n",
       "      <td>19854</td>\n",
       "    </tr>\n",
       "    <tr>\n",
       "      <th>All</th>\n",
       "      <td>17709</td>\n",
       "      <td>1094</td>\n",
       "      <td>503</td>\n",
       "      <td>1293</td>\n",
       "      <td>20599</td>\n",
       "    </tr>\n",
       "  </tbody>\n",
       "</table>\n",
       "</div>"
      ],
      "text/plain": [
       "Same_optimal_allocation_same_family        True                      All\n",
       "Do_not_optimize_1_prct_income_share_2013  False        True             \n",
       "Do_not_optimize_1_prct_income_share_2014  False  True False  True       \n",
       "Same_family_did_not_change_allocation                                   \n",
       "False                                       397   137   195    16    745\n",
       "True                                      17312   957   308  1277  19854\n",
       "All                                       17709  1094   503  1293  20599"
      ]
     },
     "execution_count": 39,
     "metadata": {},
     "output_type": "execute_result"
    }
   ],
   "source": [
    "df_temp = df_B.query(\"(Same_optimal_allocation_same_family==1) & (Nb_enfants_2013>=1)\"\n",
    "                    + \"&(Number_of_optimal_allocations_2013 == 1)&(Number_of_optimal_allocations_2014 == 1)  \")\n",
    "crosstab = pd.crosstab(df_temp.Same_family_did_not_change_allocation.astype(\"bool\"), \n",
    "            [df_temp.Same_optimal_allocation_same_family.astype(\"bool\"), df_temp.Do_not_optimize_1_prct_income_share_2013,\n",
    "             df_temp.Do_not_optimize_1_prct_income_share_2014],\n",
    "           margins = True) ; crosstab"
   ]
  },
  {
   "cell_type": "code",
   "execution_count": 40,
   "metadata": {
    "collapsed": false
   },
   "outputs": [
    {
     "data": {
      "text/plain": [
       "True    20599\n",
       "dtype: int64"
      ]
     },
     "execution_count": 40,
     "metadata": {},
     "output_type": "execute_result"
    }
   ],
   "source": [
    "(df_temp.Optimal_allocations_2013 == df_temp.Optimal_allocations_2014).value_counts()"
   ]
  },
  {
   "cell_type": "code",
   "execution_count": 41,
   "metadata": {
    "collapsed": false
   },
   "outputs": [
    {
     "data": {
      "text/plain": [
       "1     32081\n",
       "2      3845\n",
       "3      1761\n",
       "4       342\n",
       "5       171\n",
       "6        22\n",
       "7        21\n",
       "36        4\n",
       "12        2\n",
       "dtype: int64"
      ]
     },
     "execution_count": 41,
     "metadata": {},
     "output_type": "execute_result"
    }
   ],
   "source": [
    "df_A.Number_of_optimal_allocations_2013.value_counts(dropna=False)"
   ]
  },
  {
   "cell_type": "code",
   "execution_count": 42,
   "metadata": {
    "collapsed": false
   },
   "outputs": [
    {
     "data": {
      "text/plain": [
       "1     28582\n",
       "2      6017\n",
       "3      2678\n",
       "4       623\n",
       "5       274\n",
       "7        38\n",
       "6        31\n",
       "36        4\n",
       "8         2\n",
       "dtype: int64"
      ]
     },
     "execution_count": 42,
     "metadata": {},
     "output_type": "execute_result"
    }
   ],
   "source": [
    "df_A.Number_of_optimal_allocations_2014.value_counts(dropna=False)"
   ]
  },
  {
   "cell_type": "code",
   "execution_count": 43,
   "metadata": {
    "collapsed": true
   },
   "outputs": [],
   "source": []
  },
  {
   "cell_type": "markdown",
   "metadata": {},
   "source": [
    "Parmis les gens qui n'optimisent  pas 1% du reven en 2013 quasi-personne  a changé d'allocation pour ne pas optimiser en 2014 (no-bad switchers, 1% des non optimisateurs 2013, 1.4% des non optimisateurs 2013 et 2014 ).  \n",
    "Parmis les gens qui se sont mis à optimiser à 1% du rev, 69% n'ont pas changé d'allocation, et 31% ont changé d'allocation.  \n",
    "\n",
    "On a 91% des gens qui se sont mis à optimiser et qui ont changé d'allocation qui l'ont fait pour une meilleure allocation et 9% qui ont changé pour une allocation qui n'est toujours pas la bonne. Il faut garder en tête que pour les couples de 1 enfant, si l'on fait l'hytpothèse que les revenus et le système fiscal ne change pas,  puisqu'il n'y a que 2 allocations optimales possibles, 100% des non optimisateurs 2013 qui changent en 2014 tombent sur l'allocation optimale.\n",
    "\n",
    "\n",
    "Les inertes chanceux : Ne changent pas d'allocations, mais se mettent à optimiser. Les inertes chanceux représentent 69% des gens qui se mettent à optimiser, contre 31% des gens qui changent activement pour se mettre à optimiser.\n",
    "\n"
   ]
  },
  {
   "cell_type": "markdown",
   "metadata": {},
   "source": [
    "Conclusion : seul 3.8% du sample change d'allocation optimale. Parmis ces 3.8% de switchers:  \n",
    "- "
   ]
  },
  {
   "cell_type": "code",
   "execution_count": 43,
   "metadata": {
    "collapsed": false
   },
   "outputs": [
    {
     "data": {
      "text/plain": [
       "0.038246184412534995"
      ]
     },
     "execution_count": 43,
     "metadata": {},
     "output_type": "execute_result"
    }
   ],
   "source": [
    "847/22146"
   ]
  },
  {
   "cell_type": "code",
   "execution_count": 44,
   "metadata": {
    "collapsed": false
   },
   "outputs": [
    {
     "data": {
      "text/plain": [
       "0.3105590062111801"
      ]
     },
     "execution_count": 44,
     "metadata": {},
     "output_type": "execute_result"
    }
   ],
   "source": [
    "200/644"
   ]
  },
  {
   "cell_type": "code",
   "execution_count": 45,
   "metadata": {
    "collapsed": false
   },
   "outputs": [
    {
     "name": "stderr",
     "output_type": "stream",
     "text": [
      "C:\\Users\\IMPTEMP_A_PACIFIC\\Desktop\\WinPython-64bit-2.7.10.2\\WinPython-64bit-2.7.10.2\\python-2.7.10.amd64\\lib\\site-packages\\IPython\\kernel\\__main__.py:6: SettingWithCopyWarning: \n",
      "A value is trying to be set on a copy of a slice from a DataFrame.\n",
      "Try using .loc[row_indexer,col_indexer] = value instead\n",
      "\n",
      "See the the caveats in the documentation: http://pandas.pydata.org/pandas-docs/stable/indexing.html#indexing-view-versus-copy\n"
     ]
    }
   ],
   "source": [
    "df_B[\"Switchers\"] =((df_B.Nb_enfants_2013>=1)&(df_B.Nb_enfants_2013==df_B.Nb_enfants_2014) \n",
    "                     &(df_B.Number_of_optimal_allocations_2013 == 1)&(df_B.Number_of_optimal_allocations_2014 == 1)&\n",
    "                   (df_B.Chosen_allocation_2013 != df_B.Chosen_allocation_2014))\n",
    "df_B_diplomas[\"Switchers\"] =((df_B_diplomas.Nb_enfants_2013>=1)&(df_B_diplomas.Nb_enfants_2013==df_B_diplomas.Nb_enfants_2014) \n",
    "                     &(df_B_diplomas.Number_of_optimal_allocations_2013 == 1)&(df_B_diplomas.Number_of_optimal_allocations_2014 == 1)&\n",
    "                   (df_B_diplomas.Chosen_allocation_2013 != df_B_diplomas.Chosen_allocation_2014))\n"
   ]
  },
  {
   "cell_type": "code",
   "execution_count": 46,
   "metadata": {
    "collapsed": false
   },
   "outputs": [
    {
     "name": "stderr",
     "output_type": "stream",
     "text": [
      "C:\\Users\\IMPTEMP_A_PACIFIC\\Desktop\\WinPython-64bit-2.7.10.2\\WinPython-64bit-2.7.10.2\\python-2.7.10.amd64\\lib\\site-packages\\IPython\\kernel\\__main__.py:4: SettingWithCopyWarning: \n",
      "A value is trying to be set on a copy of a slice from a DataFrame.\n",
      "Try using .loc[row_indexer,col_indexer] = value instead\n",
      "\n",
      "See the the caveats in the documentation: http://pandas.pydata.org/pandas-docs/stable/indexing.html#indexing-view-versus-copy\n"
     ]
    }
   ],
   "source": [
    "df_B[\"Non_switchers\"] =((df_B.Nb_enfants_2013>=1)&(df_B.Nb_enfants_2013==df_B.Nb_enfants_2014) \n",
    "                     &(df_B.Number_of_optimal_allocations_2013 == 1)&(df_B.Number_of_optimal_allocations_2014 == 1))\n",
    "df_B_diplomas[\"Non_switchers\"] =((df_B_diplomas.Nb_enfants_2013>=1)&(df_B_diplomas.Nb_enfants_2013==df_B_diplomas.Nb_enfants_2014) \n",
    "                     &(df_B_diplomas.Number_of_optimal_allocations_2013 == 1)&(df_B_diplomas.Number_of_optimal_allocations_2014 == 1))\n"
   ]
  },
  {
   "cell_type": "code",
   "execution_count": 47,
   "metadata": {
    "collapsed": false
   },
   "outputs": [
    {
     "data": {
      "text/html": [
       "<div>\n",
       "<table border=\"1\" class=\"dataframe\">\n",
       "  <thead>\n",
       "    <tr style=\"text-align: right;\">\n",
       "      <th></th>\n",
       "      <th></th>\n",
       "      <th>Switchers</th>\n",
       "      <th>False</th>\n",
       "      <th>True</th>\n",
       "      <th>All</th>\n",
       "    </tr>\n",
       "    <tr>\n",
       "      <th>Do_not_optimize_2013</th>\n",
       "      <th>Do_not_optimize_2014</th>\n",
       "      <th>Same_optimal_allocation_same_family</th>\n",
       "      <th></th>\n",
       "      <th></th>\n",
       "      <th></th>\n",
       "    </tr>\n",
       "  </thead>\n",
       "  <tbody>\n",
       "    <tr>\n",
       "      <th rowspan=\"4\" valign=\"top\">False</th>\n",
       "      <th rowspan=\"2\" valign=\"top\">False</th>\n",
       "      <th>False</th>\n",
       "      <td>0</td>\n",
       "      <td>504</td>\n",
       "      <td>504</td>\n",
       "    </tr>\n",
       "    <tr>\n",
       "      <th>True</th>\n",
       "      <td>15220</td>\n",
       "      <td>0</td>\n",
       "      <td>15220</td>\n",
       "    </tr>\n",
       "    <tr>\n",
       "      <th rowspan=\"2\" valign=\"top\">True</th>\n",
       "      <th>False</th>\n",
       "      <td>1987</td>\n",
       "      <td>23</td>\n",
       "      <td>2010</td>\n",
       "    </tr>\n",
       "    <tr>\n",
       "      <th>True</th>\n",
       "      <td>0</td>\n",
       "      <td>273</td>\n",
       "      <td>273</td>\n",
       "    </tr>\n",
       "    <tr>\n",
       "      <th rowspan=\"4\" valign=\"top\">True</th>\n",
       "      <th rowspan=\"2\" valign=\"top\">False</th>\n",
       "      <th>False</th>\n",
       "      <td>1883</td>\n",
       "      <td>33</td>\n",
       "      <td>1916</td>\n",
       "    </tr>\n",
       "    <tr>\n",
       "      <th>True</th>\n",
       "      <td>0</td>\n",
       "      <td>432</td>\n",
       "      <td>432</td>\n",
       "    </tr>\n",
       "    <tr>\n",
       "      <th rowspan=\"2\" valign=\"top\">True</th>\n",
       "      <th>False</th>\n",
       "      <td>285</td>\n",
       "      <td>93</td>\n",
       "      <td>378</td>\n",
       "    </tr>\n",
       "    <tr>\n",
       "      <th>True</th>\n",
       "      <td>4634</td>\n",
       "      <td>40</td>\n",
       "      <td>4674</td>\n",
       "    </tr>\n",
       "    <tr>\n",
       "      <th>All</th>\n",
       "      <th></th>\n",
       "      <th></th>\n",
       "      <td>24009</td>\n",
       "      <td>1398</td>\n",
       "      <td>25407</td>\n",
       "    </tr>\n",
       "  </tbody>\n",
       "</table>\n",
       "</div>"
      ],
      "text/plain": [
       "Switchers                                                                      False  \\\n",
       "Do_not_optimize_2013 Do_not_optimize_2014 Same_optimal_allocation_same_family          \n",
       "False                False                False                                    0   \n",
       "                                          True                                 15220   \n",
       "                     True                 False                                 1987   \n",
       "                                          True                                     0   \n",
       "True                 False                False                                 1883   \n",
       "                                          True                                     0   \n",
       "                     True                 False                                  285   \n",
       "                                          True                                  4634   \n",
       "All                                                                            24009   \n",
       "\n",
       "Switchers                                                                      True  \\\n",
       "Do_not_optimize_2013 Do_not_optimize_2014 Same_optimal_allocation_same_family         \n",
       "False                False                False                                 504   \n",
       "                                          True                                    0   \n",
       "                     True                 False                                  23   \n",
       "                                          True                                  273   \n",
       "True                 False                False                                  33   \n",
       "                                          True                                  432   \n",
       "                     True                 False                                  93   \n",
       "                                          True                                   40   \n",
       "All                                                                            1398   \n",
       "\n",
       "Switchers                                                                        All  \n",
       "Do_not_optimize_2013 Do_not_optimize_2014 Same_optimal_allocation_same_family         \n",
       "False                False                False                                  504  \n",
       "                                          True                                 15220  \n",
       "                     True                 False                                 2010  \n",
       "                                          True                                   273  \n",
       "True                 False                False                                 1916  \n",
       "                                          True                                   432  \n",
       "                     True                 False                                  378  \n",
       "                                          True                                  4674  \n",
       "All                                                                            25407  "
      ]
     },
     "execution_count": 47,
     "metadata": {},
     "output_type": "execute_result"
    }
   ],
   "source": [
    "df_temp = df_B.query(\"(Number_of_optimal_allocations_2013 == 1) & (Number_of_optimal_allocations_2014 == 1)&(Nb_enfants_2013==Nb_enfants_2014)  \")\n",
    "crosstab = pd.crosstab( [ df_temp.Do_not_optimize_2013, df_temp.Do_not_optimize_2014, df_temp.Same_optimal_allocation_same_family.astype(\"bool\")],\n",
    "                       df_temp.Switchers, margins = True) ; crosstab"
   ]
  },
  {
   "cell_type": "code",
   "execution_count": 48,
   "metadata": {
    "collapsed": false
   },
   "outputs": [
    {
     "data": {
      "text/html": [
       "<div>\n",
       "<table border=\"1\" class=\"dataframe\">\n",
       "  <thead>\n",
       "    <tr style=\"text-align: right;\">\n",
       "      <th></th>\n",
       "      <th></th>\n",
       "      <th>Switchers</th>\n",
       "      <th>False</th>\n",
       "      <th>True</th>\n",
       "      <th>All</th>\n",
       "    </tr>\n",
       "    <tr>\n",
       "      <th>Do_not_optimize_2013</th>\n",
       "      <th>Do_not_optimize_2014</th>\n",
       "      <th>Same_optimal_allocation_same_family</th>\n",
       "      <th></th>\n",
       "      <th></th>\n",
       "      <th></th>\n",
       "    </tr>\n",
       "  </thead>\n",
       "  <tbody>\n",
       "    <tr>\n",
       "      <th rowspan=\"4\" valign=\"top\">False</th>\n",
       "      <th rowspan=\"2\" valign=\"top\">False</th>\n",
       "      <th>False</th>\n",
       "      <td>0</td>\n",
       "      <td>333</td>\n",
       "      <td>333</td>\n",
       "    </tr>\n",
       "    <tr>\n",
       "      <th>True</th>\n",
       "      <td>10323</td>\n",
       "      <td>0</td>\n",
       "      <td>10323</td>\n",
       "    </tr>\n",
       "    <tr>\n",
       "      <th rowspan=\"2\" valign=\"top\">True</th>\n",
       "      <th>False</th>\n",
       "      <td>1373</td>\n",
       "      <td>15</td>\n",
       "      <td>1388</td>\n",
       "    </tr>\n",
       "    <tr>\n",
       "      <th>True</th>\n",
       "      <td>0</td>\n",
       "      <td>184</td>\n",
       "      <td>184</td>\n",
       "    </tr>\n",
       "    <tr>\n",
       "      <th rowspan=\"4\" valign=\"top\">True</th>\n",
       "      <th rowspan=\"2\" valign=\"top\">False</th>\n",
       "      <th>False</th>\n",
       "      <td>1274</td>\n",
       "      <td>22</td>\n",
       "      <td>1296</td>\n",
       "    </tr>\n",
       "    <tr>\n",
       "      <th>True</th>\n",
       "      <td>0</td>\n",
       "      <td>268</td>\n",
       "      <td>268</td>\n",
       "    </tr>\n",
       "    <tr>\n",
       "      <th rowspan=\"2\" valign=\"top\">True</th>\n",
       "      <th>False</th>\n",
       "      <td>204</td>\n",
       "      <td>62</td>\n",
       "      <td>266</td>\n",
       "    </tr>\n",
       "    <tr>\n",
       "      <th>True</th>\n",
       "      <td>3196</td>\n",
       "      <td>31</td>\n",
       "      <td>3227</td>\n",
       "    </tr>\n",
       "    <tr>\n",
       "      <th>All</th>\n",
       "      <th></th>\n",
       "      <th></th>\n",
       "      <td>16370</td>\n",
       "      <td>915</td>\n",
       "      <td>17285</td>\n",
       "    </tr>\n",
       "  </tbody>\n",
       "</table>\n",
       "</div>"
      ],
      "text/plain": [
       "Switchers                                                                      False  \\\n",
       "Do_not_optimize_2013 Do_not_optimize_2014 Same_optimal_allocation_same_family          \n",
       "False                False                False                                    0   \n",
       "                                          True                                 10323   \n",
       "                     True                 False                                 1373   \n",
       "                                          True                                     0   \n",
       "True                 False                False                                 1274   \n",
       "                                          True                                     0   \n",
       "                     True                 False                                  204   \n",
       "                                          True                                  3196   \n",
       "All                                                                            16370   \n",
       "\n",
       "Switchers                                                                      True  \\\n",
       "Do_not_optimize_2013 Do_not_optimize_2014 Same_optimal_allocation_same_family         \n",
       "False                False                False                                 333   \n",
       "                                          True                                    0   \n",
       "                     True                 False                                  15   \n",
       "                                          True                                  184   \n",
       "True                 False                False                                  22   \n",
       "                                          True                                  268   \n",
       "                     True                 False                                  62   \n",
       "                                          True                                   31   \n",
       "All                                                                             915   \n",
       "\n",
       "Switchers                                                                        All  \n",
       "Do_not_optimize_2013 Do_not_optimize_2014 Same_optimal_allocation_same_family         \n",
       "False                False                False                                  333  \n",
       "                                          True                                 10323  \n",
       "                     True                 False                                 1388  \n",
       "                                          True                                   184  \n",
       "True                 False                False                                 1296  \n",
       "                                          True                                   268  \n",
       "                     True                 False                                  266  \n",
       "                                          True                                  3227  \n",
       "All                                                                            17285  "
      ]
     },
     "execution_count": 48,
     "metadata": {},
     "output_type": "execute_result"
    }
   ],
   "source": [
    "df_temp_diplomas = df_B_diplomas.query(\"(Number_of_optimal_allocations_2013 == 1) & (Number_of_optimal_allocations_2014 == 1)&(Nb_enfants_2013==Nb_enfants_2014)  \")\n",
    "crosstab_diplomas = pd.crosstab( [ df_temp_diplomas.Do_not_optimize_2013, df_temp_diplomas.Do_not_optimize_2014, df_temp_diplomas.Same_optimal_allocation_same_family.astype(\"bool\")],\n",
    "                       df_temp_diplomas.Switchers, margins = True) ; crosstab_diplomas"
   ]
  },
  {
   "cell_type": "markdown",
   "metadata": {},
   "source": [
    "Simplified withouth the switcher dimension."
   ]
  },
  {
   "cell_type": "code",
   "execution_count": 49,
   "metadata": {
    "collapsed": false
   },
   "outputs": [
    {
     "data": {
      "text/html": [
       "<div>\n",
       "<table border=\"1\" class=\"dataframe\">\n",
       "  <thead>\n",
       "    <tr style=\"text-align: right;\">\n",
       "      <th></th>\n",
       "      <th>Do_not_optimize_2014</th>\n",
       "      <th>False</th>\n",
       "      <th>True</th>\n",
       "      <th>All</th>\n",
       "    </tr>\n",
       "    <tr>\n",
       "      <th>Do_not_optimize_2013</th>\n",
       "      <th>Same_optimal_allocation_same_family</th>\n",
       "      <th></th>\n",
       "      <th></th>\n",
       "      <th></th>\n",
       "    </tr>\n",
       "  </thead>\n",
       "  <tbody>\n",
       "    <tr>\n",
       "      <th rowspan=\"2\" valign=\"top\">False</th>\n",
       "      <th>False</th>\n",
       "      <td>0</td>\n",
       "      <td>297.549493</td>\n",
       "      <td>237.897566</td>\n",
       "    </tr>\n",
       "    <tr>\n",
       "      <th>True</th>\n",
       "      <td>0</td>\n",
       "      <td>460.374359</td>\n",
       "      <td>8.112193</td>\n",
       "    </tr>\n",
       "    <tr>\n",
       "      <th rowspan=\"2\" valign=\"top\">True</th>\n",
       "      <th>False</th>\n",
       "      <td>0</td>\n",
       "      <td>546.023545</td>\n",
       "      <td>89.972493</td>\n",
       "    </tr>\n",
       "    <tr>\n",
       "      <th>True</th>\n",
       "      <td>0</td>\n",
       "      <td>521.426192</td>\n",
       "      <td>477.310227</td>\n",
       "    </tr>\n",
       "    <tr>\n",
       "      <th>All</th>\n",
       "      <th></th>\n",
       "      <td>0</td>\n",
       "      <td>459.072883</td>\n",
       "      <td>127.114457</td>\n",
       "    </tr>\n",
       "  </tbody>\n",
       "</table>\n",
       "</div>"
      ],
      "text/plain": [
       "Do_not_optimize_2014                                      False        True  \\\n",
       "Do_not_optimize_2013 Same_optimal_allocation_same_family                      \n",
       "False                False                                    0  297.549493   \n",
       "                     True                                     0  460.374359   \n",
       "True                 False                                    0  546.023545   \n",
       "                     True                                     0  521.426192   \n",
       "All                                                           0  459.072883   \n",
       "\n",
       "Do_not_optimize_2014                                             All  \n",
       "Do_not_optimize_2013 Same_optimal_allocation_same_family              \n",
       "False                False                                237.897566  \n",
       "                     True                                   8.112193  \n",
       "True                 False                                 89.972493  \n",
       "                     True                                 477.310227  \n",
       "All                                                       127.114457  "
      ]
     },
     "execution_count": 49,
     "metadata": {},
     "output_type": "execute_result"
    }
   ],
   "source": [
    "df_temp = df_B.query(\"(Number_of_optimal_allocations_2013 == 1) & (Number_of_optimal_allocations_2014 == 1)&(Nb_enfants_2013==Nb_enfants_2014)  \")\n",
    "crosstab = pd.crosstab( [ df_temp.Do_not_optimize_2013, df_temp.Same_optimal_allocation_same_family.astype(\"bool\")],\n",
    "                       df_temp.Do_not_optimize_2014, margins = True, values = df_B.Fiscal_loss_2014, aggfunc = np.mean ) ; crosstab"
   ]
  },
  {
   "cell_type": "markdown",
   "metadata": {},
   "source": [
    "Average"
   ]
  },
  {
   "cell_type": "code",
   "execution_count": 50,
   "metadata": {
    "collapsed": false
   },
   "outputs": [
    {
     "data": {
      "text/html": [
       "<div>\n",
       "<table border=\"1\" class=\"dataframe\">\n",
       "  <thead>\n",
       "    <tr style=\"text-align: right;\">\n",
       "      <th></th>\n",
       "      <th>Do_not_optimize_2014</th>\n",
       "      <th>False</th>\n",
       "      <th>True</th>\n",
       "      <th>All</th>\n",
       "    </tr>\n",
       "    <tr>\n",
       "      <th>Do_not_optimize_2013</th>\n",
       "      <th>Same_optimal_allocation_same_family</th>\n",
       "      <th></th>\n",
       "      <th></th>\n",
       "      <th></th>\n",
       "    </tr>\n",
       "  </thead>\n",
       "  <tbody>\n",
       "    <tr>\n",
       "      <th rowspan=\"2\" valign=\"top\">False</th>\n",
       "      <th>False</th>\n",
       "      <td>0</td>\n",
       "      <td>0.011711</td>\n",
       "      <td>0.009363</td>\n",
       "    </tr>\n",
       "    <tr>\n",
       "      <th>True</th>\n",
       "      <td>0</td>\n",
       "      <td>0.018120</td>\n",
       "      <td>0.000319</td>\n",
       "    </tr>\n",
       "    <tr>\n",
       "      <th rowspan=\"2\" valign=\"top\">True</th>\n",
       "      <th>False</th>\n",
       "      <td>0</td>\n",
       "      <td>0.021491</td>\n",
       "      <td>0.003541</td>\n",
       "    </tr>\n",
       "    <tr>\n",
       "      <th>True</th>\n",
       "      <td>0</td>\n",
       "      <td>0.020523</td>\n",
       "      <td>0.018787</td>\n",
       "    </tr>\n",
       "    <tr>\n",
       "      <th>All</th>\n",
       "      <th></th>\n",
       "      <td>0</td>\n",
       "      <td>0.018069</td>\n",
       "      <td>0.005003</td>\n",
       "    </tr>\n",
       "  </tbody>\n",
       "</table>\n",
       "</div>"
      ],
      "text/plain": [
       "Do_not_optimize_2014                                      False      True  \\\n",
       "Do_not_optimize_2013 Same_optimal_allocation_same_family                    \n",
       "False                False                                    0  0.011711   \n",
       "                     True                                     0  0.018120   \n",
       "True                 False                                    0  0.021491   \n",
       "                     True                                     0  0.020523   \n",
       "All                                                           0  0.018069   \n",
       "\n",
       "Do_not_optimize_2014                                           All  \n",
       "Do_not_optimize_2013 Same_optimal_allocation_same_family            \n",
       "False                False                                0.009363  \n",
       "                     True                                 0.000319  \n",
       "True                 False                                0.003541  \n",
       "                     True                                 0.018787  \n",
       "All                                                       0.005003  "
      ]
     },
     "execution_count": 50,
     "metadata": {},
     "output_type": "execute_result"
    }
   ],
   "source": [
    "crosstab/len(df_temp)"
   ]
  },
  {
   "cell_type": "code",
   "execution_count": 51,
   "metadata": {
    "collapsed": false
   },
   "outputs": [
    {
     "data": {
      "text/html": [
       "<div>\n",
       "<table border=\"1\" class=\"dataframe\">\n",
       "  <thead>\n",
       "    <tr style=\"text-align: right;\">\n",
       "      <th></th>\n",
       "      <th></th>\n",
       "      <th>Switchers</th>\n",
       "      <th>False</th>\n",
       "      <th>True</th>\n",
       "      <th>All</th>\n",
       "    </tr>\n",
       "    <tr>\n",
       "      <th>Do_not_optimize_2013</th>\n",
       "      <th>Do_not_optimize_2014</th>\n",
       "      <th>Same_optimal_allocation_same_family</th>\n",
       "      <th></th>\n",
       "      <th></th>\n",
       "      <th></th>\n",
       "    </tr>\n",
       "  </thead>\n",
       "  <tbody>\n",
       "    <tr>\n",
       "      <th rowspan=\"4\" valign=\"top\">False</th>\n",
       "      <th rowspan=\"2\" valign=\"top\">False</th>\n",
       "      <th>False</th>\n",
       "      <td>0.000000</td>\n",
       "      <td>0.019265</td>\n",
       "      <td>0.019265</td>\n",
       "    </tr>\n",
       "    <tr>\n",
       "      <th>True</th>\n",
       "      <td>0.597223</td>\n",
       "      <td>0.000000</td>\n",
       "      <td>0.597223</td>\n",
       "    </tr>\n",
       "    <tr>\n",
       "      <th rowspan=\"2\" valign=\"top\">True</th>\n",
       "      <th>False</th>\n",
       "      <td>0.079433</td>\n",
       "      <td>0.000868</td>\n",
       "      <td>0.080301</td>\n",
       "    </tr>\n",
       "    <tr>\n",
       "      <th>True</th>\n",
       "      <td>0.000000</td>\n",
       "      <td>0.010645</td>\n",
       "      <td>0.010645</td>\n",
       "    </tr>\n",
       "    <tr>\n",
       "      <th rowspan=\"4\" valign=\"top\">True</th>\n",
       "      <th rowspan=\"2\" valign=\"top\">False</th>\n",
       "      <th>False</th>\n",
       "      <td>0.073706</td>\n",
       "      <td>0.001273</td>\n",
       "      <td>0.074978</td>\n",
       "    </tr>\n",
       "    <tr>\n",
       "      <th>True</th>\n",
       "      <td>0.000000</td>\n",
       "      <td>0.015505</td>\n",
       "      <td>0.015505</td>\n",
       "    </tr>\n",
       "    <tr>\n",
       "      <th rowspan=\"2\" valign=\"top\">True</th>\n",
       "      <th>False</th>\n",
       "      <td>0.011802</td>\n",
       "      <td>0.003587</td>\n",
       "      <td>0.015389</td>\n",
       "    </tr>\n",
       "    <tr>\n",
       "      <th>True</th>\n",
       "      <td>0.184900</td>\n",
       "      <td>0.001793</td>\n",
       "      <td>0.186694</td>\n",
       "    </tr>\n",
       "    <tr>\n",
       "      <th>All</th>\n",
       "      <th></th>\n",
       "      <th></th>\n",
       "      <td>0.947064</td>\n",
       "      <td>0.052936</td>\n",
       "      <td>1.000000</td>\n",
       "    </tr>\n",
       "  </tbody>\n",
       "</table>\n",
       "</div>"
      ],
      "text/plain": [
       "Switchers                                                                         False  \\\n",
       "Do_not_optimize_2013 Do_not_optimize_2014 Same_optimal_allocation_same_family             \n",
       "False                False                False                                0.000000   \n",
       "                                          True                                 0.597223   \n",
       "                     True                 False                                0.079433   \n",
       "                                          True                                 0.000000   \n",
       "True                 False                False                                0.073706   \n",
       "                                          True                                 0.000000   \n",
       "                     True                 False                                0.011802   \n",
       "                                          True                                 0.184900   \n",
       "All                                                                            0.947064   \n",
       "\n",
       "Switchers                                                                          True  \\\n",
       "Do_not_optimize_2013 Do_not_optimize_2014 Same_optimal_allocation_same_family             \n",
       "False                False                False                                0.019265   \n",
       "                                          True                                 0.000000   \n",
       "                     True                 False                                0.000868   \n",
       "                                          True                                 0.010645   \n",
       "True                 False                False                                0.001273   \n",
       "                                          True                                 0.015505   \n",
       "                     True                 False                                0.003587   \n",
       "                                          True                                 0.001793   \n",
       "All                                                                            0.052936   \n",
       "\n",
       "Switchers                                                                           All  \n",
       "Do_not_optimize_2013 Do_not_optimize_2014 Same_optimal_allocation_same_family            \n",
       "False                False                False                                0.019265  \n",
       "                                          True                                 0.597223  \n",
       "                     True                 False                                0.080301  \n",
       "                                          True                                 0.010645  \n",
       "True                 False                False                                0.074978  \n",
       "                                          True                                 0.015505  \n",
       "                     True                 False                                0.015389  \n",
       "                                          True                                 0.186694  \n",
       "All                                                                            1.000000  "
      ]
     },
     "execution_count": 51,
     "metadata": {},
     "output_type": "execute_result"
    }
   ],
   "source": [
    "crosstab_diplomas/len(df_temp_diplomas)"
   ]
  },
  {
   "cell_type": "code",
   "execution_count": 52,
   "metadata": {
    "collapsed": true
   },
   "outputs": [],
   "source": [
    "from IPython.display import display"
   ]
  },
  {
   "cell_type": "code",
   "execution_count": 53,
   "metadata": {
    "collapsed": false,
    "scrolled": false
   },
   "outputs": [
    {
     "name": "stdout",
     "output_type": "stream",
     "text": [
      "1 children\n"
     ]
    },
    {
     "data": {
      "text/html": [
       "<div>\n",
       "<table border=\"1\" class=\"dataframe\">\n",
       "  <thead>\n",
       "    <tr style=\"text-align: right;\">\n",
       "      <th></th>\n",
       "      <th></th>\n",
       "      <th>Switchers</th>\n",
       "      <th>False</th>\n",
       "      <th>True</th>\n",
       "      <th>All</th>\n",
       "    </tr>\n",
       "    <tr>\n",
       "      <th>Do_not_optimize_2013</th>\n",
       "      <th>Do_not_optimize_2014</th>\n",
       "      <th>Same_optimal_allocation_same_family</th>\n",
       "      <th></th>\n",
       "      <th></th>\n",
       "      <th></th>\n",
       "    </tr>\n",
       "  </thead>\n",
       "  <tbody>\n",
       "    <tr>\n",
       "      <th rowspan=\"4\" valign=\"top\">False</th>\n",
       "      <th rowspan=\"2\" valign=\"top\">False</th>\n",
       "      <th>False</th>\n",
       "      <td>0</td>\n",
       "      <td>248</td>\n",
       "      <td>248</td>\n",
       "    </tr>\n",
       "    <tr>\n",
       "      <th>True</th>\n",
       "      <td>9128</td>\n",
       "      <td>0</td>\n",
       "      <td>9128</td>\n",
       "    </tr>\n",
       "    <tr>\n",
       "      <th rowspan=\"2\" valign=\"top\">True</th>\n",
       "      <th>False</th>\n",
       "      <td>1025</td>\n",
       "      <td>0</td>\n",
       "      <td>1025</td>\n",
       "    </tr>\n",
       "    <tr>\n",
       "      <th>True</th>\n",
       "      <td>0</td>\n",
       "      <td>149</td>\n",
       "      <td>149</td>\n",
       "    </tr>\n",
       "    <tr>\n",
       "      <th rowspan=\"4\" valign=\"top\">True</th>\n",
       "      <th rowspan=\"2\" valign=\"top\">False</th>\n",
       "      <th>False</th>\n",
       "      <td>1084</td>\n",
       "      <td>0</td>\n",
       "      <td>1084</td>\n",
       "    </tr>\n",
       "    <tr>\n",
       "      <th>True</th>\n",
       "      <td>0</td>\n",
       "      <td>224</td>\n",
       "      <td>224</td>\n",
       "    </tr>\n",
       "    <tr>\n",
       "      <th rowspan=\"2\" valign=\"top\">True</th>\n",
       "      <th>False</th>\n",
       "      <td>0</td>\n",
       "      <td>37</td>\n",
       "      <td>37</td>\n",
       "    </tr>\n",
       "    <tr>\n",
       "      <th>True</th>\n",
       "      <td>2353</td>\n",
       "      <td>0</td>\n",
       "      <td>2353</td>\n",
       "    </tr>\n",
       "    <tr>\n",
       "      <th>All</th>\n",
       "      <th></th>\n",
       "      <th></th>\n",
       "      <td>13590</td>\n",
       "      <td>658</td>\n",
       "      <td>14248</td>\n",
       "    </tr>\n",
       "  </tbody>\n",
       "</table>\n",
       "</div>"
      ],
      "text/plain": [
       "Switchers                                                                      False  \\\n",
       "Do_not_optimize_2013 Do_not_optimize_2014 Same_optimal_allocation_same_family          \n",
       "False                False                False                                    0   \n",
       "                                          True                                  9128   \n",
       "                     True                 False                                 1025   \n",
       "                                          True                                     0   \n",
       "True                 False                False                                 1084   \n",
       "                                          True                                     0   \n",
       "                     True                 False                                    0   \n",
       "                                          True                                  2353   \n",
       "All                                                                            13590   \n",
       "\n",
       "Switchers                                                                      True  \\\n",
       "Do_not_optimize_2013 Do_not_optimize_2014 Same_optimal_allocation_same_family         \n",
       "False                False                False                                 248   \n",
       "                                          True                                    0   \n",
       "                     True                 False                                   0   \n",
       "                                          True                                  149   \n",
       "True                 False                False                                   0   \n",
       "                                          True                                  224   \n",
       "                     True                 False                                  37   \n",
       "                                          True                                    0   \n",
       "All                                                                             658   \n",
       "\n",
       "Switchers                                                                        All  \n",
       "Do_not_optimize_2013 Do_not_optimize_2014 Same_optimal_allocation_same_family         \n",
       "False                False                False                                  248  \n",
       "                                          True                                  9128  \n",
       "                     True                 False                                 1025  \n",
       "                                          True                                   149  \n",
       "True                 False                False                                 1084  \n",
       "                                          True                                   224  \n",
       "                     True                 False                                   37  \n",
       "                                          True                                  2353  \n",
       "All                                                                            14248  "
      ]
     },
     "metadata": {},
     "output_type": "display_data"
    },
    {
     "name": "stdout",
     "output_type": "stream",
     "text": [
      "2 children\n"
     ]
    },
    {
     "data": {
      "text/html": [
       "<div>\n",
       "<table border=\"1\" class=\"dataframe\">\n",
       "  <thead>\n",
       "    <tr style=\"text-align: right;\">\n",
       "      <th></th>\n",
       "      <th></th>\n",
       "      <th>Switchers</th>\n",
       "      <th>False</th>\n",
       "      <th>True</th>\n",
       "      <th>All</th>\n",
       "    </tr>\n",
       "    <tr>\n",
       "      <th>Do_not_optimize_2013</th>\n",
       "      <th>Do_not_optimize_2014</th>\n",
       "      <th>Same_optimal_allocation_same_family</th>\n",
       "      <th></th>\n",
       "      <th></th>\n",
       "      <th></th>\n",
       "    </tr>\n",
       "  </thead>\n",
       "  <tbody>\n",
       "    <tr>\n",
       "      <th rowspan=\"4\" valign=\"top\">False</th>\n",
       "      <th rowspan=\"2\" valign=\"top\">False</th>\n",
       "      <th>False</th>\n",
       "      <td>0</td>\n",
       "      <td>234</td>\n",
       "      <td>234</td>\n",
       "    </tr>\n",
       "    <tr>\n",
       "      <th>True</th>\n",
       "      <td>5613</td>\n",
       "      <td>0</td>\n",
       "      <td>5613</td>\n",
       "    </tr>\n",
       "    <tr>\n",
       "      <th rowspan=\"2\" valign=\"top\">True</th>\n",
       "      <th>False</th>\n",
       "      <td>918</td>\n",
       "      <td>20</td>\n",
       "      <td>938</td>\n",
       "    </tr>\n",
       "    <tr>\n",
       "      <th>True</th>\n",
       "      <td>0</td>\n",
       "      <td>116</td>\n",
       "      <td>116</td>\n",
       "    </tr>\n",
       "    <tr>\n",
       "      <th rowspan=\"4\" valign=\"top\">True</th>\n",
       "      <th rowspan=\"2\" valign=\"top\">False</th>\n",
       "      <th>False</th>\n",
       "      <td>765</td>\n",
       "      <td>30</td>\n",
       "      <td>795</td>\n",
       "    </tr>\n",
       "    <tr>\n",
       "      <th>True</th>\n",
       "      <td>0</td>\n",
       "      <td>189</td>\n",
       "      <td>189</td>\n",
       "    </tr>\n",
       "    <tr>\n",
       "      <th rowspan=\"2\" valign=\"top\">True</th>\n",
       "      <th>False</th>\n",
       "      <td>262</td>\n",
       "      <td>50</td>\n",
       "      <td>312</td>\n",
       "    </tr>\n",
       "    <tr>\n",
       "      <th>True</th>\n",
       "      <td>2098</td>\n",
       "      <td>35</td>\n",
       "      <td>2133</td>\n",
       "    </tr>\n",
       "    <tr>\n",
       "      <th>All</th>\n",
       "      <th></th>\n",
       "      <th></th>\n",
       "      <td>9656</td>\n",
       "      <td>674</td>\n",
       "      <td>10330</td>\n",
       "    </tr>\n",
       "  </tbody>\n",
       "</table>\n",
       "</div>"
      ],
      "text/plain": [
       "Switchers                                                                      False  \\\n",
       "Do_not_optimize_2013 Do_not_optimize_2014 Same_optimal_allocation_same_family          \n",
       "False                False                False                                    0   \n",
       "                                          True                                  5613   \n",
       "                     True                 False                                  918   \n",
       "                                          True                                     0   \n",
       "True                 False                False                                  765   \n",
       "                                          True                                     0   \n",
       "                     True                 False                                  262   \n",
       "                                          True                                  2098   \n",
       "All                                                                             9656   \n",
       "\n",
       "Switchers                                                                      True  \\\n",
       "Do_not_optimize_2013 Do_not_optimize_2014 Same_optimal_allocation_same_family         \n",
       "False                False                False                                 234   \n",
       "                                          True                                    0   \n",
       "                     True                 False                                  20   \n",
       "                                          True                                  116   \n",
       "True                 False                False                                  30   \n",
       "                                          True                                  189   \n",
       "                     True                 False                                  50   \n",
       "                                          True                                   35   \n",
       "All                                                                             674   \n",
       "\n",
       "Switchers                                                                        All  \n",
       "Do_not_optimize_2013 Do_not_optimize_2014 Same_optimal_allocation_same_family         \n",
       "False                False                False                                  234  \n",
       "                                          True                                  5613  \n",
       "                     True                 False                                  938  \n",
       "                                          True                                   116  \n",
       "True                 False                False                                  795  \n",
       "                                          True                                   189  \n",
       "                     True                 False                                  312  \n",
       "                                          True                                  2133  \n",
       "All                                                                            10330  "
      ]
     },
     "metadata": {},
     "output_type": "display_data"
    },
    {
     "name": "stdout",
     "output_type": "stream",
     "text": [
      "3 children\n"
     ]
    },
    {
     "data": {
      "text/html": [
       "<div>\n",
       "<table border=\"1\" class=\"dataframe\">\n",
       "  <thead>\n",
       "    <tr style=\"text-align: right;\">\n",
       "      <th></th>\n",
       "      <th></th>\n",
       "      <th>Switchers</th>\n",
       "      <th>False</th>\n",
       "      <th>True</th>\n",
       "      <th>All</th>\n",
       "    </tr>\n",
       "    <tr>\n",
       "      <th>Do_not_optimize_2013</th>\n",
       "      <th>Do_not_optimize_2014</th>\n",
       "      <th>Same_optimal_allocation_same_family</th>\n",
       "      <th></th>\n",
       "      <th></th>\n",
       "      <th></th>\n",
       "    </tr>\n",
       "  </thead>\n",
       "  <tbody>\n",
       "    <tr>\n",
       "      <th rowspan=\"4\" valign=\"top\">False</th>\n",
       "      <th rowspan=\"2\" valign=\"top\">False</th>\n",
       "      <th>False</th>\n",
       "      <td>0</td>\n",
       "      <td>21</td>\n",
       "      <td>21</td>\n",
       "    </tr>\n",
       "    <tr>\n",
       "      <th>True</th>\n",
       "      <td>463</td>\n",
       "      <td>0</td>\n",
       "      <td>463</td>\n",
       "    </tr>\n",
       "    <tr>\n",
       "      <th rowspan=\"2\" valign=\"top\">True</th>\n",
       "      <th>False</th>\n",
       "      <td>42</td>\n",
       "      <td>2</td>\n",
       "      <td>44</td>\n",
       "    </tr>\n",
       "    <tr>\n",
       "      <th>True</th>\n",
       "      <td>0</td>\n",
       "      <td>8</td>\n",
       "      <td>8</td>\n",
       "    </tr>\n",
       "    <tr>\n",
       "      <th rowspan=\"4\" valign=\"top\">True</th>\n",
       "      <th rowspan=\"2\" valign=\"top\">False</th>\n",
       "      <th>False</th>\n",
       "      <td>32</td>\n",
       "      <td>3</td>\n",
       "      <td>35</td>\n",
       "    </tr>\n",
       "    <tr>\n",
       "      <th>True</th>\n",
       "      <td>0</td>\n",
       "      <td>19</td>\n",
       "      <td>19</td>\n",
       "    </tr>\n",
       "    <tr>\n",
       "      <th rowspan=\"2\" valign=\"top\">True</th>\n",
       "      <th>False</th>\n",
       "      <td>12</td>\n",
       "      <td>5</td>\n",
       "      <td>17</td>\n",
       "    </tr>\n",
       "    <tr>\n",
       "      <th>True</th>\n",
       "      <td>131</td>\n",
       "      <td>5</td>\n",
       "      <td>136</td>\n",
       "    </tr>\n",
       "    <tr>\n",
       "      <th>All</th>\n",
       "      <th></th>\n",
       "      <th></th>\n",
       "      <td>680</td>\n",
       "      <td>63</td>\n",
       "      <td>743</td>\n",
       "    </tr>\n",
       "  </tbody>\n",
       "</table>\n",
       "</div>"
      ],
      "text/plain": [
       "Switchers                                                                      False  \\\n",
       "Do_not_optimize_2013 Do_not_optimize_2014 Same_optimal_allocation_same_family          \n",
       "False                False                False                                    0   \n",
       "                                          True                                   463   \n",
       "                     True                 False                                   42   \n",
       "                                          True                                     0   \n",
       "True                 False                False                                   32   \n",
       "                                          True                                     0   \n",
       "                     True                 False                                   12   \n",
       "                                          True                                   131   \n",
       "All                                                                              680   \n",
       "\n",
       "Switchers                                                                      True  \\\n",
       "Do_not_optimize_2013 Do_not_optimize_2014 Same_optimal_allocation_same_family         \n",
       "False                False                False                                  21   \n",
       "                                          True                                    0   \n",
       "                     True                 False                                   2   \n",
       "                                          True                                    8   \n",
       "True                 False                False                                   3   \n",
       "                                          True                                   19   \n",
       "                     True                 False                                   5   \n",
       "                                          True                                    5   \n",
       "All                                                                              63   \n",
       "\n",
       "Switchers                                                                      All  \n",
       "Do_not_optimize_2013 Do_not_optimize_2014 Same_optimal_allocation_same_family       \n",
       "False                False                False                                 21  \n",
       "                                          True                                 463  \n",
       "                     True                 False                                 44  \n",
       "                                          True                                   8  \n",
       "True                 False                False                                 35  \n",
       "                                          True                                  19  \n",
       "                     True                 False                                 17  \n",
       "                                          True                                 136  \n",
       "All                                                                            743  "
      ]
     },
     "metadata": {},
     "output_type": "display_data"
    },
    {
     "name": "stdout",
     "output_type": "stream",
     "text": [
      "4 children\n"
     ]
    },
    {
     "data": {
      "text/html": [
       "<div>\n",
       "<table border=\"1\" class=\"dataframe\">\n",
       "  <thead>\n",
       "    <tr style=\"text-align: right;\">\n",
       "      <th></th>\n",
       "      <th></th>\n",
       "      <th>Switchers</th>\n",
       "      <th>False</th>\n",
       "      <th>True</th>\n",
       "      <th>All</th>\n",
       "    </tr>\n",
       "    <tr>\n",
       "      <th>Do_not_optimize_2013</th>\n",
       "      <th>Do_not_optimize_2014</th>\n",
       "      <th>Same_optimal_allocation_same_family</th>\n",
       "      <th></th>\n",
       "      <th></th>\n",
       "      <th></th>\n",
       "    </tr>\n",
       "  </thead>\n",
       "  <tbody>\n",
       "    <tr>\n",
       "      <th rowspan=\"3\" valign=\"top\">False</th>\n",
       "      <th rowspan=\"2\" valign=\"top\">False</th>\n",
       "      <th>False</th>\n",
       "      <td>0</td>\n",
       "      <td>1</td>\n",
       "      <td>1</td>\n",
       "    </tr>\n",
       "    <tr>\n",
       "      <th>True</th>\n",
       "      <td>15</td>\n",
       "      <td>0</td>\n",
       "      <td>15</td>\n",
       "    </tr>\n",
       "    <tr>\n",
       "      <th>True</th>\n",
       "      <th>False</th>\n",
       "      <td>2</td>\n",
       "      <td>1</td>\n",
       "      <td>3</td>\n",
       "    </tr>\n",
       "    <tr>\n",
       "      <th rowspan=\"3\" valign=\"top\">True</th>\n",
       "      <th>False</th>\n",
       "      <th>False</th>\n",
       "      <td>2</td>\n",
       "      <td>0</td>\n",
       "      <td>2</td>\n",
       "    </tr>\n",
       "    <tr>\n",
       "      <th rowspan=\"2\" valign=\"top\">True</th>\n",
       "      <th>False</th>\n",
       "      <td>11</td>\n",
       "      <td>0</td>\n",
       "      <td>11</td>\n",
       "    </tr>\n",
       "    <tr>\n",
       "      <th>True</th>\n",
       "      <td>52</td>\n",
       "      <td>0</td>\n",
       "      <td>52</td>\n",
       "    </tr>\n",
       "    <tr>\n",
       "      <th>All</th>\n",
       "      <th></th>\n",
       "      <th></th>\n",
       "      <td>82</td>\n",
       "      <td>2</td>\n",
       "      <td>84</td>\n",
       "    </tr>\n",
       "  </tbody>\n",
       "</table>\n",
       "</div>"
      ],
      "text/plain": [
       "Switchers                                                                      False  \\\n",
       "Do_not_optimize_2013 Do_not_optimize_2014 Same_optimal_allocation_same_family          \n",
       "False                False                False                                    0   \n",
       "                                          True                                    15   \n",
       "                     True                 False                                    2   \n",
       "True                 False                False                                    2   \n",
       "                     True                 False                                   11   \n",
       "                                          True                                    52   \n",
       "All                                                                               82   \n",
       "\n",
       "Switchers                                                                      True  \\\n",
       "Do_not_optimize_2013 Do_not_optimize_2014 Same_optimal_allocation_same_family         \n",
       "False                False                False                                   1   \n",
       "                                          True                                    0   \n",
       "                     True                 False                                   1   \n",
       "True                 False                False                                   0   \n",
       "                     True                 False                                   0   \n",
       "                                          True                                    0   \n",
       "All                                                                               2   \n",
       "\n",
       "Switchers                                                                      All  \n",
       "Do_not_optimize_2013 Do_not_optimize_2014 Same_optimal_allocation_same_family       \n",
       "False                False                False                                  1  \n",
       "                                          True                                  15  \n",
       "                     True                 False                                  3  \n",
       "True                 False                False                                  2  \n",
       "                     True                 False                                 11  \n",
       "                                          True                                  52  \n",
       "All                                                                             84  "
      ]
     },
     "metadata": {},
     "output_type": "display_data"
    },
    {
     "name": "stdout",
     "output_type": "stream",
     "text": [
      "5 children\n"
     ]
    },
    {
     "data": {
      "text/html": [
       "<div>\n",
       "<table border=\"1\" class=\"dataframe\">\n",
       "  <thead>\n",
       "    <tr style=\"text-align: right;\">\n",
       "      <th></th>\n",
       "      <th></th>\n",
       "      <th>Switchers</th>\n",
       "      <th>False</th>\n",
       "      <th>True</th>\n",
       "      <th>All</th>\n",
       "    </tr>\n",
       "    <tr>\n",
       "      <th>Do_not_optimize_2013</th>\n",
       "      <th>Do_not_optimize_2014</th>\n",
       "      <th>Same_optimal_allocation_same_family</th>\n",
       "      <th></th>\n",
       "      <th></th>\n",
       "      <th></th>\n",
       "    </tr>\n",
       "  </thead>\n",
       "  <tbody>\n",
       "    <tr>\n",
       "      <th>False</th>\n",
       "      <th>False</th>\n",
       "      <th>True</th>\n",
       "      <td>1</td>\n",
       "      <td>0</td>\n",
       "      <td>1</td>\n",
       "    </tr>\n",
       "    <tr>\n",
       "      <th>True</th>\n",
       "      <th>True</th>\n",
       "      <th>False</th>\n",
       "      <td>0</td>\n",
       "      <td>1</td>\n",
       "      <td>1</td>\n",
       "    </tr>\n",
       "    <tr>\n",
       "      <th>All</th>\n",
       "      <th></th>\n",
       "      <th></th>\n",
       "      <td>1</td>\n",
       "      <td>1</td>\n",
       "      <td>2</td>\n",
       "    </tr>\n",
       "  </tbody>\n",
       "</table>\n",
       "</div>"
      ],
      "text/plain": [
       "Switchers                                                                      False  \\\n",
       "Do_not_optimize_2013 Do_not_optimize_2014 Same_optimal_allocation_same_family          \n",
       "False                False                True                                     1   \n",
       "True                 True                 False                                    0   \n",
       "All                                                                                1   \n",
       "\n",
       "Switchers                                                                      True  \\\n",
       "Do_not_optimize_2013 Do_not_optimize_2014 Same_optimal_allocation_same_family         \n",
       "False                False                True                                    0   \n",
       "True                 True                 False                                   1   \n",
       "All                                                                               1   \n",
       "\n",
       "Switchers                                                                      All  \n",
       "Do_not_optimize_2013 Do_not_optimize_2014 Same_optimal_allocation_same_family       \n",
       "False                False                True                                   1  \n",
       "True                 True                 False                                  1  \n",
       "All                                                                              2  "
      ]
     },
     "metadata": {},
     "output_type": "display_data"
    }
   ],
   "source": [
    "for child in range(1,6):\n",
    "    df_temp = df_B.query(\"(Number_of_optimal_allocations_2013 == 1) & (Number_of_optimal_allocations_2014 == 1)&(Nb_enfants_2013==Nb_enfants_2014)  \")\n",
    "    df_temp = df_temp.query(\"Nb_enfants_2013 == {}\".format(child))\n",
    "    crosstab = pd.crosstab( [ df_temp.Do_not_optimize_2013, df_temp.Do_not_optimize_2014, df_temp.Same_optimal_allocation_same_family.astype(\"bool\")],\n",
    "                           df_temp.Switchers, margins = True) ; \n",
    "    print(\"{} children\".format(child))\n",
    "    display(crosstab)"
   ]
  },
  {
   "cell_type": "code",
   "execution_count": 54,
   "metadata": {
    "collapsed": true
   },
   "outputs": [],
   "source": [
    "df_B[\"Take_it\"] = ~df_B.Do_not_optimize_2014"
   ]
  },
  {
   "cell_type": "code",
   "execution_count": 55,
   "metadata": {
    "collapsed": false
   },
   "outputs": [
    {
     "data": {
      "text/html": [
       "<div>\n",
       "<table border=\"1\" class=\"dataframe\">\n",
       "  <thead>\n",
       "    <tr style=\"text-align: right;\">\n",
       "      <th></th>\n",
       "      <th></th>\n",
       "      <th>Switchers</th>\n",
       "      <th>False</th>\n",
       "      <th>True</th>\n",
       "      <th>All</th>\n",
       "    </tr>\n",
       "    <tr>\n",
       "      <th>Do_not_optimize_2013</th>\n",
       "      <th>Same_optimal_allocation_same_family</th>\n",
       "      <th>Take_it</th>\n",
       "      <th></th>\n",
       "      <th></th>\n",
       "      <th></th>\n",
       "    </tr>\n",
       "  </thead>\n",
       "  <tbody>\n",
       "    <tr>\n",
       "      <th rowspan=\"4\" valign=\"top\">False</th>\n",
       "      <th rowspan=\"2\" valign=\"top\">False</th>\n",
       "      <th>False</th>\n",
       "      <td>1987</td>\n",
       "      <td>23</td>\n",
       "      <td>2010</td>\n",
       "    </tr>\n",
       "    <tr>\n",
       "      <th>True</th>\n",
       "      <td>0</td>\n",
       "      <td>504</td>\n",
       "      <td>504</td>\n",
       "    </tr>\n",
       "    <tr>\n",
       "      <th rowspan=\"2\" valign=\"top\">True</th>\n",
       "      <th>False</th>\n",
       "      <td>0</td>\n",
       "      <td>273</td>\n",
       "      <td>273</td>\n",
       "    </tr>\n",
       "    <tr>\n",
       "      <th>True</th>\n",
       "      <td>15220</td>\n",
       "      <td>0</td>\n",
       "      <td>15220</td>\n",
       "    </tr>\n",
       "    <tr>\n",
       "      <th rowspan=\"4\" valign=\"top\">True</th>\n",
       "      <th rowspan=\"2\" valign=\"top\">False</th>\n",
       "      <th>False</th>\n",
       "      <td>285</td>\n",
       "      <td>93</td>\n",
       "      <td>378</td>\n",
       "    </tr>\n",
       "    <tr>\n",
       "      <th>True</th>\n",
       "      <td>1883</td>\n",
       "      <td>33</td>\n",
       "      <td>1916</td>\n",
       "    </tr>\n",
       "    <tr>\n",
       "      <th rowspan=\"2\" valign=\"top\">True</th>\n",
       "      <th>False</th>\n",
       "      <td>4634</td>\n",
       "      <td>40</td>\n",
       "      <td>4674</td>\n",
       "    </tr>\n",
       "    <tr>\n",
       "      <th>True</th>\n",
       "      <td>0</td>\n",
       "      <td>432</td>\n",
       "      <td>432</td>\n",
       "    </tr>\n",
       "    <tr>\n",
       "      <th>All</th>\n",
       "      <th></th>\n",
       "      <th></th>\n",
       "      <td>24009</td>\n",
       "      <td>1398</td>\n",
       "      <td>25407</td>\n",
       "    </tr>\n",
       "  </tbody>\n",
       "</table>\n",
       "</div>"
      ],
      "text/plain": [
       "Switchers                                                         False  True  \\\n",
       "Do_not_optimize_2013 Same_optimal_allocation_same_family Take_it                \n",
       "False                False                               False     1987    23   \n",
       "                                                         True         0   504   \n",
       "                     True                                False        0   273   \n",
       "                                                         True     15220     0   \n",
       "True                 False                               False      285    93   \n",
       "                                                         True      1883    33   \n",
       "                     True                                False     4634    40   \n",
       "                                                         True         0   432   \n",
       "All                                                               24009  1398   \n",
       "\n",
       "Switchers                                                           All  \n",
       "Do_not_optimize_2013 Same_optimal_allocation_same_family Take_it         \n",
       "False                False                               False     2010  \n",
       "                                                         True       504  \n",
       "                     True                                False      273  \n",
       "                                                         True     15220  \n",
       "True                 False                               False      378  \n",
       "                                                         True      1916  \n",
       "                     True                                False     4674  \n",
       "                                                         True       432  \n",
       "All                                                               25407  "
      ]
     },
     "execution_count": 55,
     "metadata": {},
     "output_type": "execute_result"
    }
   ],
   "source": [
    "df_temp = df_B.query(\"(Number_of_optimal_allocations_2013 == 1) & (Number_of_optimal_allocations_2014 == 1)&(Nb_enfants_2013==Nb_enfants_2014)  \")\n",
    "crosstab = pd.crosstab( [ df_temp.Do_not_optimize_2013, \n",
    "                         df_temp.Same_optimal_allocation_same_family.astype(\"bool\"),\n",
    "                         df_temp.Take_it,],\n",
    "                       df_temp.Switchers, margins = True) ; crosstab"
   ]
  },
  {
   "cell_type": "code",
   "execution_count": 56,
   "metadata": {
    "collapsed": false
   },
   "outputs": [],
   "source": [
    "crosstab_dict = {\"all\":crosstab}"
   ]
  },
  {
   "cell_type": "code",
   "execution_count": 57,
   "metadata": {
    "collapsed": true
   },
   "outputs": [],
   "source": []
  },
  {
   "cell_type": "code",
   "execution_count": 57,
   "metadata": {
    "collapsed": false
   },
   "outputs": [
    {
     "name": "stdout",
     "output_type": "stream",
     "text": [
      "False    13590\n",
      "True       658\n",
      "dtype: int64\n",
      "False    9656\n",
      "True      674\n",
      "dtype: int64\n",
      "False    680\n",
      "True      63\n",
      "dtype: int64\n",
      "False    82\n",
      "True      2\n",
      "dtype: int64\n",
      "True     1\n",
      "False    1\n",
      "dtype: int64\n"
     ]
    }
   ],
   "source": [
    "for child in range(1,6):\n",
    "    df_temp = df_B.query(\"(Number_of_optimal_allocations_2013 == 1) & (Number_of_optimal_allocations_2014 == 1)\"\n",
    "                         +\"&(Nb_enfants_2013==Nb_enfants_2014) & (Nb_enfants_2013=={}) \".format(child)\n",
    "                        )\n",
    "    print df_temp.Switchers.value_counts(dropna=False)\n",
    "    crosstab = pd.crosstab( [ df_temp.Do_not_optimize_2013, \n",
    "                             df_temp.Same_optimal_allocation_same_family.astype(\"bool\"),\n",
    "                             df_temp.Take_it,],\n",
    "                           df_temp.Switchers, margins = True) ; crosstab"
   ]
  },
  {
   "cell_type": "code",
   "execution_count": 58,
   "metadata": {
    "collapsed": true
   },
   "outputs": [],
   "source": [
    "crosstab_dict = {\"all\":crosstab}"
   ]
  },
  {
   "cell_type": "code",
   "execution_count": 59,
   "metadata": {
    "collapsed": false,
    "scrolled": true
   },
   "outputs": [
    {
     "data": {
      "text/html": [
       "<div>\n",
       "<table border=\"1\" class=\"dataframe\">\n",
       "  <thead>\n",
       "    <tr style=\"text-align: right;\">\n",
       "      <th></th>\n",
       "      <th></th>\n",
       "      <th>Switchers</th>\n",
       "      <th>False</th>\n",
       "      <th>True</th>\n",
       "      <th>All</th>\n",
       "    </tr>\n",
       "    <tr>\n",
       "      <th>Do_not_optimize_2013</th>\n",
       "      <th>Same_optimal_allocation_same_family</th>\n",
       "      <th>Take_it</th>\n",
       "      <th></th>\n",
       "      <th></th>\n",
       "      <th></th>\n",
       "    </tr>\n",
       "  </thead>\n",
       "  <tbody>\n",
       "    <tr>\n",
       "      <th>False</th>\n",
       "      <th>True</th>\n",
       "      <th>True</th>\n",
       "      <td>1</td>\n",
       "      <td>0</td>\n",
       "      <td>1</td>\n",
       "    </tr>\n",
       "    <tr>\n",
       "      <th>True</th>\n",
       "      <th>False</th>\n",
       "      <th>False</th>\n",
       "      <td>0</td>\n",
       "      <td>1</td>\n",
       "      <td>1</td>\n",
       "    </tr>\n",
       "    <tr>\n",
       "      <th>All</th>\n",
       "      <th></th>\n",
       "      <th></th>\n",
       "      <td>1</td>\n",
       "      <td>1</td>\n",
       "      <td>2</td>\n",
       "    </tr>\n",
       "  </tbody>\n",
       "</table>\n",
       "</div>"
      ],
      "text/plain": [
       "Switchers                                                         False  True  \\\n",
       "Do_not_optimize_2013 Same_optimal_allocation_same_family Take_it                \n",
       "False                True                                True         1     0   \n",
       "True                 False                               False        0     1   \n",
       "All                                                                   1     1   \n",
       "\n",
       "Switchers                                                         All  \n",
       "Do_not_optimize_2013 Same_optimal_allocation_same_family Take_it       \n",
       "False                True                                True       1  \n",
       "True                 False                               False      1  \n",
       "All                                                                 2  "
      ]
     },
     "execution_count": 59,
     "metadata": {},
     "output_type": "execute_result"
    }
   ],
   "source": [
    "crosstab_dict[\"all\"]"
   ]
  },
  {
   "cell_type": "markdown",
   "metadata": {},
   "source": [
    "##### Parmis ceux qui optimisent en 2013 combien n'optimisent plus du au changement de barème ou a un changement de revenu."
   ]
  },
  {
   "cell_type": "code",
   "execution_count": 60,
   "metadata": {
    "collapsed": false
   },
   "outputs": [
    {
     "name": "stdout",
     "output_type": "stream",
     "text": [
      "False    19591\n",
      "True      3454\n",
      "dtype: int64\n",
      "False    22179\n",
      "True       866\n",
      "dtype: int64\n",
      "False    22761\n",
      "True       284\n",
      "dtype: int64\n"
     ]
    }
   ],
   "source": [
    "## Change in income\n",
    "print df_B[~df_B.Do_not_optimize_2013].Counterfactual_2013_ir_on_2014_rni_Do_not_optimize.value_counts(normalize = False)\n",
    "## Change in tax\n",
    "print df_B[~df_B.Do_not_optimize_2013].Counterfactual_2014_ir_on_2013_rni_Do_not_optimize.value_counts(normalize = False)\n",
    "## Change in both\n",
    "df_temp = df_B[~df_B.Do_not_optimize_2013]\n",
    "print (df_temp[\"Counterfactual_2014_ir_on_2013_rni_Do_not_optimize\"]\n",
    "        &df_temp[\"Counterfactual_2013_ir_on_2014_rni_Do_not_optimize\"]).value_counts(\n",
    "        normalize = False)"
   ]
  },
  {
   "cell_type": "code",
   "execution_count": 61,
   "metadata": {
    "collapsed": false
   },
   "outputs": [
    {
     "data": {
      "text/plain": [
       "0.7972450459159014"
      ]
     },
     "execution_count": 61,
     "metadata": {},
     "output_type": "execute_result"
    }
   ],
   "source": [
    "3299/(3299+839)"
   ]
  },
  {
   "cell_type": "code",
   "execution_count": 62,
   "metadata": {
    "collapsed": false
   },
   "outputs": [
    {
     "name": "stdout",
     "output_type": "stream",
     "text": [
      "0.797245045916\n",
      "0.202754954084\n",
      "0.0652489125181\n"
     ]
    }
   ],
   "source": [
    "print 3299/(3299+839)\n",
    "print 839/(3299+839)\n",
    "print 270/(3299+839)"
   ]
  },
  {
   "cell_type": "markdown",
   "metadata": {},
   "source": [
    "#### Optimal allocation changed due to change in income"
   ]
  },
  {
   "cell_type": "code",
   "execution_count": 63,
   "metadata": {
    "collapsed": false
   },
   "outputs": [],
   "source": [
    "df_uoa = df_B.query(\"(Number_of_optimal_allocations_2013 == 1) & (Number_of_optimal_allocations_2014 == 1)&(Nb_enfants_2013 == Nb_enfants_2014)\")"
   ]
  },
  {
   "cell_type": "code",
   "execution_count": 64,
   "metadata": {
    "collapsed": false
   },
   "outputs": [
    {
     "data": {
      "text/plain": [
       "False    20599\n",
       "True      4808\n",
       "dtype: int64"
      ]
     },
     "execution_count": 64,
     "metadata": {},
     "output_type": "execute_result"
    }
   ],
   "source": [
    "(df_uoa.Optimal_allocations_2013 != df_uoa.Optimal_allocations_2014).value_counts()"
   ]
  },
  {
   "cell_type": "code",
   "execution_count": 65,
   "metadata": {
    "collapsed": false
   },
   "outputs": [
    {
     "name": "stderr",
     "output_type": "stream",
     "text": [
      "C:\\Users\\IMPTEMP_A_PACIFIC\\Desktop\\WinPython-64bit-2.7.10.2\\WinPython-64bit-2.7.10.2\\python-2.7.10.amd64\\lib\\site-packages\\IPython\\kernel\\__main__.py:1: SettingWithCopyWarning: \n",
      "A value is trying to be set on a copy of a slice from a DataFrame.\n",
      "Try using .loc[row_indexer,col_indexer] = value instead\n",
      "\n",
      "See the the caveats in the documentation: http://pandas.pydata.org/pandas-docs/stable/indexing.html#indexing-view-versus-copy\n",
      "  if __name__ == '__main__':\n",
      "C:\\Users\\IMPTEMP_A_PACIFIC\\Desktop\\WinPython-64bit-2.7.10.2\\WinPython-64bit-2.7.10.2\\python-2.7.10.amd64\\lib\\site-packages\\IPython\\kernel\\__main__.py:2: SettingWithCopyWarning: \n",
      "A value is trying to be set on a copy of a slice from a DataFrame.\n",
      "Try using .loc[row_indexer,col_indexer] = value instead\n",
      "\n",
      "See the the caveats in the documentation: http://pandas.pydata.org/pandas-docs/stable/indexing.html#indexing-view-versus-copy\n",
      "  from IPython.kernel.zmq import kernelapp as app\n"
     ]
    }
   ],
   "source": [
    "df_uoa[\"Counterfactual_2013_ir_on_2014_rni_optimal_allocation\"] = df_uoa[[\"Counterfactual_2013_ir_on_2014_rni_Irpp_decote_allocation_{}\".format(n) for n in range(1,9)]].idxmin(axis = 1).str[-12:]\n",
    "df_uoa[\"Counterfactual_2014_ir_on_2013_rni_optimal_allocation\"] = df_uoa[[\"Counterfactual_2014_ir_on_2013_rni_Irpp_decote_allocation_{}\".format(n) for n in range(1,9)]].idxmin(axis = 1).str[-12:]"
   ]
  },
  {
   "cell_type": "code",
   "execution_count": 66,
   "metadata": {
    "collapsed": false
   },
   "outputs": [
    {
     "name": "stderr",
     "output_type": "stream",
     "text": [
      "C:\\Users\\IMPTEMP_A_PACIFIC\\Desktop\\WinPython-64bit-2.7.10.2\\WinPython-64bit-2.7.10.2\\python-2.7.10.amd64\\lib\\site-packages\\IPython\\kernel\\__main__.py:2: SettingWithCopyWarning: \n",
      "A value is trying to be set on a copy of a slice from a DataFrame.\n",
      "Try using .loc[row_indexer,col_indexer] = value instead\n",
      "\n",
      "See the the caveats in the documentation: http://pandas.pydata.org/pandas-docs/stable/indexing.html#indexing-view-versus-copy\n",
      "  from IPython.kernel.zmq import kernelapp as app\n",
      "C:\\Users\\IMPTEMP_A_PACIFIC\\Desktop\\WinPython-64bit-2.7.10.2\\WinPython-64bit-2.7.10.2\\python-2.7.10.amd64\\lib\\site-packages\\IPython\\kernel\\__main__.py:4: SettingWithCopyWarning: \n",
      "A value is trying to be set on a copy of a slice from a DataFrame.\n",
      "Try using .loc[row_indexer,col_indexer] = value instead\n",
      "\n",
      "See the the caveats in the documentation: http://pandas.pydata.org/pandas-docs/stable/indexing.html#indexing-view-versus-copy\n"
     ]
    }
   ],
   "source": [
    "### Change due to income ---> Same ir, not same allocation\n",
    "df_uoa[\"Opt_alloc_changed_due_to_income\"] = df_uoa.Optimal_allocations_2013 != df_uoa.Counterfactual_2013_ir_on_2014_rni_optimal_allocation\n",
    "#### Change due to tax ---> Same income, not same allocation\n",
    "df_uoa[\"Opt_alloc_changed_due_to_tax_scheme\"] = df_uoa.Optimal_allocations_2013 != df_uoa.Counterfactual_2014_ir_on_2013_rni_optimal_allocation\n",
    "#### Change due to tax and IR \n"
   ]
  },
  {
   "cell_type": "code",
   "execution_count": 67,
   "metadata": {
    "collapsed": false
   },
   "outputs": [
    {
     "data": {
      "text/plain": [
       "False    20599\n",
       "True      4808\n",
       "dtype: int64"
      ]
     },
     "execution_count": 67,
     "metadata": {},
     "output_type": "execute_result"
    }
   ],
   "source": [
    "(df_uoa.Optimal_allocations_2013 != df_uoa.Optimal_allocations_2014).value_counts()"
   ]
  },
  {
   "cell_type": "code",
   "execution_count": 68,
   "metadata": {
    "collapsed": false
   },
   "outputs": [
    {
     "name": "stdout",
     "output_type": "stream",
     "text": [
      "False    20708\n",
      "True      4699\n",
      "dtype: int64\n",
      "False    22857\n",
      "True      2550\n",
      "dtype: int64\n",
      "False    24584\n",
      "True       823\n",
      "dtype: int64\n"
     ]
    }
   ],
   "source": [
    "print(df_uoa.Opt_alloc_changed_due_to_income.value_counts())\n",
    "print(df_uoa.Opt_alloc_changed_due_to_tax_scheme.value_counts())\n",
    "print((df_uoa.Opt_alloc_changed_due_to_tax_scheme & df_uoa.Opt_alloc_changed_due_to_income).value_counts())"
   ]
  },
  {
   "cell_type": "code",
   "execution_count": 69,
   "metadata": {
    "collapsed": false
   },
   "outputs": [
    {
     "name": "stdout",
     "output_type": "stream",
     "text": [
      "False    0.815051\n",
      "True     0.184949\n",
      "dtype: float64\n",
      "False    0.899634\n",
      "True     0.100366\n",
      "dtype: float64\n",
      "False    0.967607\n",
      "True     0.032393\n",
      "dtype: float64\n"
     ]
    }
   ],
   "source": [
    "print(df_uoa.Opt_alloc_changed_due_to_income.value_counts(normalize = True))\n",
    "print(df_uoa.Opt_alloc_changed_due_to_tax_scheme.value_counts(normalize = True))\n",
    "print((df_uoa.Opt_alloc_changed_due_to_tax_scheme & df_uoa.Opt_alloc_changed_due_to_income).value_counts(normalize = True))"
   ]
  },
  {
   "cell_type": "code",
   "execution_count": 70,
   "metadata": {
    "collapsed": false
   },
   "outputs": [
    {
     "name": "stdout",
     "output_type": "stream",
     "text": [
      "True     0.793053\n",
      "False    0.206947\n",
      "dtype: float64\n",
      "False    0.743344\n",
      "True     0.256656\n",
      "dtype: float64\n"
     ]
    }
   ],
   "source": [
    "print(df_uoa.query(\"Optimal_allocations_2013 != Optimal_allocations_2014\").Opt_alloc_changed_due_to_income.value_counts(normalize = True))\n",
    "print(df_uoa.query(\"Optimal_allocations_2013 != Optimal_allocations_2014\").Opt_alloc_changed_due_to_tax_scheme.value_counts(normalize = True))\n"
   ]
  },
  {
   "cell_type": "code",
   "execution_count": 71,
   "metadata": {
    "collapsed": false
   },
   "outputs": [],
   "source": [
    "df_opt_alloc_change_due_to_income = df_uoa[df_uoa.Opt_alloc_changed_due_to_income]\n",
    "df_opt_alloc_change_due_to_tax = df_uoa[df_uoa.Opt_alloc_changed_due_to_tax_scheme]"
   ]
  },
  {
   "cell_type": "code",
   "execution_count": 72,
   "metadata": {
    "collapsed": false
   },
   "outputs": [],
   "source": [
    "df_table_4 = pd.DataFrame()\n",
    "df_table_4.loc[\"Optimize_2013\", \"Optimize_2014\"] = df_opt_alloc_change_due_to_income.query(\"(~Do_not_optimize_2013) & (~Do_not_optimize_2014)\").shape[0]\n",
    "df_table_4.loc[\"Optimize_2013\", \"Do not Optimize_2014\"] = df_opt_alloc_change_due_to_income.query(\"(~Do_not_optimize_2013) & (Do_not_optimize_2014)\").shape[0]\n",
    "df_table_4.loc[\"Do not Optimize_2013\", \"Optimize_2014\"] = df_opt_alloc_change_due_to_income.query(\"(Do_not_optimize_2013) & (~Do_not_optimize_2014)\").shape[0]\n",
    "df_table_4.loc[\"Do not Optimize_2013\", \"Do not Optimize_2014\"] = df_opt_alloc_change_due_to_income.query(\"(Do_not_optimize_2013) & (Do_not_optimize_2014)\").shape[0]"
   ]
  },
  {
   "cell_type": "markdown",
   "metadata": {},
   "source": [
    "##### Due to change in income"
   ]
  },
  {
   "cell_type": "code",
   "execution_count": 73,
   "metadata": {
    "collapsed": false
   },
   "outputs": [
    {
     "data": {
      "text/html": [
       "<div>\n",
       "<table border=\"1\" class=\"dataframe\">\n",
       "  <thead>\n",
       "    <tr style=\"text-align: right;\">\n",
       "      <th></th>\n",
       "      <th>Optimize_2014</th>\n",
       "      <th>Do not Optimize_2014</th>\n",
       "    </tr>\n",
       "  </thead>\n",
       "  <tbody>\n",
       "    <tr>\n",
       "      <th>Optimize_2013</th>\n",
       "      <td>964</td>\n",
       "      <td>1617</td>\n",
       "    </tr>\n",
       "    <tr>\n",
       "      <th>Do not Optimize_2013</th>\n",
       "      <td>1488</td>\n",
       "      <td>630</td>\n",
       "    </tr>\n",
       "  </tbody>\n",
       "</table>\n",
       "</div>"
      ],
      "text/plain": [
       "                      Optimize_2014  Do not Optimize_2014\n",
       "Optimize_2013                   964                  1617\n",
       "Do not Optimize_2013           1488                   630"
      ]
     },
     "execution_count": 73,
     "metadata": {},
     "output_type": "execute_result"
    }
   ],
   "source": [
    "df_table_4"
   ]
  },
  {
   "cell_type": "markdown",
   "metadata": {},
   "source": [
    "In proportion"
   ]
  },
  {
   "cell_type": "code",
   "execution_count": 74,
   "metadata": {
    "collapsed": false
   },
   "outputs": [
    {
     "data": {
      "text/html": [
       "<div>\n",
       "<table border=\"1\" class=\"dataframe\">\n",
       "  <thead>\n",
       "    <tr style=\"text-align: right;\">\n",
       "      <th></th>\n",
       "      <th>Optimize_2014</th>\n",
       "      <th>Do not Optimize_2014</th>\n",
       "    </tr>\n",
       "  </thead>\n",
       "  <tbody>\n",
       "    <tr>\n",
       "      <th>Optimize_2013</th>\n",
       "      <td>0.205150</td>\n",
       "      <td>0.344116</td>\n",
       "    </tr>\n",
       "    <tr>\n",
       "      <th>Do not Optimize_2013</th>\n",
       "      <td>0.316663</td>\n",
       "      <td>0.134071</td>\n",
       "    </tr>\n",
       "  </tbody>\n",
       "</table>\n",
       "</div>"
      ],
      "text/plain": [
       "                      Optimize_2014  Do not Optimize_2014\n",
       "Optimize_2013              0.205150              0.344116\n",
       "Do not Optimize_2013       0.316663              0.134071"
      ]
     },
     "execution_count": 74,
     "metadata": {},
     "output_type": "execute_result"
    }
   ],
   "source": [
    "df_table_4/df_table_4.sum().sum()"
   ]
  },
  {
   "cell_type": "code",
   "execution_count": 75,
   "metadata": {
    "collapsed": true
   },
   "outputs": [],
   "source": []
  },
  {
   "cell_type": "code",
   "execution_count": 75,
   "metadata": {
    "collapsed": true
   },
   "outputs": [],
   "source": []
  },
  {
   "cell_type": "markdown",
   "metadata": {},
   "source": [
    "##### Due to change in tax scheme"
   ]
  },
  {
   "cell_type": "code",
   "execution_count": 75,
   "metadata": {
    "collapsed": false
   },
   "outputs": [],
   "source": [
    "df_table_4 = pd.DataFrame()\n",
    "df_table_4.loc[\"Optimize_2013\", \"Optimize_2014\"] = df_opt_alloc_change_due_to_tax.query(\"(~Do_not_optimize_2013) & (~Do_not_optimize_2014)\").shape[0]\n",
    "df_table_4.loc[\"Optimize_2013\", \"Do not Optimize_2014\"] = df_opt_alloc_change_due_to_tax.query(\"(~Do_not_optimize_2013) & (Do_not_optimize_2014)\").shape[0]\n",
    "df_table_4.loc[\"Do not Optimize_2013\", \"Optimize_2014\"] = df_opt_alloc_change_due_to_tax.query(\"(Do_not_optimize_2013) & (~Do_not_optimize_2014)\").shape[0]\n",
    "df_table_4.loc[\"Do not Optimize_2013\", \"Do not Optimize_2014\"] = df_opt_alloc_change_due_to_tax.query(\"(Do_not_optimize_2013) & (Do_not_optimize_2014)\").shape[0]"
   ]
  },
  {
   "cell_type": "code",
   "execution_count": 76,
   "metadata": {
    "collapsed": false
   },
   "outputs": [
    {
     "data": {
      "text/html": [
       "<div>\n",
       "<table border=\"1\" class=\"dataframe\">\n",
       "  <thead>\n",
       "    <tr style=\"text-align: right;\">\n",
       "      <th></th>\n",
       "      <th>Optimize_2014</th>\n",
       "      <th>Do not Optimize_2014</th>\n",
       "    </tr>\n",
       "  </thead>\n",
       "  <tbody>\n",
       "    <tr>\n",
       "      <th>Optimize_2013</th>\n",
       "      <td>829</td>\n",
       "      <td>433</td>\n",
       "    </tr>\n",
       "    <tr>\n",
       "      <th>Do not Optimize_2013</th>\n",
       "      <td>686</td>\n",
       "      <td>602</td>\n",
       "    </tr>\n",
       "  </tbody>\n",
       "</table>\n",
       "</div>"
      ],
      "text/plain": [
       "                      Optimize_2014  Do not Optimize_2014\n",
       "Optimize_2013                   829                   433\n",
       "Do not Optimize_2013            686                   602"
      ]
     },
     "execution_count": 76,
     "metadata": {},
     "output_type": "execute_result"
    }
   ],
   "source": [
    "df_table_4"
   ]
  },
  {
   "cell_type": "markdown",
   "metadata": {},
   "source": [
    "In proportion"
   ]
  },
  {
   "cell_type": "code",
   "execution_count": 77,
   "metadata": {
    "collapsed": false
   },
   "outputs": [
    {
     "data": {
      "text/html": [
       "<div>\n",
       "<table border=\"1\" class=\"dataframe\">\n",
       "  <thead>\n",
       "    <tr style=\"text-align: right;\">\n",
       "      <th></th>\n",
       "      <th>Optimize_2014</th>\n",
       "      <th>Do not Optimize_2014</th>\n",
       "    </tr>\n",
       "  </thead>\n",
       "  <tbody>\n",
       "    <tr>\n",
       "      <th>Optimize_2013</th>\n",
       "      <td>0.325098</td>\n",
       "      <td>0.169804</td>\n",
       "    </tr>\n",
       "    <tr>\n",
       "      <th>Do not Optimize_2013</th>\n",
       "      <td>0.269020</td>\n",
       "      <td>0.236078</td>\n",
       "    </tr>\n",
       "  </tbody>\n",
       "</table>\n",
       "</div>"
      ],
      "text/plain": [
       "                      Optimize_2014  Do not Optimize_2014\n",
       "Optimize_2013              0.325098              0.169804\n",
       "Do not Optimize_2013       0.269020              0.236078"
      ]
     },
     "execution_count": 77,
     "metadata": {},
     "output_type": "execute_result"
    }
   ],
   "source": [
    "df_table_4/df_table_4.sum().sum()"
   ]
  },
  {
   "cell_type": "markdown",
   "metadata": {},
   "source": [
    "##### For one child "
   ]
  },
  {
   "cell_type": "code",
   "execution_count": 78,
   "metadata": {
    "collapsed": false
   },
   "outputs": [
    {
     "name": "stdout",
     "output_type": "stream",
     "text": [
      "Due to income\n"
     ]
    },
    {
     "data": {
      "text/html": [
       "<div>\n",
       "<table border=\"1\" class=\"dataframe\">\n",
       "  <thead>\n",
       "    <tr style=\"text-align: right;\">\n",
       "      <th></th>\n",
       "      <th>Optimize_2014</th>\n",
       "      <th>Do not Optimize_2014</th>\n",
       "    </tr>\n",
       "  </thead>\n",
       "  <tbody>\n",
       "    <tr>\n",
       "      <th>Optimize_2013</th>\n",
       "      <td>569</td>\n",
       "      <td>863</td>\n",
       "    </tr>\n",
       "    <tr>\n",
       "      <th>Do not Optimize_2013</th>\n",
       "      <td>826</td>\n",
       "      <td>190</td>\n",
       "    </tr>\n",
       "  </tbody>\n",
       "</table>\n",
       "</div>"
      ],
      "text/plain": [
       "                      Optimize_2014  Do not Optimize_2014\n",
       "Optimize_2013                   569                   863\n",
       "Do not Optimize_2013            826                   190"
      ]
     },
     "metadata": {},
     "output_type": "display_data"
    },
    {
     "data": {
      "text/html": [
       "<div>\n",
       "<table border=\"1\" class=\"dataframe\">\n",
       "  <thead>\n",
       "    <tr style=\"text-align: right;\">\n",
       "      <th></th>\n",
       "      <th>Optimize_2014</th>\n",
       "      <th>Do not Optimize_2014</th>\n",
       "    </tr>\n",
       "  </thead>\n",
       "  <tbody>\n",
       "    <tr>\n",
       "      <th>Optimize_2013</th>\n",
       "      <td>0.232435</td>\n",
       "      <td>0.352533</td>\n",
       "    </tr>\n",
       "    <tr>\n",
       "      <th>Do not Optimize_2013</th>\n",
       "      <td>0.337418</td>\n",
       "      <td>0.077614</td>\n",
       "    </tr>\n",
       "  </tbody>\n",
       "</table>\n",
       "</div>"
      ],
      "text/plain": [
       "                      Optimize_2014  Do not Optimize_2014\n",
       "Optimize_2013              0.232435              0.352533\n",
       "Do not Optimize_2013       0.337418              0.077614"
      ]
     },
     "metadata": {},
     "output_type": "display_data"
    },
    {
     "name": "stdout",
     "output_type": "stream",
     "text": [
      "Due to tax\n"
     ]
    },
    {
     "data": {
      "text/html": [
       "<div>\n",
       "<table border=\"1\" class=\"dataframe\">\n",
       "  <thead>\n",
       "    <tr style=\"text-align: right;\">\n",
       "      <th></th>\n",
       "      <th>Optimize_2014</th>\n",
       "      <th>Do not Optimize_2014</th>\n",
       "    </tr>\n",
       "  </thead>\n",
       "  <tbody>\n",
       "    <tr>\n",
       "      <th>Optimize_2013</th>\n",
       "      <td>319</td>\n",
       "      <td>165</td>\n",
       "    </tr>\n",
       "    <tr>\n",
       "      <th>Do not Optimize_2013</th>\n",
       "      <td>373</td>\n",
       "      <td>257</td>\n",
       "    </tr>\n",
       "  </tbody>\n",
       "</table>\n",
       "</div>"
      ],
      "text/plain": [
       "                      Optimize_2014  Do not Optimize_2014\n",
       "Optimize_2013                   319                   165\n",
       "Do not Optimize_2013            373                   257"
      ]
     },
     "metadata": {},
     "output_type": "display_data"
    },
    {
     "data": {
      "text/html": [
       "<div>\n",
       "<table border=\"1\" class=\"dataframe\">\n",
       "  <thead>\n",
       "    <tr style=\"text-align: right;\">\n",
       "      <th></th>\n",
       "      <th>Optimize_2014</th>\n",
       "      <th>Do not Optimize_2014</th>\n",
       "    </tr>\n",
       "  </thead>\n",
       "  <tbody>\n",
       "    <tr>\n",
       "      <th>Optimize_2013</th>\n",
       "      <td>0.286355</td>\n",
       "      <td>0.148115</td>\n",
       "    </tr>\n",
       "    <tr>\n",
       "      <th>Do not Optimize_2013</th>\n",
       "      <td>0.334829</td>\n",
       "      <td>0.230700</td>\n",
       "    </tr>\n",
       "  </tbody>\n",
       "</table>\n",
       "</div>"
      ],
      "text/plain": [
       "                      Optimize_2014  Do not Optimize_2014\n",
       "Optimize_2013              0.286355              0.148115\n",
       "Do not Optimize_2013       0.334829              0.230700"
      ]
     },
     "metadata": {},
     "output_type": "display_data"
    }
   ],
   "source": [
    "df_temp = df_opt_alloc_change_due_to_income.query(\"Nb_enfants_2013 == 1\")\n",
    "\n",
    "df_table_4 = pd.DataFrame()\n",
    "df_table_4.loc[\"Optimize_2013\", \"Optimize_2014\"] = df_temp.query(\"(~Do_not_optimize_2013) & (~Do_not_optimize_2014)\").shape[0]\n",
    "df_table_4.loc[\"Optimize_2013\", \"Do not Optimize_2014\"] = df_temp.query(\"(~Do_not_optimize_2013) & (Do_not_optimize_2014)\").shape[0]\n",
    "df_table_4.loc[\"Do not Optimize_2013\", \"Optimize_2014\"] = df_temp.query(\"(Do_not_optimize_2013) & (~Do_not_optimize_2014)\").shape[0]\n",
    "df_table_4.loc[\"Do not Optimize_2013\", \"Do not Optimize_2014\"] = df_temp.query(\"(Do_not_optimize_2013) & (Do_not_optimize_2014)\").shape[0]\n",
    "print(\"Due to income\")\n",
    "display(df_table_4)\n",
    "display(df_table_4/df_table_4.sum().sum())\n",
    "\n",
    "\n",
    "df_temp = df_opt_alloc_change_due_to_tax.query(\"Nb_enfants_2013 == 1\")\n",
    "df_table_4 = pd.DataFrame()\n",
    "df_table_4.loc[\"Optimize_2013\", \"Optimize_2014\"] = df_temp.query(\"(~Do_not_optimize_2013) & (~Do_not_optimize_2014)\").shape[0]\n",
    "df_table_4.loc[\"Optimize_2013\", \"Do not Optimize_2014\"] = df_temp.query(\"(~Do_not_optimize_2013) & (Do_not_optimize_2014)\").shape[0]\n",
    "df_table_4.loc[\"Do not Optimize_2013\", \"Optimize_2014\"] = df_temp.query(\"(Do_not_optimize_2013) & (~Do_not_optimize_2014)\").shape[0]\n",
    "df_table_4.loc[\"Do not Optimize_2013\", \"Do not Optimize_2014\"] = df_temp.query(\"(Do_not_optimize_2013) & (Do_not_optimize_2014)\").shape[0]\n",
    "print(\"Due to tax\")\n",
    "display(df_table_4)\n",
    "display(df_table_4/df_table_4.sum().sum())"
   ]
  },
  {
   "cell_type": "markdown",
   "metadata": {},
   "source": [
    "##### For two children"
   ]
  },
  {
   "cell_type": "code",
   "execution_count": 79,
   "metadata": {
    "collapsed": false
   },
   "outputs": [
    {
     "name": "stdout",
     "output_type": "stream",
     "text": [
      "Due to income\n"
     ]
    },
    {
     "data": {
      "text/html": [
       "<div>\n",
       "<table border=\"1\" class=\"dataframe\">\n",
       "  <thead>\n",
       "    <tr style=\"text-align: right;\">\n",
       "      <th></th>\n",
       "      <th>Optimize_2014</th>\n",
       "      <th>Do not Optimize_2014</th>\n",
       "    </tr>\n",
       "  </thead>\n",
       "  <tbody>\n",
       "    <tr>\n",
       "      <th>Optimize_2013</th>\n",
       "      <td>370</td>\n",
       "      <td>712</td>\n",
       "    </tr>\n",
       "    <tr>\n",
       "      <th>Do not Optimize_2013</th>\n",
       "      <td>630</td>\n",
       "      <td>413</td>\n",
       "    </tr>\n",
       "  </tbody>\n",
       "</table>\n",
       "</div>"
      ],
      "text/plain": [
       "                      Optimize_2014  Do not Optimize_2014\n",
       "Optimize_2013                   370                   712\n",
       "Do not Optimize_2013            630                   413"
      ]
     },
     "metadata": {},
     "output_type": "display_data"
    },
    {
     "data": {
      "text/html": [
       "<div>\n",
       "<table border=\"1\" class=\"dataframe\">\n",
       "  <thead>\n",
       "    <tr style=\"text-align: right;\">\n",
       "      <th></th>\n",
       "      <th>Optimize_2014</th>\n",
       "      <th>Do not Optimize_2014</th>\n",
       "    </tr>\n",
       "  </thead>\n",
       "  <tbody>\n",
       "    <tr>\n",
       "      <th>Optimize_2013</th>\n",
       "      <td>0.174118</td>\n",
       "      <td>0.335059</td>\n",
       "    </tr>\n",
       "    <tr>\n",
       "      <th>Do not Optimize_2013</th>\n",
       "      <td>0.296471</td>\n",
       "      <td>0.194353</td>\n",
       "    </tr>\n",
       "  </tbody>\n",
       "</table>\n",
       "</div>"
      ],
      "text/plain": [
       "                      Optimize_2014  Do not Optimize_2014\n",
       "Optimize_2013              0.174118              0.335059\n",
       "Do not Optimize_2013       0.296471              0.194353"
      ]
     },
     "metadata": {},
     "output_type": "display_data"
    },
    {
     "name": "stdout",
     "output_type": "stream",
     "text": [
      "Due to tax\n"
     ]
    },
    {
     "data": {
      "text/html": [
       "<div>\n",
       "<table border=\"1\" class=\"dataframe\">\n",
       "  <thead>\n",
       "    <tr style=\"text-align: right;\">\n",
       "      <th></th>\n",
       "      <th>Optimize_2014</th>\n",
       "      <th>Do not Optimize_2014</th>\n",
       "    </tr>\n",
       "  </thead>\n",
       "  <tbody>\n",
       "    <tr>\n",
       "      <th>Optimize_2013</th>\n",
       "      <td>458</td>\n",
       "      <td>252</td>\n",
       "    </tr>\n",
       "    <tr>\n",
       "      <th>Do not Optimize_2013</th>\n",
       "      <td>289</td>\n",
       "      <td>310</td>\n",
       "    </tr>\n",
       "  </tbody>\n",
       "</table>\n",
       "</div>"
      ],
      "text/plain": [
       "                      Optimize_2014  Do not Optimize_2014\n",
       "Optimize_2013                   458                   252\n",
       "Do not Optimize_2013            289                   310"
      ]
     },
     "metadata": {},
     "output_type": "display_data"
    },
    {
     "data": {
      "text/html": [
       "<div>\n",
       "<table border=\"1\" class=\"dataframe\">\n",
       "  <thead>\n",
       "    <tr style=\"text-align: right;\">\n",
       "      <th></th>\n",
       "      <th>Optimize_2014</th>\n",
       "      <th>Do not Optimize_2014</th>\n",
       "    </tr>\n",
       "  </thead>\n",
       "  <tbody>\n",
       "    <tr>\n",
       "      <th>Optimize_2013</th>\n",
       "      <td>0.349885</td>\n",
       "      <td>0.192513</td>\n",
       "    </tr>\n",
       "    <tr>\n",
       "      <th>Do not Optimize_2013</th>\n",
       "      <td>0.220779</td>\n",
       "      <td>0.236822</td>\n",
       "    </tr>\n",
       "  </tbody>\n",
       "</table>\n",
       "</div>"
      ],
      "text/plain": [
       "                      Optimize_2014  Do not Optimize_2014\n",
       "Optimize_2013              0.349885              0.192513\n",
       "Do not Optimize_2013       0.220779              0.236822"
      ]
     },
     "metadata": {},
     "output_type": "display_data"
    }
   ],
   "source": [
    "df_temp = df_opt_alloc_change_due_to_income.query(\"Nb_enfants_2013 == 2\")\n",
    "\n",
    "df_table_4 = pd.DataFrame()\n",
    "df_table_4.loc[\"Optimize_2013\", \"Optimize_2014\"] = df_temp.query(\"(~Do_not_optimize_2013) & (~Do_not_optimize_2014)\").shape[0]\n",
    "df_table_4.loc[\"Optimize_2013\", \"Do not Optimize_2014\"] = df_temp.query(\"(~Do_not_optimize_2013) & (Do_not_optimize_2014)\").shape[0]\n",
    "df_table_4.loc[\"Do not Optimize_2013\", \"Optimize_2014\"] = df_temp.query(\"(Do_not_optimize_2013) & (~Do_not_optimize_2014)\").shape[0]\n",
    "df_table_4.loc[\"Do not Optimize_2013\", \"Do not Optimize_2014\"] = df_temp.query(\"(Do_not_optimize_2013) & (Do_not_optimize_2014)\").shape[0]\n",
    "print(\"Due to income\")\n",
    "display(df_table_4)\n",
    "display(df_table_4/df_table_4.sum().sum())\n",
    "\n",
    "\n",
    "df_temp = df_opt_alloc_change_due_to_tax.query(\"Nb_enfants_2013 == 2\")\n",
    "df_table_4 = pd.DataFrame()\n",
    "df_table_4.loc[\"Optimize_2013\", \"Optimize_2014\"] = df_temp.query(\"(~Do_not_optimize_2013) & (~Do_not_optimize_2014)\").shape[0]\n",
    "df_table_4.loc[\"Optimize_2013\", \"Do not Optimize_2014\"] = df_temp.query(\"(~Do_not_optimize_2013) & (Do_not_optimize_2014)\").shape[0]\n",
    "df_table_4.loc[\"Do not Optimize_2013\", \"Optimize_2014\"] = df_temp.query(\"(Do_not_optimize_2013) & (~Do_not_optimize_2014)\").shape[0]\n",
    "df_table_4.loc[\"Do not Optimize_2013\", \"Do not Optimize_2014\"] = df_temp.query(\"(Do_not_optimize_2013) & (Do_not_optimize_2014)\").shape[0]\n",
    "print(\"Due to tax\")\n",
    "display(df_table_4)\n",
    "display(df_table_4/df_table_4.sum().sum())"
   ]
  },
  {
   "cell_type": "markdown",
   "metadata": {},
   "source": [
    "#### New kid"
   ]
  },
  {
   "cell_type": "code",
   "execution_count": 80,
   "metadata": {
    "collapsed": false
   },
   "outputs": [
    {
     "data": {
      "text/html": [
       "<div>\n",
       "<table border=\"1\" class=\"dataframe\">\n",
       "  <thead>\n",
       "    <tr style=\"text-align: right;\">\n",
       "      <th></th>\n",
       "      <th>Optimize_2014</th>\n",
       "      <th>Do not Optimize_2014</th>\n",
       "    </tr>\n",
       "  </thead>\n",
       "  <tbody>\n",
       "    <tr>\n",
       "      <th>Optimize_2013</th>\n",
       "      <td>914</td>\n",
       "      <td>352</td>\n",
       "    </tr>\n",
       "    <tr>\n",
       "      <th>Do not Optimize_2013</th>\n",
       "      <td>259</td>\n",
       "      <td>246</td>\n",
       "    </tr>\n",
       "  </tbody>\n",
       "</table>\n",
       "</div>"
      ],
      "text/plain": [
       "                      Optimize_2014  Do not Optimize_2014\n",
       "Optimize_2013                   914                   352\n",
       "Do not Optimize_2013            259                   246"
      ]
     },
     "metadata": {},
     "output_type": "display_data"
    },
    {
     "data": {
      "text/html": [
       "<div>\n",
       "<table border=\"1\" class=\"dataframe\">\n",
       "  <thead>\n",
       "    <tr style=\"text-align: right;\">\n",
       "      <th></th>\n",
       "      <th>Optimize_2014</th>\n",
       "      <th>Do not Optimize_2014</th>\n",
       "    </tr>\n",
       "  </thead>\n",
       "  <tbody>\n",
       "    <tr>\n",
       "      <th>Optimize_2013</th>\n",
       "      <td>0.516093</td>\n",
       "      <td>0.198758</td>\n",
       "    </tr>\n",
       "    <tr>\n",
       "      <th>Do not Optimize_2013</th>\n",
       "      <td>0.146245</td>\n",
       "      <td>0.138905</td>\n",
       "    </tr>\n",
       "  </tbody>\n",
       "</table>\n",
       "</div>"
      ],
      "text/plain": [
       "                      Optimize_2014  Do not Optimize_2014\n",
       "Optimize_2013              0.516093              0.198758\n",
       "Do not Optimize_2013       0.146245              0.138905"
      ]
     },
     "metadata": {},
     "output_type": "display_data"
    }
   ],
   "source": [
    "df_temp =  df_B.query(\"(Number_of_optimal_allocations_2013 == 1) & (Number_of_optimal_allocations_2014 == 1)\"\n",
    "                     ).query(\"(Nb_enfants_2013 == 1) &(Nb_enfants_2014 == 2) \")\n",
    "\n",
    "df_table_4 = pd.DataFrame()\n",
    "df_table_4.loc[\"Optimize_2013\", \"Optimize_2014\"] = df_temp.query(\"(~Do_not_optimize_2013) & (~Do_not_optimize_2014)\").shape[0]\n",
    "df_table_4.loc[\"Optimize_2013\", \"Do not Optimize_2014\"] = df_temp.query(\"(~Do_not_optimize_2013) & (Do_not_optimize_2014)\").shape[0]\n",
    "df_table_4.loc[\"Do not Optimize_2013\", \"Optimize_2014\"] = df_temp.query(\"(Do_not_optimize_2013) & (~Do_not_optimize_2014)\").shape[0]\n",
    "df_table_4.loc[\"Do not Optimize_2013\", \"Do not Optimize_2014\"] = df_temp.query(\"(Do_not_optimize_2013) & (Do_not_optimize_2014)\").shape[0]\n",
    "\n",
    "display(df_table_4)\n",
    "display(df_table_4/df_table_4.sum().sum())\n"
   ]
  },
  {
   "cell_type": "code",
   "execution_count": 81,
   "metadata": {
    "collapsed": true
   },
   "outputs": [],
   "source": []
  },
  {
   "cell_type": "code",
   "execution_count": 81,
   "metadata": {
    "collapsed": true
   },
   "outputs": [],
   "source": []
  },
  {
   "cell_type": "code",
   "execution_count": 81,
   "metadata": {
    "collapsed": true
   },
   "outputs": [],
   "source": []
  },
  {
   "cell_type": "code",
   "execution_count": 81,
   "metadata": {
    "collapsed": true
   },
   "outputs": [],
   "source": []
  },
  {
   "cell_type": "code",
   "execution_count": 81,
   "metadata": {
    "collapsed": true
   },
   "outputs": [],
   "source": []
  },
  {
   "cell_type": "code",
   "execution_count": 81,
   "metadata": {
    "collapsed": true
   },
   "outputs": [],
   "source": []
  },
  {
   "cell_type": "code",
   "execution_count": 81,
   "metadata": {
    "collapsed": true
   },
   "outputs": [],
   "source": []
  },
  {
   "cell_type": "code",
   "execution_count": 81,
   "metadata": {
    "collapsed": true
   },
   "outputs": [],
   "source": []
  },
  {
   "cell_type": "code",
   "execution_count": 81,
   "metadata": {
    "collapsed": false
   },
   "outputs": [
    {
     "data": {
      "text/html": [
       "<div>\n",
       "<table border=\"1\" class=\"dataframe\">\n",
       "  <thead>\n",
       "    <tr style=\"text-align: right;\">\n",
       "      <th></th>\n",
       "      <th></th>\n",
       "      <th>Switchers</th>\n",
       "      <th>False</th>\n",
       "      <th>True</th>\n",
       "      <th>All</th>\n",
       "    </tr>\n",
       "    <tr>\n",
       "      <th>Do_not_optimize_1_prct_income_share_2013</th>\n",
       "      <th>Do_not_optimize_1_prct_income_share_2014</th>\n",
       "      <th>Same_optimal_allocation_same_family</th>\n",
       "      <th></th>\n",
       "      <th></th>\n",
       "      <th></th>\n",
       "    </tr>\n",
       "  </thead>\n",
       "  <tbody>\n",
       "    <tr>\n",
       "      <th rowspan=\"4\" valign=\"top\">False</th>\n",
       "      <th rowspan=\"2\" valign=\"top\">False</th>\n",
       "      <th>False</th>\n",
       "      <td>3231</td>\n",
       "      <td>595</td>\n",
       "      <td>3826</td>\n",
       "    </tr>\n",
       "    <tr>\n",
       "      <th>True</th>\n",
       "      <td>17312</td>\n",
       "      <td>397</td>\n",
       "      <td>17709</td>\n",
       "    </tr>\n",
       "    <tr>\n",
       "      <th rowspan=\"2\" valign=\"top\">True</th>\n",
       "      <th>False</th>\n",
       "      <td>586</td>\n",
       "      <td>25</td>\n",
       "      <td>611</td>\n",
       "    </tr>\n",
       "    <tr>\n",
       "      <th>True</th>\n",
       "      <td>957</td>\n",
       "      <td>137</td>\n",
       "      <td>1094</td>\n",
       "    </tr>\n",
       "    <tr>\n",
       "      <th rowspan=\"4\" valign=\"top\">True</th>\n",
       "      <th rowspan=\"2\" valign=\"top\">False</th>\n",
       "      <th>False</th>\n",
       "      <td>255</td>\n",
       "      <td>22</td>\n",
       "      <td>277</td>\n",
       "    </tr>\n",
       "    <tr>\n",
       "      <th>True</th>\n",
       "      <td>308</td>\n",
       "      <td>195</td>\n",
       "      <td>503</td>\n",
       "    </tr>\n",
       "    <tr>\n",
       "      <th rowspan=\"2\" valign=\"top\">True</th>\n",
       "      <th>False</th>\n",
       "      <td>83</td>\n",
       "      <td>11</td>\n",
       "      <td>94</td>\n",
       "    </tr>\n",
       "    <tr>\n",
       "      <th>True</th>\n",
       "      <td>1277</td>\n",
       "      <td>16</td>\n",
       "      <td>1293</td>\n",
       "    </tr>\n",
       "    <tr>\n",
       "      <th>All</th>\n",
       "      <th></th>\n",
       "      <th></th>\n",
       "      <td>24009</td>\n",
       "      <td>1398</td>\n",
       "      <td>25407</td>\n",
       "    </tr>\n",
       "  </tbody>\n",
       "</table>\n",
       "</div>"
      ],
      "text/plain": [
       "Switchers                                                                                                              False  \\\n",
       "Do_not_optimize_1_prct_income_share_2013 Do_not_optimize_1_prct_income_share_2014 Same_optimal_allocation_same_family          \n",
       "False                                    False                                    False                                 3231   \n",
       "                                                                                  True                                 17312   \n",
       "                                         True                                     False                                  586   \n",
       "                                                                                  True                                   957   \n",
       "True                                     False                                    False                                  255   \n",
       "                                                                                  True                                   308   \n",
       "                                         True                                     False                                   83   \n",
       "                                                                                  True                                  1277   \n",
       "All                                                                                                                    24009   \n",
       "\n",
       "Switchers                                                                                                              True  \\\n",
       "Do_not_optimize_1_prct_income_share_2013 Do_not_optimize_1_prct_income_share_2014 Same_optimal_allocation_same_family         \n",
       "False                                    False                                    False                                 595   \n",
       "                                                                                  True                                  397   \n",
       "                                         True                                     False                                  25   \n",
       "                                                                                  True                                  137   \n",
       "True                                     False                                    False                                  22   \n",
       "                                                                                  True                                  195   \n",
       "                                         True                                     False                                  11   \n",
       "                                                                                  True                                   16   \n",
       "All                                                                                                                    1398   \n",
       "\n",
       "Switchers                                                                                                                All  \n",
       "Do_not_optimize_1_prct_income_share_2013 Do_not_optimize_1_prct_income_share_2014 Same_optimal_allocation_same_family         \n",
       "False                                    False                                    False                                 3826  \n",
       "                                                                                  True                                 17709  \n",
       "                                         True                                     False                                  611  \n",
       "                                                                                  True                                  1094  \n",
       "True                                     False                                    False                                  277  \n",
       "                                                                                  True                                   503  \n",
       "                                         True                                     False                                   94  \n",
       "                                                                                  True                                  1293  \n",
       "All                                                                                                                    25407  "
      ]
     },
     "execution_count": 81,
     "metadata": {},
     "output_type": "execute_result"
    }
   ],
   "source": [
    "df_temp = df_B.query(\"(Number_of_optimal_allocations_2013 == 1) & (Number_of_optimal_allocations_2014 == 1)&(Nb_enfants_2013==Nb_enfants_2014)  \")\n",
    "crosstab = pd.crosstab( [ df_temp.Do_not_optimize_1_prct_income_share_2013, df_temp.Do_not_optimize_1_prct_income_share_2014,\n",
    "                         df_temp.Same_optimal_allocation_same_family.astype(\"bool\")],\n",
    "                       df_temp.Switchers, margins = True) ; crosstab"
   ]
  },
  {
   "cell_type": "code",
   "execution_count": 82,
   "metadata": {
    "collapsed": true
   },
   "outputs": [],
   "source": []
  },
  {
   "cell_type": "code",
   "execution_count": 82,
   "metadata": {
    "collapsed": false
   },
   "outputs": [
    {
     "name": "stderr",
     "output_type": "stream",
     "text": [
      "C:\\Users\\IMPTEMP_A_PACIFIC\\Desktop\\WinPython-64bit-2.7.10.2\\WinPython-64bit-2.7.10.2\\python-2.7.10.amd64\\lib\\site-packages\\pandas\\core\\generic.py:2177: SettingWithCopyWarning: \n",
      "A value is trying to be set on a copy of a slice from a DataFrame.\n",
      "Try using .loc[row_indexer,col_indexer] = value instead\n",
      "\n",
      "See the the caveats in the documentation: http://pandas.pydata.org/pandas-docs/stable/indexing.html#indexing-view-versus-copy\n",
      "  self[name] = value\n"
     ]
    }
   ],
   "source": [
    "df_temp.Same_optimal_allocation_same_family = df_temp.Same_optimal_allocation_same_family.astype('bool')"
   ]
  },
  {
   "cell_type": "code",
   "execution_count": 83,
   "metadata": {
    "collapsed": false
   },
   "outputs": [
    {
     "data": {
      "text/html": [
       "<div>\n",
       "<table border=\"1\" class=\"dataframe\">\n",
       "  <thead>\n",
       "    <tr style=\"text-align: right;\">\n",
       "      <th></th>\n",
       "      <th></th>\n",
       "      <th>Switchers</th>\n",
       "      <th>False</th>\n",
       "      <th>True</th>\n",
       "    </tr>\n",
       "    <tr>\n",
       "      <th>Do_not_optimize_1_prct_income_share_2013</th>\n",
       "      <th>Same_optimal_allocation_same_family</th>\n",
       "      <th>Do_not_optimize_1_prct_income_share_2014</th>\n",
       "      <th></th>\n",
       "      <th></th>\n",
       "    </tr>\n",
       "  </thead>\n",
       "  <tbody>\n",
       "    <tr>\n",
       "      <th rowspan=\"4\" valign=\"top\">False</th>\n",
       "      <th rowspan=\"2\" valign=\"top\">False</th>\n",
       "      <th>False</th>\n",
       "      <td>3231</td>\n",
       "      <td>595</td>\n",
       "    </tr>\n",
       "    <tr>\n",
       "      <th>True</th>\n",
       "      <td>586</td>\n",
       "      <td>25</td>\n",
       "    </tr>\n",
       "    <tr>\n",
       "      <th rowspan=\"2\" valign=\"top\">True</th>\n",
       "      <th>False</th>\n",
       "      <td>17312</td>\n",
       "      <td>397</td>\n",
       "    </tr>\n",
       "    <tr>\n",
       "      <th>True</th>\n",
       "      <td>957</td>\n",
       "      <td>137</td>\n",
       "    </tr>\n",
       "    <tr>\n",
       "      <th rowspan=\"4\" valign=\"top\">True</th>\n",
       "      <th rowspan=\"2\" valign=\"top\">False</th>\n",
       "      <th>False</th>\n",
       "      <td>255</td>\n",
       "      <td>22</td>\n",
       "    </tr>\n",
       "    <tr>\n",
       "      <th>True</th>\n",
       "      <td>83</td>\n",
       "      <td>11</td>\n",
       "    </tr>\n",
       "    <tr>\n",
       "      <th rowspan=\"2\" valign=\"top\">True</th>\n",
       "      <th>False</th>\n",
       "      <td>308</td>\n",
       "      <td>195</td>\n",
       "    </tr>\n",
       "    <tr>\n",
       "      <th>True</th>\n",
       "      <td>1277</td>\n",
       "      <td>16</td>\n",
       "    </tr>\n",
       "  </tbody>\n",
       "</table>\n",
       "</div>"
      ],
      "text/plain": [
       "Switchers                                                                                                              False  \\\n",
       "Do_not_optimize_1_prct_income_share_2013 Same_optimal_allocation_same_family Do_not_optimize_1_prct_income_share_2014          \n",
       "False                                    False                               False                                      3231   \n",
       "                                                                             True                                        586   \n",
       "                                         True                                False                                     17312   \n",
       "                                                                             True                                        957   \n",
       "True                                     False                               False                                       255   \n",
       "                                                                             True                                         83   \n",
       "                                         True                                False                                       308   \n",
       "                                                                             True                                       1277   \n",
       "\n",
       "Switchers                                                                                                              True   \n",
       "Do_not_optimize_1_prct_income_share_2013 Same_optimal_allocation_same_family Do_not_optimize_1_prct_income_share_2014         \n",
       "False                                    False                               False                                       595  \n",
       "                                                                             True                                         25  \n",
       "                                         True                                False                                       397  \n",
       "                                                                             True                                        137  \n",
       "True                                     False                               False                                        22  \n",
       "                                                                             True                                         11  \n",
       "                                         True                                False                                       195  \n",
       "                                                                             True                                         16  "
      ]
     },
     "execution_count": 83,
     "metadata": {},
     "output_type": "execute_result"
    }
   ],
   "source": [
    "df_temp = df_B.query(\"(Number_of_optimal_allocations_2013 == 1) & (Number_of_optimal_allocations_2014 == 1)&(Nb_enfants_2013==Nb_enfants_2014)  \")\n",
    "crosstab = pd.crosstab( [ df_temp.Do_not_optimize_1_prct_income_share_2013,\n",
    "                         df_temp.Same_optimal_allocation_same_family.astype(\"bool\"),\n",
    "                          df_temp.Do_not_optimize_1_prct_income_share_2014],\n",
    "                       df_temp.Switchers) ; crosstab"
   ]
  },
  {
   "cell_type": "code",
   "execution_count": 84,
   "metadata": {
    "collapsed": true
   },
   "outputs": [],
   "source": []
  },
  {
   "cell_type": "code",
   "execution_count": 84,
   "metadata": {
    "collapsed": true
   },
   "outputs": [],
   "source": []
  },
  {
   "cell_type": "code",
   "execution_count": 84,
   "metadata": {
    "collapsed": true
   },
   "outputs": [],
   "source": []
  },
  {
   "cell_type": "code",
   "execution_count": 84,
   "metadata": {
    "collapsed": true
   },
   "outputs": [],
   "source": []
  },
  {
   "cell_type": "code",
   "execution_count": 84,
   "metadata": {
    "collapsed": true
   },
   "outputs": [],
   "source": []
  },
  {
   "cell_type": "code",
   "execution_count": 84,
   "metadata": {
    "collapsed": false
   },
   "outputs": [
    {
     "data": {
      "text/html": [
       "<div>\n",
       "<table border=\"1\" class=\"dataframe\">\n",
       "  <thead>\n",
       "    <tr style=\"text-align: right;\">\n",
       "      <th></th>\n",
       "      <th>Switchers</th>\n",
       "      <th>False</th>\n",
       "      <th>True</th>\n",
       "      <th>All</th>\n",
       "    </tr>\n",
       "    <tr>\n",
       "      <th>Do_not_optimize_1_prct_income_share_2013</th>\n",
       "      <th>Do_not_optimize_1_prct_income_share_2014</th>\n",
       "      <th></th>\n",
       "      <th></th>\n",
       "      <th></th>\n",
       "    </tr>\n",
       "  </thead>\n",
       "  <tbody>\n",
       "    <tr>\n",
       "      <th rowspan=\"2\" valign=\"top\">False</th>\n",
       "      <th>False</th>\n",
       "      <td>26304</td>\n",
       "      <td>992</td>\n",
       "      <td>27296</td>\n",
       "    </tr>\n",
       "    <tr>\n",
       "      <th>True</th>\n",
       "      <td>1965</td>\n",
       "      <td>162</td>\n",
       "      <td>2127</td>\n",
       "    </tr>\n",
       "    <tr>\n",
       "      <th rowspan=\"2\" valign=\"top\">True</th>\n",
       "      <th>False</th>\n",
       "      <td>1013</td>\n",
       "      <td>217</td>\n",
       "      <td>1230</td>\n",
       "    </tr>\n",
       "    <tr>\n",
       "      <th>True</th>\n",
       "      <td>1592</td>\n",
       "      <td>27</td>\n",
       "      <td>1619</td>\n",
       "    </tr>\n",
       "    <tr>\n",
       "      <th>All</th>\n",
       "      <th></th>\n",
       "      <td>30874</td>\n",
       "      <td>1398</td>\n",
       "      <td>32272</td>\n",
       "    </tr>\n",
       "  </tbody>\n",
       "</table>\n",
       "</div>"
      ],
      "text/plain": [
       "Switchers                                                                          False  \\\n",
       "Do_not_optimize_1_prct_income_share_2013 Do_not_optimize_1_prct_income_share_2014          \n",
       "False                                    False                                     26304   \n",
       "                                         True                                       1965   \n",
       "True                                     False                                      1013   \n",
       "                                         True                                       1592   \n",
       "All                                                                                30874   \n",
       "\n",
       "Switchers                                                                          True  \\\n",
       "Do_not_optimize_1_prct_income_share_2013 Do_not_optimize_1_prct_income_share_2014         \n",
       "False                                    False                                      992   \n",
       "                                         True                                       162   \n",
       "True                                     False                                      217   \n",
       "                                         True                                        27   \n",
       "All                                                                                1398   \n",
       "\n",
       "Switchers                                                                            All  \n",
       "Do_not_optimize_1_prct_income_share_2013 Do_not_optimize_1_prct_income_share_2014         \n",
       "False                                    False                                     27296  \n",
       "                                         True                                       2127  \n",
       "True                                     False                                      1230  \n",
       "                                         True                                       1619  \n",
       "All                                                                                32272  "
      ]
     },
     "execution_count": 84,
     "metadata": {},
     "output_type": "execute_result"
    }
   ],
   "source": [
    "df_temp = df_B\n",
    "crosstab = pd.crosstab( [ df_temp.Do_not_optimize_1_prct_income_share_2013, df_temp.Do_not_optimize_1_prct_income_share_2014],\n",
    "                       df_temp.Switchers, margins = True) ; crosstab"
   ]
  },
  {
   "cell_type": "code",
   "execution_count": 85,
   "metadata": {
    "collapsed": false
   },
   "outputs": [
    {
     "data": {
      "text/html": [
       "<div>\n",
       "<table border=\"1\" class=\"dataframe\">\n",
       "  <thead>\n",
       "    <tr>\n",
       "      <th>Same_optimal_allocation_same_family</th>\n",
       "      <th colspan=\"4\" halign=\"left\">True</th>\n",
       "      <th>All</th>\n",
       "    </tr>\n",
       "    <tr>\n",
       "      <th>Do_not_optimize_1_prct_income_share_2013</th>\n",
       "      <th colspan=\"2\" halign=\"left\">False</th>\n",
       "      <th colspan=\"2\" halign=\"left\">True</th>\n",
       "      <th></th>\n",
       "    </tr>\n",
       "    <tr>\n",
       "      <th>Do_not_optimize_1_prct_income_share_2014</th>\n",
       "      <th>False</th>\n",
       "      <th>True</th>\n",
       "      <th>False</th>\n",
       "      <th>True</th>\n",
       "      <th></th>\n",
       "    </tr>\n",
       "    <tr>\n",
       "      <th>Same_family_did_not_change_allocation</th>\n",
       "      <th></th>\n",
       "      <th></th>\n",
       "      <th></th>\n",
       "      <th></th>\n",
       "      <th></th>\n",
       "    </tr>\n",
       "  </thead>\n",
       "  <tbody>\n",
       "    <tr>\n",
       "      <th>False</th>\n",
       "      <td>506</td>\n",
       "      <td>145</td>\n",
       "      <td>214</td>\n",
       "      <td>18</td>\n",
       "      <td>883</td>\n",
       "    </tr>\n",
       "    <tr>\n",
       "      <th>True</th>\n",
       "      <td>19276</td>\n",
       "      <td>1003</td>\n",
       "      <td>463</td>\n",
       "      <td>1376</td>\n",
       "      <td>22118</td>\n",
       "    </tr>\n",
       "    <tr>\n",
       "      <th>All</th>\n",
       "      <td>19782</td>\n",
       "      <td>1148</td>\n",
       "      <td>677</td>\n",
       "      <td>1394</td>\n",
       "      <td>23001</td>\n",
       "    </tr>\n",
       "  </tbody>\n",
       "</table>\n",
       "</div>"
      ],
      "text/plain": [
       "Same_optimal_allocation_same_family        True                      All\n",
       "Do_not_optimize_1_prct_income_share_2013  False        True             \n",
       "Do_not_optimize_1_prct_income_share_2014  False  True False  True       \n",
       "Same_family_did_not_change_allocation                                   \n",
       "False                                       506   145   214    18    883\n",
       "True                                      19276  1003   463  1376  22118\n",
       "All                                       19782  1148   677  1394  23001"
      ]
     },
     "execution_count": 85,
     "metadata": {},
     "output_type": "execute_result"
    }
   ],
   "source": [
    "df_temp = df_B.query(\"(Same_optimal_allocation_same_family==1) & (Nb_enfants_2013>=1) \")\n",
    "crosstab = pd.crosstab(df_temp.Same_family_did_not_change_allocation.astype(\"bool\"), \n",
    "            [df_temp.Same_optimal_allocation_same_family.astype(\"bool\"), df_temp.Do_not_optimize_1_prct_income_share_2013, df_temp.Do_not_optimize_1_prct_income_share_2014],\n",
    "           margins = True) ; crosstab"
   ]
  },
  {
   "cell_type": "code",
   "execution_count": 86,
   "metadata": {
    "collapsed": true
   },
   "outputs": [],
   "source": []
  },
  {
   "cell_type": "markdown",
   "metadata": {},
   "source": [
    "Question : \n",
    "pourmis les gens qui se mettent à optimiser, combien le font car l'allocation optimale à changé, combien le font car leur salaire à changé."
   ]
  },
  {
   "cell_type": "code",
   "execution_count": 86,
   "metadata": {
    "collapsed": false
   },
   "outputs": [
    {
     "data": {
      "text/html": [
       "<div>\n",
       "<table border=\"1\" class=\"dataframe\">\n",
       "  <thead>\n",
       "    <tr>\n",
       "      <th>Same_optimal_allocation_same_family</th>\n",
       "      <th colspan=\"4\" halign=\"left\">True</th>\n",
       "      <th>All</th>\n",
       "    </tr>\n",
       "    <tr>\n",
       "      <th>Do_not_optimize_2013</th>\n",
       "      <th colspan=\"2\" halign=\"left\">False</th>\n",
       "      <th colspan=\"2\" halign=\"left\">True</th>\n",
       "      <th></th>\n",
       "    </tr>\n",
       "    <tr>\n",
       "      <th>Do_not_optimize_2014</th>\n",
       "      <th>False</th>\n",
       "      <th>True</th>\n",
       "      <th>False</th>\n",
       "      <th>True</th>\n",
       "      <th></th>\n",
       "    </tr>\n",
       "    <tr>\n",
       "      <th>Same_family_did_not_change_allocation</th>\n",
       "      <th></th>\n",
       "      <th></th>\n",
       "      <th></th>\n",
       "      <th></th>\n",
       "      <th></th>\n",
       "    </tr>\n",
       "  </thead>\n",
       "  <tbody>\n",
       "    <tr>\n",
       "      <th>False</th>\n",
       "      <td>67</td>\n",
       "      <td>291</td>\n",
       "      <td>482</td>\n",
       "      <td>43</td>\n",
       "      <td>883</td>\n",
       "    </tr>\n",
       "    <tr>\n",
       "      <th>True</th>\n",
       "      <td>16781</td>\n",
       "      <td>78</td>\n",
       "      <td>473</td>\n",
       "      <td>4786</td>\n",
       "      <td>22118</td>\n",
       "    </tr>\n",
       "    <tr>\n",
       "      <th>All</th>\n",
       "      <td>16848</td>\n",
       "      <td>369</td>\n",
       "      <td>955</td>\n",
       "      <td>4829</td>\n",
       "      <td>23001</td>\n",
       "    </tr>\n",
       "  </tbody>\n",
       "</table>\n",
       "</div>"
      ],
      "text/plain": [
       "Same_optimal_allocation_same_family     True                     All\n",
       "Do_not_optimize_2013                   False       True             \n",
       "Do_not_optimize_2014                   False True False  True       \n",
       "Same_family_did_not_change_allocation                               \n",
       "False                                     67  291   482    43    883\n",
       "True                                   16781   78   473  4786  22118\n",
       "All                                    16848  369   955  4829  23001"
      ]
     },
     "execution_count": 86,
     "metadata": {},
     "output_type": "execute_result"
    }
   ],
   "source": [
    "df_temp = df_B.query(\"Same_optimal_allocation_same_family==1\")\n",
    "crosstab = pd.crosstab(df_temp.Same_family_did_not_change_allocation.astype(\"bool\"), \n",
    "            [df_temp.Same_optimal_allocation_same_family.astype(\"bool\"), df_temp.Do_not_optimize_2013, df_temp.Do_not_optimize_2014],\n",
    "           margins = True) ; crosstab"
   ]
  },
  {
   "cell_type": "code",
   "execution_count": 87,
   "metadata": {
    "collapsed": false
   },
   "outputs": [
    {
     "data": {
      "text/html": [
       "<div>\n",
       "<table border=\"1\" class=\"dataframe\">\n",
       "  <thead>\n",
       "    <tr>\n",
       "      <th>Same_optimal_allocation_same_family</th>\n",
       "      <th colspan=\"4\" halign=\"left\">True</th>\n",
       "      <th>All</th>\n",
       "    </tr>\n",
       "    <tr>\n",
       "      <th>Do_not_optimize_2013</th>\n",
       "      <th colspan=\"2\" halign=\"left\">False</th>\n",
       "      <th colspan=\"2\" halign=\"left\">True</th>\n",
       "      <th></th>\n",
       "    </tr>\n",
       "    <tr>\n",
       "      <th>Do_not_optimize_2014</th>\n",
       "      <th>False</th>\n",
       "      <th>True</th>\n",
       "      <th>False</th>\n",
       "      <th>True</th>\n",
       "      <th></th>\n",
       "    </tr>\n",
       "    <tr>\n",
       "      <th>Same_family_did_not_change_allocation</th>\n",
       "      <th></th>\n",
       "      <th></th>\n",
       "      <th></th>\n",
       "      <th></th>\n",
       "      <th></th>\n",
       "    </tr>\n",
       "  </thead>\n",
       "  <tbody>\n",
       "    <tr>\n",
       "      <th>False</th>\n",
       "      <td>0.003977</td>\n",
       "      <td>0.788618</td>\n",
       "      <td>0.504712</td>\n",
       "      <td>0.008905</td>\n",
       "      <td>0.03839</td>\n",
       "    </tr>\n",
       "    <tr>\n",
       "      <th>True</th>\n",
       "      <td>0.996023</td>\n",
       "      <td>0.211382</td>\n",
       "      <td>0.495288</td>\n",
       "      <td>0.991095</td>\n",
       "      <td>0.96161</td>\n",
       "    </tr>\n",
       "    <tr>\n",
       "      <th>All</th>\n",
       "      <td>1.000000</td>\n",
       "      <td>1.000000</td>\n",
       "      <td>1.000000</td>\n",
       "      <td>1.000000</td>\n",
       "      <td>1.00000</td>\n",
       "    </tr>\n",
       "  </tbody>\n",
       "</table>\n",
       "</div>"
      ],
      "text/plain": [
       "Same_optimal_allocation_same_family        True                                \\\n",
       "Do_not_optimize_2013                      False                True             \n",
       "Do_not_optimize_2014                      False      True     False      True   \n",
       "Same_family_did_not_change_allocation                                           \n",
       "False                                  0.003977  0.788618  0.504712  0.008905   \n",
       "True                                   0.996023  0.211382  0.495288  0.991095   \n",
       "All                                    1.000000  1.000000  1.000000  1.000000   \n",
       "\n",
       "Same_optimal_allocation_same_family        All  \n",
       "Do_not_optimize_2013                            \n",
       "Do_not_optimize_2014                            \n",
       "Same_family_did_not_change_allocation           \n",
       "False                                  0.03839  \n",
       "True                                   0.96161  \n",
       "All                                    1.00000  "
      ]
     },
     "execution_count": 87,
     "metadata": {},
     "output_type": "execute_result"
    }
   ],
   "source": [
    "crosstab/crosstab.loc[\"All\"]"
   ]
  },
  {
   "cell_type": "code",
   "execution_count": 88,
   "metadata": {
    "collapsed": false
   },
   "outputs": [
    {
     "data": {
      "text/plain": [
       "1     23001\n",
       "0      8227\n",
       "2       851\n",
       "3       145\n",
       "4        32\n",
       "5        10\n",
       "64        4\n",
       "6         2\n",
       "dtype: int64"
      ]
     },
     "execution_count": 88,
     "metadata": {},
     "output_type": "execute_result"
    }
   ],
   "source": [
    "df_B.Same_optimal_allocation_same_family.value_counts()"
   ]
  },
  {
   "cell_type": "code",
   "execution_count": 89,
   "metadata": {
    "collapsed": true
   },
   "outputs": [],
   "source": []
  },
  {
   "cell_type": "markdown",
   "metadata": {},
   "source": [
    "### Mean fiscal loss by group"
   ]
  },
  {
   "cell_type": "code",
   "execution_count": 89,
   "metadata": {
    "collapsed": false
   },
   "outputs": [
    {
     "data": {
      "text/html": [
       "<div>\n",
       "<table border=\"1\" class=\"dataframe\">\n",
       "  <thead>\n",
       "    <tr style=\"text-align: right;\">\n",
       "      <th></th>\n",
       "      <th></th>\n",
       "      <th>Switchers</th>\n",
       "      <th>False</th>\n",
       "      <th>True</th>\n",
       "      <th>All</th>\n",
       "    </tr>\n",
       "    <tr>\n",
       "      <th>Do_not_optimize_2013</th>\n",
       "      <th>Do_not_optimize_2014</th>\n",
       "      <th>Same_optimal_allocation_same_family</th>\n",
       "      <th></th>\n",
       "      <th></th>\n",
       "      <th></th>\n",
       "    </tr>\n",
       "  </thead>\n",
       "  <tbody>\n",
       "    <tr>\n",
       "      <th rowspan=\"4\" valign=\"top\">False</th>\n",
       "      <th rowspan=\"2\" valign=\"top\">False</th>\n",
       "      <th>False</th>\n",
       "      <td>0</td>\n",
       "      <td>504</td>\n",
       "      <td>504</td>\n",
       "    </tr>\n",
       "    <tr>\n",
       "      <th>True</th>\n",
       "      <td>15220</td>\n",
       "      <td>0</td>\n",
       "      <td>15220</td>\n",
       "    </tr>\n",
       "    <tr>\n",
       "      <th rowspan=\"2\" valign=\"top\">True</th>\n",
       "      <th>False</th>\n",
       "      <td>1987</td>\n",
       "      <td>23</td>\n",
       "      <td>2010</td>\n",
       "    </tr>\n",
       "    <tr>\n",
       "      <th>True</th>\n",
       "      <td>0</td>\n",
       "      <td>273</td>\n",
       "      <td>273</td>\n",
       "    </tr>\n",
       "    <tr>\n",
       "      <th rowspan=\"4\" valign=\"top\">True</th>\n",
       "      <th rowspan=\"2\" valign=\"top\">False</th>\n",
       "      <th>False</th>\n",
       "      <td>1883</td>\n",
       "      <td>33</td>\n",
       "      <td>1916</td>\n",
       "    </tr>\n",
       "    <tr>\n",
       "      <th>True</th>\n",
       "      <td>0</td>\n",
       "      <td>432</td>\n",
       "      <td>432</td>\n",
       "    </tr>\n",
       "    <tr>\n",
       "      <th rowspan=\"2\" valign=\"top\">True</th>\n",
       "      <th>False</th>\n",
       "      <td>285</td>\n",
       "      <td>93</td>\n",
       "      <td>378</td>\n",
       "    </tr>\n",
       "    <tr>\n",
       "      <th>True</th>\n",
       "      <td>4634</td>\n",
       "      <td>40</td>\n",
       "      <td>4674</td>\n",
       "    </tr>\n",
       "    <tr>\n",
       "      <th>All</th>\n",
       "      <th></th>\n",
       "      <th></th>\n",
       "      <td>24009</td>\n",
       "      <td>1398</td>\n",
       "      <td>25407</td>\n",
       "    </tr>\n",
       "  </tbody>\n",
       "</table>\n",
       "</div>"
      ],
      "text/plain": [
       "Switchers                                                                      False  \\\n",
       "Do_not_optimize_2013 Do_not_optimize_2014 Same_optimal_allocation_same_family          \n",
       "False                False                False                                    0   \n",
       "                                          True                                 15220   \n",
       "                     True                 False                                 1987   \n",
       "                                          True                                     0   \n",
       "True                 False                False                                 1883   \n",
       "                                          True                                     0   \n",
       "                     True                 False                                  285   \n",
       "                                          True                                  4634   \n",
       "All                                                                            24009   \n",
       "\n",
       "Switchers                                                                      True  \\\n",
       "Do_not_optimize_2013 Do_not_optimize_2014 Same_optimal_allocation_same_family         \n",
       "False                False                False                                 504   \n",
       "                                          True                                    0   \n",
       "                     True                 False                                  23   \n",
       "                                          True                                  273   \n",
       "True                 False                False                                  33   \n",
       "                                          True                                  432   \n",
       "                     True                 False                                  93   \n",
       "                                          True                                   40   \n",
       "All                                                                            1398   \n",
       "\n",
       "Switchers                                                                        All  \n",
       "Do_not_optimize_2013 Do_not_optimize_2014 Same_optimal_allocation_same_family         \n",
       "False                False                False                                  504  \n",
       "                                          True                                 15220  \n",
       "                     True                 False                                 2010  \n",
       "                                          True                                   273  \n",
       "True                 False                False                                 1916  \n",
       "                                          True                                   432  \n",
       "                     True                 False                                  378  \n",
       "                                          True                                  4674  \n",
       "All                                                                            25407  "
      ]
     },
     "execution_count": 89,
     "metadata": {},
     "output_type": "execute_result"
    }
   ],
   "source": [
    "df_temp = df_B.query(\"(Number_of_optimal_allocations_2013 == 1) & (Number_of_optimal_allocations_2014 == 1)&(Nb_enfants_2013==Nb_enfants_2014)  \")\n",
    "crosstab = pd.crosstab( [ df_temp.Do_not_optimize_2013, df_temp.Do_not_optimize_2014, df_temp.Same_optimal_allocation_same_family.astype(\"bool\")],\n",
    "                       df_temp.Switchers, margins = True) ; crosstab"
   ]
  },
  {
   "cell_type": "markdown",
   "metadata": {},
   "source": [
    "simplified"
   ]
  },
  {
   "cell_type": "code",
   "execution_count": 90,
   "metadata": {
    "collapsed": false
   },
   "outputs": [
    {
     "data": {
      "text/html": [
       "<div>\n",
       "<table border=\"1\" class=\"dataframe\">\n",
       "  <thead>\n",
       "    <tr style=\"text-align: right;\">\n",
       "      <th></th>\n",
       "      <th>Do_not_optimize_2014</th>\n",
       "      <th>False</th>\n",
       "      <th>True</th>\n",
       "      <th>All</th>\n",
       "    </tr>\n",
       "    <tr>\n",
       "      <th>Do_not_optimize_2013</th>\n",
       "      <th>Same_optimal_allocation_same_family</th>\n",
       "      <th></th>\n",
       "      <th></th>\n",
       "      <th></th>\n",
       "    </tr>\n",
       "  </thead>\n",
       "  <tbody>\n",
       "    <tr>\n",
       "      <th rowspan=\"2\" valign=\"top\">False</th>\n",
       "      <th>False</th>\n",
       "      <td>504</td>\n",
       "      <td>2010</td>\n",
       "      <td>2514</td>\n",
       "    </tr>\n",
       "    <tr>\n",
       "      <th>True</th>\n",
       "      <td>15220</td>\n",
       "      <td>273</td>\n",
       "      <td>15493</td>\n",
       "    </tr>\n",
       "    <tr>\n",
       "      <th rowspan=\"2\" valign=\"top\">True</th>\n",
       "      <th>False</th>\n",
       "      <td>1916</td>\n",
       "      <td>378</td>\n",
       "      <td>2294</td>\n",
       "    </tr>\n",
       "    <tr>\n",
       "      <th>True</th>\n",
       "      <td>432</td>\n",
       "      <td>4674</td>\n",
       "      <td>5106</td>\n",
       "    </tr>\n",
       "    <tr>\n",
       "      <th>All</th>\n",
       "      <th></th>\n",
       "      <td>18072</td>\n",
       "      <td>7335</td>\n",
       "      <td>25407</td>\n",
       "    </tr>\n",
       "  </tbody>\n",
       "</table>\n",
       "</div>"
      ],
      "text/plain": [
       "Do_not_optimize_2014                                      False  True    All\n",
       "Do_not_optimize_2013 Same_optimal_allocation_same_family                    \n",
       "False                False                                  504  2010   2514\n",
       "                     True                                 15220   273  15493\n",
       "True                 False                                 1916   378   2294\n",
       "                     True                                   432  4674   5106\n",
       "All                                                       18072  7335  25407"
      ]
     },
     "execution_count": 90,
     "metadata": {},
     "output_type": "execute_result"
    }
   ],
   "source": [
    "df_temp = df_B.query(\"(Number_of_optimal_allocations_2013 == 1) & (Number_of_optimal_allocations_2014 == 1)&(Nb_enfants_2013==Nb_enfants_2014)  \")\n",
    "crosstab = pd.crosstab( [ df_temp.Do_not_optimize_2013, df_temp.Same_optimal_allocation_same_family.astype(\"bool\")],\n",
    "                        df_temp.Do_not_optimize_2014,margins = True) ; crosstab"
   ]
  },
  {
   "cell_type": "markdown",
   "metadata": {},
   "source": [
    "### 2014"
   ]
  },
  {
   "cell_type": "code",
   "execution_count": 91,
   "metadata": {
    "collapsed": false
   },
   "outputs": [
    {
     "data": {
      "text/html": [
       "<div>\n",
       "<table border=\"1\" class=\"dataframe\">\n",
       "  <thead>\n",
       "    <tr style=\"text-align: right;\">\n",
       "      <th></th>\n",
       "      <th></th>\n",
       "      <th>Switchers</th>\n",
       "      <th>False</th>\n",
       "      <th>True</th>\n",
       "      <th>All</th>\n",
       "    </tr>\n",
       "    <tr>\n",
       "      <th>Do_not_optimize_2013</th>\n",
       "      <th>Do_not_optimize_2014</th>\n",
       "      <th>Same_optimal_allocation_same_family</th>\n",
       "      <th></th>\n",
       "      <th></th>\n",
       "      <th></th>\n",
       "    </tr>\n",
       "  </thead>\n",
       "  <tbody>\n",
       "    <tr>\n",
       "      <th rowspan=\"4\" valign=\"top\">False</th>\n",
       "      <th rowspan=\"2\" valign=\"top\">False</th>\n",
       "      <th>False</th>\n",
       "      <td>NaN</td>\n",
       "      <td>0.000000</td>\n",
       "      <td>0.000000</td>\n",
       "    </tr>\n",
       "    <tr>\n",
       "      <th>True</th>\n",
       "      <td>0.000000</td>\n",
       "      <td>NaN</td>\n",
       "      <td>0.000000</td>\n",
       "    </tr>\n",
       "    <tr>\n",
       "      <th rowspan=\"2\" valign=\"top\">True</th>\n",
       "      <th>False</th>\n",
       "      <td>293.699879</td>\n",
       "      <td>630.122609</td>\n",
       "      <td>297.549493</td>\n",
       "    </tr>\n",
       "    <tr>\n",
       "      <th>True</th>\n",
       "      <td>NaN</td>\n",
       "      <td>460.374359</td>\n",
       "      <td>460.374359</td>\n",
       "    </tr>\n",
       "    <tr>\n",
       "      <th rowspan=\"4\" valign=\"top\">True</th>\n",
       "      <th rowspan=\"2\" valign=\"top\">False</th>\n",
       "      <th>False</th>\n",
       "      <td>0.000000</td>\n",
       "      <td>0.000000</td>\n",
       "      <td>0.000000</td>\n",
       "    </tr>\n",
       "    <tr>\n",
       "      <th>True</th>\n",
       "      <td>NaN</td>\n",
       "      <td>0.000000</td>\n",
       "      <td>0.000000</td>\n",
       "    </tr>\n",
       "    <tr>\n",
       "      <th rowspan=\"2\" valign=\"top\">True</th>\n",
       "      <th>False</th>\n",
       "      <td>637.089825</td>\n",
       "      <td>266.949462</td>\n",
       "      <td>546.023545</td>\n",
       "    </tr>\n",
       "    <tr>\n",
       "      <th>True</th>\n",
       "      <td>518.922447</td>\n",
       "      <td>811.485000</td>\n",
       "      <td>521.426192</td>\n",
       "    </tr>\n",
       "    <tr>\n",
       "      <th>All</th>\n",
       "      <th></th>\n",
       "      <th></th>\n",
       "      <td>132.027110</td>\n",
       "      <td>141.245150</td>\n",
       "      <td>127.114457</td>\n",
       "    </tr>\n",
       "  </tbody>\n",
       "</table>\n",
       "</div>"
      ],
      "text/plain": [
       "Switchers                                                                           False  \\\n",
       "Do_not_optimize_2013 Do_not_optimize_2014 Same_optimal_allocation_same_family               \n",
       "False                False                False                                       NaN   \n",
       "                                          True                                   0.000000   \n",
       "                     True                 False                                293.699879   \n",
       "                                          True                                        NaN   \n",
       "True                 False                False                                  0.000000   \n",
       "                                          True                                        NaN   \n",
       "                     True                 False                                637.089825   \n",
       "                                          True                                 518.922447   \n",
       "All                                                                            132.027110   \n",
       "\n",
       "Switchers                                                                            True  \\\n",
       "Do_not_optimize_2013 Do_not_optimize_2014 Same_optimal_allocation_same_family               \n",
       "False                False                False                                  0.000000   \n",
       "                                          True                                        NaN   \n",
       "                     True                 False                                630.122609   \n",
       "                                          True                                 460.374359   \n",
       "True                 False                False                                  0.000000   \n",
       "                                          True                                   0.000000   \n",
       "                     True                 False                                266.949462   \n",
       "                                          True                                 811.485000   \n",
       "All                                                                            141.245150   \n",
       "\n",
       "Switchers                                                                             All  \n",
       "Do_not_optimize_2013 Do_not_optimize_2014 Same_optimal_allocation_same_family              \n",
       "False                False                False                                  0.000000  \n",
       "                                          True                                   0.000000  \n",
       "                     True                 False                                297.549493  \n",
       "                                          True                                 460.374359  \n",
       "True                 False                False                                  0.000000  \n",
       "                                          True                                   0.000000  \n",
       "                     True                 False                                546.023545  \n",
       "                                          True                                 521.426192  \n",
       "All                                                                            127.114457  "
      ]
     },
     "execution_count": 91,
     "metadata": {},
     "output_type": "execute_result"
    }
   ],
   "source": [
    "df_temp = df_B.query(\"(Number_of_optimal_allocations_2013 == 1) & (Number_of_optimal_allocations_2014 == 1)&(Nb_enfants_2013==Nb_enfants_2014)  \")\n",
    "crosstab = pd.crosstab( [ df_temp.Do_not_optimize_2013, df_temp.Do_not_optimize_2014, df_temp.Same_optimal_allocation_same_family.astype(\"bool\")],\n",
    "                       df_temp.Switchers, margins = True, values = df_B.Fiscal_loss_2014, aggfunc = np.mean ) ; crosstab"
   ]
  },
  {
   "cell_type": "markdown",
   "metadata": {},
   "source": [
    "Simplified withouth the switcher dimension."
   ]
  },
  {
   "cell_type": "code",
   "execution_count": 92,
   "metadata": {
    "collapsed": false
   },
   "outputs": [
    {
     "data": {
      "text/html": [
       "<div>\n",
       "<table border=\"1\" class=\"dataframe\">\n",
       "  <thead>\n",
       "    <tr style=\"text-align: right;\">\n",
       "      <th></th>\n",
       "      <th>Do_not_optimize_2014</th>\n",
       "      <th>False</th>\n",
       "      <th>True</th>\n",
       "      <th>All</th>\n",
       "    </tr>\n",
       "    <tr>\n",
       "      <th>Do_not_optimize_2013</th>\n",
       "      <th>Same_optimal_allocation_same_family</th>\n",
       "      <th></th>\n",
       "      <th></th>\n",
       "      <th></th>\n",
       "    </tr>\n",
       "  </thead>\n",
       "  <tbody>\n",
       "    <tr>\n",
       "      <th rowspan=\"2\" valign=\"top\">False</th>\n",
       "      <th>False</th>\n",
       "      <td>0</td>\n",
       "      <td>297.549493</td>\n",
       "      <td>237.897566</td>\n",
       "    </tr>\n",
       "    <tr>\n",
       "      <th>True</th>\n",
       "      <td>0</td>\n",
       "      <td>460.374359</td>\n",
       "      <td>8.112193</td>\n",
       "    </tr>\n",
       "    <tr>\n",
       "      <th rowspan=\"2\" valign=\"top\">True</th>\n",
       "      <th>False</th>\n",
       "      <td>0</td>\n",
       "      <td>546.023545</td>\n",
       "      <td>89.972493</td>\n",
       "    </tr>\n",
       "    <tr>\n",
       "      <th>True</th>\n",
       "      <td>0</td>\n",
       "      <td>521.426192</td>\n",
       "      <td>477.310227</td>\n",
       "    </tr>\n",
       "    <tr>\n",
       "      <th>All</th>\n",
       "      <th></th>\n",
       "      <td>0</td>\n",
       "      <td>459.072883</td>\n",
       "      <td>127.114457</td>\n",
       "    </tr>\n",
       "  </tbody>\n",
       "</table>\n",
       "</div>"
      ],
      "text/plain": [
       "Do_not_optimize_2014                                      False        True  \\\n",
       "Do_not_optimize_2013 Same_optimal_allocation_same_family                      \n",
       "False                False                                    0  297.549493   \n",
       "                     True                                     0  460.374359   \n",
       "True                 False                                    0  546.023545   \n",
       "                     True                                     0  521.426192   \n",
       "All                                                           0  459.072883   \n",
       "\n",
       "Do_not_optimize_2014                                             All  \n",
       "Do_not_optimize_2013 Same_optimal_allocation_same_family              \n",
       "False                False                                237.897566  \n",
       "                     True                                   8.112193  \n",
       "True                 False                                 89.972493  \n",
       "                     True                                 477.310227  \n",
       "All                                                       127.114457  "
      ]
     },
     "execution_count": 92,
     "metadata": {},
     "output_type": "execute_result"
    }
   ],
   "source": [
    "df_temp = df_B.query(\"(Number_of_optimal_allocations_2013 == 1) & (Number_of_optimal_allocations_2014 == 1)&(Nb_enfants_2013==Nb_enfants_2014)  \")\n",
    "crosstab = pd.crosstab( [ df_temp.Do_not_optimize_2013, df_temp.Same_optimal_allocation_same_family.astype(\"bool\")],\n",
    "                       df_temp.Do_not_optimize_2014, margins = True, values = df_B.Fiscal_loss_2014, aggfunc = np.mean ) ; crosstab"
   ]
  },
  {
   "cell_type": "markdown",
   "metadata": {},
   "source": [
    "### 2013"
   ]
  },
  {
   "cell_type": "code",
   "execution_count": 93,
   "metadata": {
    "collapsed": false
   },
   "outputs": [
    {
     "data": {
      "text/html": [
       "<div>\n",
       "<table border=\"1\" class=\"dataframe\">\n",
       "  <thead>\n",
       "    <tr style=\"text-align: right;\">\n",
       "      <th></th>\n",
       "      <th></th>\n",
       "      <th>Switchers</th>\n",
       "      <th>False</th>\n",
       "      <th>True</th>\n",
       "      <th>All</th>\n",
       "    </tr>\n",
       "    <tr>\n",
       "      <th>Do_not_optimize_2013</th>\n",
       "      <th>Do_not_optimize_2014</th>\n",
       "      <th>Same_optimal_allocation_same_family</th>\n",
       "      <th></th>\n",
       "      <th></th>\n",
       "      <th></th>\n",
       "    </tr>\n",
       "  </thead>\n",
       "  <tbody>\n",
       "    <tr>\n",
       "      <th rowspan=\"4\" valign=\"top\">False</th>\n",
       "      <th rowspan=\"2\" valign=\"top\">False</th>\n",
       "      <th>False</th>\n",
       "      <td>NaN</td>\n",
       "      <td>0.000000</td>\n",
       "      <td>0.000000</td>\n",
       "    </tr>\n",
       "    <tr>\n",
       "      <th>True</th>\n",
       "      <td>0.000000</td>\n",
       "      <td>NaN</td>\n",
       "      <td>0.000000</td>\n",
       "    </tr>\n",
       "    <tr>\n",
       "      <th rowspan=\"2\" valign=\"top\">True</th>\n",
       "      <th>False</th>\n",
       "      <td>0.000000</td>\n",
       "      <td>0.000000</td>\n",
       "      <td>0.000000</td>\n",
       "    </tr>\n",
       "    <tr>\n",
       "      <th>True</th>\n",
       "      <td>NaN</td>\n",
       "      <td>0.000000</td>\n",
       "      <td>0.000000</td>\n",
       "    </tr>\n",
       "    <tr>\n",
       "      <th rowspan=\"4\" valign=\"top\">True</th>\n",
       "      <th rowspan=\"2\" valign=\"top\">False</th>\n",
       "      <th>False</th>\n",
       "      <td>170.875838</td>\n",
       "      <td>396.699545</td>\n",
       "      <td>174.765286</td>\n",
       "    </tr>\n",
       "    <tr>\n",
       "      <th>True</th>\n",
       "      <td>NaN</td>\n",
       "      <td>405.360842</td>\n",
       "      <td>405.360842</td>\n",
       "    </tr>\n",
       "    <tr>\n",
       "      <th rowspan=\"2\" valign=\"top\">True</th>\n",
       "      <th>False</th>\n",
       "      <td>407.317123</td>\n",
       "      <td>254.997675</td>\n",
       "      <td>369.841703</td>\n",
       "    </tr>\n",
       "    <tr>\n",
       "      <th>True</th>\n",
       "      <td>371.604791</td>\n",
       "      <td>535.288094</td>\n",
       "      <td>373.005589</td>\n",
       "    </tr>\n",
       "    <tr>\n",
       "      <th>All</th>\n",
       "      <th></th>\n",
       "      <th></th>\n",
       "      <td>89.960481</td>\n",
       "      <td>166.905062</td>\n",
       "      <td>93.276612</td>\n",
       "    </tr>\n",
       "  </tbody>\n",
       "</table>\n",
       "</div>"
      ],
      "text/plain": [
       "Switchers                                                                           False  \\\n",
       "Do_not_optimize_2013 Do_not_optimize_2014 Same_optimal_allocation_same_family               \n",
       "False                False                False                                       NaN   \n",
       "                                          True                                   0.000000   \n",
       "                     True                 False                                  0.000000   \n",
       "                                          True                                        NaN   \n",
       "True                 False                False                                170.875838   \n",
       "                                          True                                        NaN   \n",
       "                     True                 False                                407.317123   \n",
       "                                          True                                 371.604791   \n",
       "All                                                                             89.960481   \n",
       "\n",
       "Switchers                                                                            True  \\\n",
       "Do_not_optimize_2013 Do_not_optimize_2014 Same_optimal_allocation_same_family               \n",
       "False                False                False                                  0.000000   \n",
       "                                          True                                        NaN   \n",
       "                     True                 False                                  0.000000   \n",
       "                                          True                                   0.000000   \n",
       "True                 False                False                                396.699545   \n",
       "                                          True                                 405.360842   \n",
       "                     True                 False                                254.997675   \n",
       "                                          True                                 535.288094   \n",
       "All                                                                            166.905062   \n",
       "\n",
       "Switchers                                                                             All  \n",
       "Do_not_optimize_2013 Do_not_optimize_2014 Same_optimal_allocation_same_family              \n",
       "False                False                False                                  0.000000  \n",
       "                                          True                                   0.000000  \n",
       "                     True                 False                                  0.000000  \n",
       "                                          True                                   0.000000  \n",
       "True                 False                False                                174.765286  \n",
       "                                          True                                 405.360842  \n",
       "                     True                 False                                369.841703  \n",
       "                                          True                                 373.005589  \n",
       "All                                                                             93.276612  "
      ]
     },
     "execution_count": 93,
     "metadata": {},
     "output_type": "execute_result"
    }
   ],
   "source": [
    "df_temp = df_B.query(\"(Number_of_optimal_allocations_2013 == 1) & (Number_of_optimal_allocations_2014 == 1)&(Nb_enfants_2013==Nb_enfants_2014)  \")\n",
    "crosstab = pd.crosstab( [ df_temp.Do_not_optimize_2013, df_temp.Do_not_optimize_2014, df_temp.Same_optimal_allocation_same_family.astype(\"bool\")],\n",
    "                       df_temp.Switchers, margins = True, values = df_B.Fiscal_loss_2013, aggfunc = np.mean ) ; crosstab"
   ]
  },
  {
   "cell_type": "code",
   "execution_count": 94,
   "metadata": {
    "collapsed": false
   },
   "outputs": [
    {
     "data": {
      "text/html": [
       "<div>\n",
       "<table border=\"1\" class=\"dataframe\">\n",
       "  <thead>\n",
       "    <tr style=\"text-align: right;\">\n",
       "      <th></th>\n",
       "      <th>Do_not_optimize_2014</th>\n",
       "      <th>False</th>\n",
       "      <th>True</th>\n",
       "      <th>All</th>\n",
       "    </tr>\n",
       "    <tr>\n",
       "      <th>Do_not_optimize_2013</th>\n",
       "      <th>Same_optimal_allocation_same_family</th>\n",
       "      <th></th>\n",
       "      <th></th>\n",
       "      <th></th>\n",
       "    </tr>\n",
       "  </thead>\n",
       "  <tbody>\n",
       "    <tr>\n",
       "      <th rowspan=\"2\" valign=\"top\">False</th>\n",
       "      <th>False</th>\n",
       "      <td>0.000000</td>\n",
       "      <td>0.000000</td>\n",
       "      <td>0.000000</td>\n",
       "    </tr>\n",
       "    <tr>\n",
       "      <th>True</th>\n",
       "      <td>0.000000</td>\n",
       "      <td>0.000000</td>\n",
       "      <td>0.000000</td>\n",
       "    </tr>\n",
       "    <tr>\n",
       "      <th rowspan=\"2\" valign=\"top\">True</th>\n",
       "      <th>False</th>\n",
       "      <td>174.765286</td>\n",
       "      <td>369.841703</td>\n",
       "      <td>206.909526</td>\n",
       "    </tr>\n",
       "    <tr>\n",
       "      <th>True</th>\n",
       "      <td>405.360842</td>\n",
       "      <td>373.005589</td>\n",
       "      <td>375.743049</td>\n",
       "    </tr>\n",
       "    <tr>\n",
       "      <th>All</th>\n",
       "      <th></th>\n",
       "      <td>28.218580</td>\n",
       "      <td>256.745506</td>\n",
       "      <td>93.276612</td>\n",
       "    </tr>\n",
       "  </tbody>\n",
       "</table>\n",
       "</div>"
      ],
      "text/plain": [
       "Do_not_optimize_2014                                           False  \\\n",
       "Do_not_optimize_2013 Same_optimal_allocation_same_family               \n",
       "False                False                                  0.000000   \n",
       "                     True                                   0.000000   \n",
       "True                 False                                174.765286   \n",
       "                     True                                 405.360842   \n",
       "All                                                        28.218580   \n",
       "\n",
       "Do_not_optimize_2014                                            True  \\\n",
       "Do_not_optimize_2013 Same_optimal_allocation_same_family               \n",
       "False                False                                  0.000000   \n",
       "                     True                                   0.000000   \n",
       "True                 False                                369.841703   \n",
       "                     True                                 373.005589   \n",
       "All                                                       256.745506   \n",
       "\n",
       "Do_not_optimize_2014                                             All  \n",
       "Do_not_optimize_2013 Same_optimal_allocation_same_family              \n",
       "False                False                                  0.000000  \n",
       "                     True                                   0.000000  \n",
       "True                 False                                206.909526  \n",
       "                     True                                 375.743049  \n",
       "All                                                        93.276612  "
      ]
     },
     "execution_count": 94,
     "metadata": {},
     "output_type": "execute_result"
    }
   ],
   "source": [
    "df_temp = df_B.query(\"(Number_of_optimal_allocations_2013 == 1) & (Number_of_optimal_allocations_2014 == 1)&(Nb_enfants_2013==Nb_enfants_2014)  \")\n",
    "crosstab = pd.crosstab( [ df_temp.Do_not_optimize_2013, df_temp.Same_optimal_allocation_same_family.astype(\"bool\")],\n",
    "                       df_temp.Do_not_optimize_2014, margins = True, values = df_B.Fiscal_loss_2013, aggfunc = np.mean ) ; crosstab"
   ]
  },
  {
   "cell_type": "code",
   "execution_count": 95,
   "metadata": {
    "collapsed": false
   },
   "outputs": [
    {
     "name": "stdout",
     "output_type": "stream",
     "text": [
      "1 children\n"
     ]
    },
    {
     "data": {
      "text/html": [
       "<div>\n",
       "<table border=\"1\" class=\"dataframe\">\n",
       "  <thead>\n",
       "    <tr style=\"text-align: right;\">\n",
       "      <th></th>\n",
       "      <th></th>\n",
       "      <th>Switchers</th>\n",
       "      <th>False</th>\n",
       "      <th>True</th>\n",
       "      <th>All</th>\n",
       "    </tr>\n",
       "    <tr>\n",
       "      <th>Do_not_optimize_2013</th>\n",
       "      <th>Do_not_optimize_2014</th>\n",
       "      <th>Same_optimal_allocation_same_family</th>\n",
       "      <th></th>\n",
       "      <th></th>\n",
       "      <th></th>\n",
       "    </tr>\n",
       "  </thead>\n",
       "  <tbody>\n",
       "    <tr>\n",
       "      <th rowspan=\"4\" valign=\"top\">False</th>\n",
       "      <th rowspan=\"2\" valign=\"top\">False</th>\n",
       "      <th>False</th>\n",
       "      <td>NaN</td>\n",
       "      <td>0.000000</td>\n",
       "      <td>0.000000</td>\n",
       "    </tr>\n",
       "    <tr>\n",
       "      <th>True</th>\n",
       "      <td>0.000000</td>\n",
       "      <td>NaN</td>\n",
       "      <td>0.000000</td>\n",
       "    </tr>\n",
       "    <tr>\n",
       "      <th rowspan=\"2\" valign=\"top\">True</th>\n",
       "      <th>False</th>\n",
       "      <td>277.002244</td>\n",
       "      <td>NaN</td>\n",
       "      <td>277.002244</td>\n",
       "    </tr>\n",
       "    <tr>\n",
       "      <th>True</th>\n",
       "      <td>NaN</td>\n",
       "      <td>464.069128</td>\n",
       "      <td>464.069128</td>\n",
       "    </tr>\n",
       "    <tr>\n",
       "      <th rowspan=\"4\" valign=\"top\">True</th>\n",
       "      <th rowspan=\"2\" valign=\"top\">False</th>\n",
       "      <th>False</th>\n",
       "      <td>0.000000</td>\n",
       "      <td>NaN</td>\n",
       "      <td>0.000000</td>\n",
       "    </tr>\n",
       "    <tr>\n",
       "      <th>True</th>\n",
       "      <td>NaN</td>\n",
       "      <td>0.000000</td>\n",
       "      <td>0.000000</td>\n",
       "    </tr>\n",
       "    <tr>\n",
       "      <th rowspan=\"2\" valign=\"top\">True</th>\n",
       "      <th>False</th>\n",
       "      <td>NaN</td>\n",
       "      <td>196.008108</td>\n",
       "      <td>196.008108</td>\n",
       "    </tr>\n",
       "    <tr>\n",
       "      <th>True</th>\n",
       "      <td>411.801946</td>\n",
       "      <td>NaN</td>\n",
       "      <td>411.801946</td>\n",
       "    </tr>\n",
       "    <tr>\n",
       "      <th>All</th>\n",
       "      <th></th>\n",
       "      <th></th>\n",
       "      <td>92.192589</td>\n",
       "      <td>116.107295</td>\n",
       "      <td>127.114457</td>\n",
       "    </tr>\n",
       "  </tbody>\n",
       "</table>\n",
       "</div>"
      ],
      "text/plain": [
       "Switchers                                                                           False  \\\n",
       "Do_not_optimize_2013 Do_not_optimize_2014 Same_optimal_allocation_same_family               \n",
       "False                False                False                                       NaN   \n",
       "                                          True                                   0.000000   \n",
       "                     True                 False                                277.002244   \n",
       "                                          True                                        NaN   \n",
       "True                 False                False                                  0.000000   \n",
       "                                          True                                        NaN   \n",
       "                     True                 False                                       NaN   \n",
       "                                          True                                 411.801946   \n",
       "All                                                                             92.192589   \n",
       "\n",
       "Switchers                                                                            True  \\\n",
       "Do_not_optimize_2013 Do_not_optimize_2014 Same_optimal_allocation_same_family               \n",
       "False                False                False                                  0.000000   \n",
       "                                          True                                        NaN   \n",
       "                     True                 False                                       NaN   \n",
       "                                          True                                 464.069128   \n",
       "True                 False                False                                       NaN   \n",
       "                                          True                                   0.000000   \n",
       "                     True                 False                                196.008108   \n",
       "                                          True                                        NaN   \n",
       "All                                                                            116.107295   \n",
       "\n",
       "Switchers                                                                             All  \n",
       "Do_not_optimize_2013 Do_not_optimize_2014 Same_optimal_allocation_same_family              \n",
       "False                False                False                                  0.000000  \n",
       "                                          True                                   0.000000  \n",
       "                     True                 False                                277.002244  \n",
       "                                          True                                 464.069128  \n",
       "True                 False                False                                  0.000000  \n",
       "                                          True                                   0.000000  \n",
       "                     True                 False                                196.008108  \n",
       "                                          True                                 411.801946  \n",
       "All                                                                            127.114457  "
      ]
     },
     "metadata": {},
     "output_type": "display_data"
    },
    {
     "name": "stdout",
     "output_type": "stream",
     "text": [
      "2 children\n"
     ]
    },
    {
     "data": {
      "text/html": [
       "<div>\n",
       "<table border=\"1\" class=\"dataframe\">\n",
       "  <thead>\n",
       "    <tr style=\"text-align: right;\">\n",
       "      <th></th>\n",
       "      <th></th>\n",
       "      <th>Switchers</th>\n",
       "      <th>False</th>\n",
       "      <th>True</th>\n",
       "      <th>All</th>\n",
       "    </tr>\n",
       "    <tr>\n",
       "      <th>Do_not_optimize_2013</th>\n",
       "      <th>Do_not_optimize_2014</th>\n",
       "      <th>Same_optimal_allocation_same_family</th>\n",
       "      <th></th>\n",
       "      <th></th>\n",
       "      <th></th>\n",
       "    </tr>\n",
       "  </thead>\n",
       "  <tbody>\n",
       "    <tr>\n",
       "      <th rowspan=\"4\" valign=\"top\">False</th>\n",
       "      <th rowspan=\"2\" valign=\"top\">False</th>\n",
       "      <th>False</th>\n",
       "      <td>NaN</td>\n",
       "      <td>0.000000</td>\n",
       "      <td>0.000000</td>\n",
       "    </tr>\n",
       "    <tr>\n",
       "      <th>True</th>\n",
       "      <td>0.000000</td>\n",
       "      <td>NaN</td>\n",
       "      <td>0.000000</td>\n",
       "    </tr>\n",
       "    <tr>\n",
       "      <th rowspan=\"2\" valign=\"top\">True</th>\n",
       "      <th>False</th>\n",
       "      <td>307.196362</td>\n",
       "      <td>561.201000</td>\n",
       "      <td>312.612239</td>\n",
       "    </tr>\n",
       "    <tr>\n",
       "      <th>True</th>\n",
       "      <td>NaN</td>\n",
       "      <td>468.461379</td>\n",
       "      <td>468.461379</td>\n",
       "    </tr>\n",
       "    <tr>\n",
       "      <th rowspan=\"4\" valign=\"top\">True</th>\n",
       "      <th rowspan=\"2\" valign=\"top\">False</th>\n",
       "      <th>False</th>\n",
       "      <td>0.000000</td>\n",
       "      <td>0.000000</td>\n",
       "      <td>0.000000</td>\n",
       "    </tr>\n",
       "    <tr>\n",
       "      <th>True</th>\n",
       "      <td>NaN</td>\n",
       "      <td>0.000000</td>\n",
       "      <td>0.000000</td>\n",
       "    </tr>\n",
       "    <tr>\n",
       "      <th rowspan=\"2\" valign=\"top\">True</th>\n",
       "      <th>False</th>\n",
       "      <td>555.007710</td>\n",
       "      <td>273.463600</td>\n",
       "      <td>509.888462</td>\n",
       "    </tr>\n",
       "    <tr>\n",
       "      <th>True</th>\n",
       "      <td>569.232221</td>\n",
       "      <td>698.609143</td>\n",
       "      <td>571.355143</td>\n",
       "    </tr>\n",
       "    <tr>\n",
       "      <th>All</th>\n",
       "      <th></th>\n",
       "      <th></th>\n",
       "      <td>167.944022</td>\n",
       "      <td>153.842789</td>\n",
       "      <td>127.114457</td>\n",
       "    </tr>\n",
       "  </tbody>\n",
       "</table>\n",
       "</div>"
      ],
      "text/plain": [
       "Switchers                                                                           False  \\\n",
       "Do_not_optimize_2013 Do_not_optimize_2014 Same_optimal_allocation_same_family               \n",
       "False                False                False                                       NaN   \n",
       "                                          True                                   0.000000   \n",
       "                     True                 False                                307.196362   \n",
       "                                          True                                        NaN   \n",
       "True                 False                False                                  0.000000   \n",
       "                                          True                                        NaN   \n",
       "                     True                 False                                555.007710   \n",
       "                                          True                                 569.232221   \n",
       "All                                                                            167.944022   \n",
       "\n",
       "Switchers                                                                            True  \\\n",
       "Do_not_optimize_2013 Do_not_optimize_2014 Same_optimal_allocation_same_family               \n",
       "False                False                False                                  0.000000   \n",
       "                                          True                                        NaN   \n",
       "                     True                 False                                561.201000   \n",
       "                                          True                                 468.461379   \n",
       "True                 False                False                                  0.000000   \n",
       "                                          True                                   0.000000   \n",
       "                     True                 False                                273.463600   \n",
       "                                          True                                 698.609143   \n",
       "All                                                                            153.842789   \n",
       "\n",
       "Switchers                                                                             All  \n",
       "Do_not_optimize_2013 Do_not_optimize_2014 Same_optimal_allocation_same_family              \n",
       "False                False                False                                  0.000000  \n",
       "                                          True                                   0.000000  \n",
       "                     True                 False                                312.612239  \n",
       "                                          True                                 468.461379  \n",
       "True                 False                False                                  0.000000  \n",
       "                                          True                                   0.000000  \n",
       "                     True                 False                                509.888462  \n",
       "                                          True                                 571.355143  \n",
       "All                                                                            127.114457  "
      ]
     },
     "metadata": {},
     "output_type": "display_data"
    },
    {
     "name": "stdout",
     "output_type": "stream",
     "text": [
      "3 children\n"
     ]
    },
    {
     "data": {
      "text/html": [
       "<div>\n",
       "<table border=\"1\" class=\"dataframe\">\n",
       "  <thead>\n",
       "    <tr style=\"text-align: right;\">\n",
       "      <th></th>\n",
       "      <th></th>\n",
       "      <th>Switchers</th>\n",
       "      <th>False</th>\n",
       "      <th>True</th>\n",
       "      <th>All</th>\n",
       "    </tr>\n",
       "    <tr>\n",
       "      <th>Do_not_optimize_2013</th>\n",
       "      <th>Do_not_optimize_2014</th>\n",
       "      <th>Same_optimal_allocation_same_family</th>\n",
       "      <th></th>\n",
       "      <th></th>\n",
       "      <th></th>\n",
       "    </tr>\n",
       "  </thead>\n",
       "  <tbody>\n",
       "    <tr>\n",
       "      <th rowspan=\"4\" valign=\"top\">False</th>\n",
       "      <th rowspan=\"2\" valign=\"top\">False</th>\n",
       "      <th>False</th>\n",
       "      <td>NaN</td>\n",
       "      <td>0.00000</td>\n",
       "      <td>0.000000</td>\n",
       "    </tr>\n",
       "    <tr>\n",
       "      <th>True</th>\n",
       "      <td>0.000000</td>\n",
       "      <td>NaN</td>\n",
       "      <td>0.000000</td>\n",
       "    </tr>\n",
       "    <tr>\n",
       "      <th rowspan=\"2\" valign=\"top\">True</th>\n",
       "      <th>False</th>\n",
       "      <td>377.581905</td>\n",
       "      <td>1523.06000</td>\n",
       "      <td>429.649091</td>\n",
       "    </tr>\n",
       "    <tr>\n",
       "      <th>True</th>\n",
       "      <td>NaN</td>\n",
       "      <td>274.29750</td>\n",
       "      <td>274.297500</td>\n",
       "    </tr>\n",
       "    <tr>\n",
       "      <th rowspan=\"4\" valign=\"top\">True</th>\n",
       "      <th rowspan=\"2\" valign=\"top\">False</th>\n",
       "      <th>False</th>\n",
       "      <td>0.000000</td>\n",
       "      <td>0.00000</td>\n",
       "      <td>0.000000</td>\n",
       "    </tr>\n",
       "    <tr>\n",
       "      <th>True</th>\n",
       "      <td>NaN</td>\n",
       "      <td>0.00000</td>\n",
       "      <td>0.000000</td>\n",
       "    </tr>\n",
       "    <tr>\n",
       "      <th rowspan=\"2\" valign=\"top\">True</th>\n",
       "      <th>False</th>\n",
       "      <td>1185.630000</td>\n",
       "      <td>665.64400</td>\n",
       "      <td>1032.692941</td>\n",
       "    </tr>\n",
       "    <tr>\n",
       "      <th>True</th>\n",
       "      <td>978.085649</td>\n",
       "      <td>1601.61600</td>\n",
       "      <td>1001.009559</td>\n",
       "    </tr>\n",
       "    <tr>\n",
       "      <th>All</th>\n",
       "      <th></th>\n",
       "      <th></th>\n",
       "      <td>232.669441</td>\n",
       "      <td>263.12381</td>\n",
       "      <td>127.114457</td>\n",
       "    </tr>\n",
       "  </tbody>\n",
       "</table>\n",
       "</div>"
      ],
      "text/plain": [
       "Switchers                                                                            False  \\\n",
       "Do_not_optimize_2013 Do_not_optimize_2014 Same_optimal_allocation_same_family                \n",
       "False                False                False                                        NaN   \n",
       "                                          True                                    0.000000   \n",
       "                     True                 False                                 377.581905   \n",
       "                                          True                                         NaN   \n",
       "True                 False                False                                   0.000000   \n",
       "                                          True                                         NaN   \n",
       "                     True                 False                                1185.630000   \n",
       "                                          True                                  978.085649   \n",
       "All                                                                             232.669441   \n",
       "\n",
       "Switchers                                                                            True  \\\n",
       "Do_not_optimize_2013 Do_not_optimize_2014 Same_optimal_allocation_same_family               \n",
       "False                False                False                                   0.00000   \n",
       "                                          True                                        NaN   \n",
       "                     True                 False                                1523.06000   \n",
       "                                          True                                  274.29750   \n",
       "True                 False                False                                   0.00000   \n",
       "                                          True                                    0.00000   \n",
       "                     True                 False                                 665.64400   \n",
       "                                          True                                 1601.61600   \n",
       "All                                                                             263.12381   \n",
       "\n",
       "Switchers                                                                              All  \n",
       "Do_not_optimize_2013 Do_not_optimize_2014 Same_optimal_allocation_same_family               \n",
       "False                False                False                                   0.000000  \n",
       "                                          True                                    0.000000  \n",
       "                     True                 False                                 429.649091  \n",
       "                                          True                                  274.297500  \n",
       "True                 False                False                                   0.000000  \n",
       "                                          True                                    0.000000  \n",
       "                     True                 False                                1032.692941  \n",
       "                                          True                                 1001.009559  \n",
       "All                                                                             127.114457  "
      ]
     },
     "metadata": {},
     "output_type": "display_data"
    },
    {
     "name": "stdout",
     "output_type": "stream",
     "text": [
      "4 children\n"
     ]
    },
    {
     "data": {
      "text/html": [
       "<div>\n",
       "<table border=\"1\" class=\"dataframe\">\n",
       "  <thead>\n",
       "    <tr style=\"text-align: right;\">\n",
       "      <th></th>\n",
       "      <th></th>\n",
       "      <th>Switchers</th>\n",
       "      <th>False</th>\n",
       "      <th>True</th>\n",
       "      <th>All</th>\n",
       "    </tr>\n",
       "    <tr>\n",
       "      <th>Do_not_optimize_2013</th>\n",
       "      <th>Do_not_optimize_2014</th>\n",
       "      <th>Same_optimal_allocation_same_family</th>\n",
       "      <th></th>\n",
       "      <th></th>\n",
       "      <th></th>\n",
       "    </tr>\n",
       "  </thead>\n",
       "  <tbody>\n",
       "    <tr>\n",
       "      <th rowspan=\"3\" valign=\"top\">False</th>\n",
       "      <th rowspan=\"2\" valign=\"top\">False</th>\n",
       "      <th>False</th>\n",
       "      <td>NaN</td>\n",
       "      <td>0.00</td>\n",
       "      <td>0.000000</td>\n",
       "    </tr>\n",
       "    <tr>\n",
       "      <th>True</th>\n",
       "      <td>0.000000</td>\n",
       "      <td>NaN</td>\n",
       "      <td>0.000000</td>\n",
       "    </tr>\n",
       "    <tr>\n",
       "      <th>True</th>\n",
       "      <th>False</th>\n",
       "      <td>894.830000</td>\n",
       "      <td>222.68</td>\n",
       "      <td>670.780000</td>\n",
       "    </tr>\n",
       "    <tr>\n",
       "      <th rowspan=\"3\" valign=\"top\">True</th>\n",
       "      <th>False</th>\n",
       "      <th>False</th>\n",
       "      <td>0.000000</td>\n",
       "      <td>NaN</td>\n",
       "      <td>0.000000</td>\n",
       "    </tr>\n",
       "    <tr>\n",
       "      <th rowspan=\"2\" valign=\"top\">True</th>\n",
       "      <th>False</th>\n",
       "      <td>1993.729091</td>\n",
       "      <td>NaN</td>\n",
       "      <td>1993.729091</td>\n",
       "    </tr>\n",
       "    <tr>\n",
       "      <th>True</th>\n",
       "      <td>2179.581154</td>\n",
       "      <td>NaN</td>\n",
       "      <td>2179.581154</td>\n",
       "    </tr>\n",
       "    <tr>\n",
       "      <th>All</th>\n",
       "      <th></th>\n",
       "      <th></th>\n",
       "      <td>1671.450000</td>\n",
       "      <td>111.34</td>\n",
       "      <td>127.114457</td>\n",
       "    </tr>\n",
       "  </tbody>\n",
       "</table>\n",
       "</div>"
      ],
      "text/plain": [
       "Switchers                                                                            False  \\\n",
       "Do_not_optimize_2013 Do_not_optimize_2014 Same_optimal_allocation_same_family                \n",
       "False                False                False                                        NaN   \n",
       "                                          True                                    0.000000   \n",
       "                     True                 False                                 894.830000   \n",
       "True                 False                False                                   0.000000   \n",
       "                     True                 False                                1993.729091   \n",
       "                                          True                                 2179.581154   \n",
       "All                                                                            1671.450000   \n",
       "\n",
       "Switchers                                                                        True  \\\n",
       "Do_not_optimize_2013 Do_not_optimize_2014 Same_optimal_allocation_same_family           \n",
       "False                False                False                                  0.00   \n",
       "                                          True                                    NaN   \n",
       "                     True                 False                                222.68   \n",
       "True                 False                False                                   NaN   \n",
       "                     True                 False                                   NaN   \n",
       "                                          True                                    NaN   \n",
       "All                                                                            111.34   \n",
       "\n",
       "Switchers                                                                              All  \n",
       "Do_not_optimize_2013 Do_not_optimize_2014 Same_optimal_allocation_same_family               \n",
       "False                False                False                                   0.000000  \n",
       "                                          True                                    0.000000  \n",
       "                     True                 False                                 670.780000  \n",
       "True                 False                False                                   0.000000  \n",
       "                     True                 False                                1993.729091  \n",
       "                                          True                                 2179.581154  \n",
       "All                                                                             127.114457  "
      ]
     },
     "metadata": {},
     "output_type": "display_data"
    }
   ],
   "source": [
    "for child in range(1,5):\n",
    "    df_temp = df_B.query(\"(Number_of_optimal_allocations_2013 == 1) & (Number_of_optimal_allocations_2014 == 1)&(Nb_enfants_2013==Nb_enfants_2014) & (Nb_enfants_2013=={})\".format(child))\n",
    "    crosstab = pd.crosstab( [ df_temp.Do_not_optimize_2013, df_temp.Do_not_optimize_2014, df_temp.Same_optimal_allocation_same_family.astype(\"bool\")],\n",
    "                           df_temp.Switchers, margins = True, values = df_B.Fiscal_loss_2014, aggfunc = np.mean )\n",
    "    print(\"{} children\".format(child))\n",
    "    display(crosstab)"
   ]
  },
  {
   "cell_type": "code",
   "execution_count": 96,
   "metadata": {
    "collapsed": true
   },
   "outputs": [],
   "source": []
  },
  {
   "cell_type": "markdown",
   "metadata": {},
   "source": [
    "### Counterfactual income"
   ]
  },
  {
   "cell_type": "code",
   "execution_count": 96,
   "metadata": {
    "collapsed": false
   },
   "outputs": [
    {
     "data": {
      "text/html": [
       "<div>\n",
       "<table border=\"1\" class=\"dataframe\">\n",
       "  <thead>\n",
       "    <tr style=\"text-align: right;\">\n",
       "      <th></th>\n",
       "      <th></th>\n",
       "      <th>Switchers</th>\n",
       "      <th>False</th>\n",
       "      <th>True</th>\n",
       "      <th>All</th>\n",
       "    </tr>\n",
       "    <tr>\n",
       "      <th>Do_not_optimize_2013</th>\n",
       "      <th>Do_not_optimize_2014</th>\n",
       "      <th>Same_optimal_allocation_same_family</th>\n",
       "      <th></th>\n",
       "      <th></th>\n",
       "      <th></th>\n",
       "    </tr>\n",
       "  </thead>\n",
       "  <tbody>\n",
       "    <tr>\n",
       "      <th rowspan=\"4\" valign=\"top\">False</th>\n",
       "      <th rowspan=\"2\" valign=\"top\">False</th>\n",
       "      <th>False</th>\n",
       "      <td>NaN</td>\n",
       "      <td>0.128968</td>\n",
       "      <td>0.128968</td>\n",
       "    </tr>\n",
       "    <tr>\n",
       "      <th>True</th>\n",
       "      <td>0.033377</td>\n",
       "      <td>NaN</td>\n",
       "      <td>0.033377</td>\n",
       "    </tr>\n",
       "    <tr>\n",
       "      <th rowspan=\"2\" valign=\"top\">True</th>\n",
       "      <th>False</th>\n",
       "      <td>0.784097</td>\n",
       "      <td>1.000000</td>\n",
       "      <td>0.786567</td>\n",
       "    </tr>\n",
       "    <tr>\n",
       "      <th>True</th>\n",
       "      <td>NaN</td>\n",
       "      <td>0.908425</td>\n",
       "      <td>0.908425</td>\n",
       "    </tr>\n",
       "    <tr>\n",
       "      <th rowspan=\"4\" valign=\"top\">True</th>\n",
       "      <th rowspan=\"2\" valign=\"top\">False</th>\n",
       "      <th>False</th>\n",
       "      <td>0.235794</td>\n",
       "      <td>0.090909</td>\n",
       "      <td>0.233299</td>\n",
       "    </tr>\n",
       "    <tr>\n",
       "      <th>True</th>\n",
       "      <td>NaN</td>\n",
       "      <td>0.050926</td>\n",
       "      <td>0.050926</td>\n",
       "    </tr>\n",
       "    <tr>\n",
       "      <th rowspan=\"2\" valign=\"top\">True</th>\n",
       "      <th>False</th>\n",
       "      <td>0.891228</td>\n",
       "      <td>0.806452</td>\n",
       "      <td>0.870370</td>\n",
       "    </tr>\n",
       "    <tr>\n",
       "      <th>True</th>\n",
       "      <td>0.931161</td>\n",
       "      <td>0.950000</td>\n",
       "      <td>0.931322</td>\n",
       "    </tr>\n",
       "    <tr>\n",
       "      <th>All</th>\n",
       "      <th></th>\n",
       "      <th></th>\n",
       "      <td>0.294848</td>\n",
       "      <td>0.339056</td>\n",
       "      <td>0.299826</td>\n",
       "    </tr>\n",
       "  </tbody>\n",
       "</table>\n",
       "</div>"
      ],
      "text/plain": [
       "Switchers                                                                         False  \\\n",
       "Do_not_optimize_2013 Do_not_optimize_2014 Same_optimal_allocation_same_family             \n",
       "False                False                False                                     NaN   \n",
       "                                          True                                 0.033377   \n",
       "                     True                 False                                0.784097   \n",
       "                                          True                                      NaN   \n",
       "True                 False                False                                0.235794   \n",
       "                                          True                                      NaN   \n",
       "                     True                 False                                0.891228   \n",
       "                                          True                                 0.931161   \n",
       "All                                                                            0.294848   \n",
       "\n",
       "Switchers                                                                          True  \\\n",
       "Do_not_optimize_2013 Do_not_optimize_2014 Same_optimal_allocation_same_family             \n",
       "False                False                False                                0.128968   \n",
       "                                          True                                      NaN   \n",
       "                     True                 False                                1.000000   \n",
       "                                          True                                 0.908425   \n",
       "True                 False                False                                0.090909   \n",
       "                                          True                                 0.050926   \n",
       "                     True                 False                                0.806452   \n",
       "                                          True                                 0.950000   \n",
       "All                                                                            0.339056   \n",
       "\n",
       "Switchers                                                                           All  \n",
       "Do_not_optimize_2013 Do_not_optimize_2014 Same_optimal_allocation_same_family            \n",
       "False                False                False                                0.128968  \n",
       "                                          True                                 0.033377  \n",
       "                     True                 False                                0.786567  \n",
       "                                          True                                 0.908425  \n",
       "True                 False                False                                0.233299  \n",
       "                                          True                                 0.050926  \n",
       "                     True                 False                                0.870370  \n",
       "                                          True                                 0.931322  \n",
       "All                                                                            0.299826  "
      ]
     },
     "execution_count": 96,
     "metadata": {},
     "output_type": "execute_result"
    }
   ],
   "source": [
    "df_temp = df_B.query(\"(Number_of_optimal_allocations_2013 == 1) & (Number_of_optimal_allocations_2014 == 1)&(Nb_enfants_2013==Nb_enfants_2014)  \")\n",
    "crosstab = pd.crosstab( [ df_temp.Do_not_optimize_2013, df_temp.Do_not_optimize_2014, df_temp.Same_optimal_allocation_same_family.astype(\"bool\")],\n",
    "                       df_temp.Switchers, margins = True,\n",
    "                       values = df_B.Counterfactual_2013_ir_on_2014_rni_Do_not_optimize.astype(\"float\"), aggfunc = np.mean ) ; crosstab"
   ]
  },
  {
   "cell_type": "code",
   "execution_count": 97,
   "metadata": {
    "collapsed": false
   },
   "outputs": [
    {
     "data": {
      "text/html": [
       "<div>\n",
       "<table border=\"1\" class=\"dataframe\">\n",
       "  <thead>\n",
       "    <tr style=\"text-align: right;\">\n",
       "      <th></th>\n",
       "      <th></th>\n",
       "      <th>Switchers</th>\n",
       "      <th>False</th>\n",
       "      <th>True</th>\n",
       "      <th>All</th>\n",
       "    </tr>\n",
       "    <tr>\n",
       "      <th>Do_not_optimize_2013</th>\n",
       "      <th>Do_not_optimize_2014</th>\n",
       "      <th>Same_optimal_allocation_same_family</th>\n",
       "      <th></th>\n",
       "      <th></th>\n",
       "      <th></th>\n",
       "    </tr>\n",
       "  </thead>\n",
       "  <tbody>\n",
       "    <tr>\n",
       "      <th rowspan=\"4\" valign=\"top\">False</th>\n",
       "      <th rowspan=\"2\" valign=\"top\">False</th>\n",
       "      <th>False</th>\n",
       "      <td>NaN</td>\n",
       "      <td>0.109127</td>\n",
       "      <td>0.109127</td>\n",
       "    </tr>\n",
       "    <tr>\n",
       "      <th>True</th>\n",
       "      <td>0.020762</td>\n",
       "      <td>NaN</td>\n",
       "      <td>0.020762</td>\n",
       "    </tr>\n",
       "    <tr>\n",
       "      <th rowspan=\"2\" valign=\"top\">True</th>\n",
       "      <th>False</th>\n",
       "      <td>0.167589</td>\n",
       "      <td>0.173913</td>\n",
       "      <td>0.167662</td>\n",
       "    </tr>\n",
       "    <tr>\n",
       "      <th>True</th>\n",
       "      <td>NaN</td>\n",
       "      <td>0.029304</td>\n",
       "      <td>0.029304</td>\n",
       "    </tr>\n",
       "    <tr>\n",
       "      <th rowspan=\"4\" valign=\"top\">True</th>\n",
       "      <th rowspan=\"2\" valign=\"top\">False</th>\n",
       "      <th>False</th>\n",
       "      <td>0.638343</td>\n",
       "      <td>0.848485</td>\n",
       "      <td>0.641962</td>\n",
       "    </tr>\n",
       "    <tr>\n",
       "      <th>True</th>\n",
       "      <td>NaN</td>\n",
       "      <td>0.851852</td>\n",
       "      <td>0.851852</td>\n",
       "    </tr>\n",
       "    <tr>\n",
       "      <th rowspan=\"2\" valign=\"top\">True</th>\n",
       "      <th>False</th>\n",
       "      <td>0.957895</td>\n",
       "      <td>0.795699</td>\n",
       "      <td>0.917989</td>\n",
       "    </tr>\n",
       "    <tr>\n",
       "      <th>True</th>\n",
       "      <td>0.888002</td>\n",
       "      <td>0.875000</td>\n",
       "      <td>0.887890</td>\n",
       "    </tr>\n",
       "    <tr>\n",
       "      <th>All</th>\n",
       "      <th></th>\n",
       "      <th></th>\n",
       "      <td>0.259861</td>\n",
       "      <td>0.409156</td>\n",
       "      <td>0.250713</td>\n",
       "    </tr>\n",
       "  </tbody>\n",
       "</table>\n",
       "</div>"
      ],
      "text/plain": [
       "Switchers                                                                         False  \\\n",
       "Do_not_optimize_2013 Do_not_optimize_2014 Same_optimal_allocation_same_family             \n",
       "False                False                False                                     NaN   \n",
       "                                          True                                 0.020762   \n",
       "                     True                 False                                0.167589   \n",
       "                                          True                                      NaN   \n",
       "True                 False                False                                0.638343   \n",
       "                                          True                                      NaN   \n",
       "                     True                 False                                0.957895   \n",
       "                                          True                                 0.888002   \n",
       "All                                                                            0.259861   \n",
       "\n",
       "Switchers                                                                          True  \\\n",
       "Do_not_optimize_2013 Do_not_optimize_2014 Same_optimal_allocation_same_family             \n",
       "False                False                False                                0.109127   \n",
       "                                          True                                      NaN   \n",
       "                     True                 False                                0.173913   \n",
       "                                          True                                 0.029304   \n",
       "True                 False                False                                0.848485   \n",
       "                                          True                                 0.851852   \n",
       "                     True                 False                                0.795699   \n",
       "                                          True                                 0.875000   \n",
       "All                                                                            0.409156   \n",
       "\n",
       "Switchers                                                                           All  \n",
       "Do_not_optimize_2013 Do_not_optimize_2014 Same_optimal_allocation_same_family            \n",
       "False                False                False                                0.109127  \n",
       "                                          True                                 0.020762  \n",
       "                     True                 False                                0.167662  \n",
       "                                          True                                 0.029304  \n",
       "True                 False                False                                0.641962  \n",
       "                                          True                                 0.851852  \n",
       "                     True                 False                                0.917989  \n",
       "                                          True                                 0.887890  \n",
       "All                                                                            0.250713  "
      ]
     },
     "execution_count": 97,
     "metadata": {},
     "output_type": "execute_result"
    }
   ],
   "source": [
    "df_temp = df_B.query(\"(Number_of_optimal_allocations_2013 == 1) & (Number_of_optimal_allocations_2014 == 1)&(Nb_enfants_2013==Nb_enfants_2014)  \")\n",
    "crosstab = pd.crosstab( [ df_temp.Do_not_optimize_2013, df_temp.Do_not_optimize_2014, df_temp.Same_optimal_allocation_same_family.astype(\"bool\")],\n",
    "                       df_temp.Switchers, margins = True,\n",
    "                       values = df_B.Counterfactual_2014_ir_on_2013_rni_Do_not_optimize.astype(\"float\"),# Change due to \n",
    "                       aggfunc = np.mean ) ; crosstab"
   ]
  },
  {
   "cell_type": "code",
   "execution_count": 98,
   "metadata": {
    "collapsed": false
   },
   "outputs": [],
   "source": [
    "\n",
    "\n",
    "\n",
    "df_temp = df_B.query(\"(Number_of_optimal_allocations_2013 == 1) & (Number_of_optimal_allocations_2014 == 1)&(Nb_enfants_2013==Nb_enfants_2014)\")\n",
    "\n",
    "\n"
   ]
  },
  {
   "cell_type": "code",
   "execution_count": 99,
   "metadata": {
    "collapsed": false
   },
   "outputs": [
    {
     "data": {
      "text/plain": [
       "2        False\n",
       "3        False\n",
       "5        False\n",
       "6        False\n",
       "7        False\n",
       "8        False\n",
       "10       False\n",
       "12       False\n",
       "13       False\n",
       "14        True\n",
       "15       False\n",
       "18        True\n",
       "20       False\n",
       "22       False\n",
       "24       False\n",
       "26       False\n",
       "27       False\n",
       "28       False\n",
       "29       False\n",
       "30       False\n",
       "31       False\n",
       "35       False\n",
       "37       False\n",
       "38       False\n",
       "39       False\n",
       "40       False\n",
       "41       False\n",
       "42       False\n",
       "43       False\n",
       "44       False\n",
       "         ...  \n",
       "32232    False\n",
       "32235    False\n",
       "32236    False\n",
       "32237    False\n",
       "32238    False\n",
       "32240    False\n",
       "32241    False\n",
       "32242    False\n",
       "32243    False\n",
       "32244    False\n",
       "32245    False\n",
       "32246    False\n",
       "32247    False\n",
       "32248    False\n",
       "32252    False\n",
       "32253    False\n",
       "32254    False\n",
       "32255    False\n",
       "32256    False\n",
       "32257    False\n",
       "32258    False\n",
       "32259    False\n",
       "32260    False\n",
       "32261    False\n",
       "32265    False\n",
       "32266    False\n",
       "32267    False\n",
       "32269    False\n",
       "32270    False\n",
       "32271    False\n",
       "Name: Counterfactual_2014_ir_on_2013_rni_Do_not_optimize, dtype: object"
      ]
     },
     "execution_count": 99,
     "metadata": {},
     "output_type": "execute_result"
    }
   ],
   "source": [
    "df_B[~df_B.Do_not_optimize_2013].Counterfactual_2014_ir_on_2013_rni_Do_not_optimize"
   ]
  },
  {
   "cell_type": "code",
   "execution_count": 100,
   "metadata": {
    "collapsed": false
   },
   "outputs": [
    {
     "data": {
      "text/html": [
       "<div>\n",
       "<table border=\"1\" class=\"dataframe\">\n",
       "  <thead>\n",
       "    <tr style=\"text-align: right;\">\n",
       "      <th>Counterfactual_2014_ir_on_2013_rni_Do_not_optimize</th>\n",
       "      <th>False</th>\n",
       "      <th>True</th>\n",
       "      <th>All</th>\n",
       "    </tr>\n",
       "    <tr>\n",
       "      <th>Counterfactual_2013_ir_on_2014_rni_Do_not_optimize</th>\n",
       "      <th></th>\n",
       "      <th></th>\n",
       "      <th></th>\n",
       "    </tr>\n",
       "  </thead>\n",
       "  <tbody>\n",
       "    <tr>\n",
       "      <th>False</th>\n",
       "      <td>0.637472</td>\n",
       "      <td>0.090846</td>\n",
       "      <td>0.728319</td>\n",
       "    </tr>\n",
       "    <tr>\n",
       "      <th>True</th>\n",
       "      <td>0.121114</td>\n",
       "      <td>0.186995</td>\n",
       "      <td>0.308110</td>\n",
       "    </tr>\n",
       "    <tr>\n",
       "      <th>All</th>\n",
       "      <td>0.758587</td>\n",
       "      <td>0.277841</td>\n",
       "      <td>1.036428</td>\n",
       "    </tr>\n",
       "  </tbody>\n",
       "</table>\n",
       "</div>"
      ],
      "text/plain": [
       "Counterfactual_2014_ir_on_2013_rni_Do_not_optimize     False      True  \\\n",
       "Counterfactual_2013_ir_on_2014_rni_Do_not_optimize                       \n",
       "False                                               0.637472  0.090846   \n",
       "True                                                0.121114  0.186995   \n",
       "All                                                 0.758587  0.277841   \n",
       "\n",
       "Counterfactual_2014_ir_on_2013_rni_Do_not_optimize       All  \n",
       "Counterfactual_2013_ir_on_2014_rni_Do_not_optimize            \n",
       "False                                               0.728319  \n",
       "True                                                0.308110  \n",
       "All                                                 1.036428  "
      ]
     },
     "execution_count": 100,
     "metadata": {},
     "output_type": "execute_result"
    }
   ],
   "source": [
    "crosstab = pd.crosstab( [ df_temp.Counterfactual_2013_ir_on_2014_rni_Do_not_optimize.astype(\"bool\")],\n",
    "                       df_temp.Counterfactual_2014_ir_on_2013_rni_Do_not_optimize.astype(\"bool\"), margins = True )/24514 ; crosstab"
   ]
  },
  {
   "cell_type": "code",
   "execution_count": 101,
   "metadata": {
    "collapsed": false
   },
   "outputs": [
    {
     "data": {
      "text/html": [
       "<div>\n",
       "<table border=\"1\" class=\"dataframe\">\n",
       "  <thead>\n",
       "    <tr style=\"text-align: right;\">\n",
       "      <th>Counterfactual_2014_ir_on_2013_rni_Do_not_optimize</th>\n",
       "      <th>False</th>\n",
       "      <th>True</th>\n",
       "      <th>All</th>\n",
       "    </tr>\n",
       "    <tr>\n",
       "      <th>Counterfactual_2013_ir_on_2014_rni_Do_not_optimize</th>\n",
       "      <th></th>\n",
       "      <th></th>\n",
       "      <th></th>\n",
       "    </tr>\n",
       "  </thead>\n",
       "  <tbody>\n",
       "    <tr>\n",
       "      <th>False</th>\n",
       "      <td>0.730338</td>\n",
       "      <td>0.048005</td>\n",
       "      <td>0.778342</td>\n",
       "    </tr>\n",
       "    <tr>\n",
       "      <th>True</th>\n",
       "      <td>0.062547</td>\n",
       "      <td>0.195642</td>\n",
       "      <td>0.258190</td>\n",
       "    </tr>\n",
       "    <tr>\n",
       "      <th>All</th>\n",
       "      <td>0.792885</td>\n",
       "      <td>0.243647</td>\n",
       "      <td>1.036532</td>\n",
       "    </tr>\n",
       "  </tbody>\n",
       "</table>\n",
       "</div>"
      ],
      "text/plain": [
       "Counterfactual_2014_ir_on_2013_rni_Do_not_optimize     False      True  \\\n",
       "Counterfactual_2013_ir_on_2014_rni_Do_not_optimize                       \n",
       "False                                               0.730338  0.048005   \n",
       "True                                                0.062547  0.195642   \n",
       "All                                                 0.792885  0.243647   \n",
       "\n",
       "Counterfactual_2014_ir_on_2013_rni_Do_not_optimize       All  \n",
       "Counterfactual_2013_ir_on_2014_rni_Do_not_optimize            \n",
       "False                                               0.778342  \n",
       "True                                                0.258190  \n",
       "All                                                 1.036532  "
      ]
     },
     "execution_count": 101,
     "metadata": {},
     "output_type": "execute_result"
    }
   ],
   "source": [
    "df_temp = df_B.query(\"(Number_of_optimal_allocations_2013 == 1) & (Number_of_optimal_allocations_2014 == 1)&(Nb_enfants_2013==Nb_enfants_2014)\")\n",
    "df_temp = df_temp.query(\"(Same_optimal_allocation_same_family == 1)\")\n",
    "crosstab = pd.crosstab( [ df_temp.Counterfactual_2013_ir_on_2014_rni_Do_not_optimize.astype(\"bool\")],\n",
    "                       df_temp.Counterfactual_2014_ir_on_2013_rni_Do_not_optimize.astype(\"bool\"), margins = True )/19873 ; crosstab"
   ]
  },
  {
   "cell_type": "code",
   "execution_count": 102,
   "metadata": {
    "collapsed": false
   },
   "outputs": [
    {
     "data": {
      "text/html": [
       "<div>\n",
       "<table border=\"1\" class=\"dataframe\">\n",
       "  <thead>\n",
       "    <tr style=\"text-align: right;\">\n",
       "      <th>Counterfactual_2014_ir_on_2013_rni_Do_not_optimize</th>\n",
       "      <th>False</th>\n",
       "      <th>True</th>\n",
       "      <th>All</th>\n",
       "    </tr>\n",
       "    <tr>\n",
       "      <th>Counterfactual_2013_ir_on_2014_rni_Do_not_optimize</th>\n",
       "      <th></th>\n",
       "      <th></th>\n",
       "      <th></th>\n",
       "    </tr>\n",
       "  </thead>\n",
       "  <tbody>\n",
       "    <tr>\n",
       "      <th>False</th>\n",
       "      <td>0.239819</td>\n",
       "      <td>0.274294</td>\n",
       "      <td>0.514113</td>\n",
       "    </tr>\n",
       "    <tr>\n",
       "      <th>True</th>\n",
       "      <td>0.371903</td>\n",
       "      <td>0.149968</td>\n",
       "      <td>0.521870</td>\n",
       "    </tr>\n",
       "    <tr>\n",
       "      <th>All</th>\n",
       "      <td>0.611722</td>\n",
       "      <td>0.424262</td>\n",
       "      <td>1.035984</td>\n",
       "    </tr>\n",
       "  </tbody>\n",
       "</table>\n",
       "</div>"
      ],
      "text/plain": [
       "Counterfactual_2014_ir_on_2013_rni_Do_not_optimize     False      True  \\\n",
       "Counterfactual_2013_ir_on_2014_rni_Do_not_optimize                       \n",
       "False                                               0.239819  0.274294   \n",
       "True                                                0.371903  0.149968   \n",
       "All                                                 0.611722  0.424262   \n",
       "\n",
       "Counterfactual_2014_ir_on_2013_rni_Do_not_optimize       All  \n",
       "Counterfactual_2013_ir_on_2014_rni_Do_not_optimize            \n",
       "False                                               0.514113  \n",
       "True                                                0.521870  \n",
       "All                                                 1.035984  "
      ]
     },
     "execution_count": 102,
     "metadata": {},
     "output_type": "execute_result"
    }
   ],
   "source": [
    "df_temp = df_B.query(\"(Number_of_optimal_allocations_2013 == 1) & (Number_of_optimal_allocations_2014 == 1)&(Nb_enfants_2013==Nb_enfants_2014)\")\n",
    "df_temp = df_temp.query(\"(Same_optimal_allocation_same_family == 0)\")\n",
    "crosstab = pd.crosstab( [ df_temp.Counterfactual_2013_ir_on_2014_rni_Do_not_optimize.astype(\"bool\")],\n",
    "                       df_temp.Counterfactual_2014_ir_on_2013_rni_Do_not_optimize.astype(\"bool\"), margins = True )/4641 ; crosstab"
   ]
  },
  {
   "cell_type": "markdown",
   "metadata": {
    "collapsed": true
   },
   "source": [
    "### Table Damien"
   ]
  },
  {
   "cell_type": "code",
   "execution_count": 103,
   "metadata": {
    "collapsed": false
   },
   "outputs": [],
   "source": [
    "df_temp = df_A"
   ]
  },
  {
   "cell_type": "code",
   "execution_count": 104,
   "metadata": {
    "collapsed": false
   },
   "outputs": [],
   "source": [
    "df_temp[\"Intersect\"] = 1"
   ]
  },
  {
   "cell_type": "code",
   "execution_count": 105,
   "metadata": {
    "collapsed": false
   },
   "outputs": [],
   "source": [
    "df_temp[\"Jamais_imposable_2013\"] = (df_temp.result_min_allocation_2013==0)\n",
    "df_temp[\"Jamais_imposable_2014\"] = (df_temp.result_min_allocation_2013==0)\n",
    "df_temp[\"Optimize_2013\"] = (df_temp.Do_not_optimize_2013==False)\n",
    "df_temp[\"Optimize_2014\"] = (df_temp.Do_not_optimize_2014==False)\n",
    "df_temp[\"Separated\"] = (df_temp.Separation==True)"
   ]
  },
  {
   "cell_type": "code",
   "execution_count": 106,
   "metadata": {
    "collapsed": false
   },
   "outputs": [],
   "source": [
    "table_croix = pd.DataFrame()\n",
    "table_croix.loc[\"Jamais_imposable_2013\", \"Jamais_imposable_2014\"] = (df_temp[\"Jamais_imposable_2013\"] &\n",
    "                                                                    df_temp[\"Jamais_imposable_2014\"]).sum()\n",
    "table_croix.loc[\"Optimize_2013\", \"Optimize_2014\"] = (df_temp[\"Optimize_2013\"] &\n",
    "                                                                    df_temp[\"Optimize_2014\"]).sum()\n",
    "table_croix.loc[\"Optimize_2013\", \"Jamais_imposable_2014\"] = (df_temp[\"Optimize_2013\"] &\n",
    "                                                                    df_temp[\"Jamais_imposable_2014\"]).sum()\n",
    "table_croix.loc[\"Jamais_imposable_2013\", \"Optimize_2014\"] = (df_temp[\"Jamais_imposable_2013\"] &\n",
    "                                                                    df_temp[\"Optimize_2014\"]).sum()\n",
    "\n",
    "table_croix.loc[\"Do_not_optimize_2013\", \"Optimize_2014\"] = (df_temp[\"Do_not_optimize_2013\"] &\n",
    "                                                                    df_temp[\"Optimize_2014\"]).sum()\n",
    "\n",
    "table_croix.loc[\"Optimize_2013\", \"Do_not_optimize_2014\"] = (df_temp[\"Optimize_2013\"] &\n",
    "                                                                    df_temp[\"Do_not_optimize_2014\"]).sum()\n",
    "\n",
    "table_croix.loc[\"Do_not_optimize_2013\", \"Jamais_imposable_2014\"] = (df_temp[\"Do_not_optimize_2013\"] &\n",
    "                                                                    df_temp[\"Jamais_imposable_2014\"]).sum()\n",
    "table_croix.loc[\"Jamais_imposable_2013\", \"Do_not_optimize_2014\"] = (df_temp[\"Jamais_imposable_2013\"] &\n",
    "                                                                    df_temp[\"Do_not_optimize_2014\"]).sum()\n",
    "\n",
    "table_croix.loc[\"Do_not_optimize_2013\", \"Do_not_optimize_2014\"] = (df_temp[\"Do_not_optimize_2013\"] &\n",
    "                                                                    df_temp[\"Do_not_optimize_2014\"]).sum()"
   ]
  },
  {
   "cell_type": "code",
   "execution_count": 107,
   "metadata": {
    "collapsed": false
   },
   "outputs": [
    {
     "data": {
      "text/html": [
       "<div>\n",
       "<table border=\"1\" class=\"dataframe\">\n",
       "  <thead>\n",
       "    <tr style=\"text-align: right;\">\n",
       "      <th></th>\n",
       "      <th>Jamais_imposable_2014</th>\n",
       "      <th>Optimize_2014</th>\n",
       "      <th>Do_not_optimize_2014</th>\n",
       "    </tr>\n",
       "  </thead>\n",
       "  <tbody>\n",
       "    <tr>\n",
       "      <th>Jamais_imposable_2013</th>\n",
       "      <td>8589</td>\n",
       "      <td>7923</td>\n",
       "      <td>666</td>\n",
       "    </tr>\n",
       "    <tr>\n",
       "      <th>Optimize_2013</th>\n",
       "      <td>7457</td>\n",
       "      <td>25449</td>\n",
       "      <td>3157</td>\n",
       "    </tr>\n",
       "    <tr>\n",
       "      <th>Do_not_optimize_2013</th>\n",
       "      <td>1132</td>\n",
       "      <td>4001</td>\n",
       "      <td>5642</td>\n",
       "    </tr>\n",
       "  </tbody>\n",
       "</table>\n",
       "</div>"
      ],
      "text/plain": [
       "                       Jamais_imposable_2014  Optimize_2014  \\\n",
       "Jamais_imposable_2013                   8589           7923   \n",
       "Optimize_2013                           7457          25449   \n",
       "Do_not_optimize_2013                    1132           4001   \n",
       "\n",
       "                       Do_not_optimize_2014  \n",
       "Jamais_imposable_2013                   666  \n",
       "Optimize_2013                          3157  \n",
       "Do_not_optimize_2013                   5642  "
      ]
     },
     "execution_count": 107,
     "metadata": {},
     "output_type": "execute_result"
    }
   ],
   "source": [
    "table_croix"
   ]
  },
  {
   "cell_type": "code",
   "execution_count": 108,
   "metadata": {
    "collapsed": false
   },
   "outputs": [
    {
     "data": {
      "text/html": [
       "<div>\n",
       "<table border=\"1\" class=\"dataframe\">\n",
       "  <thead>\n",
       "    <tr style=\"text-align: right;\">\n",
       "      <th></th>\n",
       "      <th>Jamais_imposable_2014</th>\n",
       "      <th>False</th>\n",
       "      <th>True</th>\n",
       "    </tr>\n",
       "    <tr>\n",
       "      <th>Jamais_imposable_2013</th>\n",
       "      <th>Optimize_2014</th>\n",
       "      <th></th>\n",
       "      <th></th>\n",
       "    </tr>\n",
       "  </thead>\n",
       "  <tbody>\n",
       "    <tr>\n",
       "      <th rowspan=\"2\" valign=\"top\">False</th>\n",
       "      <th>False</th>\n",
       "      <td>8133</td>\n",
       "      <td>NaN</td>\n",
       "    </tr>\n",
       "    <tr>\n",
       "      <th>True</th>\n",
       "      <td>21527</td>\n",
       "      <td>NaN</td>\n",
       "    </tr>\n",
       "    <tr>\n",
       "      <th rowspan=\"2\" valign=\"top\">True</th>\n",
       "      <th>False</th>\n",
       "      <td>NaN</td>\n",
       "      <td>666</td>\n",
       "    </tr>\n",
       "    <tr>\n",
       "      <th>True</th>\n",
       "      <td>NaN</td>\n",
       "      <td>7923</td>\n",
       "    </tr>\n",
       "  </tbody>\n",
       "</table>\n",
       "</div>"
      ],
      "text/plain": [
       "Jamais_imposable_2014                False  True \n",
       "Jamais_imposable_2013 Optimize_2014              \n",
       "False                 False           8133    NaN\n",
       "                      True           21527    NaN\n",
       "True                  False            NaN    666\n",
       "                      True             NaN   7923"
      ]
     },
     "execution_count": 108,
     "metadata": {},
     "output_type": "execute_result"
    }
   ],
   "source": [
    "df_temp.pivot_table(values=\"Intersect\", index=[\"Jamais_imposable_2013\",\"Optimize_2014\" ],\n",
    "                    columns=[\"Jamais_imposable_2014\"], aggfunc = \"sum\")"
   ]
  },
  {
   "cell_type": "code",
   "execution_count": 109,
   "metadata": {
    "collapsed": false
   },
   "outputs": [
    {
     "data": {
      "text/html": [
       "<div>\n",
       "<table border=\"1\" class=\"dataframe\">\n",
       "  <thead>\n",
       "    <tr style=\"text-align: right;\">\n",
       "      <th></th>\n",
       "      <th>ID_FISC_LOG_DIFF</th>\n",
       "      <th>index</th>\n",
       "      <th>level_0_2013</th>\n",
       "      <th>ANAIS_2013</th>\n",
       "      <th>AN_FISC_x_2013</th>\n",
       "      <th>AN_FISC_y_2013</th>\n",
       "      <th>Age_2013</th>\n",
       "      <th>Age_mere_2013</th>\n",
       "      <th>Age_pere_2013</th>\n",
       "      <th>Allocation_mere_2013</th>\n",
       "      <th>Allocation_pere_2013</th>\n",
       "      <th>CNE1_2013</th>\n",
       "      <th>COM_NSCAT_2013</th>\n",
       "      <th>COM_SCAT1_2013</th>\n",
       "      <th>COM_SCAT2_2013</th>\n",
       "      <th>DACOED_2013</th>\n",
       "      <th>DACOEP_2013</th>\n",
       "      <th>Decote_2013</th>\n",
       "      <th>Decote_pacs</th>\n",
       "      <th>Fiscal_loss_2013</th>\n",
       "      <th>Gain_fiscal_max_2013</th>\n",
       "      <th>Gain_fiscal_max_in_ratio</th>\n",
       "      <th>ID_DIFF_2013</th>\n",
       "      <th>ID_FISC_FOY_DIFF_2013</th>\n",
       "      <th>I_FISC_LOGEMENT_2013</th>\n",
       "      <th>I_FISC_REVENU_2013</th>\n",
       "      <th>Irpp_ac_plaf_qf_2013</th>\n",
       "      <th>Irpp_ac_plaf_qf_mere</th>\n",
       "      <th>Irpp_ac_plaf_qf_pacs</th>\n",
       "      <th>Irpp_ac_plaf_qf_pere</th>\n",
       "      <th>Irpp_ac_qf_2013</th>\n",
       "      <th>Irpp_ac_qf_pacs</th>\n",
       "      <th>Irpp_decote_2013</th>\n",
       "      <th>Irpp_decote_allocation_1_2013</th>\n",
       "      <th>Irpp_decote_allocation_2_2013</th>\n",
       "      <th>Irpp_decote_allocation_3_2013</th>\n",
       "      <th>Irpp_decote_allocation_4_2013</th>\n",
       "      <th>Irpp_decote_allocation_5_2013</th>\n",
       "      <th>Irpp_decote_allocation_6_2013</th>\n",
       "      <th>Irpp_decote_allocation_7_2013</th>\n",
       "      <th>Irpp_decote_allocation_8_2013</th>\n",
       "      <th>Irpp_decote_allocation_9_2013</th>\n",
       "      <th>Irpp_decote_mere_2013</th>\n",
       "      <th>Irpp_decote_pacs</th>\n",
       "      <th>Irpp_decote_pere_2013</th>\n",
       "      <th>Irpp_decote_seuil_prel_allocation_1_2013</th>\n",
       "      <th>Irpp_decote_seuil_prel_allocation_2_2013</th>\n",
       "      <th>Irpp_decote_seuil_prel_allocation_3_2013</th>\n",
       "      <th>Irpp_decote_seuil_prel_allocation_4_2013</th>\n",
       "      <th>Irpp_decote_seuil_prel_allocation_5_2013</th>\n",
       "      <th>Irpp_decote_seuil_prel_allocation_6_2013</th>\n",
       "      <th>Irpp_decote_seuil_prel_allocation_7_2013</th>\n",
       "      <th>Irpp_decote_seuil_prel_allocation_8_2013</th>\n",
       "      <th>Irpp_decote_seuil_prel_allocation_9_2013</th>\n",
       "      <th>Irpp_reduction_impot_etudes_2013</th>\n",
       "      <th>Irpp_reduction_impot_etudes_seuil_2013</th>\n",
       "      <th>Irpp_seuil_prelevement_2013</th>\n",
       "      <th>Irpp_ss_qf_2013</th>\n",
       "      <th>JNAIS_2013</th>\n",
       "      <th>MNAIS_2013</th>\n",
       "      <th>Nb_enf_allocation_1_2013</th>\n",
       "      <th>Nb_enf_allocation_2_2013</th>\n",
       "      <th>Nb_enf_allocation_3_2013</th>\n",
       "      <th>Nb_enf_allocation_4_2013</th>\n",
       "      <th>Nb_enf_allocation_5_2013</th>\n",
       "      <th>Nb_enf_allocation_6_2013</th>\n",
       "      <th>Nb_enf_allocation_7_2013</th>\n",
       "      <th>Nb_enf_allocation_8_2013</th>\n",
       "      <th>Nb_enf_allocation_9_2013</th>\n",
       "      <th>Nb_enfants_2013</th>\n",
       "      <th>Not_touched_by_decote_2013</th>\n",
       "      <th>POIDS_FIDELI_2013</th>\n",
       "      <th>Parts_fiscales_enfants_2013</th>\n",
       "      <th>Parts_fiscales_enfants_pacs</th>\n",
       "      <th>Ppe_2013</th>\n",
       "      <th>REV_PRINC_2013</th>\n",
       "      <th>Reduction_impot_pour_etudes_2013</th>\n",
       "      <th>Rni_2013</th>\n",
       "      <th>Rni_mere_2013</th>\n",
       "      <th>Rni_pere_2013</th>\n",
       "      <th>SEXE_2013</th>\n",
       "      <th>Salaire_mere_2013</th>\n",
       "      <th>Salaire_pere_2013</th>\n",
       "      <th>TYPE_DECL_2013</th>\n",
       "      <th>TYPE_PRES_2013</th>\n",
       "      <th>T_CHARGE_2013</th>\n",
       "      <th>YALRI_2013</th>\n",
       "      <th>YBICI_2013</th>\n",
       "      <th>YBNCI_2013</th>\n",
       "      <th>YCHOI_2013</th>\n",
       "      <th>YRAGI_2013</th>\n",
       "      <th>YRSTI_2013</th>\n",
       "      <th>YSALI_2013</th>\n",
       "      <th>nb_enfant_total_2013</th>\n",
       "      <th>result_max_allocation_2013</th>\n",
       "      <th>result_min_allocation_2013</th>\n",
       "      <th>Montant_gain_fiscal_au_pacs</th>\n",
       "      <th>Gain_fiscal_au_pacs</th>\n",
       "      <th>Perte_fiscale_au_pacs</th>\n",
       "      <th>Neutre_au_pacs</th>\n",
       "      <th>...</th>\n",
       "      <th>Do_not_optimize_2_prct_income_share_2014</th>\n",
       "      <th>Do_not_optimize_5_prct_income_share_2014</th>\n",
       "      <th>Do_not_optimize_95_prct_tax_amount_2014</th>\n",
       "      <th>Do_not_optimize_90_prct_tax_amount_2014</th>\n",
       "      <th>Do_not_optimize_50_prct_tax_amount_2014</th>\n",
       "      <th>Do_not_optimize_5_prct_tax_amount_2014</th>\n",
       "      <th>Optimize_10_prct_tax_amount_2014</th>\n",
       "      <th>Two_smallest_allocation_difference_2014</th>\n",
       "      <th>index_2014</th>\n",
       "      <th>Categorie_sociale_femme_2014</th>\n",
       "      <th>Categorie_sociale_homme_2014</th>\n",
       "      <th>Diplome_femme_2014</th>\n",
       "      <th>Diplome_homme_2014</th>\n",
       "      <th>Immigre_IMMI_femme_2014</th>\n",
       "      <th>Immigre_IMMI_homme_2014</th>\n",
       "      <th>Position_professionnelle_femme_2014</th>\n",
       "      <th>Position_professionnelle_homme_2014</th>\n",
       "      <th>Region_femme_2014</th>\n",
       "      <th>Region_homme_2014</th>\n",
       "      <th>Temps_partiel_femme_2014</th>\n",
       "      <th>Temps_partiel_homme_2014</th>\n",
       "      <th>Temps_recherche_emploi_femme_2014</th>\n",
       "      <th>Temps_recherche_emploi_homme_2014</th>\n",
       "      <th>Travaille_dans_commune_ILTD_femme_2014</th>\n",
       "      <th>Travaille_dans_commune_ILTD_homme_2014</th>\n",
       "      <th>Type_contrat_travail_EMPL_femme_2014</th>\n",
       "      <th>Type_contrat_travail_EMPL_homme_2014</th>\n",
       "      <th>TC_2014</th>\n",
       "      <th>No_decote_2014</th>\n",
       "      <th>deux_enfants_2014</th>\n",
       "      <th>trois_enfants_et_plus_2014</th>\n",
       "      <th>trois_enfants_2014</th>\n",
       "      <th>quatre_enfants_et_plus_2014</th>\n",
       "      <th>Age_moyen_2014</th>\n",
       "      <th>Age_moyen_parents_2014</th>\n",
       "      <th>Age_moyen_squared_2014</th>\n",
       "      <th>Ecart_Age_en_valeur_absolue_2014</th>\n",
       "      <th>Prct_rev_perte_fiscale_2014</th>\n",
       "      <th>Diff_in_incompe_mere_pere_2014</th>\n",
       "      <th>Age_elder_child_2014</th>\n",
       "      <th>Age_younger_child_2014</th>\n",
       "      <th>Age_moyen_children_2014</th>\n",
       "      <th>Annee_2014</th>\n",
       "      <th>year_2014</th>\n",
       "      <th>No_school_man_2014</th>\n",
       "      <th>primary_middle_school_man_2014</th>\n",
       "      <th>CEP_man_2014</th>\n",
       "      <th>BEPC_man_2014</th>\n",
       "      <th>CAP_man_2014</th>\n",
       "      <th>BEP_man_2014</th>\n",
       "      <th>BAC_man_2014</th>\n",
       "      <th>Bac_pro_man_2014</th>\n",
       "      <th>Bac_plus_3_man_2014</th>\n",
       "      <th>Master_PhD_man_2014</th>\n",
       "      <th>19.0_2014</th>\n",
       "      <th>No_school_wo_2014</th>\n",
       "      <th>primary_middle_school_wo_2014</th>\n",
       "      <th>CEP_wo_2014</th>\n",
       "      <th>BEPC_wo_2014</th>\n",
       "      <th>CAP_wo_2014</th>\n",
       "      <th>BEP_wo_2014</th>\n",
       "      <th>BAC_wo_2014</th>\n",
       "      <th>Bac_pro_wo_2014</th>\n",
       "      <th>Bac_plus_3_wo_2014</th>\n",
       "      <th>Master_PhD_wo_2014</th>\n",
       "      <th>No_education_femme_2014</th>\n",
       "      <th>No_education_homme_2014</th>\n",
       "      <th>Vocational_education_femme_2014</th>\n",
       "      <th>Vocational_education_homme_2014</th>\n",
       "      <th>Licence_education_femme_2014</th>\n",
       "      <th>Licence_education_homme_2014</th>\n",
       "      <th>Master_PhD_education_femme_2014</th>\n",
       "      <th>Master_PhD_education_homme_2014</th>\n",
       "      <th>Same_diploma_2014</th>\n",
       "      <th>Same_diploma_No_educ_2014</th>\n",
       "      <th>Same_diploma_Vocational_2014</th>\n",
       "      <th>Same_diploma_licence_2014</th>\n",
       "      <th>Same_diploma_Master_2014</th>\n",
       "      <th>optimiseurs_2013_2014</th>\n",
       "      <th>non_opt_2013_opt_2014</th>\n",
       "      <th>opt_2013_non_opt_2014</th>\n",
       "      <th>non_opt_2013_2014</th>\n",
       "      <th>Same_optimal_allocation_same_family</th>\n",
       "      <th>Optimal_allocations_2013</th>\n",
       "      <th>Optimal_allocations_2014</th>\n",
       "      <th>Chosen_allocation_2013</th>\n",
       "      <th>Chosen_allocation_2014</th>\n",
       "      <th>Number_of_optimal_allocations_2013</th>\n",
       "      <th>Number_of_optimal_allocations_2014</th>\n",
       "      <th>Same_family_did_not_change_allocation</th>\n",
       "      <th>Same_family_did_change_allocation</th>\n",
       "      <th>Family_change</th>\n",
       "      <th>Family_child_gain</th>\n",
       "      <th>Family_child_loss</th>\n",
       "      <th>Intersect</th>\n",
       "      <th>Jamais_imposable_2013</th>\n",
       "      <th>Jamais_imposable_2014</th>\n",
       "      <th>Optimize_2013</th>\n",
       "      <th>Optimize_2014</th>\n",
       "      <th>Separated</th>\n",
       "    </tr>\n",
       "  </thead>\n",
       "  <tbody>\n",
       "    <tr>\n",
       "      <th>36908</th>\n",
       "      <td>2516402</td>\n",
       "      <td>36908</td>\n",
       "      <td>3_child</td>\n",
       "      <td>3950</td>\n",
       "      <td>4028</td>\n",
       "      <td>4028</td>\n",
       "      <td>76</td>\n",
       "      <td>41</td>\n",
       "      <td>35</td>\n",
       "      <td>0</td>\n",
       "      <td>3</td>\n",
       "      <td>214</td>\n",
       "      <td>NaN</td>\n",
       "      <td>NaN</td>\n",
       "      <td>NaN</td>\n",
       "      <td>NaN</td>\n",
       "      <td>NaN</td>\n",
       "      <td>676.76</td>\n",
       "      <td>168.76</td>\n",
       "      <td>0</td>\n",
       "      <td>2079.4725</td>\n",
       "      <td>0.028574</td>\n",
       "      <td>1333063</td>\n",
       "      <td>3718354</td>\n",
       "      <td>2</td>\n",
       "      <td>2</td>\n",
       "      <td>678.48</td>\n",
       "      <td>299.035</td>\n",
       "      <td>678.48</td>\n",
       "      <td>379.445</td>\n",
       "      <td>678.48</td>\n",
       "      <td>678.48</td>\n",
       "      <td>61.1675</td>\n",
       "      <td>2140.64</td>\n",
       "      <td>1465.72</td>\n",
       "      <td>678.2</td>\n",
       "      <td>61.1675</td>\n",
       "      <td>NaN</td>\n",
       "      <td>NaN</td>\n",
       "      <td>NaN</td>\n",
       "      <td>NaN</td>\n",
       "      <td>NaN</td>\n",
       "      <td>0</td>\n",
       "      <td>509.72</td>\n",
       "      <td>61.1675</td>\n",
       "      <td>2140.64</td>\n",
       "      <td>1465.72</td>\n",
       "      <td>924.5325</td>\n",
       "      <td>678.48</td>\n",
       "      <td>NaN</td>\n",
       "      <td>NaN</td>\n",
       "      <td>NaN</td>\n",
       "      <td>NaN</td>\n",
       "      <td>NaN</td>\n",
       "      <td>61.1675</td>\n",
       "      <td>0</td>\n",
       "      <td>0</td>\n",
       "      <td>2439.675</td>\n",
       "      <td>28</td>\n",
       "      <td>12</td>\n",
       "      <td>3</td>\n",
       "      <td>3</td>\n",
       "      <td>3</td>\n",
       "      <td>3</td>\n",
       "      <td>NaN</td>\n",
       "      <td>NaN</td>\n",
       "      <td>NaN</td>\n",
       "      <td>NaN</td>\n",
       "      <td>NaN</td>\n",
       "      <td>3</td>\n",
       "      <td>0</td>\n",
       "      <td>22.656094</td>\n",
       "      <td>2</td>\n",
       "      <td>2</td>\n",
       "      <td>868.945</td>\n",
       "      <td>2</td>\n",
       "      <td>0</td>\n",
       "      <td>36380</td>\n",
       "      <td>11448</td>\n",
       "      <td>24932</td>\n",
       "      <td>3</td>\n",
       "      <td>11285</td>\n",
       "      <td>27702</td>\n",
       "      <td>2</td>\n",
       "      <td>1</td>\n",
       "      <td>NaN</td>\n",
       "      <td>0</td>\n",
       "      <td>272</td>\n",
       "      <td>0</td>\n",
       "      <td>1133</td>\n",
       "      <td>0</td>\n",
       "      <td>0</td>\n",
       "      <td>38987</td>\n",
       "      <td>6</td>\n",
       "      <td>2140.64</td>\n",
       "      <td>61.1675</td>\n",
       "      <td>-448.5525</td>\n",
       "      <td>False</td>\n",
       "      <td>True</td>\n",
       "      <td>False</td>\n",
       "      <td>...</td>\n",
       "      <td>False</td>\n",
       "      <td>False</td>\n",
       "      <td>False</td>\n",
       "      <td>False</td>\n",
       "      <td>False</td>\n",
       "      <td>False</td>\n",
       "      <td>False</td>\n",
       "      <td>-589.24</td>\n",
       "      <td>48899</td>\n",
       "      <td>46</td>\n",
       "      <td>45</td>\n",
       "      <td>17</td>\n",
       "      <td>NaN</td>\n",
       "      <td>2</td>\n",
       "      <td>2</td>\n",
       "      <td>1D</td>\n",
       "      <td>1A</td>\n",
       "      <td>52</td>\n",
       "      <td>22</td>\n",
       "      <td>2</td>\n",
       "      <td>1</td>\n",
       "      <td>Z</td>\n",
       "      <td>Z</td>\n",
       "      <td>2</td>\n",
       "      <td>1</td>\n",
       "      <td>16</td>\n",
       "      <td>15</td>\n",
       "      <td>2</td>\n",
       "      <td>False</td>\n",
       "      <td>False</td>\n",
       "      <td>True</td>\n",
       "      <td>True</td>\n",
       "      <td>False</td>\n",
       "      <td>39</td>\n",
       "      <td>39</td>\n",
       "      <td>1521</td>\n",
       "      <td>6</td>\n",
       "      <td>0</td>\n",
       "      <td>14349</td>\n",
       "      <td>9</td>\n",
       "      <td>3</td>\n",
       "      <td>6</td>\n",
       "      <td>2014</td>\n",
       "      <td>True</td>\n",
       "      <td>0</td>\n",
       "      <td>0</td>\n",
       "      <td>0</td>\n",
       "      <td>0</td>\n",
       "      <td>0</td>\n",
       "      <td>0</td>\n",
       "      <td>0</td>\n",
       "      <td>0</td>\n",
       "      <td>0</td>\n",
       "      <td>0</td>\n",
       "      <td>0</td>\n",
       "      <td>0</td>\n",
       "      <td>0</td>\n",
       "      <td>0</td>\n",
       "      <td>0</td>\n",
       "      <td>0</td>\n",
       "      <td>0</td>\n",
       "      <td>0</td>\n",
       "      <td>0</td>\n",
       "      <td>1</td>\n",
       "      <td>0</td>\n",
       "      <td>False</td>\n",
       "      <td>False</td>\n",
       "      <td>False</td>\n",
       "      <td>False</td>\n",
       "      <td>True</td>\n",
       "      <td>False</td>\n",
       "      <td>False</td>\n",
       "      <td>False</td>\n",
       "      <td>False</td>\n",
       "      <td>False</td>\n",
       "      <td>False</td>\n",
       "      <td>False</td>\n",
       "      <td>False</td>\n",
       "      <td>True</td>\n",
       "      <td>False</td>\n",
       "      <td>False</td>\n",
       "      <td>False</td>\n",
       "      <td>64</td>\n",
       "      <td>allocation_4allocation_4allocation_4allocation_4</td>\n",
       "      <td>allocation_4allocation_4allocation_4allocation_4</td>\n",
       "      <td>4</td>\n",
       "      <td>4</td>\n",
       "      <td>4</td>\n",
       "      <td>4</td>\n",
       "      <td>1</td>\n",
       "      <td>0</td>\n",
       "      <td>False</td>\n",
       "      <td>False</td>\n",
       "      <td>False</td>\n",
       "      <td>1</td>\n",
       "      <td>False</td>\n",
       "      <td>False</td>\n",
       "      <td>True</td>\n",
       "      <td>True</td>\n",
       "      <td>False</td>\n",
       "    </tr>\n",
       "    <tr>\n",
       "      <th>36909</th>\n",
       "      <td>2516402</td>\n",
       "      <td>36909</td>\n",
       "      <td>3_child</td>\n",
       "      <td>3950</td>\n",
       "      <td>4028</td>\n",
       "      <td>4028</td>\n",
       "      <td>76</td>\n",
       "      <td>41</td>\n",
       "      <td>35</td>\n",
       "      <td>0</td>\n",
       "      <td>3</td>\n",
       "      <td>214</td>\n",
       "      <td>NaN</td>\n",
       "      <td>NaN</td>\n",
       "      <td>NaN</td>\n",
       "      <td>NaN</td>\n",
       "      <td>NaN</td>\n",
       "      <td>676.76</td>\n",
       "      <td>168.76</td>\n",
       "      <td>0</td>\n",
       "      <td>2079.4725</td>\n",
       "      <td>0.028574</td>\n",
       "      <td>1333063</td>\n",
       "      <td>3718354</td>\n",
       "      <td>2</td>\n",
       "      <td>2</td>\n",
       "      <td>678.48</td>\n",
       "      <td>299.035</td>\n",
       "      <td>678.48</td>\n",
       "      <td>379.445</td>\n",
       "      <td>678.48</td>\n",
       "      <td>678.48</td>\n",
       "      <td>61.1675</td>\n",
       "      <td>2140.64</td>\n",
       "      <td>1465.72</td>\n",
       "      <td>678.2</td>\n",
       "      <td>61.1675</td>\n",
       "      <td>NaN</td>\n",
       "      <td>NaN</td>\n",
       "      <td>NaN</td>\n",
       "      <td>NaN</td>\n",
       "      <td>NaN</td>\n",
       "      <td>0</td>\n",
       "      <td>509.72</td>\n",
       "      <td>61.1675</td>\n",
       "      <td>2140.64</td>\n",
       "      <td>1465.72</td>\n",
       "      <td>924.5325</td>\n",
       "      <td>678.48</td>\n",
       "      <td>NaN</td>\n",
       "      <td>NaN</td>\n",
       "      <td>NaN</td>\n",
       "      <td>NaN</td>\n",
       "      <td>NaN</td>\n",
       "      <td>61.1675</td>\n",
       "      <td>0</td>\n",
       "      <td>0</td>\n",
       "      <td>2439.675</td>\n",
       "      <td>28</td>\n",
       "      <td>12</td>\n",
       "      <td>3</td>\n",
       "      <td>3</td>\n",
       "      <td>3</td>\n",
       "      <td>3</td>\n",
       "      <td>NaN</td>\n",
       "      <td>NaN</td>\n",
       "      <td>NaN</td>\n",
       "      <td>NaN</td>\n",
       "      <td>NaN</td>\n",
       "      <td>3</td>\n",
       "      <td>0</td>\n",
       "      <td>22.656094</td>\n",
       "      <td>2</td>\n",
       "      <td>2</td>\n",
       "      <td>868.945</td>\n",
       "      <td>2</td>\n",
       "      <td>0</td>\n",
       "      <td>36380</td>\n",
       "      <td>11448</td>\n",
       "      <td>24932</td>\n",
       "      <td>3</td>\n",
       "      <td>11285</td>\n",
       "      <td>27702</td>\n",
       "      <td>2</td>\n",
       "      <td>1</td>\n",
       "      <td>NaN</td>\n",
       "      <td>0</td>\n",
       "      <td>272</td>\n",
       "      <td>0</td>\n",
       "      <td>1133</td>\n",
       "      <td>0</td>\n",
       "      <td>0</td>\n",
       "      <td>38987</td>\n",
       "      <td>6</td>\n",
       "      <td>2140.64</td>\n",
       "      <td>61.1675</td>\n",
       "      <td>-448.5525</td>\n",
       "      <td>False</td>\n",
       "      <td>True</td>\n",
       "      <td>False</td>\n",
       "      <td>...</td>\n",
       "      <td>False</td>\n",
       "      <td>False</td>\n",
       "      <td>False</td>\n",
       "      <td>False</td>\n",
       "      <td>False</td>\n",
       "      <td>False</td>\n",
       "      <td>False</td>\n",
       "      <td>-589.24</td>\n",
       "      <td>48900</td>\n",
       "      <td>46</td>\n",
       "      <td>45</td>\n",
       "      <td>17</td>\n",
       "      <td>NaN</td>\n",
       "      <td>2</td>\n",
       "      <td>2</td>\n",
       "      <td>1D</td>\n",
       "      <td>1A</td>\n",
       "      <td>52</td>\n",
       "      <td>22</td>\n",
       "      <td>2</td>\n",
       "      <td>1</td>\n",
       "      <td>Z</td>\n",
       "      <td>Z</td>\n",
       "      <td>2</td>\n",
       "      <td>1</td>\n",
       "      <td>16</td>\n",
       "      <td>15</td>\n",
       "      <td>1</td>\n",
       "      <td>False</td>\n",
       "      <td>False</td>\n",
       "      <td>True</td>\n",
       "      <td>True</td>\n",
       "      <td>False</td>\n",
       "      <td>39</td>\n",
       "      <td>39</td>\n",
       "      <td>1521</td>\n",
       "      <td>6</td>\n",
       "      <td>0</td>\n",
       "      <td>14349</td>\n",
       "      <td>9</td>\n",
       "      <td>3</td>\n",
       "      <td>6</td>\n",
       "      <td>2014</td>\n",
       "      <td>True</td>\n",
       "      <td>0</td>\n",
       "      <td>0</td>\n",
       "      <td>0</td>\n",
       "      <td>0</td>\n",
       "      <td>0</td>\n",
       "      <td>0</td>\n",
       "      <td>0</td>\n",
       "      <td>0</td>\n",
       "      <td>0</td>\n",
       "      <td>0</td>\n",
       "      <td>0</td>\n",
       "      <td>0</td>\n",
       "      <td>0</td>\n",
       "      <td>0</td>\n",
       "      <td>0</td>\n",
       "      <td>0</td>\n",
       "      <td>0</td>\n",
       "      <td>0</td>\n",
       "      <td>0</td>\n",
       "      <td>1</td>\n",
       "      <td>0</td>\n",
       "      <td>False</td>\n",
       "      <td>False</td>\n",
       "      <td>False</td>\n",
       "      <td>False</td>\n",
       "      <td>True</td>\n",
       "      <td>False</td>\n",
       "      <td>False</td>\n",
       "      <td>False</td>\n",
       "      <td>False</td>\n",
       "      <td>False</td>\n",
       "      <td>False</td>\n",
       "      <td>False</td>\n",
       "      <td>False</td>\n",
       "      <td>True</td>\n",
       "      <td>False</td>\n",
       "      <td>False</td>\n",
       "      <td>False</td>\n",
       "      <td>64</td>\n",
       "      <td>allocation_4allocation_4allocation_4allocation_4</td>\n",
       "      <td>allocation_4allocation_4allocation_4allocation_4</td>\n",
       "      <td>4</td>\n",
       "      <td>4</td>\n",
       "      <td>4</td>\n",
       "      <td>4</td>\n",
       "      <td>1</td>\n",
       "      <td>0</td>\n",
       "      <td>False</td>\n",
       "      <td>False</td>\n",
       "      <td>False</td>\n",
       "      <td>1</td>\n",
       "      <td>False</td>\n",
       "      <td>False</td>\n",
       "      <td>True</td>\n",
       "      <td>True</td>\n",
       "      <td>False</td>\n",
       "    </tr>\n",
       "    <tr>\n",
       "      <th>36910</th>\n",
       "      <td>2516402</td>\n",
       "      <td>36910</td>\n",
       "      <td>3_child</td>\n",
       "      <td>3950</td>\n",
       "      <td>4028</td>\n",
       "      <td>4028</td>\n",
       "      <td>76</td>\n",
       "      <td>41</td>\n",
       "      <td>35</td>\n",
       "      <td>0</td>\n",
       "      <td>3</td>\n",
       "      <td>214</td>\n",
       "      <td>NaN</td>\n",
       "      <td>NaN</td>\n",
       "      <td>NaN</td>\n",
       "      <td>NaN</td>\n",
       "      <td>NaN</td>\n",
       "      <td>676.76</td>\n",
       "      <td>168.76</td>\n",
       "      <td>0</td>\n",
       "      <td>2079.4725</td>\n",
       "      <td>0.028574</td>\n",
       "      <td>1333063</td>\n",
       "      <td>3718354</td>\n",
       "      <td>2</td>\n",
       "      <td>2</td>\n",
       "      <td>678.48</td>\n",
       "      <td>299.035</td>\n",
       "      <td>678.48</td>\n",
       "      <td>379.445</td>\n",
       "      <td>678.48</td>\n",
       "      <td>678.48</td>\n",
       "      <td>61.1675</td>\n",
       "      <td>2140.64</td>\n",
       "      <td>1465.72</td>\n",
       "      <td>678.2</td>\n",
       "      <td>61.1675</td>\n",
       "      <td>NaN</td>\n",
       "      <td>NaN</td>\n",
       "      <td>NaN</td>\n",
       "      <td>NaN</td>\n",
       "      <td>NaN</td>\n",
       "      <td>0</td>\n",
       "      <td>509.72</td>\n",
       "      <td>61.1675</td>\n",
       "      <td>2140.64</td>\n",
       "      <td>1465.72</td>\n",
       "      <td>924.5325</td>\n",
       "      <td>678.48</td>\n",
       "      <td>NaN</td>\n",
       "      <td>NaN</td>\n",
       "      <td>NaN</td>\n",
       "      <td>NaN</td>\n",
       "      <td>NaN</td>\n",
       "      <td>61.1675</td>\n",
       "      <td>0</td>\n",
       "      <td>0</td>\n",
       "      <td>2439.675</td>\n",
       "      <td>28</td>\n",
       "      <td>12</td>\n",
       "      <td>3</td>\n",
       "      <td>3</td>\n",
       "      <td>3</td>\n",
       "      <td>3</td>\n",
       "      <td>NaN</td>\n",
       "      <td>NaN</td>\n",
       "      <td>NaN</td>\n",
       "      <td>NaN</td>\n",
       "      <td>NaN</td>\n",
       "      <td>3</td>\n",
       "      <td>0</td>\n",
       "      <td>22.656094</td>\n",
       "      <td>2</td>\n",
       "      <td>2</td>\n",
       "      <td>868.945</td>\n",
       "      <td>2</td>\n",
       "      <td>0</td>\n",
       "      <td>36380</td>\n",
       "      <td>11448</td>\n",
       "      <td>24932</td>\n",
       "      <td>3</td>\n",
       "      <td>11285</td>\n",
       "      <td>27702</td>\n",
       "      <td>2</td>\n",
       "      <td>1</td>\n",
       "      <td>NaN</td>\n",
       "      <td>0</td>\n",
       "      <td>272</td>\n",
       "      <td>0</td>\n",
       "      <td>1133</td>\n",
       "      <td>0</td>\n",
       "      <td>0</td>\n",
       "      <td>38987</td>\n",
       "      <td>6</td>\n",
       "      <td>2140.64</td>\n",
       "      <td>61.1675</td>\n",
       "      <td>-448.5525</td>\n",
       "      <td>False</td>\n",
       "      <td>True</td>\n",
       "      <td>False</td>\n",
       "      <td>...</td>\n",
       "      <td>False</td>\n",
       "      <td>False</td>\n",
       "      <td>False</td>\n",
       "      <td>False</td>\n",
       "      <td>False</td>\n",
       "      <td>False</td>\n",
       "      <td>False</td>\n",
       "      <td>-589.24</td>\n",
       "      <td>48899</td>\n",
       "      <td>46</td>\n",
       "      <td>45</td>\n",
       "      <td>17</td>\n",
       "      <td>NaN</td>\n",
       "      <td>2</td>\n",
       "      <td>2</td>\n",
       "      <td>1D</td>\n",
       "      <td>1A</td>\n",
       "      <td>52</td>\n",
       "      <td>22</td>\n",
       "      <td>2</td>\n",
       "      <td>1</td>\n",
       "      <td>Z</td>\n",
       "      <td>Z</td>\n",
       "      <td>2</td>\n",
       "      <td>1</td>\n",
       "      <td>16</td>\n",
       "      <td>15</td>\n",
       "      <td>2</td>\n",
       "      <td>False</td>\n",
       "      <td>False</td>\n",
       "      <td>True</td>\n",
       "      <td>True</td>\n",
       "      <td>False</td>\n",
       "      <td>39</td>\n",
       "      <td>39</td>\n",
       "      <td>1521</td>\n",
       "      <td>6</td>\n",
       "      <td>0</td>\n",
       "      <td>14349</td>\n",
       "      <td>9</td>\n",
       "      <td>3</td>\n",
       "      <td>6</td>\n",
       "      <td>2014</td>\n",
       "      <td>True</td>\n",
       "      <td>0</td>\n",
       "      <td>0</td>\n",
       "      <td>0</td>\n",
       "      <td>0</td>\n",
       "      <td>0</td>\n",
       "      <td>0</td>\n",
       "      <td>0</td>\n",
       "      <td>0</td>\n",
       "      <td>0</td>\n",
       "      <td>0</td>\n",
       "      <td>0</td>\n",
       "      <td>0</td>\n",
       "      <td>0</td>\n",
       "      <td>0</td>\n",
       "      <td>0</td>\n",
       "      <td>0</td>\n",
       "      <td>0</td>\n",
       "      <td>0</td>\n",
       "      <td>0</td>\n",
       "      <td>1</td>\n",
       "      <td>0</td>\n",
       "      <td>False</td>\n",
       "      <td>False</td>\n",
       "      <td>False</td>\n",
       "      <td>False</td>\n",
       "      <td>True</td>\n",
       "      <td>False</td>\n",
       "      <td>False</td>\n",
       "      <td>False</td>\n",
       "      <td>False</td>\n",
       "      <td>False</td>\n",
       "      <td>False</td>\n",
       "      <td>False</td>\n",
       "      <td>False</td>\n",
       "      <td>True</td>\n",
       "      <td>False</td>\n",
       "      <td>False</td>\n",
       "      <td>False</td>\n",
       "      <td>64</td>\n",
       "      <td>allocation_4allocation_4allocation_4allocation_4</td>\n",
       "      <td>allocation_4allocation_4allocation_4allocation_4</td>\n",
       "      <td>4</td>\n",
       "      <td>4</td>\n",
       "      <td>4</td>\n",
       "      <td>4</td>\n",
       "      <td>1</td>\n",
       "      <td>0</td>\n",
       "      <td>False</td>\n",
       "      <td>False</td>\n",
       "      <td>False</td>\n",
       "      <td>1</td>\n",
       "      <td>False</td>\n",
       "      <td>False</td>\n",
       "      <td>True</td>\n",
       "      <td>True</td>\n",
       "      <td>False</td>\n",
       "    </tr>\n",
       "    <tr>\n",
       "      <th>36911</th>\n",
       "      <td>2516402</td>\n",
       "      <td>36911</td>\n",
       "      <td>3_child</td>\n",
       "      <td>3950</td>\n",
       "      <td>4028</td>\n",
       "      <td>4028</td>\n",
       "      <td>76</td>\n",
       "      <td>41</td>\n",
       "      <td>35</td>\n",
       "      <td>0</td>\n",
       "      <td>3</td>\n",
       "      <td>214</td>\n",
       "      <td>NaN</td>\n",
       "      <td>NaN</td>\n",
       "      <td>NaN</td>\n",
       "      <td>NaN</td>\n",
       "      <td>NaN</td>\n",
       "      <td>676.76</td>\n",
       "      <td>168.76</td>\n",
       "      <td>0</td>\n",
       "      <td>2079.4725</td>\n",
       "      <td>0.028574</td>\n",
       "      <td>1333063</td>\n",
       "      <td>3718354</td>\n",
       "      <td>2</td>\n",
       "      <td>2</td>\n",
       "      <td>678.48</td>\n",
       "      <td>299.035</td>\n",
       "      <td>678.48</td>\n",
       "      <td>379.445</td>\n",
       "      <td>678.48</td>\n",
       "      <td>678.48</td>\n",
       "      <td>61.1675</td>\n",
       "      <td>2140.64</td>\n",
       "      <td>1465.72</td>\n",
       "      <td>678.2</td>\n",
       "      <td>61.1675</td>\n",
       "      <td>NaN</td>\n",
       "      <td>NaN</td>\n",
       "      <td>NaN</td>\n",
       "      <td>NaN</td>\n",
       "      <td>NaN</td>\n",
       "      <td>0</td>\n",
       "      <td>509.72</td>\n",
       "      <td>61.1675</td>\n",
       "      <td>2140.64</td>\n",
       "      <td>1465.72</td>\n",
       "      <td>924.5325</td>\n",
       "      <td>678.48</td>\n",
       "      <td>NaN</td>\n",
       "      <td>NaN</td>\n",
       "      <td>NaN</td>\n",
       "      <td>NaN</td>\n",
       "      <td>NaN</td>\n",
       "      <td>61.1675</td>\n",
       "      <td>0</td>\n",
       "      <td>0</td>\n",
       "      <td>2439.675</td>\n",
       "      <td>28</td>\n",
       "      <td>12</td>\n",
       "      <td>3</td>\n",
       "      <td>3</td>\n",
       "      <td>3</td>\n",
       "      <td>3</td>\n",
       "      <td>NaN</td>\n",
       "      <td>NaN</td>\n",
       "      <td>NaN</td>\n",
       "      <td>NaN</td>\n",
       "      <td>NaN</td>\n",
       "      <td>3</td>\n",
       "      <td>0</td>\n",
       "      <td>22.656094</td>\n",
       "      <td>2</td>\n",
       "      <td>2</td>\n",
       "      <td>868.945</td>\n",
       "      <td>2</td>\n",
       "      <td>0</td>\n",
       "      <td>36380</td>\n",
       "      <td>11448</td>\n",
       "      <td>24932</td>\n",
       "      <td>3</td>\n",
       "      <td>11285</td>\n",
       "      <td>27702</td>\n",
       "      <td>2</td>\n",
       "      <td>1</td>\n",
       "      <td>NaN</td>\n",
       "      <td>0</td>\n",
       "      <td>272</td>\n",
       "      <td>0</td>\n",
       "      <td>1133</td>\n",
       "      <td>0</td>\n",
       "      <td>0</td>\n",
       "      <td>38987</td>\n",
       "      <td>6</td>\n",
       "      <td>2140.64</td>\n",
       "      <td>61.1675</td>\n",
       "      <td>-448.5525</td>\n",
       "      <td>False</td>\n",
       "      <td>True</td>\n",
       "      <td>False</td>\n",
       "      <td>...</td>\n",
       "      <td>False</td>\n",
       "      <td>False</td>\n",
       "      <td>False</td>\n",
       "      <td>False</td>\n",
       "      <td>False</td>\n",
       "      <td>False</td>\n",
       "      <td>False</td>\n",
       "      <td>-589.24</td>\n",
       "      <td>48900</td>\n",
       "      <td>46</td>\n",
       "      <td>45</td>\n",
       "      <td>17</td>\n",
       "      <td>NaN</td>\n",
       "      <td>2</td>\n",
       "      <td>2</td>\n",
       "      <td>1D</td>\n",
       "      <td>1A</td>\n",
       "      <td>52</td>\n",
       "      <td>22</td>\n",
       "      <td>2</td>\n",
       "      <td>1</td>\n",
       "      <td>Z</td>\n",
       "      <td>Z</td>\n",
       "      <td>2</td>\n",
       "      <td>1</td>\n",
       "      <td>16</td>\n",
       "      <td>15</td>\n",
       "      <td>1</td>\n",
       "      <td>False</td>\n",
       "      <td>False</td>\n",
       "      <td>True</td>\n",
       "      <td>True</td>\n",
       "      <td>False</td>\n",
       "      <td>39</td>\n",
       "      <td>39</td>\n",
       "      <td>1521</td>\n",
       "      <td>6</td>\n",
       "      <td>0</td>\n",
       "      <td>14349</td>\n",
       "      <td>9</td>\n",
       "      <td>3</td>\n",
       "      <td>6</td>\n",
       "      <td>2014</td>\n",
       "      <td>True</td>\n",
       "      <td>0</td>\n",
       "      <td>0</td>\n",
       "      <td>0</td>\n",
       "      <td>0</td>\n",
       "      <td>0</td>\n",
       "      <td>0</td>\n",
       "      <td>0</td>\n",
       "      <td>0</td>\n",
       "      <td>0</td>\n",
       "      <td>0</td>\n",
       "      <td>0</td>\n",
       "      <td>0</td>\n",
       "      <td>0</td>\n",
       "      <td>0</td>\n",
       "      <td>0</td>\n",
       "      <td>0</td>\n",
       "      <td>0</td>\n",
       "      <td>0</td>\n",
       "      <td>0</td>\n",
       "      <td>1</td>\n",
       "      <td>0</td>\n",
       "      <td>False</td>\n",
       "      <td>False</td>\n",
       "      <td>False</td>\n",
       "      <td>False</td>\n",
       "      <td>True</td>\n",
       "      <td>False</td>\n",
       "      <td>False</td>\n",
       "      <td>False</td>\n",
       "      <td>False</td>\n",
       "      <td>False</td>\n",
       "      <td>False</td>\n",
       "      <td>False</td>\n",
       "      <td>False</td>\n",
       "      <td>True</td>\n",
       "      <td>False</td>\n",
       "      <td>False</td>\n",
       "      <td>False</td>\n",
       "      <td>64</td>\n",
       "      <td>allocation_4allocation_4allocation_4allocation_4</td>\n",
       "      <td>allocation_4allocation_4allocation_4allocation_4</td>\n",
       "      <td>4</td>\n",
       "      <td>4</td>\n",
       "      <td>4</td>\n",
       "      <td>4</td>\n",
       "      <td>1</td>\n",
       "      <td>0</td>\n",
       "      <td>False</td>\n",
       "      <td>False</td>\n",
       "      <td>False</td>\n",
       "      <td>1</td>\n",
       "      <td>False</td>\n",
       "      <td>False</td>\n",
       "      <td>True</td>\n",
       "      <td>True</td>\n",
       "      <td>False</td>\n",
       "    </tr>\n",
       "  </tbody>\n",
       "</table>\n",
       "<p>4 rows × 428 columns</p>\n",
       "</div>"
      ],
      "text/plain": [
       "       ID_FISC_LOG_DIFF  index level_0_2013  ANAIS_2013  AN_FISC_x_2013  \\\n",
       "36908           2516402  36908      3_child        3950            4028   \n",
       "36909           2516402  36909      3_child        3950            4028   \n",
       "36910           2516402  36910      3_child        3950            4028   \n",
       "36911           2516402  36911      3_child        3950            4028   \n",
       "\n",
       "       AN_FISC_y_2013  Age_2013  Age_mere_2013  Age_pere_2013  \\\n",
       "36908            4028        76             41             35   \n",
       "36909            4028        76             41             35   \n",
       "36910            4028        76             41             35   \n",
       "36911            4028        76             41             35   \n",
       "\n",
       "       Allocation_mere_2013  Allocation_pere_2013  CNE1_2013  COM_NSCAT_2013  \\\n",
       "36908                     0                     3        214             NaN   \n",
       "36909                     0                     3        214             NaN   \n",
       "36910                     0                     3        214             NaN   \n",
       "36911                     0                     3        214             NaN   \n",
       "\n",
       "       COM_SCAT1_2013  COM_SCAT2_2013  DACOED_2013  DACOEP_2013  Decote_2013  \\\n",
       "36908             NaN             NaN          NaN          NaN       676.76   \n",
       "36909             NaN             NaN          NaN          NaN       676.76   \n",
       "36910             NaN             NaN          NaN          NaN       676.76   \n",
       "36911             NaN             NaN          NaN          NaN       676.76   \n",
       "\n",
       "       Decote_pacs  Fiscal_loss_2013  Gain_fiscal_max_2013  \\\n",
       "36908       168.76                 0             2079.4725   \n",
       "36909       168.76                 0             2079.4725   \n",
       "36910       168.76                 0             2079.4725   \n",
       "36911       168.76                 0             2079.4725   \n",
       "\n",
       "       Gain_fiscal_max_in_ratio  ID_DIFF_2013  ID_FISC_FOY_DIFF_2013  \\\n",
       "36908                  0.028574       1333063                3718354   \n",
       "36909                  0.028574       1333063                3718354   \n",
       "36910                  0.028574       1333063                3718354   \n",
       "36911                  0.028574       1333063                3718354   \n",
       "\n",
       "       I_FISC_LOGEMENT_2013  I_FISC_REVENU_2013  Irpp_ac_plaf_qf_2013  \\\n",
       "36908                     2                   2                678.48   \n",
       "36909                     2                   2                678.48   \n",
       "36910                     2                   2                678.48   \n",
       "36911                     2                   2                678.48   \n",
       "\n",
       "       Irpp_ac_plaf_qf_mere  Irpp_ac_plaf_qf_pacs  Irpp_ac_plaf_qf_pere  \\\n",
       "36908               299.035                678.48               379.445   \n",
       "36909               299.035                678.48               379.445   \n",
       "36910               299.035                678.48               379.445   \n",
       "36911               299.035                678.48               379.445   \n",
       "\n",
       "       Irpp_ac_qf_2013  Irpp_ac_qf_pacs  Irpp_decote_2013  \\\n",
       "36908           678.48           678.48           61.1675   \n",
       "36909           678.48           678.48           61.1675   \n",
       "36910           678.48           678.48           61.1675   \n",
       "36911           678.48           678.48           61.1675   \n",
       "\n",
       "       Irpp_decote_allocation_1_2013  Irpp_decote_allocation_2_2013  \\\n",
       "36908                        2140.64                        1465.72   \n",
       "36909                        2140.64                        1465.72   \n",
       "36910                        2140.64                        1465.72   \n",
       "36911                        2140.64                        1465.72   \n",
       "\n",
       "       Irpp_decote_allocation_3_2013  Irpp_decote_allocation_4_2013  \\\n",
       "36908                          678.2                        61.1675   \n",
       "36909                          678.2                        61.1675   \n",
       "36910                          678.2                        61.1675   \n",
       "36911                          678.2                        61.1675   \n",
       "\n",
       "       Irpp_decote_allocation_5_2013  Irpp_decote_allocation_6_2013  \\\n",
       "36908                            NaN                            NaN   \n",
       "36909                            NaN                            NaN   \n",
       "36910                            NaN                            NaN   \n",
       "36911                            NaN                            NaN   \n",
       "\n",
       "       Irpp_decote_allocation_7_2013  Irpp_decote_allocation_8_2013  \\\n",
       "36908                            NaN                            NaN   \n",
       "36909                            NaN                            NaN   \n",
       "36910                            NaN                            NaN   \n",
       "36911                            NaN                            NaN   \n",
       "\n",
       "       Irpp_decote_allocation_9_2013  Irpp_decote_mere_2013  Irpp_decote_pacs  \\\n",
       "36908                            NaN                      0            509.72   \n",
       "36909                            NaN                      0            509.72   \n",
       "36910                            NaN                      0            509.72   \n",
       "36911                            NaN                      0            509.72   \n",
       "\n",
       "       Irpp_decote_pere_2013  Irpp_decote_seuil_prel_allocation_1_2013  \\\n",
       "36908                61.1675                                   2140.64   \n",
       "36909                61.1675                                   2140.64   \n",
       "36910                61.1675                                   2140.64   \n",
       "36911                61.1675                                   2140.64   \n",
       "\n",
       "       Irpp_decote_seuil_prel_allocation_2_2013  \\\n",
       "36908                                   1465.72   \n",
       "36909                                   1465.72   \n",
       "36910                                   1465.72   \n",
       "36911                                   1465.72   \n",
       "\n",
       "       Irpp_decote_seuil_prel_allocation_3_2013  \\\n",
       "36908                                  924.5325   \n",
       "36909                                  924.5325   \n",
       "36910                                  924.5325   \n",
       "36911                                  924.5325   \n",
       "\n",
       "       Irpp_decote_seuil_prel_allocation_4_2013  \\\n",
       "36908                                    678.48   \n",
       "36909                                    678.48   \n",
       "36910                                    678.48   \n",
       "36911                                    678.48   \n",
       "\n",
       "       Irpp_decote_seuil_prel_allocation_5_2013  \\\n",
       "36908                                       NaN   \n",
       "36909                                       NaN   \n",
       "36910                                       NaN   \n",
       "36911                                       NaN   \n",
       "\n",
       "       Irpp_decote_seuil_prel_allocation_6_2013  \\\n",
       "36908                                       NaN   \n",
       "36909                                       NaN   \n",
       "36910                                       NaN   \n",
       "36911                                       NaN   \n",
       "\n",
       "       Irpp_decote_seuil_prel_allocation_7_2013  \\\n",
       "36908                                       NaN   \n",
       "36909                                       NaN   \n",
       "36910                                       NaN   \n",
       "36911                                       NaN   \n",
       "\n",
       "       Irpp_decote_seuil_prel_allocation_8_2013  \\\n",
       "36908                                       NaN   \n",
       "36909                                       NaN   \n",
       "36910                                       NaN   \n",
       "36911                                       NaN   \n",
       "\n",
       "       Irpp_decote_seuil_prel_allocation_9_2013  \\\n",
       "36908                                       NaN   \n",
       "36909                                       NaN   \n",
       "36910                                       NaN   \n",
       "36911                                       NaN   \n",
       "\n",
       "       Irpp_reduction_impot_etudes_2013  \\\n",
       "36908                           61.1675   \n",
       "36909                           61.1675   \n",
       "36910                           61.1675   \n",
       "36911                           61.1675   \n",
       "\n",
       "       Irpp_reduction_impot_etudes_seuil_2013  Irpp_seuil_prelevement_2013  \\\n",
       "36908                                       0                            0   \n",
       "36909                                       0                            0   \n",
       "36910                                       0                            0   \n",
       "36911                                       0                            0   \n",
       "\n",
       "       Irpp_ss_qf_2013  JNAIS_2013  MNAIS_2013  Nb_enf_allocation_1_2013  \\\n",
       "36908         2439.675          28          12                         3   \n",
       "36909         2439.675          28          12                         3   \n",
       "36910         2439.675          28          12                         3   \n",
       "36911         2439.675          28          12                         3   \n",
       "\n",
       "       Nb_enf_allocation_2_2013  Nb_enf_allocation_3_2013  \\\n",
       "36908                         3                         3   \n",
       "36909                         3                         3   \n",
       "36910                         3                         3   \n",
       "36911                         3                         3   \n",
       "\n",
       "       Nb_enf_allocation_4_2013  Nb_enf_allocation_5_2013  \\\n",
       "36908                         3                       NaN   \n",
       "36909                         3                       NaN   \n",
       "36910                         3                       NaN   \n",
       "36911                         3                       NaN   \n",
       "\n",
       "       Nb_enf_allocation_6_2013  Nb_enf_allocation_7_2013  \\\n",
       "36908                       NaN                       NaN   \n",
       "36909                       NaN                       NaN   \n",
       "36910                       NaN                       NaN   \n",
       "36911                       NaN                       NaN   \n",
       "\n",
       "       Nb_enf_allocation_8_2013  Nb_enf_allocation_9_2013  Nb_enfants_2013  \\\n",
       "36908                       NaN                       NaN                3   \n",
       "36909                       NaN                       NaN                3   \n",
       "36910                       NaN                       NaN                3   \n",
       "36911                       NaN                       NaN                3   \n",
       "\n",
       "       Not_touched_by_decote_2013  POIDS_FIDELI_2013  \\\n",
       "36908                           0          22.656094   \n",
       "36909                           0          22.656094   \n",
       "36910                           0          22.656094   \n",
       "36911                           0          22.656094   \n",
       "\n",
       "       Parts_fiscales_enfants_2013  Parts_fiscales_enfants_pacs  Ppe_2013  \\\n",
       "36908                            2                            2   868.945   \n",
       "36909                            2                            2   868.945   \n",
       "36910                            2                            2   868.945   \n",
       "36911                            2                            2   868.945   \n",
       "\n",
       "       REV_PRINC_2013  Reduction_impot_pour_etudes_2013  Rni_2013  \\\n",
       "36908               2                                 0     36380   \n",
       "36909               2                                 0     36380   \n",
       "36910               2                                 0     36380   \n",
       "36911               2                                 0     36380   \n",
       "\n",
       "       Rni_mere_2013  Rni_pere_2013  SEXE_2013  Salaire_mere_2013  \\\n",
       "36908          11448          24932          3              11285   \n",
       "36909          11448          24932          3              11285   \n",
       "36910          11448          24932          3              11285   \n",
       "36911          11448          24932          3              11285   \n",
       "\n",
       "       Salaire_pere_2013  TYPE_DECL_2013  TYPE_PRES_2013  T_CHARGE_2013  \\\n",
       "36908              27702               2               1            NaN   \n",
       "36909              27702               2               1            NaN   \n",
       "36910              27702               2               1            NaN   \n",
       "36911              27702               2               1            NaN   \n",
       "\n",
       "       YALRI_2013  YBICI_2013  YBNCI_2013  YCHOI_2013  YRAGI_2013  YRSTI_2013  \\\n",
       "36908           0         272           0        1133           0           0   \n",
       "36909           0         272           0        1133           0           0   \n",
       "36910           0         272           0        1133           0           0   \n",
       "36911           0         272           0        1133           0           0   \n",
       "\n",
       "       YSALI_2013  nb_enfant_total_2013  result_max_allocation_2013  \\\n",
       "36908       38987                     6                     2140.64   \n",
       "36909       38987                     6                     2140.64   \n",
       "36910       38987                     6                     2140.64   \n",
       "36911       38987                     6                     2140.64   \n",
       "\n",
       "       result_min_allocation_2013  Montant_gain_fiscal_au_pacs  \\\n",
       "36908                     61.1675                    -448.5525   \n",
       "36909                     61.1675                    -448.5525   \n",
       "36910                     61.1675                    -448.5525   \n",
       "36911                     61.1675                    -448.5525   \n",
       "\n",
       "      Gain_fiscal_au_pacs Perte_fiscale_au_pacs Neutre_au_pacs    ...      \\\n",
       "36908               False                  True          False    ...       \n",
       "36909               False                  True          False    ...       \n",
       "36910               False                  True          False    ...       \n",
       "36911               False                  True          False    ...       \n",
       "\n",
       "      Do_not_optimize_2_prct_income_share_2014  \\\n",
       "36908                                    False   \n",
       "36909                                    False   \n",
       "36910                                    False   \n",
       "36911                                    False   \n",
       "\n",
       "       Do_not_optimize_5_prct_income_share_2014  \\\n",
       "36908                                     False   \n",
       "36909                                     False   \n",
       "36910                                     False   \n",
       "36911                                     False   \n",
       "\n",
       "       Do_not_optimize_95_prct_tax_amount_2014  \\\n",
       "36908                                    False   \n",
       "36909                                    False   \n",
       "36910                                    False   \n",
       "36911                                    False   \n",
       "\n",
       "       Do_not_optimize_90_prct_tax_amount_2014  \\\n",
       "36908                                    False   \n",
       "36909                                    False   \n",
       "36910                                    False   \n",
       "36911                                    False   \n",
       "\n",
       "       Do_not_optimize_50_prct_tax_amount_2014  \\\n",
       "36908                                    False   \n",
       "36909                                    False   \n",
       "36910                                    False   \n",
       "36911                                    False   \n",
       "\n",
       "       Do_not_optimize_5_prct_tax_amount_2014  \\\n",
       "36908                                   False   \n",
       "36909                                   False   \n",
       "36910                                   False   \n",
       "36911                                   False   \n",
       "\n",
       "       Optimize_10_prct_tax_amount_2014  \\\n",
       "36908                             False   \n",
       "36909                             False   \n",
       "36910                             False   \n",
       "36911                             False   \n",
       "\n",
       "      Two_smallest_allocation_difference_2014 index_2014  \\\n",
       "36908                                 -589.24      48899   \n",
       "36909                                 -589.24      48900   \n",
       "36910                                 -589.24      48899   \n",
       "36911                                 -589.24      48900   \n",
       "\n",
       "      Categorie_sociale_femme_2014 Categorie_sociale_homme_2014  \\\n",
       "36908                           46                           45   \n",
       "36909                           46                           45   \n",
       "36910                           46                           45   \n",
       "36911                           46                           45   \n",
       "\n",
       "      Diplome_femme_2014 Diplome_homme_2014 Immigre_IMMI_femme_2014  \\\n",
       "36908                 17                NaN                       2   \n",
       "36909                 17                NaN                       2   \n",
       "36910                 17                NaN                       2   \n",
       "36911                 17                NaN                       2   \n",
       "\n",
       "      Immigre_IMMI_homme_2014 Position_professionnelle_femme_2014  \\\n",
       "36908                       2                                  1D   \n",
       "36909                       2                                  1D   \n",
       "36910                       2                                  1D   \n",
       "36911                       2                                  1D   \n",
       "\n",
       "      Position_professionnelle_homme_2014 Region_femme_2014 Region_homme_2014  \\\n",
       "36908                                  1A                52                22   \n",
       "36909                                  1A                52                22   \n",
       "36910                                  1A                52                22   \n",
       "36911                                  1A                52                22   \n",
       "\n",
       "      Temps_partiel_femme_2014 Temps_partiel_homme_2014  \\\n",
       "36908                        2                        1   \n",
       "36909                        2                        1   \n",
       "36910                        2                        1   \n",
       "36911                        2                        1   \n",
       "\n",
       "      Temps_recherche_emploi_femme_2014 Temps_recherche_emploi_homme_2014  \\\n",
       "36908                                 Z                                 Z   \n",
       "36909                                 Z                                 Z   \n",
       "36910                                 Z                                 Z   \n",
       "36911                                 Z                                 Z   \n",
       "\n",
       "       Travaille_dans_commune_ILTD_femme_2014  \\\n",
       "36908                                       2   \n",
       "36909                                       2   \n",
       "36910                                       2   \n",
       "36911                                       2   \n",
       "\n",
       "       Travaille_dans_commune_ILTD_homme_2014  \\\n",
       "36908                                       1   \n",
       "36909                                       1   \n",
       "36910                                       1   \n",
       "36911                                       1   \n",
       "\n",
       "       Type_contrat_travail_EMPL_femme_2014  \\\n",
       "36908                                    16   \n",
       "36909                                    16   \n",
       "36910                                    16   \n",
       "36911                                    16   \n",
       "\n",
       "       Type_contrat_travail_EMPL_homme_2014  TC_2014  No_decote_2014  \\\n",
       "36908                                    15        2           False   \n",
       "36909                                    15        1           False   \n",
       "36910                                    15        2           False   \n",
       "36911                                    15        1           False   \n",
       "\n",
       "       deux_enfants_2014  trois_enfants_et_plus_2014  trois_enfants_2014  \\\n",
       "36908              False                        True                True   \n",
       "36909              False                        True                True   \n",
       "36910              False                        True                True   \n",
       "36911              False                        True                True   \n",
       "\n",
       "       quatre_enfants_et_plus_2014  Age_moyen_2014  Age_moyen_parents_2014  \\\n",
       "36908                        False              39                      39   \n",
       "36909                        False              39                      39   \n",
       "36910                        False              39                      39   \n",
       "36911                        False              39                      39   \n",
       "\n",
       "      Age_moyen_squared_2014 Ecart_Age_en_valeur_absolue_2014  \\\n",
       "36908                   1521                                6   \n",
       "36909                   1521                                6   \n",
       "36910                   1521                                6   \n",
       "36911                   1521                                6   \n",
       "\n",
       "       Prct_rev_perte_fiscale_2014  Diff_in_incompe_mere_pere_2014  \\\n",
       "36908                            0                           14349   \n",
       "36909                            0                           14349   \n",
       "36910                            0                           14349   \n",
       "36911                            0                           14349   \n",
       "\n",
       "       Age_elder_child_2014  Age_younger_child_2014  Age_moyen_children_2014  \\\n",
       "36908                     9                       3                        6   \n",
       "36909                     9                       3                        6   \n",
       "36910                     9                       3                        6   \n",
       "36911                     9                       3                        6   \n",
       "\n",
       "       Annee_2014  year_2014  No_school_man_2014  \\\n",
       "36908        2014       True                   0   \n",
       "36909        2014       True                   0   \n",
       "36910        2014       True                   0   \n",
       "36911        2014       True                   0   \n",
       "\n",
       "       primary_middle_school_man_2014  CEP_man_2014  BEPC_man_2014  \\\n",
       "36908                               0             0              0   \n",
       "36909                               0             0              0   \n",
       "36910                               0             0              0   \n",
       "36911                               0             0              0   \n",
       "\n",
       "       CAP_man_2014 BEP_man_2014 BAC_man_2014  Bac_pro_man_2014  \\\n",
       "36908             0            0            0                 0   \n",
       "36909             0            0            0                 0   \n",
       "36910             0            0            0                 0   \n",
       "36911             0            0            0                 0   \n",
       "\n",
       "       Bac_plus_3_man_2014  Master_PhD_man_2014 19.0_2014  No_school_wo_2014  \\\n",
       "36908                    0                    0         0                  0   \n",
       "36909                    0                    0         0                  0   \n",
       "36910                    0                    0         0                  0   \n",
       "36911                    0                    0         0                  0   \n",
       "\n",
       "       primary_middle_school_wo_2014  CEP_wo_2014 BEPC_wo_2014 CAP_wo_2014  \\\n",
       "36908                              0            0            0           0   \n",
       "36909                              0            0            0           0   \n",
       "36910                              0            0            0           0   \n",
       "36911                              0            0            0           0   \n",
       "\n",
       "      BEP_wo_2014  BAC_wo_2014  Bac_pro_wo_2014 Bac_plus_3_wo_2014  \\\n",
       "36908           0            0                0                  1   \n",
       "36909           0            0                0                  1   \n",
       "36910           0            0                0                  1   \n",
       "36911           0            0                0                  1   \n",
       "\n",
       "      Master_PhD_wo_2014 No_education_femme_2014 No_education_homme_2014  \\\n",
       "36908                  0                   False                   False   \n",
       "36909                  0                   False                   False   \n",
       "36910                  0                   False                   False   \n",
       "36911                  0                   False                   False   \n",
       "\n",
       "      Vocational_education_femme_2014 Vocational_education_homme_2014  \\\n",
       "36908                           False                           False   \n",
       "36909                           False                           False   \n",
       "36910                           False                           False   \n",
       "36911                           False                           False   \n",
       "\n",
       "      Licence_education_femme_2014 Licence_education_homme_2014  \\\n",
       "36908                         True                        False   \n",
       "36909                         True                        False   \n",
       "36910                         True                        False   \n",
       "36911                         True                        False   \n",
       "\n",
       "       Master_PhD_education_femme_2014 Master_PhD_education_homme_2014  \\\n",
       "36908                            False                           False   \n",
       "36909                            False                           False   \n",
       "36910                            False                           False   \n",
       "36911                            False                           False   \n",
       "\n",
       "      Same_diploma_2014 Same_diploma_No_educ_2014  \\\n",
       "36908             False                     False   \n",
       "36909             False                     False   \n",
       "36910             False                     False   \n",
       "36911             False                     False   \n",
       "\n",
       "      Same_diploma_Vocational_2014 Same_diploma_licence_2014  \\\n",
       "36908                        False                     False   \n",
       "36909                        False                     False   \n",
       "36910                        False                     False   \n",
       "36911                        False                     False   \n",
       "\n",
       "      Same_diploma_Master_2014 optimiseurs_2013_2014 non_opt_2013_opt_2014  \\\n",
       "36908                    False                  True                 False   \n",
       "36909                    False                  True                 False   \n",
       "36910                    False                  True                 False   \n",
       "36911                    False                  True                 False   \n",
       "\n",
       "      opt_2013_non_opt_2014 non_opt_2013_2014  \\\n",
       "36908                 False             False   \n",
       "36909                 False             False   \n",
       "36910                 False             False   \n",
       "36911                 False             False   \n",
       "\n",
       "       Same_optimal_allocation_same_family  \\\n",
       "36908                                   64   \n",
       "36909                                   64   \n",
       "36910                                   64   \n",
       "36911                                   64   \n",
       "\n",
       "                               Optimal_allocations_2013  \\\n",
       "36908  allocation_4allocation_4allocation_4allocation_4   \n",
       "36909  allocation_4allocation_4allocation_4allocation_4   \n",
       "36910  allocation_4allocation_4allocation_4allocation_4   \n",
       "36911  allocation_4allocation_4allocation_4allocation_4   \n",
       "\n",
       "                               Optimal_allocations_2014  \\\n",
       "36908  allocation_4allocation_4allocation_4allocation_4   \n",
       "36909  allocation_4allocation_4allocation_4allocation_4   \n",
       "36910  allocation_4allocation_4allocation_4allocation_4   \n",
       "36911  allocation_4allocation_4allocation_4allocation_4   \n",
       "\n",
       "       Chosen_allocation_2013  Chosen_allocation_2014  \\\n",
       "36908                       4                       4   \n",
       "36909                       4                       4   \n",
       "36910                       4                       4   \n",
       "36911                       4                       4   \n",
       "\n",
       "       Number_of_optimal_allocations_2013  Number_of_optimal_allocations_2014  \\\n",
       "36908                                   4                                   4   \n",
       "36909                                   4                                   4   \n",
       "36910                                   4                                   4   \n",
       "36911                                   4                                   4   \n",
       "\n",
       "       Same_family_did_not_change_allocation  \\\n",
       "36908                                      1   \n",
       "36909                                      1   \n",
       "36910                                      1   \n",
       "36911                                      1   \n",
       "\n",
       "       Same_family_did_change_allocation  Family_change Family_child_gain  \\\n",
       "36908                                  0          False             False   \n",
       "36909                                  0          False             False   \n",
       "36910                                  0          False             False   \n",
       "36911                                  0          False             False   \n",
       "\n",
       "       Family_child_loss  Intersect  Jamais_imposable_2013  \\\n",
       "36908              False          1                  False   \n",
       "36909              False          1                  False   \n",
       "36910              False          1                  False   \n",
       "36911              False          1                  False   \n",
       "\n",
       "       Jamais_imposable_2014  Optimize_2013  Optimize_2014  Separated  \n",
       "36908                  False           True           True      False  \n",
       "36909                  False           True           True      False  \n",
       "36910                  False           True           True      False  \n",
       "36911                  False           True           True      False  \n",
       "\n",
       "[4 rows x 428 columns]"
      ]
     },
     "execution_count": 109,
     "metadata": {},
     "output_type": "execute_result"
    }
   ],
   "source": [
    "df_temp[df_temp.Same_optimal_allocation_same_family == 64]"
   ]
  },
  {
   "cell_type": "code",
   "execution_count": 110,
   "metadata": {
    "collapsed": true
   },
   "outputs": [],
   "source": []
  },
  {
   "cell_type": "code",
   "execution_count": 110,
   "metadata": {
    "collapsed": false
   },
   "outputs": [],
   "source": []
  },
  {
   "cell_type": "code",
   "execution_count": 110,
   "metadata": {
    "collapsed": false
   },
   "outputs": [],
   "source": []
  },
  {
   "cell_type": "code",
   "execution_count": 110,
   "metadata": {
    "collapsed": false
   },
   "outputs": [],
   "source": []
  },
  {
   "cell_type": "code",
   "execution_count": 110,
   "metadata": {
    "collapsed": true
   },
   "outputs": [],
   "source": []
  },
  {
   "cell_type": "code",
   "execution_count": 110,
   "metadata": {
    "collapsed": true
   },
   "outputs": [],
   "source": []
  },
  {
   "cell_type": "markdown",
   "metadata": {},
   "source": [
    "### Share of those choosing the worst allocation"
   ]
  },
  {
   "cell_type": "code",
   "execution_count": 110,
   "metadata": {
    "collapsed": false
   },
   "outputs": [
    {
     "name": "stdout",
     "output_type": "stream",
     "text": [
      "False    1\n",
      "dtype: float64\n",
      "False    1\n",
      "dtype: float64\n"
     ]
    }
   ],
   "source": [
    "print (df_B.Fiscal_max_potential_loss_2013 == df_B.Fiscal_loss_2013).value_counts(normalize = True)\n",
    "print (df_B.Fiscal_max_potential_loss_2014 == df_B.Fiscal_loss_2014).value_counts(normalize = True)"
   ]
  },
  {
   "cell_type": "code",
   "execution_count": 111,
   "metadata": {
    "collapsed": false
   },
   "outputs": [
    {
     "name": "stdout",
     "output_type": "stream",
     "text": [
      "False    1\n",
      "dtype: float64\n",
      "False    1\n",
      "dtype: float64\n",
      "False    1\n",
      "dtype: float64\n",
      "False    1\n",
      "dtype: float64\n",
      "False    1\n",
      "dtype: float64\n"
     ]
    }
   ],
   "source": [
    "for nb_enf in range(1,6):\n",
    "    df_temp = df_B.query('Nb_enfants_2013 == {}'.format(nb_enf))\n",
    "    print (df_temp.Fiscal_max_potential_loss_2013 == df_temp.Fiscal_loss_2013).value_counts(normalize = True)"
   ]
  },
  {
   "cell_type": "markdown",
   "metadata": {},
   "source": [
    "### Est_ce que ceux qui changent se mettent sur une allocation optimale meilleure"
   ]
  },
  {
   "cell_type": "code",
   "execution_count": 112,
   "metadata": {
    "collapsed": false
   },
   "outputs": [
    {
     "data": {
      "text/html": [
       "<div>\n",
       "<table border=\"1\" class=\"dataframe\">\n",
       "  <thead>\n",
       "    <tr style=\"text-align: right;\">\n",
       "      <th></th>\n",
       "      <th>ID_FISC_LOG_DIFF</th>\n",
       "      <th>index</th>\n",
       "      <th>level_0_2013</th>\n",
       "      <th>ANAIS_2013</th>\n",
       "      <th>AN_FISC_x_2013</th>\n",
       "      <th>AN_FISC_y_2013</th>\n",
       "      <th>Age_2013</th>\n",
       "      <th>Age_mere_2013</th>\n",
       "      <th>Age_pere_2013</th>\n",
       "      <th>Allocation_mere_2013</th>\n",
       "      <th>Allocation_pere_2013</th>\n",
       "      <th>CNE1_2013</th>\n",
       "      <th>COM_NSCAT_2013</th>\n",
       "      <th>COM_SCAT1_2013</th>\n",
       "      <th>COM_SCAT2_2013</th>\n",
       "      <th>DACOED_2013</th>\n",
       "      <th>DACOEP_2013</th>\n",
       "      <th>Decote_2013</th>\n",
       "      <th>Decote_pacs</th>\n",
       "      <th>Fiscal_loss_2013</th>\n",
       "      <th>Gain_fiscal_max_2013</th>\n",
       "      <th>Gain_fiscal_max_in_ratio</th>\n",
       "      <th>ID_DIFF_2013</th>\n",
       "      <th>ID_FISC_FOY_DIFF_2013</th>\n",
       "      <th>I_FISC_LOGEMENT_2013</th>\n",
       "      <th>I_FISC_REVENU_2013</th>\n",
       "      <th>Irpp_ac_plaf_qf_2013</th>\n",
       "      <th>Irpp_ac_plaf_qf_mere</th>\n",
       "      <th>Irpp_ac_plaf_qf_pacs</th>\n",
       "      <th>Irpp_ac_plaf_qf_pere</th>\n",
       "      <th>Irpp_ac_qf_2013</th>\n",
       "      <th>Irpp_ac_qf_pacs</th>\n",
       "      <th>Irpp_decote_2013</th>\n",
       "      <th>Irpp_decote_allocation_1_2013</th>\n",
       "      <th>Irpp_decote_allocation_2_2013</th>\n",
       "      <th>Irpp_decote_allocation_3_2013</th>\n",
       "      <th>Irpp_decote_allocation_4_2013</th>\n",
       "      <th>Irpp_decote_allocation_5_2013</th>\n",
       "      <th>Irpp_decote_allocation_6_2013</th>\n",
       "      <th>Irpp_decote_allocation_7_2013</th>\n",
       "      <th>Irpp_decote_allocation_8_2013</th>\n",
       "      <th>Irpp_decote_allocation_9_2013</th>\n",
       "      <th>Irpp_decote_mere_2013</th>\n",
       "      <th>Irpp_decote_pacs</th>\n",
       "      <th>Irpp_decote_pere_2013</th>\n",
       "      <th>Irpp_decote_seuil_prel_allocation_1_2013</th>\n",
       "      <th>Irpp_decote_seuil_prel_allocation_2_2013</th>\n",
       "      <th>Irpp_decote_seuil_prel_allocation_3_2013</th>\n",
       "      <th>Irpp_decote_seuil_prel_allocation_4_2013</th>\n",
       "      <th>Irpp_decote_seuil_prel_allocation_5_2013</th>\n",
       "      <th>Irpp_decote_seuil_prel_allocation_6_2013</th>\n",
       "      <th>Irpp_decote_seuil_prel_allocation_7_2013</th>\n",
       "      <th>Irpp_decote_seuil_prel_allocation_8_2013</th>\n",
       "      <th>Irpp_decote_seuil_prel_allocation_9_2013</th>\n",
       "      <th>Irpp_reduction_impot_etudes_2013</th>\n",
       "      <th>Irpp_reduction_impot_etudes_seuil_2013</th>\n",
       "      <th>Irpp_seuil_prelevement_2013</th>\n",
       "      <th>Irpp_ss_qf_2013</th>\n",
       "      <th>JNAIS_2013</th>\n",
       "      <th>MNAIS_2013</th>\n",
       "      <th>Nb_enf_allocation_1_2013</th>\n",
       "      <th>Nb_enf_allocation_2_2013</th>\n",
       "      <th>Nb_enf_allocation_3_2013</th>\n",
       "      <th>Nb_enf_allocation_4_2013</th>\n",
       "      <th>Nb_enf_allocation_5_2013</th>\n",
       "      <th>Nb_enf_allocation_6_2013</th>\n",
       "      <th>Nb_enf_allocation_7_2013</th>\n",
       "      <th>Nb_enf_allocation_8_2013</th>\n",
       "      <th>Nb_enf_allocation_9_2013</th>\n",
       "      <th>Nb_enfants_2013</th>\n",
       "      <th>Not_touched_by_decote_2013</th>\n",
       "      <th>POIDS_FIDELI_2013</th>\n",
       "      <th>Parts_fiscales_enfants_2013</th>\n",
       "      <th>Parts_fiscales_enfants_pacs</th>\n",
       "      <th>Ppe_2013</th>\n",
       "      <th>REV_PRINC_2013</th>\n",
       "      <th>Reduction_impot_pour_etudes_2013</th>\n",
       "      <th>Rni_2013</th>\n",
       "      <th>Rni_mere_2013</th>\n",
       "      <th>Rni_pere_2013</th>\n",
       "      <th>SEXE_2013</th>\n",
       "      <th>Salaire_mere_2013</th>\n",
       "      <th>Salaire_pere_2013</th>\n",
       "      <th>TYPE_DECL_2013</th>\n",
       "      <th>TYPE_PRES_2013</th>\n",
       "      <th>T_CHARGE_2013</th>\n",
       "      <th>YALRI_2013</th>\n",
       "      <th>YBICI_2013</th>\n",
       "      <th>YBNCI_2013</th>\n",
       "      <th>YCHOI_2013</th>\n",
       "      <th>YRAGI_2013</th>\n",
       "      <th>YRSTI_2013</th>\n",
       "      <th>YSALI_2013</th>\n",
       "      <th>nb_enfant_total_2013</th>\n",
       "      <th>result_max_allocation_2013</th>\n",
       "      <th>result_min_allocation_2013</th>\n",
       "      <th>Montant_gain_fiscal_au_pacs</th>\n",
       "      <th>Gain_fiscal_au_pacs</th>\n",
       "      <th>Perte_fiscale_au_pacs</th>\n",
       "      <th>Neutre_au_pacs</th>\n",
       "      <th>...</th>\n",
       "      <th>Do_not_optimize_1_prct_income_share_2014</th>\n",
       "      <th>Do_not_optimize_2_prct_income_share_2014</th>\n",
       "      <th>Do_not_optimize_5_prct_income_share_2014</th>\n",
       "      <th>Do_not_optimize_95_prct_tax_amount_2014</th>\n",
       "      <th>Do_not_optimize_90_prct_tax_amount_2014</th>\n",
       "      <th>Do_not_optimize_50_prct_tax_amount_2014</th>\n",
       "      <th>Do_not_optimize_5_prct_tax_amount_2014</th>\n",
       "      <th>Optimize_10_prct_tax_amount_2014</th>\n",
       "      <th>Two_smallest_allocation_difference_2014</th>\n",
       "      <th>index_2014</th>\n",
       "      <th>Categorie_sociale_femme_2014</th>\n",
       "      <th>Categorie_sociale_homme_2014</th>\n",
       "      <th>Diplome_femme_2014</th>\n",
       "      <th>Diplome_homme_2014</th>\n",
       "      <th>Immigre_IMMI_femme_2014</th>\n",
       "      <th>Immigre_IMMI_homme_2014</th>\n",
       "      <th>Position_professionnelle_femme_2014</th>\n",
       "      <th>Position_professionnelle_homme_2014</th>\n",
       "      <th>Region_femme_2014</th>\n",
       "      <th>Region_homme_2014</th>\n",
       "      <th>Temps_partiel_femme_2014</th>\n",
       "      <th>Temps_partiel_homme_2014</th>\n",
       "      <th>Temps_recherche_emploi_femme_2014</th>\n",
       "      <th>Temps_recherche_emploi_homme_2014</th>\n",
       "      <th>Travaille_dans_commune_ILTD_femme_2014</th>\n",
       "      <th>Travaille_dans_commune_ILTD_homme_2014</th>\n",
       "      <th>Type_contrat_travail_EMPL_femme_2014</th>\n",
       "      <th>Type_contrat_travail_EMPL_homme_2014</th>\n",
       "      <th>TC_2014</th>\n",
       "      <th>No_decote_2014</th>\n",
       "      <th>deux_enfants_2014</th>\n",
       "      <th>trois_enfants_et_plus_2014</th>\n",
       "      <th>trois_enfants_2014</th>\n",
       "      <th>quatre_enfants_et_plus_2014</th>\n",
       "      <th>Age_moyen_2014</th>\n",
       "      <th>Age_moyen_parents_2014</th>\n",
       "      <th>Age_moyen_squared_2014</th>\n",
       "      <th>Ecart_Age_en_valeur_absolue_2014</th>\n",
       "      <th>Prct_rev_perte_fiscale_2014</th>\n",
       "      <th>Diff_in_incompe_mere_pere_2014</th>\n",
       "      <th>Age_elder_child_2014</th>\n",
       "      <th>Age_younger_child_2014</th>\n",
       "      <th>Age_moyen_children_2014</th>\n",
       "      <th>Annee_2014</th>\n",
       "      <th>year_2014</th>\n",
       "      <th>No_school_man_2014</th>\n",
       "      <th>primary_middle_school_man_2014</th>\n",
       "      <th>CEP_man_2014</th>\n",
       "      <th>BEPC_man_2014</th>\n",
       "      <th>CAP_man_2014</th>\n",
       "      <th>BEP_man_2014</th>\n",
       "      <th>BAC_man_2014</th>\n",
       "      <th>Bac_pro_man_2014</th>\n",
       "      <th>Bac_plus_3_man_2014</th>\n",
       "      <th>Master_PhD_man_2014</th>\n",
       "      <th>19.0_2014</th>\n",
       "      <th>No_school_wo_2014</th>\n",
       "      <th>primary_middle_school_wo_2014</th>\n",
       "      <th>CEP_wo_2014</th>\n",
       "      <th>BEPC_wo_2014</th>\n",
       "      <th>CAP_wo_2014</th>\n",
       "      <th>BEP_wo_2014</th>\n",
       "      <th>BAC_wo_2014</th>\n",
       "      <th>Bac_pro_wo_2014</th>\n",
       "      <th>Bac_plus_3_wo_2014</th>\n",
       "      <th>Master_PhD_wo_2014</th>\n",
       "      <th>No_education_femme_2014</th>\n",
       "      <th>No_education_homme_2014</th>\n",
       "      <th>Vocational_education_femme_2014</th>\n",
       "      <th>Vocational_education_homme_2014</th>\n",
       "      <th>Licence_education_femme_2014</th>\n",
       "      <th>Licence_education_homme_2014</th>\n",
       "      <th>Master_PhD_education_femme_2014</th>\n",
       "      <th>Master_PhD_education_homme_2014</th>\n",
       "      <th>Same_diploma_2014</th>\n",
       "      <th>Same_diploma_No_educ_2014</th>\n",
       "      <th>Same_diploma_Vocational_2014</th>\n",
       "      <th>Same_diploma_licence_2014</th>\n",
       "      <th>Same_diploma_Master_2014</th>\n",
       "      <th>optimiseurs_2013_2014</th>\n",
       "      <th>non_opt_2013_opt_2014</th>\n",
       "      <th>opt_2013_non_opt_2014</th>\n",
       "      <th>non_opt_2013_2014</th>\n",
       "      <th>Same_optimal_allocation_same_family</th>\n",
       "      <th>Optimal_allocations_2013</th>\n",
       "      <th>Optimal_allocations_2014</th>\n",
       "      <th>Chosen_allocation_2013</th>\n",
       "      <th>Chosen_allocation_2014</th>\n",
       "      <th>Number_of_optimal_allocations_2013</th>\n",
       "      <th>Number_of_optimal_allocations_2014</th>\n",
       "      <th>Same_family_did_not_change_allocation</th>\n",
       "      <th>Same_family_did_change_allocation</th>\n",
       "      <th>Family_change</th>\n",
       "      <th>Family_child_gain</th>\n",
       "      <th>Family_child_loss</th>\n",
       "      <th>Fiscal_max_potential_loss_2013</th>\n",
       "      <th>Fiscal_max_potential_loss_2014</th>\n",
       "      <th>Switchers</th>\n",
       "      <th>Non_switchers</th>\n",
       "      <th>Take_it</th>\n",
       "    </tr>\n",
       "  </thead>\n",
       "  <tbody>\n",
       "    <tr>\n",
       "      <th>0</th>\n",
       "      <td>374</td>\n",
       "      <td>0</td>\n",
       "      <td>1_child</td>\n",
       "      <td>3961</td>\n",
       "      <td>4028</td>\n",
       "      <td>4028</td>\n",
       "      <td>65</td>\n",
       "      <td>32</td>\n",
       "      <td>33</td>\n",
       "      <td>0</td>\n",
       "      <td>1</td>\n",
       "      <td>126</td>\n",
       "      <td>NaN</td>\n",
       "      <td>NaN</td>\n",
       "      <td>NaN</td>\n",
       "      <td>NaN</td>\n",
       "      <td>NaN</td>\n",
       "      <td>0.00000</td>\n",
       "      <td>-0.00000</td>\n",
       "      <td>225.35875</td>\n",
       "      <td>225.35875</td>\n",
       "      <td>0.905809</td>\n",
       "      <td>2801369</td>\n",
       "      <td>3916889</td>\n",
       "      <td>2</td>\n",
       "      <td>2</td>\n",
       "      <td>2392.5600</td>\n",
       "      <td>1080.70</td>\n",
       "      <td>2392.5600</td>\n",
       "      <td>1311.8600</td>\n",
       "      <td>2392.5600</td>\n",
       "      <td>2392.5600</td>\n",
       "      <td>2392.56</td>\n",
       "      <td>2167.20125</td>\n",
       "      <td>2392.56</td>\n",
       "      <td>NaN</td>\n",
       "      <td>NaN</td>\n",
       "      <td>NaN</td>\n",
       "      <td>NaN</td>\n",
       "      <td>NaN</td>\n",
       "      <td>NaN</td>\n",
       "      <td>NaN</td>\n",
       "      <td>1080.70</td>\n",
       "      <td>2392.56000</td>\n",
       "      <td>1311.86</td>\n",
       "      <td>2445.7275</td>\n",
       "      <td>2392.5600</td>\n",
       "      <td>NaN</td>\n",
       "      <td>NaN</td>\n",
       "      <td>NaN</td>\n",
       "      <td>NaN</td>\n",
       "      <td>NaN</td>\n",
       "      <td>NaN</td>\n",
       "      <td>NaN</td>\n",
       "      <td>2392.56</td>\n",
       "      <td>2392.56</td>\n",
       "      <td>2392.56</td>\n",
       "      <td>3067.48</td>\n",
       "      <td>31</td>\n",
       "      <td>14</td>\n",
       "      <td>1</td>\n",
       "      <td>1</td>\n",
       "      <td>NaN</td>\n",
       "      <td>NaN</td>\n",
       "      <td>NaN</td>\n",
       "      <td>NaN</td>\n",
       "      <td>NaN</td>\n",
       "      <td>NaN</td>\n",
       "      <td>NaN</td>\n",
       "      <td>1</td>\n",
       "      <td>2</td>\n",
       "      <td>22.344435</td>\n",
       "      <td>0.5</td>\n",
       "      <td>0.5</td>\n",
       "      <td>0.000</td>\n",
       "      <td>2</td>\n",
       "      <td>0</td>\n",
       "      <td>41194</td>\n",
       "      <td>17361</td>\n",
       "      <td>23833</td>\n",
       "      <td>3</td>\n",
       "      <td>19290</td>\n",
       "      <td>26481</td>\n",
       "      <td>2</td>\n",
       "      <td>1</td>\n",
       "      <td>NaN</td>\n",
       "      <td>0</td>\n",
       "      <td>0</td>\n",
       "      <td>0</td>\n",
       "      <td>0</td>\n",
       "      <td>0</td>\n",
       "      <td>0</td>\n",
       "      <td>45771</td>\n",
       "      <td>2</td>\n",
       "      <td>2392.56</td>\n",
       "      <td>2167.20125</td>\n",
       "      <td>4.547474e-13</td>\n",
       "      <td>False</td>\n",
       "      <td>False</td>\n",
       "      <td>True</td>\n",
       "      <td>...</td>\n",
       "      <td>False</td>\n",
       "      <td>False</td>\n",
       "      <td>False</td>\n",
       "      <td>False</td>\n",
       "      <td>False</td>\n",
       "      <td>False</td>\n",
       "      <td>True</td>\n",
       "      <td>True</td>\n",
       "      <td>-432.48</td>\n",
       "      <td>NaN</td>\n",
       "      <td>NaN</td>\n",
       "      <td>NaN</td>\n",
       "      <td>NaN</td>\n",
       "      <td>NaN</td>\n",
       "      <td>NaN</td>\n",
       "      <td>NaN</td>\n",
       "      <td>NaN</td>\n",
       "      <td>NaN</td>\n",
       "      <td>NaN</td>\n",
       "      <td>NaN</td>\n",
       "      <td>NaN</td>\n",
       "      <td>NaN</td>\n",
       "      <td>NaN</td>\n",
       "      <td>NaN</td>\n",
       "      <td>NaN</td>\n",
       "      <td>NaN</td>\n",
       "      <td>NaN</td>\n",
       "      <td>NaN</td>\n",
       "      <td>NaN</td>\n",
       "      <td>True</td>\n",
       "      <td>False</td>\n",
       "      <td>False</td>\n",
       "      <td>False</td>\n",
       "      <td>False</td>\n",
       "      <td>33.5</td>\n",
       "      <td>33.5</td>\n",
       "      <td>1122.25</td>\n",
       "      <td>1</td>\n",
       "      <td>0.009941</td>\n",
       "      <td>4400</td>\n",
       "      <td>1</td>\n",
       "      <td>1</td>\n",
       "      <td>1</td>\n",
       "      <td>2014</td>\n",
       "      <td>True</td>\n",
       "      <td>0</td>\n",
       "      <td>0</td>\n",
       "      <td>0</td>\n",
       "      <td>0</td>\n",
       "      <td>0</td>\n",
       "      <td>0</td>\n",
       "      <td>0</td>\n",
       "      <td>0</td>\n",
       "      <td>0</td>\n",
       "      <td>0</td>\n",
       "      <td>0</td>\n",
       "      <td>0</td>\n",
       "      <td>0</td>\n",
       "      <td>0</td>\n",
       "      <td>0</td>\n",
       "      <td>0</td>\n",
       "      <td>0</td>\n",
       "      <td>0</td>\n",
       "      <td>0</td>\n",
       "      <td>0</td>\n",
       "      <td>0</td>\n",
       "      <td>False</td>\n",
       "      <td>False</td>\n",
       "      <td>False</td>\n",
       "      <td>False</td>\n",
       "      <td>False</td>\n",
       "      <td>False</td>\n",
       "      <td>False</td>\n",
       "      <td>False</td>\n",
       "      <td>False</td>\n",
       "      <td>False</td>\n",
       "      <td>False</td>\n",
       "      <td>False</td>\n",
       "      <td>False</td>\n",
       "      <td>False</td>\n",
       "      <td>False</td>\n",
       "      <td>False</td>\n",
       "      <td>True</td>\n",
       "      <td>1</td>\n",
       "      <td>allocation_1</td>\n",
       "      <td>allocation_1</td>\n",
       "      <td>2</td>\n",
       "      <td>2</td>\n",
       "      <td>1</td>\n",
       "      <td>1</td>\n",
       "      <td>1</td>\n",
       "      <td>0</td>\n",
       "      <td>False</td>\n",
       "      <td>False</td>\n",
       "      <td>False</td>\n",
       "      <td>-225.35875</td>\n",
       "      <td>-432.48</td>\n",
       "      <td>False</td>\n",
       "      <td>True</td>\n",
       "      <td>False</td>\n",
       "    </tr>\n",
       "    <tr>\n",
       "      <th>2</th>\n",
       "      <td>1404</td>\n",
       "      <td>2</td>\n",
       "      <td>1_child</td>\n",
       "      <td>3963</td>\n",
       "      <td>4028</td>\n",
       "      <td>4028</td>\n",
       "      <td>63</td>\n",
       "      <td>37</td>\n",
       "      <td>26</td>\n",
       "      <td>1</td>\n",
       "      <td>0</td>\n",
       "      <td>350</td>\n",
       "      <td>NaN</td>\n",
       "      <td>NaN</td>\n",
       "      <td>NaN</td>\n",
       "      <td>NaN</td>\n",
       "      <td>NaN</td>\n",
       "      <td>528.29500</td>\n",
       "      <td>33.98000</td>\n",
       "      <td>0.00000</td>\n",
       "      <td>850.81000</td>\n",
       "      <td>0.364659</td>\n",
       "      <td>2224500</td>\n",
       "      <td>4231627</td>\n",
       "      <td>2</td>\n",
       "      <td>2</td>\n",
       "      <td>975.4100</td>\n",
       "      <td>664.22</td>\n",
       "      <td>948.0400</td>\n",
       "      <td>311.1900</td>\n",
       "      <td>975.4100</td>\n",
       "      <td>948.0400</td>\n",
       "      <td>488.33</td>\n",
       "      <td>488.33000</td>\n",
       "      <td>1339.14</td>\n",
       "      <td>NaN</td>\n",
       "      <td>NaN</td>\n",
       "      <td>NaN</td>\n",
       "      <td>NaN</td>\n",
       "      <td>NaN</td>\n",
       "      <td>NaN</td>\n",
       "      <td>NaN</td>\n",
       "      <td>488.33</td>\n",
       "      <td>914.06000</td>\n",
       "      <td>0.00</td>\n",
       "      <td>975.4100</td>\n",
       "      <td>1485.0275</td>\n",
       "      <td>NaN</td>\n",
       "      <td>NaN</td>\n",
       "      <td>NaN</td>\n",
       "      <td>NaN</td>\n",
       "      <td>NaN</td>\n",
       "      <td>NaN</td>\n",
       "      <td>NaN</td>\n",
       "      <td>488.33</td>\n",
       "      <td>488.33</td>\n",
       "      <td>488.33</td>\n",
       "      <td>1650.33</td>\n",
       "      <td>34</td>\n",
       "      <td>15</td>\n",
       "      <td>1</td>\n",
       "      <td>1</td>\n",
       "      <td>NaN</td>\n",
       "      <td>NaN</td>\n",
       "      <td>NaN</td>\n",
       "      <td>NaN</td>\n",
       "      <td>NaN</td>\n",
       "      <td>NaN</td>\n",
       "      <td>NaN</td>\n",
       "      <td>1</td>\n",
       "      <td>0</td>\n",
       "      <td>22.693110</td>\n",
       "      <td>0.5</td>\n",
       "      <td>0.5</td>\n",
       "      <td>759.759</td>\n",
       "      <td>2</td>\n",
       "      <td>0</td>\n",
       "      <td>30876</td>\n",
       "      <td>19207</td>\n",
       "      <td>11669</td>\n",
       "      <td>3</td>\n",
       "      <td>21341</td>\n",
       "      <td>9867</td>\n",
       "      <td>2</td>\n",
       "      <td>1</td>\n",
       "      <td>NaN</td>\n",
       "      <td>0</td>\n",
       "      <td>0</td>\n",
       "      <td>0</td>\n",
       "      <td>3098</td>\n",
       "      <td>0</td>\n",
       "      <td>0</td>\n",
       "      <td>31208</td>\n",
       "      <td>2</td>\n",
       "      <td>1339.14</td>\n",
       "      <td>488.33000</td>\n",
       "      <td>-4.257300e+02</td>\n",
       "      <td>False</td>\n",
       "      <td>True</td>\n",
       "      <td>False</td>\n",
       "      <td>...</td>\n",
       "      <td>False</td>\n",
       "      <td>False</td>\n",
       "      <td>False</td>\n",
       "      <td>False</td>\n",
       "      <td>False</td>\n",
       "      <td>False</td>\n",
       "      <td>False</td>\n",
       "      <td>True</td>\n",
       "      <td>-916.46</td>\n",
       "      <td>NaN</td>\n",
       "      <td>NaN</td>\n",
       "      <td>NaN</td>\n",
       "      <td>NaN</td>\n",
       "      <td>NaN</td>\n",
       "      <td>NaN</td>\n",
       "      <td>NaN</td>\n",
       "      <td>NaN</td>\n",
       "      <td>NaN</td>\n",
       "      <td>NaN</td>\n",
       "      <td>NaN</td>\n",
       "      <td>NaN</td>\n",
       "      <td>NaN</td>\n",
       "      <td>NaN</td>\n",
       "      <td>NaN</td>\n",
       "      <td>NaN</td>\n",
       "      <td>NaN</td>\n",
       "      <td>NaN</td>\n",
       "      <td>NaN</td>\n",
       "      <td>NaN</td>\n",
       "      <td>False</td>\n",
       "      <td>False</td>\n",
       "      <td>False</td>\n",
       "      <td>False</td>\n",
       "      <td>False</td>\n",
       "      <td>32.5</td>\n",
       "      <td>32.5</td>\n",
       "      <td>1056.25</td>\n",
       "      <td>11</td>\n",
       "      <td>0.000000</td>\n",
       "      <td>11716</td>\n",
       "      <td>4</td>\n",
       "      <td>4</td>\n",
       "      <td>4</td>\n",
       "      <td>2014</td>\n",
       "      <td>True</td>\n",
       "      <td>0</td>\n",
       "      <td>0</td>\n",
       "      <td>0</td>\n",
       "      <td>0</td>\n",
       "      <td>0</td>\n",
       "      <td>0</td>\n",
       "      <td>0</td>\n",
       "      <td>0</td>\n",
       "      <td>0</td>\n",
       "      <td>0</td>\n",
       "      <td>0</td>\n",
       "      <td>0</td>\n",
       "      <td>0</td>\n",
       "      <td>0</td>\n",
       "      <td>0</td>\n",
       "      <td>0</td>\n",
       "      <td>0</td>\n",
       "      <td>0</td>\n",
       "      <td>0</td>\n",
       "      <td>0</td>\n",
       "      <td>0</td>\n",
       "      <td>False</td>\n",
       "      <td>False</td>\n",
       "      <td>False</td>\n",
       "      <td>False</td>\n",
       "      <td>False</td>\n",
       "      <td>False</td>\n",
       "      <td>False</td>\n",
       "      <td>False</td>\n",
       "      <td>False</td>\n",
       "      <td>False</td>\n",
       "      <td>False</td>\n",
       "      <td>False</td>\n",
       "      <td>False</td>\n",
       "      <td>True</td>\n",
       "      <td>False</td>\n",
       "      <td>False</td>\n",
       "      <td>False</td>\n",
       "      <td>1</td>\n",
       "      <td>allocation_1</td>\n",
       "      <td>allocation_1</td>\n",
       "      <td>1</td>\n",
       "      <td>1</td>\n",
       "      <td>1</td>\n",
       "      <td>1</td>\n",
       "      <td>1</td>\n",
       "      <td>0</td>\n",
       "      <td>False</td>\n",
       "      <td>False</td>\n",
       "      <td>False</td>\n",
       "      <td>-850.81000</td>\n",
       "      <td>-916.46</td>\n",
       "      <td>False</td>\n",
       "      <td>True</td>\n",
       "      <td>True</td>\n",
       "    </tr>\n",
       "    <tr>\n",
       "      <th>3</th>\n",
       "      <td>1434</td>\n",
       "      <td>3</td>\n",
       "      <td>1_child</td>\n",
       "      <td>3960</td>\n",
       "      <td>4028</td>\n",
       "      <td>4028</td>\n",
       "      <td>66</td>\n",
       "      <td>34</td>\n",
       "      <td>32</td>\n",
       "      <td>0</td>\n",
       "      <td>1</td>\n",
       "      <td>186</td>\n",
       "      <td>NaN</td>\n",
       "      <td>NaN</td>\n",
       "      <td>NaN</td>\n",
       "      <td>NaN</td>\n",
       "      <td>NaN</td>\n",
       "      <td>187.31000</td>\n",
       "      <td>-0.00000</td>\n",
       "      <td>0.00000</td>\n",
       "      <td>220.85000</td>\n",
       "      <td>0.888384</td>\n",
       "      <td>2964367</td>\n",
       "      <td>3706491</td>\n",
       "      <td>2</td>\n",
       "      <td>2</td>\n",
       "      <td>1945.1200</td>\n",
       "      <td>641.38</td>\n",
       "      <td>1945.1200</td>\n",
       "      <td>1303.7400</td>\n",
       "      <td>1945.1200</td>\n",
       "      <td>1945.1200</td>\n",
       "      <td>1757.81</td>\n",
       "      <td>1978.66000</td>\n",
       "      <td>1757.81</td>\n",
       "      <td>NaN</td>\n",
       "      <td>NaN</td>\n",
       "      <td>NaN</td>\n",
       "      <td>NaN</td>\n",
       "      <td>NaN</td>\n",
       "      <td>NaN</td>\n",
       "      <td>NaN</td>\n",
       "      <td>454.07</td>\n",
       "      <td>1945.12000</td>\n",
       "      <td>1303.74</td>\n",
       "      <td>2265.0175</td>\n",
       "      <td>1945.1200</td>\n",
       "      <td>NaN</td>\n",
       "      <td>NaN</td>\n",
       "      <td>NaN</td>\n",
       "      <td>NaN</td>\n",
       "      <td>NaN</td>\n",
       "      <td>NaN</td>\n",
       "      <td>NaN</td>\n",
       "      <td>1757.81</td>\n",
       "      <td>1757.81</td>\n",
       "      <td>1757.81</td>\n",
       "      <td>2620.04</td>\n",
       "      <td>27</td>\n",
       "      <td>10</td>\n",
       "      <td>1</td>\n",
       "      <td>1</td>\n",
       "      <td>NaN</td>\n",
       "      <td>NaN</td>\n",
       "      <td>NaN</td>\n",
       "      <td>NaN</td>\n",
       "      <td>NaN</td>\n",
       "      <td>NaN</td>\n",
       "      <td>NaN</td>\n",
       "      <td>1</td>\n",
       "      <td>1</td>\n",
       "      <td>22.578253</td>\n",
       "      <td>0.5</td>\n",
       "      <td>0.5</td>\n",
       "      <td>318.064</td>\n",
       "      <td>2</td>\n",
       "      <td>0</td>\n",
       "      <td>37998</td>\n",
       "      <td>14223</td>\n",
       "      <td>23775</td>\n",
       "      <td>3</td>\n",
       "      <td>15803</td>\n",
       "      <td>26417</td>\n",
       "      <td>2</td>\n",
       "      <td>1</td>\n",
       "      <td>NaN</td>\n",
       "      <td>0</td>\n",
       "      <td>0</td>\n",
       "      <td>0</td>\n",
       "      <td>0</td>\n",
       "      <td>0</td>\n",
       "      <td>0</td>\n",
       "      <td>42220</td>\n",
       "      <td>2</td>\n",
       "      <td>1978.66</td>\n",
       "      <td>1757.81000</td>\n",
       "      <td>-1.873100e+02</td>\n",
       "      <td>False</td>\n",
       "      <td>True</td>\n",
       "      <td>False</td>\n",
       "      <td>...</td>\n",
       "      <td>False</td>\n",
       "      <td>False</td>\n",
       "      <td>False</td>\n",
       "      <td>False</td>\n",
       "      <td>False</td>\n",
       "      <td>False</td>\n",
       "      <td>False</td>\n",
       "      <td>True</td>\n",
       "      <td>-469.58</td>\n",
       "      <td>12</td>\n",
       "      <td>53</td>\n",
       "      <td>67</td>\n",
       "      <td>16</td>\n",
       "      <td>2</td>\n",
       "      <td>2</td>\n",
       "      <td>2</td>\n",
       "      <td>1D</td>\n",
       "      <td>1B</td>\n",
       "      <td>24</td>\n",
       "      <td>24</td>\n",
       "      <td>1</td>\n",
       "      <td>1</td>\n",
       "      <td>Z</td>\n",
       "      <td>Z</td>\n",
       "      <td>2</td>\n",
       "      <td>2</td>\n",
       "      <td>15</td>\n",
       "      <td>12</td>\n",
       "      <td>1</td>\n",
       "      <td>False</td>\n",
       "      <td>False</td>\n",
       "      <td>False</td>\n",
       "      <td>False</td>\n",
       "      <td>False</td>\n",
       "      <td>34.0</td>\n",
       "      <td>34.0</td>\n",
       "      <td>1156.00</td>\n",
       "      <td>2</td>\n",
       "      <td>0.000000</td>\n",
       "      <td>12110</td>\n",
       "      <td>2</td>\n",
       "      <td>2</td>\n",
       "      <td>2</td>\n",
       "      <td>2014</td>\n",
       "      <td>True</td>\n",
       "      <td>0</td>\n",
       "      <td>1</td>\n",
       "      <td>0</td>\n",
       "      <td>0</td>\n",
       "      <td>0</td>\n",
       "      <td>0</td>\n",
       "      <td>0</td>\n",
       "      <td>0</td>\n",
       "      <td>0</td>\n",
       "      <td>0</td>\n",
       "      <td>0</td>\n",
       "      <td>0</td>\n",
       "      <td>0</td>\n",
       "      <td>0</td>\n",
       "      <td>0</td>\n",
       "      <td>0</td>\n",
       "      <td>0</td>\n",
       "      <td>0</td>\n",
       "      <td>1</td>\n",
       "      <td>0</td>\n",
       "      <td>0</td>\n",
       "      <td>False</td>\n",
       "      <td>True</td>\n",
       "      <td>True</td>\n",
       "      <td>False</td>\n",
       "      <td>False</td>\n",
       "      <td>False</td>\n",
       "      <td>False</td>\n",
       "      <td>False</td>\n",
       "      <td>False</td>\n",
       "      <td>False</td>\n",
       "      <td>False</td>\n",
       "      <td>False</td>\n",
       "      <td>False</td>\n",
       "      <td>True</td>\n",
       "      <td>False</td>\n",
       "      <td>False</td>\n",
       "      <td>False</td>\n",
       "      <td>1</td>\n",
       "      <td>allocation_2</td>\n",
       "      <td>allocation_2</td>\n",
       "      <td>2</td>\n",
       "      <td>2</td>\n",
       "      <td>1</td>\n",
       "      <td>1</td>\n",
       "      <td>1</td>\n",
       "      <td>0</td>\n",
       "      <td>False</td>\n",
       "      <td>False</td>\n",
       "      <td>False</td>\n",
       "      <td>-220.85000</td>\n",
       "      <td>-469.58</td>\n",
       "      <td>False</td>\n",
       "      <td>True</td>\n",
       "      <td>True</td>\n",
       "    </tr>\n",
       "    <tr>\n",
       "      <th>4</th>\n",
       "      <td>1648</td>\n",
       "      <td>4</td>\n",
       "      <td>1_child</td>\n",
       "      <td>3959</td>\n",
       "      <td>4028</td>\n",
       "      <td>4028</td>\n",
       "      <td>67</td>\n",
       "      <td>31</td>\n",
       "      <td>36</td>\n",
       "      <td>1</td>\n",
       "      <td>0</td>\n",
       "      <td>660</td>\n",
       "      <td>NaN</td>\n",
       "      <td>NaN</td>\n",
       "      <td>NaN</td>\n",
       "      <td>NaN</td>\n",
       "      <td>NaN</td>\n",
       "      <td>0.00000</td>\n",
       "      <td>-0.00000</td>\n",
       "      <td>128.29000</td>\n",
       "      <td>128.29000</td>\n",
       "      <td>0.948897</td>\n",
       "      <td>3559376</td>\n",
       "      <td>6776622</td>\n",
       "      <td>2</td>\n",
       "      <td>2</td>\n",
       "      <td>2510.4400</td>\n",
       "      <td>1076.10</td>\n",
       "      <td>2510.4400</td>\n",
       "      <td>1434.3400</td>\n",
       "      <td>2510.4400</td>\n",
       "      <td>2510.4400</td>\n",
       "      <td>2510.44</td>\n",
       "      <td>2510.44000</td>\n",
       "      <td>2382.15</td>\n",
       "      <td>NaN</td>\n",
       "      <td>NaN</td>\n",
       "      <td>NaN</td>\n",
       "      <td>NaN</td>\n",
       "      <td>NaN</td>\n",
       "      <td>NaN</td>\n",
       "      <td>NaN</td>\n",
       "      <td>1076.10</td>\n",
       "      <td>2510.44000</td>\n",
       "      <td>1434.34</td>\n",
       "      <td>2510.4400</td>\n",
       "      <td>2510.4400</td>\n",
       "      <td>NaN</td>\n",
       "      <td>NaN</td>\n",
       "      <td>NaN</td>\n",
       "      <td>NaN</td>\n",
       "      <td>NaN</td>\n",
       "      <td>NaN</td>\n",
       "      <td>NaN</td>\n",
       "      <td>2510.44</td>\n",
       "      <td>2510.44</td>\n",
       "      <td>2510.44</td>\n",
       "      <td>3185.36</td>\n",
       "      <td>26</td>\n",
       "      <td>19</td>\n",
       "      <td>1</td>\n",
       "      <td>1</td>\n",
       "      <td>NaN</td>\n",
       "      <td>NaN</td>\n",
       "      <td>NaN</td>\n",
       "      <td>NaN</td>\n",
       "      <td>NaN</td>\n",
       "      <td>NaN</td>\n",
       "      <td>NaN</td>\n",
       "      <td>1</td>\n",
       "      <td>2</td>\n",
       "      <td>21.959520</td>\n",
       "      <td>0.5</td>\n",
       "      <td>0.5</td>\n",
       "      <td>0.000</td>\n",
       "      <td>2</td>\n",
       "      <td>0</td>\n",
       "      <td>42036</td>\n",
       "      <td>22149</td>\n",
       "      <td>19887</td>\n",
       "      <td>3</td>\n",
       "      <td>24610</td>\n",
       "      <td>22097</td>\n",
       "      <td>2</td>\n",
       "      <td>1</td>\n",
       "      <td>NaN</td>\n",
       "      <td>0</td>\n",
       "      <td>0</td>\n",
       "      <td>0</td>\n",
       "      <td>0</td>\n",
       "      <td>0</td>\n",
       "      <td>0</td>\n",
       "      <td>46707</td>\n",
       "      <td>2</td>\n",
       "      <td>2510.44</td>\n",
       "      <td>2382.15000</td>\n",
       "      <td>0.000000e+00</td>\n",
       "      <td>False</td>\n",
       "      <td>False</td>\n",
       "      <td>True</td>\n",
       "      <td>...</td>\n",
       "      <td>True</td>\n",
       "      <td>False</td>\n",
       "      <td>False</td>\n",
       "      <td>False</td>\n",
       "      <td>False</td>\n",
       "      <td>False</td>\n",
       "      <td>True</td>\n",
       "      <td>True</td>\n",
       "      <td>-481.88</td>\n",
       "      <td>20</td>\n",
       "      <td>54</td>\n",
       "      <td>43</td>\n",
       "      <td>18</td>\n",
       "      <td>18</td>\n",
       "      <td>2</td>\n",
       "      <td>2</td>\n",
       "      <td>1J</td>\n",
       "      <td>1E</td>\n",
       "      <td>11</td>\n",
       "      <td>11</td>\n",
       "      <td>1</td>\n",
       "      <td>1</td>\n",
       "      <td>Z</td>\n",
       "      <td>Z</td>\n",
       "      <td>3</td>\n",
       "      <td>1</td>\n",
       "      <td>16</td>\n",
       "      <td>16</td>\n",
       "      <td>2</td>\n",
       "      <td>True</td>\n",
       "      <td>False</td>\n",
       "      <td>False</td>\n",
       "      <td>False</td>\n",
       "      <td>False</td>\n",
       "      <td>34.5</td>\n",
       "      <td>34.5</td>\n",
       "      <td>1190.25</td>\n",
       "      <td>5</td>\n",
       "      <td>0.011476</td>\n",
       "      <td>6038</td>\n",
       "      <td>4</td>\n",
       "      <td>4</td>\n",
       "      <td>4</td>\n",
       "      <td>2014</td>\n",
       "      <td>True</td>\n",
       "      <td>0</td>\n",
       "      <td>0</td>\n",
       "      <td>0</td>\n",
       "      <td>0</td>\n",
       "      <td>0</td>\n",
       "      <td>0</td>\n",
       "      <td>0</td>\n",
       "      <td>0</td>\n",
       "      <td>0</td>\n",
       "      <td>1</td>\n",
       "      <td>0</td>\n",
       "      <td>0</td>\n",
       "      <td>0</td>\n",
       "      <td>0</td>\n",
       "      <td>0</td>\n",
       "      <td>0</td>\n",
       "      <td>0</td>\n",
       "      <td>0</td>\n",
       "      <td>0</td>\n",
       "      <td>0</td>\n",
       "      <td>1</td>\n",
       "      <td>False</td>\n",
       "      <td>False</td>\n",
       "      <td>False</td>\n",
       "      <td>False</td>\n",
       "      <td>False</td>\n",
       "      <td>False</td>\n",
       "      <td>True</td>\n",
       "      <td>True</td>\n",
       "      <td>True</td>\n",
       "      <td>False</td>\n",
       "      <td>False</td>\n",
       "      <td>False</td>\n",
       "      <td>True</td>\n",
       "      <td>False</td>\n",
       "      <td>False</td>\n",
       "      <td>False</td>\n",
       "      <td>True</td>\n",
       "      <td>1</td>\n",
       "      <td>allocation_2</td>\n",
       "      <td>allocation_2</td>\n",
       "      <td>1</td>\n",
       "      <td>1</td>\n",
       "      <td>1</td>\n",
       "      <td>1</td>\n",
       "      <td>1</td>\n",
       "      <td>0</td>\n",
       "      <td>False</td>\n",
       "      <td>False</td>\n",
       "      <td>False</td>\n",
       "      <td>-128.29000</td>\n",
       "      <td>-481.88</td>\n",
       "      <td>False</td>\n",
       "      <td>True</td>\n",
       "      <td>False</td>\n",
       "    </tr>\n",
       "    <tr>\n",
       "      <th>5</th>\n",
       "      <td>1668</td>\n",
       "      <td>5</td>\n",
       "      <td>1_child</td>\n",
       "      <td>3971</td>\n",
       "      <td>4028</td>\n",
       "      <td>4028</td>\n",
       "      <td>55</td>\n",
       "      <td>26</td>\n",
       "      <td>29</td>\n",
       "      <td>0</td>\n",
       "      <td>1</td>\n",
       "      <td>750</td>\n",
       "      <td>NaN</td>\n",
       "      <td>NaN</td>\n",
       "      <td>NaN</td>\n",
       "      <td>NaN</td>\n",
       "      <td>NaN</td>\n",
       "      <td>625.75375</td>\n",
       "      <td>168.96625</td>\n",
       "      <td>0.00000</td>\n",
       "      <td>202.44000</td>\n",
       "      <td>0.540786</td>\n",
       "      <td>2333984</td>\n",
       "      <td>5876540</td>\n",
       "      <td>2</td>\n",
       "      <td>2</td>\n",
       "      <td>780.4925</td>\n",
       "      <td>497.60</td>\n",
       "      <td>678.0675</td>\n",
       "      <td>282.8925</td>\n",
       "      <td>780.4925</td>\n",
       "      <td>678.0675</td>\n",
       "      <td>238.40</td>\n",
       "      <td>440.84000</td>\n",
       "      <td>238.40</td>\n",
       "      <td>NaN</td>\n",
       "      <td>NaN</td>\n",
       "      <td>NaN</td>\n",
       "      <td>NaN</td>\n",
       "      <td>NaN</td>\n",
       "      <td>NaN</td>\n",
       "      <td>NaN</td>\n",
       "      <td>238.40</td>\n",
       "      <td>509.10125</td>\n",
       "      <td>0.00</td>\n",
       "      <td>862.4325</td>\n",
       "      <td>780.4925</td>\n",
       "      <td>NaN</td>\n",
       "      <td>NaN</td>\n",
       "      <td>NaN</td>\n",
       "      <td>NaN</td>\n",
       "      <td>NaN</td>\n",
       "      <td>NaN</td>\n",
       "      <td>NaN</td>\n",
       "      <td>238.40</td>\n",
       "      <td>238.40</td>\n",
       "      <td>238.40</td>\n",
       "      <td>1130.16</td>\n",
       "      <td>14</td>\n",
       "      <td>12</td>\n",
       "      <td>1</td>\n",
       "      <td>1</td>\n",
       "      <td>NaN</td>\n",
       "      <td>NaN</td>\n",
       "      <td>NaN</td>\n",
       "      <td>NaN</td>\n",
       "      <td>NaN</td>\n",
       "      <td>NaN</td>\n",
       "      <td>NaN</td>\n",
       "      <td>1</td>\n",
       "      <td>0</td>\n",
       "      <td>22.415020</td>\n",
       "      <td>0.5</td>\n",
       "      <td>0.5</td>\n",
       "      <td>1479.566</td>\n",
       "      <td>2</td>\n",
       "      <td>0</td>\n",
       "      <td>27356</td>\n",
       "      <td>13196</td>\n",
       "      <td>14160</td>\n",
       "      <td>3</td>\n",
       "      <td>14662</td>\n",
       "      <td>11757</td>\n",
       "      <td>2</td>\n",
       "      <td>1</td>\n",
       "      <td>NaN</td>\n",
       "      <td>0</td>\n",
       "      <td>0</td>\n",
       "      <td>0</td>\n",
       "      <td>3976</td>\n",
       "      <td>0</td>\n",
       "      <td>0</td>\n",
       "      <td>26419</td>\n",
       "      <td>2</td>\n",
       "      <td>440.84</td>\n",
       "      <td>238.40000</td>\n",
       "      <td>-2.707012e+02</td>\n",
       "      <td>False</td>\n",
       "      <td>True</td>\n",
       "      <td>False</td>\n",
       "      <td>...</td>\n",
       "      <td>False</td>\n",
       "      <td>False</td>\n",
       "      <td>False</td>\n",
       "      <td>False</td>\n",
       "      <td>False</td>\n",
       "      <td>False</td>\n",
       "      <td>False</td>\n",
       "      <td>False</td>\n",
       "      <td>-553.12</td>\n",
       "      <td>NaN</td>\n",
       "      <td>NaN</td>\n",
       "      <td>NaN</td>\n",
       "      <td>NaN</td>\n",
       "      <td>NaN</td>\n",
       "      <td>NaN</td>\n",
       "      <td>NaN</td>\n",
       "      <td>NaN</td>\n",
       "      <td>NaN</td>\n",
       "      <td>NaN</td>\n",
       "      <td>NaN</td>\n",
       "      <td>NaN</td>\n",
       "      <td>NaN</td>\n",
       "      <td>NaN</td>\n",
       "      <td>NaN</td>\n",
       "      <td>NaN</td>\n",
       "      <td>NaN</td>\n",
       "      <td>NaN</td>\n",
       "      <td>NaN</td>\n",
       "      <td>NaN</td>\n",
       "      <td>False</td>\n",
       "      <td>False</td>\n",
       "      <td>False</td>\n",
       "      <td>False</td>\n",
       "      <td>False</td>\n",
       "      <td>28.5</td>\n",
       "      <td>28.5</td>\n",
       "      <td>812.25</td>\n",
       "      <td>3</td>\n",
       "      <td>0.000000</td>\n",
       "      <td>2487</td>\n",
       "      <td>3</td>\n",
       "      <td>3</td>\n",
       "      <td>3</td>\n",
       "      <td>2014</td>\n",
       "      <td>True</td>\n",
       "      <td>0</td>\n",
       "      <td>0</td>\n",
       "      <td>0</td>\n",
       "      <td>0</td>\n",
       "      <td>0</td>\n",
       "      <td>0</td>\n",
       "      <td>0</td>\n",
       "      <td>0</td>\n",
       "      <td>0</td>\n",
       "      <td>0</td>\n",
       "      <td>0</td>\n",
       "      <td>0</td>\n",
       "      <td>0</td>\n",
       "      <td>0</td>\n",
       "      <td>0</td>\n",
       "      <td>0</td>\n",
       "      <td>0</td>\n",
       "      <td>0</td>\n",
       "      <td>0</td>\n",
       "      <td>0</td>\n",
       "      <td>0</td>\n",
       "      <td>False</td>\n",
       "      <td>False</td>\n",
       "      <td>False</td>\n",
       "      <td>False</td>\n",
       "      <td>False</td>\n",
       "      <td>False</td>\n",
       "      <td>False</td>\n",
       "      <td>False</td>\n",
       "      <td>False</td>\n",
       "      <td>False</td>\n",
       "      <td>False</td>\n",
       "      <td>False</td>\n",
       "      <td>False</td>\n",
       "      <td>True</td>\n",
       "      <td>False</td>\n",
       "      <td>False</td>\n",
       "      <td>False</td>\n",
       "      <td>1</td>\n",
       "      <td>allocation_2</td>\n",
       "      <td>allocation_2</td>\n",
       "      <td>2</td>\n",
       "      <td>2</td>\n",
       "      <td>1</td>\n",
       "      <td>1</td>\n",
       "      <td>1</td>\n",
       "      <td>0</td>\n",
       "      <td>False</td>\n",
       "      <td>False</td>\n",
       "      <td>False</td>\n",
       "      <td>-202.44000</td>\n",
       "      <td>-553.12</td>\n",
       "      <td>False</td>\n",
       "      <td>True</td>\n",
       "      <td>True</td>\n",
       "    </tr>\n",
       "  </tbody>\n",
       "</table>\n",
       "<p>5 rows × 427 columns</p>\n",
       "</div>"
      ],
      "text/plain": [
       "   ID_FISC_LOG_DIFF  index level_0_2013  ANAIS_2013  AN_FISC_x_2013  \\\n",
       "0               374      0      1_child        3961            4028   \n",
       "2              1404      2      1_child        3963            4028   \n",
       "3              1434      3      1_child        3960            4028   \n",
       "4              1648      4      1_child        3959            4028   \n",
       "5              1668      5      1_child        3971            4028   \n",
       "\n",
       "   AN_FISC_y_2013  Age_2013  Age_mere_2013  Age_pere_2013  \\\n",
       "0            4028        65             32             33   \n",
       "2            4028        63             37             26   \n",
       "3            4028        66             34             32   \n",
       "4            4028        67             31             36   \n",
       "5            4028        55             26             29   \n",
       "\n",
       "   Allocation_mere_2013  Allocation_pere_2013  CNE1_2013  COM_NSCAT_2013  \\\n",
       "0                     0                     1        126             NaN   \n",
       "2                     1                     0        350             NaN   \n",
       "3                     0                     1        186             NaN   \n",
       "4                     1                     0        660             NaN   \n",
       "5                     0                     1        750             NaN   \n",
       "\n",
       "   COM_SCAT1_2013  COM_SCAT2_2013  DACOED_2013  DACOEP_2013  Decote_2013  \\\n",
       "0             NaN             NaN          NaN          NaN      0.00000   \n",
       "2             NaN             NaN          NaN          NaN    528.29500   \n",
       "3             NaN             NaN          NaN          NaN    187.31000   \n",
       "4             NaN             NaN          NaN          NaN      0.00000   \n",
       "5             NaN             NaN          NaN          NaN    625.75375   \n",
       "\n",
       "   Decote_pacs  Fiscal_loss_2013  Gain_fiscal_max_2013  \\\n",
       "0     -0.00000         225.35875             225.35875   \n",
       "2     33.98000           0.00000             850.81000   \n",
       "3     -0.00000           0.00000             220.85000   \n",
       "4     -0.00000         128.29000             128.29000   \n",
       "5    168.96625           0.00000             202.44000   \n",
       "\n",
       "   Gain_fiscal_max_in_ratio  ID_DIFF_2013  ID_FISC_FOY_DIFF_2013  \\\n",
       "0                  0.905809       2801369                3916889   \n",
       "2                  0.364659       2224500                4231627   \n",
       "3                  0.888384       2964367                3706491   \n",
       "4                  0.948897       3559376                6776622   \n",
       "5                  0.540786       2333984                5876540   \n",
       "\n",
       "   I_FISC_LOGEMENT_2013  I_FISC_REVENU_2013  Irpp_ac_plaf_qf_2013  \\\n",
       "0                     2                   2             2392.5600   \n",
       "2                     2                   2              975.4100   \n",
       "3                     2                   2             1945.1200   \n",
       "4                     2                   2             2510.4400   \n",
       "5                     2                   2              780.4925   \n",
       "\n",
       "   Irpp_ac_plaf_qf_mere  Irpp_ac_plaf_qf_pacs  Irpp_ac_plaf_qf_pere  \\\n",
       "0               1080.70             2392.5600             1311.8600   \n",
       "2                664.22              948.0400              311.1900   \n",
       "3                641.38             1945.1200             1303.7400   \n",
       "4               1076.10             2510.4400             1434.3400   \n",
       "5                497.60              678.0675              282.8925   \n",
       "\n",
       "   Irpp_ac_qf_2013  Irpp_ac_qf_pacs  Irpp_decote_2013  \\\n",
       "0        2392.5600        2392.5600           2392.56   \n",
       "2         975.4100         948.0400            488.33   \n",
       "3        1945.1200        1945.1200           1757.81   \n",
       "4        2510.4400        2510.4400           2510.44   \n",
       "5         780.4925         678.0675            238.40   \n",
       "\n",
       "   Irpp_decote_allocation_1_2013  Irpp_decote_allocation_2_2013  \\\n",
       "0                     2167.20125                        2392.56   \n",
       "2                      488.33000                        1339.14   \n",
       "3                     1978.66000                        1757.81   \n",
       "4                     2510.44000                        2382.15   \n",
       "5                      440.84000                         238.40   \n",
       "\n",
       "   Irpp_decote_allocation_3_2013  Irpp_decote_allocation_4_2013  \\\n",
       "0                            NaN                            NaN   \n",
       "2                            NaN                            NaN   \n",
       "3                            NaN                            NaN   \n",
       "4                            NaN                            NaN   \n",
       "5                            NaN                            NaN   \n",
       "\n",
       "   Irpp_decote_allocation_5_2013  Irpp_decote_allocation_6_2013  \\\n",
       "0                            NaN                            NaN   \n",
       "2                            NaN                            NaN   \n",
       "3                            NaN                            NaN   \n",
       "4                            NaN                            NaN   \n",
       "5                            NaN                            NaN   \n",
       "\n",
       "   Irpp_decote_allocation_7_2013  Irpp_decote_allocation_8_2013  \\\n",
       "0                            NaN                            NaN   \n",
       "2                            NaN                            NaN   \n",
       "3                            NaN                            NaN   \n",
       "4                            NaN                            NaN   \n",
       "5                            NaN                            NaN   \n",
       "\n",
       "   Irpp_decote_allocation_9_2013  Irpp_decote_mere_2013  Irpp_decote_pacs  \\\n",
       "0                            NaN                1080.70        2392.56000   \n",
       "2                            NaN                 488.33         914.06000   \n",
       "3                            NaN                 454.07        1945.12000   \n",
       "4                            NaN                1076.10        2510.44000   \n",
       "5                            NaN                 238.40         509.10125   \n",
       "\n",
       "   Irpp_decote_pere_2013  Irpp_decote_seuil_prel_allocation_1_2013  \\\n",
       "0                1311.86                                 2445.7275   \n",
       "2                   0.00                                  975.4100   \n",
       "3                1303.74                                 2265.0175   \n",
       "4                1434.34                                 2510.4400   \n",
       "5                   0.00                                  862.4325   \n",
       "\n",
       "   Irpp_decote_seuil_prel_allocation_2_2013  \\\n",
       "0                                 2392.5600   \n",
       "2                                 1485.0275   \n",
       "3                                 1945.1200   \n",
       "4                                 2510.4400   \n",
       "5                                  780.4925   \n",
       "\n",
       "   Irpp_decote_seuil_prel_allocation_3_2013  \\\n",
       "0                                       NaN   \n",
       "2                                       NaN   \n",
       "3                                       NaN   \n",
       "4                                       NaN   \n",
       "5                                       NaN   \n",
       "\n",
       "   Irpp_decote_seuil_prel_allocation_4_2013  \\\n",
       "0                                       NaN   \n",
       "2                                       NaN   \n",
       "3                                       NaN   \n",
       "4                                       NaN   \n",
       "5                                       NaN   \n",
       "\n",
       "   Irpp_decote_seuil_prel_allocation_5_2013  \\\n",
       "0                                       NaN   \n",
       "2                                       NaN   \n",
       "3                                       NaN   \n",
       "4                                       NaN   \n",
       "5                                       NaN   \n",
       "\n",
       "   Irpp_decote_seuil_prel_allocation_6_2013  \\\n",
       "0                                       NaN   \n",
       "2                                       NaN   \n",
       "3                                       NaN   \n",
       "4                                       NaN   \n",
       "5                                       NaN   \n",
       "\n",
       "   Irpp_decote_seuil_prel_allocation_7_2013  \\\n",
       "0                                       NaN   \n",
       "2                                       NaN   \n",
       "3                                       NaN   \n",
       "4                                       NaN   \n",
       "5                                       NaN   \n",
       "\n",
       "   Irpp_decote_seuil_prel_allocation_8_2013  \\\n",
       "0                                       NaN   \n",
       "2                                       NaN   \n",
       "3                                       NaN   \n",
       "4                                       NaN   \n",
       "5                                       NaN   \n",
       "\n",
       "   Irpp_decote_seuil_prel_allocation_9_2013  Irpp_reduction_impot_etudes_2013  \\\n",
       "0                                       NaN                           2392.56   \n",
       "2                                       NaN                            488.33   \n",
       "3                                       NaN                           1757.81   \n",
       "4                                       NaN                           2510.44   \n",
       "5                                       NaN                            238.40   \n",
       "\n",
       "   Irpp_reduction_impot_etudes_seuil_2013  Irpp_seuil_prelevement_2013  \\\n",
       "0                                 2392.56                      2392.56   \n",
       "2                                  488.33                       488.33   \n",
       "3                                 1757.81                      1757.81   \n",
       "4                                 2510.44                      2510.44   \n",
       "5                                  238.40                       238.40   \n",
       "\n",
       "   Irpp_ss_qf_2013  JNAIS_2013  MNAIS_2013  Nb_enf_allocation_1_2013  \\\n",
       "0          3067.48          31          14                         1   \n",
       "2          1650.33          34          15                         1   \n",
       "3          2620.04          27          10                         1   \n",
       "4          3185.36          26          19                         1   \n",
       "5          1130.16          14          12                         1   \n",
       "\n",
       "   Nb_enf_allocation_2_2013  Nb_enf_allocation_3_2013  \\\n",
       "0                         1                       NaN   \n",
       "2                         1                       NaN   \n",
       "3                         1                       NaN   \n",
       "4                         1                       NaN   \n",
       "5                         1                       NaN   \n",
       "\n",
       "   Nb_enf_allocation_4_2013  Nb_enf_allocation_5_2013  \\\n",
       "0                       NaN                       NaN   \n",
       "2                       NaN                       NaN   \n",
       "3                       NaN                       NaN   \n",
       "4                       NaN                       NaN   \n",
       "5                       NaN                       NaN   \n",
       "\n",
       "   Nb_enf_allocation_6_2013  Nb_enf_allocation_7_2013  \\\n",
       "0                       NaN                       NaN   \n",
       "2                       NaN                       NaN   \n",
       "3                       NaN                       NaN   \n",
       "4                       NaN                       NaN   \n",
       "5                       NaN                       NaN   \n",
       "\n",
       "   Nb_enf_allocation_8_2013  Nb_enf_allocation_9_2013  Nb_enfants_2013  \\\n",
       "0                       NaN                       NaN                1   \n",
       "2                       NaN                       NaN                1   \n",
       "3                       NaN                       NaN                1   \n",
       "4                       NaN                       NaN                1   \n",
       "5                       NaN                       NaN                1   \n",
       "\n",
       "   Not_touched_by_decote_2013  POIDS_FIDELI_2013  Parts_fiscales_enfants_2013  \\\n",
       "0                           2          22.344435                          0.5   \n",
       "2                           0          22.693110                          0.5   \n",
       "3                           1          22.578253                          0.5   \n",
       "4                           2          21.959520                          0.5   \n",
       "5                           0          22.415020                          0.5   \n",
       "\n",
       "   Parts_fiscales_enfants_pacs  Ppe_2013  REV_PRINC_2013  \\\n",
       "0                          0.5     0.000               2   \n",
       "2                          0.5   759.759               2   \n",
       "3                          0.5   318.064               2   \n",
       "4                          0.5     0.000               2   \n",
       "5                          0.5  1479.566               2   \n",
       "\n",
       "   Reduction_impot_pour_etudes_2013  Rni_2013  Rni_mere_2013  Rni_pere_2013  \\\n",
       "0                                 0     41194          17361          23833   \n",
       "2                                 0     30876          19207          11669   \n",
       "3                                 0     37998          14223          23775   \n",
       "4                                 0     42036          22149          19887   \n",
       "5                                 0     27356          13196          14160   \n",
       "\n",
       "   SEXE_2013  Salaire_mere_2013  Salaire_pere_2013  TYPE_DECL_2013  \\\n",
       "0          3              19290              26481               2   \n",
       "2          3              21341               9867               2   \n",
       "3          3              15803              26417               2   \n",
       "4          3              24610              22097               2   \n",
       "5          3              14662              11757               2   \n",
       "\n",
       "   TYPE_PRES_2013  T_CHARGE_2013  YALRI_2013  YBICI_2013  YBNCI_2013  \\\n",
       "0               1            NaN           0           0           0   \n",
       "2               1            NaN           0           0           0   \n",
       "3               1            NaN           0           0           0   \n",
       "4               1            NaN           0           0           0   \n",
       "5               1            NaN           0           0           0   \n",
       "\n",
       "   YCHOI_2013  YRAGI_2013  YRSTI_2013  YSALI_2013  nb_enfant_total_2013  \\\n",
       "0           0           0           0       45771                     2   \n",
       "2        3098           0           0       31208                     2   \n",
       "3           0           0           0       42220                     2   \n",
       "4           0           0           0       46707                     2   \n",
       "5        3976           0           0       26419                     2   \n",
       "\n",
       "   result_max_allocation_2013  result_min_allocation_2013  \\\n",
       "0                     2392.56                  2167.20125   \n",
       "2                     1339.14                   488.33000   \n",
       "3                     1978.66                  1757.81000   \n",
       "4                     2510.44                  2382.15000   \n",
       "5                      440.84                   238.40000   \n",
       "\n",
       "   Montant_gain_fiscal_au_pacs Gain_fiscal_au_pacs Perte_fiscale_au_pacs  \\\n",
       "0                 4.547474e-13               False                 False   \n",
       "2                -4.257300e+02               False                  True   \n",
       "3                -1.873100e+02               False                  True   \n",
       "4                 0.000000e+00               False                 False   \n",
       "5                -2.707012e+02               False                  True   \n",
       "\n",
       "  Neutre_au_pacs   ...    Do_not_optimize_1_prct_income_share_2014  \\\n",
       "0           True   ...                                       False   \n",
       "2          False   ...                                       False   \n",
       "3          False   ...                                       False   \n",
       "4           True   ...                                        True   \n",
       "5          False   ...                                       False   \n",
       "\n",
       "   Do_not_optimize_2_prct_income_share_2014  \\\n",
       "0                                     False   \n",
       "2                                     False   \n",
       "3                                     False   \n",
       "4                                     False   \n",
       "5                                     False   \n",
       "\n",
       "   Do_not_optimize_5_prct_income_share_2014  \\\n",
       "0                                     False   \n",
       "2                                     False   \n",
       "3                                     False   \n",
       "4                                     False   \n",
       "5                                     False   \n",
       "\n",
       "   Do_not_optimize_95_prct_tax_amount_2014  \\\n",
       "0                                    False   \n",
       "2                                    False   \n",
       "3                                    False   \n",
       "4                                    False   \n",
       "5                                    False   \n",
       "\n",
       "   Do_not_optimize_90_prct_tax_amount_2014  \\\n",
       "0                                    False   \n",
       "2                                    False   \n",
       "3                                    False   \n",
       "4                                    False   \n",
       "5                                    False   \n",
       "\n",
       "   Do_not_optimize_50_prct_tax_amount_2014  \\\n",
       "0                                    False   \n",
       "2                                    False   \n",
       "3                                    False   \n",
       "4                                    False   \n",
       "5                                    False   \n",
       "\n",
       "   Do_not_optimize_5_prct_tax_amount_2014 Optimize_10_prct_tax_amount_2014  \\\n",
       "0                                    True                             True   \n",
       "2                                   False                             True   \n",
       "3                                   False                             True   \n",
       "4                                    True                             True   \n",
       "5                                   False                            False   \n",
       "\n",
       "  Two_smallest_allocation_difference_2014 index_2014  \\\n",
       "0                                 -432.48        NaN   \n",
       "2                                 -916.46        NaN   \n",
       "3                                 -469.58         12   \n",
       "4                                 -481.88         20   \n",
       "5                                 -553.12        NaN   \n",
       "\n",
       "  Categorie_sociale_femme_2014 Categorie_sociale_homme_2014  \\\n",
       "0                          NaN                          NaN   \n",
       "2                          NaN                          NaN   \n",
       "3                           53                           67   \n",
       "4                           54                           43   \n",
       "5                          NaN                          NaN   \n",
       "\n",
       "  Diplome_femme_2014 Diplome_homme_2014 Immigre_IMMI_femme_2014  \\\n",
       "0                NaN                NaN                     NaN   \n",
       "2                NaN                NaN                     NaN   \n",
       "3                 16                  2                       2   \n",
       "4                 18                 18                       2   \n",
       "5                NaN                NaN                     NaN   \n",
       "\n",
       "  Immigre_IMMI_homme_2014 Position_professionnelle_femme_2014  \\\n",
       "0                     NaN                                 NaN   \n",
       "2                     NaN                                 NaN   \n",
       "3                       2                                  1D   \n",
       "4                       2                                  1J   \n",
       "5                     NaN                                 NaN   \n",
       "\n",
       "  Position_professionnelle_homme_2014 Region_femme_2014 Region_homme_2014  \\\n",
       "0                                 NaN               NaN               NaN   \n",
       "2                                 NaN               NaN               NaN   \n",
       "3                                  1B                24                24   \n",
       "4                                  1E                11                11   \n",
       "5                                 NaN               NaN               NaN   \n",
       "\n",
       "  Temps_partiel_femme_2014 Temps_partiel_homme_2014  \\\n",
       "0                      NaN                      NaN   \n",
       "2                      NaN                      NaN   \n",
       "3                        1                        1   \n",
       "4                        1                        1   \n",
       "5                      NaN                      NaN   \n",
       "\n",
       "  Temps_recherche_emploi_femme_2014  Temps_recherche_emploi_homme_2014  \\\n",
       "0                               NaN                                NaN   \n",
       "2                               NaN                                NaN   \n",
       "3                                 Z                                  Z   \n",
       "4                                 Z                                  Z   \n",
       "5                               NaN                                NaN   \n",
       "\n",
       "   Travaille_dans_commune_ILTD_femme_2014  \\\n",
       "0                                     NaN   \n",
       "2                                     NaN   \n",
       "3                                       2   \n",
       "4                                       3   \n",
       "5                                     NaN   \n",
       "\n",
       "   Travaille_dans_commune_ILTD_homme_2014  \\\n",
       "0                                     NaN   \n",
       "2                                     NaN   \n",
       "3                                       2   \n",
       "4                                       1   \n",
       "5                                     NaN   \n",
       "\n",
       "   Type_contrat_travail_EMPL_femme_2014  Type_contrat_travail_EMPL_homme_2014  \\\n",
       "0                                   NaN                                   NaN   \n",
       "2                                   NaN                                   NaN   \n",
       "3                                    15                                    12   \n",
       "4                                    16                                    16   \n",
       "5                                   NaN                                   NaN   \n",
       "\n",
       "   TC_2014  No_decote_2014  deux_enfants_2014  trois_enfants_et_plus_2014  \\\n",
       "0      NaN            True              False                       False   \n",
       "2      NaN           False              False                       False   \n",
       "3        1           False              False                       False   \n",
       "4        2            True              False                       False   \n",
       "5      NaN           False              False                       False   \n",
       "\n",
       "   trois_enfants_2014  quatre_enfants_et_plus_2014  Age_moyen_2014  \\\n",
       "0               False                        False            33.5   \n",
       "2               False                        False            32.5   \n",
       "3               False                        False            34.0   \n",
       "4               False                        False            34.5   \n",
       "5               False                        False            28.5   \n",
       "\n",
       "  Age_moyen_parents_2014 Age_moyen_squared_2014  \\\n",
       "0                   33.5                1122.25   \n",
       "2                   32.5                1056.25   \n",
       "3                   34.0                1156.00   \n",
       "4                   34.5                1190.25   \n",
       "5                   28.5                 812.25   \n",
       "\n",
       "   Ecart_Age_en_valeur_absolue_2014  Prct_rev_perte_fiscale_2014  \\\n",
       "0                                 1                     0.009941   \n",
       "2                                11                     0.000000   \n",
       "3                                 2                     0.000000   \n",
       "4                                 5                     0.011476   \n",
       "5                                 3                     0.000000   \n",
       "\n",
       "   Diff_in_incompe_mere_pere_2014  Age_elder_child_2014  \\\n",
       "0                            4400                     1   \n",
       "2                           11716                     4   \n",
       "3                           12110                     2   \n",
       "4                            6038                     4   \n",
       "5                            2487                     3   \n",
       "\n",
       "   Age_younger_child_2014  Age_moyen_children_2014  Annee_2014  year_2014  \\\n",
       "0                       1                        1        2014       True   \n",
       "2                       4                        4        2014       True   \n",
       "3                       2                        2        2014       True   \n",
       "4                       4                        4        2014       True   \n",
       "5                       3                        3        2014       True   \n",
       "\n",
       "   No_school_man_2014  primary_middle_school_man_2014  CEP_man_2014  \\\n",
       "0                   0                               0             0   \n",
       "2                   0                               0             0   \n",
       "3                   0                               1             0   \n",
       "4                   0                               0             0   \n",
       "5                   0                               0             0   \n",
       "\n",
       "   BEPC_man_2014 CAP_man_2014 BEP_man_2014  BAC_man_2014  Bac_pro_man_2014  \\\n",
       "0              0            0            0             0                 0   \n",
       "2              0            0            0             0                 0   \n",
       "3              0            0            0             0                 0   \n",
       "4              0            0            0             0                 0   \n",
       "5              0            0            0             0                 0   \n",
       "\n",
       "   Bac_plus_3_man_2014 Master_PhD_man_2014  19.0_2014  No_school_wo_2014  \\\n",
       "0                    0                   0          0                  0   \n",
       "2                    0                   0          0                  0   \n",
       "3                    0                   0          0                  0   \n",
       "4                    0                   1          0                  0   \n",
       "5                    0                   0          0                  0   \n",
       "\n",
       "   primary_middle_school_wo_2014 CEP_wo_2014 BEPC_wo_2014 CAP_wo_2014  \\\n",
       "0                              0           0            0           0   \n",
       "2                              0           0            0           0   \n",
       "3                              0           0            0           0   \n",
       "4                              0           0            0           0   \n",
       "5                              0           0            0           0   \n",
       "\n",
       "   BEP_wo_2014  BAC_wo_2014 Bac_pro_wo_2014 Bac_plus_3_wo_2014  \\\n",
       "0            0            0               0                  0   \n",
       "2            0            0               0                  0   \n",
       "3            0            0               1                  0   \n",
       "4            0            0               0                  0   \n",
       "5            0            0               0                  0   \n",
       "\n",
       "  Master_PhD_wo_2014 No_education_femme_2014 No_education_homme_2014  \\\n",
       "0                  0                   False                   False   \n",
       "2                  0                   False                   False   \n",
       "3                  0                   False                    True   \n",
       "4                  1                   False                   False   \n",
       "5                  0                   False                   False   \n",
       "\n",
       "  Vocational_education_femme_2014 Vocational_education_homme_2014  \\\n",
       "0                           False                           False   \n",
       "2                           False                           False   \n",
       "3                            True                           False   \n",
       "4                           False                           False   \n",
       "5                           False                           False   \n",
       "\n",
       "  Licence_education_femme_2014  Licence_education_homme_2014  \\\n",
       "0                        False                         False   \n",
       "2                        False                         False   \n",
       "3                        False                         False   \n",
       "4                        False                         False   \n",
       "5                        False                         False   \n",
       "\n",
       "  Master_PhD_education_femme_2014 Master_PhD_education_homme_2014  \\\n",
       "0                           False                           False   \n",
       "2                           False                           False   \n",
       "3                           False                           False   \n",
       "4                            True                            True   \n",
       "5                           False                           False   \n",
       "\n",
       "  Same_diploma_2014 Same_diploma_No_educ_2014 Same_diploma_Vocational_2014  \\\n",
       "0             False                     False                        False   \n",
       "2             False                     False                        False   \n",
       "3             False                     False                        False   \n",
       "4              True                     False                        False   \n",
       "5             False                     False                        False   \n",
       "\n",
       "  Same_diploma_licence_2014 Same_diploma_Master_2014 optimiseurs_2013_2014  \\\n",
       "0                     False                    False                 False   \n",
       "2                     False                    False                  True   \n",
       "3                     False                    False                  True   \n",
       "4                     False                     True                 False   \n",
       "5                     False                    False                  True   \n",
       "\n",
       "  non_opt_2013_opt_2014 opt_2013_non_opt_2014  non_opt_2013_2014  \\\n",
       "0                 False                 False               True   \n",
       "2                 False                 False              False   \n",
       "3                 False                 False              False   \n",
       "4                 False                 False               True   \n",
       "5                 False                 False              False   \n",
       "\n",
       "   Same_optimal_allocation_same_family  Optimal_allocations_2013  \\\n",
       "0                                    1              allocation_1   \n",
       "2                                    1              allocation_1   \n",
       "3                                    1              allocation_2   \n",
       "4                                    1              allocation_2   \n",
       "5                                    1              allocation_2   \n",
       "\n",
       "   Optimal_allocations_2014  Chosen_allocation_2013  Chosen_allocation_2014  \\\n",
       "0              allocation_1                       2                       2   \n",
       "2              allocation_1                       1                       1   \n",
       "3              allocation_2                       2                       2   \n",
       "4              allocation_2                       1                       1   \n",
       "5              allocation_2                       2                       2   \n",
       "\n",
       "   Number_of_optimal_allocations_2013  Number_of_optimal_allocations_2014  \\\n",
       "0                                   1                                   1   \n",
       "2                                   1                                   1   \n",
       "3                                   1                                   1   \n",
       "4                                   1                                   1   \n",
       "5                                   1                                   1   \n",
       "\n",
       "   Same_family_did_not_change_allocation  Same_family_did_change_allocation  \\\n",
       "0                                      1                                  0   \n",
       "2                                      1                                  0   \n",
       "3                                      1                                  0   \n",
       "4                                      1                                  0   \n",
       "5                                      1                                  0   \n",
       "\n",
       "  Family_change  Family_child_gain  Family_child_loss  \\\n",
       "0         False              False              False   \n",
       "2         False              False              False   \n",
       "3         False              False              False   \n",
       "4         False              False              False   \n",
       "5         False              False              False   \n",
       "\n",
       "   Fiscal_max_potential_loss_2013  Fiscal_max_potential_loss_2014  Switchers  \\\n",
       "0                      -225.35875                         -432.48      False   \n",
       "2                      -850.81000                         -916.46      False   \n",
       "3                      -220.85000                         -469.58      False   \n",
       "4                      -128.29000                         -481.88      False   \n",
       "5                      -202.44000                         -553.12      False   \n",
       "\n",
       "   Non_switchers  Take_it  \n",
       "0           True    False  \n",
       "2           True     True  \n",
       "3           True     True  \n",
       "4           True    False  \n",
       "5           True     True  \n",
       "\n",
       "[5 rows x 427 columns]"
      ]
     },
     "execution_count": 112,
     "metadata": {},
     "output_type": "execute_result"
    }
   ],
   "source": [
    "df_B.query(\"(Same_optimal_allocation_same_family==1) & (Nb_enfants_2013>=1)\"\n",
    "                    + \"&(Number_of_optimal_allocations_2013 == 1)&(Number_of_optimal_allocations_2014 == 1)\").head()"
   ]
  },
  {
   "cell_type": "code",
   "execution_count": 113,
   "metadata": {
    "collapsed": false
   },
   "outputs": [
    {
     "data": {
      "text/plain": [
       "84.17314928575847"
      ]
     },
     "execution_count": 113,
     "metadata": {},
     "output_type": "execute_result"
    }
   ],
   "source": [
    "(df_B.Irpp_decote_2013 - df_B.Irpp_decote_2014).mean()"
   ]
  },
  {
   "cell_type": "code",
   "execution_count": 114,
   "metadata": {
    "collapsed": true
   },
   "outputs": [],
   "source": []
  },
  {
   "cell_type": "code",
   "execution_count": 114,
   "metadata": {
    "collapsed": true
   },
   "outputs": [],
   "source": []
  },
  {
   "cell_type": "markdown",
   "metadata": {},
   "source": [
    "### Ceux qui switchent avec une seule allocation optimale les deux années"
   ]
  },
  {
   "cell_type": "code",
   "execution_count": 114,
   "metadata": {
    "collapsed": false
   },
   "outputs": [],
   "source": [
    "df_switchers = df_B[df_B.Same_family_did_not_change_allocation ==False].query(\"(Nb_enfants_2013>=1)&(Nb_enfants_2013==Nb_enfants_2014)\" \n",
    "                    + \"&(Number_of_optimal_allocations_2013 == 1)&(Number_of_optimal_allocations_2014 == 1)\")"
   ]
  },
  {
   "cell_type": "code",
   "execution_count": 115,
   "metadata": {
    "collapsed": true
   },
   "outputs": [],
   "source": [
    "import seaborn as sns"
   ]
  },
  {
   "cell_type": "code",
   "execution_count": 116,
   "metadata": {
    "collapsed": false
   },
   "outputs": [
    {
     "data": {
      "text/plain": [
       "190.29308386981396"
      ]
     },
     "execution_count": 116,
     "metadata": {},
     "output_type": "execute_result"
    }
   ],
   "source": [
    "(df_switchers.Irpp_decote_2013 - df_switchers.Irpp_decote_2014).mean()"
   ]
  },
  {
   "cell_type": "code",
   "execution_count": 117,
   "metadata": {
    "collapsed": true
   },
   "outputs": [],
   "source": [
    "diff_in_irpp = (df_switchers.Irpp_decote_2013 - df_switchers.Irpp_decote_2014)"
   ]
  },
  {
   "cell_type": "code",
   "execution_count": 118,
   "metadata": {
    "collapsed": false
   },
   "outputs": [
    {
     "data": {
      "text/plain": [
       "<matplotlib.collections.LineCollection at 0xa039a240>"
      ]
     },
     "execution_count": 118,
     "metadata": {},
     "output_type": "execute_result"
    },
    {
     "data": {
      "image/png": "[encoded data removed]",
      "text/plain": [
       "<matplotlib.figure.Figure at 0xa02f6fd0>"
      ]
     },
     "metadata": {},
     "output_type": "display_data"
    }
   ],
   "source": [
    "sns.distplot(diff_in_irpp[(diff_in_irpp<3000) & (diff_in_irpp>-3000)])\n",
    "plt.xlim(-3000,3000)\n",
    "plt.vlines(0,0,0.0007)"
   ]
  },
  {
   "cell_type": "markdown",
   "metadata": {},
   "source": [
    "### Ceux qui switchent avec l'allocation optimale qui a changé"
   ]
  },
  {
   "cell_type": "code",
   "execution_count": 119,
   "metadata": {
    "collapsed": true
   },
   "outputs": [],
   "source": [
    "df_switchers = df_B[df_B.Same_family_did_not_change_allocation ==False].query(\"(Nb_enfants_2013>=1)&(Nb_enfants_2013==Nb_enfants_2014)\" \n",
    "                    + \"&(Number_of_optimal_allocations_2013 == 1)&(Number_of_optimal_allocations_2014 == 1)\")"
   ]
  },
  {
   "cell_type": "code",
   "execution_count": 120,
   "metadata": {
    "collapsed": false
   },
   "outputs": [],
   "source": [
    "#Same result different definition\n",
    "df_switchers = df_B.query(\"(Nb_enfants_2013>=1)&(Nb_enfants_2013==Nb_enfants_2014)\" \n",
    "                    + \"&(Number_of_optimal_allocations_2013 == 1)&(Number_of_optimal_allocations_2014 == 1)\"\n",
    "                    + \"& (Chosen_allocation_2013 != Chosen_allocation_2014)\"     )"
   ]
  },
  {
   "cell_type": "code",
   "execution_count": 121,
   "metadata": {
    "collapsed": false
   },
   "outputs": [],
   "source": [
    "\n",
    "df_non_switchers = df_B.query(\"(Nb_enfants_2013>=1)&(Nb_enfants_2013==Nb_enfants_2014)\" \n",
    "                    + \"&(Number_of_optimal_allocations_2013 == 1)&(Number_of_optimal_allocations_2014 == 1)\"\n",
    "                    + \"& (Chosen_allocation_2013 == Chosen_allocation_2014)\"     )"
   ]
  },
  {
   "cell_type": "code",
   "execution_count": 122,
   "metadata": {
    "collapsed": false
   },
   "outputs": [
    {
     "data": {
      "text/plain": [
       "True     745\n",
       "False    653\n",
       "dtype: int64"
      ]
     },
     "execution_count": 122,
     "metadata": {},
     "output_type": "execute_result"
    }
   ],
   "source": [
    "(df_switchers.Optimal_allocations_2013 == df_switchers.Optimal_allocations_2014).value_counts()"
   ]
  },
  {
   "cell_type": "code",
   "execution_count": 123,
   "metadata": {
    "collapsed": false
   },
   "outputs": [],
   "source": [
    "#df_switchers = df_switchers[(df_switchers.Optimal_allocations_2013 != df_switchers.Optimal_allocations_2014)]"
   ]
  },
  {
   "cell_type": "code",
   "execution_count": 124,
   "metadata": {
    "collapsed": false
   },
   "outputs": [
    {
     "data": {
      "text/html": [
       "<div>\n",
       "<table border=\"1\" class=\"dataframe\">\n",
       "  <thead>\n",
       "    <tr style=\"text-align: right;\">\n",
       "      <th></th>\n",
       "      <th>Optimal_allocations_2013</th>\n",
       "      <th>Chosen_allocation_2013</th>\n",
       "      <th>Optimal_allocations_2014</th>\n",
       "      <th>Chosen_allocation_2014</th>\n",
       "      <th>Nb_enfants_2013</th>\n",
       "      <th>Do_not_optimize_2013</th>\n",
       "    </tr>\n",
       "  </thead>\n",
       "  <tbody>\n",
       "    <tr>\n",
       "      <th>16</th>\n",
       "      <td>allocation_1</td>\n",
       "      <td>2</td>\n",
       "      <td>allocation_2</td>\n",
       "      <td>1</td>\n",
       "      <td>1</td>\n",
       "      <td>True</td>\n",
       "    </tr>\n",
       "    <tr>\n",
       "      <th>69</th>\n",
       "      <td>allocation_2</td>\n",
       "      <td>2</td>\n",
       "      <td>allocation_1</td>\n",
       "      <td>1</td>\n",
       "      <td>1</td>\n",
       "      <td>False</td>\n",
       "    </tr>\n",
       "    <tr>\n",
       "      <th>94</th>\n",
       "      <td>allocation_1</td>\n",
       "      <td>2</td>\n",
       "      <td>allocation_2</td>\n",
       "      <td>1</td>\n",
       "      <td>1</td>\n",
       "      <td>True</td>\n",
       "    </tr>\n",
       "    <tr>\n",
       "      <th>102</th>\n",
       "      <td>allocation_2</td>\n",
       "      <td>1</td>\n",
       "      <td>allocation_2</td>\n",
       "      <td>2</td>\n",
       "      <td>1</td>\n",
       "      <td>True</td>\n",
       "    </tr>\n",
       "    <tr>\n",
       "      <th>155</th>\n",
       "      <td>allocation_2</td>\n",
       "      <td>2</td>\n",
       "      <td>allocation_2</td>\n",
       "      <td>1</td>\n",
       "      <td>1</td>\n",
       "      <td>False</td>\n",
       "    </tr>\n",
       "  </tbody>\n",
       "</table>\n",
       "</div>"
      ],
      "text/plain": [
       "    Optimal_allocations_2013  Chosen_allocation_2013 Optimal_allocations_2014  \\\n",
       "16              allocation_1                       2             allocation_2   \n",
       "69              allocation_2                       2             allocation_1   \n",
       "94              allocation_1                       2             allocation_2   \n",
       "102             allocation_2                       1             allocation_2   \n",
       "155             allocation_2                       2             allocation_2   \n",
       "\n",
       "     Chosen_allocation_2014  Nb_enfants_2013 Do_not_optimize_2013  \n",
       "16                        1                1                 True  \n",
       "69                        1                1                False  \n",
       "94                        1                1                 True  \n",
       "102                       2                1                 True  \n",
       "155                       1                1                False  "
      ]
     },
     "execution_count": 124,
     "metadata": {},
     "output_type": "execute_result"
    }
   ],
   "source": [
    "df_switchers[[\"Optimal_allocations_2013\",\"Chosen_allocation_2013\" , \"Optimal_allocations_2014\",\n",
    "              \"Chosen_allocation_2014\", \"Nb_enfants_2013\", \"Do_not_optimize_2013\"]].head()"
   ]
  },
  {
   "cell_type": "markdown",
   "metadata": {},
   "source": [
    "GOOD_ACTIVE_Switchers : Pas la même allocation que l'année dernière, mais change pour l'optimale  \n",
    "Bad_swithcers :  Pas meme allocation que l'année dernière, mais changent pour une sous_optimale  \n",
    "Very_bad_switechers :  Meme allocation que l'année dernière, optimisais, mais changent pour une sous_optimale  \n",
    "\n",
    "Bad_Non_Switchers: Pas la même allocation que l'année dernière, devraient switcher\n",
    "Very bad non switchers : Meme allocation que l'année dernière, devraient switcher"
   ]
  },
  {
   "cell_type": "code",
   "execution_count": 125,
   "metadata": {
    "collapsed": false
   },
   "outputs": [
    {
     "data": {
      "text/plain": [
       "(1398, 427)"
      ]
     },
     "execution_count": 125,
     "metadata": {},
     "output_type": "execute_result"
    }
   ],
   "source": [
    "df_switchers.shape"
   ]
  },
  {
   "cell_type": "code",
   "execution_count": 126,
   "metadata": {
    "collapsed": false
   },
   "outputs": [
    {
     "data": {
      "text/plain": [
       "(33, 427)"
      ]
     },
     "execution_count": 126,
     "metadata": {},
     "output_type": "execute_result"
    }
   ],
   "source": [
    "#To_trash\n",
    "df_switchers.query(\"(Optimal_allocations_2013 != Optimal_allocations_2014)& (Do_not_optimize_2013==True) & (Do_not_optimize_2014==False)\").shape"
   ]
  },
  {
   "cell_type": "code",
   "execution_count": 127,
   "metadata": {
    "collapsed": false
   },
   "outputs": [
    {
     "data": {
      "text/plain": [
       "(1987, 427)"
      ]
     },
     "execution_count": 127,
     "metadata": {},
     "output_type": "execute_result"
    }
   ],
   "source": [
    "#To_trash\n",
    "df_non_switchers.query(\"(Optimal_allocations_2013 != Optimal_allocations_2014)& (Do_not_optimize_2013==False) & (Do_not_optimize_2014==True)\").shape"
   ]
  },
  {
   "cell_type": "code",
   "execution_count": 128,
   "metadata": {
    "collapsed": true
   },
   "outputs": [],
   "source": []
  },
  {
   "cell_type": "code",
   "execution_count": 128,
   "metadata": {
    "collapsed": false
   },
   "outputs": [
    {
     "data": {
      "text/plain": [
       "(504, 427)"
      ]
     },
     "execution_count": 128,
     "metadata": {},
     "output_type": "execute_result"
    }
   ],
   "source": [
    "#Good_active_switchers\n",
    "df_switchers.query(\"(Optimal_allocations_2013 != Optimal_allocations_2014)& (Do_not_optimize_2013==False) & (Do_not_optimize_2014==False)\").shape"
   ]
  },
  {
   "cell_type": "code",
   "execution_count": 129,
   "metadata": {
    "collapsed": false
   },
   "outputs": [
    {
     "data": {
      "text/plain": [
       "(23, 427)"
      ]
     },
     "execution_count": 129,
     "metadata": {},
     "output_type": "execute_result"
    }
   ],
   "source": [
    "#Bad_switchers\n",
    "df_switchers.query(\"(Optimal_allocations_2013 != Optimal_allocations_2014)& (Do_not_optimize_2013==False) & (Do_not_optimize_2014==True)\").shape"
   ]
  },
  {
   "cell_type": "code",
   "execution_count": 130,
   "metadata": {
    "collapsed": false
   },
   "outputs": [
    {
     "data": {
      "text/plain": [
       "(33, 427)"
      ]
     },
     "execution_count": 130,
     "metadata": {},
     "output_type": "execute_result"
    }
   ],
   "source": [
    "# potential learner ?\n",
    "df_switchers.query(\"(Optimal_allocations_2013 != Optimal_allocations_2014)& (Do_not_optimize_2013==True) & (Do_not_optimize_2014==False)\").shape"
   ]
  },
  {
   "cell_type": "code",
   "execution_count": 131,
   "metadata": {
    "collapsed": false
   },
   "outputs": [
    {
     "data": {
      "text/plain": [
       "(273, 427)"
      ]
     },
     "execution_count": 131,
     "metadata": {},
     "output_type": "execute_result"
    }
   ],
   "source": [
    "#Very_bad_switechers\n",
    "df_switchers.query(\"(Optimal_allocations_2013 == Optimal_allocations_2014)& (Do_not_optimize_2013==False) & (Do_not_optimize_2014==True)\").shape"
   ]
  },
  {
   "cell_type": "code",
   "execution_count": 132,
   "metadata": {
    "collapsed": false
   },
   "outputs": [
    {
     "data": {
      "text/plain": [
       "(40, 427)"
      ]
     },
     "execution_count": 132,
     "metadata": {},
     "output_type": "execute_result"
    }
   ],
   "source": [
    "#Naive_switchers\n",
    "df_switchers.query(\"(Optimal_allocations_2013 == Optimal_allocations_2014)& (Do_not_optimize_2013==True) & (Do_not_optimize_2014==True)\").shape"
   ]
  },
  {
   "cell_type": "code",
   "execution_count": 133,
   "metadata": {
    "collapsed": false
   },
   "outputs": [
    {
     "data": {
      "text/plain": [
       "(40, 427)"
      ]
     },
     "execution_count": 133,
     "metadata": {},
     "output_type": "execute_result"
    }
   ],
   "source": [
    "#Naive_switchers\n",
    "df_switchers.query(\"(Optimal_allocations_2013 == Optimal_allocations_2014)& (Do_not_optimize_2013==True) & (Do_not_optimize_2014==True)\").shape"
   ]
  },
  {
   "cell_type": "code",
   "execution_count": 134,
   "metadata": {
    "collapsed": false
   },
   "outputs": [
    {
     "data": {
      "text/plain": [
       "(93, 427)"
      ]
     },
     "execution_count": 134,
     "metadata": {},
     "output_type": "execute_result"
    }
   ],
   "source": [
    "#Naive_switchers\n",
    "df_switchers.query(\"(Optimal_allocations_2013 != Optimal_allocations_2014)& (Do_not_optimize_2013==True) & (Do_not_optimize_2014==True)\").shape"
   ]
  },
  {
   "cell_type": "code",
   "execution_count": 135,
   "metadata": {
    "collapsed": true
   },
   "outputs": [],
   "source": []
  },
  {
   "cell_type": "code",
   "execution_count": 135,
   "metadata": {
    "collapsed": false
   },
   "outputs": [],
   "source": [
    "df_non_switchers = df_B[df_B.Same_family_did_not_change_allocation ==True].query(\"(Nb_enfants_2013>=1)&(Nb_enfants_2013==Nb_enfants_2014)\" \n",
    "                    + \"&(Number_of_optimal_allocations_2013 == 1)&(Number_of_optimal_allocations_2014 == 1)\")"
   ]
  },
  {
   "cell_type": "code",
   "execution_count": 136,
   "metadata": {
    "collapsed": false
   },
   "outputs": [
    {
     "data": {
      "text/plain": [
       "(1987, 427)"
      ]
     },
     "execution_count": 136,
     "metadata": {},
     "output_type": "execute_result"
    }
   ],
   "source": [
    "# Bad_Non_Switchers\n",
    "df_non_switchers.query(\"(Optimal_allocations_2013 != Optimal_allocations_2014)& (Do_not_optimize_2013==False) & (Do_not_optimize_2014==True)\").shape"
   ]
  },
  {
   "cell_type": "code",
   "execution_count": 137,
   "metadata": {
    "collapsed": false
   },
   "outputs": [
    {
     "data": {
      "text/plain": [
       "(4634, 427)"
      ]
     },
     "execution_count": 137,
     "metadata": {},
     "output_type": "execute_result"
    }
   ],
   "source": [
    "# Very bad non switcher\n",
    "df_non_switchers.query(\"(Optimal_allocations_2013 == Optimal_allocations_2014)& (Do_not_optimize_2013==True) & (Do_not_optimize_2014==True)\").shape"
   ]
  },
  {
   "cell_type": "code",
   "execution_count": 138,
   "metadata": {
    "collapsed": false
   },
   "outputs": [
    {
     "data": {
      "text/plain": [
       "(1883, 427)"
      ]
     },
     "execution_count": 138,
     "metadata": {},
     "output_type": "execute_result"
    }
   ],
   "source": [
    "# Inerts (lucky or learners ?) \n",
    "df_non_switchers.query(\"(Optimal_allocations_2013 != Optimal_allocations_2014)& (Do_not_optimize_2013==True) & (Do_not_optimize_2014==False)\").shape"
   ]
  },
  {
   "cell_type": "code",
   "execution_count": 139,
   "metadata": {
    "collapsed": true
   },
   "outputs": [],
   "source": []
  },
  {
   "cell_type": "code",
   "execution_count": 139,
   "metadata": {
    "collapsed": false
   },
   "outputs": [
    {
     "data": {
      "text/plain": [
       "(15220, 427)"
      ]
     },
     "execution_count": 139,
     "metadata": {},
     "output_type": "execute_result"
    }
   ],
   "source": [
    "df_non_switchers.query(\"(Optimal_allocations_2013 == Optimal_allocations_2014)& (Do_not_optimize_2013==False) & (Do_not_optimize_2014==False)\").shape"
   ]
  },
  {
   "cell_type": "code",
   "execution_count": 140,
   "metadata": {
    "collapsed": false
   },
   "outputs": [
    {
     "data": {
      "text/plain": [
       "(0, 427)"
      ]
     },
     "execution_count": 140,
     "metadata": {},
     "output_type": "execute_result"
    }
   ],
   "source": [
    "df_non_switchers.query(\"(Optimal_allocations_2013 == Optimal_allocations_2014)& (Do_not_optimize_2013==True) & (Do_not_optimize_2014==False)\").shape"
   ]
  },
  {
   "cell_type": "markdown",
   "metadata": {},
   "source": [
    "### Same with 1% threshold"
   ]
  },
  {
   "cell_type": "code",
   "execution_count": 141,
   "metadata": {
    "collapsed": false
   },
   "outputs": [
    {
     "data": {
      "text/plain": [
       "(595, 427)"
      ]
     },
     "execution_count": 141,
     "metadata": {},
     "output_type": "execute_result"
    }
   ],
   "source": [
    "#Good_active_switchers\n",
    "df_switchers.query(\"(Optimal_allocations_2013 != Optimal_allocations_2014)& \" +\n",
    "                   \"(Do_not_optimize_1_prct_income_share_2013==False) & (Do_not_optimize_1_prct_income_share_2014==False)\").shape"
   ]
  },
  {
   "cell_type": "code",
   "execution_count": 142,
   "metadata": {
    "collapsed": false
   },
   "outputs": [
    {
     "data": {
      "text/plain": [
       "(25, 427)"
      ]
     },
     "execution_count": 142,
     "metadata": {},
     "output_type": "execute_result"
    }
   ],
   "source": [
    "#Bad_switchers\n",
    "df_switchers.query(\"(Optimal_allocations_2013 != Optimal_allocations_2014)& \" +\n",
    "                   \"(Do_not_optimize_1_prct_income_share_2013==False) & (Do_not_optimize_1_prct_income_share_2014==True)\").shape"
   ]
  },
  {
   "cell_type": "code",
   "execution_count": 143,
   "metadata": {
    "collapsed": false
   },
   "outputs": [
    {
     "data": {
      "text/plain": [
       "(137, 427)"
      ]
     },
     "execution_count": 143,
     "metadata": {},
     "output_type": "execute_result"
    }
   ],
   "source": [
    "#Very_bad_switechers\n",
    "df_switchers.query(\"(Optimal_allocations_2013 == Optimal_allocations_2014)& \" +\n",
    "                   \"(Do_not_optimize_1_prct_income_share_2013==False) & (Do_not_optimize_1_prct_income_share_2014==True)\").shape"
   ]
  },
  {
   "cell_type": "code",
   "execution_count": 144,
   "metadata": {
    "collapsed": false
   },
   "outputs": [
    {
     "data": {
      "text/plain": [
       "(1987, 427)"
      ]
     },
     "execution_count": 144,
     "metadata": {},
     "output_type": "execute_result"
    }
   ],
   "source": [
    "# Bad_Non_Switchers\n",
    "df_non_switchers.query(\"(Optimal_allocations_2013 != Optimal_allocations_2014)& (Do_not_optimize_2013==False) & (Do_not_optimize_2014==True)\").shape"
   ]
  },
  {
   "cell_type": "code",
   "execution_count": 145,
   "metadata": {
    "collapsed": true
   },
   "outputs": [],
   "source": []
  },
  {
   "cell_type": "code",
   "execution_count": 145,
   "metadata": {
    "collapsed": true
   },
   "outputs": [],
   "source": []
  },
  {
   "cell_type": "code",
   "execution_count": 145,
   "metadata": {
    "collapsed": true
   },
   "outputs": [],
   "source": []
  },
  {
   "cell_type": "markdown",
   "metadata": {},
   "source": [
    "# Regressions hypo learning"
   ]
  },
  {
   "cell_type": "code",
   "execution_count": 145,
   "metadata": {
    "collapsed": false
   },
   "outputs": [],
   "source": [
    "for df_temp in [df_A, df_B, df_C]:\n",
    "    df_temp[\"Delta_perte_fiscale\"] = df_temp.Fiscal_loss_2014 - df_temp.Fiscal_loss_2013\n",
    "    df_temp[\"2_enfants\"] = df_temp.Nb_enfants_2013 == 2\n",
    "    df_temp[\"3_enfants_et_plus\"] = df_temp.Nb_enfants_2013 >= 3 \n",
    "    df_temp[\"Age_moyen\"] = (df_temp.Age_mere_2013 + df_temp.Age_pere_2013)/2\n",
    "    df_temp[\"Age_moyen_squared\"] = df_temp.Age_moyen**2\n",
    "    df_temp[\"Ecart_Age_en_valeur_absolue\"] = np.abs(df_temp.Age_pere_2013 - df_temp.Age_mere_2013)\n",
    "    \n",
    "    df_temp[\"Diplome_femme\"] = df_temp.Diplome_femme_2013\n",
    "    df_temp[\"Diplome_homme\"] = df_temp.Diplome_homme_2013\n",
    "    \n",
    "    df_temp[\"Family_change\"] = df_temp.Nb_enfants_2013 != df_temp.Nb_enfants_2014\n",
    "    df_temp[\"Family_child_gain\"] = df_temp.Nb_enfants_2013 < df_temp.Nb_enfants_2014\n",
    "    df_temp[\"Family_child_loss\"] = df_temp.Nb_enfants_2013 > df_temp.Nb_enfants_2014"
   ]
  },
  {
   "cell_type": "code",
   "execution_count": 146,
   "metadata": {
    "collapsed": false
   },
   "outputs": [],
   "source": [
    "diploma_4_categories_2 = [dipl+\"{}\".format(\"_2013\") for dipl in diploma_4_categories]"
   ]
  },
  {
   "cell_type": "code",
   "execution_count": 147,
   "metadata": {
    "collapsed": false
   },
   "outputs": [],
   "source": [
    "diploma_4_categories_2_to_regress =[\n",
    " 'Vocational_education_femme_2013',\n",
    " 'Licence_education_femme_2013',\n",
    " 'Master_PhD_education_femme_2013',\n",
    " 'Vocational_education_homme_2013',\n",
    " 'Licence_education_homme_2013',\n",
    " 'Master_PhD_education_homme_2013']"
   ]
  },
  {
   "cell_type": "code",
   "execution_count": 148,
   "metadata": {
    "collapsed": false
   },
   "outputs": [],
   "source": [
    "for df_temp in [df_A,df_B,df_C]: #TODO put in data preparation\n",
    "        \n",
    "    df_temp[\"Same_family\"] = ((df_temp.Nb_enfants_2013 == df_temp.Nb_enfants_2014))\n",
    "    \n",
    "    df_temp[\"Same_family_same_allocation\"] = ((df_temp.Nb_enfants_2013 == df_temp.Nb_enfants_2014)&\n",
    "                              (df_temp.Allocation_mere_2013 == df_temp.Allocation_mere_2014))"
   ]
  },
  {
   "cell_type": "code",
   "execution_count": 149,
   "metadata": {
    "collapsed": false
   },
   "outputs": [],
   "source": [
    "df_B[\"Interact_not_same_allocation_do_not_optimize_2013\"] = np.abs(df_B.Same_optimal_allocation_same_family-1) * df_B.Do_not_optimize_2013\n",
    "df_B[\"Interact_same_allocation_do_optimize_2013\"] = df_B.Same_optimal_allocation_same_family * np.abs(df_B.Do_not_optimize_2013-1)"
   ]
  },
  {
   "cell_type": "code",
   "execution_count": 150,
   "metadata": {
    "collapsed": false
   },
   "outputs": [],
   "source": [
    "df_B[\"Interact_same_allocation_do_optimize_2013\"] = np.abs(df_B.Same_optimal_allocation_same_family) * np.abs(1-df_B.Do_not_optimize_2013)"
   ]
  },
  {
   "cell_type": "code",
   "execution_count": 151,
   "metadata": {
    "collapsed": false
   },
   "outputs": [],
   "source": [
    "df_A[\"Change_in_Rni\"] = df_A.Rni_2014 - df_A.Rni_2013\n",
    "df_B[\"Change_in_Rni\"] = df_B.Rni_2014 - df_B.Rni_2013\n"
   ]
  },
  {
   "cell_type": "code",
   "execution_count": 152,
   "metadata": {
    "collapsed": false
   },
   "outputs": [
    {
     "name": "stderr",
     "output_type": "stream",
     "text": [
      "C:\\Users\\IMPTEMP_A_PACIFIC\\Desktop\\WinPython-64bit-2.7.10.2\\WinPython-64bit-2.7.10.2\\python-2.7.10.amd64\\lib\\site-packages\\pandas\\computation\\expressions.py:190: UserWarning: evaluating in Python space because the '*' operator is not supported by numexpr for the bool dtype, use '&' instead\n",
      "  unsupported[op_str]))\n"
     ]
    }
   ],
   "source": [
    "df_B[\"Interact_learning\"] = (np.abs(df_B.Same_optimal_allocation_same_family) \n",
    "                             * np.abs(df_B.Do_not_optimize_2013) \n",
    "                             * np.abs(df_B.Same_family_same_allocation - 1))\n",
    "df_B[\"Interact_inertia\"] = (  np.abs(df_B.Do_not_optimize_2013) \n",
    "                             * np.abs(df_B.Same_family_same_allocation)\n",
    "                           *df_B.Same_optimal_allocation_same_family)"
   ]
  },
  {
   "cell_type": "code",
   "execution_count": 153,
   "metadata": {
    "collapsed": false
   },
   "outputs": [],
   "source": [
    "same_family_different_allocation = ((df_B.Nb_enfants_2013 == df_B.Nb_enfants_2014)&\n",
    "                              (df_B.Allocation_mere_2013 != df_B.Allocation_mere_2014))\n",
    "df_B[\"Same_family_did_change_allocation\"] = same_family_different_allocation.astype('int')"
   ]
  },
  {
   "cell_type": "code",
   "execution_count": 154,
   "metadata": {
    "collapsed": false
   },
   "outputs": [
    {
     "name": "stdout",
     "output_type": "stream",
     "text": [
      "True     24045\n",
      "False     4952\n",
      "dtype: int64\n",
      "True     27397\n",
      "False     1600\n",
      "dtype: int64\n"
     ]
    }
   ],
   "source": [
    "print df_B[df_B.Same_family==True].Same_optimal_allocation_same_family.astype(\"bool\").value_counts()\n",
    "print df_B[df_B.Same_family==True].Same_family_did_not_change_allocation.astype(\"bool\").value_counts()"
   ]
  },
  {
   "cell_type": "code",
   "execution_count": 155,
   "metadata": {
    "collapsed": false
   },
   "outputs": [
    {
     "data": {
      "text/plain": [
       "0.32432998324958123"
      ]
     },
     "execution_count": 155,
     "metadata": {},
     "output_type": "execute_result"
    }
   ],
   "source": [
    "1549/4776 #part despersonnes ayant changé d'allocation allors que leur allocation optimale à changée."
   ]
  },
  {
   "cell_type": "code",
   "execution_count": 156,
   "metadata": {
    "collapsed": false
   },
   "outputs": [
    {
     "data": {
      "text/plain": [
       "False    0.934806\n",
       "True     0.065194\n",
       "dtype: float64"
      ]
     },
     "execution_count": 156,
     "metadata": {},
     "output_type": "execute_result"
    }
   ],
   "source": [
    "(df2013_B.Two_smallest_allocation_difference == 0).value_counts(normalize = True)"
   ]
  },
  {
   "cell_type": "markdown",
   "metadata": {},
   "source": [
    "#### Change in the family structure"
   ]
  },
  {
   "cell_type": "code",
   "execution_count": 157,
   "metadata": {
    "collapsed": false
   },
   "outputs": [
    {
     "data": {
      "text/plain": [
       "'Age_moyen+Age_moyen_squared+Ecart_Age_en_valeur_absolue+Rni_2013+Change_in_Rni+Diff_in_incompe_mere_pere_2013+Fiscal_max_potential_loss_2014+Two_smallest_allocation_difference_2014+2_enfants+3_enfants_et_plus+Family_child_gain+Intersect'"
      ]
     },
     "execution_count": 157,
     "metadata": {},
     "output_type": "execute_result"
    }
   ],
   "source": [
    "\"+\".join([\"Age_moyen\", \"Age_moyen_squared\", \"Ecart_Age_en_valeur_absolue\",\"Rni_2013\",\"Change_in_Rni\",\"Diff_in_incompe_mere_pere_2013\",\n",
    "                               \"Fiscal_max_potential_loss_2014\",\n",
    "                               \"Two_smallest_allocation_difference_2014\",\n",
    "                               \"2_enfants\", \"3_enfants_et_plus\",\n",
    "                               \"Family_child_gain\",\n",
    "                 'Intersect' ])"
   ]
  },
  {
   "cell_type": "code",
   "execution_count": 158,
   "metadata": {
    "collapsed": false
   },
   "outputs": [
    {
     "data": {
      "text/plain": [
       "YBICI_2013                                                     1\n",
       "Irpp_decote_seuil_prel_allocation_9_2014                       1\n",
       "Irpp_decote_seuil_prel_allocation_4_2014                       1\n",
       "Bac_pro_wo_2014                                                1\n",
       "Irpp_decote_allocation_9_2013                                  1\n",
       "Family_child_gain                                              1\n",
       "Irpp_decote_allocation_9_2014                                  1\n",
       "Bac_pro_wo_2013                                                1\n",
       "Nb_enfants_2013                                                1\n",
       "Irpp_decote_seuil_prel_allocation_8_2014                       1\n",
       "year_2013                                                      1\n",
       "Irpp_ac_plaf_qf_pacs                                           1\n",
       "year_2014                                                      1\n",
       "Ppe_2013                                                       1\n",
       "YBICI_2014                                                     1\n",
       "Ppe_2014                                                       1\n",
       "Irpp_decote_seuil_prel_allocation_4_2013                       1\n",
       "Irpp_decote_allocation_3_2014                                  1\n",
       "Same_diploma_No_educ_2013                                      1\n",
       "Nb_enf_allocation_6_2013                                       1\n",
       "Same_diploma_No_educ_2014                                      1\n",
       "AN_FISC_y_2014                                                 1\n",
       "COM_SCAT1_2014                                                 1\n",
       "Licence_education_homme_2013                                   1\n",
       "BAC_wo_2013                                                    1\n",
       "Bac_plus_3_man_2014                                            1\n",
       "Irpp_decote_seuil_prel_allocation_3_2013                       1\n",
       "Nb_enfants_2014                                                1\n",
       "Irpp_decote_seuil_prel_allocation_3_2014                       1\n",
       "Gain_fiscal_max_1_2014                                         1\n",
       "                                                              ..\n",
       "Reduction_impot_pour_etudes_2013                               1\n",
       "T_CHARGE_2013                                                  1\n",
       "CAP_wo_2014                                                    1\n",
       "Irpp_decote_pere_2014                                          1\n",
       "JNAIS_2013                                                     1\n",
       "index_y                                                        1\n",
       "Irpp_ac_plaf_qf_mere                                           1\n",
       "Counterfactual_2014_ir_on_2013_rni_Irpp_decote_allocation_7    1\n",
       "BEPC_man_2014                                                  1\n",
       "Do_not_optimize_2013                                           1\n",
       "BEPC_man_2013                                                  1\n",
       "Family_change                                                  1\n",
       "Do_not_optimize_1_prct_income_share_2014                       1\n",
       "Decote_2014                                                    1\n",
       "Allocation_mere_2013                                           1\n",
       "Same_diploma_2014                                              1\n",
       "Irpp_decote_pere_2013                                          1\n",
       "Irpp_decote_seuil_prel_allocation_6_2013                       1\n",
       "Same_diploma_2013                                              1\n",
       "Position_professionnelle_femme_2014                            1\n",
       "Same_diploma_licence_2014                                      1\n",
       "Position_professionnelle_femme_2013                            1\n",
       "Do_not_optimize_0_1_prct_income_share_2013                     1\n",
       "index_2014                                                     1\n",
       "No_decote_2013                                                 1\n",
       "Counterfactual_2013_ir_on_2014_rni_Irpp_decote_allocation_4    1\n",
       "No_decote_2014                                                 1\n",
       "index_2013                                                     1\n",
       "Age_younger_child_2013                                         1\n",
       "non_opt_2013_opt_2014                                          1\n",
       "dtype: int64"
      ]
     },
     "execution_count": 158,
     "metadata": {},
     "output_type": "execute_result"
    }
   ],
   "source": [
    "df_temp.columns.value_counts()"
   ]
  },
  {
   "cell_type": "code",
   "execution_count": 159,
   "metadata": {
    "collapsed": false
   },
   "outputs": [],
   "source": [
    "df_temp.Do_not_optimize_2014 = df_temp.Do_not_optimize_2014.astype(\"int\")"
   ]
  },
  {
   "cell_type": "code",
   "execution_count": 160,
   "metadata": {
    "collapsed": true
   },
   "outputs": [],
   "source": []
  },
  {
   "cell_type": "code",
   "execution_count": 160,
   "metadata": {
    "collapsed": false
   },
   "outputs": [
    {
     "name": "stdout",
     "output_type": "stream",
     "text": [
      "(32272, 442)\n",
      "Optimization terminated successfully.\n",
      "         Current function value: 0.528304\n",
      "         Iterations 6\n",
      "                           Probit Regression Results                            \n",
      "================================================================================\n",
      "Dep. Variable:     Do_not_optimize_2014   No. Observations:                32272\n",
      "Model:                           Probit   Df Residuals:                    32260\n",
      "Method:                             MLE   Df Model:                           11\n",
      "Date:                  Wed, 24 Apr 2019   Pseudo R-squ.:                 0.08658\n",
      "Time:                          15:24:38   Log-Likelihood:                -17049.\n",
      "converged:                         True   LL-Null:                       -18665.\n",
      "                                          LLR p-value:                     0.000\n",
      "===========================================================================================================\n",
      "                                              coef    std err          z      P>|z|      [95.0% Conf. Int.]\n",
      "-----------------------------------------------------------------------------------------------------------\n",
      "Age_moyen                                   0.0701      0.012      5.607      0.000         0.046     0.095\n",
      "Age_moyen_squared                          -0.0009      0.000     -5.072      0.000        -0.001    -0.001\n",
      "Ecart_Age_en_valeur_absolue                -0.0007      0.003     -0.269      0.788        -0.006     0.004\n",
      "Rni_2013                                 2.301e-05   6.77e-07     33.989      0.000      2.17e-05  2.43e-05\n",
      "Change_in_Rni                            1.343e-05   1.18e-06     11.398      0.000      1.11e-05  1.57e-05\n",
      "Diff_in_incompe_mere_pere_2013          -3.779e-05   1.09e-06    -34.585      0.000     -3.99e-05 -3.56e-05\n",
      "Fiscal_max_potential_loss_2014             -0.0002   2.14e-05     -9.165      0.000        -0.000    -0.000\n",
      "Two_smallest_allocation_difference_2014     0.0006   3.11e-05     19.382      0.000         0.001     0.001\n",
      "2_enfants                                  -0.0458      0.022     -2.072      0.038        -0.089    -0.002\n",
      "3_enfants_et_plus                          -0.3104      0.048     -6.506      0.000        -0.404    -0.217\n",
      "Family_child_gain                          -0.1289      0.032     -4.063      0.000        -0.191    -0.067\n",
      "Intersect                                  -2.3668      0.221    -10.720      0.000        -2.800    -1.934\n",
      "===========================================================================================================\n"
     ]
    }
   ],
   "source": [
    "for df_temp in [df_B]:#.query(\"Two_smallest_allocation_difference_2014!=0\")]:\n",
    "    print df_temp.shape\n",
    "    df_temp.loc[:,\"Intersect\"]=  np.zeros(df_temp.shape[0])+1\n",
    "    df_temp = df_temp#[df_temp[diploma_4_categories_2].sum(axis = 1) == 2]\n",
    "    OLS = sm.Probit(df_temp[\"Do_not_optimize_2014\"], \n",
    "                      df_temp[[\"Age_moyen\", \"Age_moyen_squared\", \"Ecart_Age_en_valeur_absolue\",\"Rni_2013\",\"Change_in_Rni\",\"Diff_in_incompe_mere_pere_2013\",\n",
    "                               \"Fiscal_max_potential_loss_2014\",\n",
    "                               \"Two_smallest_allocation_difference_2014\",\n",
    "                               \"2_enfants\", \"3_enfants_et_plus\",\n",
    "                               \"Family_child_gain\",\n",
    "                 'Intersect' ]#+diploma_4_categories_2_to_regress\n",
    "                #+ [\"Same_diploma_No_educ_2013\",\"Same_diploma_Vocational_2013\",\"Same_diploma_licence_2013\",\"Same_diploma_Master_2013\"]\n",
    "                             ].astype(\"float\")).fit()\n",
    "    print OLS.summary()"
   ]
  },
  {
   "cell_type": "code",
   "execution_count": 161,
   "metadata": {
    "collapsed": false
   },
   "outputs": [
    {
     "name": "stdout",
     "output_type": "stream",
     "text": [
      "(32272, 443)\n",
      "Optimization terminated successfully.\n",
      "         Current function value: 0.277219\n",
      "         Iterations 7\n",
      "                                     Probit Regression Results                                      \n",
      "====================================================================================================\n",
      "Dep. Variable:     Do_not_optimize_1_prct_income_share_2014   No. Observations:                32272\n",
      "Model:                                               Probit   Df Residuals:                    32258\n",
      "Method:                                                 MLE   Df Model:                           13\n",
      "Date:                                      Wed, 24 Apr 2019   Pseudo R-squ.:                  0.2279\n",
      "Time:                                              15:24:38   Log-Likelihood:                -8946.4\n",
      "converged:                                             True   LL-Null:                       -11587.\n",
      "                                                              LLR p-value:                     0.000\n",
      "============================================================================================================\n",
      "                                               coef    std err          z      P>|z|      [95.0% Conf. Int.]\n",
      "------------------------------------------------------------------------------------------------------------\n",
      "Age_moyen                                    0.0539      0.017      3.232      0.001         0.021     0.087\n",
      "Age_moyen_squared                           -0.0007      0.000     -3.033      0.002        -0.001    -0.000\n",
      "Ecart_Age_en_valeur_absolue                  0.0051      0.003      1.547      0.122        -0.001     0.012\n",
      "Rni_2013                                  9.095e-06   9.51e-07      9.559      0.000      7.23e-06   1.1e-05\n",
      "Change_in_Rni                            -6.718e-06   1.51e-06     -4.441      0.000     -9.68e-06 -3.75e-06\n",
      "Diff_in_incompe_mere_pere_2013           -3.995e-05   1.52e-06    -26.268      0.000     -4.29e-05  -3.7e-05\n",
      "Fiscal_max_potential_loss_2014              -0.0002   2.78e-05     -8.000      0.000        -0.000    -0.000\n",
      "Two_smallest_allocation_difference_2014     -0.0005   3.93e-05    -13.025      0.000        -0.001    -0.000\n",
      "2_enfants                                   -0.0139      0.029     -0.474      0.636        -0.072     0.044\n",
      "3_enfants_et_plus                           -0.1253      0.064     -1.972      0.049        -0.250    -0.001\n",
      "Do_not_optimize_1_prct_income_share_2013     1.7123      0.028     61.358      0.000         1.658     1.767\n",
      "Family_child_gain                            0.1147      0.040      2.833      0.005         0.035     0.194\n",
      "Intersect                                   -2.9591      0.294    -10.079      0.000        -3.535    -2.384\n",
      "Same_family_did_change_allocation           -0.1105      0.044     -2.525      0.012        -0.196    -0.025\n",
      "============================================================================================================\n"
     ]
    }
   ],
   "source": [
    "for df_temp in [df_B]:#.query(\"Two_smallest_allocation_difference_2014!=0\")]:\n",
    "    print df_temp.shape\n",
    "    df_temp.loc[:,\"Intersect\"]=  np.zeros(df_temp.shape[0])+1\n",
    "    df_temp = df_temp#[df_temp[diploma_4_categories_2].sum(axis = 1) == 2]\n",
    "    OLS = sm.Probit(df_temp[\"Do_not_optimize_1_prct_income_share_2014\"], \n",
    "                      df_temp[[\"Age_moyen\", \"Age_moyen_squared\", \"Ecart_Age_en_valeur_absolue\",\"Rni_2013\",\"Change_in_Rni\",\"Diff_in_incompe_mere_pere_2013\",\n",
    "                               \"Fiscal_max_potential_loss_2014\",\n",
    "                               \"Two_smallest_allocation_difference_2014\",\n",
    "                               \"2_enfants\", \"3_enfants_et_plus\",\"Do_not_optimize_1_prct_income_share_2013\",\n",
    "                               \"Family_child_gain\",\n",
    "                 'Intersect', \"Same_family_did_change_allocation\"]#+diploma_4_categories_2_to_regress\n",
    "                #+ [\"Same_diploma_No_educ_2013\",\"Same_diploma_Vocational_2013\",\"Same_diploma_licence_2013\",\"Same_diploma_Master_2013\"]\n",
    "                             ].astype(\"float\")).fit()\n",
    "    print OLS.summary()"
   ]
  },
  {
   "cell_type": "code",
   "execution_count": 162,
   "metadata": {
    "collapsed": false
   },
   "outputs": [
    {
     "name": "stdout",
     "output_type": "stream",
     "text": [
      "(32272, 443)\n",
      "Optimization terminated successfully.\n",
      "         Current function value: 0.245345\n",
      "         Iterations 7\n",
      "                           Probit Regression Results                            \n",
      "================================================================================\n",
      "Dep. Variable:     Do_not_optimize_2014   No. Observations:                21895\n",
      "Model:                           Probit   Df Residuals:                    21870\n",
      "Method:                             MLE   Df Model:                           24\n",
      "Date:                  Wed, 24 Apr 2019   Pseudo R-squ.:                  0.5783\n",
      "Time:                          15:24:38   Log-Likelihood:                -5371.8\n",
      "converged:                         True   LL-Null:                       -12739.\n",
      "                                          LLR p-value:                     0.000\n",
      "=====================================================================================================================\n",
      "                                                        coef    std err          z      P>|z|      [95.0% Conf. Int.]\n",
      "---------------------------------------------------------------------------------------------------------------------\n",
      "Age_moyen                                             0.0445      0.023      1.929      0.054        -0.001     0.090\n",
      "Age_moyen_squared                                    -0.0005      0.000     -1.518      0.129        -0.001     0.000\n",
      "Ecart_Age_en_valeur_absolue                          -0.0081      0.005     -1.778      0.075        -0.017     0.001\n",
      "Rni_2013                                           2.368e-05   1.36e-06     17.465      0.000       2.1e-05  2.63e-05\n",
      "Change_in_Rni                                      2.009e-05   1.78e-06     11.283      0.000      1.66e-05  2.36e-05\n",
      "Diff_in_incompe_mere_pere_2013                    -2.535e-05   1.72e-06    -14.751      0.000     -2.87e-05  -2.2e-05\n",
      "Fiscal_max_potential_loss_2014                     4.698e-05   3.28e-05      1.431      0.152     -1.74e-05     0.000\n",
      "Two_smallest_allocation_difference_2014            8.942e-06    5.2e-05      0.172      0.863      -9.3e-05     0.000\n",
      "2_enfants                                            -0.0097      0.037     -0.265      0.791        -0.082     0.062\n",
      "3_enfants_et_plus                                    -0.1996      0.081     -2.465      0.014        -0.358    -0.041\n",
      "Same_optimal_allocation_same_family                   0.7102      0.084      8.406      0.000         0.545     0.876\n",
      "Do_not_optimize_2013                                  0.4156      0.093      4.483      0.000         0.234     0.597\n",
      "TC_2013                                              -0.0097      0.035     -0.277      0.782        -0.079     0.059\n",
      "Family_child_gain                                    -0.5502      0.048    -11.388      0.000        -0.645    -0.456\n",
      "Interact_learning                                    -3.1251      0.112    -27.841      0.000        -3.345    -2.905\n",
      "Interact_not_same_allocation_do_not_optimize_2013    -1.4198      0.088    -16.064      0.000        -1.593    -1.247\n",
      "Interact_same_allocation_do_optimize_2013            -3.0038      0.093    -32.158      0.000        -3.187    -2.821\n",
      "Intersect                                            -1.4235      0.412     -3.452      0.001        -2.232    -0.615\n",
      "Same_family_did_change_allocation                     0.3765      0.049      7.612      0.000         0.280     0.473\n",
      "Vocational_education_femme_2013                       0.1078      0.061      1.753      0.080        -0.013     0.228\n",
      "Licence_education_femme_2013                          0.2691      0.065      4.124      0.000         0.141     0.397\n",
      "Master_PhD_education_femme_2013                       0.1511      0.071      2.124      0.034         0.012     0.291\n",
      "Vocational_education_homme_2013                      -0.0218      0.044     -0.500      0.617        -0.107     0.064\n",
      "Licence_education_homme_2013                          0.0111      0.054      0.206      0.837        -0.095     0.117\n",
      "Master_PhD_education_homme_2013                      -0.1272      0.065     -1.965      0.049        -0.254    -0.000\n",
      "=====================================================================================================================\n"
     ]
    }
   ],
   "source": [
    "for df_temp in [df_B]:#.query(\"Two_smallest_allocation_difference_2014!=0\")]:\n",
    "    print df_temp.shape\n",
    "    df_temp.loc[:,\"Intersect\"]=  np.zeros(df_temp.shape[0])+1\n",
    "    df_temp = df_temp[df_temp[diploma_4_categories_2].sum(axis = 1) == 2]\n",
    "    OLS = sm.Probit(df_temp[\"Do_not_optimize_2014\"], \n",
    "                      df_temp[[\"Age_moyen\", \"Age_moyen_squared\", \"Ecart_Age_en_valeur_absolue\",\"Rni_2013\",\"Change_in_Rni\",\"Diff_in_incompe_mere_pere_2013\",\n",
    "                               \"Fiscal_max_potential_loss_2014\",\n",
    "                               \"Two_smallest_allocation_difference_2014\",\n",
    "                               \"2_enfants\", \"3_enfants_et_plus\",\"Same_optimal_allocation_same_family\", \n",
    "                               \"Do_not_optimize_2013\",\"TC_2013\",\n",
    "                               \"Family_child_gain\",\"Interact_learning\",\n",
    "                               \"Interact_not_same_allocation_do_not_optimize_2013\",\"Interact_same_allocation_do_optimize_2013\",\n",
    "                 'Intersect', \"Same_family_did_change_allocation\" ]+diploma_4_categories_2_to_regress\n",
    "                #+ [\"Same_diploma_No_educ_2013\",\"Same_diploma_Vocational_2013\",\"Same_diploma_licence_2013\",\"Same_diploma_Master_2013\"]\n",
    "                             ].astype(\"float\")).fit()\n",
    "    print OLS.summary()"
   ]
  },
  {
   "cell_type": "markdown",
   "metadata": {},
   "source": [
    "### Full regression learning+ inertia+ etc"
   ]
  },
  {
   "cell_type": "code",
   "execution_count": 163,
   "metadata": {
    "collapsed": false
   },
   "outputs": [
    {
     "name": "stdout",
     "output_type": "stream",
     "text": [
      "(32272, 443)\n",
      "Optimization terminated successfully.\n",
      "         Current function value: 0.215940\n",
      "         Iterations 8\n",
      "                                     Probit Regression Results                                      \n",
      "====================================================================================================\n",
      "Dep. Variable:     Do_not_optimize_1_prct_income_share_2014   No. Observations:                21895\n",
      "Model:                                               Probit   Df Residuals:                    21870\n",
      "Method:                                                 MLE   Df Model:                           24\n",
      "Date:                                      Wed, 24 Apr 2019   Pseudo R-squ.:                  0.3985\n",
      "Time:                                              15:24:39   Log-Likelihood:                -4728.0\n",
      "converged:                                             True   LL-Null:                       -7860.0\n",
      "                                                              LLR p-value:                     0.000\n",
      "=====================================================================================================================\n",
      "                                                        coef    std err          z      P>|z|      [95.0% Conf. Int.]\n",
      "---------------------------------------------------------------------------------------------------------------------\n",
      "Age_moyen                                             0.0073      0.025      0.296      0.767        -0.041     0.056\n",
      "Age_moyen_squared                                 -9.285e-05      0.000     -0.276      0.783        -0.001     0.001\n",
      "Ecart_Age_en_valeur_absolue                           0.0052      0.005      1.077      0.282        -0.004     0.015\n",
      "Rni_2013                                          -1.248e-05    1.6e-06     -7.777      0.000     -1.56e-05 -9.34e-06\n",
      "Change_in_Rni                                     -9.421e-06   2.12e-06     -4.452      0.000     -1.36e-05 -5.27e-06\n",
      "Diff_in_incompe_mere_pere_2013                    -1.697e-05   2.16e-06     -7.869      0.000     -2.12e-05 -1.27e-05\n",
      "Fiscal_max_potential_loss_2014                       -0.0002   3.63e-05     -4.458      0.000        -0.000 -9.08e-05\n",
      "Two_smallest_allocation_difference_2014              -0.0013   5.58e-05    -22.779      0.000        -0.001    -0.001\n",
      "2_enfants                                             0.1155      0.040      2.897      0.004         0.037     0.194\n",
      "3_enfants_et_plus                                     0.1687      0.086      1.964      0.049         0.000     0.337\n",
      "Same_optimal_allocation_same_family                   0.4938      0.087      5.650      0.000         0.322     0.665\n",
      "Do_not_optimize_2013                                  0.4825      0.095      5.070      0.000         0.296     0.669\n",
      "TC_2013                                              -0.0507      0.039     -1.299      0.194        -0.127     0.026\n",
      "Family_child_gain                                    -0.5458      0.074     -7.336      0.000        -0.692    -0.400\n",
      "Interact_learning                                    -2.1504      0.126    -17.060      0.000        -2.397    -1.903\n",
      "Interact_not_same_allocation_do_not_optimize_2013    -0.6783      0.090     -7.573      0.000        -0.854    -0.503\n",
      "Interact_same_allocation_do_optimize_2013            -2.2787      0.101    -22.499      0.000        -2.477    -2.080\n",
      "Intersect                                            -0.9323      0.441     -2.115      0.034        -1.796    -0.069\n",
      "Same_family_same_allocation                          -0.4066      0.058     -7.000      0.000        -0.520    -0.293\n",
      "Vocational_education_femme_2013                       0.0379      0.063      0.600      0.549        -0.086     0.162\n",
      "Licence_education_femme_2013                          0.1131      0.067      1.676      0.094        -0.019     0.245\n",
      "Master_PhD_education_femme_2013                       0.0438      0.075      0.586      0.558        -0.103     0.190\n",
      "Vocational_education_homme_2013                      -0.0015      0.046     -0.032      0.975        -0.092     0.089\n",
      "Licence_education_homme_2013                          0.0017      0.058      0.029      0.977        -0.112     0.116\n",
      "Master_PhD_education_homme_2013                      -0.1320      0.072     -1.823      0.068        -0.274     0.010\n",
      "=====================================================================================================================\n"
     ]
    }
   ],
   "source": [
    "for df_temp in [df_B]:\n",
    "    print df_temp.shape\n",
    "    df_temp.loc[:,\"Intersect\"]=  np.zeros(df_temp.shape[0])+1\n",
    "    df_temp = df_temp[df_temp[diploma_4_categories_2].sum(axis = 1) == 2]\n",
    "    OLS = sm.Probit(df_temp[\"Do_not_optimize_1_prct_income_share_2014\"], \n",
    "                      df_temp[[\"Age_moyen\", \"Age_moyen_squared\", \"Ecart_Age_en_valeur_absolue\",\"Rni_2013\",\"Change_in_Rni\",\"Diff_in_incompe_mere_pere_2013\",\n",
    "                               \"Fiscal_max_potential_loss_2014\",\n",
    "                               \"Two_smallest_allocation_difference_2014\",\n",
    "                               \"2_enfants\", \"3_enfants_et_plus\",\"Same_optimal_allocation_same_family\", \n",
    "                               \"Do_not_optimize_2013\",\"TC_2013\",\n",
    "                               \"Family_child_gain\",\"Interact_learning\",\n",
    "                               \"Interact_not_same_allocation_do_not_optimize_2013\",\"Interact_same_allocation_do_optimize_2013\",\n",
    "                 'Intersect', \"Same_family_same_allocation\" ]+diploma_4_categories_2_to_regress\n",
    "                #+ [\"Same_diploma_No_educ_2013\",\"Same_diploma_Vocational_2013\",\"Same_diploma_licence_2013\",\"Same_diploma_Master_2013\"]\n",
    "                             ].astype(\"float\")).fit()\n",
    "    print OLS.summary()"
   ]
  },
  {
   "cell_type": "code",
   "execution_count": 164,
   "metadata": {
    "collapsed": false,
    "scrolled": false
   },
   "outputs": [
    {
     "name": "stdout",
     "output_type": "stream",
     "text": [
      "(32272, 443)\n",
      "Optimization terminated successfully.\n",
      "         Current function value: 0.215039\n",
      "         Iterations 8\n",
      "                                     Probit Regression Results                                      \n",
      "====================================================================================================\n",
      "Dep. Variable:     Do_not_optimize_1_prct_income_share_2014   No. Observations:                21895\n",
      "Model:                                               Probit   Df Residuals:                    21870\n",
      "Method:                                                 MLE   Df Model:                           24\n",
      "Date:                                      Wed, 24 Apr 2019   Pseudo R-squ.:                  0.4010\n",
      "Time:                                              15:24:39   Log-Likelihood:                -4708.3\n",
      "converged:                                             True   LL-Null:                       -7860.0\n",
      "                                                              LLR p-value:                     0.000\n",
      "=====================================================================================================================\n",
      "                                                        coef    std err          z      P>|z|      [95.0% Conf. Int.]\n",
      "---------------------------------------------------------------------------------------------------------------------\n",
      "Age_moyen                                             0.0003      0.025      0.014      0.989        -0.048     0.049\n",
      "Age_moyen_squared                                 -4.506e-06      0.000     -0.013      0.989        -0.001     0.001\n",
      "Ecart_Age_en_valeur_absolue                           0.0056      0.005      1.154      0.249        -0.004     0.015\n",
      "Rni_2013                                           -1.32e-05   1.62e-06     -8.176      0.000     -1.64e-05    -1e-05\n",
      "Change_in_Rni                                     -9.579e-06   2.11e-06     -4.539      0.000     -1.37e-05 -5.44e-06\n",
      "Diff_in_incompe_mere_pere_2013                    -1.578e-05   2.16e-06     -7.306      0.000        -2e-05 -1.15e-05\n",
      "Fiscal_max_potential_loss_2014                       -0.0001    3.4e-05     -3.563      0.000        -0.000 -5.44e-05\n",
      "Two_smallest_allocation_difference_2014              -0.0013   5.43e-05    -24.589      0.000        -0.001    -0.001\n",
      "2_enfants                                             0.1525      0.038      4.050      0.000         0.079     0.226\n",
      "3_enfants_et_plus                                     0.3005      0.080      3.739      0.000         0.143     0.458\n",
      "Same_optimal_allocation_same_family                   0.4555      0.088      5.204      0.000         0.284     0.627\n",
      "Do_not_optimize_2013                                  0.5232      0.095      5.490      0.000         0.336     0.710\n",
      "TC_2013                                              -0.0431      0.039     -1.103      0.270        -0.120     0.033\n",
      "Same_family                                           0.7118      0.073      9.778      0.000         0.569     0.854\n",
      "Interact_learning                                    -2.3377      0.129    -18.079      0.000        -2.591    -2.084\n",
      "Interact_not_same_allocation_do_not_optimize_2013    -0.6879      0.090     -7.678      0.000        -0.863    -0.512\n",
      "Interact_same_allocation_do_optimize_2013            -2.2804      0.101    -22.494      0.000        -2.479    -2.082\n",
      "Intersect                                            -1.3338      0.441     -3.026      0.002        -2.198    -0.470\n",
      "Same_family_same_allocation                          -0.5801      0.063     -9.174      0.000        -0.704    -0.456\n",
      "Vocational_education_femme_2013                       0.0254      0.063      0.401      0.688        -0.099     0.150\n",
      "Licence_education_femme_2013                          0.0953      0.068      1.408      0.159        -0.037     0.228\n",
      "Master_PhD_education_femme_2013                       0.0278      0.075      0.370      0.711        -0.119     0.175\n",
      "Vocational_education_homme_2013                      -0.0021      0.046     -0.046      0.963        -0.093     0.089\n",
      "Licence_education_homme_2013                          0.0069      0.058      0.119      0.905        -0.107     0.121\n",
      "Master_PhD_education_homme_2013                      -0.1313      0.073     -1.809      0.071        -0.274     0.011\n",
      "=====================================================================================================================\n"
     ]
    }
   ],
   "source": [
    "for df_temp in [df_B]:\n",
    "    print df_temp.shape\n",
    "    df_temp.loc[:,\"Intersect\"]=  np.zeros(df_temp.shape[0])+1\n",
    "    df_temp = df_temp[df_temp[diploma_4_categories_2].sum(axis = 1) == 2]\n",
    "    OLS = sm.Probit(df_temp[\"Do_not_optimize_1_prct_income_share_2014\"], \n",
    "                      df_temp[[\"Age_moyen\", \"Age_moyen_squared\", \"Ecart_Age_en_valeur_absolue\",\"Rni_2013\",\"Change_in_Rni\",\"Diff_in_incompe_mere_pere_2013\",\n",
    "                               \"Fiscal_max_potential_loss_2014\",\n",
    "                               \"Two_smallest_allocation_difference_2014\",\n",
    "                               \"2_enfants\", \"3_enfants_et_plus\",\"Same_optimal_allocation_same_family\", \n",
    "                               \"Do_not_optimize_2013\",\"TC_2013\",\n",
    "                               'Same_family',\"Interact_learning\",\n",
    "                               \"Interact_not_same_allocation_do_not_optimize_2013\",\"Interact_same_allocation_do_optimize_2013\",\n",
    "                 'Intersect', \"Same_family_same_allocation\" ]+diploma_4_categories_2_to_regress\n",
    "                #+ [\"Same_diploma_No_educ_2013\",\"Same_diploma_Vocational_2013\",\"Same_diploma_licence_2013\",\"Same_diploma_Master_2013\"]\n",
    "                             ].astype(\"float\")).fit()\n",
    "    print OLS.summary()"
   ]
  },
  {
   "cell_type": "code",
   "execution_count": 165,
   "metadata": {
    "collapsed": false,
    "scrolled": false
   },
   "outputs": [
    {
     "name": "stdout",
     "output_type": "stream",
     "text": [
      "(32272, 443)\n",
      "                            OLS Regression Results                            \n",
      "==============================================================================\n",
      "Dep. Variable:       Fiscal_loss_2014   R-squared:                       0.346\n",
      "Model:                            OLS   Adj. R-squared:                  0.346\n",
      "Method:                 Least Squares   F-statistic:                     482.9\n",
      "Date:                Wed, 24 Apr 2019   Prob (F-statistic):               0.00\n",
      "Time:                        15:24:39   Log-Likelihood:            -1.5264e+05\n",
      "No. Observations:               21895   AIC:                         3.053e+05\n",
      "Df Residuals:                   21870   BIC:                         3.055e+05\n",
      "Df Model:                          24                                         \n",
      "Covariance Type:            nonrobust                                         \n",
      "=====================================================================================================================\n",
      "                                                        coef    std err          t      P>|t|      [95.0% Conf. Int.]\n",
      "---------------------------------------------------------------------------------------------------------------------\n",
      "Age_moyen                                            -5.9294      2.800     -2.118      0.034       -11.417    -0.442\n",
      "Age_moyen_squared                                     0.0722      0.038      1.888      0.059        -0.003     0.147\n",
      "Ecart_Age_en_valeur_absolue                           1.0463      0.580      1.804      0.071        -0.090     2.183\n",
      "Rni_2013                                              0.0012      0.000      7.320      0.000         0.001     0.002\n",
      "Change_in_Rni                                         0.0008      0.000      3.136      0.002         0.000     0.001\n",
      "Diff_in_incompe_mere_pere_2013                       -0.0018      0.000     -8.521      0.000        -0.002    -0.001\n",
      "Fiscal_max_potential_loss_2014                       -0.1025      0.005    -22.137      0.000        -0.112    -0.093\n",
      "Two_smallest_allocation_difference_2014              -0.0604      0.007     -8.989      0.000        -0.074    -0.047\n",
      "2_enfants                                           -14.0647      4.934     -2.851      0.004       -23.735    -4.394\n",
      "3_enfants_et_plus                                    41.6150     10.155      4.098      0.000        21.711    61.519\n",
      "Same_optimal_allocation_same_family                  83.3157     15.347      5.429      0.000        53.234   113.398\n",
      "Do_not_optimize_2013                                266.6961     16.226     16.437      0.000       234.893   298.500\n",
      "TC_2013                                               2.5138      4.586      0.548      0.584        -6.475    11.503\n",
      "Same_family                                          84.9583     11.682      7.273      0.000        62.061   107.856\n",
      "Interact_learning                                  -473.2846     17.337    -27.299      0.000      -507.267  -439.303\n",
      "Interact_not_same_allocation_do_not_optimize_2013  -245.8137     15.707    -15.650      0.000      -276.600  -215.028\n",
      "Interact_same_allocation_do_optimize_2013          -199.8314     15.751    -12.687      0.000      -230.705  -168.958\n",
      "Intersect                                            90.3123     50.103      1.803      0.071        -7.893   188.517\n",
      "Same_family_same_allocation                         -73.8673     10.163     -7.268      0.000       -93.787   -53.947\n",
      "Vocational_education_femme_2013                      -6.4848      6.902     -0.940      0.347       -20.013     7.043\n",
      "Licence_education_femme_2013                         12.2018      7.634      1.598      0.110        -2.761    27.165\n",
      "Master_PhD_education_femme_2013                      15.9166      8.557      1.860      0.063        -0.856    32.689\n",
      "Vocational_education_homme_2013                      -8.1045      5.424     -1.494      0.135       -18.736     2.527\n",
      "Licence_education_homme_2013                        -11.6079      6.947     -1.671      0.095       -25.224     2.008\n",
      "Master_PhD_education_homme_2013                     -37.4481      8.380     -4.469      0.000       -53.874   -21.022\n",
      "==============================================================================\n",
      "Omnibus:                    18813.447   Durbin-Watson:                   1.968\n",
      "Prob(Omnibus):                  0.000   Jarque-Bera (JB):          1093172.714\n",
      "Skew:                           3.840   Prob(JB):                         0.00\n",
      "Kurtosis:                      36.753   Cond. No.                     1.20e+06\n",
      "==============================================================================\n",
      "\n",
      "Warnings:\n",
      "[1] Standard Errors assume that the covariance matrix of the errors is correctly specified.\n",
      "[2] The condition number is large, 1.2e+06. This might indicate that there are\n",
      "strong multicollinearity or other numerical problems.\n"
     ]
    }
   ],
   "source": [
    "for df_temp in [df_B]:\n",
    "    print df_temp.shape\n",
    "    df_temp.loc[:,\"Intersect\"]=  np.zeros(df_temp.shape[0])+1\n",
    "    df_temp = df_temp[df_temp[diploma_4_categories_2].sum(axis = 1) == 2]\n",
    "    OLS = sm.OLS(df_temp[\"Fiscal_loss_2014\"], \n",
    "                      df_temp[[\"Age_moyen\", \"Age_moyen_squared\", \"Ecart_Age_en_valeur_absolue\",\"Rni_2013\",\"Change_in_Rni\",\"Diff_in_incompe_mere_pere_2013\",\n",
    "                               \"Fiscal_max_potential_loss_2014\",\n",
    "                               \"Two_smallest_allocation_difference_2014\",\n",
    "                               \"2_enfants\", \"3_enfants_et_plus\",\"Same_optimal_allocation_same_family\", \n",
    "                               \"Do_not_optimize_2013\",\"TC_2013\",\n",
    "                               'Same_family',\"Interact_learning\",\n",
    "                               \"Interact_not_same_allocation_do_not_optimize_2013\",\"Interact_same_allocation_do_optimize_2013\",\n",
    "                 'Intersect', \"Same_family_same_allocation\" ]+diploma_4_categories_2_to_regress\n",
    "                #+ [\"Same_diploma_No_educ_2013\",\"Same_diploma_Vocational_2013\",\"Same_diploma_licence_2013\",\"Same_diploma_Master_2013\"]\n",
    "                             ].astype(\"float\")).fit()\n",
    "    print OLS.summary()"
   ]
  },
  {
   "cell_type": "code",
   "execution_count": 166,
   "metadata": {
    "collapsed": false,
    "scrolled": false
   },
   "outputs": [
    {
     "name": "stdout",
     "output_type": "stream",
     "text": [
      "(32272, 443)\n",
      "                             OLS Regression Results                            \n",
      "===============================================================================\n",
      "Dep. Variable:     Delta_perte_fiscale   R-squared:                       0.012\n",
      "Model:                             OLS   Adj. R-squared:                  0.011\n",
      "Method:                  Least Squares   F-statistic:                     16.17\n",
      "Date:                 Wed, 24 Apr 2019   Prob (F-statistic):           1.60e-45\n",
      "Time:                         15:24:39   Log-Likelihood:            -1.5219e+05\n",
      "No. Observations:                21895   AIC:                         3.044e+05\n",
      "Df Residuals:                    21878   BIC:                         3.045e+05\n",
      "Df Model:                           16                                         \n",
      "Covariance Type:             nonrobust                                         \n",
      "=======================================================================================================\n",
      "                                          coef    std err          t      P>|t|      [95.0% Conf. Int.]\n",
      "-------------------------------------------------------------------------------------------------------\n",
      "Age_moyen                               3.8818      2.739      1.417      0.156        -1.487     9.251\n",
      "Age_moyen_squared                      -0.0432      0.037     -1.155      0.248        -0.117     0.030\n",
      "Ecart_Age_en_valeur_absolue            -0.3927      0.567     -0.692      0.489        -1.505     0.720\n",
      "Rni_2013                                0.0001      0.000      1.043      0.297        -0.000     0.000\n",
      "2_enfants                              -4.8445      3.702     -1.308      0.191       -12.101     2.413\n",
      "3_enfants_et_plus                       0.1223      7.622      0.016      0.987       -14.817    15.061\n",
      "Same_optimal_allocation_same_family   -37.2340      4.044     -9.207      0.000       -45.161   -29.307\n",
      "Family_child_gain                      12.2777      7.074      1.736      0.083        -1.587    26.142\n",
      "Family_child_loss                    -162.1944     18.625     -8.709      0.000      -198.700  -125.689\n",
      "TC_2013                                -2.3978      4.491     -0.534      0.593       -11.200     6.404\n",
      "Intersect                             -11.1857     32.914     -0.340      0.734       -75.700    53.329\n",
      "No_education_femme_2013               -13.5825      9.397     -1.445      0.148       -32.002     4.837\n",
      "Vocational_education_femme_2013        -7.8708      8.510     -0.925      0.355       -24.551     8.810\n",
      "Licence_education_femme_2013           11.6371      9.061      1.284      0.199        -6.122    29.396\n",
      "Master_PhD_education_femme_2013        -1.3695      9.583     -0.143      0.886       -20.153    17.414\n",
      "No_education_homme_2013                 1.4729      9.057      0.163      0.871       -16.280    19.225\n",
      "Vocational_education_homme_2013        -1.1542      8.514     -0.136      0.892       -17.843    15.534\n",
      "Licence_education_homme_2013            1.0118      9.266      0.109      0.913       -17.151    19.174\n",
      "Master_PhD_education_homme_2013       -12.5162      9.896     -1.265      0.206       -31.913     6.881\n",
      "==============================================================================\n",
      "Omnibus:                    12098.521   Durbin-Watson:                   1.993\n",
      "Prob(Omnibus):                  0.000   Jarque-Bera (JB):          7910766.300\n",
      "Skew:                          -1.275   Prob(JB):                         0.00\n",
      "Kurtosis:                      96.085   Cond. No.                     4.32e+19\n",
      "==============================================================================\n",
      "\n",
      "Warnings:\n",
      "[1] Standard Errors assume that the covariance matrix of the errors is correctly specified.\n",
      "[2] The smallest eigenvalue is 1.88e-26. This might indicate that there are\n",
      "strong multicollinearity problems or that the design matrix is singular.\n"
     ]
    }
   ],
   "source": [
    "for df_temp in [df_B]:\n",
    "    print df_temp.shape\n",
    "    df_temp.loc[:,\"Intersect\"]=  np.zeros(df_temp.shape[0])+1\n",
    "    df_temp = df_temp[df_temp[diploma_4_categories_2].sum(axis = 1) == 2]\n",
    "    OLS = sm.OLS(df_temp[\"Delta_perte_fiscale\"], \n",
    "                      df_temp[[\"Age_moyen\", \"Age_moyen_squared\", \"Ecart_Age_en_valeur_absolue\",\"Rni_2013\",\n",
    "                               \"2_enfants\", \"3_enfants_et_plus\",\"Same_optimal_allocation_same_family\", \n",
    "                               \"Family_child_gain\", \"Family_child_loss\", \"TC_2013\",\n",
    "                 'Intersect' ]+diploma_4_categories_2].astype(\"float\")).fit()\n",
    "    print OLS.summary()"
   ]
  },
  {
   "cell_type": "markdown",
   "metadata": {},
   "source": [
    "Perte fiscale > 0 en 2013"
   ]
  },
  {
   "cell_type": "code",
   "execution_count": 167,
   "metadata": {
    "collapsed": false,
    "scrolled": false
   },
   "outputs": [
    {
     "name": "stdout",
     "output_type": "stream",
     "text": [
      "(32272, 443)\n",
      "                             OLS Regression Results                            \n",
      "===============================================================================\n",
      "Dep. Variable:     Delta_perte_fiscale   R-squared:                       0.059\n",
      "Model:                             OLS   Adj. R-squared:                  0.057\n",
      "Method:                  Least Squares   F-statistic:                     23.19\n",
      "Date:                 Wed, 24 Apr 2019   Prob (F-statistic):           7.49e-71\n",
      "Time:                         15:24:39   Log-Likelihood:                -46128.\n",
      "No. Observations:                 6269   AIC:                         9.229e+04\n",
      "Df Residuals:                     6251   BIC:                         9.241e+04\n",
      "Df Model:                           17                                         \n",
      "Covariance Type:             nonrobust                                         \n",
      "=======================================================================================================\n",
      "                                          coef    std err          t      P>|t|      [95.0% Conf. Int.]\n",
      "-------------------------------------------------------------------------------------------------------\n",
      "Age_moyen                              16.8878      8.267      2.043      0.041         0.682    33.094\n",
      "Age_moyen_squared                      -0.1973      0.112     -1.763      0.078        -0.417     0.022\n",
      "Ecart_Age_en_valeur_absolue            -1.1230      1.571     -0.715      0.475        -4.203     1.957\n",
      "Rni_2013                               -0.0032      0.001     -4.221      0.000        -0.005    -0.002\n",
      "Rni_2014                                0.0047      0.001      6.179      0.000         0.003     0.006\n",
      "2_enfants                             -37.8534     10.347     -3.658      0.000       -58.138   -17.569\n",
      "3_enfants_et_plus                     -89.3135     21.980     -4.063      0.000      -132.402   -46.225\n",
      "Same_optimal_allocation_same_family   166.1555     10.837     15.332      0.000       144.911   187.400\n",
      "Family_child_gain                     107.5294     19.156      5.613      0.000        69.977   145.082\n",
      "Family_child_loss                    -190.2203     40.063     -4.748      0.000      -268.758  -111.682\n",
      "TC_2013                                -0.9061     12.883     -0.070      0.944       -26.162    24.350\n",
      "Intersect                            -319.9826     99.930     -3.202      0.001      -515.880  -124.085\n",
      "No_education_femme_2013               -98.5410     29.425     -3.349      0.001      -156.225   -40.857\n",
      "Vocational_education_femme_2013       -82.6219     25.788     -3.204      0.001      -133.175   -32.068\n",
      "Licence_education_femme_2013          -53.1078     27.162     -1.955      0.051      -106.355     0.139\n",
      "Master_PhD_education_femme_2013       -85.7119     28.495     -3.008      0.003      -141.571   -29.853\n",
      "No_education_homme_2013               -67.5847     27.351     -2.471      0.013      -121.202   -13.967\n",
      "Vocational_education_homme_2013       -83.3819     25.766     -3.236      0.001      -133.892   -32.872\n",
      "Licence_education_homme_2013          -80.7116     27.691     -2.915      0.004      -134.995   -26.428\n",
      "Master_PhD_education_homme_2013       -88.3044     29.617     -2.982      0.003      -146.363   -30.246\n",
      "==============================================================================\n",
      "Omnibus:                     3944.254   Durbin-Watson:                   1.956\n",
      "Prob(Omnibus):                  0.000   Jarque-Bera (JB):           720400.527\n",
      "Skew:                          -1.970   Prob(JB):                         0.00\n",
      "Kurtosis:                      55.368   Cond. No.                     1.55e+20\n",
      "==============================================================================\n",
      "\n",
      "Warnings:\n",
      "[1] Standard Errors assume that the covariance matrix of the errors is correctly specified.\n",
      "[2] The smallest eigenvalue is 8.81e-28. This might indicate that there are\n",
      "strong multicollinearity problems or that the design matrix is singular.\n"
     ]
    },
    {
     "name": "stderr",
     "output_type": "stream",
     "text": [
      "C:\\Users\\IMPTEMP_A_PACIFIC\\Desktop\\WinPython-64bit-2.7.10.2\\WinPython-64bit-2.7.10.2\\python-2.7.10.amd64\\lib\\site-packages\\pandas\\core\\indexing.py:415: SettingWithCopyWarning: \n",
      "A value is trying to be set on a copy of a slice from a DataFrame.\n",
      "Try using .loc[row_indexer,col_indexer] = value instead\n",
      "\n",
      "See the the caveats in the documentation: http://pandas.pydata.org/pandas-docs/stable/indexing.html#indexing-view-versus-copy\n",
      "  self.obj[item] = s\n"
     ]
    }
   ],
   "source": [
    "for df_temp in [df_B]:\n",
    "    print df_temp.shape\n",
    "    df_temp = df_temp.query(\"(Fiscal_loss_2013>0)\")\n",
    "    df_temp.loc[:,\"Intersect\"]=  np.zeros(df_temp.shape[0])+1\n",
    "    df_temp = df_temp[df_temp[diploma_4_categories_2].sum(axis = 1) == 2]\n",
    "    OLS = sm.OLS(df_temp[\"Delta_perte_fiscale\"], \n",
    "                      df_temp[[\"Age_moyen\", \"Age_moyen_squared\", \"Ecart_Age_en_valeur_absolue\",\"Rni_2013\",\"Rni_2014\",\n",
    "                               \"2_enfants\", \"3_enfants_et_plus\",\"Same_optimal_allocation_same_family\", \n",
    "                               \"Family_child_gain\", \"Family_child_loss\",\"TC_2013\",\n",
    "                 'Intersect' ]+diploma_4_categories_2].astype(\"float\")).fit()\n",
    "    print OLS.summary()"
   ]
  },
  {
   "cell_type": "markdown",
   "metadata": {},
   "source": [
    "Perte fiscale >0 en 2013 et 2014 "
   ]
  },
  {
   "cell_type": "code",
   "execution_count": 168,
   "metadata": {
    "collapsed": false,
    "scrolled": false
   },
   "outputs": [
    {
     "name": "stdout",
     "output_type": "stream",
     "text": [
      "(32272, 443)\n",
      "                             OLS Regression Results                            \n",
      "===============================================================================\n",
      "Dep. Variable:     Delta_perte_fiscale   R-squared:                       0.032\n",
      "Model:                             OLS   Adj. R-squared:                  0.028\n",
      "Method:                  Least Squares   F-statistic:                     7.594\n",
      "Date:                 Wed, 24 Apr 2019   Prob (F-statistic):           6.38e-19\n",
      "Time:                         15:24:39   Log-Likelihood:                -28163.\n",
      "No. Observations:                 3888   AIC:                         5.636e+04\n",
      "Df Residuals:                     3870   BIC:                         5.647e+04\n",
      "Df Model:                           17                                         \n",
      "Covariance Type:             nonrobust                                         \n",
      "=======================================================================================================\n",
      "                                          coef    std err          t      P>|t|      [95.0% Conf. Int.]\n",
      "-------------------------------------------------------------------------------------------------------\n",
      "Age_moyen                               2.2483      9.515      0.236      0.813       -16.407    20.904\n",
      "Age_moyen_squared                      -0.0254      0.127     -0.200      0.842        -0.275     0.224\n",
      "Ecart_Age_en_valeur_absolue             0.7404      1.770      0.418      0.676        -2.730     4.211\n",
      "Rni_2013                                0.0004      0.001      0.404      0.687        -0.002     0.003\n",
      "Rni_2014                               -0.0010      0.001     -0.962      0.336        -0.003     0.001\n",
      "2_enfants                               2.7006     11.810      0.229      0.819       -20.454    25.855\n",
      "3_enfants_et_plus                     125.8070     26.062      4.827      0.000        74.711   176.903\n",
      "Same_optimal_allocation_same_family   -60.6840     20.587     -2.948      0.003      -101.047   -20.321\n",
      "Family_child_gain                     169.6951     31.216      5.436      0.000       108.493   230.897\n",
      "Family_child_loss                      -1.2156     69.539     -0.017      0.986      -137.553   135.122\n",
      "TC_2013                               -20.6823     14.582     -1.418      0.156       -49.272     7.907\n",
      "Intersect                             124.6924    117.031      1.065      0.287      -104.755   354.140\n",
      "No_education_femme_2013                22.0550     34.775      0.634      0.526       -46.125    90.234\n",
      "Vocational_education_femme_2013        32.6923     30.072      1.087      0.277       -26.266    91.651\n",
      "Licence_education_femme_2013           39.9931     31.529      1.268      0.205       -21.821   101.807\n",
      "Master_PhD_education_femme_2013        29.9520     32.911      0.910      0.363       -34.572    94.476\n",
      "No_education_homme_2013                40.8073     31.835      1.282      0.200       -21.608   103.223\n",
      "Vocational_education_homme_2013        41.4198     30.276      1.368      0.171       -17.939   100.778\n",
      "Licence_education_homme_2013           32.8659     32.128      1.023      0.306       -30.124    95.855\n",
      "Master_PhD_education_homme_2013         9.5995     33.985      0.282      0.778       -57.032    76.230\n",
      "==============================================================================\n",
      "Omnibus:                      574.160   Durbin-Watson:                   2.020\n",
      "Prob(Omnibus):                  0.000   Jarque-Bera (JB):             5316.160\n",
      "Skew:                           0.402   Prob(JB):                         0.00\n",
      "Kurtosis:                       8.672   Cond. No.                     1.07e+20\n",
      "==============================================================================\n",
      "\n",
      "Warnings:\n",
      "[1] Standard Errors assume that the covariance matrix of the errors is correctly specified.\n",
      "[2] The smallest eigenvalue is 1.23e-27. This might indicate that there are\n",
      "strong multicollinearity problems or that the design matrix is singular.\n"
     ]
    }
   ],
   "source": [
    "for df_temp in [df_B]:\n",
    "    print df_temp.shape\n",
    "    df_temp = df_temp.query(\"(Fiscal_loss_2013>0)&(Fiscal_loss_2014>0)\")\n",
    "    df_temp = df_temp[df_temp[diploma_4_categories_2].sum(axis = 1) == 2]\n",
    "    df_temp.loc[:,\"Intersect\"]=  np.zeros(df_temp.shape[0])+1\n",
    "    OLS = sm.OLS(df_temp[\"Delta_perte_fiscale\"], \n",
    "                      df_temp[[\"Age_moyen\", \"Age_moyen_squared\", \"Ecart_Age_en_valeur_absolue\",\"Rni_2013\",\"Rni_2014\",\n",
    "                               \"2_enfants\", \"3_enfants_et_plus\",\"Same_optimal_allocation_same_family\", \n",
    "                               \"Family_child_gain\", \"Family_child_loss\",\"TC_2013\",\n",
    "                 'Intersect' ]+diploma_4_categories_2].astype(\"float\")).fit()\n",
    "    print OLS.summary()"
   ]
  },
  {
   "cell_type": "markdown",
   "metadata": {},
   "source": [
    "Perte fiscale > 0 en 2014"
   ]
  },
  {
   "cell_type": "code",
   "execution_count": 169,
   "metadata": {
    "collapsed": false,
    "scrolled": false
   },
   "outputs": [
    {
     "name": "stdout",
     "output_type": "stream",
     "text": [
      "(32272, 443)\n",
      "                             OLS Regression Results                            \n",
      "===============================================================================\n",
      "Dep. Variable:     Delta_perte_fiscale   R-squared:                       0.072\n",
      "Model:                             OLS   Adj. R-squared:                  0.069\n",
      "Method:                  Least Squares   F-statistic:                     26.83\n",
      "Date:                 Wed, 24 Apr 2019   Prob (F-statistic):           8.78e-83\n",
      "Time:                         15:24:39   Log-Likelihood:                -42671.\n",
      "No. Observations:                 5880   AIC:                         8.538e+04\n",
      "Df Residuals:                     5862   BIC:                         8.550e+04\n",
      "Df Model:                           17                                         \n",
      "Covariance Type:             nonrobust                                         \n",
      "=======================================================================================================\n",
      "                                          coef    std err          t      P>|t|      [95.0% Conf. Int.]\n",
      "-------------------------------------------------------------------------------------------------------\n",
      "Age_moyen                              -6.2681      7.831     -0.800      0.424       -21.620     9.084\n",
      "Age_moyen_squared                       0.0707      0.106      0.669      0.503        -0.136     0.278\n",
      "Ecart_Age_en_valeur_absolue             2.1725      1.512      1.437      0.151        -0.791     5.136\n",
      "Rni_2013                               -0.0002      0.001     -0.240      0.810        -0.002     0.001\n",
      "Rni_2014                               -0.0007      0.001     -0.931      0.352        -0.002     0.001\n",
      "2_enfants                              11.4701      9.743      1.177      0.239        -7.630    30.571\n",
      "3_enfants_et_plus                     145.4728     22.688      6.412      0.000       100.995   189.950\n",
      "Same_optimal_allocation_same_family  -116.7755      9.879    -11.820      0.000      -136.142   -97.409\n",
      "Family_child_gain                     183.3661     18.083     10.140      0.000       147.916   218.816\n",
      "Family_child_loss                      58.0611     49.840      1.165      0.244       -39.643   155.766\n",
      "TC_2013                               -21.1974     11.886     -1.783      0.075       -44.498     2.104\n",
      "Intersect                             295.6129     94.686      3.122      0.002       109.993   481.233\n",
      "No_education_femme_2013                66.3732     28.324      2.343      0.019        10.848   121.898\n",
      "Vocational_education_femme_2013        77.3463     24.355      3.176      0.002        29.601   125.092\n",
      "Licence_education_femme_2013           82.5483     25.626      3.221      0.001        32.312   132.785\n",
      "Master_PhD_education_femme_2013        69.3451     26.586      2.608      0.009        17.226   121.464\n",
      "No_education_homme_2013                80.0660     25.594      3.128      0.002        29.892   130.239\n",
      "Vocational_education_homme_2013        81.8289     24.536      3.335      0.001        33.729   129.929\n",
      "Licence_education_homme_2013           77.2650     26.144      2.955      0.003        26.013   128.517\n",
      "Master_PhD_education_homme_2013        56.4531     27.818      2.029      0.042         1.920   110.987\n",
      "==============================================================================\n",
      "Omnibus:                     1208.844   Durbin-Watson:                   2.029\n",
      "Prob(Omnibus):                  0.000   Jarque-Bera (JB):             8876.001\n",
      "Skew:                           0.787   Prob(JB):                         0.00\n",
      "Kurtosis:                       8.809   Cond. No.                     9.37e+19\n",
      "==============================================================================\n",
      "\n",
      "Warnings:\n",
      "[1] Standard Errors assume that the covariance matrix of the errors is correctly specified.\n",
      "[2] The smallest eigenvalue is 2.36e-27. This might indicate that there are\n",
      "strong multicollinearity problems or that the design matrix is singular.\n"
     ]
    }
   ],
   "source": [
    "for df_temp in [df_B]:\n",
    "    print df_temp.shape\n",
    "    df_temp = df_temp.query(\"(Fiscal_loss_2014>0)\")\n",
    "    df_temp.loc[:,\"Intersect\"]=  np.zeros(df_temp.shape[0])+1\n",
    "    df_temp = df_temp[df_temp[diploma_4_categories_2].sum(axis = 1) == 2]\n",
    "    OLS = sm.OLS(df_temp[\"Delta_perte_fiscale\"], \n",
    "                      df_temp[[\"Age_moyen\", \"Age_moyen_squared\", \"Ecart_Age_en_valeur_absolue\",\"Rni_2013\",\"Rni_2014\",\n",
    "                               \"2_enfants\", \"3_enfants_et_plus\",\"Same_optimal_allocation_same_family\", \n",
    "                               \"Family_child_gain\", \"Family_child_loss\",\"TC_2013\",\n",
    "                 'Intersect' ]+diploma_4_categories_2].astype(\"float\")).fit()\n",
    "    print OLS.summary()"
   ]
  },
  {
   "cell_type": "markdown",
   "metadata": {
    "collapsed": true
   },
   "source": [
    "### Regression hypo learning Olivier"
   ]
  },
  {
   "cell_type": "code",
   "execution_count": 170,
   "metadata": {
    "collapsed": false
   },
   "outputs": [],
   "source": [
    "df_B[\"Fiscal_max_potential_loss_2013\"] = df_B.result_max_allocation_2013 - df_B.result_min_allocation_2013\n",
    "hello_2013 = df_B.Fiscal_loss_2013/df_B.Fiscal_max_potential_loss_2013\n",
    "\n",
    "df_B[\"Fiscal_max_potential_loss_2014\"] = df_B.result_max_allocation_2014 - df_B.result_min_allocation_2014\n",
    "hello_2014 = df_B.Fiscal_loss_2014/df_B.Fiscal_max_potential_loss_2014\n",
    "df_B[\"Delta_hello\"] = hello_2014-hello_2013"
   ]
  },
  {
   "cell_type": "code",
   "execution_count": 171,
   "metadata": {
    "collapsed": false
   },
   "outputs": [
    {
     "data": {
      "text/plain": [
       "False    12558\n",
       "True      1114\n",
       "dtype: int64"
      ]
     },
     "execution_count": 171,
     "metadata": {},
     "output_type": "execute_result"
    }
   ],
   "source": [
    "(df_B.query(\"Nb_enfants_2013==2\").Fiscal_max_potential_loss_2014 == df_B.query(\"Nb_enfants_2013==2\").Fiscal_loss_2014).value_counts()"
   ]
  },
  {
   "cell_type": "code",
   "execution_count": 172,
   "metadata": {
    "collapsed": false
   },
   "outputs": [
    {
     "data": {
      "text/plain": [
       "'+Same_diploma_No_educ_2013+Same_diploma_Vocational_2013+Same_diploma_licence_2013+Same_diploma_Master_2013'"
      ]
     },
     "execution_count": 172,
     "metadata": {},
     "output_type": "execute_result"
    }
   ],
   "source": [
    " \"+Same_diploma_No_educ_2013+Same_diploma_Vocational_2013+Same_diploma_licence_2013+Same_diploma_Master_2013\""
   ]
  },
  {
   "cell_type": "code",
   "execution_count": 173,
   "metadata": {
    "collapsed": false
   },
   "outputs": [
    {
     "data": {
      "text/plain": [
       "(28997, 444)"
      ]
     },
     "execution_count": 173,
     "metadata": {},
     "output_type": "execute_result"
    }
   ],
   "source": [
    "df_B[df_B.Nb_enfants_2013 == df_B.Nb_enfants_2014].shape"
   ]
  },
  {
   "cell_type": "code",
   "execution_count": 174,
   "metadata": {
    "collapsed": true
   },
   "outputs": [],
   "source": []
  },
  {
   "cell_type": "code",
   "execution_count": 174,
   "metadata": {
    "collapsed": false
   },
   "outputs": [
    {
     "data": {
      "text/plain": [
       "1     23001\n",
       "0      8227\n",
       "2       851\n",
       "3       145\n",
       "4        32\n",
       "5        10\n",
       "64        4\n",
       "6         2\n",
       "dtype: int64"
      ]
     },
     "execution_count": 174,
     "metadata": {},
     "output_type": "execute_result"
    }
   ],
   "source": [
    "df_B.Same_optimal_allocation_same_family.value_counts()"
   ]
  },
  {
   "cell_type": "code",
   "execution_count": 175,
   "metadata": {
    "collapsed": false
   },
   "outputs": [
    {
     "data": {
      "text/plain": [
       "773.60264164755836"
      ]
     },
     "execution_count": 175,
     "metadata": {},
     "output_type": "execute_result"
    }
   ],
   "source": [
    "df_B.Fiscal_max_potential_loss_2013.mean()"
   ]
  },
  {
   "cell_type": "code",
   "execution_count": 176,
   "metadata": {
    "collapsed": false
   },
   "outputs": [
    {
     "data": {
      "text/plain": [
       "955.74207176499749"
      ]
     },
     "execution_count": 176,
     "metadata": {},
     "output_type": "execute_result"
    }
   ],
   "source": [
    "df_B.Fiscal_max_potential_loss_2014.mean()"
   ]
  },
  {
   "cell_type": "code",
   "execution_count": 177,
   "metadata": {
    "collapsed": false
   },
   "outputs": [
    {
     "data": {
      "text/plain": [
       "1     23001\n",
       "0      8227\n",
       "2       851\n",
       "3       145\n",
       "4        32\n",
       "5        10\n",
       "64        4\n",
       "6         2\n",
       "dtype: int64"
      ]
     },
     "execution_count": 177,
     "metadata": {},
     "output_type": "execute_result"
    }
   ],
   "source": [
    "df_B.Same_optimal_allocation_same_family.value_counts()"
   ]
  },
  {
   "cell_type": "code",
   "execution_count": 178,
   "metadata": {
    "collapsed": false
   },
   "outputs": [
    {
     "data": {
      "text/plain": [
       "False    24045\n",
       "dtype: int64"
      ]
     },
     "execution_count": 178,
     "metadata": {},
     "output_type": "execute_result"
    }
   ],
   "source": [
    "df_B[df_B.Same_optimal_allocation_same_family.astype(\"bool\")].Family_child_gain.value_counts(dropna = False)"
   ]
  },
  {
   "cell_type": "code",
   "execution_count": 179,
   "metadata": {
    "collapsed": false,
    "scrolled": false
   },
   "outputs": [
    {
     "name": "stdout",
     "output_type": "stream",
     "text": [
      "(32272, 444)\n",
      "                            OLS Regression Results                            \n",
      "==============================================================================\n",
      "Dep. Variable:            Delta_hello   R-squared:                       0.003\n",
      "Model:                            OLS   Adj. R-squared:                  0.002\n",
      "Method:                 Least Squares   F-statistic:                     4.008\n",
      "Date:                Wed, 24 Apr 2019   Prob (F-statistic):           1.33e-06\n",
      "Time:                        15:24:40   Log-Likelihood:                 4729.0\n",
      "No. Observations:               15700   AIC:                            -9430.\n",
      "Df Residuals:                   15686   BIC:                            -9323.\n",
      "Df Model:                          13                                         \n",
      "Covariance Type:            nonrobust                                         \n",
      "=======================================================================================================\n",
      "                                          coef    std err          t      P>|t|      [95.0% Conf. Int.]\n",
      "-------------------------------------------------------------------------------------------------------\n",
      "Age_moyen_2013                          0.0005      0.002      0.212      0.832        -0.004     0.005\n",
      "Age_moyen_squared_2013                8.99e-08   3.03e-05      0.003      0.998     -5.94e-05  5.96e-05\n",
      "Ecart_Age_en_valeur_absolue_2013       -0.0006      0.000     -1.179      0.239        -0.001     0.000\n",
      "Rni_2013                            -7.731e-07   2.43e-07     -3.182      0.001     -1.25e-06 -2.97e-07\n",
      "Rni_2014                             1.071e-06   2.34e-07      4.585      0.000      6.13e-07  1.53e-06\n",
      "deux_enfants_2013                       0.0014      0.003      0.460      0.645        -0.005     0.007\n",
      "trois_enfants_et_plus_2013              0.0018      0.007      0.271      0.787        -0.011     0.015\n",
      "Same_optimal_allocation_same_family    -0.0115      0.016     -0.717      0.474        -0.043     0.020\n",
      "Family_child_gain                   -8.873e-18   1.29e-17     -0.687      0.492     -3.42e-17  1.64e-17\n",
      "Family_child_loss                   -3.529e-18   5.83e-18     -0.606      0.545     -1.49e-17  7.89e-18\n",
      "Intersect                              -0.0115      0.016     -0.717      0.474        -0.043     0.020\n",
      "No_education_femme_2013                -0.0080      0.006     -1.424      0.154        -0.019     0.003\n",
      "Vocational_education_femme_2013        -0.0030      0.005     -0.674      0.500        -0.012     0.006\n",
      "Licence_education_femme_2013            0.0013      0.005      0.260      0.795        -0.009     0.011\n",
      "Master_PhD_education_femme_2013        -0.0017      0.006     -0.312      0.755        -0.013     0.009\n",
      "No_education_homme_2013                -0.0024      0.005     -0.453      0.650        -0.013     0.008\n",
      "Vocational_education_homme_2013        -0.0073      0.005     -1.595      0.111        -0.016     0.002\n",
      "Licence_education_homme_2013            0.0015      0.005      0.286      0.775        -0.009     0.012\n",
      "Master_PhD_education_homme_2013        -0.0034      0.006     -0.570      0.569        -0.015     0.008\n",
      "==============================================================================\n",
      "Omnibus:                     4322.727   Durbin-Watson:                   1.993\n",
      "Prob(Omnibus):                  0.000   Jarque-Bera (JB):           282656.179\n",
      "Skew:                          -0.426   Prob(JB):                         0.00\n",
      "Kurtosis:                      23.769   Cond. No.                     2.39e+21\n",
      "==============================================================================\n",
      "\n",
      "Warnings:\n",
      "[1] Standard Errors assume that the covariance matrix of the errors is correctly specified.\n",
      "[2] The smallest eigenvalue is 9.1e-30. This might indicate that there are\n",
      "strong multicollinearity problems or that the design matrix is singular.\n"
     ]
    }
   ],
   "source": [
    "for df_temp in [df_B]:\n",
    "    print df_temp.shape\n",
    "    df_temp = df_temp#.query(\"(Fiscal_loss_2014>0)\")\n",
    "    df_temp.loc[:,\"Intersect\"]=  np.zeros(df_temp.shape[0])+1\n",
    "    df_temp = df_temp[df_temp[diploma_4_categories_2].sum(axis = 1) == 2]\n",
    "    df_temp = df_temp.query(\"Same_optimal_allocation_same_family==True\")\n",
    "    OLS = sm.OLS(df_temp[\"Delta_hello\"], \n",
    "                      df_temp[[\"Age_moyen_2013\", \"Age_moyen_squared_2013\", \"Ecart_Age_en_valeur_absolue_2013\",\"Rni_2013\",\"Rni_2014\",\n",
    "                               \"deux_enfants_2013\", \"trois_enfants_et_plus_2013\",\"Same_optimal_allocation_same_family\", \n",
    "                               \"Family_child_gain\", \"Family_child_loss\",\n",
    "                 'Intersect' ]+diploma_4_categories_2].astype(\"float\")).fit()\n",
    "    print OLS.summary()"
   ]
  },
  {
   "cell_type": "code",
   "execution_count": 180,
   "metadata": {
    "collapsed": true
   },
   "outputs": [],
   "source": []
  },
  {
   "cell_type": "code",
   "execution_count": 180,
   "metadata": {
    "collapsed": true
   },
   "outputs": [],
   "source": []
  },
  {
   "cell_type": "code",
   "execution_count": 180,
   "metadata": {
    "collapsed": false
   },
   "outputs": [
    {
     "name": "stdout",
     "output_type": "stream",
     "text": [
      "('now: ', datetime.datetime(2019, 4, 24, 15, 24, 40, 290000))\n",
      "('execution_time: ', datetime.timedelta(0, 13, 797000))\n"
     ]
    }
   ],
   "source": [
    "stop_time = datetime.datetime.now(); print(\"now: \",stop_time);\n",
    "execution_time = stop_time - start_time; print(\"execution_time: \",execution_time)\n",
    "stop_time = start_time\n",
    "#clear  memory\n",
    "%reset -f"
   ]
  },
  {
   "cell_type": "code",
   "execution_count": 181,
   "metadata": {
    "collapsed": true
   },
   "outputs": [],
   "source": []
  }
 ],
 "metadata": {
  "kernelspec": {
   "display_name": "Python 2",
   "language": "python",
   "name": "python2"
  },
  "language_info": {
   "codemirror_mode": {
    "name": "ipython",
    "version": 2
   },
   "file_extension": ".py",
   "mimetype": "text/x-python",
   "name": "python",
   "nbconvert_exporter": "python",
   "pygments_lexer": "ipython2",
   "version": "2.7.10"
  }
 },
 "nbformat": 4,
 "nbformat_minor": 0
}