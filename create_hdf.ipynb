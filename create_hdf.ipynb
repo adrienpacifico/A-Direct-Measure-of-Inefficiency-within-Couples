{
 "cells": [
  {
   "cell_type": "code",
   "execution_count": 1,
   "metadata": {
    "collapsed": false,
    "scrolled": true
   },
   "outputs": [
    {
     "name": "stdout",
     "output_type": "stream",
     "text": [
      "2019-04-19 17:28:48.388000\n"
     ]
    }
   ],
   "source": [
    "import datetime\n",
    "start_time = datetime.datetime.now(); print(start_time)"
   ]
  },
  {
   "cell_type": "code",
   "execution_count": 2,
   "metadata": {
    "collapsed": false,
    "scrolled": false
   },
   "outputs": [
    {
     "name": "stdout",
     "output_type": "stream",
     "text": [
      "2019-04-19 17:28:51.491000\n",
      "start with: EDP_BE2015_DECES                .CSV\n",
      "****************************************"
     ]
    },
    {
     "name": "stderr",
     "output_type": "stream",
     "text": [
      "C:\\Users\\IMPTEMP_A_PACIFIC\\Desktop\\WinPython-64bit-2.7.10.2\\WinPython-64bit-2.7.10.2\\python-2.7.10.amd64\\lib\\site-packages\\pandas\\io\\pytables.py:2577: PerformanceWarning: \n",
      "your performance may suffer as PyTables will pickle object types that it cannot\n",
      "map directly to c-types [inferred_type->mixed,key->block1_values] [items->['ID_DIFF', 'ID_EVT_DIFF', 'EVT_TYPE', 'DEF_IND_NAI_LIEU_DEPCOM', 'DEF_DEC_LIEU_DEPCOM', 'DEF_DOM_LIEU_DEPCOM', 'CTX_TYPE_LIEU', 'DEF_DEC_MAT_ETAT', 'DEF_IND_SEXE', 'DEF_IND_NAI_DATE', 'DEF_DEC_DATE', 'DEF_SSP_PRO_CODE', 'DEF_NAT_CODE']]\n",
      "\n",
      "  warnings.warn(ws, PerformanceWarning)\n",
      "C:\\Users\\IMPTEMP_A_PACIFIC\\Desktop\\WinPython-64bit-2.7.10.2\\WinPython-64bit-2.7.10.2\\python-2.7.10.amd64\\lib\\site-packages\\pandas\\io\\pytables.py:2577: PerformanceWarning: \n",
      "your performance may suffer as PyTables will pickle object types that it cannot\n",
      "map directly to c-types [inferred_type->mixed,key->block2_values] [items->['ID_DIFF', 'ID_EVT_DIFF', 'EVT_TYPE', 'OPE_TYPE', 'ENF_IND_SEXE', 'ENF_IND_NAI_DATE', 'ENF_IND_NAI_LIEU_DEPCOM', 'PERE_IND_NAI_DATE', 'MERE_IND_NAI_DATE', 'PERE_IND_NAI_LIEU_DEPCOM', 'MERE_IND_NAI_LIEU_DEPCOM', 'PERE_ADR_LIEU_DEPCOM', 'MERE_ADR_LIEU_DEPCOM', 'ADRDOMPAR', 'PERE_NAT_CODE', 'MERE_NAT_CODE', 'PERE_CS_CODE', 'MERE_CS_CODE', 'MAR_DATE', 'MAR_LIEU_DEPCOM', 'CTX_MERE_VIVANT_ENF_PREC_NBR', 'CTX_NAV_PREC_DATE', 'CTX_CATACC']]\n",
      "\n",
      "  warnings.warn(ws, PerformanceWarning)\n"
     ]
    },
    {
     "name": "stdout",
     "output_type": "stream",
     "text": [
      "\n",
      "1 / 52 DECES completed at: 2019-04-19 17:28:55.611000\n",
      "  \n",
      "With 358338 rows\n",
      "start with: EDP_BE2015_DESCENDANCE          .CSV\n",
      "****************************************\n",
      "2 / 52 DESCENDANCE completed at: 2019-04-19 17:29:19.850000\n",
      "  \n",
      "With 1320391 rows\n",
      "start with: EDP_BE2015_EAR2004_FAMILLE      .CSV\n",
      "****************************************\n",
      "3 / 52 EAR2004_FAMILLE completed at: 2019-04-19 17:29:20.060000\n",
      "  \n",
      "With 48316 rows\n",
      "start with: EDP_BE2015_EAR2004_INDIVIDU     .CSV\n",
      "****************************************\n",
      "4 / 52 EAR2004_INDIVIDU completed at: 2019-04-19 17:29:29.077000\n",
      "  \n",
      "With 277933 rows\n",
      "start with: EDP_BE2015_EAR2004_LOGEMENT     .CSV\n",
      "****************************************\n",
      "5 / 52 EAR2004_LOGEMENT completed at: 2019-04-19 17:29:30.507000\n",
      "  \n",
      "With 89892 rows\n",
      "start with: EDP_BE2015_EAR2005_FAMILLE      .CSV\n",
      "****************************************"
     ]
    },
    {
     "name": "stderr",
     "output_type": "stream",
     "text": [
      "C:\\Users\\IMPTEMP_A_PACIFIC\\Desktop\\WinPython-64bit-2.7.10.2\\WinPython-64bit-2.7.10.2\\python-2.7.10.amd64\\lib\\site-packages\\pandas\\io\\pytables.py:2577: PerformanceWarning: \n",
      "your performance may suffer as PyTables will pickle object types that it cannot\n",
      "map directly to c-types [inferred_type->mixed,key->block2_values] [items->['ID_FAM_DIFF', 'ID_LOG_DIFF', 'ID_DIFF', 'ID_BI_DIFF', 'ANAR', 'APAF', 'ARRIV', 'CIL', 'CPOP', 'CRP_C_C', 'CRP_C_R', 'CS', 'DCETUF', 'DCLT', 'DCNAI', 'DCRAN', 'DEPCOM_CODE', 'DIPL', 'DISTIL_CODE', 'EMPL', 'ETUD', 'FIL', 'ILETUD', 'ILTD', 'IMMI', 'INATCC', 'IPRM', 'IRAND', 'IRIS_ILOT', 'LIENF', 'LPRF', 'LPRM', 'MOCO', 'MODV', 'NAF', 'NATE', 'NATE_C_C', 'NATN', 'NATN_C_C', 'NUMF', 'PNAI', 'PNAI_C_C', 'POSP', 'PRAN', 'PRAN_C_C', 'PROF', 'RECH', 'REGNAI', 'TP']]\n",
      "\n",
      "  warnings.warn(ws, PerformanceWarning)\n",
      "C:\\Users\\IMPTEMP_A_PACIFIC\\Desktop\\WinPython-64bit-2.7.10.2\\WinPython-64bit-2.7.10.2\\python-2.7.10.amd64\\lib\\site-packages\\pandas\\io\\pytables.py:2577: PerformanceWarning: \n",
      "your performance may suffer as PyTables will pickle object types that it cannot\n",
      "map directly to c-types [inferred_type->mixed,key->block2_values] [items->['ID_FAM_DIFF', 'ID_LOG_DIFF', 'ID_DIFF', 'ID_BI_DIFF', 'ANAR', 'APAF', 'ARRIV', 'CIL', 'CPOP', 'CRP_C_C', 'CRP_C_R', 'CS', 'DCETUF', 'DCLT', 'DCNAI', 'DCRAN', 'DEPCOM_CODE', 'DIPL', 'DISTIL_CODE', 'EMPL', 'ETUD', 'FIL', 'ILETUD', 'ILTD', 'IMMI', 'INATCC', 'IPRM', 'IRAND', 'IRIS_ILOT', 'LIENF', 'LPRF', 'LPRM', 'MOCO', 'MODV', 'NAF', 'NATE', 'NATE_C_C', 'NATN', 'NATN_C_C', 'NUMF', 'PNAI', 'PNAI_C_C', 'POSP', 'PRAN', 'PROF', 'RECH', 'REGNAI', 'TP']]\n",
      "\n",
      "  warnings.warn(ws, PerformanceWarning)\n"
     ]
    },
    {
     "name": "stdout",
     "output_type": "stream",
     "text": [
      "\n",
      "6 / 52 EAR2005_FAMILLE completed at: 2019-04-19 17:29:31.198000\n",
      "  \n",
      "With 78041 rows\n",
      "start with: EDP_BE2015_EAR2005_INDIVIDU     .CSV\n",
      "****************************************\n",
      "7 / 52 EAR2005_INDIVIDU completed at: 2019-04-19 17:29:40.422000\n",
      "  \n",
      "With 283781 rows\n",
      "start with: EDP_BE2015_EAR2005_LOGEMENT     .CSV\n",
      "****************************************\n",
      "8 / 52 EAR2005_LOGEMENT completed at: 2019-04-19 17:29:41.933000\n",
      "  \n",
      "With 91733 rows\n",
      "start with: EDP_BE2015_EAR2006_FAMILLE      .CSV\n",
      "****************************************\n",
      "9 / 52 EAR2006_FAMILLE completed at: 2019-04-19 17:29:42.373000\n",
      "  \n",
      "With 78227 rows\n",
      "start with: EDP_BE2015_EAR2006_INDIVIDU     .CSV\n",
      "****************************************\n",
      "10 / 52 EAR2006_INDIVIDU completed at: 2019-04-19 17:29:51.725000\n",
      "  \n",
      "With 287786 rows\n",
      "start with: EDP_BE2015_EAR2006_LOGEMENT     .CSV\n",
      "****************************************\n",
      "11 / 52 EAR2006_LOGEMENT completed at: 2019-04-19 17:29:53.140000\n",
      "  \n",
      "With 92761 rows\n",
      "start with: EDP_BE2015_EAR2007_FAMILLE      .CSV\n",
      "****************************************\n",
      "12 / 52 EAR2007_FAMILLE completed at: 2019-04-19 17:29:53.499000\n",
      "  \n",
      "With 78230 rows\n",
      "start with: EDP_BE2015_EAR2007_INDIVIDU     .CSV\n",
      "****************************************\n",
      "13 / 52 EAR2007_INDIVIDU completed at: 2019-04-19 17:30:02.683000\n",
      "  \n",
      "With 283228 rows\n",
      "start with: EDP_BE2015_EAR2007_LOGEMENT     .CSV\n",
      "****************************************\n",
      "14 / 52 EAR2007_LOGEMENT completed at: 2019-04-19 17:30:04.149000\n",
      "  \n",
      "With 92892 rows\n",
      "start with: EDP_BE2015_EAR2008_FAMILLE      .CSV\n",
      "****************************************\n",
      "15 / 52 EAR2008_FAMILLE completed at: 2019-04-19 17:30:05.478000\n",
      "  \n",
      "With 272545 rows\n",
      "start with: EDP_BE2015_EAR2008_INDIVIDU     .CSV\n",
      "****************************************\n",
      "16 / 52 EAR2008_INDIVIDU completed at: 2019-04-19 17:30:37.581000\n",
      "  \n",
      "With 976703 rows\n",
      "start with: EDP_BE2015_EAR2008_LOGEMENT     .CSV\n",
      "****************************************\n",
      "17 / 52 EAR2008_LOGEMENT completed at: 2019-04-19 17:30:42.491000\n",
      "  \n",
      "With 318891 rows\n",
      "start with: EDP_BE2015_EAR2009_FAMILLE      .CSV\n",
      "****************************************\n",
      "18 / 52 EAR2009_FAMILLE completed at: 2019-04-19 17:30:43.969000\n",
      "  \n",
      "With 307169 rows\n",
      "start with: EDP_BE2015_EAR2009_INDIVIDU     .CSV\n",
      "****************************************\n",
      "19 / 52 EAR2009_INDIVIDU completed at: 2019-04-19 17:31:20.965000\n",
      "  \n",
      "With 1100141 rows\n",
      "start with: EDP_BE2015_EAR2009_LOGEMENT     .CSV\n",
      "****************************************\n",
      "20 / 52 EAR2009_LOGEMENT completed at: 2019-04-19 17:31:26.830000\n",
      "  \n",
      "With 364051 rows\n",
      "start with: EDP_BE2015_EAR2010_FAMILLE      .CSV\n",
      "****************************************\n",
      "21 / 52 EAR2010_FAMILLE completed at: 2019-04-19 17:31:27.500000\n",
      "  \n",
      "With 307974 rows\n",
      "start with: EDP_BE2015_EAR2010_INDIVIDU     .CSV\n",
      "****************************************\n",
      "22 / 52 EAR2010_INDIVIDU completed at: 2019-04-19 17:31:58.627000\n",
      "  \n",
      "With 1101133 rows\n",
      "start with: EDP_BE2015_EAR2010_LOGEMENT     .CSV\n",
      "****************************************\n",
      "23 / 52 EAR2010_LOGEMENT completed at: 2019-04-19 17:32:05.363000\n",
      "  \n",
      "With 365338 rows\n",
      "start with: EDP_BE2015_EAR2011_FAMILLE      .CSV\n",
      "****************************************\n",
      "24 / 52 EAR2011_FAMILLE completed at: 2019-04-19 17:32:06.286000\n",
      "  \n",
      "With 304799 rows\n",
      "start with: EDP_BE2015_EAR2011_INDIVIDU     .CSV\n",
      "****************************************\n",
      "25 / 52 EAR2011_INDIVIDU completed at: 2019-04-19 17:32:37.193000\n",
      "  \n",
      "With 1103412 rows\n",
      "start with: EDP_BE2015_EAR2011_LOGEMENT     .CSV\n",
      "****************************************\n",
      "26 / 52 EAR2011_LOGEMENT completed at: 2019-04-19 17:32:43.301000\n",
      "  \n",
      "With 365353 rows\n",
      "start with: EDP_BE2015_EAR2012_FAMILLE      .CSV\n",
      "****************************************"
     ]
    },
    {
     "name": "stderr",
     "output_type": "stream",
     "text": [
      "C:\\Users\\IMPTEMP_A_PACIFIC\\Desktop\\WinPython-64bit-2.7.10.2\\WinPython-64bit-2.7.10.2\\python-2.7.10.amd64\\lib\\site-packages\\pandas\\io\\pytables.py:2577: PerformanceWarning: \n",
      "your performance may suffer as PyTables will pickle object types that it cannot\n",
      "map directly to c-types [inferred_type->mixed,key->block2_values] [items->['ANAR', 'APAF', 'ARRIV', 'CIL', 'CPOP', 'CRP_C_C', 'CRP_C_R', 'CS', 'DCETUF', 'DCLT', 'DCNAI', 'DCRAN', 'DEPCOM_CODE', 'DIPL', 'DISTIL_CODE', 'EMPL', 'ETUD', 'FIL', 'ILETUD', 'ILTD', 'IMMI', 'INATCC', 'IPRM', 'IRAND', 'IRIS_ILOT', 'LIENF', 'LPRF', 'LPRM', 'MOCO', 'MODV', 'NAF', 'NATE', 'NATE_C_C', 'NATN', 'NATN_C_C', 'NUMF', 'PNAI', 'PNAI_C_C', 'POSP', 'PRAN', 'PRAN_C_C', 'PROF', 'RECH', 'REGNAI', 'TP']]\n",
      "\n",
      "  warnings.warn(ws, PerformanceWarning)\n",
      "C:\\Users\\IMPTEMP_A_PACIFIC\\Desktop\\WinPython-64bit-2.7.10.2\\WinPython-64bit-2.7.10.2\\python-2.7.10.amd64\\lib\\site-packages\\pandas\\io\\pytables.py:2577: PerformanceWarning: \n",
      "your performance may suffer as PyTables will pickle object types that it cannot\n",
      "map directly to c-types [inferred_type->mixed,key->block2_values] [items->['ANAR', 'APAF', 'ARRIV', 'CIL', 'CPOP', 'CRP_C_C', 'CRP_C_R', 'CS', 'DCETUF', 'DCLT', 'DCNAI', 'DCRAN', 'DEPCOM_CODE', 'DIPL', 'DISTIL_CODE', 'EMPL', 'ETUD', 'FIL', 'ILETUD', 'ILTD', 'IMMI', 'INATCC', 'IPRM', 'IRAND', 'IRIS_ILOT', 'LIENF', 'LPRF', 'LPRM', 'MOCO', 'MODV', 'NAF', 'NATE', 'NATE_C_C', 'NATN', 'NATN_C_C', 'NUMF', 'PNAI', 'PNAI_C_C', 'POSP', 'PRAN', 'PROF', 'RECH', 'REGNAI', 'TP']]\n",
      "\n",
      "  warnings.warn(ws, PerformanceWarning)\n"
     ]
    },
    {
     "name": "stdout",
     "output_type": "stream",
     "text": [
      "\n",
      "27 / 52 EAR2012_FAMILLE completed at: 2019-04-19 17:32:44.029000\n",
      "  \n",
      "With 304623 rows\n",
      "start with: EDP_BE2015_EAR2012_INDIVIDU     .CSV\n",
      "****************************************\n",
      "28 / 52 EAR2012_INDIVIDU completed at: 2019-04-19 17:33:14.380000\n",
      "  \n",
      "With 1088188 rows\n",
      "start with: EDP_BE2015_EAR2012_LOGEMENT     .CSV\n",
      "****************************************\n",
      "29 / 52 EAR2012_LOGEMENT completed at: 2019-04-19 17:33:20.485000\n",
      "  \n",
      "With 364466 rows\n",
      "start with: EDP_BE2015_EAR2013_FAMILLE      .CSV\n",
      "****************************************\n",
      "30 / 52 EAR2013_FAMILLE completed at: 2019-04-19 17:33:21.218000\n",
      "  \n",
      "With 307313 rows\n",
      "start with: EDP_BE2015_EAR2013_INDIVIDU     .CSV\n",
      "****************************************\n",
      "31 / 52 EAR2013_INDIVIDU completed at: 2019-04-19 17:33:52.166000\n",
      "  \n",
      "With 1095329 rows\n",
      "start with: EDP_BE2015_EAR2013_LOGEMENT     .CSV\n",
      "****************************************\n",
      "32 / 52 EAR2013_LOGEMENT completed at: 2019-04-19 17:33:58.368000\n",
      "  \n",
      "With 368097 rows\n",
      "start with: EDP_BE2015_EAR2014_FAMILLE      .CSV\n",
      "****************************************\n",
      "33 / 52 EAR2014_FAMILLE completed at: 2019-04-19 17:33:59.097000\n",
      "  \n",
      "With 306704 rows\n",
      "start with: EDP_BE2015_EAR2014_INDIVIDU     .CSV\n",
      "****************************************\n",
      "34 / 52 EAR2014_INDIVIDU completed at: 2019-04-19 17:34:30.441000\n",
      "  \n",
      "With 1094413 rows\n",
      "start with: EDP_BE2015_EAR2014_LOGEMENT     .CSV\n",
      "****************************************\n",
      "35 / 52 EAR2014_LOGEMENT completed at: 2019-04-19 17:34:36.593000\n",
      "  \n",
      "With 368049 rows\n",
      "start with: EDP_BE2015_EAR2015_FAMILLE      .CSV\n",
      "****************************************\n",
      "36 / 52 EAR2015_FAMILLE completed at: 2019-04-19 17:34:37.338000\n",
      "  \n",
      "With 307607 rows\n",
      "start with: EDP_BE2015_EAR2015_INDIVIDU     .CSV\n",
      "****************************************\n",
      "37 / 52 EAR2015_INDIVIDU completed at: 2019-04-19 17:35:07.858000\n",
      "  \n",
      "With 1096137 rows\n",
      "start with: EDP_BE2015_EAR2015_LOGEMENT     .CSV\n",
      "****************************************\n",
      "38 / 52 EAR2015_LOGEMENT completed at: 2019-04-19 17:35:13.949000\n",
      "  \n",
      "With 369412 rows\n",
      "start with: EDP_BE2015_FE                   .CSV\n",
      "****************************************"
     ]
    },
    {
     "name": "stderr",
     "output_type": "stream",
     "text": [
      "C:\\Users\\IMPTEMP_A_PACIFIC\\Desktop\\WinPython-64bit-2.7.10.2\\WinPython-64bit-2.7.10.2\\python-2.7.10.amd64\\lib\\site-packages\\pandas\\io\\pytables.py:2577: PerformanceWarning: \n",
      "your performance may suffer as PyTables will pickle object types that it cannot\n",
      "map directly to c-types [inferred_type->mixed,key->block2_values] [items->['ANAR', 'APAF', 'ARRIV', 'CIL', 'COUPLE', 'CRP_C_C', 'CRP_C_R', 'CS', 'DCETUF', 'DCLT', 'DCNAI', 'DCRAN', 'DEPCOM_CODE', 'DIPL', 'EMPL', 'ETUD', 'FIL', 'ILETUD', 'ILTD', 'IMMI', 'INAT', 'INATCC', 'IPRM', 'IRAND', 'IRIS_ILOT', 'LIENF', 'LPRF', 'LPRM', 'MOCO', 'MODV', 'NAF', 'NATE', 'NATE_C_C', 'NATN', 'NATN_C_C', 'NUMF', 'PNAI', 'PNAI_C_C', 'POSP', 'PRAN', 'PRAN_C_C', 'PROF', 'RECH', 'REGRAN', 'TP', 'TYPACT']]\n",
      "\n",
      "  warnings.warn(ws, PerformanceWarning)\n",
      "C:\\Users\\IMPTEMP_A_PACIFIC\\Desktop\\WinPython-64bit-2.7.10.2\\WinPython-64bit-2.7.10.2\\python-2.7.10.amd64\\lib\\site-packages\\pandas\\io\\pytables.py:2577: PerformanceWarning: \n",
      "your performance may suffer as PyTables will pickle object types that it cannot\n",
      "map directly to c-types [inferred_type->mixed,key->block1_values] [items->['ID_DIFF', 'NAI_DATE', 'NAI_LIEU', 'SEXE', 'DEC_DATE', 'DEC_LIEU', 'MERE_LIEU_NAIS_DEPCOM', 'PERE_LIEU_NAIS_DEPCOM', 'MERE_LIEU_NAIS_INDIC', 'PERE_LIEU_NAIS_INDIC', 'MERE_IND_NAIS_DATE', 'PERE_IND_NAIS_DATE', 'IND_JUMEAU_INDIC']]\n",
      "\n",
      "  warnings.warn(ws, PerformanceWarning)\n"
     ]
    },
    {
     "name": "stdout",
     "output_type": "stream",
     "text": [
      "\n",
      "39 / 52 FE completed at: 2019-04-19 17:35:26.792000\n",
      "  \n",
      "With 4261066 rows\n",
      "start with: EDP_BE2015_INDIVIDU             .CSV\n",
      "****************************************\n",
      "40 / 52 INDIVIDU completed at: 2019-04-19 17:36:07.964000\n",
      "  \n",
      "With 3571655 rows\n",
      "start with: EDP_BE2015_MARIAGE              .CSV\n",
      "****************************************"
     ]
    },
    {
     "name": "stderr",
     "output_type": "stream",
     "text": [
      "C:\\Users\\IMPTEMP_A_PACIFIC\\Desktop\\WinPython-64bit-2.7.10.2\\WinPython-64bit-2.7.10.2\\python-2.7.10.amd64\\lib\\site-packages\\pandas\\io\\pytables.py:2577: PerformanceWarning: \n",
      "your performance may suffer as PyTables will pickle object types that it cannot\n",
      "map directly to c-types [inferred_type->mixed,key->block2_values] [items->['ID_DIFF', 'ID_EVT_DIFF', 'EVT_TYPE', 'MAR_LIEU_DEPCOM', 'MAR_DATE', 'EDP_SEXE', 'CONJ_SEXE', 'EDP_NAI_DATE', 'CONJ_NAI_DATE', 'EDP_NAI_LIEU_DEPCOM', 'CONJ_NAI_LIEU_DEPCOM', 'EDP_NAT_CODE', 'CONJ_NAT_CODE', 'EDP_AVANT_MAT_ETAT', 'CONJ_AVANT_MAT_ETAT', 'EDP_MAT_ETAT_PREC_DATE', 'CONJ_MAT_ETAT_PREC_DATE', 'CTX_LIEU_DEPCOM']]\n",
      "\n",
      "  warnings.warn(ws, PerformanceWarning)\n",
      "C:\\Users\\IMPTEMP_A_PACIFIC\\Desktop\\WinPython-64bit-2.7.10.2\\WinPython-64bit-2.7.10.2\\python-2.7.10.amd64\\lib\\site-packages\\pandas\\io\\pytables.py:2577: PerformanceWarning: \n",
      "your performance may suffer as PyTables will pickle object types that it cannot\n",
      "map directly to c-types [inferred_type->mixed,key->block2_values] [items->['ID_DIFF', 'ID_EVT_DIFF', 'EVT_TYPE', 'ENF_IND_SEXE', 'ENF_IND_NAI_DATE', 'ENF_IND_NAI_LIEU_DEPCOM', 'PERE_IND_NAI_DATE', 'MERE_IND_NAI_DATE', 'PERE_IND_NAI_LIEU_DEPCOM', 'MERE_IND_NAI_LIEU_DEPCOM', 'PERE_ADR_LIEU_DEPCOM', 'MERE_ADR_LIEU_DEPCOM', 'ADRDOMPAR', 'PERE_NAT_CODE', 'MERE_NAT_CODE', 'PERE_CS_CODE', 'MERE_CS_CODE', 'MAR_DATE', 'MAR_LIEU_DEPCOM', 'CTX_MERE_VIVANT_ENF_PREC_NBR', 'CTX_NAV_PREC_DATE', 'CTX_CATACC']]\n",
      "\n",
      "  warnings.warn(ws, PerformanceWarning)\n"
     ]
    },
    {
     "name": "stdout",
     "output_type": "stream",
     "text": [
      "\n",
      "41 / 52 MARIAGE completed at: 2019-04-19 17:36:14.883000\n",
      "  \n",
      "With 458354 rows\n",
      "start with: EDP_BE2015_NAISSANCE            .CSV\n",
      "****************************************\n",
      "42 / 52 NAISSANCE completed at: 2019-04-19 17:36:27.745000\n",
      "  \n",
      "With 712962 rows\n",
      "start with: EDP_BE2015_RP1968               .CSV\n",
      "****************************************"
     ]
    },
    {
     "name": "stderr",
     "output_type": "stream",
     "text": [
      "C:\\Users\\IMPTEMP_A_PACIFIC\\Desktop\\WinPython-64bit-2.7.10.2\\WinPython-64bit-2.7.10.2\\python-2.7.10.amd64\\lib\\site-packages\\pandas\\io\\pytables.py:2577: PerformanceWarning: \n",
      "your performance may suffer as PyTables will pickle object types that it cannot\n",
      "map directly to c-types [inferred_type->mixed,key->block2_values] [items->['ID_DIFF', 'ID_EVT_DIFF', 'NUMBI68', 'CP68', 'L68', 'ILN68', 'DN68', 'N68', 'CRA68', 'AI68', 'CS68', 'AE68', 'DLT68', 'CLT68', 'D68', 'C68', 'FJ68', 'ILT68', 'MT68', 'P68', 'QLT68', 'SE68']]\n",
      "\n",
      "  warnings.warn(ws, PerformanceWarning)\n",
      "C:\\Users\\IMPTEMP_A_PACIFIC\\Desktop\\WinPython-64bit-2.7.10.2\\WinPython-64bit-2.7.10.2\\python-2.7.10.amd64\\lib\\site-packages\\pandas\\io\\pytables.py:2577: PerformanceWarning: \n",
      "your performance may suffer as PyTables will pickle object types that it cannot\n",
      "map directly to c-types [inferred_type->mixed,key->block2_values] [items->['ID_DIFF', 'ID_EVT_DIFF', 'NUMBI75', 'L75', 'DN75', 'PN_75', 'N75', 'DRA75', 'CRA75', 'TURA_75', 'DEG75', 'CS75', 'AE75', 'ST75', 'DLT75', 'CLT75', 'STDF_75', 'STDCJ_75', 'PNCJ_75', 'AICCJ_75', 'CRACJ_75', 'PRACJ_75']]\n",
      "\n",
      "  warnings.warn(ws, PerformanceWarning)\n"
     ]
    },
    {
     "name": "stdout",
     "output_type": "stream",
     "text": [
      "\n",
      "43 / 52 RP1968 completed at: 2019-04-19 17:36:36.925000\n",
      "  \n",
      "With 484308 rows\n",
      "start with: EDP_BE2015_RP1975               .CSV\n",
      "****************************************\n",
      "44 / 52 RP1975 completed at: 2019-04-19 17:36:52.116000\n",
      "  \n",
      "With 527025 rows\n",
      "start with: EDP_BE2015_RP1982               .CSV\n",
      "****************************************"
     ]
    },
    {
     "name": "stderr",
     "output_type": "stream",
     "text": [
      "C:\\Users\\IMPTEMP_A_PACIFIC\\Desktop\\WinPython-64bit-2.7.10.2\\WinPython-64bit-2.7.10.2\\python-2.7.10.amd64\\lib\\site-packages\\pandas\\io\\pytables.py:2577: PerformanceWarning: \n",
      "your performance may suffer as PyTables will pickle object types that it cannot\n",
      "map directly to c-types [inferred_type->mixed,key->block2_values] [items->['ID_DIFF', 'ID_EVT_DIFF', 'NUMBI82', 'ECH82', 'M82', 'DN82', 'RN_82', 'PN_82', 'IN82', 'N82', 'IRA82', 'DRA82', 'PRA_82', 'TURA_82', 'CM1_82', 'CM2_82', 'DES82', 'DIP_82', 'CS82', 'AE82', 'DLT82', 'DLT_82', 'CLT82', 'CLT_82', 'APRO7582', 'NPF_82', 'NMF_82', 'STDPF_82', 'STDMF_82', 'D82', 'D_82']]\n",
      "\n",
      "  warnings.warn(ws, PerformanceWarning)\n",
      "C:\\Users\\IMPTEMP_A_PACIFIC\\Desktop\\WinPython-64bit-2.7.10.2\\WinPython-64bit-2.7.10.2\\python-2.7.10.amd64\\lib\\site-packages\\pandas\\io\\pytables.py:2577: PerformanceWarning: \n",
      "your performance may suffer as PyTables will pickle object types that it cannot\n",
      "map directly to c-types [inferred_type->mixed,key->block2_values] [items->['ID_DIFF', 'ID_EVT_DIFF', 'NUMBI90', 'TYPBI90', 'M90', 'AN90', 'MN90', 'JN90', 'ILN90', 'DN90', 'DN_90', 'PN90', 'IN90', 'NC_90', 'IRA90', 'DRA_90', 'CRA_90', 'CCRA_90', 'CM290', 'DIP_90', 'RT90', 'DLT_90', 'CS_90', 'P90', 'INAC90', 'NBS90', 'CPF90', 'PA90', 'PUB90', 'SITP90', 'TRAP90', 'TTRAV90', 'ILNM90', 'DNM90', 'DNPF_90', 'DNMF_90', 'DRAPF_90', 'DRAMF_90', 'MN02E90', 'MN03E90', 'MN04E90', 'MN05E90', 'MN06E90', 'MN07E90', 'MN08E90', 'ILN01E90', 'ILN02E90', 'ILN03E90', 'ILN04E90', 'ILN05E90', 'ILN06E90', 'ILN07E90', 'ILN08E90', 'ILN10E90', 'DN01E90', 'DN02E90', 'DN03E90', 'DN04E90', 'DN05E90', 'DN06E90', 'DN07E90', 'D_90', 'TU_90', 'TYPO33']]\n",
      "\n",
      "  warnings.warn(ws, PerformanceWarning)\n"
     ]
    },
    {
     "name": "stdout",
     "output_type": "stream",
     "text": [
      "\n",
      "45 / 52 RP1982 completed at: 2019-04-19 17:37:05.275000\n",
      "  \n",
      "With 552711 rows\n",
      "start with: EDP_BE2015_RP1990               .CSV\n",
      "****************************************\n",
      "46 / 52 RP1990 completed at: 2019-04-19 17:37:48.842000\n",
      "  \n",
      "With 586037 rows\n",
      "2019-04-19 17:37:48.846000\n"
     ]
    }
   ],
   "source": [
    "# -*- coding: utf-8 -*-\n",
    "\"\"\"\n",
    "\n",
    "\n",
    "@author: IMPTEMP_A_PACIFIC\n",
    "\"\"\"\n",
    "import csv\n",
    "import datetime\n",
    "import gc\n",
    "from os import listdir\n",
    "from os.path import isfile, join\n",
    "import pandas as pd\n",
    "\n",
    "\n",
    "import datetime\n",
    "start_time = datetime.datetime.now(); print(start_time)\n",
    "\n",
    "def csv_row_counter(csv_path):\n",
    "    csv_file = open(csv_path)\n",
    "    return sum(1 for row in csv.reader(csv_file))\n",
    "    \n",
    "\n",
    "\n",
    "hdf_path = './Data/hdf/edp_2015_final.h5'\n",
    "tables_path = './Data/csv/'\n",
    "\n",
    "\n",
    "files = [f for f in listdir(tables_path) if isfile(join(tables_path,f))]\n",
    "\n",
    "i = 0\n",
    "for file in files:\n",
    "    \n",
    "    key = file.replace(\" \", \"\")\n",
    "    new_key = key.replace(\"EDP_BE2015_\", \"\").replace(\".CSV\",\"\")\n",
    "    if ((\"FISC\" in key) \n",
    "        or (\"PANACT\" in key)\n",
    "       or (\"RP1999\" in key)): ###Treat Fiscal database independently du to their size\n",
    "        continue                             #### Do not export PANACT table\n",
    "    \n",
    "    print \"start with:\", file\n",
    "\n",
    "\n",
    "    if file[-4:] == '.CSV':\n",
    "        csv_file_path = join(tables_path,file)\n",
    "        \n",
    "        number_of_rows_in_csv = csv_row_counter(csv_file_path)-1\n",
    "        df_csv = pd.read_csv(csv_file_path, low_memory = False)#5*10**6)\n",
    "        df_csv.to_hdf(hdf_path, \n",
    "                         new_key)\n",
    "\n",
    "        del df_csv\n",
    "    else:\n",
    "        print file, \"is not a sas file \"\n",
    "    i+=1\n",
    "    print '*'*40\n",
    "    print i,'/',len(files),  new_key,'completed at: {}\\n  '.format( datetime.datetime.now())\n",
    "    Store = pd.HDFStore(hdf_path)\n",
    "    assert Store.get_storer(new_key).shape[0] == number_of_rows_in_csv, \\\n",
    "            \"File in HDFStore has not the same number of rows as in the csv \\n\" \\\n",
    "            \"Number of rows in the csv is {} against {} in the HDFS\".format(number_of_rows_in_csv,\n",
    "                                                                            Store.get_storer(new_key).shape[0])\n",
    "    print(\"With {} rows\".format(Store.get_storer(new_key).shape[0]))\n",
    "    Store.close()\n",
    "    \n",
    "start_time = datetime.datetime.now(); print(start_time)\n"
   ]
  },
  {
   "cell_type": "code",
   "execution_count": 3,
   "metadata": {
    "collapsed": false,
    "scrolled": false
   },
   "outputs": [
    {
     "name": "stdout",
     "output_type": "stream",
     "text": [
      "2019-04-19 17:37:48.865000\n",
      "2010"
     ]
    },
    {
     "name": "stderr",
     "output_type": "stream",
     "text": [
      "C:\\Users\\IMPTEMP_A_PACIFIC\\Desktop\\WinPython-64bit-2.7.10.2\\WinPython-64bit-2.7.10.2\\python-2.7.10.amd64\\lib\\site-packages\\pandas\\io\\parsers.py:1170: DtypeWarning: Columns (6) have mixed types. Specify dtype option on import or set low_memory=False.\n",
      "  data = self._reader.read(nrows)\n",
      "C:\\Users\\IMPTEMP_A_PACIFIC\\Desktop\\WinPython-64bit-2.7.10.2\\WinPython-64bit-2.7.10.2\\python-2.7.10.amd64\\lib\\site-packages\\pandas\\io\\pytables.py:2577: PerformanceWarning: \n",
      "your performance may suffer as PyTables will pickle object types that it cannot\n",
      "map directly to c-types [inferred_type->mixed,key->block2_values] [items->['ORDREFIP', 'TYPE_FISC', 'SEXE', 'CODNAIS', 'CIDECI', 'ZOXYZD', 'ZOXYZP', 'T_CHARGE', 'CNCOIPV', 'CSDEP']]\n",
      "\n",
      "  warnings.warn(ws, PerformanceWarning)\n"
     ]
    },
    {
     "name": "stdout",
     "output_type": "stream",
     "text": [
      "\n",
      "2011\n",
      "2012\n",
      "2013\n",
      "2014\n",
      "2015\n",
      "0 / 52 FISC_INDIVIDU completed at: 2019-04-19 17:41:40.179000\n",
      "  \n",
      "2010"
     ]
    },
    {
     "name": "stderr",
     "output_type": "stream",
     "text": [
      "C:\\Users\\IMPTEMP_A_PACIFIC\\Desktop\\WinPython-64bit-2.7.10.2\\WinPython-64bit-2.7.10.2\\python-2.7.10.amd64\\lib\\site-packages\\pandas\\io\\parsers.py:1170: DtypeWarning: Columns (34,35) have mixed types. Specify dtype option on import or set low_memory=False.\n",
      "  data = self._reader.read(nrows)\n",
      "C:\\Users\\IMPTEMP_A_PACIFIC\\Desktop\\WinPython-64bit-2.7.10.2\\WinPython-64bit-2.7.10.2\\python-2.7.10.amd64\\lib\\site-packages\\pandas\\io\\pytables.py:2577: PerformanceWarning: \n",
      "your performance may suffer as PyTables will pickle object types that it cannot\n",
      "map directly to c-types [inferred_type->mixed,key->block2_values] [items->['DEP', 'SECCAD', 'OCC', 'DNATLC', 'NATLOC', 'TAX', 'NLOC4', 'EAU', 'EGOUT', 'ELEC', 'GAZ', 'CHAUFF', 'ASCENSEUR', 'NUM_IRIS', 'NUM_QPV']]\n",
      "\n",
      "  warnings.warn(ws, PerformanceWarning)\n"
     ]
    },
    {
     "name": "stdout",
     "output_type": "stream",
     "text": [
      "\n",
      "2011\n",
      "2012\n",
      "2013\n",
      "2014\n",
      "2015\n",
      "1 / 52 FISC_LOGEMENT completed at: 2019-04-19 17:43:04.173000\n",
      "  \n",
      "2010\n",
      "2011\n",
      "2012\n",
      "2013\n",
      "2014\n",
      "2015\n",
      "2 / 52 FISC_REVDET completed at: 2019-04-19 17:43:40.941000\n",
      "  \n",
      "2010\n",
      "2011\n",
      "2012\n",
      "2013\n",
      "2014"
     ]
    },
    {
     "name": "stderr",
     "output_type": "stream",
     "text": [
      "C:\\Users\\IMPTEMP_A_PACIFIC\\Desktop\\WinPython-64bit-2.7.10.2\\WinPython-64bit-2.7.10.2\\python-2.7.10.amd64\\lib\\site-packages\\pandas\\io\\parsers.py:1170: DtypeWarning: Columns (4,5,17) have mixed types. Specify dtype option on import or set low_memory=False.\n",
      "  data = self._reader.read(nrows)\n",
      "C:\\Users\\IMPTEMP_A_PACIFIC\\Desktop\\WinPython-64bit-2.7.10.2\\WinPython-64bit-2.7.10.2\\python-2.7.10.amd64\\lib\\site-packages\\pandas\\io\\pytables.py:2577: PerformanceWarning: \n",
      "your performance may suffer as PyTables will pickle object types that it cannot\n",
      "map directly to c-types [inferred_type->mixed-integer,key->block2_values] [items->['DEP', 'DEPCOM', 'I_CHAMPM', 'I_PAUVRE50M', 'I_PAUVRE60M']]\n",
      "\n",
      "  warnings.warn(ws, PerformanceWarning)\n"
     ]
    },
    {
     "name": "stdout",
     "output_type": "stream",
     "text": [
      "\n",
      "2015\n",
      "3 / 52 FISC_REVENU completed at: 2019-04-19 17:51:55.143000\n",
      "  \n",
      "Wall time: 14min 6s\n"
     ]
    }
   ],
   "source": [
    "%%time\n",
    "\n",
    "\n",
    "import csv\n",
    "import datetime\n",
    "import gc\n",
    "from os import listdir\n",
    "from os.path import isfile, join\n",
    "import pandas as pd\n",
    "\n",
    "\n",
    "import datetime\n",
    "start_time = datetime.datetime.now(); print(start_time)\n",
    "\n",
    "def csv_row_counter(csv_path):\n",
    "    csv_file = open(csv_path)\n",
    "    return sum(1 for row in csv.reader(csv_file))\n",
    "    \n",
    "\n",
    "\n",
    "\n",
    "hdf_path = './Data/hdf/edp_2015_final.h5'\n",
    "tables_path = './Data/csv/'\n",
    "i = 0\n",
    "\n",
    "\n",
    "import pandas as pd\n",
    "\n",
    "files = [f for f in listdir(tables_path) if isfile(join(tables_path,f))]\n",
    "\n",
    "\n",
    "for file in files:\n",
    "    if \"FISC\" in file: ###Treat Fiscal database independently du to their size\n",
    "        \n",
    "        key = file.replace(\" \", \"\").replace(\"EDP_BE2015_\", \"\").replace(\".CSV\",\"\")\n",
    "\n",
    "        csv_file_path = join(tables_path,file)\n",
    "\n",
    "        big_fisc_df = pd.read_csv(csv_file_path)\n",
    "        for year in range(2010,2016):\n",
    "            print year\n",
    "            big_fisc_df.query(\"AN_FISC == {}\".format(year+1)).to_hdf(hdf_path, key +\"_{}\".format(year)) #Revenus 2010 == AN_FISC 2011\n",
    "        print i,'/',len(files),  key,'completed at: {}\\n  '.format( datetime.datetime.now())\n",
    "        i+=1\n"
   ]
  },
  {
   "cell_type": "code",
   "execution_count": 6,
   "metadata": {
    "collapsed": true
   },
   "outputs": [],
   "source": [
    "import pandas as pd\n",
    "Store = pd.HDFStore('./Data/hdf/edp_2015_final.h5')"
   ]
  },
  {
   "cell_type": "code",
   "execution_count": 7,
   "metadata": {
    "collapsed": false
   },
   "outputs": [
    {
     "data": {
      "text/plain": [
       "<class 'pandas.io.pytables.HDFStore'>\n",
       "File path: ./Data/hdf/edp_2015_final.h5\n",
       "/DECES                         frame        (shape->[358338,19])  \n",
       "/DESCENDANCE                   frame        (shape->[1320391,41]) \n",
       "/EAR2004_FAMILLE               frame        (shape->[48316,13])   \n",
       "/EAR2004_INDIVIDU              frame        (shape->[277933,86])  \n",
       "/EAR2004_LOGEMENT              frame        (shape->[89892,52])   \n",
       "/EAR2005_FAMILLE               frame        (shape->[78041,13])   \n",
       "/EAR2005_INDIVIDU              frame        (shape->[283781,86])  \n",
       "/EAR2005_LOGEMENT              frame        (shape->[91733,52])   \n",
       "/EAR2006_FAMILLE               frame        (shape->[78227,13])   \n",
       "/EAR2006_INDIVIDU              frame        (shape->[287786,86])  \n",
       "/EAR2006_LOGEMENT              frame        (shape->[92761,52])   \n",
       "/EAR2007_FAMILLE               frame        (shape->[78230,13])   \n",
       "/EAR2007_INDIVIDU              frame        (shape->[283228,86])  \n",
       "/EAR2007_LOGEMENT              frame        (shape->[92892,52])   \n",
       "/EAR2008_FAMILLE               frame        (shape->[272545,13])  \n",
       "/EAR2008_INDIVIDU              frame        (shape->[976703,86])  \n",
       "/EAR2008_LOGEMENT              frame        (shape->[318891,52])  \n",
       "/EAR2009_FAMILLE               frame        (shape->[307169,13])  \n",
       "/EAR2009_INDIVIDU              frame        (shape->[1100141,87]) \n",
       "/EAR2009_LOGEMENT              frame        (shape->[364051,53])  \n",
       "/EAR2010_FAMILLE               frame        (shape->[307974,13])  \n",
       "/EAR2010_INDIVIDU              frame        (shape->[1101133,87]) \n",
       "/EAR2010_LOGEMENT              frame        (shape->[365338,59])  \n",
       "/EAR2011_FAMILLE               frame        (shape->[304799,13])  \n",
       "/EAR2011_INDIVIDU              frame        (shape->[1103412,87]) \n",
       "/EAR2011_LOGEMENT              frame        (shape->[365353,59])  \n",
       "/EAR2012_FAMILLE               frame        (shape->[304623,13])  \n",
       "/EAR2012_INDIVIDU              frame        (shape->[1088188,88]) \n",
       "/EAR2012_LOGEMENT              frame        (shape->[364466,60])  \n",
       "/EAR2013_FAMILLE               frame        (shape->[307313,13])  \n",
       "/EAR2013_INDIVIDU              frame        (shape->[1095329,88]) \n",
       "/EAR2013_LOGEMENT              frame        (shape->[368097,60])  \n",
       "/EAR2014_FAMILLE               frame        (shape->[306704,13])  \n",
       "/EAR2014_INDIVIDU              frame        (shape->[1094413,89]) \n",
       "/EAR2014_LOGEMENT              frame        (shape->[368049,60])  \n",
       "/EAR2015_FAMILLE               frame        (shape->[307607,13])  \n",
       "/EAR2015_INDIVIDU              frame        (shape->[1096137,89]) \n",
       "/EAR2015_LOGEMENT              frame        (shape->[369412,60])  \n",
       "/FE                            frame        (shape->[4261066,7])  \n",
       "/FISC_INDIVIDU_2010            frame        (shape->[7443729,28]) \n",
       "/FISC_INDIVIDU_2011            frame        (shape->[7521928,28]) \n",
       "/FISC_INDIVIDU_2012            frame        (shape->[7606885,28]) \n",
       "/FISC_INDIVIDU_2013            frame        (shape->[7687654,28]) \n",
       "/FISC_INDIVIDU_2014            frame        (shape->[7897225,28]) \n",
       "/FISC_INDIVIDU_2015            frame        (shape->[1,28])       \n",
       "/FISC_LOGEMENT_2010            frame        (shape->[2371126,36]) \n",
       "/FISC_LOGEMENT_2011            frame        (shape->[2406495,36]) \n",
       "/FISC_LOGEMENT_2012            frame        (shape->[2438524,36]) \n",
       "/FISC_LOGEMENT_2013            frame        (shape->[2463418,36]) \n",
       "/FISC_LOGEMENT_2014            frame        (shape->[2517285,36]) \n",
       "/FISC_LOGEMENT_2015            frame        (shape->[1,36])       \n",
       "/FISC_REVDET_2010              frame        (shape->[5187327,12]) \n",
       "/FISC_REVDET_2011              frame        (shape->[5231237,12]) \n",
       "/FISC_REVDET_2012              frame        (shape->[5278844,12]) \n",
       "/FISC_REVDET_2013              frame        (shape->[5307821,12]) \n",
       "/FISC_REVDET_2014              frame        (shape->[5461506,12]) \n",
       "/FISC_REVDET_2015              frame        (shape->[1,12])       \n",
       "/FISC_REVENU_2010              frame        (shape->[2348114,100])\n",
       "/FISC_REVENU_2011              frame        (shape->[2380185,100])\n",
       "/FISC_REVENU_2012              frame        (shape->[2410915,100])\n",
       "/FISC_REVENU_2013              frame        (shape->[2433291,100])\n",
       "/FISC_REVENU_2014              frame        (shape->[2478714,100])\n",
       "/FISC_REVENU_2015              frame        (shape->[1,100])      \n",
       "/INDIVIDU                      frame        (shape->[3571655,43]) \n",
       "/MARIAGE                       frame        (shape->[458354,34])  \n",
       "/NAISSANCE                     frame        (shape->[712962,40])  \n",
       "/RP1968                        frame        (shape->[484308,49])  \n",
       "/RP1975                        frame        (shape->[527025,95])  \n",
       "/RP1982                        frame        (shape->[552711,75])  \n",
       "/RP1990                        frame        (shape->[586037,228]) "
      ]
     },
     "execution_count": 7,
     "metadata": {},
     "output_type": "execute_result"
    }
   ],
   "source": [
    "Store"
   ]
  },
  {
   "cell_type": "code",
   "execution_count": 8,
   "metadata": {
    "collapsed": false,
    "scrolled": true
   },
   "outputs": [
    {
     "name": "stdout",
     "output_type": "stream",
     "text": [
      "('now: ', datetime.datetime(2019, 4, 19, 17, 52, 24, 359000))\n",
      "('execution_time: ', datetime.timedelta(0, 875, 494000))\n"
     ]
    }
   ],
   "source": [
    "stop_time = datetime.datetime.now(); print(\"now: \",stop_time);\n",
    "execution_time = stop_time - start_time; print(\"execution_time: \",execution_time)\n",
    "stop_time = start_time\n",
    "#clear  memory\n",
    "%reset -f"
   ]
  },
  {
   "cell_type": "code",
   "execution_count": 9,
   "metadata": {
    "collapsed": true
   },
   "outputs": [],
   "source": [
    "#### Extraire les bases fiscales séparément..."
   ]
  },
  {
   "cell_type": "code",
   "execution_count": null,
   "metadata": {
    "collapsed": true
   },
   "outputs": [],
   "source": []
  }
 ],
 "metadata": {
  "kernelspec": {
   "display_name": "Python 2",
   "language": "python",
   "name": "python2"
  },
  "language_info": {
   "codemirror_mode": {
    "name": "ipython",
    "version": 2
   },
   "file_extension": ".py",
   "mimetype": "text/x-python",
   "name": "python",
   "nbconvert_exporter": "python",
   "pygments_lexer": "ipython2",
   "version": "2.7.10"
  }
 },
 "nbformat": 4,
 "nbformat_minor": 0
}
