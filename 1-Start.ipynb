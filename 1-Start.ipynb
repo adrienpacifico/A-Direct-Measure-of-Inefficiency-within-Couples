{
 "cells": [
  {
   "cell_type": "markdown",
   "metadata": {},
   "source": [
    "#### Before Start"
   ]
  },
  {
   "cell_type": "markdown",
   "metadata": {},
   "source": [
    "Start of the cohabiting couple projet.  \n",
    "\n",
    "This project has been ran with Python 2.7.10, packages are listed [at the end of this notebook](#Packages). Packages are the ones present in `Winpython 2.7.10.2` (portable version) although some may has been actualized and should be matched to the `requirement.txt` present in the `./Programme/`  directory.\n",
    "\n",
    "In order to run this series of Notebook you need to have : \n",
    "1. runed the Sas script `Convert_EDP_sas_to_csv.sas` with the Sas software in order to export to csv the 52 sas files that constitutes the EDP 2015. You will have to **modify the script** such that: \n",
    " 1. the first path point to the folder containing the `sas7bdat` files (you will likely only have to change the CASD project name).\n",
    " 2. the second path point to `./Data/csv/` (but in absolute path) such that the  52 `csv` files are in the `./Data/csv/` folder.\n",
    " \n",
    "This script takes about 15 minutes to get executed.\n",
    "\n",
    "2. runed the notebook [create hdf](create_hdf.ipynb) you may need to ask the CASD services to increase the SWAP `pagefile.sys` such that you don't get `Memory Errors`.\n",
    "This script creates the file `edp_2015_final.h5` of 69 Go that contains the whole EDP in an hadoop file system format (HDFS).\n",
    "** Running the next cell will execute the script**.\n",
    "\n",
    "\n"
   ]
  },
  {
   "cell_type": "code",
   "execution_count": 1,
   "metadata": {
    "collapsed": false
   },
   "outputs": [
    {
     "name": "stdout",
     "output_type": "stream",
     "text": [
      "2019-04-26 16:36:20.710000\n"
     ]
    }
   ],
   "source": [
    "import datetime\n",
    "start_time = datetime.datetime.now(); print(start_time)"
   ]
  },
  {
   "cell_type": "code",
   "execution_count": 2,
   "metadata": {
    "collapsed": false
   },
   "outputs": [
    {
     "name": "stdout",
     "output_type": "stream",
     "text": [
      "Wall time: 27min 40s\n"
     ]
    }
   ],
   "source": [
    "%%time\n",
    "%%capture\n",
    "%run create_hdf.ipynb"
   ]
  },
  {
   "cell_type": "markdown",
   "metadata": {},
   "source": [
    "## Notebooks\n",
    "\n",
    "I organized notebooks in two sets. \n",
    "The first one that must be runned in the presented order.\n",
    "\n",
    "**Running this notebook** will execute those notebooks in the script section (without modifying the executed notebooks).  \n",
    "Then the  [Results](### Results) notebooks that contains the restults of the articles and that must be run independently. \n",
    "\n",
    "\n",
    "#### First set:\n",
    "\n",
    "1. [Data preparation : Isolate cohabiting couples](./Programme/Data_preparation_isolate_cohabiting_couples.ipynb)\n",
    "This script isolates the cohabiting couples with children under 18 from the other types of households. It creates Pickles that contains households `ID_FISC_LOG_DFF`. \n",
    "2. [biologic_child_2014.py](./Programme/biologic_script/biologic_child_2014.py)  \n",
    "Is a script that get keep only households where both parents have the same birth date as the one in the **civil registries** in order to avoid stepfamilies.\n",
    "2. [Optimizers 2013](./Programme/optimize_2013.ipynb) which compute all the potential income taxes for a household.\n",
    "You need to execute that notebook for  each 2014 also [Optimizers 2014](./Programme/optimize_2014.ipynb) , and the counterfactuals  [IR_2013_on_2014_income](./Programme/Conterfactual_tax/optimize_cleaned_2014_income_tax_on_2013_income.ipynb) and [IR_2014_on_2013_income](./Programme/Conterfactual_tax/optimize_cleaned_2013_income_tax_on_2014_income.ipynb)\n",
    "4. [Recensement](./Programme/Recensement.ipynb)\n",
    "Get the information from the census survey over in a span of 5 years in order to get additionnal informations on the household such as diplomas.\n",
    "3. [Mariage Separation](./Programme/marriage_separation.ipynb), Isolate couples that separate, get married, or get into a civil union (PACS) between 2014 and 2015.\n",
    "\n",
    "5. [Data preparation (variables creation)](./Programme/Data_preparation.ipynb)\n",
    "Creates some variables needed for the analysis such as eledest child age and so on.\n",
    "\n",
    "### Results\n",
    "\n",
    "These contains results present in the article (and more). They should be runned independently.\n",
    "\n",
    "[Descriptive stats](./Programme/Descriptive_stats.ipynb)\n",
    "Contains descriptive statistics for years 2013 and 2014.  \n",
    "\n",
    "[Cooperation](./Programme/Regressions_cooperation.ipynb)\n",
    "Contains MLN logit that shows that cohabiting couples that do not optimize tend to separate more, while couples that do optimize tend to engage more in a civil union (mariage or PACS).\n",
    "\n",
    "\n",
    "[Learning and transitions](./Programme/Learning_and_transitions.ipynb)\n",
    "Shows how households reacts to a change (or not) in their optimal allocation between the fiscal years 2013 and 2014.\n",
    "\n",
    "#### Second set:\n",
    "\n",
    "\n",
    "1. [Child Repartition](./Programme/Child_repartition_stat_all_year.ipynb)\n",
    "\n",
    "An aditionnal notebook that shows that children repartion does not vary a lot over the 2010-2015 period.\n",
    "\n"
   ]
  },
  {
   "cell_type": "code",
   "execution_count": 3,
   "metadata": {
    "collapsed": false
   },
   "outputs": [
    {
     "name": "stdout",
     "output_type": "stream",
     "text": [
      "2019-04-26 17:04:01.052000\n"
     ]
    }
   ],
   "source": [
    "import datetime\n",
    "start_time = datetime.datetime.now(); print(start_time)"
   ]
  },
  {
   "cell_type": "code",
   "execution_count": 4,
   "metadata": {
    "collapsed": false
   },
   "outputs": [
    {
     "data": {
      "text/plain": [
       "u'C:\\\\Users\\\\IMPTEMP_A_PACIFIC\\\\Desktop\\\\Cohabitant_project(EDP_2015)'"
      ]
     },
     "execution_count": 4,
     "metadata": {},
     "output_type": "execute_result"
    }
   ],
   "source": [
    "%pwd"
   ]
  },
  {
   "cell_type": "code",
   "execution_count": 5,
   "metadata": {
    "collapsed": false
   },
   "outputs": [
    {
     "name": "stdout",
     "output_type": "stream",
     "text": [
      "C:\\Users\\IMPTEMP_A_PACIFIC\\Desktop\\Cohabitant_project(EDP_2015)\\Programme\n"
     ]
    },
    {
     "data": {
      "text/plain": [
       "datetime.datetime(2019, 4, 26, 17, 4, 1, 129000)"
      ]
     },
     "execution_count": 5,
     "metadata": {},
     "output_type": "execute_result"
    }
   ],
   "source": [
    "%cd Programme\n",
    "datetime.datetime.now()"
   ]
  },
  {
   "cell_type": "code",
   "execution_count": 6,
   "metadata": {
    "collapsed": false
   },
   "outputs": [
    {
     "name": "stdout",
     "output_type": "stream",
     "text": [
      "Wall time: 30min 24s\n"
     ]
    },
    {
     "name": "stderr",
     "output_type": "stream",
     "text": [
      "[NbConvertApp] Converting notebook Data_preparation_isolate_cohabiting_couples.ipynb to notebook\n",
      "[NbConvertApp] Executing notebook with kernel: python2\n",
      "[NbConvertApp] Writing 13973 bytes to Data_preparation_isolate_cohabiting_couples.ipynb\n"
     ]
    }
   ],
   "source": [
    "%%time\n",
    "! Ipython nbconvert --to notebook --execute --inplace --ExecutePreprocessor.timeout=-1 Data_preparation_isolate_cohabiting_couples.ipynb"
   ]
  },
  {
   "cell_type": "code",
   "execution_count": 7,
   "metadata": {
    "collapsed": false
   },
   "outputs": [
    {
     "name": "stdout",
     "output_type": "stream",
     "text": [
      "C:\\Users\\IMPTEMP_A_PACIFIC\\Desktop\\Cohabitant_project(EDP_2015)\n"
     ]
    },
    {
     "data": {
      "text/plain": [
       "datetime.datetime(2019, 4, 26, 17, 34, 25, 863000)"
      ]
     },
     "execution_count": 7,
     "metadata": {},
     "output_type": "execute_result"
    }
   ],
   "source": [
    "%cd ..\n",
    "datetime.datetime.now()"
   ]
  },
  {
   "cell_type": "code",
   "execution_count": 8,
   "metadata": {
    "collapsed": false
   },
   "outputs": [
    {
     "data": {
      "text/plain": [
       "u'C:\\\\Users\\\\IMPTEMP_A_PACIFIC\\\\Desktop\\\\Cohabitant_project(EDP_2015)'"
      ]
     },
     "execution_count": 8,
     "metadata": {},
     "output_type": "execute_result"
    }
   ],
   "source": [
    "%pwd\n"
   ]
  },
  {
   "cell_type": "code",
   "execution_count": 9,
   "metadata": {
    "collapsed": false
   },
   "outputs": [
    {
     "name": "stdout",
     "output_type": "stream",
     "text": [
      "Wall time: 9min 24s\n"
     ]
    }
   ],
   "source": [
    "%%time\n",
    "%%capture\n",
    "%run ./Programme/biologic_script/biologic_child_2014.py\n",
    "#Creates 'C:/Users/IMPTEMP_A_PACIFIC/Desktop/EDP_2015/Data/hdf/edp_concubin.h5'"
   ]
  },
  {
   "cell_type": "code",
   "execution_count": 10,
   "metadata": {
    "collapsed": false
   },
   "outputs": [
    {
     "name": "stdout",
     "output_type": "stream",
     "text": [
      "C:\\Users\\IMPTEMP_A_PACIFIC\\Desktop\\Cohabitant_project(EDP_2015)\\Programme\n"
     ]
    }
   ],
   "source": [
    "%cd Programme/"
   ]
  },
  {
   "cell_type": "code",
   "execution_count": 11,
   "metadata": {
    "collapsed": false
   },
   "outputs": [
    {
     "name": "stdout",
     "output_type": "stream",
     "text": [
      "Wall time: 17.9 s\n"
     ]
    },
    {
     "name": "stderr",
     "output_type": "stream",
     "text": [
      "[NbConvertApp] Converting notebook ./biologic_id_to_pickle.ipynb to notebook\n",
      "[NbConvertApp] Executing notebook with kernel: python2\n",
      "[NbConvertApp] Writing 4450 bytes to biologic_id_to_pickle.ipynb\n"
     ]
    }
   ],
   "source": [
    "%%time\n",
    "! Ipython nbconvert --to notebook --execute --inplace --ExecutePreprocessor.timeout=-1 ./biologic_id_to_pickle.ipynb"
   ]
  },
  {
   "cell_type": "code",
   "execution_count": 12,
   "metadata": {
    "collapsed": false
   },
   "outputs": [
    {
     "name": "stdout",
     "output_type": "stream",
     "text": [
      "Wall time: 3min 53s\n"
     ]
    },
    {
     "name": "stderr",
     "output_type": "stream",
     "text": [
      "[NbConvertApp] Converting notebook optimize_2013.ipynb to notebook\n",
      "[NbConvertApp] Executing notebook with kernel: python2\n",
      "[NbConvertApp] Writing 276171 bytes to optimize_2013.ipynb\n"
     ]
    }
   ],
   "source": [
    "%%time\n",
    "! Ipython nbconvert --to notebook --execute --inplace --ExecutePreprocessor.timeout=-1  optimize_2013.ipynb"
   ]
  },
  {
   "cell_type": "code",
   "execution_count": 13,
   "metadata": {
    "collapsed": false
   },
   "outputs": [
    {
     "name": "stdout",
     "output_type": "stream",
     "text": [
      "Wall time: 2min 32s\n"
     ]
    },
    {
     "name": "stderr",
     "output_type": "stream",
     "text": [
      "[NbConvertApp] Converting notebook optimize_2014.ipynb to notebook\n",
      "[NbConvertApp] Executing notebook with kernel: python2\n",
      "[NbConvertApp] Writing 193790 bytes to optimize_2014.ipynb\n"
     ]
    }
   ],
   "source": [
    "%%time\n",
    "! Ipython nbconvert --to notebook --execute --inplace --ExecutePreprocessor.timeout=-1  optimize_2014.ipynb"
   ]
  },
  {
   "cell_type": "code",
   "execution_count": 14,
   "metadata": {
    "collapsed": false
   },
   "outputs": [
    {
     "data": {
      "text/plain": [
       "u'C:\\\\Users\\\\IMPTEMP_A_PACIFIC\\\\Desktop\\\\Cohabitant_project(EDP_2015)\\\\Programme'"
      ]
     },
     "execution_count": 14,
     "metadata": {},
     "output_type": "execute_result"
    }
   ],
   "source": [
    "%pwd"
   ]
  },
  {
   "cell_type": "code",
   "execution_count": 15,
   "metadata": {
    "collapsed": false
   },
   "outputs": [
    {
     "name": "stdout",
     "output_type": "stream",
     "text": [
      "C:\\Users\\IMPTEMP_A_PACIFIC\\Desktop\\Cohabitant_project(EDP_2015)\\Programme\\Conterfactual_tax\n"
     ]
    }
   ],
   "source": [
    "%cd ./Conterfactual_tax"
   ]
  },
  {
   "cell_type": "code",
   "execution_count": 16,
   "metadata": {
    "collapsed": false
   },
   "outputs": [
    {
     "name": "stdout",
     "output_type": "stream",
     "text": [
      "Wall time: 3min 55s\n"
     ]
    },
    {
     "name": "stderr",
     "output_type": "stream",
     "text": [
      "[NbConvertApp] Converting notebook optimize_cleaned_2014_income_tax_on_2013_income.ipynb to notebook\n",
      "[NbConvertApp] Executing notebook with kernel: python2\n",
      "[NbConvertApp] Writing 346982 bytes to optimize_cleaned_2014_income_tax_on_2013_income.ipynb\n"
     ]
    }
   ],
   "source": [
    "%%time\n",
    "! Ipython nbconvert --to notebook --execute --inplace --ExecutePreprocessor.timeout=-1  optimize_cleaned_2014_income_tax_on_2013_income.ipynb"
   ]
  },
  {
   "cell_type": "code",
   "execution_count": 17,
   "metadata": {
    "collapsed": false
   },
   "outputs": [
    {
     "name": "stdout",
     "output_type": "stream",
     "text": [
      "Wall time: 3min 58s\n"
     ]
    },
    {
     "name": "stderr",
     "output_type": "stream",
     "text": [
      "[NbConvertApp] Converting notebook optimize_cleaned_2013_income_tax_on_2014_income.ipynb to notebook\n",
      "[NbConvertApp] Executing notebook with kernel: python2\n",
      "[NbConvertApp] Writing 315293 bytes to optimize_cleaned_2013_income_tax_on_2014_income.ipynb\n"
     ]
    }
   ],
   "source": [
    "%%time\n",
    "! Ipython nbconvert --to notebook --execute --inplace --ExecutePreprocessor.timeout=-1  optimize_cleaned_2013_income_tax_on_2014_income.ipynb"
   ]
  },
  {
   "cell_type": "code",
   "execution_count": 18,
   "metadata": {
    "collapsed": false
   },
   "outputs": [
    {
     "name": "stdout",
     "output_type": "stream",
     "text": [
      "C:\\Users\\IMPTEMP_A_PACIFIC\\Desktop\\Cohabitant_project(EDP_2015)\\Programme\n"
     ]
    }
   ],
   "source": [
    "%cd .."
   ]
  },
  {
   "cell_type": "code",
   "execution_count": 19,
   "metadata": {
    "collapsed": false
   },
   "outputs": [
    {
     "name": "stdout",
     "output_type": "stream",
     "text": [
      "Wall time: 7min 27s\n"
     ]
    },
    {
     "name": "stderr",
     "output_type": "stream",
     "text": [
      "[NbConvertApp] Converting notebook Recensement.ipynb to notebook\n",
      "[NbConvertApp] Executing notebook with kernel: python2\n",
      "[NbConvertApp] Writing 28694 bytes to Recensement.ipynb\n"
     ]
    }
   ],
   "source": [
    "%%time\n",
    "! Ipython nbconvert --to notebook --execute --inplace --ExecutePreprocessor.timeout=-1  Recensement.ipynb"
   ]
  },
  {
   "cell_type": "code",
   "execution_count": 20,
   "metadata": {
    "collapsed": false
   },
   "outputs": [
    {
     "name": "stdout",
     "output_type": "stream",
     "text": [
      "Wall time: 3min 37s\n"
     ]
    },
    {
     "name": "stderr",
     "output_type": "stream",
     "text": [
      "[NbConvertApp] Converting notebook marriage_separation.ipynb to notebook\n",
      "[NbConvertApp] Executing notebook with kernel: python2\n",
      "[NbConvertApp] Writing 49577 bytes to marriage_separation.ipynb\n"
     ]
    }
   ],
   "source": [
    "%%time\n",
    "! Ipython nbconvert --to notebook --execute --inplace --ExecutePreprocessor.timeout=-1 marriage_separation.ipynb"
   ]
  },
  {
   "cell_type": "code",
   "execution_count": 21,
   "metadata": {
    "collapsed": false
   },
   "outputs": [
    {
     "name": "stdout",
     "output_type": "stream",
     "text": [
      "Wall time: 3min 13s\n"
     ]
    },
    {
     "name": "stderr",
     "output_type": "stream",
     "text": [
      "[NbConvertApp] Converting notebook Data_preparation.ipynb to notebook\n",
      "[NbConvertApp] Executing notebook with kernel: python2\n",
      "[NbConvertApp] Writing 57094 bytes to Data_preparation.ipynb\n"
     ]
    }
   ],
   "source": [
    "%%time\n",
    "! Ipython nbconvert --to notebook --execute --inplace --ExecutePreprocessor.timeout=-1 Data_preparation.ipynb"
   ]
  },
  {
   "cell_type": "code",
   "execution_count": null,
   "metadata": {
    "collapsed": true
   },
   "outputs": [],
   "source": []
  },
  {
   "cell_type": "markdown",
   "metadata": {},
   "source": [
    "### Results notebooks"
   ]
  },
  {
   "cell_type": "code",
   "execution_count": 22,
   "metadata": {
    "collapsed": false
   },
   "outputs": [
    {
     "data": {
      "text/plain": [
       "datetime.datetime(2019, 4, 26, 18, 12, 47, 764000)"
      ]
     },
     "execution_count": 22,
     "metadata": {},
     "output_type": "execute_result"
    }
   ],
   "source": [
    "import datetime\n",
    "datetime.datetime.now()"
   ]
  },
  {
   "cell_type": "code",
   "execution_count": 23,
   "metadata": {
    "collapsed": false
   },
   "outputs": [
    {
     "name": "stdout",
     "output_type": "stream",
     "text": [
      "[Error 2] Le fichier sp�cifi� est introuvable: u'Programme'\n",
      "C:\\Users\\IMPTEMP_A_PACIFIC\\Desktop\\Cohabitant_project(EDP_2015)\\Programme\n"
     ]
    }
   ],
   "source": [
    "%cd Programme"
   ]
  },
  {
   "cell_type": "code",
   "execution_count": 24,
   "metadata": {
    "collapsed": false
   },
   "outputs": [
    {
     "data": {
      "text/plain": [
       "datetime.datetime(2019, 4, 26, 18, 12, 48, 363000)"
      ]
     },
     "execution_count": 24,
     "metadata": {},
     "output_type": "execute_result"
    }
   ],
   "source": [
    " datetime.datetime.now()"
   ]
  },
  {
   "cell_type": "code",
   "execution_count": null,
   "metadata": {
    "collapsed": true
   },
   "outputs": [],
   "source": []
  },
  {
   "cell_type": "code",
   "execution_count": 25,
   "metadata": {
    "collapsed": false
   },
   "outputs": [
    {
     "name": "stderr",
     "output_type": "stream",
     "text": [
      "[NbConvertApp] Converting notebook Descriptive_stats.ipynb to notebook\n",
      "[NbConvertApp] Executing notebook with kernel: python2\n",
      "[NbConvertApp] Writing 1783839 bytes to Descriptive_stats.ipynb\n"
     ]
    }
   ],
   "source": [
    "! Ipython nbconvert --to notebook --execute --inplace --ExecutePreprocessor.timeout=-1 Descriptive_stats.ipynb"
   ]
  },
  {
   "cell_type": "code",
   "execution_count": 26,
   "metadata": {
    "collapsed": false
   },
   "outputs": [
    {
     "data": {
      "text/plain": [
       "datetime.datetime(2019, 4, 26, 18, 27, 24, 448000)"
      ]
     },
     "execution_count": 26,
     "metadata": {},
     "output_type": "execute_result"
    }
   ],
   "source": [
    " datetime.datetime.now()"
   ]
  },
  {
   "cell_type": "code",
   "execution_count": 27,
   "metadata": {
    "collapsed": false
   },
   "outputs": [
    {
     "name": "stderr",
     "output_type": "stream",
     "text": [
      "[NbConvertApp] Converting notebook Regressions_cooperation.ipynb to notebook\n",
      "[NbConvertApp] Executing notebook with kernel: python2\n",
      "[NbConvertApp] Writing 1973682 bytes to Regressions_cooperation.ipynb\n"
     ]
    }
   ],
   "source": [
    "! Ipython nbconvert --to notebook --execute --inplace --ExecutePreprocessor.timeout=-1 Regressions_cooperation.ipynb"
   ]
  },
  {
   "cell_type": "code",
   "execution_count": 28,
   "metadata": {
    "collapsed": false
   },
   "outputs": [
    {
     "data": {
      "text/plain": [
       "datetime.datetime(2019, 4, 26, 18, 28, 59, 677000)"
      ]
     },
     "execution_count": 28,
     "metadata": {},
     "output_type": "execute_result"
    }
   ],
   "source": [
    " datetime.datetime.now()"
   ]
  },
  {
   "cell_type": "code",
   "execution_count": 29,
   "metadata": {
    "collapsed": false
   },
   "outputs": [
    {
     "name": "stderr",
     "output_type": "stream",
     "text": [
      "[NbConvertApp] Converting notebook Learning_and_transitions.ipynb to notebook\n",
      "[NbConvertApp] Executing notebook with kernel: python2\n",
      "[NbConvertApp] Writing 548765 bytes to Learning_and_transitions.ipynb\n"
     ]
    }
   ],
   "source": [
    "! Ipython nbconvert --to notebook --execute --inplace --ExecutePreprocessor.timeout=-1 Learning_and_transitions.ipynb"
   ]
  },
  {
   "cell_type": "code",
   "execution_count": 30,
   "metadata": {
    "collapsed": false
   },
   "outputs": [
    {
     "data": {
      "text/plain": [
       "datetime.datetime(2019, 4, 26, 18, 29, 18, 528000)"
      ]
     },
     "execution_count": 30,
     "metadata": {},
     "output_type": "execute_result"
    }
   ],
   "source": [
    " datetime.datetime.now()"
   ]
  },
  {
   "cell_type": "markdown",
   "metadata": {},
   "source": [
    "#### Second set"
   ]
  },
  {
   "cell_type": "code",
   "execution_count": 31,
   "metadata": {
    "collapsed": false
   },
   "outputs": [
    {
     "data": {
      "text/plain": [
       "datetime.datetime(2019, 4, 26, 18, 29, 18, 588000)"
      ]
     },
     "execution_count": 31,
     "metadata": {},
     "output_type": "execute_result"
    }
   ],
   "source": [
    " datetime.datetime.now()"
   ]
  },
  {
   "cell_type": "code",
   "execution_count": 32,
   "metadata": {
    "collapsed": false
   },
   "outputs": [
    {
     "name": "stdout",
     "output_type": "stream",
     "text": [
      "Wall time: 8min 4s\n"
     ]
    },
    {
     "name": "stderr",
     "output_type": "stream",
     "text": [
      "[NbConvertApp] Converting notebook Child_repartition_stat_all_year.ipynb to notebook\n",
      "[NbConvertApp] Executing notebook with kernel: python2\n",
      "[NbConvertApp] Writing 90656 bytes to Child_repartition_stat_all_year.ipynb\n"
     ]
    }
   ],
   "source": [
    "%%time\n",
    "! Ipython nbconvert --to notebook --execute --inplace --ExecutePreprocessor.timeout=-1 Child_repartition_stat_all_year.ipynb"
   ]
  },
  {
   "cell_type": "markdown",
   "metadata": {},
   "source": [
    "##### Packages"
   ]
  },
  {
   "cell_type": "code",
   "execution_count": 33,
   "metadata": {
    "collapsed": false
   },
   "outputs": [
    {
     "name": "stdout",
     "output_type": "stream",
     "text": [
      "adodbapi==2.6.0.7\n",
      "alabaster==0.7.6\n",
      "astroid==1.3.6\n",
      "Babel==1.3\n",
      "backports.ssl-match-hostname==3.4.0.2\n",
      "baresql==0.7.1\n",
      "bcolz==0.10.0\n",
      "beautifulsoup4==4.4.0\n",
      "Biryani==0.10.4\n",
      "blaze==0.8.2\n",
      "bokeh==0.9.2\n",
      "brewer2mpl==1.4.1\n",
      "certifi==2015.4.28\n",
      "cffi==1.1.2\n",
      "click==4.1\n",
      "colorama==0.3.3\n",
      "configparser==3.5.0b2\n",
      "cvxopt==1.1.7\n",
      "cx-Freeze==4.3.4\n",
      "cyordereddict==0.2.2\n",
      "Cython==0.22.1\n",
      "cytoolz==0.7.3\n",
      "dask==0.6.1\n",
      "datashape==0.4.6\n",
      "db.py==0.4.4\n",
      "decorator==3.4.2\n",
      "dill==0.2.3\n",
      "docopt==0.6.2\n",
      "docutils==0.12\n",
      "enum34==1.0.4\n",
      "Flask==0.10.1\n",
      "fonttools==2.4\n",
      "formlayout==1.0.15\n",
      "funcsigs==0.4\n",
      "functools32==3.2.3.post1\n",
      "greenlet==0.4.7\n",
      "guidata==1.6.2\n",
      "guiqwt==2.3.2\n",
      "h5py==2.5.0\n",
      "holoviews==1.3.2\n",
      "husl==4.0.2\n",
      "ipynb==0.3\n",
      "ipython==3.2.1\n",
      "ipython-sql==0.3.6\n",
      "isodate==0.5.4\n",
      "itsdangerous==0.24\n",
      "jedi==0.9.0\n",
      "Jinja2==2.7.3\n",
      "joblib==0.8.4\n",
      "jsonschema==2.5.1\n",
      "julia==0.1.1.8\n",
      "Keras==0.1.2\n",
      "llvmlite==0.6.0\n",
      "lmfit==0.8.3\n",
      "locket==0.2.0\n",
      "logilab-common==1.0.2\n",
      "logutils==0.3.3\n",
      "lxml==3.4.4\n",
      "Markdown==2.6.2\n",
      "MarkupSafe==0.23\n",
      "matplotlib==1.4.3\n",
      "mingwpy==0.1.0b3\n",
      "mistune==0.7\n",
      "mpld3==0.2\n",
      "multipledispatch==0.4.8\n",
      "mysql-connector-python==2.0.4\n",
      "netCDF4==1.1.9\n",
      "networkx==1.9.1\n",
      "nltk==3.0.4\n",
      "nose==1.3.7\n",
      "numba==0.20.0\n",
      "numexpr==2.4.3\n",
      "numpy==1.9.2\n",
      "numpydoc==0.5\n",
      "oct2py==3.3.0\n",
      "odo==0.3.3\n",
      "OpenFisca-Aggregates==0.2.dev0\n",
      "OpenFisca-Core==0.5.3.dev0\n",
      "OpenFisca-France==0.5.4.dev0\n",
      "-e OpenFisca-France-Data==0.4.dev0\n",
      "OpenFisca-Inequality==0.2.dev0\n",
      "OpenFisca-Matplotlib==0.4.dev0\n",
      "OpenFisca-Survey-Manager==0.3.dev0\n",
      "pandas==0.16.2\n",
      "param==1.3.2\n",
      "partd==0.3.2\n",
      "patsy==0.4.1\n",
      "pep8==1.6.2\n",
      "pg8000==1.10.2\n",
      "Pillow==2.9.0\n",
      "pkginfo==1.2.1\n",
      "Polygon2==2.0.7\n",
      "prettytable==0.7.2\n",
      "psutil==3.1.1\n",
      "PuLP==1.5.9\n",
      "PyAudio==0.2.8\n",
      "pybars3==0.9.1\n",
      "pycparser==2.14\n",
      "pyflakes==0.9.2\n",
      "Pygments==2.0.2\n",
      "pyhdf==0.8.3\n",
      "pylint==1.4.3\n",
      "PyMeta3==0.5.1\n",
      "pymongo==3.0.3\n",
      "pyodbc==3.0.10\n",
      "PyOpenGL==3.1.0\n",
      "pyparsing==2.0.3\n",
      "pypiserver==1.1.10\n",
      "PyQt4==4.11.4\n",
      "PyQtdesignerplugins==1.1\n",
      "pyqtgraph==0.9.10\n",
      "PyQwt==5.2.1\n",
      "pyserial==2.7\n",
      "pystache==0.5.4\n",
      "python-dateutil==2.4.2\n",
      "pytz==2015.4\n",
      "pywin32==219\n",
      "PyYAML==3.11\n",
      "pyzmq==14.7.0\n",
      "redis==2.10.3\n",
      "reportlab==3.2.0\n",
      "requests==2.10.0\n",
      "rope==0.10.2\n",
      "rpy2==2.6.1\n",
      "sas7bdat==2.0.7\n",
      "scikit-image==0.11.3\n",
      "scikit-learn==0.16.1\n",
      "scilab2py==0.6\n",
      "scipy==0.16.0\n",
      "seaborn==0.6.0\n",
      "simplejson==3.8.0\n",
      "singledispatch==3.4.0.3\n",
      "six==1.9.0\n",
      "snowballstemmer==1.2.0\n",
      "Sphinx==1.3.1\n",
      "sphinx-rtd-theme==0.1.8\n",
      "spyder==2.3.5.2\n",
      "SQLAlchemy==1.0.8\n",
      "sqlite-bro==0.8.8\n",
      "sqlparse==0.1.15\n",
      "statsmodels==0.6.1\n",
      "sympy==0.7.6\n",
      "tables==3.2.1\n",
      "Theano==0.7.0\n",
      "toolz==0.7.2\n",
      "tornado==4.2.1\n",
      "TTFQuery==1.0.5\n",
      "twine==1.5.0\n",
      "twitter==1.17.0\n",
      "ViTables==2.1\n",
      "Werkzeug==0.10.4\n",
      "wheel==0.24.0\n",
      "winpython==1.1\n",
      "wquantiles==0.3\n",
      "xlrd==0.9.4\n",
      "XlsxWriter==0.7.3\n",
      "xray==0.5.2\n"
     ]
    },
    {
     "name": "stderr",
     "output_type": "stream",
     "text": [
      "Error [Error 2] Le fichier spécifié est introuvable while executing command git config remote.origin.url\n",
      "cannot determine version of editable source in c:\\users\\imptemp_a_pacific\\desktop\\openfisca\\openfisca-france-data (git command not found in path)\n"
     ]
    }
   ],
   "source": [
    "!pip freeze"
   ]
  },
  {
   "cell_type": "code",
   "execution_count": 34,
   "metadata": {
    "collapsed": false,
    "scrolled": true
   },
   "outputs": [
    {
     "name": "stderr",
     "output_type": "stream",
     "text": [
      "Error [Error 2] Le fichier spécifié est introuvable while executing command git config remote.origin.url\n",
      "cannot determine version of editable source in c:\\users\\imptemp_a_pacific\\desktop\\openfisca\\openfisca-france-data (git command not found in path)\n"
     ]
    }
   ],
   "source": [
    "!pip freeze > requirement.txt"
   ]
  },
  {
   "cell_type": "code",
   "execution_count": 35,
   "metadata": {
    "collapsed": false
   },
   "outputs": [
    {
     "name": "stderr",
     "output_type": "stream",
     "text": [
      "Python 2.7.10\n"
     ]
    }
   ],
   "source": [
    "! python --version"
   ]
  },
  {
   "cell_type": "code",
   "execution_count": null,
   "metadata": {
    "collapsed": true
   },
   "outputs": [],
   "source": []
  },
  {
   "cell_type": "code",
   "execution_count": 36,
   "metadata": {
    "collapsed": false
   },
   "outputs": [
    {
     "name": "stdout",
     "output_type": "stream",
     "text": [
      "('now: ', datetime.datetime(2019, 4, 26, 18, 37, 54, 915000))\n",
      "('execution_time: ', datetime.timedelta(0, 5633, 863000))\n"
     ]
    }
   ],
   "source": [
    "stop_time = datetime.datetime.now(); print(\"now: \",stop_time);\n",
    "execution_time = stop_time - start_time; print(\"execution_time: \",execution_time)\n",
    "stop_time = start_time\n",
    "#clear  memory\n",
    "%reset -f"
   ]
  },
  {
   "cell_type": "code",
   "execution_count": null,
   "metadata": {
    "collapsed": true
   },
   "outputs": [],
   "source": []
  }
 ],
 "metadata": {
  "kernelspec": {
   "display_name": "Python 3",
   "language": "python",
   "name": "python3"
  },
  "language_info": {
   "codemirror_mode": {
    "name": "ipython",
    "version": 3
   },
   "file_extension": ".py",
   "mimetype": "text/x-python",
   "name": "python",
   "nbconvert_exporter": "python",
   "pygments_lexer": "ipython3",
   "version": "3.7.2"
  }
 },
 "nbformat": 4,
 "nbformat_minor": 2
}
