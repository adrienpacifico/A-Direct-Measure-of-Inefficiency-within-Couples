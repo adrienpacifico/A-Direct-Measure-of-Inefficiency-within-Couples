{
 "cells": [
  {
   "cell_type": "markdown",
   "metadata": {},
   "source": [
    "# Simulation impot concubains"
   ]
  },
  {
   "cell_type": "code",
   "execution_count": 1,
   "metadata": {
    "collapsed": false
   },
   "outputs": [
    {
     "name": "stdout",
     "output_type": "stream",
     "text": [
      "2019-04-26 17:48:09.934000\n"
     ]
    }
   ],
   "source": [
    "import datetime\n",
    "start_time = datetime.datetime.now(); print(start_time)"
   ]
  },
  {
   "cell_type": "code",
   "execution_count": 2,
   "metadata": {
    "collapsed": true
   },
   "outputs": [],
   "source": [
    "year = 2014"
   ]
  },
  {
   "cell_type": "code",
   "execution_count": 3,
   "metadata": {
    "collapsed": false
   },
   "outputs": [],
   "source": [
    "%matplotlib inline"
   ]
  },
  {
   "cell_type": "code",
   "execution_count": 4,
   "metadata": {
    "collapsed": true
   },
   "outputs": [],
   "source": [
    "import matplotlib.pyplot as plt"
   ]
  },
  {
   "cell_type": "code",
   "execution_count": 5,
   "metadata": {
    "collapsed": false
   },
   "outputs": [],
   "source": [
    "from __future__ import division\n",
    "import importlib\n",
    "import pandas as pd ; pd.set_option(\"display.max_columns\",200)\n",
    "import numpy as np\n",
    "import sys"
   ]
  },
  {
   "cell_type": "code",
   "execution_count": 6,
   "metadata": {
    "collapsed": false
   },
   "outputs": [],
   "source": [
    "import sys\n",
    "sys.path.append(\"./income_tax_function\")\n"
   ]
  },
  {
   "cell_type": "code",
   "execution_count": 7,
   "metadata": {
    "collapsed": false
   },
   "outputs": [],
   "source": [
    "if year == 2014:\n",
    "    ir = importlib.import_module(\"IRPP_from_scratch\")\n",
    "else :\n",
    "    ir = importlib.import_module(\"IRPP_from_scratch_{}\".format(year))"
   ]
  },
  {
   "cell_type": "code",
   "execution_count": 8,
   "metadata": {
    "collapsed": false
   },
   "outputs": [],
   "source": [
    "store_path = '../Data/hdf/edp_2015_final.h5'\n",
    "Store = pd.HDFStore(store_path)"
   ]
  },
  {
   "cell_type": "code",
   "execution_count": 9,
   "metadata": {
    "collapsed": true
   },
   "outputs": [],
   "source": [
    "def load_fisc_i_by_year(year = None):\n",
    "    df_fisci = pd.read_hdf(store_path, 'FISC_INDIVIDU_{}'.format(year))\n",
    "    return df_fisci\n",
    "def load_fisc_r_by_year(year = None):\n",
    "    df_fiscr = pd.read_hdf(store_path, 'FISC_REVENU_{}'.format(year))\n",
    "    return df_fiscr\n",
    "def load_fisc_l_by_year(year = None):\n",
    "    df_fiscr = pd.read_hdf(store_path, 'FISC_LOGEMENT_{}'.format(year))\n",
    "    return df_fiscr\n",
    "\n",
    "def load_df_fiscrevdet_by_year(year = None):\n",
    "    df_fiscrevdet = pd.read_hdf(store_path, 'FISC_REVDET_{}'.format(year))\n",
    "    return df_fiscrevdet\n",
    "    "
   ]
  },
  {
   "cell_type": "code",
   "execution_count": 10,
   "metadata": {
    "collapsed": false
   },
   "outputs": [],
   "source": [
    "df_fiscr = load_fisc_r_by_year(year)"
   ]
  },
  {
   "cell_type": "code",
   "execution_count": 11,
   "metadata": {
    "collapsed": false
   },
   "outputs": [
    {
     "name": "stdout",
     "output_type": "stream",
     "text": [
      "2015\n"
     ]
    }
   ],
   "source": [
    "print df_fiscr.AN_FISC.iloc[0]"
   ]
  },
  {
   "cell_type": "markdown",
   "metadata": {},
   "source": [
    "## Test contre simulateur DgFip"
   ]
  },
  {
   "cell_type": "code",
   "execution_count": 12,
   "metadata": {
    "collapsed": false
   },
   "outputs": [],
   "source": [
    "salcho_imp = ir.salcho_imp(pd.Series([103456, 103456, 74000]))\n",
    "parts_fiscales_enfants = ir.parts_fiscales_enfants((pd.Series([4,0,0])))"
   ]
  },
  {
   "cell_type": "code",
   "execution_count": 13,
   "metadata": {
    "collapsed": false
   },
   "outputs": [
    {
     "data": {
      "text/plain": [
       "0    93110\n",
       "1    93110\n",
       "2    66600\n",
       "dtype: float64"
      ]
     },
     "execution_count": 13,
     "metadata": {},
     "output_type": "execute_result"
    }
   ],
   "source": [
    "salcho_imp"
   ]
  },
  {
   "cell_type": "code",
   "execution_count": 14,
   "metadata": {
    "collapsed": false
   },
   "outputs": [
    {
     "data": {
      "text/plain": [
       "0     7609.00\n",
       "1    24643.32\n",
       "2    14341.16\n",
       "dtype: float64"
      ]
     },
     "execution_count": 14,
     "metadata": {},
     "output_type": "execute_result"
    }
   ],
   "source": [
    "ir.ir_avec_qf(salcho_imp, parts_fiscales_enfants)"
   ]
  },
  {
   "cell_type": "code",
   "execution_count": 15,
   "metadata": {
    "collapsed": false
   },
   "outputs": [
    {
     "data": {
      "text/plain": [
       "0    15583.32\n",
       "1    24643.32\n",
       "2    14341.16\n",
       "dtype: float64"
      ]
     },
     "execution_count": 15,
     "metadata": {},
     "output_type": "execute_result"
    }
   ],
   "source": [
    "ir.ir_avec_plafond_qf_enfant(salcho_imp, parts_fiscales_enfant=parts_fiscales_enfants)"
   ]
  },
  {
   "cell_type": "markdown",
   "metadata": {},
   "source": [
    "decote"
   ]
  },
  {
   "cell_type": "code",
   "execution_count": 16,
   "metadata": {
    "collapsed": false
   },
   "outputs": [
    {
     "data": {
      "text/plain": [
       "0    15583.32\n",
       "1    24643.32\n",
       "2    14341.16\n",
       "dtype: float64"
      ]
     },
     "execution_count": 16,
     "metadata": {},
     "output_type": "execute_result"
    }
   ],
   "source": [
    "np.maximum(0,ir.ir_avec_plafond_qf_enfant(salcho_imp, parts_fiscales_enfant=parts_fiscales_enfants) - \n",
    "           ir.decote_ir(salcho_imp,parts_fiscales_enfants))"
   ]
  },
  {
   "cell_type": "code",
   "execution_count": 17,
   "metadata": {
    "collapsed": false
   },
   "outputs": [
    {
     "data": {
      "text/plain": [
       "424.043"
      ]
     },
     "execution_count": 17,
     "metadata": {},
     "output_type": "execute_result"
    }
   ],
   "source": [
    "salaire =  ir.salcho_imp(pd.Series([17000]))\n",
    "ir.ppe(16000,4 ) "
   ]
  },
  {
   "cell_type": "code",
   "execution_count": 18,
   "metadata": {
    "collapsed": false
   },
   "outputs": [
    {
     "data": {
      "text/plain": [
       "array([   0,    1,    2, ..., 1997, 1998, 1999])"
      ]
     },
     "execution_count": 18,
     "metadata": {},
     "output_type": "execute_result"
    }
   ],
   "source": [
    "np.array(range(2000))"
   ]
  },
  {
   "cell_type": "markdown",
   "metadata": {},
   "source": [
    "# Match avec les déclarations fiscales individuelles."
   ]
  },
  {
   "cell_type": "code",
   "execution_count": 19,
   "metadata": {
    "collapsed": false
   },
   "outputs": [],
   "source": [
    "path = (u\"./Pickle/final_select_rev_{}.p\".format(year))"
   ]
  },
  {
   "cell_type": "code",
   "execution_count": 20,
   "metadata": {
    "collapsed": false
   },
   "outputs": [],
   "source": [
    "import pickle\n",
    "select_id_fisc_log = pickle.load(\n",
    "            open(path, 'rb'))"
   ]
  },
  {
   "cell_type": "code",
   "execution_count": 21,
   "metadata": {
    "collapsed": false
   },
   "outputs": [],
   "source": [
    "df_fisci = load_fisc_i_by_year(year)\n",
    "df_fisci_select =  df_fisci[df_fisci.ID_FISC_LOG_DIFF.isin(select_id_fisc_log)]"
   ]
  },
  {
   "cell_type": "code",
   "execution_count": 22,
   "metadata": {
    "collapsed": false
   },
   "outputs": [
    {
     "name": "stderr",
     "output_type": "stream",
     "text": [
      "C:\\Users\\IMPTEMP_A_PACIFIC\\Desktop\\WinPython-64bit-2.7.10.2\\WinPython-64bit-2.7.10.2\\python-2.7.10.amd64\\lib\\site-packages\\IPython\\kernel\\__main__.py:1: SettingWithCopyWarning: \n",
      "A value is trying to be set on a copy of a slice from a DataFrame.\n",
      "Try using .loc[row_indexer,col_indexer] = value instead\n",
      "\n",
      "See the the caveats in the documentation: http://pandas.pydata.org/pandas-docs/stable/indexing.html#indexing-view-versus-copy\n",
      "  if __name__ == '__main__':\n"
     ]
    }
   ],
   "source": [
    "df_fisci_select['SEXE'] = df_fisci_select.SEXE.fillna(0).astype('int')"
   ]
  },
  {
   "cell_type": "code",
   "execution_count": 23,
   "metadata": {
    "collapsed": false
   },
   "outputs": [
    {
     "data": {
      "text/plain": [
       "2    175693\n",
       "dtype: int64"
      ]
     },
     "execution_count": 23,
     "metadata": {},
     "output_type": "execute_result"
    }
   ],
   "source": [
    "df_fisci_select.groupby('ID_FISC_LOG_DIFF')['ID_FISC_FOY_DIFF'].nunique().value_counts()"
   ]
  },
  {
   "cell_type": "code",
   "execution_count": 24,
   "metadata": {
    "collapsed": true
   },
   "outputs": [],
   "source": [
    "del df_fisci"
   ]
  },
  {
   "cell_type": "code",
   "execution_count": 25,
   "metadata": {
    "collapsed": true
   },
   "outputs": [],
   "source": [
    "select = df_fisci_select.ID_FISC_FOY_DIFF"
   ]
  },
  {
   "cell_type": "code",
   "execution_count": 26,
   "metadata": {
    "collapsed": false
   },
   "outputs": [
    {
     "name": "stderr",
     "output_type": "stream",
     "text": [
      "C:\\Users\\IMPTEMP_A_PACIFIC\\Desktop\\WinPython-64bit-2.7.10.2\\WinPython-64bit-2.7.10.2\\python-2.7.10.amd64\\lib\\site-packages\\IPython\\kernel\\__main__.py:3: SettingWithCopyWarning: \n",
      "A value is trying to be set on a copy of a slice from a DataFrame.\n",
      "Try using .loc[row_indexer,col_indexer] = value instead\n",
      "\n",
      "See the the caveats in the documentation: http://pandas.pydata.org/pandas-docs/stable/indexing.html#indexing-view-versus-copy\n",
      "  app.launch_new_instance()\n"
     ]
    }
   ],
   "source": [
    "df_revdet =  pd.read_hdf(store_path, 'FISC_REVDET_{}'.format(year)) \n",
    "df_revdet_select = df_revdet[df_revdet.ID_FISC_FOY_DIFF.isin(select)]\n",
    "df_revdet_select['TYPE_FISC'] = df_revdet_select.TYPE_FISC.astype('str')\n",
    "df_revdet_select = df_revdet_select.merge(df_fisci_select, on = [\n",
    "        'ID_FISC_FOY_DIFF','ORDREFIP', 'TYPE_FISC'], how='right').sort('ID_FISC_LOG_DIFF')"
   ]
  },
  {
   "cell_type": "code",
   "execution_count": 27,
   "metadata": {
    "collapsed": false
   },
   "outputs": [],
   "source": [
    "columns = [u'AN_FISC_x', u'ID_FISC_FOY_DIFF', u'ID_FISC_LOG_DIFF', u'ORDREFIP', u'TYPE_FISC',\n",
    "       u'REV_PRINC', u'YSALI', u'YCHOI', u'YRSTI', u'YALRI', u'YRAGI',\n",
    "       u'YBICI', u'YBNCI', u'ID_DIFF', u'AN_FISC_y',\n",
    "       u'SEXE', u'JNAIS', u'MNAIS', u'ANAIS', u'CODNAIS', u'CIDECI', u'ZOXYZD',\n",
    "       u'DACOED', u'ZOXYZP', u'DACOEP', u'T_CHARGE', u'CNCOIPV', u'CSDEP',\n",
    "       u'CNE1', u'COM_NSCAT', u'COM_SCAT1', u'COM_SCAT2', u'I_FISC_LOGEMENT',\n",
    "       u'I_FISC_REVENU', u'TYPE_DECL', u'TYPE_PRES', u'POIDS_FIDELI']"
   ]
  },
  {
   "cell_type": "code",
   "execution_count": 28,
   "metadata": {
    "collapsed": false
   },
   "outputs": [],
   "source": [
    "df_revdet_select = df_revdet_select.sort(['ID_FISC_LOG_DIFF', 'ID_FISC_FOY_DIFF'])[columns]"
   ]
  },
  {
   "cell_type": "code",
   "execution_count": 29,
   "metadata": {
    "collapsed": true
   },
   "outputs": [],
   "source": []
  },
  {
   "cell_type": "code",
   "execution_count": 29,
   "metadata": {
    "collapsed": false
   },
   "outputs": [],
   "source": [
    "rev_sal = df_revdet_select[['YSALI','YCHOI']].sum(axis = 1)"
   ]
  },
  {
   "cell_type": "code",
   "execution_count": 30,
   "metadata": {
    "collapsed": false
   },
   "outputs": [],
   "source": [
    "salcho_imp = ir.salcho_imp(rev_sal)\n",
    "#TODO : tester lequel des deux marche le mieux\n",
    "# rev_sal = df_fisci_revdet[['YSALI','YCHOI']].sum(axis = 1)"
   ]
  },
  {
   "cell_type": "code",
   "execution_count": 31,
   "metadata": {
    "collapsed": true
   },
   "outputs": [],
   "source": []
  },
  {
   "cell_type": "code",
   "execution_count": 31,
   "metadata": {
    "collapsed": false
   },
   "outputs": [],
   "source": [
    "rpns_var = df_revdet_select[['YRAGI','YBICI','YBNCI']].sum(axis = 1) #rpns-->rev_act_nonsal-->rev_actdf_revdet_select"
   ]
  },
  {
   "cell_type": "markdown",
   "metadata": {},
   "source": [
    "YRAGI agricol Revenus \n",
    "YBICI industriels et commerciaux individuels\n",
    "YBNCI Revenus non commerciaux individuels"
   ]
  },
  {
   "cell_type": "code",
   "execution_count": 32,
   "metadata": {
    "collapsed": false
   },
   "outputs": [],
   "source": [
    "rev_pen_var = df_revdet_select[['YRSTI','YALRI']].sum(axis = 1)"
   ]
  },
  {
   "cell_type": "code",
   "execution_count": 33,
   "metadata": {
    "collapsed": false
   },
   "outputs": [
    {
     "name": "stdout",
     "output_type": "stream",
     "text": [
      "False    688083\n",
      "True      11608\n",
      "dtype: int64\n",
      "False    694193\n",
      "True       5498\n",
      "dtype: int64\n"
     ]
    }
   ],
   "source": [
    "print (df_revdet_select.YALRI>20).value_counts()\n",
    "print (df_revdet_select.YRSTI>20).value_counts()"
   ]
  },
  {
   "cell_type": "code",
   "execution_count": 34,
   "metadata": {
    "collapsed": false
   },
   "outputs": [],
   "source": [
    "rev_cat = salcho_imp + rpns_var + rev_pen_var\n",
    "#TODO : chack car fait à l'arrache."
   ]
  },
  {
   "cell_type": "code",
   "execution_count": 35,
   "metadata": {
    "collapsed": true
   },
   "outputs": [],
   "source": [
    "rbg = rev_cat #ne prends pas en compte (nbic_impm_holder) + nacc_pvce  - deficit_ante\n",
    "rni = rbg # prends pas en compte les abat_spe"
   ]
  },
  {
   "cell_type": "code",
   "execution_count": 36,
   "metadata": {
    "collapsed": false
   },
   "outputs": [],
   "source": [
    "df_fisci_revdet= df_revdet_select"
   ]
  },
  {
   "cell_type": "code",
   "execution_count": 37,
   "metadata": {
    "collapsed": false
   },
   "outputs": [],
   "source": [
    "df_fisci_revdet[\"Age\"] = year - df_fisci_revdet.ANAIS"
   ]
  },
  {
   "cell_type": "code",
   "execution_count": 38,
   "metadata": {
    "collapsed": false
   },
   "outputs": [],
   "source": [
    "df_fisci_revdet[\"Reduction_impot_pour_etudes\"] = (\n",
    "    ((df_fisci_revdet.Age >10)& (df_fisci_revdet.Age <=14)) *61 +\n",
    "  ( (df_fisci_revdet.Age >14)& (df_fisci_revdet.Age <=18)) *153 \n",
    "  # + ( (df_fisci_revdet.Age >18)& (df_fisci_revdet.Age <=25)) *183\n",
    ").astype('float')"
   ]
  },
  {
   "cell_type": "markdown",
   "metadata": {},
   "source": [
    "### Crée une variable avec l'age de tout les enfants à la suite"
   ]
  },
  {
   "cell_type": "code",
   "execution_count": 39,
   "metadata": {
    "collapsed": true
   },
   "outputs": [],
   "source": []
  },
  {
   "cell_type": "code",
   "execution_count": 39,
   "metadata": {
    "collapsed": true
   },
   "outputs": [],
   "source": []
  },
  {
   "cell_type": "code",
   "execution_count": 39,
   "metadata": {
    "collapsed": false
   },
   "outputs": [],
   "source": [
    "groupie = df_fisci_revdet.groupby('ID_FISC_LOG_DIFF')"
   ]
  },
  {
   "cell_type": "code",
   "execution_count": 40,
   "metadata": {
    "collapsed": false
   },
   "outputs": [
    {
     "data": {
      "text/plain": [
       "16.0"
      ]
     },
     "execution_count": 40,
     "metadata": {},
     "output_type": "execute_result"
    }
   ],
   "source": [
    "groupie.nth(1).Age.iloc[0]"
   ]
  },
  {
   "cell_type": "code",
   "execution_count": 41,
   "metadata": {
    "collapsed": false
   },
   "outputs": [],
   "source": [
    "#df_fisci_revdet.head()"
   ]
  },
  {
   "cell_type": "code",
   "execution_count": 42,
   "metadata": {
    "collapsed": true
   },
   "outputs": [],
   "source": [
    "df_fisci_revdet[\"Rni\"] = rni"
   ]
  },
  {
   "cell_type": "code",
   "execution_count": 43,
   "metadata": {
    "collapsed": true
   },
   "outputs": [],
   "source": [
    "grpby = df_fisci_revdet.groupby('ID_FISC_FOY_DIFF')"
   ]
  },
  {
   "cell_type": "code",
   "execution_count": 44,
   "metadata": {
    "collapsed": false
   },
   "outputs": [],
   "source": [
    "grpby_fisci_count = grpby.count()\n"
   ]
  },
  {
   "cell_type": "code",
   "execution_count": 45,
   "metadata": {
    "collapsed": false
   },
   "outputs": [],
   "source": [
    "grpby_fisci_sum = grpby.sum()"
   ]
  },
  {
   "cell_type": "code",
   "execution_count": 46,
   "metadata": {
    "collapsed": false
   },
   "outputs": [],
   "source": [
    "grpby_fisci_first = df_fisci_revdet[df_fisci_revdet.TYPE_FISC == \"1\"].groupby('ID_FISC_FOY_DIFF').first()"
   ]
  },
  {
   "cell_type": "code",
   "execution_count": 47,
   "metadata": {
    "collapsed": false
   },
   "outputs": [],
   "source": [
    "#grpby_fisci_first.head(15)"
   ]
  },
  {
   "cell_type": "code",
   "execution_count": 48,
   "metadata": {
    "collapsed": false
   },
   "outputs": [],
   "source": [
    "#merge = pd.merge(grpby_fisci.reset_index(), df_fisci_bio, on = 'ID_FISC_FOY_DIFF')"
   ]
  },
  {
   "cell_type": "code",
   "execution_count": 49,
   "metadata": {
    "collapsed": false
   },
   "outputs": [],
   "source": [
    "nb_individu_foyer = grpby_fisci_count['AN_FISC_y']\n",
    "nb_enfant = nb_individu_foyer - 1\n",
    "grpby_fisci_first['Nb_enfants'] = nb_enfant"
   ]
  },
  {
   "cell_type": "code",
   "execution_count": 50,
   "metadata": {
    "collapsed": false
   },
   "outputs": [],
   "source": [
    "parts_fiscales_enfants = ir.parts_fiscales_enfants(nb_enfant)\n",
    "grpby_fisci_first['Parts_fiscales_enfants'] = parts_fiscales_enfants\n"
   ]
  },
  {
   "cell_type": "code",
   "execution_count": 51,
   "metadata": {
    "collapsed": false
   },
   "outputs": [
    {
     "data": {
      "text/plain": [
       "(351386L,)"
      ]
     },
     "execution_count": 51,
     "metadata": {},
     "output_type": "execute_result"
    }
   ],
   "source": [
    "grpby_fisci_sum.Rni.shape"
   ]
  },
  {
   "cell_type": "code",
   "execution_count": 52,
   "metadata": {
    "collapsed": false
   },
   "outputs": [
    {
     "data": {
      "text/html": [
       "<div>\n",
       "<table border=\"1\" class=\"dataframe\">\n",
       "  <thead>\n",
       "    <tr style=\"text-align: right;\">\n",
       "      <th></th>\n",
       "      <th>Parts_fiscales_enfants</th>\n",
       "      <th>Nb_enfants</th>\n",
       "    </tr>\n",
       "  </thead>\n",
       "  <tbody>\n",
       "    <tr>\n",
       "      <th>0</th>\n",
       "      <td>0.5</td>\n",
       "      <td>1</td>\n",
       "    </tr>\n",
       "    <tr>\n",
       "      <th>1</th>\n",
       "      <td>1.0</td>\n",
       "      <td>2</td>\n",
       "    </tr>\n",
       "    <tr>\n",
       "      <th>2</th>\n",
       "      <td>0.5</td>\n",
       "      <td>1</td>\n",
       "    </tr>\n",
       "    <tr>\n",
       "      <th>3</th>\n",
       "      <td>0.0</td>\n",
       "      <td>0</td>\n",
       "    </tr>\n",
       "    <tr>\n",
       "      <th>4</th>\n",
       "      <td>0.5</td>\n",
       "      <td>1</td>\n",
       "    </tr>\n",
       "  </tbody>\n",
       "</table>\n",
       "</div>"
      ],
      "text/plain": [
       "   Parts_fiscales_enfants  Nb_enfants\n",
       "0                     0.5           1\n",
       "1                     1.0           2\n",
       "2                     0.5           1\n",
       "3                     0.0           0\n",
       "4                     0.5           1"
      ]
     },
     "execution_count": 52,
     "metadata": {},
     "output_type": "execute_result"
    }
   ],
   "source": [
    "grpby_fisci_first.reset_index()[[\"Parts_fiscales_enfants\", 'Nb_enfants']].head()"
   ]
  },
  {
   "cell_type": "code",
   "execution_count": 53,
   "metadata": {
    "collapsed": false
   },
   "outputs": [],
   "source": [
    "grpby_fisci_first['Irpp_ss_qf'] = ir.ir_sans_qf(grpby_fisci_sum.Rni)\n",
    "grpby_fisci_first['Irpp_ac_qf'] = ir.ir_avec_qf(grpby_fisci_sum.Rni, parts_fiscales_enfants)\n",
    "grpby_fisci_first['Irpp_ac_plaf_qf'] = ir.ir_avec_plafond_qf_enfant(grpby_fisci_sum.Rni, parts_fiscales_enfants)\n",
    "grpby_fisci_first['Ppe'] = ir.ppe(grpby_fisci_sum.YSALI, grpby_fisci_first.Nb_enfants)\n"
   ]
  },
  {
   "cell_type": "code",
   "execution_count": 54,
   "metadata": {
    "collapsed": true
   },
   "outputs": [],
   "source": []
  },
  {
   "cell_type": "code",
   "execution_count": 54,
   "metadata": {
    "collapsed": false
   },
   "outputs": [],
   "source": [
    "\n",
    "grpby_fisci_first['Decote'] = ir.decote_ir(grpby_fisci_sum.Rni, parts_fiscales_enfants)\n",
    "grpby_fisci_first['Irpp_decote'] =  np.maximum(0, grpby_fisci_first['Irpp_ac_plaf_qf'] -grpby_fisci_first['Decote'] )\n",
    "grpby_fisci_first['Irpp_seuil_prelevement'] = ((grpby_fisci_first['Irpp_decote']<=62)*0 +\n",
    "                                               (grpby_fisci_first['Irpp_decote']>62)*grpby_fisci_first['Irpp_decote'])\n"
   ]
  },
  {
   "cell_type": "code",
   "execution_count": 55,
   "metadata": {
    "collapsed": true
   },
   "outputs": [],
   "source": [
    "grpby_fisci_first[\"Reduction_impot_pour_etudes\"] = grpby_fisci_sum.Reduction_impot_pour_etudes"
   ]
  },
  {
   "cell_type": "code",
   "execution_count": 56,
   "metadata": {
    "collapsed": true
   },
   "outputs": [],
   "source": [
    "grpby_fisci_first['Irpp_reduction_impot_etudes'] = np.maximum(0, grpby_fisci_first['Irpp_decote'] - grpby_fisci_sum.Reduction_impot_pour_etudes)\n",
    "grpby_fisci_first['Irpp_reduction_impot_etudes_seuil'] = ((grpby_fisci_first['Irpp_reduction_impot_etudes']<=62)*0 +\n",
    "                                               (grpby_fisci_first['Irpp_reduction_impot_etudes']>62)*grpby_fisci_first['Irpp_reduction_impot_etudes'])"
   ]
  },
  {
   "cell_type": "code",
   "execution_count": 57,
   "metadata": {
    "collapsed": false
   },
   "outputs": [],
   "source": [
    "#grpby_fisci_first[['Irpp_reduction_impot_etudes', 'Irpp_decote',\"Reduction_impot_pour_etudes\" ]].head()"
   ]
  },
  {
   "cell_type": "code",
   "execution_count": 58,
   "metadata": {
    "collapsed": false
   },
   "outputs": [],
   "source": [
    "#grpby_fisci_first[['Irpp_reduction_impot_etudes', 'Irpp_decote',\"Reduction_impot_pour_etudes\" ]].head()"
   ]
  },
  {
   "cell_type": "code",
   "execution_count": 59,
   "metadata": {
    "collapsed": false
   },
   "outputs": [],
   "source": [
    "grpby_fisci_first[\"Rni_pere\"] = grpby_fisci_first[grpby_fisci_first.SEXE == 1].Rni\n",
    "grpby_fisci_first[\"Rni_mere\"] = grpby_fisci_first[grpby_fisci_first.SEXE == 2].Rni\n",
    "\n",
    "grpby_fisci_first[\"Salaire_pere\"] = grpby_fisci_first[grpby_fisci_first.SEXE == 1].YSALI\n",
    "grpby_fisci_first[\"Salaire_mere\"] = grpby_fisci_first[grpby_fisci_first.SEXE == 2].YSALI\n",
    "\n",
    "grpby_fisci_first[\"Irpp_decote_pere\"] = grpby_fisci_first[grpby_fisci_first.SEXE == 1].Irpp_decote\n",
    "grpby_fisci_first[\"Irpp_decote_mere\"] = grpby_fisci_first[grpby_fisci_first.SEXE == 2].Irpp_decote\n",
    "grpby_fisci_first.loc[grpby_fisci_first['SEXE'] == 1, 'Allocation_pere'] = grpby_fisci_first.Nb_enfants\n",
    "grpby_fisci_first.loc[grpby_fisci_first['SEXE'] == 2, 'Allocation_mere'] = grpby_fisci_first.Nb_enfants\n",
    "grpby_fisci_first[\"Age_pere\"] = year - grpby_fisci_first[grpby_fisci_first.SEXE == 1].ANAIS\n",
    "grpby_fisci_first[\"Age_mere\"] = year - grpby_fisci_first[grpby_fisci_first.SEXE == 2].ANAIS"
   ]
  },
  {
   "cell_type": "code",
   "execution_count": 60,
   "metadata": {
    "collapsed": false
   },
   "outputs": [
    {
     "data": {
      "text/plain": [
       "NaN       175968\n",
       " 0         22106\n",
       " 18000       114\n",
       " 24000       114\n",
       "dtype: int64"
      ]
     },
     "execution_count": 60,
     "metadata": {},
     "output_type": "execute_result"
    }
   ],
   "source": [
    "grpby_fisci_first.Salaire_pere.value_counts(dropna=False).head(4)"
   ]
  },
  {
   "cell_type": "code",
   "execution_count": 61,
   "metadata": {
    "collapsed": false
   },
   "outputs": [],
   "source": [
    "grpby_fisci_first[\"Not_touched_by_decote\"] = grpby_fisci_first.Irpp_decote == grpby_fisci_first.Irpp_ac_plaf_qf"
   ]
  },
  {
   "cell_type": "markdown",
   "metadata": {},
   "source": [
    "### Travail sur petit sample dans un premier temps"
   ]
  },
  {
   "cell_type": "code",
   "execution_count": 62,
   "metadata": {
    "collapsed": true
   },
   "outputs": [],
   "source": [
    "irpp_by_log_diff = grpby_fisci_first.groupby('ID_FISC_LOG_DIFF').sum().reset_index()"
   ]
  },
  {
   "cell_type": "code",
   "execution_count": 63,
   "metadata": {
    "collapsed": true
   },
   "outputs": [],
   "source": [
    "#df = df_fiscr.merge(irpp_by_log_diff, on='ID_FISC_LOG_DIFF')\n",
    "#df_right = df_fiscr.merge(irpp_by_log_diff, on='ID_FISC_LOG_DIFF', how = 'outer')"
   ]
  },
  {
   "cell_type": "code",
   "execution_count": 64,
   "metadata": {
    "collapsed": true
   },
   "outputs": [],
   "source": [
    "small_sample_ripp_fisci = grpby_fisci_first.sort('ID_FISC_LOG_DIFF')\n",
    "small_sample_ripp_fisci = small_sample_ripp_fisci#.iloc[:1000].reset_index()"
   ]
  },
  {
   "cell_type": "code",
   "execution_count": 65,
   "metadata": {
    "collapsed": false
   },
   "outputs": [
    {
     "data": {
      "text/plain": [
       "(351386, 61)"
      ]
     },
     "execution_count": 65,
     "metadata": {},
     "output_type": "execute_result"
    }
   ],
   "source": [
    "small_sample_ripp_fisci.shape"
   ]
  },
  {
   "cell_type": "code",
   "execution_count": 66,
   "metadata": {
    "collapsed": false,
    "scrolled": true
   },
   "outputs": [],
   "source": [
    "#small_sample_ripp_fisci.head()"
   ]
  },
  {
   "cell_type": "code",
   "execution_count": 67,
   "metadata": {
    "collapsed": true
   },
   "outputs": [],
   "source": [
    "small_sample_ripp_fiscr = df_fiscr.sort('ID_FISC_LOG_DIFF')#.iloc[0:5000]"
   ]
  },
  {
   "cell_type": "code",
   "execution_count": 68,
   "metadata": {
    "collapsed": false,
    "scrolled": true
   },
   "outputs": [
    {
     "name": "stdout",
     "output_type": "stream",
     "text": [
      "Wall time: 33 s\n"
     ]
    }
   ],
   "source": [
    "%%time\n",
    "small_merge=pd.merge(small_sample_ripp_fisci.reset_index(), small_sample_ripp_fiscr, on = 'ID_FISC_LOG_DIFF')"
   ]
  },
  {
   "cell_type": "code",
   "execution_count": 69,
   "metadata": {
    "collapsed": false
   },
   "outputs": [
    {
     "data": {
      "text/plain": [
       "(351386, 161)"
      ]
     },
     "execution_count": 69,
     "metadata": {},
     "output_type": "execute_result"
    }
   ],
   "source": [
    "small_merge.shape"
   ]
  },
  {
   "cell_type": "code",
   "execution_count": 70,
   "metadata": {
    "collapsed": false
   },
   "outputs": [
    {
     "data": {
      "text/plain": [
       "ID_FISC_LOG_DIFF\n",
       "87     2\n",
       "96     3\n",
       "97     2\n",
       "107    2\n",
       "126    4\n",
       "Name: Nb_enfants, dtype: int64"
      ]
     },
     "execution_count": 70,
     "metadata": {},
     "output_type": "execute_result"
    }
   ],
   "source": [
    "small_merge.groupby('ID_FISC_LOG_DIFF').sum().Nb_enfants.head()"
   ]
  },
  {
   "cell_type": "markdown",
   "metadata": {},
   "source": [
    "Pour chaque logement ayant N enfants on a N+1 allocations possible."
   ]
  },
  {
   "cell_type": "code",
   "execution_count": 71,
   "metadata": {
    "collapsed": true
   },
   "outputs": [],
   "source": []
  },
  {
   "cell_type": "code",
   "execution_count": 71,
   "metadata": {
    "collapsed": false
   },
   "outputs": [],
   "source": []
  },
  {
   "cell_type": "code",
   "execution_count": 71,
   "metadata": {
    "collapsed": false
   },
   "outputs": [],
   "source": []
  },
  {
   "cell_type": "markdown",
   "metadata": {},
   "source": [
    "### Touché par la décote"
   ]
  },
  {
   "cell_type": "code",
   "execution_count": 71,
   "metadata": {
    "collapsed": true
   },
   "outputs": [],
   "source": []
  },
  {
   "cell_type": "code",
   "execution_count": 71,
   "metadata": {
    "collapsed": true
   },
   "outputs": [],
   "source": []
  },
  {
   "cell_type": "code",
   "execution_count": 71,
   "metadata": {
    "collapsed": false
   },
   "outputs": [],
   "source": [
    "small_sample_ripp_fisci.loc[small_sample_ripp_fisci.ID_FISC_LOG_DIFF == 216,'Nb_enfants'] = pd.Series([0,1]).values"
   ]
  },
  {
   "cell_type": "code",
   "execution_count": 72,
   "metadata": {
    "collapsed": false
   },
   "outputs": [],
   "source": [
    "#small_sample_ripp_fisci[small_sample_ripp_fisci.ID_FISC_LOG_DIFF == 216]"
   ]
  },
  {
   "cell_type": "markdown",
   "metadata": {},
   "source": [
    "Stratégie : On trie par ID_FISC_LOG puis par ID_FOY. ON sépare en fonction du nombre d'enfants pour faire plusieurs moulinettes.\n",
    "Il y a N+1 allocations possibles.\n",
    "\n",
    "On veut se retrouver avec une df_fisci qui fait impot8allocation_1, impot_allocation_2,..., impot_allocation_n\n",
    "\n",
    "Si 1 enfant on fait d'abord l'impot avec toute les parts sur le premier parent, puis sur le deuxième.\n"
   ]
  },
  {
   "cell_type": "markdown",
   "metadata": {},
   "source": [
    "#### On isole les 1 enfants"
   ]
  },
  {
   "cell_type": "code",
   "execution_count": 73,
   "metadata": {
    "collapsed": false
   },
   "outputs": [],
   "source": [
    "grpby = small_merge.groupby('ID_FISC_LOG_DIFF').sum()\n",
    "grpby_1_enfant = grpby[grpby.Nb_enfants == 1]\n",
    "grpby_2_enfant = grpby[grpby.Nb_enfants == 2]\n",
    "grpby_3_enfant = grpby[grpby.Nb_enfants == 3]\n",
    "grpby_4_enfant = grpby[grpby.Nb_enfants == 4]\n",
    "grpby_5_enfant = grpby[grpby.Nb_enfants == 5]\n",
    "grpby_6_enfant = grpby[grpby.Nb_enfants == 6]\n",
    "grpby_7_enfant = grpby[grpby.Nb_enfants == 7]\n",
    "grpby_8_enfant = grpby[grpby.Nb_enfants == 8]\n",
    "\n"
   ]
  },
  {
   "cell_type": "code",
   "execution_count": 74,
   "metadata": {
    "collapsed": false
   },
   "outputs": [
    {
     "data": {
      "text/plain": [
       "2     75502\n",
       "1     62300\n",
       "3     23985\n",
       "4      9217\n",
       "5      2301\n",
       "6      1546\n",
       "8       280\n",
       "7       244\n",
       "0       173\n",
       "10       60\n",
       "9        53\n",
       "12       18\n",
       "11       13\n",
       "13        1\n",
       "dtype: int64"
      ]
     },
     "execution_count": 74,
     "metadata": {},
     "output_type": "execute_result"
    }
   ],
   "source": [
    "grpby.Nb_enfants.value_counts()"
   ]
  },
  {
   "cell_type": "code",
   "execution_count": 75,
   "metadata": {
    "collapsed": false
   },
   "outputs": [],
   "source": [
    "#\n",
    "grpby_dict= dict()\n",
    "for nb_enf in range(1,9):\n",
    "    grpby_dict[\"{}_child\".format(nb_enf)] = grpby[grpby.Nb_enfants == nb_enf].reset_index()"
   ]
  },
  {
   "cell_type": "code",
   "execution_count": 76,
   "metadata": {
    "collapsed": true
   },
   "outputs": [],
   "source": [
    "#\n",
    "df_fisci_dict = dict()\n",
    "for nb_enf in range(1,9):\n",
    "    small_sample_ripp_fisci[\"nb_enfant_total\"] = nb_enf\n",
    "    temp = small_sample_ripp_fisci[small_sample_ripp_fisci.ID_FISC_LOG_DIFF.isin( grpby_dict[\"{}_child\".format(nb_enf)].ID_FISC_LOG_DIFF)]\n",
    "    df_fisci_dict[\"{}_child\".format(nb_enf)] = temp.reset_index().sort(['ID_FISC_LOG_DIFF','ID_FISC_FOY_DIFF'])"
   ]
  },
  {
   "cell_type": "code",
   "execution_count": 77,
   "metadata": {
    "collapsed": false
   },
   "outputs": [],
   "source": [
    "for nb_enf in range(1,9): #Teste qu'on a bien toujours que 2 observations dans chaque logement fiscal\n",
    "    assert  np.all(df_fisci_dict[\"{}_child\".format(1)].groupby(\"ID_FISC_LOG_DIFF\")[\"ID_FISC_FOY_DIFF\"].nunique())"
   ]
  },
  {
   "cell_type": "code",
   "execution_count": 78,
   "metadata": {
    "collapsed": false
   },
   "outputs": [
    {
     "name": "stdout",
     "output_type": "stream",
     "text": [
      "2    62300\n",
      "dtype: int64\n",
      "2    75502\n",
      "dtype: int64\n",
      "2    23985\n",
      "dtype: int64\n",
      "2    9217\n",
      "dtype: int64\n",
      "2    2301\n",
      "dtype: int64\n",
      "2    1546\n",
      "dtype: int64\n",
      "2    244\n",
      "dtype: int64\n",
      "2    280\n",
      "dtype: int64\n"
     ]
    }
   ],
   "source": [
    "for nb_enf in range(1,9): #Teste qu'on a bien toujours que 2 observations dans chaque logement fiscal\n",
    "      print df_fisci_dict[\"{}_child\".format(nb_enf)].groupby(\"ID_FISC_LOG_DIFF\")[\"AN_FISC_x\"].count().value_counts()"
   ]
  },
  {
   "cell_type": "markdown",
   "metadata": {},
   "source": [
    "Sort par le sexe pour que allocation 1 corresponde bien au père qui prend un enfant, et alloc 2 la mere, etc"
   ]
  },
  {
   "cell_type": "code",
   "execution_count": 79,
   "metadata": {
    "collapsed": true
   },
   "outputs": [],
   "source": [
    "for nb_enf in range(1,9):\n",
    "      df_fisci_dict[\"{}_child\".format(nb_enf)] = df_fisci_dict[\"{}_child\".format(nb_enf)].sort([\"ID_FISC_LOG_DIFF\",\"SEXE\"])"
   ]
  },
  {
   "cell_type": "code",
   "execution_count": 80,
   "metadata": {
    "collapsed": false
   },
   "outputs": [],
   "source": [
    "#\n",
    "for nb_enf1 in range(1,9):\n",
    "    df_temp = df_fisci_dict[\"{}_child\".format(nb_enf1)]\n",
    "    nb_enfant_total= nb_enf1\n",
    "    for nb_enf2 in range(nb_enfant_total+1):\n",
    "        df_temp[\"Nb_enf_allocation_{}\".format(nb_enf2+1)] = int(len(df_temp)/2)*[nb_enf2, nb_enfant_total - nb_enf2] \n",
    "    df_fisci_dict[\"{}_child\".format(nb_enf)] = df_temp\n"
   ]
  },
  {
   "cell_type": "code",
   "execution_count": 81,
   "metadata": {
    "collapsed": true
   },
   "outputs": [],
   "source": []
  },
  {
   "cell_type": "code",
   "execution_count": 81,
   "metadata": {
    "collapsed": true
   },
   "outputs": [],
   "source": [
    "#### Calcul de l'impot"
   ]
  },
  {
   "cell_type": "code",
   "execution_count": 82,
   "metadata": {
    "collapsed": false
   },
   "outputs": [],
   "source": [
    "grpby_fisci_first['Ppe'] = ir.ppe(grpby_fisci_sum.YSALI, grpby_fisci_first.Nb_enfants)\n",
    "grpby_fisci_first['Decote'] = ir.decote_ir(grpby_fisci_sum.Rni, parts_fiscales_enfants)\n",
    "grpby_fisci_first['Irpp_decote'] =  np.maximum(0, grpby_fisci_first['Irpp_ac_plaf_qf'] -grpby_fisci_first['Decote'] )\n",
    "grpby_fisci_first['Irpp_seuil_prelevement'] = ((grpby_fisci_first['Irpp_decote']<=62)*0 +\n",
    "                                               (grpby_fisci_first['Irpp_decote']>62)*grpby_fisci_first['Irpp_decote'])\n",
    "grpby_fisci_first[\"Reduction_impot_pour_etudes\"] = grpby_fisci_sum.Reduction_impot_pour_etudes\n",
    "grpby_fisci_first['Irpp_reduction_impot_etudes'] = np.maximum(0, grpby_fisci_first['Irpp_decote'] - grpby_fisci_sum.Reduction_impot_pour_etudes)\n",
    "grpby_fisci_first['Irpp_reduction_impot_etudes_seuil'] = ((grpby_fisci_first['Irpp_reduction_impot_etudes']<=62)*0 +\n",
    "                         \n",
    "                                                          (grpby_fisci_first['Irpp_reduction_impot_etudes']>62)*grpby_fisci_first['Irpp_reduction_impot_etudes'])"
   ]
  },
  {
   "cell_type": "code",
   "execution_count": 83,
   "metadata": {
    "collapsed": false
   },
   "outputs": [],
   "source": [
    "#grpby_fisci_first.sort(\"ID_FISC_LOG_DIFF\").head(10)"
   ]
  },
  {
   "cell_type": "code",
   "execution_count": 84,
   "metadata": {
    "collapsed": false
   },
   "outputs": [],
   "source": [
    "from scipy import special"
   ]
  },
  {
   "cell_type": "code",
   "execution_count": 85,
   "metadata": {
    "collapsed": false
   },
   "outputs": [],
   "source": [
    "## More kind of taxes\n",
    "for nb_enf in range(1,9):\n",
    "    df_temp = df_fisci_dict[\"{}_child\".format(nb_enf)]\n",
    "    \n",
    "    for alloc_number in range(1,nb_enf+2): # Il y a nb_enf+1 allocations possibles     \n",
    "        \n",
    "        ## Decote\n",
    "        parts_fiscales_enfants = pd.Series(ir.parts_fiscales_enfants(df_temp['Nb_enf_allocation_{}'.format(alloc_number)]))\n",
    "        decote = ir.decote_ir(df_temp.Rni, parts_fiscales_enfants)\n",
    "        irpp_ac_plaf_qf = ir.ir_avec_plafond_qf_enfant(df_temp.Rni, parts_fiscales_enfants)\n",
    "        df_temp['Irpp_decote_allocation_{}'.format(alloc_number)] =  np.maximum(0, irpp_ac_plaf_qf -decote )\n",
    "        \n",
    "        ## Seuil prelevement\n",
    "        \n",
    "        df_temp['Irpp_decote_seuil_prel_allocation_{}'.format(alloc_number)] =  ((irpp_ac_plaf_qf<=62)*0 +\n",
    "                                               (irpp_ac_plaf_qf>62)*irpp_ac_plaf_qf)\n",
    "        \n",
    "        ##\n",
    "        \n",
    "\n",
    "        \n",
    "        \n",
    "        \n",
    "        \n",
    "        \n",
    "        \n",
    "        \n",
    "        \n",
    "        df_fisci_dict[\"{}_child\".format(nb_enf)] = df_temp"
   ]
  },
  {
   "cell_type": "code",
   "execution_count": 86,
   "metadata": {
    "collapsed": false
   },
   "outputs": [],
   "source": [
    "#df_fisci_dict[\"{}_child\".format(nb_enf)].head()"
   ]
  },
  {
   "cell_type": "code",
   "execution_count": 87,
   "metadata": {
    "collapsed": true
   },
   "outputs": [],
   "source": [
    "# Simple\n",
    "\n",
    "for nb_enf in range(1,9):\n",
    "    df_temp = df_fisci_dict[\"{}_child\".format(nb_enf)]\n",
    "    \n",
    "    for alloc_number in range(1,nb_enf+2): # Il y a nb_enf+1 allocations possibles     \n",
    "        parts_fiscales_enfants = pd.Series(ir.parts_fiscales_enfants(df_temp['Nb_enf_allocation_{}'.format(alloc_number)]))\n",
    "        decote = ir.decote_ir(df_temp.Rni, parts_fiscales_enfants)\n",
    "        irpp_ac_plaf_qf = ir.ir_avec_plafond_qf_enfant(df_temp.Rni, parts_fiscales_enfants)\n",
    "        df_temp['Irpp_decote_allocation_{}'.format(alloc_number)] =  np.maximum(0, irpp_ac_plaf_qf -decote )\n",
    "        df_fisci_dict[\"{}_child\".format(nb_enf)] = df_temp"
   ]
  },
  {
   "cell_type": "code",
   "execution_count": 88,
   "metadata": {
    "collapsed": false
   },
   "outputs": [],
   "source": [
    "#df_fisci_dict[\"{}_child\".format(2)][['ID_FISC_LOG_DIFF']+['Irpp_decote_allocation_{}'.format(aloc) for aloc in range(1,4)]+['Irpp_decote']].head()"
   ]
  },
  {
   "cell_type": "code",
   "execution_count": 89,
   "metadata": {
    "collapsed": false
   },
   "outputs": [],
   "source": [
    "#df_fisci_dict[\"{}_child\".format(2)][['ID_FISC_LOG_DIFF']+['Irpp_decote_allocation_{}'.format(aloc) for aloc in range(1,4)]+['Irpp_decote']].head()"
   ]
  },
  {
   "cell_type": "code",
   "execution_count": 90,
   "metadata": {
    "collapsed": false
   },
   "outputs": [],
   "source": [
    "select_var= ['Irpp_decote_allocation_{}'.format(aloc) for aloc in range(1,nb_enf + 2)]+['Irpp_decote']\\\n",
    "            +[\"ZIMPOM\"]"
   ]
  },
  {
   "cell_type": "code",
   "execution_count": 91,
   "metadata": {
    "collapsed": false
   },
   "outputs": [],
   "source": [
    "result_dict = dict()\n",
    "for nb_enf in range(1,9):\n",
    "    result_dict[\"{}_child\".format(nb_enf)] = df_fisci_dict[\"{}_child\".format(nb_enf)\n",
    "                                                          ].groupby('ID_FISC_LOG_DIFF').sum()"
   ]
  },
  {
   "cell_type": "code",
   "execution_count": 92,
   "metadata": {
    "collapsed": false
   },
   "outputs": [],
   "source": [
    "#result_dict[\"{}_child\".format(1)].head()"
   ]
  },
  {
   "cell_type": "code",
   "execution_count": 93,
   "metadata": {
    "collapsed": false
   },
   "outputs": [],
   "source": [
    "for nb_enf in range(1,9):\n",
    "    result = result_dict[\"{}_child\".format(nb_enf)]\n",
    "    result[\"result_min_allocation\"] = result[['Irpp_decote_allocation_{}'.format(aloc) for aloc in range(1,nb_enf+2)]].min(axis = 1)\n",
    "    result[\"result_max_allocation\"] = result[['Irpp_decote_allocation_{}'.format(aloc) for aloc in range(1,nb_enf+2)]].max(axis = 1)\n",
    "    result[\"Gain_fiscal_max\"] = result[\"result_max_allocation\"] - result[\"result_min_allocation\"]\n",
    "\n",
    "    result[\"Fiscal_loss\"] =  result[\"Irpp_decote\"] -result[\"result_min_allocation\"]\n",
    "    result_dict[\"{}_child\".format(nb_enf)] = result"
   ]
  },
  {
   "cell_type": "code",
   "execution_count": 94,
   "metadata": {
    "collapsed": false
   },
   "outputs": [
    {
     "data": {
      "text/plain": [
       "False    142\n",
       "True     102\n",
       "dtype: int64"
      ]
     },
     "execution_count": 94,
     "metadata": {},
     "output_type": "execute_result"
    }
   ],
   "source": [
    "(result.result_min_allocation == result.result_max_allocation).value_counts()"
   ]
  },
  {
   "cell_type": "code",
   "execution_count": 95,
   "metadata": {
    "collapsed": false
   },
   "outputs": [],
   "source": [
    "#for nb_enf in range(1,9):\n",
    "#    result = result_dict[\"{}_child\".format(nb_enf)]\n",
    "#    print 'nb_child: ', nb_enf, '\\n', (result.result_min_allocation == result.result_max_allocation).value_counts()"
   ]
  },
  {
   "cell_type": "code",
   "execution_count": 96,
   "metadata": {
    "collapsed": false
   },
   "outputs": [],
   "source": [
    "# #\n",
    "# for nb_enf in range(1,9):\n",
    "#     result = result_dict[\"{}_child\".format(nb_enf)]\n",
    "#     print 'nb_child: ', nb_enf, '\\n', (result.result_min_allocation == result.Irpp_decote).value_counts()\n",
    "#     print (result.result_min_allocation == result.Irpp_decote).value_counts(normalize = True)"
   ]
  },
  {
   "cell_type": "markdown",
   "metadata": {},
   "source": [
    "On concatène les tables avant de merger à fiscr (pour avoir ZIMPOM)."
   ]
  },
  {
   "cell_type": "code",
   "execution_count": 97,
   "metadata": {
    "collapsed": true
   },
   "outputs": [],
   "source": [
    "frames = result_dict\n",
    "df = pd.concat(result_dict)"
   ]
  },
  {
   "cell_type": "code",
   "execution_count": 98,
   "metadata": {
    "collapsed": false
   },
   "outputs": [],
   "source": [
    "#df.head()"
   ]
  },
  {
   "cell_type": "code",
   "execution_count": 99,
   "metadata": {
    "collapsed": false
   },
   "outputs": [
    {
     "name": "stdout",
     "output_type": "stream",
     "text": [
      "True     130706\n",
      "False     44633\n",
      "dtype: int64\n",
      "False    144265\n",
      "True      31074\n",
      "dtype: int64\n"
     ]
    }
   ],
   "source": [
    "print (df.result_min_allocation == df.Irpp_decote).value_counts()\n",
    "print (df.result_max_allocation == df.result_min_allocation).value_counts()"
   ]
  },
  {
   "cell_type": "code",
   "execution_count": 100,
   "metadata": {
    "collapsed": false
   },
   "outputs": [
    {
     "name": "stdout",
     "output_type": "stream",
     "text": [
      "True     0.745447\n",
      "False    0.254553\n",
      "dtype: float64\n",
      "False    0.822778\n",
      "True     0.177222\n",
      "dtype: float64\n"
     ]
    }
   ],
   "source": [
    "print (df.result_min_allocation == df.Irpp_decote).value_counts(normalize = True)\n",
    "print (df.result_max_allocation == df.result_min_allocation).value_counts(normalize = True)"
   ]
  },
  {
   "cell_type": "code",
   "execution_count": 101,
   "metadata": {
    "collapsed": false
   },
   "outputs": [],
   "source": [
    "df[\"Gain_fiscal_max_1\"] = ((df.Gain_fiscal_max>0)&(df.Gain_fiscal_max<= 1)).astype('int')\n",
    "df[\"Gain_fiscal_max_50\"] = ((df.Gain_fiscal_max>1)&(df.Gain_fiscal_max<= 50)).astype('int')\n",
    "df[\"Gain_fiscal_max_100\"] = ((df.Gain_fiscal_max> 50)&(df.Gain_fiscal_max <= 100)).astype('int')\n",
    "df[\"Gain_fiscal_max_200\"] = ((df.Gain_fiscal_max> 100)&(df.Gain_fiscal_max <= 200)).astype('int')\n",
    "\n",
    "df[\"Gain_fiscal_max_300\"] = ((df.Gain_fiscal_max> 200)&(df.Gain_fiscal_max <= 300)).astype('int')\n",
    "df[\"Gain_fiscal_max_over_300\"] = ((df.Gain_fiscal_max > 300)).astype('int')"
   ]
  },
  {
   "cell_type": "code",
   "execution_count": 102,
   "metadata": {
    "collapsed": false
   },
   "outputs": [],
   "source": [
    "#pd.crosstab()"
   ]
  },
  {
   "cell_type": "code",
   "execution_count": 103,
   "metadata": {
    "collapsed": true
   },
   "outputs": [],
   "source": [
    "df[\"Do_not_optimize\"] = (df.result_min_allocation != df.Irpp_decote)"
   ]
  },
  {
   "cell_type": "code",
   "execution_count": 104,
   "metadata": {
    "collapsed": true
   },
   "outputs": [],
   "source": []
  },
  {
   "cell_type": "code",
   "execution_count": 104,
   "metadata": {
    "collapsed": true
   },
   "outputs": [],
   "source": [
    "df[\"Do_not_optimize_5_euros\"] = np.abs(df.result_min_allocation - df.Irpp_decote)>5\n",
    "df[\"Do_not_optimize_10_euros\"] = np.abs(df.result_min_allocation - df.Irpp_decote)>10\n",
    "df[\"Do_not_optimize_20_euros\"] = np.abs(df.result_min_allocation - df.Irpp_decote)>20\n",
    "df[\"Do_not_optimize_50_euros\"] = np.abs(df.result_min_allocation - df.Irpp_decote)>50\n",
    "df[\"Do_not_optimize_100_euros\"] = np.abs(df.result_min_allocation - df.Irpp_decote)>100"
   ]
  },
  {
   "cell_type": "code",
   "execution_count": 105,
   "metadata": {
    "collapsed": false
   },
   "outputs": [],
   "source": [
    "optimize_path = (u\"./pickle/optimize/Do_not_optimize_rev_{}.p\".format(year))"
   ]
  },
  {
   "cell_type": "code",
   "execution_count": 106,
   "metadata": {
    "collapsed": false
   },
   "outputs": [],
   "source": [
    "pickle.dump(df[df.Do_not_optimize_5_euros].reset_index().ID_FISC_LOG_DIFF, \n",
    "            open(optimize_path, 'wb'))"
   ]
  },
  {
   "cell_type": "code",
   "execution_count": 107,
   "metadata": {
    "collapsed": false
   },
   "outputs": [
    {
     "name": "stdout",
     "output_type": "stream",
     "text": [
      "False    0.745447\n",
      "True     0.254553\n",
      "dtype: float64\n",
      "False    0.748852\n",
      "True     0.251148\n",
      "dtype: float64\n",
      "False    0.750552\n",
      "True     0.249448\n",
      "dtype: float64\n",
      "False    0.753922\n",
      "True     0.246078\n",
      "dtype: float64\n",
      "False    0.764103\n",
      "True     0.235897\n",
      "dtype: float64\n",
      "False    0.779912\n",
      "True     0.220088\n",
      "dtype: float64\n"
     ]
    }
   ],
   "source": [
    "print df.Do_not_optimize.value_counts(normalize=True)\n",
    "print df.Do_not_optimize_5_euros.value_counts(normalize=True)\n",
    "print df.Do_not_optimize_10_euros.value_counts(normalize=True)\n",
    "print df.Do_not_optimize_20_euros.value_counts(normalize=True)\n",
    "print df.Do_not_optimize_50_euros.value_counts(normalize=True)\n",
    "print df.Do_not_optimize_100_euros.value_counts(normalize=True)"
   ]
  },
  {
   "cell_type": "markdown",
   "metadata": {},
   "source": [
    "#### Biologic"
   ]
  },
  {
   "cell_type": "code",
   "execution_count": 108,
   "metadata": {
    "collapsed": false
   },
   "outputs": [],
   "source": [
    "path = (u\"./Pickle/biologic/\")\n",
    "biologic = pickle.load(open(path+\"biologic_households2013.p\", 'rb'))"
   ]
  },
  {
   "cell_type": "code",
   "execution_count": 109,
   "metadata": {
    "collapsed": false
   },
   "outputs": [],
   "source": [
    "df2 = df.reset_index()\n",
    "df2 = df2[df2.ID_FISC_LOG_DIFF.isin(biologic)]"
   ]
  },
  {
   "cell_type": "code",
   "execution_count": 110,
   "metadata": {
    "collapsed": false
   },
   "outputs": [
    {
     "name": "stdout",
     "output_type": "stream",
     "text": [
      "False    0.769703\n",
      "True     0.230297\n",
      "dtype: float64\n",
      "False    0.773902\n",
      "True     0.226098\n",
      "dtype: float64\n",
      "False    0.775509\n",
      "True     0.224491\n",
      "dtype: float64\n",
      "False    0.779655\n",
      "True     0.220345\n",
      "dtype: float64\n",
      "False    0.791085\n",
      "True     0.208915\n",
      "dtype: float64\n",
      "False    0.808915\n",
      "True     0.191085\n",
      "dtype: float64\n"
     ]
    }
   ],
   "source": [
    "print df2.Do_not_optimize.value_counts(normalize=True)\n",
    "print df2.Do_not_optimize_5_euros.value_counts(normalize=True)\n",
    "print df2.Do_not_optimize_10_euros.value_counts(normalize=True)\n",
    "print df2.Do_not_optimize_20_euros.value_counts(normalize=True)\n",
    "print df2.Do_not_optimize_50_euros.value_counts(normalize=True)\n",
    "print df2.Do_not_optimize_100_euros.value_counts(normalize=True)"
   ]
  },
  {
   "cell_type": "code",
   "execution_count": 111,
   "metadata": {
    "collapsed": false
   },
   "outputs": [],
   "source": [
    "from scipy import stats"
   ]
  },
  {
   "cell_type": "code",
   "execution_count": 112,
   "metadata": {
    "collapsed": false
   },
   "outputs": [
    {
     "data": {
      "text/plain": [
       "Ttest_indResult(statistic=9.9616370829997614, pvalue=2.2698597375814821e-23)"
      ]
     },
     "execution_count": 112,
     "metadata": {},
     "output_type": "execute_result"
    }
   ],
   "source": [
    "stats.ttest_ind(df.Do_not_optimize, df2.Do_not_optimize)"
   ]
  },
  {
   "cell_type": "code",
   "execution_count": 113,
   "metadata": {
    "collapsed": true
   },
   "outputs": [],
   "source": [
    "df[\"Do_not_optimize_0_1_prct_income_share\"] =  (np.abs(df.result_min_allocation - df.Irpp_decote)/df.Rni)>0.001\n",
    "df[\"Do_not_optimize_0_5_prct_income_share\"] =  (np.abs(df.result_min_allocation - df.Irpp_decote)/df.Rni)>0.005\n",
    "df[\"Do_not_optimize_1_prct_income_share\"] =  (np.abs(df.result_min_allocation - df.Irpp_decote)/df.Rni)>0.01\n",
    "df[\"Do_not_optimize_2_prct_income_share\"] =  (np.abs(df.result_min_allocation - df.Irpp_decote)/df.Rni)>0.02\n",
    "df[\"Do_not_optimize_5_prct_income_share\"] =  (np.abs(df.result_min_allocation - df.Irpp_decote)/df.Rni)>0.05"
   ]
  },
  {
   "cell_type": "code",
   "execution_count": 114,
   "metadata": {
    "collapsed": false
   },
   "outputs": [
    {
     "name": "stdout",
     "output_type": "stream",
     "text": [
      "False    0.761126\n",
      "True     0.238874\n",
      "dtype: float64\n",
      "False    0.809968\n",
      "True     0.190032\n",
      "dtype: float64\n",
      "False    0.862096\n",
      "True     0.137904\n",
      "dtype: float64\n",
      "False    0.921039\n",
      "True     0.078961\n",
      "dtype: float64\n",
      "False    0.988645\n",
      "True     0.011355\n",
      "dtype: float64\n"
     ]
    }
   ],
   "source": [
    "print df.Do_not_optimize_0_1_prct_income_share.value_counts(normalize = True)\n",
    "print df.Do_not_optimize_0_5_prct_income_share.value_counts(normalize = True)\n",
    "print df.Do_not_optimize_1_prct_income_share.value_counts(normalize = True)\n",
    "print df.Do_not_optimize_2_prct_income_share.value_counts(normalize = True)\n",
    "print df.Do_not_optimize_5_prct_income_share.value_counts(normalize = True)"
   ]
  },
  {
   "cell_type": "code",
   "execution_count": 115,
   "metadata": {
    "collapsed": true
   },
   "outputs": [],
   "source": [
    "df[\"Do_not_optimize_95_prct_tax_amount\"] =  ((df.Irpp_decote - df.result_min_allocation)/df.Irpp_decote)>0.95\n",
    "df[\"Do_not_optimize_90_prct_tax_amount\"] =  (np.abs(df.result_min_allocation - df.Irpp_decote)/df.Irpp_decote)>0.9\n",
    "df[\"Do_not_optimize_50_prct_tax_amount\"] =  ((df.Irpp_decote - df.result_min_allocation)/df.Irpp_decote)>0.50\n",
    "df[\"Do_not_optimize_5_prct_tax_amount\"] = ((df.Irpp_decote - df.result_min_allocation)/df.Irpp_decote)>0.05"
   ]
  },
  {
   "cell_type": "code",
   "execution_count": 116,
   "metadata": {
    "collapsed": true
   },
   "outputs": [],
   "source": [
    "df[\"Optimize_10_prct_tax_amount\"] =  (np.abs(df.result_min_allocation - df.Irpp_decote)/df.Irpp_decote)<0.9"
   ]
  },
  {
   "cell_type": "code",
   "execution_count": 117,
   "metadata": {
    "collapsed": false
   },
   "outputs": [
    {
     "data": {
      "text/plain": [
       "True    1\n",
       "dtype: float64"
      ]
     },
     "execution_count": 117,
     "metadata": {},
     "output_type": "execute_result"
    }
   ],
   "source": [
    "(df.result_min_allocation<=(df.Irpp_decote)).value_counts(normalize = True)"
   ]
  },
  {
   "cell_type": "code",
   "execution_count": 118,
   "metadata": {
    "collapsed": false
   },
   "outputs": [
    {
     "data": {
      "text/plain": [
       "False    0.924968\n",
       "True     0.075032\n",
       "dtype: float64"
      ]
     },
     "execution_count": 118,
     "metadata": {},
     "output_type": "execute_result"
    }
   ],
   "source": [
    "df.Do_not_optimize_90_prct_tax_amount.value_counts(normalize = True)"
   ]
  },
  {
   "cell_type": "code",
   "execution_count": 119,
   "metadata": {
    "collapsed": false
   },
   "outputs": [
    {
     "data": {
      "text/plain": [
       "True     0.509641\n",
       "False    0.490359\n",
       "dtype: float64"
      ]
     },
     "execution_count": 119,
     "metadata": {},
     "output_type": "execute_result"
    }
   ],
   "source": [
    "df.Optimize_10_prct_tax_amount.value_counts(normalize = True)"
   ]
  },
  {
   "cell_type": "code",
   "execution_count": 120,
   "metadata": {
    "collapsed": false
   },
   "outputs": [],
   "source": [
    "#df[[\"Do_not_optimize_90_prct_tax_amount\",\"Optimize_10_prct_tax_amount\", \"Irpp_decote\", \"result_min_allocation\" ]]"
   ]
  },
  {
   "cell_type": "code",
   "execution_count": 121,
   "metadata": {
    "collapsed": false
   },
   "outputs": [
    {
     "data": {
      "text/plain": [
       "         ID_FISC_LOG_DIFF\n",
       "1_child  153                 0.000000\n",
       "         210                 0.000000\n",
       "         216                 0.212582\n",
       "         228                      NaN\n",
       "         233                      NaN\n",
       "dtype: float64"
      ]
     },
     "execution_count": 121,
     "metadata": {},
     "output_type": "execute_result"
    }
   ],
   "source": [
    "(np.abs(df.result_min_allocation - df.Irpp_decote)/df.Irpp_decote).head()"
   ]
  },
  {
   "cell_type": "code",
   "execution_count": 122,
   "metadata": {
    "collapsed": true
   },
   "outputs": [],
   "source": []
  },
  {
   "cell_type": "code",
   "execution_count": 122,
   "metadata": {
    "collapsed": true
   },
   "outputs": [],
   "source": []
  },
  {
   "cell_type": "code",
   "execution_count": 122,
   "metadata": {
    "collapsed": true
   },
   "outputs": [],
   "source": [
    "hdf_path = (\"./Generated_hdf/optimizers.h5\")"
   ]
  },
  {
   "cell_type": "code",
   "execution_count": 123,
   "metadata": {
    "collapsed": false
   },
   "outputs": [],
   "source": [
    "df.to_hdf(hdf_path, \"optimizers_{}\".format(year))"
   ]
  },
  {
   "cell_type": "code",
   "execution_count": 124,
   "metadata": {
    "collapsed": false
   },
   "outputs": [
    {
     "data": {
      "text/plain": [
       "2014"
      ]
     },
     "execution_count": 124,
     "metadata": {},
     "output_type": "execute_result"
    }
   ],
   "source": [
    "year"
   ]
  },
  {
   "cell_type": "code",
   "execution_count": 125,
   "metadata": {
    "collapsed": true
   },
   "outputs": [],
   "source": [
    "import datetime"
   ]
  },
  {
   "cell_type": "code",
   "execution_count": 126,
   "metadata": {
    "collapsed": false
   },
   "outputs": [
    {
     "name": "stdout",
     "output_type": "stream",
     "text": [
      "2019-04-26 17:50:17.981000\n"
     ]
    }
   ],
   "source": [
    "print datetime.datetime.now()"
   ]
  },
  {
   "cell_type": "code",
   "execution_count": 127,
   "metadata": {
    "collapsed": false
   },
   "outputs": [],
   "source": [
    "df.reset_index(inplace = True)"
   ]
  },
  {
   "cell_type": "code",
   "execution_count": 128,
   "metadata": {
    "collapsed": true
   },
   "outputs": [],
   "source": [
    "keep_id_fisc_log_diff = df.ID_FISC_LOG_DIFF"
   ]
  },
  {
   "cell_type": "code",
   "execution_count": 129,
   "metadata": {
    "collapsed": false
   },
   "outputs": [],
   "source": [
    "df_fiscr = load_fisc_r_by_year(year)\n",
    "df_fiscr = df_fiscr[df_fiscr.ID_FISC_LOG_DIFF.isin(keep_id_fisc_log_diff)][['ID_FISC_LOG_DIFF', \"ZIMPOM\", \"ZIMPOM14\"]]"
   ]
  },
  {
   "cell_type": "code",
   "execution_count": 130,
   "metadata": {
    "collapsed": true
   },
   "outputs": [],
   "source": [
    "df_scatter = pd.merge(df, df_fiscr, on = \"ID_FISC_LOG_DIFF\")"
   ]
  },
  {
   "cell_type": "code",
   "execution_count": 131,
   "metadata": {
    "collapsed": false
   },
   "outputs": [
    {
     "data": {
      "text/plain": [
       "(0, 1500)"
      ]
     },
     "execution_count": 131,
     "metadata": {},
     "output_type": "execute_result"
    },
    {
     "data": {
      "image/png": "[encoded data removed]",
      "text/plain": [
       "<matplotlib.figure.Figure at 0x1219df048>"
      ]
     },
     "metadata": {},
     "output_type": "display_data"
    }
   ],
   "source": [
    "df_scatter = df_scatter.query(\"(ZIMPOM14>100) & (Irpp_decote>100)\")\n",
    "plt.scatter(df_scatter.ZIMPOM14, df_scatter.Irpp_decote,  s = 0.01)\n",
    "plt.xlim((0,1500))\n",
    "plt.ylim((0,1500))"
   ]
  },
  {
   "cell_type": "code",
   "execution_count": 132,
   "metadata": {
    "collapsed": false
   },
   "outputs": [
    {
     "data": {
      "text/plain": [
       "(0, 1500)"
      ]
     },
     "execution_count": 132,
     "metadata": {},
     "output_type": "execute_result"
    },
    {
     "data": {
      "image/png": "[encoded data removed]",
      "text/plain": [
       "<matplotlib.figure.Figure at 0x11eea2780>"
      ]
     },
     "metadata": {},
     "output_type": "display_data"
    }
   ],
   "source": [
    "df_scatter = df_scatter.query(\"(ZIMPOM>100) & (Irpp_decote>100)\")\n",
    "plt.scatter(df_scatter.ZIMPOM, df_scatter.Irpp_decote,  s = 0.01)\n",
    "plt.xlim((0,1500))\n",
    "plt.ylim((0,1500))"
   ]
  },
  {
   "cell_type": "code",
   "execution_count": 133,
   "metadata": {
    "collapsed": false
   },
   "outputs": [
    {
     "data": {
      "text/plain": [
       "(0.9, 1.1)"
      ]
     },
     "execution_count": 133,
     "metadata": {},
     "output_type": "execute_result"
    },
    {
     "data": {
      "image/png": "[encoded data removed]",
      "text/plain": [
       "<matplotlib.figure.Figure at 0x714e0cf8>"
      ]
     },
     "metadata": {},
     "output_type": "display_data"
    }
   ],
   "source": [
    "ratio = df_scatter.Irpp_decote/df_scatter.ZIMPOM14\n",
    "ratio  = ratio[ratio<2]\n",
    "plt.hist(ratio, bins = 1000)\n",
    "plt.xlim(0.9, 1.1)"
   ]
  },
  {
   "cell_type": "code",
   "execution_count": 134,
   "metadata": {
    "collapsed": false
   },
   "outputs": [
    {
     "data": {
      "text/plain": [
       "True    66990\n",
       "dtype: int64"
      ]
     },
     "execution_count": 134,
     "metadata": {},
     "output_type": "execute_result"
    }
   ],
   "source": [
    "(df_scatter.ZIMPOM14>100).value_counts()"
   ]
  },
  {
   "cell_type": "code",
   "execution_count": 135,
   "metadata": {
    "collapsed": false
   },
   "outputs": [
    {
     "data": {
      "text/plain": [
       "(0.98, 1.02)"
      ]
     },
     "execution_count": 135,
     "metadata": {},
     "output_type": "execute_result"
    },
    {
     "data": {
      "image/png": "[encoded data removed]",
      "text/plain": [
       "<matplotlib.figure.Figure at 0x23de38470>"
      ]
     },
     "metadata": {},
     "output_type": "display_data"
    }
   ],
   "source": [
    "ratio = df_scatter.Irpp_decote/df_scatter.ZIMPOM14\n",
    "ratio  = ratio[ratio<2]\n",
    "plt.hist(ratio, bins = 1000)\n",
    "plt.xlim(0.98, 1.02)"
   ]
  },
  {
   "cell_type": "code",
   "execution_count": 136,
   "metadata": {
    "collapsed": false
   },
   "outputs": [],
   "source": [
    "biologic_path = (u\"./Pickle/biologic/biologic_households{}.p\".format(year))\n",
    "biologic = pickle.load( \n",
    "        open(biologic_path, 'rb'))"
   ]
  },
  {
   "cell_type": "code",
   "execution_count": 137,
   "metadata": {
    "collapsed": true
   },
   "outputs": [],
   "source": [
    "df_scatter = df_scatter[df_scatter.ID_FISC_LOG_DIFF.isin(biologic)]\n"
   ]
  },
  {
   "cell_type": "code",
   "execution_count": 138,
   "metadata": {
    "collapsed": false
   },
   "outputs": [
    {
     "data": {
      "text/plain": [
       "(0.98, 1.02)"
      ]
     },
     "execution_count": 138,
     "metadata": {},
     "output_type": "execute_result"
    },
    {
     "data": {
      "image/png": "[encoded data removed]",
      "text/plain": [
       "<matplotlib.figure.Figure at 0x12272d160>"
      ]
     },
     "metadata": {},
     "output_type": "display_data"
    }
   ],
   "source": [
    "ratio = df_scatter.Irpp_decote/df_scatter.ZIMPOM14\n",
    "ratio  = ratio[ratio<2]\n",
    "plt.hist(ratio.values, bins = 1000)\n",
    "plt.xlim(0.98, 1.02)"
   ]
  },
  {
   "cell_type": "code",
   "execution_count": 139,
   "metadata": {
    "collapsed": false
   },
   "outputs": [
    {
     "data": {
      "text/plain": [
       "(20876, 111)"
      ]
     },
     "execution_count": 139,
     "metadata": {},
     "output_type": "execute_result"
    }
   ],
   "source": [
    "df_scatter.shape"
   ]
  },
  {
   "cell_type": "code",
   "execution_count": 140,
   "metadata": {
    "collapsed": false
   },
   "outputs": [
    {
     "name": "stdout",
     "output_type": "stream",
     "text": [
      "('now: ', datetime.datetime(2019, 4, 26, 17, 50, 30, 891000))\n",
      "('execution_time: ', datetime.timedelta(0, 140, 957000))\n"
     ]
    }
   ],
   "source": [
    "stop_time = datetime.datetime.now(); print(\"now: \",stop_time);\n",
    "execution_time = stop_time - start_time; print(\"execution_time: \",execution_time)\n",
    "stop_time = start_time\n",
    "#clear  memory\n",
    "%reset -f "
   ]
  },
  {
   "cell_type": "code",
   "execution_count": 141,
   "metadata": {
    "collapsed": true
   },
   "outputs": [],
   "source": []
  }
 ],
 "metadata": {
  "kernelspec": {
   "display_name": "Python 3",
   "language": "python",
   "name": "python3"
  },
  "language_info": {
   "codemirror_mode": {
    "name": "ipython",
    "version": 3
   },
   "file_extension": ".py",
   "mimetype": "text/x-python",
   "name": "python",
   "nbconvert_exporter": "python",
   "pygments_lexer": "ipython3",
   "version": "3.7.2"
  }
 },
 "nbformat": 4,
 "nbformat_minor": 2
}
