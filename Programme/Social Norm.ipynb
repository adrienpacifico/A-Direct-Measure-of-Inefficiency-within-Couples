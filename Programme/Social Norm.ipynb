{
 "cells": [
  {
   "cell_type": "code",
   "execution_count": 1,
   "metadata": {
    "collapsed": false
   },
   "outputs": [],
   "source": [
    "%matplotlib inline"
   ]
  },
  {
   "cell_type": "code",
   "execution_count": 2,
   "metadata": {
    "collapsed": true
   },
   "outputs": [],
   "source": [
    "import matplotlib.pyplot as plt"
   ]
  },
  {
   "cell_type": "code",
   "execution_count": 3,
   "metadata": {
    "collapsed": false
   },
   "outputs": [],
   "source": [
    "from __future__ import division\n",
    "import pandas as pd ; pd.set_option(\"display.max_columns\",200)\n",
    "import pickle\n",
    "import numpy as np\n",
    "import string\n",
    "import sys"
   ]
  },
  {
   "cell_type": "code",
   "execution_count": 4,
   "metadata": {
    "collapsed": false
   },
   "outputs": [],
   "source": [
    "import sys\n",
    "sys.path.append(\".\\Income_tax_function\")\n",
    "import IRPP_from_scratch as ir"
   ]
  },
  {
   "cell_type": "code",
   "execution_count": 5,
   "metadata": {
    "collapsed": false
   },
   "outputs": [],
   "source": [
    "store_path = 'C:/Users/IMPTEMP_A_PACIFIC/Desktop/EDP_2015/Data/hdf/edp_2015_final.h5'\n",
    "Store = pd.HDFStore(store_path)"
   ]
  },
  {
   "cell_type": "code",
   "execution_count": 6,
   "metadata": {
    "collapsed": true
   },
   "outputs": [],
   "source": [
    "def load_fisc_i_by_year(year = 2014):\n",
    "    df_fisci = pd.read_hdf(store_path, 'FISC_INDIVIDU_{}'.format(year))\n",
    "    return df_fisci\n",
    "def load_fisc_r_by_year(year = 2014):\n",
    "    df_fiscr = pd.read_hdf(store_path, 'FISC_REVENU_{}'.format(year))\n",
    "    return df_fiscr\n",
    "def load_fisc_l_by_year(year = 2014):\n",
    "    df_fiscr = pd.read_hdf(store_path, 'FISC_LOGEMENT_{}'.format(year))\n",
    "    return df_fiscr\n",
    "\n",
    "def load_df_fiscrevdet_by_year(year = 2014):\n",
    "    df_fiscrevdet = pd.read_hdf(store_path, 'FISC_REVDET_{}'.format(year))\n",
    "    return df_fiscrevdet\n",
    "    "
   ]
  },
  {
   "cell_type": "code",
   "execution_count": 7,
   "metadata": {
    "collapsed": true
   },
   "outputs": [],
   "source": [
    "df_fisci = load_fisc_i_by_year(2014)"
   ]
  },
  {
   "cell_type": "markdown",
   "metadata": {
    "collapsed": true
   },
   "source": [
    "Déclarants des couples mariés et pacés en fonction du sexe."
   ]
  },
  {
   "cell_type": "code",
   "execution_count": 8,
   "metadata": {
    "collapsed": false
   },
   "outputs": [],
   "source": [
    "df_fisci[\"CIDECI\"] = df_fisci.CIDECI.fillna(\"Error\")\n",
    "df_fisci.loc[df_fisci.SEXE==\"C\", \"SEXE\"]= 1\n",
    "df_fisci[\"SEXE\"] = df_fisci.SEXE.astype('float')"
   ]
  },
  {
   "cell_type": "code",
   "execution_count": 9,
   "metadata": {
    "collapsed": false
   },
   "outputs": [
    {
     "data": {
      "text/plain": [
       "2    2765880\n",
       "1    2695414\n",
       "dtype: int64"
      ]
     },
     "execution_count": 9,
     "metadata": {},
     "output_type": "execute_result"
    }
   ],
   "source": [
    "df_fisci.SEXE.value_counts()"
   ]
  },
  {
   "cell_type": "code",
   "execution_count": 10,
   "metadata": {
    "collapsed": false
   },
   "outputs": [
    {
     "name": "stdout",
     "output_type": "stream",
     "text": [
      "Wall time: 2min 2s\n"
     ]
    }
   ],
   "source": [
    "%%time\n",
    "grpby = df_fisci[df_fisci.TYPE_FISC.isin([\"1\",\"2\"])].groupby(\"ID_FISC_LOG_DIFF\").CIDECI.sum()"
   ]
  },
  {
   "cell_type": "code",
   "execution_count": null,
   "metadata": {
    "collapsed": true
   },
   "outputs": [],
   "source": []
  },
  {
   "cell_type": "code",
   "execution_count": null,
   "metadata": {
    "collapsed": false
   },
   "outputs": [],
   "source": []
  },
  {
   "cell_type": "code",
   "execution_count": 11,
   "metadata": {
    "collapsed": false
   },
   "outputs": [
    {
     "name": "stderr",
     "output_type": "stream",
     "text": [
      "C:\\Users\\IMPTEMP_A_PACIFIC\\Desktop\\WinPython-64bit-2.7.10.2\\WinPython-64bit-2.7.10.2\\python-2.7.10.amd64\\lib\\site-packages\\pandas\\core\\indexing.py:415: SettingWithCopyWarning: \n",
      "A value is trying to be set on a copy of a slice from a DataFrame.\n",
      "Try using .loc[row_indexer,col_indexer] = value instead\n",
      "\n",
      "See the the caveats in the documentation: http://pandas.pydata.org/pandas-docs/stable/indexing.html#indexing-view-versus-copy\n",
      "  self.obj[item] = s\n"
     ]
    },
    {
     "data": {
      "text/plain": [
       "False    0.698427\n",
       "True     0.301573\n",
       "dtype: float64"
      ]
     },
     "execution_count": 11,
     "metadata": {},
     "output_type": "execute_result"
    }
   ],
   "source": [
    "married_couples_id = grpby[grpby ==\"MM\"].index\n",
    "df_fisci_married = df_fisci[df_fisci.ID_FISC_LOG_DIFF.isin(married_couples_id)]\n",
    "#df_fisci_married.loc[df_fisci_married.SEXE==\"C\", \"SEXE\"]=np.NaN\n",
    "df_fisci_married.loc[:,\"SEXE\"] = df_fisci_married.SEXE.astype('float')\n",
    "((df_fisci_married.TYPE_FISC == \"2\") & (df_fisci_married.SEXE == 1)).value_counts(normalize = True)\n",
    "((df_fisci_married.TYPE_FISC == \"2\") & (df_fisci_married.SEXE == 2)).value_counts(normalize = True)"
   ]
  },
  {
   "cell_type": "code",
   "execution_count": 12,
   "metadata": {
    "collapsed": false
   },
   "outputs": [
    {
     "data": {
      "text/plain": [
       "1    1146472\n",
       "2    1140934\n",
       "dtype: int64"
      ]
     },
     "execution_count": 12,
     "metadata": {},
     "output_type": "execute_result"
    }
   ],
   "source": [
    "df_fisci_married.SEXE.value_counts()"
   ]
  },
  {
   "cell_type": "code",
   "execution_count": 13,
   "metadata": {
    "collapsed": false
   },
   "outputs": [
    {
     "data": {
      "text/plain": [
       "False    0.997646\n",
       "True     0.002354\n",
       "dtype: float64"
      ]
     },
     "execution_count": 13,
     "metadata": {},
     "output_type": "execute_result"
    }
   ],
   "source": [
    "((df_fisci_married.TYPE_FISC == \"2\") & (df_fisci_married.SEXE == 1)).value_counts(normalize = True)"
   ]
  },
  {
   "cell_type": "code",
   "execution_count": 14,
   "metadata": {
    "collapsed": false
   },
   "outputs": [
    {
     "data": {
      "text/html": [
       "<div>\n",
       "<table border=\"1\" class=\"dataframe\">\n",
       "  <thead>\n",
       "    <tr style=\"text-align: right;\">\n",
       "      <th>TYPE_FISC</th>\n",
       "      <th>1</th>\n",
       "      <th>2</th>\n",
       "      <th>1</th>\n",
       "      <th>2</th>\n",
       "    </tr>\n",
       "    <tr>\n",
       "      <th>SEXE</th>\n",
       "      <th></th>\n",
       "      <th></th>\n",
       "      <th></th>\n",
       "      <th></th>\n",
       "    </tr>\n",
       "  </thead>\n",
       "  <tbody>\n",
       "    <tr>\n",
       "      <th>1.0</th>\n",
       "      <td>1065555</td>\n",
       "      <td>8315</td>\n",
       "      <td>0.992373</td>\n",
       "      <td>0.007744</td>\n",
       "    </tr>\n",
       "    <tr>\n",
       "      <th>2.0</th>\n",
       "      <td>8189</td>\n",
       "      <td>1065402</td>\n",
       "      <td>0.007627</td>\n",
       "      <td>0.992246</td>\n",
       "    </tr>\n",
       "    <tr>\n",
       "      <th>All</th>\n",
       "      <td>1073744</td>\n",
       "      <td>1073728</td>\n",
       "      <td>1.000000</td>\n",
       "      <td>1.000000</td>\n",
       "    </tr>\n",
       "  </tbody>\n",
       "</table>\n",
       "</div>"
      ],
      "text/plain": [
       "TYPE_FISC        1        2         1         2\n",
       "SEXE                                           \n",
       "1.0        1065555     8315  0.992373  0.007744\n",
       "2.0           8189  1065402  0.007627  0.992246\n",
       "All        1073744  1073728  1.000000  1.000000"
      ]
     },
     "execution_count": 14,
     "metadata": {},
     "output_type": "execute_result"
    }
   ],
   "source": [
    "crosstab = pd.crosstab(df_fisci_married.SEXE, df_fisci_married.TYPE_FISC, margins = True).iloc[:,0:2]\n",
    "table = pd.concat([crosstab,crosstab/crosstab.loc[\"All\"]] , axis = 1); table"
   ]
  },
  {
   "cell_type": "code",
   "execution_count": null,
   "metadata": {
    "collapsed": false
   },
   "outputs": [],
   "source": []
  },
  {
   "cell_type": "markdown",
   "metadata": {},
   "source": [
    "## Plus riche prennant les enfants"
   ]
  },
  {
   "cell_type": "code",
   "execution_count": null,
   "metadata": {
    "collapsed": true
   },
   "outputs": [],
   "source": []
  },
  {
   "cell_type": "code",
   "execution_count": 15,
   "metadata": {
    "collapsed": false
   },
   "outputs": [],
   "source": [
    "path = (u\"C:/Users/IMPTEMP_A_PACIFIC/Desktop/EDP_2015/Programme/optimisation_concubains/\" +\n",
    "                    \"/Re_restart_from_scratch/pickle/final_select_rev_{}.p\".format(2014))\n",
    "import pickle\n",
    "select_id_fisc_log = pickle.load(\n",
    "            open(path, 'rb'))"
   ]
  },
  {
   "cell_type": "code",
   "execution_count": 16,
   "metadata": {
    "collapsed": false
   },
   "outputs": [
    {
     "name": "stdout",
     "output_type": "stream",
     "text": [
      "Wall time: 2.06 s\n"
     ]
    }
   ],
   "source": [
    "%%time\n",
    "df_select = df_fisci[df_fisci.ID_FISC_LOG_DIFF.isin(select_id_fisc_log)]"
   ]
  },
  {
   "cell_type": "code",
   "execution_count": 17,
   "metadata": {
    "collapsed": true
   },
   "outputs": [],
   "source": [
    "a_charge_type_fisc_label =  [str(x) for x in range(3,10)]+list(string.ascii_uppercase)[:12]"
   ]
  },
  {
   "cell_type": "code",
   "execution_count": null,
   "metadata": {
    "collapsed": false
   },
   "outputs": [],
   "source": []
  },
  {
   "cell_type": "code",
   "execution_count": null,
   "metadata": {
    "collapsed": false
   },
   "outputs": [],
   "source": []
  },
  {
   "cell_type": "code",
   "execution_count": 18,
   "metadata": {
    "collapsed": false
   },
   "outputs": [],
   "source": [
    "df_pers_a_charge_by_foy = df_select[df_select.TYPE_FISC.isin(\n",
    "       a_charge_type_fisc_label\n",
    "            )].groupby(\"ID_FISC_FOY_DIFF\").count()\n",
    "\n",
    "df_pers_a_charge_nb_by_foy = pd.DataFrame(df_pers_a_charge_by_foy.AN_FISC)\n",
    "df_pers_a_charge_nb_by_foy = df_pers_a_charge_nb_by_foy.rename(columns={'AN_FISC':'Nb_pers_a_charge_in_fiscal_h'}).reset_index()\n",
    "df_selec_2 = pd.merge(df_select, df_pers_a_charge_nb_by_foy, on= [\"ID_FISC_FOY_DIFF\"], how = \"left\" )"
   ]
  },
  {
   "cell_type": "code",
   "execution_count": 19,
   "metadata": {
    "collapsed": false
   },
   "outputs": [],
   "source": [
    "assert df_select.shape[0] == df_selec_2.shape[0]"
   ]
  },
  {
   "cell_type": "code",
   "execution_count": 20,
   "metadata": {
    "collapsed": false
   },
   "outputs": [],
   "source": [
    "\n",
    "df_pers_a_charge_by_log = df_select[df_select.TYPE_FISC.isin(\n",
    "       a_charge_type_fisc_label\n",
    "                        )].groupby(\"ID_FISC_LOG_DIFF\").count()\n",
    "\n",
    "df_pers_a_charge_nb_by_log = pd.DataFrame(df_pers_a_charge_by_log.AN_FISC)\n",
    "df_pers_a_charge_nb_by_log = df_pers_a_charge_nb_by_log.rename(columns={'AN_FISC':'Nb_pers_a_charge_in_household'}).reset_index()\n",
    "df_selec_3 = pd.merge(df_selec_2.reset_index(), df_pers_a_charge_nb_by_log, on= [\"ID_FISC_LOG_DIFF\"], how = 'left' )"
   ]
  },
  {
   "cell_type": "code",
   "execution_count": 21,
   "metadata": {
    "collapsed": false
   },
   "outputs": [],
   "source": [
    "assert df_select.shape[0] == df_selec_3.shape[0]"
   ]
  },
  {
   "cell_type": "code",
   "execution_count": null,
   "metadata": {
    "collapsed": false,
    "scrolled": true
   },
   "outputs": [],
   "source": [
    "df_selec_3.sort('ID_FISC_LOG_DIFF')[\n",
    "    [\"Nb_pers_a_charge_in_fiscal_h\", \"Nb_pers_a_charge_in_household\",\n",
    "     \"ID_DIFF\",\"AN_FISC\",\"ID_FISC_FOY_DIFF\",\"ID_FISC_LOG_DIFF\",\"ORDREFIP\",\"TYPE_FISC\",\"SEXE\",\"JNAIS\",\"MNAIS\",\"ANAIS\",\n",
    "     ]\n",
    "                                    ].head()"
   ]
  },
  {
   "cell_type": "code",
   "execution_count": 23,
   "metadata": {
    "collapsed": true
   },
   "outputs": [],
   "source": [
    "df_fiscrevdet = load_df_fiscrevdet_by_year(2014)"
   ]
  },
  {
   "cell_type": "code",
   "execution_count": 24,
   "metadata": {
    "collapsed": false
   },
   "outputs": [],
   "source": [
    "df_fiscrevdet[\"Revenus\"] = df_fiscrevdet[[\"YSALI\",\"YCHOI\",\"YRSTI\",\"YALRI\",\"YRAGI\",\"YBICI\",\"YBNCI\"]].sum(axis = 1)"
   ]
  },
  {
   "cell_type": "code",
   "execution_count": 25,
   "metadata": {
    "collapsed": false
   },
   "outputs": [],
   "source": [
    "merge = pd.merge(df_selec_3,df_fiscrevdet[[\"Revenus\", \"ID_FISC_FOY_DIFF\"]] , on = \"ID_FISC_FOY_DIFF\", how = \"left\")"
   ]
  },
  {
   "cell_type": "code",
   "execution_count": null,
   "metadata": {
    "collapsed": false
   },
   "outputs": [],
   "source": [
    "merge.head()"
   ]
  },
  {
   "cell_type": "code",
   "execution_count": 27,
   "metadata": {
    "collapsed": false
   },
   "outputs": [],
   "source": [
    "merge['Revenus_max_by_log'] = merge.groupby('ID_FISC_LOG_DIFF').Revenus.transform(max)"
   ]
  },
  {
   "cell_type": "code",
   "execution_count": 28,
   "metadata": {
    "collapsed": true
   },
   "outputs": [],
   "source": [
    "merge[\"Is_rev_max\"] = merge.groupby('ID_FISC_LOG_DIFF').Revenus.transform(max) == merge.Revenus"
   ]
  },
  {
   "cell_type": "code",
   "execution_count": 29,
   "metadata": {
    "collapsed": false
   },
   "outputs": [],
   "source": [
    "merge.Nb_pers_a_charge_in_fiscal_h.fillna(0, inplace = True)"
   ]
  },
  {
   "cell_type": "code",
   "execution_count": 30,
   "metadata": {
    "collapsed": false
   },
   "outputs": [],
   "source": [
    "merge['Has_all_child'] = merge.Nb_pers_a_charge_in_fiscal_h == merge.Nb_pers_a_charge_in_household"
   ]
  },
  {
   "cell_type": "code",
   "execution_count": 31,
   "metadata": {
    "collapsed": false
   },
   "outputs": [],
   "source": [
    "merge['Has_most_child'] = (\n",
    "    merge.groupby('ID_FISC_FOY_DIFF').Nb_pers_a_charge_in_fiscal_h.transform(max)/merge.Nb_pers_a_charge_in_household)  >= 0.5"
   ]
  },
  {
   "cell_type": "code",
   "execution_count": null,
   "metadata": {
    "collapsed": false
   },
   "outputs": [],
   "source": [
    "merge.head()"
   ]
  },
  {
   "cell_type": "markdown",
   "metadata": {},
   "source": [
    "### Have All children"
   ]
  },
  {
   "cell_type": "code",
   "execution_count": 33,
   "metadata": {
    "collapsed": false
   },
   "outputs": [],
   "source": [
    "crosstab = pd.crosstab(merge.groupby(\"ID_FISC_FOY_DIFF\").first().Is_rev_max, merge.groupby(\"ID_FISC_FOY_DIFF\").first().Has_all_child, margins=True)"
   ]
  },
  {
   "cell_type": "code",
   "execution_count": 34,
   "metadata": {
    "collapsed": false
   },
   "outputs": [
    {
     "data": {
      "text/html": [
       "<div>\n",
       "<table border=\"1\" class=\"dataframe\">\n",
       "  <thead>\n",
       "    <tr style=\"text-align: right;\">\n",
       "      <th>Has_all_child</th>\n",
       "      <th>False</th>\n",
       "      <th>True</th>\n",
       "      <th>All</th>\n",
       "    </tr>\n",
       "    <tr>\n",
       "      <th>Is_rev_max</th>\n",
       "      <th></th>\n",
       "      <th></th>\n",
       "      <th></th>\n",
       "    </tr>\n",
       "  </thead>\n",
       "  <tbody>\n",
       "    <tr>\n",
       "      <th>False</th>\n",
       "      <td>135939</td>\n",
       "      <td>26955</td>\n",
       "      <td>162894</td>\n",
       "    </tr>\n",
       "    <tr>\n",
       "      <th>True</th>\n",
       "      <td>71929</td>\n",
       "      <td>96935</td>\n",
       "      <td>168864</td>\n",
       "    </tr>\n",
       "    <tr>\n",
       "      <th>All</th>\n",
       "      <td>207868</td>\n",
       "      <td>123890</td>\n",
       "      <td>331758</td>\n",
       "    </tr>\n",
       "  </tbody>\n",
       "</table>\n",
       "</div>"
      ],
      "text/plain": [
       "Has_all_child   False    True     All\n",
       "Is_rev_max                           \n",
       "False          135939   26955  162894\n",
       "True            71929   96935  168864\n",
       "All            207868  123890  331758"
      ]
     },
     "execution_count": 34,
     "metadata": {},
     "output_type": "execute_result"
    }
   ],
   "source": [
    "crosstab"
   ]
  },
  {
   "cell_type": "code",
   "execution_count": 35,
   "metadata": {
    "collapsed": false
   },
   "outputs": [
    {
     "data": {
      "text/html": [
       "<div>\n",
       "<table border=\"1\" class=\"dataframe\">\n",
       "  <thead>\n",
       "    <tr style=\"text-align: right;\">\n",
       "      <th>Has_all_child</th>\n",
       "      <th>False</th>\n",
       "      <th>True</th>\n",
       "      <th>All</th>\n",
       "    </tr>\n",
       "    <tr>\n",
       "      <th>Is_rev_max</th>\n",
       "      <th></th>\n",
       "      <th></th>\n",
       "      <th></th>\n",
       "    </tr>\n",
       "  </thead>\n",
       "  <tbody>\n",
       "    <tr>\n",
       "      <th>False</th>\n",
       "      <td>0.409753</td>\n",
       "      <td>0.081249</td>\n",
       "      <td>0.491002</td>\n",
       "    </tr>\n",
       "    <tr>\n",
       "      <th>True</th>\n",
       "      <td>0.216812</td>\n",
       "      <td>0.292186</td>\n",
       "      <td>0.508998</td>\n",
       "    </tr>\n",
       "    <tr>\n",
       "      <th>All</th>\n",
       "      <td>0.626565</td>\n",
       "      <td>0.373435</td>\n",
       "      <td>1.000000</td>\n",
       "    </tr>\n",
       "  </tbody>\n",
       "</table>\n",
       "</div>"
      ],
      "text/plain": [
       "Has_all_child     False      True       All\n",
       "Is_rev_max                                 \n",
       "False          0.409753  0.081249  0.491002\n",
       "True           0.216812  0.292186  0.508998\n",
       "All            0.626565  0.373435  1.000000"
      ]
     },
     "execution_count": 35,
     "metadata": {},
     "output_type": "execute_result"
    }
   ],
   "source": [
    "crosstab/crosstab.loc[\"All\",\"All\"]"
   ]
  },
  {
   "cell_type": "markdown",
   "metadata": {},
   "source": [
    "### Have Most children"
   ]
  },
  {
   "cell_type": "code",
   "execution_count": 36,
   "metadata": {
    "collapsed": true
   },
   "outputs": [],
   "source": [
    "crosstab_2 = pd.crosstab(merge.groupby(\"ID_FISC_FOY_DIFF\").first().Is_rev_max, merge.groupby(\"ID_FISC_FOY_DIFF\").first().Has_most_child, margins=True)"
   ]
  },
  {
   "cell_type": "code",
   "execution_count": 37,
   "metadata": {
    "collapsed": false
   },
   "outputs": [
    {
     "data": {
      "text/html": [
       "<div>\n",
       "<table border=\"1\" class=\"dataframe\">\n",
       "  <thead>\n",
       "    <tr style=\"text-align: right;\">\n",
       "      <th>Has_most_child</th>\n",
       "      <th>False</th>\n",
       "      <th>True</th>\n",
       "      <th>All</th>\n",
       "    </tr>\n",
       "    <tr>\n",
       "      <th>Is_rev_max</th>\n",
       "      <th></th>\n",
       "      <th></th>\n",
       "      <th></th>\n",
       "    </tr>\n",
       "  </thead>\n",
       "  <tbody>\n",
       "    <tr>\n",
       "      <th>False</th>\n",
       "      <td>101401</td>\n",
       "      <td>61493</td>\n",
       "      <td>162894</td>\n",
       "    </tr>\n",
       "    <tr>\n",
       "      <th>True</th>\n",
       "      <td>34224</td>\n",
       "      <td>134640</td>\n",
       "      <td>168864</td>\n",
       "    </tr>\n",
       "    <tr>\n",
       "      <th>All</th>\n",
       "      <td>135625</td>\n",
       "      <td>196133</td>\n",
       "      <td>331758</td>\n",
       "    </tr>\n",
       "  </tbody>\n",
       "</table>\n",
       "</div>"
      ],
      "text/plain": [
       "Has_most_child   False    True     All\n",
       "Is_rev_max                            \n",
       "False           101401   61493  162894\n",
       "True             34224  134640  168864\n",
       "All             135625  196133  331758"
      ]
     },
     "execution_count": 37,
     "metadata": {},
     "output_type": "execute_result"
    }
   ],
   "source": [
    "crosstab_2"
   ]
  },
  {
   "cell_type": "code",
   "execution_count": 38,
   "metadata": {
    "collapsed": false
   },
   "outputs": [
    {
     "data": {
      "text/html": [
       "<div>\n",
       "<table border=\"1\" class=\"dataframe\">\n",
       "  <thead>\n",
       "    <tr style=\"text-align: right;\">\n",
       "      <th>Has_most_child</th>\n",
       "      <th>False</th>\n",
       "      <th>True</th>\n",
       "      <th>All</th>\n",
       "    </tr>\n",
       "    <tr>\n",
       "      <th>Is_rev_max</th>\n",
       "      <th></th>\n",
       "      <th></th>\n",
       "      <th></th>\n",
       "    </tr>\n",
       "  </thead>\n",
       "  <tbody>\n",
       "    <tr>\n",
       "      <th>False</th>\n",
       "      <td>0.622497</td>\n",
       "      <td>0.364157</td>\n",
       "      <td>0.491002</td>\n",
       "    </tr>\n",
       "    <tr>\n",
       "      <th>True</th>\n",
       "      <td>0.210100</td>\n",
       "      <td>0.797328</td>\n",
       "      <td>0.508998</td>\n",
       "    </tr>\n",
       "    <tr>\n",
       "      <th>All</th>\n",
       "      <td>0.832597</td>\n",
       "      <td>1.161485</td>\n",
       "      <td>1.000000</td>\n",
       "    </tr>\n",
       "  </tbody>\n",
       "</table>\n",
       "</div>"
      ],
      "text/plain": [
       "Has_most_child     False      True       All\n",
       "Is_rev_max                                  \n",
       "False           0.622497  0.364157  0.491002\n",
       "True            0.210100  0.797328  0.508998\n",
       "All             0.832597  1.161485  1.000000"
      ]
     },
     "execution_count": 38,
     "metadata": {},
     "output_type": "execute_result"
    }
   ],
   "source": [
    "crosstab_2/crosstab_2.loc[:,\"All\"]"
   ]
  },
  {
   "cell_type": "code",
   "execution_count": 39,
   "metadata": {
    "collapsed": true
   },
   "outputs": [],
   "source": [
    "grpby_first = merge.groupby(\"ID_FISC_FOY_DIFF\").first()"
   ]
  },
  {
   "cell_type": "code",
   "execution_count": 40,
   "metadata": {
    "collapsed": false
   },
   "outputs": [
    {
     "data": {
      "text/plain": [
       "True     0.782428\n",
       "False    0.217572\n",
       "dtype: float64"
      ]
     },
     "execution_count": 40,
     "metadata": {},
     "output_type": "execute_result"
    }
   ],
   "source": [
    "grpby_first[grpby_first.Has_all_child == True].Is_rev_max.value_counts(normalize = True)"
   ]
  },
  {
   "cell_type": "code",
   "execution_count": 41,
   "metadata": {
    "collapsed": false
   },
   "outputs": [
    {
     "data": {
      "text/plain": [
       "False    0.594162\n",
       "True     0.405838\n",
       "dtype: float64"
      ]
     },
     "execution_count": 41,
     "metadata": {},
     "output_type": "execute_result"
    }
   ],
   "source": [
    "(merge.groupby(\"ID_FISC_FOY_DIFF\").first().Has_most_child & merge.groupby(\"ID_FISC_FOY_DIFF\").first().Is_rev_max).value_counts(normalize = True)"
   ]
  },
  {
   "cell_type": "code",
   "execution_count": 42,
   "metadata": {
    "collapsed": false
   },
   "outputs": [
    {
     "data": {
      "text/plain": [
       "False    0.707814\n",
       "True     0.292186\n",
       "dtype: float64"
      ]
     },
     "execution_count": 42,
     "metadata": {},
     "output_type": "execute_result"
    }
   ],
   "source": [
    "(merge.groupby(\"ID_FISC_FOY_DIFF\").first().Has_all_child & merge.groupby(\"ID_FISC_FOY_DIFF\").first().Is_rev_max).value_counts(normalize = True)"
   ]
  },
  {
   "cell_type": "markdown",
   "metadata": {},
   "source": [
    "### Pere prennant les enfants"
   ]
  },
  {
   "cell_type": "markdown",
   "metadata": {},
   "source": [
    "Question: Est-ce que les pères prennent plus enfants parce qu'ils sont plus riche ou est-ce parcequ'ils sont \"mâles\"  ?"
   ]
  },
  {
   "cell_type": "code",
   "execution_count": 43,
   "metadata": {
    "collapsed": false
   },
   "outputs": [],
   "source": [
    "df_sexe = merge[merge.TYPE_FISC.isin([\"1\"])]"
   ]
  },
  {
   "cell_type": "code",
   "execution_count": 44,
   "metadata": {
    "collapsed": false
   },
   "outputs": [
    {
     "name": "stderr",
     "output_type": "stream",
     "text": [
      "C:\\Users\\IMPTEMP_A_PACIFIC\\Desktop\\WinPython-64bit-2.7.10.2\\WinPython-64bit-2.7.10.2\\python-2.7.10.amd64\\lib\\site-packages\\IPython\\kernel\\__main__.py:1: SettingWithCopyWarning: \n",
      "A value is trying to be set on a copy of a slice from a DataFrame.\n",
      "Try using .loc[row_indexer,col_indexer] = value instead\n",
      "\n",
      "See the the caveats in the documentation: http://pandas.pydata.org/pandas-docs/stable/indexing.html#indexing-view-versus-copy\n",
      "  if __name__ == '__main__':\n"
     ]
    }
   ],
   "source": [
    "df_sexe[\"SEXE\"] = df_sexe.SEXE.astype(\"float\")"
   ]
  },
  {
   "cell_type": "code",
   "execution_count": 45,
   "metadata": {
    "collapsed": false
   },
   "outputs": [
    {
     "data": {
      "text/plain": [
       "1    0.558206\n",
       "2    0.441794\n",
       "dtype: float64"
      ]
     },
     "execution_count": 45,
     "metadata": {},
     "output_type": "execute_result"
    }
   ],
   "source": [
    "df_sexe[df_sexe.Has_most_child].SEXE.value_counts(normalize = True)"
   ]
  },
  {
   "cell_type": "code",
   "execution_count": 46,
   "metadata": {
    "collapsed": false
   },
   "outputs": [
    {
     "data": {
      "text/plain": [
       "1    0.70653\n",
       "2    0.29347\n",
       "dtype: float64"
      ]
     },
     "execution_count": 46,
     "metadata": {},
     "output_type": "execute_result"
    }
   ],
   "source": [
    "df_sexe[df_sexe.Is_rev_max].SEXE.value_counts(normalize = True)"
   ]
  },
  {
   "cell_type": "code",
   "execution_count": 47,
   "metadata": {
    "collapsed": true
   },
   "outputs": [],
   "source": [
    "df_sexe = df_sexe[df_sexe.Nb_pers_a_charge_in_household == 1]"
   ]
  },
  {
   "cell_type": "code",
   "execution_count": 48,
   "metadata": {
    "collapsed": true
   },
   "outputs": [],
   "source": [
    "crosstab = pd.crosstab(df_sexe.Is_rev_max, df_sexe.Has_most_child, margins=True)"
   ]
  },
  {
   "cell_type": "code",
   "execution_count": 49,
   "metadata": {
    "collapsed": false
   },
   "outputs": [
    {
     "data": {
      "text/html": [
       "<div>\n",
       "<table border=\"1\" class=\"dataframe\">\n",
       "  <thead>\n",
       "    <tr style=\"text-align: right;\">\n",
       "      <th>Has_most_child</th>\n",
       "      <th>False</th>\n",
       "      <th>True</th>\n",
       "      <th>All</th>\n",
       "    </tr>\n",
       "    <tr>\n",
       "      <th>Is_rev_max</th>\n",
       "      <th></th>\n",
       "      <th></th>\n",
       "      <th></th>\n",
       "    </tr>\n",
       "  </thead>\n",
       "  <tbody>\n",
       "    <tr>\n",
       "      <th>False</th>\n",
       "      <td>43485</td>\n",
       "      <td>16157</td>\n",
       "      <td>59642</td>\n",
       "    </tr>\n",
       "    <tr>\n",
       "      <th>True</th>\n",
       "      <td>16833</td>\n",
       "      <td>44175</td>\n",
       "      <td>61008</td>\n",
       "    </tr>\n",
       "    <tr>\n",
       "      <th>All</th>\n",
       "      <td>60318</td>\n",
       "      <td>60332</td>\n",
       "      <td>120650</td>\n",
       "    </tr>\n",
       "  </tbody>\n",
       "</table>\n",
       "</div>"
      ],
      "text/plain": [
       "Has_most_child  False   True     All\n",
       "Is_rev_max                          \n",
       "False           43485  16157   59642\n",
       "True            16833  44175   61008\n",
       "All             60318  60332  120650"
      ]
     },
     "execution_count": 49,
     "metadata": {},
     "output_type": "execute_result"
    }
   ],
   "source": [
    "crosstab"
   ]
  },
  {
   "cell_type": "code",
   "execution_count": 50,
   "metadata": {
    "collapsed": false
   },
   "outputs": [
    {
     "data": {
      "text/plain": [
       "1    0.670863\n",
       "2    0.329137\n",
       "dtype: float64"
      ]
     },
     "execution_count": 50,
     "metadata": {},
     "output_type": "execute_result"
    }
   ],
   "source": [
    "df_sexe[df_sexe.Is_rev_max].SEXE.value_counts(normalize = True)"
   ]
  },
  {
   "cell_type": "code",
   "execution_count": 51,
   "metadata": {
    "collapsed": true
   },
   "outputs": [],
   "source": [
    "crosstab = pd.crosstab(df_sexe.Is_rev_max, df_sexe.SEXE, margins=True)"
   ]
  },
  {
   "cell_type": "code",
   "execution_count": 52,
   "metadata": {
    "collapsed": false
   },
   "outputs": [
    {
     "data": {
      "text/html": [
       "<div>\n",
       "<table border=\"1\" class=\"dataframe\">\n",
       "  <thead>\n",
       "    <tr style=\"text-align: right;\">\n",
       "      <th>SEXE</th>\n",
       "      <th>1.0</th>\n",
       "      <th>2.0</th>\n",
       "      <th>All</th>\n",
       "    </tr>\n",
       "    <tr>\n",
       "      <th>Is_rev_max</th>\n",
       "      <th></th>\n",
       "      <th></th>\n",
       "      <th></th>\n",
       "    </tr>\n",
       "  </thead>\n",
       "  <tbody>\n",
       "    <tr>\n",
       "      <th>False</th>\n",
       "      <td>0.319477</td>\n",
       "      <td>0.668143</td>\n",
       "      <td>0.494339</td>\n",
       "    </tr>\n",
       "    <tr>\n",
       "      <th>True</th>\n",
       "      <td>0.680523</td>\n",
       "      <td>0.331857</td>\n",
       "      <td>0.505661</td>\n",
       "    </tr>\n",
       "    <tr>\n",
       "      <th>All</th>\n",
       "      <td>1.000000</td>\n",
       "      <td>1.000000</td>\n",
       "      <td>1.000000</td>\n",
       "    </tr>\n",
       "  </tbody>\n",
       "</table>\n",
       "</div>"
      ],
      "text/plain": [
       "SEXE             1.0       2.0       All\n",
       "Is_rev_max                              \n",
       "False       0.319477  0.668143  0.494339\n",
       "True        0.680523  0.331857  0.505661\n",
       "All         1.000000  1.000000  1.000000"
      ]
     },
     "execution_count": 52,
     "metadata": {},
     "output_type": "execute_result"
    }
   ],
   "source": [
    "crosstab/crosstab.loc[\"All\"]"
   ]
  },
  {
   "cell_type": "code",
   "execution_count": 53,
   "metadata": {
    "collapsed": false
   },
   "outputs": [
    {
     "data": {
      "text/html": [
       "<div>\n",
       "<table border=\"1\" class=\"dataframe\">\n",
       "  <thead>\n",
       "    <tr style=\"text-align: right;\">\n",
       "      <th></th>\n",
       "      <th></th>\n",
       "      <th></th>\n",
       "      <th>0</th>\n",
       "    </tr>\n",
       "    <tr>\n",
       "      <th></th>\n",
       "      <th>Is_rev_max</th>\n",
       "      <th>Has_most_child</th>\n",
       "      <th></th>\n",
       "    </tr>\n",
       "  </thead>\n",
       "  <tbody>\n",
       "    <tr>\n",
       "      <th rowspan=\"5\" valign=\"top\">SEXE</th>\n",
       "      <th rowspan=\"2\" valign=\"top\">False</th>\n",
       "      <th>False</th>\n",
       "      <td>0.357503</td>\n",
       "    </tr>\n",
       "    <tr>\n",
       "      <th>True</th>\n",
       "      <td>0.227022</td>\n",
       "    </tr>\n",
       "    <tr>\n",
       "      <th rowspan=\"2\" valign=\"top\">True</th>\n",
       "      <th>False</th>\n",
       "      <td>0.759698</td>\n",
       "    </tr>\n",
       "    <tr>\n",
       "      <th>True</th>\n",
       "      <td>0.637012</td>\n",
       "    </tr>\n",
       "    <tr>\n",
       "      <th>All</th>\n",
       "      <th></th>\n",
       "      <td>0.498483</td>\n",
       "    </tr>\n",
       "  </tbody>\n",
       "</table>\n",
       "</div>"
      ],
      "text/plain": [
       "                                       0\n",
       "     Is_rev_max Has_most_child          \n",
       "SEXE False      False           0.357503\n",
       "                True            0.227022\n",
       "     True       False           0.759698\n",
       "                True            0.637012\n",
       "     All                        0.498483"
      ]
     },
     "execution_count": 53,
     "metadata": {},
     "output_type": "execute_result"
    }
   ],
   "source": [
    "1-pd.DataFrame(pd.pivot_table(df_sexe, values= [\"SEXE\"], columns=[\"Is_rev_max\", \"Has_most_child\"], aggfunc='mean', margins = True)-1)"
   ]
  },
  {
   "cell_type": "code",
   "execution_count": 60,
   "metadata": {
    "collapsed": false
   },
   "outputs": [],
   "source": [
    "biologic_path = (u\"C:/Users/IMPTEMP_A_PACIFIC/Desktop/EDP_2015/Programme/optimisation_concubains/\" +\n",
    "                \"/Re_restart_from_scratch/pickle/biologic/biologic_households{}.p\".format(year))\n",
    "biologic = pickle.load( \n",
    "        open(biologic_path, 'rb'))\n",
    "df_sexe_bio = df_sexe.reset_index()\n",
    "df_sexe_bio = df_sexe_bio[df_sexe_bio.ID_FISC_LOG_DIFF.isin(biologic)]"
   ]
  },
  {
   "cell_type": "code",
   "execution_count": 61,
   "metadata": {
    "collapsed": false
   },
   "outputs": [],
   "source": [
    "optimize_path = (u\"C:/Users/IMPTEMP_A_PACIFIC/Desktop/EDP_2015/Programme/optimisation_concubains/\" +\n",
    "                    \"/Re_restart_from_scratch/pickle/optimize/Do_not_optimize_rev_{}.p\".format(2014))\n",
    "biologic = pickle.load(open(optimize_path, 'rb'))\n",
    "df_sexe_bio[\"Do_not_optimize\"]= df_sexe_bio.ID_FISC_LOG_DIFF.isin(biologic)"
   ]
  },
  {
   "cell_type": "code",
   "execution_count": 62,
   "metadata": {
    "collapsed": false
   },
   "outputs": [
    {
     "data": {
      "text/html": [
       "<div>\n",
       "<table border=\"1\" class=\"dataframe\">\n",
       "  <thead>\n",
       "    <tr style=\"text-align: right;\">\n",
       "      <th></th>\n",
       "      <th></th>\n",
       "      <th></th>\n",
       "      <th>0</th>\n",
       "    </tr>\n",
       "    <tr>\n",
       "      <th></th>\n",
       "      <th>Is_rev_max</th>\n",
       "      <th>Has_most_child</th>\n",
       "      <th></th>\n",
       "    </tr>\n",
       "  </thead>\n",
       "  <tbody>\n",
       "    <tr>\n",
       "      <th rowspan=\"5\" valign=\"top\">SEXE</th>\n",
       "      <th rowspan=\"2\" valign=\"top\">False</th>\n",
       "      <th>False</th>\n",
       "      <td>0.327512</td>\n",
       "    </tr>\n",
       "    <tr>\n",
       "      <th>True</th>\n",
       "      <td>0.268644</td>\n",
       "    </tr>\n",
       "    <tr>\n",
       "      <th rowspan=\"2\" valign=\"top\">True</th>\n",
       "      <th>False</th>\n",
       "      <td>0.724516</td>\n",
       "    </tr>\n",
       "    <tr>\n",
       "      <th>True</th>\n",
       "      <td>0.670003</td>\n",
       "    </tr>\n",
       "    <tr>\n",
       "      <th>All</th>\n",
       "      <th></th>\n",
       "      <td>0.499964</td>\n",
       "    </tr>\n",
       "  </tbody>\n",
       "</table>\n",
       "</div>"
      ],
      "text/plain": [
       "                                       0\n",
       "     Is_rev_max Has_most_child          \n",
       "SEXE False      False           0.327512\n",
       "                True            0.268644\n",
       "     True       False           0.724516\n",
       "                True            0.670003\n",
       "     All                        0.499964"
      ]
     },
     "execution_count": 62,
     "metadata": {},
     "output_type": "execute_result"
    }
   ],
   "source": [
    "1-pd.DataFrame(pd.pivot_table(df_sexe_bio, values= [\"SEXE\"], columns=[\"Is_rev_max\", \"Has_most_child\"], aggfunc='mean', margins = True)-1)"
   ]
  },
  {
   "cell_type": "code",
   "execution_count": 63,
   "metadata": {
    "collapsed": false
   },
   "outputs": [
    {
     "data": {
      "text/html": [
       "<div>\n",
       "<table border=\"1\" class=\"dataframe\">\n",
       "  <thead>\n",
       "    <tr style=\"text-align: right;\">\n",
       "      <th></th>\n",
       "      <th></th>\n",
       "      <th></th>\n",
       "      <th>0</th>\n",
       "    </tr>\n",
       "    <tr>\n",
       "      <th></th>\n",
       "      <th>Is_rev_max</th>\n",
       "      <th>Has_most_child</th>\n",
       "      <th></th>\n",
       "    </tr>\n",
       "  </thead>\n",
       "  <tbody>\n",
       "    <tr>\n",
       "      <th rowspan=\"5\" valign=\"top\">SEXE</th>\n",
       "      <th rowspan=\"2\" valign=\"top\">False</th>\n",
       "      <th>False</th>\n",
       "      <td>0.452263</td>\n",
       "    </tr>\n",
       "    <tr>\n",
       "      <th>True</th>\n",
       "      <td>0.259712</td>\n",
       "    </tr>\n",
       "    <tr>\n",
       "      <th rowspan=\"2\" valign=\"top\">True</th>\n",
       "      <th>False</th>\n",
       "      <td>0.740288</td>\n",
       "    </tr>\n",
       "    <tr>\n",
       "      <th>True</th>\n",
       "      <td>0.547588</td>\n",
       "    </tr>\n",
       "    <tr>\n",
       "      <th>All</th>\n",
       "      <th></th>\n",
       "      <td>0.499960</td>\n",
       "    </tr>\n",
       "  </tbody>\n",
       "</table>\n",
       "</div>"
      ],
      "text/plain": [
       "                                       0\n",
       "     Is_rev_max Has_most_child          \n",
       "SEXE False      False           0.452263\n",
       "                True            0.259712\n",
       "     True       False           0.740288\n",
       "                True            0.547588\n",
       "     All                        0.499960"
      ]
     },
     "execution_count": 63,
     "metadata": {},
     "output_type": "execute_result"
    }
   ],
   "source": [
    "1-pd.DataFrame(pd.pivot_table(df_sexe_bio[df_sexe_bio.Do_not_optimize]\n",
    "                              , values= [\"SEXE\"], columns=[\"Is_rev_max\", \"Has_most_child\"], aggfunc='mean', margins = True)-1)"
   ]
  },
  {
   "cell_type": "code",
   "execution_count": 64,
   "metadata": {
    "collapsed": false
   },
   "outputs": [
    {
     "name": "stdout",
     "output_type": "stream",
     "text": [
      "1    0.64651\n",
      "2    0.35349\n",
      "dtype: float64\n",
      "1    0.692142\n",
      "2    0.307858\n",
      "dtype: float64\n",
      "2    0.646567\n",
      "1    0.353433\n",
      "dtype: float64\n"
     ]
    }
   ],
   "source": [
    "print df_sexe_bio[df_sexe_bio.Do_not_optimize & df_sexe_bio.Is_rev_max].SEXE.value_counts(normalize = True)\n",
    "print df_sexe_bio[(~df_sexe_bio.Do_not_optimize) & df_sexe_bio.Is_rev_max].SEXE.value_counts(normalize = True)\n",
    "print df_sexe_bio[df_sexe_bio.Do_not_optimize & ~df_sexe_bio.Is_rev_max].SEXE.value_counts(normalize = True)"
   ]
  },
  {
   "cell_type": "code",
   "execution_count": 65,
   "metadata": {
    "collapsed": true
   },
   "outputs": [],
   "source": [
    "filter_1 = df_sexe_bio.Has_most_child & df_sexe_bio.Is_rev_max\n",
    "filter_2 = df_sexe_bio.Do_not_optimize & df_sexe_bio.Has_most_child & ~df_sexe_bio.Is_rev_max\n",
    "filter_3 = ~df_sexe_bio.Do_not_optimize & df_sexe_bio.Has_most_child & df_sexe_bio.Is_rev_max"
   ]
  },
  {
   "cell_type": "code",
   "execution_count": 66,
   "metadata": {
    "collapsed": false
   },
   "outputs": [
    {
     "name": "stdout",
     "output_type": "stream",
     "text": [
      "1    0.670003\n",
      "2    0.329997\n",
      "dtype: float64\n",
      "2    0.740288\n",
      "1    0.259712\n",
      "dtype: float64\n",
      "1    0.689648\n",
      "2    0.310352\n",
      "dtype: float64\n"
     ]
    }
   ],
   "source": [
    "print df_sexe_bio[filter_1 ].SEXE.value_counts(normalize = True)\n",
    "print df_sexe_bio[filter_2].SEXE.value_counts(normalize = True)\n",
    "print df_sexe_bio[filter_3].SEXE.value_counts(normalize = True)"
   ]
  },
  {
   "cell_type": "code",
   "execution_count": 67,
   "metadata": {
    "collapsed": false
   },
   "outputs": [
    {
     "data": {
      "text/plain": [
       "1    0.584007\n",
       "2    0.415993\n",
       "dtype: float64"
      ]
     },
     "execution_count": 67,
     "metadata": {},
     "output_type": "execute_result"
    }
   ],
   "source": [
    "df_sexe_bio[df_sexe_bio.Has_most_child].SEXE.value_counts(normalize = True)"
   ]
  },
  {
   "cell_type": "code",
   "execution_count": 68,
   "metadata": {
    "collapsed": false
   },
   "outputs": [
    {
     "name": "stdout",
     "output_type": "stream",
     "text": [
      "1   -0.019645\n",
      "2    0.019645\n",
      "dtype: float64\n"
     ]
    }
   ],
   "source": [
    "print df_sexe_bio[filter_1 ].SEXE.value_counts(normalize = True) - df_sexe_bio[filter_3 ].SEXE.value_counts(normalize = True)\n"
   ]
  },
  {
   "cell_type": "code",
   "execution_count": 69,
   "metadata": {
    "collapsed": false
   },
   "outputs": [
    {
     "name": "stdout",
     "output_type": "stream",
     "text": [
      "-0.130481 -0.122686\n"
     ]
    }
   ],
   "source": [
    "print 0.642497 - 0.772978 , 0.240302 - 0.362988"
   ]
  },
  {
   "cell_type": "markdown",
   "metadata": {},
   "source": [
    "Diff in diff"
   ]
  },
  {
   "cell_type": "code",
   "execution_count": 70,
   "metadata": {
    "collapsed": false
   },
   "outputs": [
    {
     "name": "stdout",
     "output_type": "stream",
     "text": [
      "3\n",
      "-9\n"
     ]
    }
   ],
   "source": [
    "print 67-64\n",
    "print 67-76"
   ]
  },
  {
   "cell_type": "code",
   "execution_count": 71,
   "metadata": {
    "collapsed": false
   },
   "outputs": [
    {
     "name": "stdout",
     "output_type": "stream",
     "text": [
      "-3\n",
      "9\n"
     ]
    }
   ],
   "source": [
    "print 33-36\n",
    "print 33-24"
   ]
  },
  {
   "cell_type": "code",
   "execution_count": 72,
   "metadata": {
    "collapsed": true
   },
   "outputs": [],
   "source": [
    "import statsmodels.api as sm"
   ]
  },
  {
   "cell_type": "code",
   "execution_count": null,
   "metadata": {
    "collapsed": false
   },
   "outputs": [],
   "source": []
  },
  {
   "cell_type": "code",
   "execution_count": null,
   "metadata": {
    "collapsed": true
   },
   "outputs": [],
   "source": []
  },
  {
   "cell_type": "code",
   "execution_count": 73,
   "metadata": {
    "collapsed": false
   },
   "outputs": [],
   "source": [
    "#df_sexe.head()"
   ]
  },
  {
   "cell_type": "markdown",
   "metadata": {},
   "source": [
    "### Pas biologiques"
   ]
  },
  {
   "cell_type": "code",
   "execution_count": 74,
   "metadata": {
    "collapsed": false
   },
   "outputs": [
    {
     "name": "stdout",
     "output_type": "stream",
     "text": [
      "Optimization terminated successfully.\n",
      "         Current function value: 0.623530\n",
      "         Iterations 5\n"
     ]
    },
    {
     "data": {
      "text/html": [
       "<table class=\"simpletable\">\n",
       "<caption>Logit Regression Results</caption>\n",
       "<tr>\n",
       "  <th>Dep. Variable:</th>       <td>SEXE</td>       <th>  No. Observations:  </th>  <td>120650</td> \n",
       "</tr>\n",
       "<tr>\n",
       "  <th>Model:</th>               <td>Logit</td>      <th>  Df Residuals:      </th>  <td>120647</td> \n",
       "</tr>\n",
       "<tr>\n",
       "  <th>Method:</th>               <td>MLE</td>       <th>  Df Model:          </th>  <td>     2</td> \n",
       "</tr>\n",
       "<tr>\n",
       "  <th>Date:</th>          <td>Wed, 10 Apr 2019</td> <th>  Pseudo R-squ.:     </th>  <td>0.1004</td> \n",
       "</tr>\n",
       "<tr>\n",
       "  <th>Time:</th>              <td>11:04:13</td>     <th>  Log-Likelihood:    </th> <td> -75229.</td>\n",
       "</tr>\n",
       "<tr>\n",
       "  <th>converged:</th>           <td>True</td>       <th>  LL-Null:           </th> <td> -83628.</td>\n",
       "</tr>\n",
       "<tr>\n",
       "  <th> </th>                      <td> </td>        <th>  LLR p-value:       </th>  <td> 0.000</td> \n",
       "</tr>\n",
       "</table>\n",
       "<table class=\"simpletable\">\n",
       "<tr>\n",
       "         <td></td>           <th>coef</th>     <th>std err</th>      <th>z</th>      <th>P>|z|</th> <th>[95.0% Conf. Int.]</th> \n",
       "</tr>\n",
       "<tr>\n",
       "  <th>Is_rev_max</th>     <td>   -1.7618</td> <td>    0.015</td> <td> -119.109</td> <td> 0.000</td> <td>   -1.791    -1.733</td>\n",
       "</tr>\n",
       "<tr>\n",
       "  <th>Has_most_child</th> <td>    0.6130</td> <td>    0.015</td> <td>   41.451</td> <td> 0.000</td> <td>    0.584     0.642</td>\n",
       "</tr>\n",
       "<tr>\n",
       "  <th>Intersect</th>      <td>    0.5920</td> <td>    0.009</td> <td>   62.822</td> <td> 0.000</td> <td>    0.574     0.610</td>\n",
       "</tr>\n",
       "</table>"
      ],
      "text/plain": [
       "<class 'statsmodels.iolib.summary.Summary'>\n",
       "\"\"\"\n",
       "                           Logit Regression Results                           \n",
       "==============================================================================\n",
       "Dep. Variable:                   SEXE   No. Observations:               120650\n",
       "Model:                          Logit   Df Residuals:                   120647\n",
       "Method:                           MLE   Df Model:                            2\n",
       "Date:                Wed, 10 Apr 2019   Pseudo R-squ.:                  0.1004\n",
       "Time:                        11:04:13   Log-Likelihood:                -75229.\n",
       "converged:                       True   LL-Null:                       -83628.\n",
       "                                        LLR p-value:                     0.000\n",
       "==================================================================================\n",
       "                     coef    std err          z      P>|z|      [95.0% Conf. Int.]\n",
       "----------------------------------------------------------------------------------\n",
       "Is_rev_max        -1.7618      0.015   -119.109      0.000        -1.791    -1.733\n",
       "Has_most_child     0.6130      0.015     41.451      0.000         0.584     0.642\n",
       "Intersect          0.5920      0.009     62.822      0.000         0.574     0.610\n",
       "==================================================================================\n",
       "\"\"\""
      ]
     },
     "execution_count": 74,
     "metadata": {},
     "output_type": "execute_result"
    }
   ],
   "source": [
    "df_sexe[\"SEXE\"] = (df_sexe.SEXE -1 ).astype('int')\n",
    "df_sexe[\"Intersect\"] = 1\n",
    "Logit = sm.Logit(df_sexe[\"SEXE\"], df_sexe[[\"Is_rev_max\", \"Has_most_child\",\"Intersect\" ]].astype('float')).fit()\n",
    "Logit.summary() #Impact d'être une femme"
   ]
  },
  {
   "cell_type": "code",
   "execution_count": null,
   "metadata": {
    "collapsed": false
   },
   "outputs": [],
   "source": []
  },
  {
   "cell_type": "markdown",
   "metadata": {},
   "source": [
    "### BIologiques "
   ]
  },
  {
   "cell_type": "code",
   "execution_count": 75,
   "metadata": {
    "collapsed": true
   },
   "outputs": [],
   "source": [
    "df_sexe_bio[\"SEXE\"] = (df_sexe_bio.SEXE -1 ).astype('int')"
   ]
  },
  {
   "cell_type": "code",
   "execution_count": 76,
   "metadata": {
    "collapsed": false
   },
   "outputs": [
    {
     "name": "stdout",
     "output_type": "stream",
     "text": [
      "Optimization terminated successfully.\n",
      "         Current function value: 0.622820\n",
      "         Iterations 5\n"
     ]
    },
    {
     "data": {
      "text/html": [
       "<table class=\"simpletable\">\n",
       "<caption>Logit Regression Results</caption>\n",
       "<tr>\n",
       "  <th>Dep. Variable:</th>       <td>SEXE</td>       <th>  No. Observations:  </th>  <td> 55694</td> \n",
       "</tr>\n",
       "<tr>\n",
       "  <th>Model:</th>               <td>Logit</td>      <th>  Df Residuals:      </th>  <td> 55691</td> \n",
       "</tr>\n",
       "<tr>\n",
       "  <th>Method:</th>               <td>MLE</td>       <th>  Df Model:          </th>  <td>     2</td> \n",
       "</tr>\n",
       "<tr>\n",
       "  <th>Date:</th>          <td>Wed, 10 Apr 2019</td> <th>  Pseudo R-squ.:     </th>  <td>0.1015</td> \n",
       "</tr>\n",
       "<tr>\n",
       "  <th>Time:</th>              <td>11:04:13</td>     <th>  Log-Likelihood:    </th> <td> -34687.</td>\n",
       "</tr>\n",
       "<tr>\n",
       "  <th>converged:</th>           <td>True</td>       <th>  LL-Null:           </th> <td> -38604.</td>\n",
       "</tr>\n",
       "<tr>\n",
       "  <th> </th>                      <td> </td>        <th>  LLR p-value:       </th>  <td> 0.000</td> \n",
       "</tr>\n",
       "</table>\n",
       "<table class=\"simpletable\">\n",
       "<tr>\n",
       "         <td></td>           <th>coef</th>     <th>std err</th>      <th>z</th>      <th>P>|z|</th> <th>[95.0% Conf. Int.]</th> \n",
       "</tr>\n",
       "<tr>\n",
       "  <th>Is_rev_max</th>     <td>   -1.6979</td> <td>    0.023</td> <td>  -74.518</td> <td> 0.000</td> <td>   -1.743    -1.653</td>\n",
       "</tr>\n",
       "<tr>\n",
       "  <th>Has_most_child</th> <td>    0.2702</td> <td>    0.023</td> <td>   11.858</td> <td> 0.000</td> <td>    0.226     0.315</td>\n",
       "</tr>\n",
       "<tr>\n",
       "  <th>Intersect</th>      <td>    0.7218</td> <td>    0.014</td> <td>   52.543</td> <td> 0.000</td> <td>    0.695     0.749</td>\n",
       "</tr>\n",
       "</table>"
      ],
      "text/plain": [
       "<class 'statsmodels.iolib.summary.Summary'>\n",
       "\"\"\"\n",
       "                           Logit Regression Results                           \n",
       "==============================================================================\n",
       "Dep. Variable:                   SEXE   No. Observations:                55694\n",
       "Model:                          Logit   Df Residuals:                    55691\n",
       "Method:                           MLE   Df Model:                            2\n",
       "Date:                Wed, 10 Apr 2019   Pseudo R-squ.:                  0.1015\n",
       "Time:                        11:04:13   Log-Likelihood:                -34687.\n",
       "converged:                       True   LL-Null:                       -38604.\n",
       "                                        LLR p-value:                     0.000\n",
       "==================================================================================\n",
       "                     coef    std err          z      P>|z|      [95.0% Conf. Int.]\n",
       "----------------------------------------------------------------------------------\n",
       "Is_rev_max        -1.6979      0.023    -74.518      0.000        -1.743    -1.653\n",
       "Has_most_child     0.2702      0.023     11.858      0.000         0.226     0.315\n",
       "Intersect          0.7218      0.014     52.543      0.000         0.695     0.749\n",
       "==================================================================================\n",
       "\"\"\""
      ]
     },
     "execution_count": 76,
     "metadata": {},
     "output_type": "execute_result"
    }
   ],
   "source": [
    "\n",
    "df_sexe_bio[\"Intersect\"] = 1\n",
    "Logit = sm.Logit(df_sexe_bio[\"SEXE\"], df_sexe_bio[[\"Is_rev_max\", \"Has_most_child\",\"Intersect\" ]].astype('float')).fit()\n",
    "Logit.summary() #Impact d'être une femme"
   ]
  },
  {
   "cell_type": "code",
   "execution_count": 77,
   "metadata": {
    "collapsed": false
   },
   "outputs": [
    {
     "name": "stdout",
     "output_type": "stream",
     "text": [
      "Optimization terminated successfully.\n",
      "         Current function value: 0.622820\n",
      "         Iterations 5\n"
     ]
    },
    {
     "data": {
      "text/html": [
       "<table class=\"simpletable\">\n",
       "<caption>Logit Regression Results</caption>\n",
       "<tr>\n",
       "  <th>Dep. Variable:</th>       <td>SEXE</td>       <th>  No. Observations:  </th>  <td> 55694</td> \n",
       "</tr>\n",
       "<tr>\n",
       "  <th>Model:</th>               <td>Logit</td>      <th>  Df Residuals:      </th>  <td> 55691</td> \n",
       "</tr>\n",
       "<tr>\n",
       "  <th>Method:</th>               <td>MLE</td>       <th>  Df Model:          </th>  <td>     2</td> \n",
       "</tr>\n",
       "<tr>\n",
       "  <th>Date:</th>          <td>Wed, 10 Apr 2019</td> <th>  Pseudo R-squ.:     </th>  <td>0.1015</td> \n",
       "</tr>\n",
       "<tr>\n",
       "  <th>Time:</th>              <td>11:04:13</td>     <th>  Log-Likelihood:    </th> <td> -34687.</td>\n",
       "</tr>\n",
       "<tr>\n",
       "  <th>converged:</th>           <td>True</td>       <th>  LL-Null:           </th> <td> -38604.</td>\n",
       "</tr>\n",
       "<tr>\n",
       "  <th> </th>                      <td> </td>        <th>  LLR p-value:       </th>  <td> 0.000</td> \n",
       "</tr>\n",
       "</table>\n",
       "<table class=\"simpletable\">\n",
       "<tr>\n",
       "         <td></td>           <th>coef</th>     <th>std err</th>      <th>z</th>      <th>P>|z|</th> <th>[95.0% Conf. Int.]</th> \n",
       "</tr>\n",
       "<tr>\n",
       "  <th>Is_rev_max</th>     <td>   -1.6979</td> <td>    0.023</td> <td>  -74.518</td> <td> 0.000</td> <td>   -1.743    -1.653</td>\n",
       "</tr>\n",
       "<tr>\n",
       "  <th>Has_most_child</th> <td>    0.2702</td> <td>    0.023</td> <td>   11.858</td> <td> 0.000</td> <td>    0.226     0.315</td>\n",
       "</tr>\n",
       "<tr>\n",
       "  <th>Intersect</th>      <td>    0.7218</td> <td>    0.014</td> <td>   52.543</td> <td> 0.000</td> <td>    0.695     0.749</td>\n",
       "</tr>\n",
       "</table>"
      ],
      "text/plain": [
       "<class 'statsmodels.iolib.summary.Summary'>\n",
       "\"\"\"\n",
       "                           Logit Regression Results                           \n",
       "==============================================================================\n",
       "Dep. Variable:                   SEXE   No. Observations:                55694\n",
       "Model:                          Logit   Df Residuals:                    55691\n",
       "Method:                           MLE   Df Model:                            2\n",
       "Date:                Wed, 10 Apr 2019   Pseudo R-squ.:                  0.1015\n",
       "Time:                        11:04:13   Log-Likelihood:                -34687.\n",
       "converged:                       True   LL-Null:                       -38604.\n",
       "                                        LLR p-value:                     0.000\n",
       "==================================================================================\n",
       "                     coef    std err          z      P>|z|      [95.0% Conf. Int.]\n",
       "----------------------------------------------------------------------------------\n",
       "Is_rev_max        -1.6979      0.023    -74.518      0.000        -1.743    -1.653\n",
       "Has_most_child     0.2702      0.023     11.858      0.000         0.226     0.315\n",
       "Intersect          0.7218      0.014     52.543      0.000         0.695     0.749\n",
       "==================================================================================\n",
       "\"\"\""
      ]
     },
     "execution_count": 77,
     "metadata": {},
     "output_type": "execute_result"
    }
   ],
   "source": [
    "\n",
    "df_sexe_bio[\"Intersect\"] = 1\n",
    "Logit = sm.Logit(df_sexe_bio[\"SEXE\"], df_sexe_bio[[\"Is_rev_max\", \"Has_most_child\",\"Intersect\" ]].astype('float')).fit()\n",
    "Logit.summary() #Impact d'être une femme"
   ]
  },
  {
   "cell_type": "code",
   "execution_count": 78,
   "metadata": {
    "collapsed": false
   },
   "outputs": [
    {
     "data": {
      "text/plain": [
       "1    27849\n",
       "0    27845\n",
       "dtype: int64"
      ]
     },
     "execution_count": 78,
     "metadata": {},
     "output_type": "execute_result"
    }
   ],
   "source": [
    "df_sexe_bio.SEXE.value_counts()"
   ]
  },
  {
   "cell_type": "code",
   "execution_count": 79,
   "metadata": {
    "collapsed": false
   },
   "outputs": [
    {
     "name": "stdout",
     "output_type": "stream",
     "text": [
      "Optimization terminated successfully.\n",
      "         Current function value: 0.523645\n",
      "         Iterations 5\n"
     ]
    },
    {
     "data": {
      "text/html": [
       "<table class=\"simpletable\">\n",
       "<caption>Logit Regression Results</caption>\n",
       "<tr>\n",
       "  <th>Dep. Variable:</th>  <td>Has_most_child</td>  <th>  No. Observations:  </th>  <td> 55694</td> \n",
       "</tr>\n",
       "<tr>\n",
       "  <th>Model:</th>               <td>Logit</td>      <th>  Df Residuals:      </th>  <td> 55691</td> \n",
       "</tr>\n",
       "<tr>\n",
       "  <th>Method:</th>               <td>MLE</td>       <th>  Df Model:          </th>  <td>     2</td> \n",
       "</tr>\n",
       "<tr>\n",
       "  <th>Date:</th>          <td>Wed, 10 Apr 2019</td> <th>  Pseudo R-squ.:     </th>  <td>0.2445</td> \n",
       "</tr>\n",
       "<tr>\n",
       "  <th>Time:</th>              <td>11:04:13</td>     <th>  Log-Likelihood:    </th> <td> -29164.</td>\n",
       "</tr>\n",
       "<tr>\n",
       "  <th>converged:</th>           <td>True</td>       <th>  LL-Null:           </th> <td> -38604.</td>\n",
       "</tr>\n",
       "<tr>\n",
       "  <th> </th>                      <td> </td>        <th>  LLR p-value:       </th>  <td> 0.000</td> \n",
       "</tr>\n",
       "</table>\n",
       "<table class=\"simpletable\">\n",
       "<tr>\n",
       "       <td></td>         <th>coef</th>     <th>std err</th>      <th>z</th>      <th>P>|z|</th> <th>[95.0% Conf. Int.]</th> \n",
       "</tr>\n",
       "<tr>\n",
       "  <th>Is_rev_max</th> <td>    2.6578</td> <td>    0.023</td> <td>  116.640</td> <td> 0.000</td> <td>    2.613     2.702</td>\n",
       "</tr>\n",
       "<tr>\n",
       "  <th>SEXE</th>       <td>    0.2702</td> <td>    0.023</td> <td>   11.858</td> <td> 0.000</td> <td>    0.226     0.315</td>\n",
       "</tr>\n",
       "<tr>\n",
       "  <th>Intersect</th>  <td>   -1.4781</td> <td>    0.022</td> <td>  -67.317</td> <td> 0.000</td> <td>   -1.521    -1.435</td>\n",
       "</tr>\n",
       "</table>"
      ],
      "text/plain": [
       "<class 'statsmodels.iolib.summary.Summary'>\n",
       "\"\"\"\n",
       "                           Logit Regression Results                           \n",
       "==============================================================================\n",
       "Dep. Variable:         Has_most_child   No. Observations:                55694\n",
       "Model:                          Logit   Df Residuals:                    55691\n",
       "Method:                           MLE   Df Model:                            2\n",
       "Date:                Wed, 10 Apr 2019   Pseudo R-squ.:                  0.2445\n",
       "Time:                        11:04:13   Log-Likelihood:                -29164.\n",
       "converged:                       True   LL-Null:                       -38604.\n",
       "                                        LLR p-value:                     0.000\n",
       "==============================================================================\n",
       "                 coef    std err          z      P>|z|      [95.0% Conf. Int.]\n",
       "------------------------------------------------------------------------------\n",
       "Is_rev_max     2.6578      0.023    116.640      0.000         2.613     2.702\n",
       "SEXE           0.2702      0.023     11.858      0.000         0.226     0.315\n",
       "Intersect     -1.4781      0.022    -67.317      0.000        -1.521    -1.435\n",
       "==============================================================================\n",
       "\"\"\""
      ]
     },
     "execution_count": 79,
     "metadata": {},
     "output_type": "execute_result"
    }
   ],
   "source": [
    "\n",
    "df_sexe_bio[\"Intersect\"] = 1\n",
    "Logit = sm.Logit(df_sexe_bio[\"Has_most_child\"], df_sexe_bio[[ \"Is_rev_max\",\"SEXE\",\"Intersect\" ]].astype('float')).fit()\n",
    "Logit.summary() #Impact d'être une femme"
   ]
  },
  {
   "cell_type": "code",
   "execution_count": 80,
   "metadata": {
    "collapsed": false
   },
   "outputs": [
    {
     "data": {
      "text/plain": [
       "1.1641602364321124"
      ]
     },
     "execution_count": 80,
     "metadata": {},
     "output_type": "execute_result"
    }
   ],
   "source": [
    "np.exp(0.1520)"
   ]
  },
  {
   "cell_type": "code",
   "execution_count": 81,
   "metadata": {
    "collapsed": false
   },
   "outputs": [
    {
     "name": "stdout",
     "output_type": "stream",
     "text": [
      "Optimization terminated successfully.\n",
      "         Current function value: 0.524938\n",
      "         Iterations 5\n"
     ]
    },
    {
     "data": {
      "text/html": [
       "<table class=\"simpletable\">\n",
       "<caption>Logit Regression Results</caption>\n",
       "<tr>\n",
       "  <th>Dep. Variable:</th>  <td>Has_most_child</td>  <th>  No. Observations:  </th>  <td> 55694</td> \n",
       "</tr>\n",
       "<tr>\n",
       "  <th>Model:</th>               <td>Logit</td>      <th>  Df Residuals:      </th>  <td> 55692</td> \n",
       "</tr>\n",
       "<tr>\n",
       "  <th>Method:</th>               <td>MLE</td>       <th>  Df Model:          </th>  <td>     1</td> \n",
       "</tr>\n",
       "<tr>\n",
       "  <th>Date:</th>          <td>Wed, 10 Apr 2019</td> <th>  Pseudo R-squ.:     </th>  <td>0.2427</td> \n",
       "</tr>\n",
       "<tr>\n",
       "  <th>Time:</th>              <td>11:04:13</td>     <th>  Log-Likelihood:    </th> <td> -29236.</td>\n",
       "</tr>\n",
       "<tr>\n",
       "  <th>converged:</th>           <td>True</td>       <th>  LL-Null:           </th> <td> -38604.</td>\n",
       "</tr>\n",
       "<tr>\n",
       "  <th> </th>                      <td> </td>        <th>  LLR p-value:       </th>  <td> 0.000</td> \n",
       "</tr>\n",
       "</table>\n",
       "<table class=\"simpletable\">\n",
       "<tr>\n",
       "       <td></td>         <th>coef</th>     <th>std err</th>      <th>z</th>      <th>P>|z|</th> <th>[95.0% Conf. Int.]</th> \n",
       "</tr>\n",
       "<tr>\n",
       "  <th>Is_rev_max</th> <td>    2.5496</td> <td>    0.021</td> <td>  124.295</td> <td> 0.000</td> <td>    2.509     2.590</td>\n",
       "</tr>\n",
       "<tr>\n",
       "  <th>Intersect</th>  <td>   -1.2885</td> <td>    0.015</td> <td>  -88.126</td> <td> 0.000</td> <td>   -1.317    -1.260</td>\n",
       "</tr>\n",
       "</table>"
      ],
      "text/plain": [
       "<class 'statsmodels.iolib.summary.Summary'>\n",
       "\"\"\"\n",
       "                           Logit Regression Results                           \n",
       "==============================================================================\n",
       "Dep. Variable:         Has_most_child   No. Observations:                55694\n",
       "Model:                          Logit   Df Residuals:                    55692\n",
       "Method:                           MLE   Df Model:                            1\n",
       "Date:                Wed, 10 Apr 2019   Pseudo R-squ.:                  0.2427\n",
       "Time:                        11:04:13   Log-Likelihood:                -29236.\n",
       "converged:                       True   LL-Null:                       -38604.\n",
       "                                        LLR p-value:                     0.000\n",
       "==============================================================================\n",
       "                 coef    std err          z      P>|z|      [95.0% Conf. Int.]\n",
       "------------------------------------------------------------------------------\n",
       "Is_rev_max     2.5496      0.021    124.295      0.000         2.509     2.590\n",
       "Intersect     -1.2885      0.015    -88.126      0.000        -1.317    -1.260\n",
       "==============================================================================\n",
       "\"\"\""
      ]
     },
     "execution_count": 81,
     "metadata": {},
     "output_type": "execute_result"
    }
   ],
   "source": [
    "\n",
    "df_sexe_bio[\"Intersect\"] = 1\n",
    "Logit = sm.Logit(df_sexe_bio[\"Has_most_child\"], df_sexe_bio[[ \"Is_rev_max\",\"Intersect\" ]].astype('float')).fit()\n",
    "Logit.summary() #Impact d'être une femme"
   ]
  },
  {
   "cell_type": "code",
   "execution_count": 82,
   "metadata": {
    "collapsed": false
   },
   "outputs": [
    {
     "data": {
      "text/plain": [
       "12.970791215813765"
      ]
     },
     "execution_count": 82,
     "metadata": {},
     "output_type": "execute_result"
    }
   ],
   "source": [
    "np.exp(2.5627)"
   ]
  },
  {
   "cell_type": "code",
   "execution_count": null,
   "metadata": {
    "collapsed": true
   },
   "outputs": [],
   "source": []
  },
  {
   "cell_type": "code",
   "execution_count": 83,
   "metadata": {
    "collapsed": false
   },
   "outputs": [
    {
     "data": {
      "text/plain": [
       "0.077096299166454649"
      ]
     },
     "execution_count": 83,
     "metadata": {},
     "output_type": "execute_result"
    }
   ],
   "source": [
    "1/np.exp(2.5627)"
   ]
  },
  {
   "cell_type": "code",
   "execution_count": 84,
   "metadata": {
    "collapsed": false
   },
   "outputs": [
    {
     "data": {
      "text/plain": [
       "12.970791215813765"
      ]
     },
     "execution_count": 84,
     "metadata": {},
     "output_type": "execute_result"
    }
   ],
   "source": [
    "np.exp(2.5627)"
   ]
  },
  {
   "cell_type": "code",
   "execution_count": 85,
   "metadata": {
    "collapsed": false
   },
   "outputs": [
    {
     "name": "stdout",
     "output_type": "stream",
     "text": [
      "2019-04-10 11:04:13.661000\n"
     ]
    }
   ],
   "source": [
    "import datetime\n",
    "print datetime.datetime.now()"
   ]
  },
  {
   "cell_type": "code",
   "execution_count": null,
   "metadata": {
    "collapsed": true
   },
   "outputs": [],
   "source": []
  }
 ],
 "metadata": {
  "kernelspec": {
   "display_name": "Python 2",
   "language": "python",
   "name": "python2"
  },
  "language_info": {
   "codemirror_mode": {
    "name": "ipython",
    "version": 2
   },
   "file_extension": ".py",
   "mimetype": "text/x-python",
   "name": "python",
   "nbconvert_exporter": "python",
   "pygments_lexer": "ipython2",
   "version": "2.7.10"
  }
 },
 "nbformat": 4,
 "nbformat_minor": 0
}
