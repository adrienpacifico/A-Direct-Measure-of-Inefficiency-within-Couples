{
 "cells": [
  {
   "cell_type": "code",
   "execution_count": 1,
   "metadata": {
    "collapsed": false
   },
   "outputs": [
    {
     "name": "stdout",
     "output_type": "stream",
     "text": [
      "2019-04-26 17:04:12.739000\n"
     ]
    }
   ],
   "source": [
    "import datetime\n",
    "start_time = datetime.datetime.now(); print(start_time)"
   ]
  },
  {
   "cell_type": "code",
   "execution_count": 2,
   "metadata": {
    "collapsed": false
   },
   "outputs": [],
   "source": [
    "%matplotlib inline"
   ]
  },
  {
   "cell_type": "code",
   "execution_count": 3,
   "metadata": {
    "collapsed": true
   },
   "outputs": [],
   "source": [
    "import matplotlib.pyplot as plt"
   ]
  },
  {
   "cell_type": "code",
   "execution_count": 4,
   "metadata": {
    "collapsed": false
   },
   "outputs": [],
   "source": [
    "from __future__ import division\n",
    "import pandas as pd ; pd.set_option(\"display.max_columns\",200)\n",
    "import numpy as np\n",
    "import sys\n",
    "import pickle"
   ]
  },
  {
   "cell_type": "code",
   "execution_count": 5,
   "metadata": {
    "collapsed": false
   },
   "outputs": [],
   "source": [
    "import sys\n",
    "sys.path.append(\".\\Income_tax_function\")\n",
    "import IRPP_from_scratch as ir"
   ]
  },
  {
   "cell_type": "code",
   "execution_count": 6,
   "metadata": {
    "collapsed": false
   },
   "outputs": [],
   "source": [
    "import sys\n",
    "sys.path.append(\".\\Income_tax_function\")\n",
    "import IRPP_from_scratch as ir"
   ]
  },
  {
   "cell_type": "code",
   "execution_count": 7,
   "metadata": {
    "collapsed": false
   },
   "outputs": [
    {
     "data": {
      "text/plain": [
       "u'C:\\\\Users\\\\IMPTEMP_A_PACIFIC\\\\Desktop\\\\Cohabitant_project(EDP_2015)\\\\Programme'"
      ]
     },
     "execution_count": 7,
     "metadata": {},
     "output_type": "execute_result"
    }
   ],
   "source": [
    "%pwd"
   ]
  },
  {
   "cell_type": "code",
   "execution_count": 8,
   "metadata": {
    "collapsed": false
   },
   "outputs": [],
   "source": [
    "store_path = '../Data/hdf/edp_2015_final.h5'\n",
    "Store = pd.HDFStore(store_path)"
   ]
  },
  {
   "cell_type": "code",
   "execution_count": 9,
   "metadata": {
    "collapsed": false
   },
   "outputs": [
    {
     "data": {
      "text/plain": [
       "<class 'pandas.io.pytables.HDFStore'>\n",
       "File path: ../Data/hdf/edp_2015_final.h5\n",
       "/DECES                         frame        (shape->[358338,19])  \n",
       "/DESCENDANCE                   frame        (shape->[1320391,41]) \n",
       "/EAR2004_FAMILLE               frame        (shape->[48316,13])   \n",
       "/EAR2004_INDIVIDU              frame        (shape->[277933,86])  \n",
       "/EAR2004_LOGEMENT              frame        (shape->[89892,52])   \n",
       "/EAR2005_FAMILLE               frame        (shape->[78041,13])   \n",
       "/EAR2005_INDIVIDU              frame        (shape->[283781,86])  \n",
       "/EAR2005_LOGEMENT              frame        (shape->[91733,52])   \n",
       "/EAR2006_FAMILLE               frame        (shape->[78227,13])   \n",
       "/EAR2006_INDIVIDU              frame        (shape->[287786,86])  \n",
       "/EAR2006_LOGEMENT              frame        (shape->[92761,52])   \n",
       "/EAR2007_FAMILLE               frame        (shape->[78230,13])   \n",
       "/EAR2007_INDIVIDU              frame        (shape->[283228,86])  \n",
       "/EAR2007_LOGEMENT              frame        (shape->[92892,52])   \n",
       "/EAR2008_FAMILLE               frame        (shape->[272545,13])  \n",
       "/EAR2008_INDIVIDU              frame        (shape->[976703,86])  \n",
       "/EAR2008_LOGEMENT              frame        (shape->[318891,52])  \n",
       "/EAR2009_FAMILLE               frame        (shape->[307169,13])  \n",
       "/EAR2009_INDIVIDU              frame        (shape->[1100141,87]) \n",
       "/EAR2009_LOGEMENT              frame        (shape->[364051,53])  \n",
       "/EAR2010_FAMILLE               frame        (shape->[307974,13])  \n",
       "/EAR2010_INDIVIDU              frame        (shape->[1101133,87]) \n",
       "/EAR2010_LOGEMENT              frame        (shape->[365338,59])  \n",
       "/EAR2011_FAMILLE               frame        (shape->[304799,13])  \n",
       "/EAR2011_INDIVIDU              frame        (shape->[1103412,87]) \n",
       "/EAR2011_LOGEMENT              frame        (shape->[365353,59])  \n",
       "/EAR2012_FAMILLE               frame        (shape->[304623,13])  \n",
       "/EAR2012_INDIVIDU              frame        (shape->[1088188,88]) \n",
       "/EAR2012_LOGEMENT              frame        (shape->[364466,60])  \n",
       "/EAR2013_FAMILLE               frame        (shape->[307313,13])  \n",
       "/EAR2013_INDIVIDU              frame        (shape->[1095329,88]) \n",
       "/EAR2013_LOGEMENT              frame        (shape->[368097,60])  \n",
       "/EAR2014_FAMILLE               frame        (shape->[306704,13])  \n",
       "/EAR2014_INDIVIDU              frame        (shape->[1094413,89]) \n",
       "/EAR2014_LOGEMENT              frame        (shape->[368049,60])  \n",
       "/EAR2015_FAMILLE               frame        (shape->[307607,13])  \n",
       "/EAR2015_INDIVIDU              frame        (shape->[1096137,89]) \n",
       "/EAR2015_LOGEMENT              frame        (shape->[369412,60])  \n",
       "/FE                            frame        (shape->[4261066,7])  \n",
       "/FISC_INDIVIDU_2010            frame        (shape->[7443729,28]) \n",
       "/FISC_INDIVIDU_2011            frame        (shape->[7521928,28]) \n",
       "/FISC_INDIVIDU_2012            frame        (shape->[7606885,28]) \n",
       "/FISC_INDIVIDU_2013            frame        (shape->[7687654,28]) \n",
       "/FISC_INDIVIDU_2014            frame        (shape->[7897225,28]) \n",
       "/FISC_INDIVIDU_2015            frame        (shape->[1,28])       \n",
       "/FISC_LOGEMENT_2010            frame        (shape->[2371126,36]) \n",
       "/FISC_LOGEMENT_2011            frame        (shape->[2406495,36]) \n",
       "/FISC_LOGEMENT_2012            frame        (shape->[2438524,36]) \n",
       "/FISC_LOGEMENT_2013            frame        (shape->[2463418,36]) \n",
       "/FISC_LOGEMENT_2014            frame        (shape->[2517285,36]) \n",
       "/FISC_LOGEMENT_2015            frame        (shape->[1,36])       \n",
       "/FISC_REVDET_2010              frame        (shape->[5187327,12]) \n",
       "/FISC_REVDET_2011              frame        (shape->[5231237,12]) \n",
       "/FISC_REVDET_2012              frame        (shape->[5278844,12]) \n",
       "/FISC_REVDET_2013              frame        (shape->[5307821,12]) \n",
       "/FISC_REVDET_2014              frame        (shape->[5461506,12]) \n",
       "/FISC_REVDET_2015              frame        (shape->[1,12])       \n",
       "/FISC_REVENU_2010              frame        (shape->[2348114,100])\n",
       "/FISC_REVENU_2011              frame        (shape->[2380185,100])\n",
       "/FISC_REVENU_2012              frame        (shape->[2410915,100])\n",
       "/FISC_REVENU_2013              frame        (shape->[2433291,100])\n",
       "/FISC_REVENU_2014              frame        (shape->[2478714,100])\n",
       "/FISC_REVENU_2015              frame        (shape->[1,100])      \n",
       "/INDIVIDU                      frame        (shape->[3571655,43]) \n",
       "/MARIAGE                       frame        (shape->[458354,34])  \n",
       "/NAISSANCE                     frame        (shape->[712962,40])  \n",
       "/RP1968                        frame        (shape->[484308,49])  \n",
       "/RP1975                        frame        (shape->[527025,95])  \n",
       "/RP1982                        frame        (shape->[552711,75])  \n",
       "/RP1990                        frame        (shape->[586037,228]) "
      ]
     },
     "execution_count": 9,
     "metadata": {},
     "output_type": "execute_result"
    }
   ],
   "source": [
    "Store"
   ]
  },
  {
   "cell_type": "code",
   "execution_count": 10,
   "metadata": {
    "collapsed": true
   },
   "outputs": [],
   "source": [
    "def load_fisc_i_by_year(year = 2014):\n",
    "    df_fisci = pd.read_hdf(store_path, 'FISC_INDIVIDU_{}'.format(year))\n",
    "    return df_fisci\n",
    "def load_fisc_r_by_year(year = 2014):\n",
    "    df_fiscr = pd.read_hdf(store_path, 'FISC_REVENU_{}'.format(year))\n",
    "    return df_fiscr\n",
    "def load_fisc_l_by_year(year = 2014):\n",
    "    df_fiscr = pd.read_hdf(store_path, 'FISC_LOGEMENT_{}'.format(year))\n",
    "    return df_fiscr\n",
    "\n",
    "def load_df_fiscrevdet_by_year(year = 2014):\n",
    "    df_fiscrevdet = pd.read_hdf(store_path, 'FISC_REVDET_{}'.format(year))\n",
    "    return df_fiscrevdet\n",
    "    "
   ]
  },
  {
   "cell_type": "markdown",
   "metadata": {},
   "source": [
    "### ID duplicates (drop)"
   ]
  },
  {
   "cell_type": "code",
   "execution_count": 11,
   "metadata": {
    "collapsed": false
   },
   "outputs": [],
   "source": [
    "pickle_path = u\"./Pickle/\""
   ]
  },
  {
   "cell_type": "code",
   "execution_count": 12,
   "metadata": {
    "collapsed": true
   },
   "outputs": [],
   "source": [
    "final_select = \"coucou\""
   ]
  },
  {
   "cell_type": "code",
   "execution_count": 13,
   "metadata": {
    "collapsed": false
   },
   "outputs": [
    {
     "name": "stdout",
     "output_type": "stream",
     "text": [
      "2010\n",
      "2010\n",
      "2011\n",
      "2011\n",
      "2012\n",
      "2012\n",
      "2013\n",
      "2013\n",
      "2014\n",
      "2014\n",
      "Wall time: 30min 7s\n"
     ]
    }
   ],
   "source": [
    "%%time\n",
    "\n",
    "for year in range(2010,2015):\n",
    "    print(year)\n",
    "    df_fisci = load_fisc_i_by_year(year)\n",
    "    print year\n",
    "    assert df_fisci.AN_FISC.iloc[0] == year+1\n",
    "    id_with_one_duplicated_individual_drop = df_fisci[df_fisci[['ID_FISC_FOY_DIFF', 'TYPE_FISC', 'ANAIS']].duplicated()].ID_FISC_LOG_DIFF\n",
    "    #Two fiscal units\n",
    "    grpby_fisci = df_fisci.groupby('ID_FISC_LOG_DIFF')\n",
    "    grpby_fisci_nunique_id = grpby_fisci.ID_FISC_FOY_DIFF.nunique()\n",
    "    two_fiscal_unit_id = grpby_fisci_nunique_id[(grpby_fisci_nunique_id ==2)].index\n",
    "    #Id conjoint declarant( drop)\n",
    "    typ_fisc_equal_two_id_drop = df_fisci[df_fisci.TYPE_FISC == '2'].ID_FISC_LOG_DIFF\n",
    "    #Id avec majeur ratachés (drop)\n",
    "    id_majeur_rataches_drop = df_fisci[df_fisci.TYPE_FISC.isin(['3','4','5','6','7', '8'])].ID_FISC_LOG_DIFF\n",
    "    #ID menage pas en couple avec enfants ou complexe\n",
    "    df_fiscr = load_fisc_r_by_year(year)\n",
    "    assert df_fiscr.AN_FISC.iloc[0] == year+1\n",
    "    id_couple_avec_enfants = df_fiscr[df_fiscr.TYPMEN9.isin([41,42,43])].ID_FISC_LOG_DIFF\n",
    "\n",
    "\n",
    "    to_select_id_drop = set()\n",
    "    to_select_id_drop = to_select_id_drop.union(id_with_one_duplicated_individual_drop )\n",
    "    to_select_id_drop =  to_select_id_drop.union(typ_fisc_equal_two_id_drop)\n",
    "    to_select_id_drop =  to_select_id_drop.union(id_majeur_rataches_drop )\n",
    "    to_select_id_keep = set(two_fiscal_unit_id)\n",
    "    to_select_id_keep = to_select_id_keep.intersection(id_couple_avec_enfants  )\n",
    "    final_select = to_select_id_keep - to_select_id_drop #set difference\n",
    "\n",
    "#     pickle.dump(final_select, \n",
    "#                 open(pickle_path +\n",
    "#                     \"specific_select/one_duplicated_individual_drop_rev_{}.p\".format(year), 'wb'))\n",
    "\n",
    "#     pickle.dump(final_select, \n",
    "#                 open(pickle_path +\n",
    "#                     \"specific_select/two_fiscal_unit_id_rev_{}.p\".format(year), 'wb'))\n",
    "#     pickle.dump(final_select, \n",
    "#                 open(pickle_path +\n",
    "#                     \"specific_select/typ_fisc_equal_two_id_drop_rev{}.p\".format(year), 'wb'))\n",
    "#     pickle.dump(final_select, \n",
    "#                 open(pickle_path +\n",
    "#                     \"specific_select/id_majeur_rataches_drop_rev_{}.p\".format(year), 'wb'))\n",
    "\n",
    "#     pickle.dump(final_select, \n",
    "#                 open(pickle_path +\n",
    "#                     \"specific_select/id_couple_avec_enfants_rev_{}.p\".format(year), 'wb'))\n",
    "\n",
    "\n",
    "\n",
    "\n",
    "\n",
    "\n",
    "    pickle.dump(final_select, \n",
    "                open(pickle_path + \"final_select_rev_{}.p\".format(year), 'wb'))\n",
    "    \n",
    "    del df_fiscr"
   ]
  },
  {
   "cell_type": "code",
   "execution_count": 14,
   "metadata": {
    "collapsed": false
   },
   "outputs": [
    {
     "name": "stdout",
     "output_type": "stream",
     "text": [
      "('now: ', datetime.datetime(2019, 4, 26, 17, 34, 23, 714000))\n",
      "('execution_time: ', datetime.timedelta(0, 1810, 975000))\n"
     ]
    }
   ],
   "source": [
    "stop_time = datetime.datetime.now(); print(\"now: \",stop_time);\n",
    "execution_time = stop_time - start_time; print(\"execution_time: \",execution_time)\n",
    "stop_time = start_time\n",
    "#clear  memory\n",
    "%reset -f"
   ]
  },
  {
   "cell_type": "code",
   "execution_count": 15,
   "metadata": {
    "collapsed": true
   },
   "outputs": [],
   "source": []
  }
 ],
 "metadata": {
  "kernelspec": {
   "display_name": "Python 3",
   "language": "python",
   "name": "python3"
  },
  "language_info": {
   "codemirror_mode": {
    "name": "ipython",
    "version": 3
   },
   "file_extension": ".py",
   "mimetype": "text/x-python",
   "name": "python",
   "nbconvert_exporter": "python",
   "pygments_lexer": "ipython3",
   "version": "3.7.2"
  }
 },
 "nbformat": 4,
 "nbformat_minor": 2
}
