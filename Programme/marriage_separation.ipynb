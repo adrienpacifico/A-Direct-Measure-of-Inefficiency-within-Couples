{
 "cells": [
  {
   "cell_type": "code",
   "execution_count": 1,
   "metadata": {
    "collapsed": false
   },
   "outputs": [],
   "source": [
    "%matplotlib inline"
   ]
  },
  {
   "cell_type": "code",
   "execution_count": 2,
   "metadata": {
    "collapsed": false
   },
   "outputs": [
    {
     "name": "stdout",
     "output_type": "stream",
     "text": [
      "2019-04-26 18:06:12.185000\n"
     ]
    }
   ],
   "source": [
    "import datetime\n",
    "start_time = datetime.datetime.now(); print(start_time)"
   ]
  },
  {
   "cell_type": "code",
   "execution_count": 3,
   "metadata": {
    "collapsed": true
   },
   "outputs": [],
   "source": [
    "import matplotlib.pyplot as plt"
   ]
  },
  {
   "cell_type": "code",
   "execution_count": 4,
   "metadata": {
    "collapsed": false
   },
   "outputs": [],
   "source": [
    "from __future__ import division\n",
    "import pandas as pd ; pd.set_option(\"display.max_columns\",200)\n",
    "import numpy as np\n",
    "import pickle\n",
    "import sys"
   ]
  },
  {
   "cell_type": "code",
   "execution_count": 5,
   "metadata": {
    "collapsed": false
   },
   "outputs": [],
   "source": [
    "store_path = \"../Data/hdf/edp_2015_final.h5\"\n",
    "Store = pd.HDFStore(store_path)"
   ]
  },
  {
   "cell_type": "code",
   "execution_count": 6,
   "metadata": {
    "collapsed": true
   },
   "outputs": [],
   "source": [
    "def load_fisc_i_by_year(year = None):\n",
    "    df_fisci = pd.read_hdf(store_path, 'FISC_INDIVIDU_{}'.format(year))\n",
    "    return df_fisci\n",
    "def load_fisc_r_by_year(year = None):\n",
    "    df_fiscr = pd.read_hdf(store_path, 'FISC_REVENU_{}'.format(year))\n",
    "    return df_fiscr\n",
    "def load_fisc_l_by_year(year = None):\n",
    "    df_fiscr = pd.read_hdf(store_path, 'FISC_LOGEMENT_{}'.format(year))\n",
    "    return df_fiscr\n",
    "\n",
    "def load_df_fiscrevdet_by_year(year = None):\n",
    "    df_fiscrevdet = pd.read_hdf(store_path, 'FISC_REVDET_{}'.format(year))\n",
    "    return df_fiscrevdet\n",
    "    "
   ]
  },
  {
   "cell_type": "markdown",
   "metadata": {},
   "source": [
    "On prends tout les ménages sélectionnés en 2013"
   ]
  },
  {
   "cell_type": "code",
   "execution_count": 7,
   "metadata": {
    "collapsed": false
   },
   "outputs": [],
   "source": [
    "path = (u\"./Pickle/final_select_rev_{}.p\".format(2013))\n",
    "select_id_fisc_log_2013 = pickle.load(open(path, 'rb'))"
   ]
  },
  {
   "cell_type": "code",
   "execution_count": 8,
   "metadata": {
    "collapsed": false
   },
   "outputs": [],
   "source": [
    "path = (u\"./Pickle/biologic/\")\n",
    "biologic = pickle.load(open(path+\"biologic_households2013.p\", 'rb'))"
   ]
  },
  {
   "cell_type": "markdown",
   "metadata": {},
   "source": [
    "On prends les menages qui n'optimisent pas en 2013"
   ]
  },
  {
   "cell_type": "code",
   "execution_count": 9,
   "metadata": {
    "collapsed": false
   },
   "outputs": [],
   "source": [
    "#df_fiscr_2013.AGERF.value_counts(bins = [-np.infty,10,20,30,100]).sum()"
   ]
  },
  {
   "cell_type": "code",
   "execution_count": 10,
   "metadata": {
    "collapsed": false
   },
   "outputs": [],
   "source": [
    "#df_fiscr_2013.shape"
   ]
  },
  {
   "cell_type": "code",
   "execution_count": 11,
   "metadata": {
    "collapsed": false
   },
   "outputs": [],
   "source": [
    "optimize_path = (u\"./Pickle/optimize/Do_not_optimize_rev_{}.p\".format(2013))\n",
    "select_id_fisc_log_non_opt = pickle.load(open(optimize_path, 'rb')) #selection ceux qui n'optimisent pas à plus de 5 euros"
   ]
  },
  {
   "cell_type": "code",
   "execution_count": 12,
   "metadata": {
    "collapsed": false
   },
   "outputs": [
    {
     "data": {
      "text/plain": [
       "(43086L,)"
      ]
     },
     "execution_count": 12,
     "metadata": {},
     "output_type": "execute_result"
    }
   ],
   "source": [
    "select_id_fisc_log_non_opt.shape"
   ]
  },
  {
   "cell_type": "markdown",
   "metadata": {},
   "source": [
    "On fait un set difference pour garder l'id de tout ceux qui optimisent"
   ]
  },
  {
   "cell_type": "code",
   "execution_count": 13,
   "metadata": {
    "collapsed": false
   },
   "outputs": [],
   "source": [
    "select_id_fisc_log_opt = select_id_fisc_log_2013.difference(select_id_fisc_log_non_opt)"
   ]
  },
  {
   "cell_type": "code",
   "execution_count": 14,
   "metadata": {
    "collapsed": true
   },
   "outputs": [],
   "source": []
  },
  {
   "cell_type": "code",
   "execution_count": 14,
   "metadata": {
    "collapsed": false
   },
   "outputs": [],
   "source": [
    "df_fiscr_2014 = load_fisc_r_by_year(2014)\n",
    "df_fiscr_2013 = load_fisc_r_by_year(2013)\n"
   ]
  },
  {
   "cell_type": "code",
   "execution_count": 15,
   "metadata": {
    "collapsed": false
   },
   "outputs": [],
   "source": [
    "df_2014_do_not_opt_2013 = df_fiscr_2014[df_fiscr_2014.ID_FISC_LOG_DIFF.isin(select_id_fisc_log_non_opt)]\n",
    "df_2014_opt_2013 = df_fiscr_2014[df_fiscr_2014.ID_FISC_LOG_DIFF.isin(select_id_fisc_log_opt)]"
   ]
  },
  {
   "cell_type": "code",
   "execution_count": 16,
   "metadata": {
    "collapsed": true
   },
   "outputs": [],
   "source": []
  },
  {
   "cell_type": "code",
   "execution_count": 16,
   "metadata": {
    "collapsed": false
   },
   "outputs": [],
   "source": [
    "df_all_in_2013 = df_fiscr_2013[df_fiscr_2013.ID_FISC_LOG_DIFF.isin(select_id_fisc_log_2013)]\n",
    "df_all_2014 = df_fiscr_2014[df_fiscr_2014.ID_FISC_LOG_DIFF.isin(select_id_fisc_log_2013)]"
   ]
  },
  {
   "cell_type": "code",
   "execution_count": 17,
   "metadata": {
    "collapsed": false
   },
   "outputs": [
    {
     "data": {
      "text/plain": [
       "42    0.431214\n",
       "41    0.359405\n",
       "43    0.209381\n",
       "dtype: float64"
      ]
     },
     "execution_count": 17,
     "metadata": {},
     "output_type": "execute_result"
    }
   ],
   "source": [
    "df_all_in_2013.TYPMEN9.value_counts(normalize = True)"
   ]
  },
  {
   "cell_type": "code",
   "execution_count": 18,
   "metadata": {
    "collapsed": false
   },
   "outputs": [
    {
     "data": {
      "text/plain": [
       "42    0.436078\n",
       "41    0.295718\n",
       "43    0.202182\n",
       "50    0.020415\n",
       "22    0.017652\n",
       "21    0.014590\n",
       "30    0.006624\n",
       "11    0.004349\n",
       "12    0.002391\n",
       "dtype: float64"
      ]
     },
     "execution_count": 18,
     "metadata": {},
     "output_type": "execute_result"
    }
   ],
   "source": [
    "df_all_2014.TYPMEN9.value_counts(normalize = True)"
   ]
  },
  {
   "cell_type": "code",
   "execution_count": 19,
   "metadata": {
    "collapsed": false
   },
   "outputs": [
    {
     "data": {
      "text/plain": [
       "0.032242"
      ]
     },
     "execution_count": 19,
     "metadata": {},
     "output_type": "execute_result"
    }
   ],
   "source": [
    " 0.017652+.014590"
   ]
  },
  {
   "cell_type": "markdown",
   "metadata": {},
   "source": [
    "Parmis les ménages avec enfants en 2013, On se retrouve en 2014 avec 3.2% de célibataires (modalités 21+22). Les couples avec un efants diminues beaucoup (36% vs 29.5), la proportion de couples avec un ou deux enfants reste stable."
   ]
  },
  {
   "cell_type": "code",
   "execution_count": 20,
   "metadata": {
    "collapsed": false,
    "scrolled": true
   },
   "outputs": [
    {
     "name": "stdout",
     "output_type": "stream",
     "text": [
      "42    0.041875\n",
      "41   -0.006734\n",
      "43   -0.039843\n",
      "50   -0.001872\n",
      "22   -0.000622\n",
      "21    0.001640\n",
      "30    0.003326\n",
      "11    0.003347\n",
      "12   -0.001116\n",
      "dtype: float64\n",
      "1    0.016994\n",
      "2   -0.014942\n",
      "3   -0.001590\n",
      "4   -0.000454\n",
      "5    0.000019\n",
      "6         NaN\n",
      "dtype: float64\n"
     ]
    }
   ],
   "source": [
    "print df_2014_do_not_opt_2013.TYPMEN9.value_counts(normalize = True) - df_2014_opt_2013.TYPMEN9.value_counts(normalize = True)\n",
    "print df_2014_do_not_opt_2013.NBFOYM.value_counts(normalize = True) -  df_2014_opt_2013.NBFOYM.value_counts(normalize = True)"
   ]
  },
  {
   "cell_type": "markdown",
   "metadata": {},
   "source": [
    "Peu de différence entre les optimiseurs et non optimiseurs.  \n",
    "Les non optimiseurs ont une proportion de couple avec enfants 3% plus faible.  \n",
    "Couple avec 2 enfants 2.5% plus forte.  \n",
    "La proportion de séparés est de 0.36% plus faible pour les optimiseurs."
   ]
  },
  {
   "cell_type": "code",
   "execution_count": 21,
   "metadata": {
    "collapsed": false
   },
   "outputs": [
    {
     "name": "stdout",
     "output_type": "stream",
     "text": [
      "42    0.431214\n",
      "41    0.359405\n",
      "43    0.209381\n",
      "dtype: float64\n",
      "2    0.999977\n",
      "1    0.000017\n",
      "3    0.000006\n",
      "dtype: float64\n",
      "2.0    0.999528\n",
      "3.0    0.000460\n",
      "4.0    0.000006\n",
      "2.5    0.000006\n",
      "dtype: float64\n"
     ]
    }
   ],
   "source": [
    "print df_all_in_2013.TYPMEN9.value_counts(normalize = True)\n",
    "print df_all_in_2013.NBFOYM.value_counts(normalize = True)\n",
    "print (df_all_in_2013.NBPERSM - df_all_in_2013.NBPAC).value_counts(normalize = True)"
   ]
  },
  {
   "cell_type": "code",
   "execution_count": 22,
   "metadata": {
    "collapsed": false
   },
   "outputs": [],
   "source": [
    "df_fiscr_2013 = load_fisc_r_by_year(2013)\n",
    "df_not_opt_2013_2013 = df_fiscr_2013[df_fiscr_2013.ID_FISC_LOG_DIFF.isin(select_id_fisc_log_non_opt)]"
   ]
  },
  {
   "cell_type": "code",
   "execution_count": 23,
   "metadata": {
    "collapsed": false
   },
   "outputs": [
    {
     "name": "stdout",
     "output_type": "stream",
     "text": [
      "42    0.474324\n",
      "41    0.348013\n",
      "43    0.177663\n",
      "dtype: float64\n",
      "2    1\n",
      "dtype: float64\n"
     ]
    }
   ],
   "source": [
    "print df_not_opt_2013_2013.TYPMEN9.value_counts(normalize = True)\n",
    "print df_not_opt_2013_2013.NBFOYM.value_counts(normalize = True)"
   ]
  },
  {
   "cell_type": "code",
   "execution_count": 24,
   "metadata": {
    "collapsed": false
   },
   "outputs": [],
   "source": [
    "df_fisci = load_fisc_i_by_year(2013)\n",
    "df_fisci_non_opt_2013 = df_fisci[df_fisci.ID_FISC_LOG_DIFF.isin(select_id_fisc_log_non_opt)]\n",
    "df_fisci_opt_2013 = df_fisci[ (df_fisci.ID_FISC_LOG_DIFF.isin(select_id_fisc_log_2013)) & (~ (df_fisci.ID_FISC_LOG_DIFF.isin(select_id_fisc_log_non_opt)) )]\n",
    "df_fisci_all_2013 = df_fisci[ df_fisci.ID_FISC_LOG_DIFF.isin(select_id_fisc_log_2013)]"
   ]
  },
  {
   "cell_type": "code",
   "execution_count": 25,
   "metadata": {
    "collapsed": false
   },
   "outputs": [
    {
     "data": {
      "text/plain": [
       "1    687864\n",
       "3       519\n",
       "2       417\n",
       "9         6\n",
       "dtype: int64"
      ]
     },
     "execution_count": 25,
     "metadata": {},
     "output_type": "execute_result"
    }
   ],
   "source": [
    "df_fisci_all_2013.TYPE_DECL.value_counts()"
   ]
  },
  {
   "cell_type": "markdown",
   "metadata": {},
   "source": [
    "### Taux moyen de situation conjuguales pour tout le monde, optimiseurs, non optimiseurs."
   ]
  },
  {
   "cell_type": "markdown",
   "metadata": {},
   "source": [
    "On a pris les situations conjuguales en 2013 à partir des id_select 2013. \n",
    "Nous ne sommes pas censés avoir de mariés ou de pacs (mariage dans l'année ?). \n",
    "Ceci représente les données \"brutes\" issues de la feuille de déclaration d'impôt.  \n",
    "Les D peuvent être des divorces ou des séparations antérieurs à la mise en couple.\n",
    "                                                      "
   ]
  },
  {
   "cell_type": "code",
   "execution_count": 26,
   "metadata": {
    "collapsed": false
   },
   "outputs": [
    {
     "name": "stdout",
     "output_type": "stream",
     "text": [
      "all\n",
      "C    0.845486\n",
      "D    0.126866\n",
      "M    0.012955\n",
      "O    0.009358\n",
      "V    0.005335\n",
      "dtype: float64\n",
      "optimizers\n",
      "C    0.870727\n",
      "D    0.102543\n",
      "M    0.013277\n",
      "O    0.009011\n",
      "V    0.004442\n",
      "dtype: float64\n",
      "non optimizers\n",
      "C    0.768850\n",
      "D    0.200715\n",
      "M    0.011979\n",
      "O    0.010412\n",
      "V    0.008044\n",
      "dtype: float64\n"
     ]
    }
   ],
   "source": [
    "print \"all\\n\", df_fisci_all_2013[df_fisci_all_2013.TYPE_FISC.isin([\"1\",\"2\"])].CIDECI.value_counts(normalize = True)\n",
    "print \"optimizers\\n\", df_fisci_opt_2013[df_fisci_opt_2013.TYPE_FISC.isin([\"1\",\"2\"])].CIDECI.value_counts(normalize = True)\n",
    "print \"non optimizers\\n\",df_fisci_non_opt_2013[df_fisci_non_opt_2013.TYPE_FISC.isin([\"1\",\"2\"])].CIDECI.value_counts(normalize = True)"
   ]
  },
  {
   "cell_type": "code",
   "execution_count": 27,
   "metadata": {
    "collapsed": false
   },
   "outputs": [
    {
     "name": "stdout",
     "output_type": "stream",
     "text": [
      "all\n",
      "C    0.924723\n",
      "D    0.047663\n",
      "M    0.013965\n",
      "O    0.012780\n",
      "V    0.000869\n",
      "dtype: float64\n",
      "optimizers\n",
      "C    0.927487\n",
      "D    0.044561\n",
      "M    0.014212\n",
      "O    0.012759\n",
      "V    0.000981\n",
      "dtype: float64\n",
      "non optimizers\n",
      "C    0.914388\n",
      "D    0.059263\n",
      "M    0.013039\n",
      "O    0.012858\n",
      "V    0.000453\n",
      "dtype: float64\n"
     ]
    }
   ],
   "source": [
    "print \"all\\n\", df_fisci_all_2013[df_fisci_all_2013.TYPE_FISC.isin([\"1\",\"2\"])\n",
    "                                &df_fisci_all_2013.ID_FISC_LOG_DIFF.isin(biologic)].CIDECI.value_counts(normalize = True)\n",
    "print \"optimizers\\n\", df_fisci_opt_2013[df_fisci_opt_2013.TYPE_FISC.isin([\"1\",\"2\"])\n",
    "                                       &df_fisci_all_2013.ID_FISC_LOG_DIFF.isin(biologic)].CIDECI.value_counts(normalize = True)\n",
    "print \"non optimizers\\n\",df_fisci_non_opt_2013[df_fisci_non_opt_2013.TYPE_FISC.isin([\"1\",\"2\"])\n",
    "                                              &df_fisci_all_2013.ID_FISC_LOG_DIFF.isin(biologic)].CIDECI.value_counts(normalize = True)"
   ]
  },
  {
   "cell_type": "markdown",
   "metadata": {},
   "source": [
    "TODO: Faire ceci en regardants les enfants biologiques"
   ]
  },
  {
   "cell_type": "code",
   "execution_count": 28,
   "metadata": {
    "collapsed": true
   },
   "outputs": [],
   "source": [
    "from scipy.stats import ttest_ind\n",
    "from scipy.stats import chi2\n",
    "from statsmodels.stats.weightstats import ztest"
   ]
  },
  {
   "cell_type": "code",
   "execution_count": 29,
   "metadata": {
    "collapsed": false
   },
   "outputs": [
    {
     "data": {
      "text/plain": [
       "Ttest_indResult(statistic=75.706990137696422, pvalue=0.0)"
      ]
     },
     "execution_count": 29,
     "metadata": {},
     "output_type": "execute_result"
    }
   ],
   "source": [
    "ttest_ind(\n",
    "     df_fisci_non_opt_2013[df_fisci_non_opt_2013.TYPE_FISC.isin([\"1\",\"2\"])].CIDECI =='D',\n",
    "    df_fisci_opt_2013[df_fisci_opt_2013.TYPE_FISC.isin([\"1\",\"2\"])].CIDECI =='D',\n",
    "          )"
   ]
  },
  {
   "cell_type": "code",
   "execution_count": 30,
   "metadata": {
    "collapsed": true
   },
   "outputs": [],
   "source": [
    "path = (u\"./Pickle/final_select_rev_{}.p\".format(2014))\n",
    "select_id_fisc_log_2014 = pickle.load(\n",
    "            open(path, 'rb'))"
   ]
  },
  {
   "cell_type": "code",
   "execution_count": 31,
   "metadata": {
    "collapsed": true
   },
   "outputs": [],
   "source": [
    "df_fisci_all_2014 =df_fisci[ df_fisci.ID_FISC_LOG_DIFF.isin(select_id_fisc_log_2014)]"
   ]
  },
  {
   "cell_type": "code",
   "execution_count": 32,
   "metadata": {
    "collapsed": false
   },
   "outputs": [
    {
     "data": {
      "text/plain": [
       "C    0.866420\n",
       "D    0.115652\n",
       "M    0.008836\n",
       "V    0.005759\n",
       "O    0.002856\n",
       "dtype: float64"
      ]
     },
     "execution_count": 32,
     "metadata": {},
     "output_type": "execute_result"
    }
   ],
   "source": [
    "df_fisci_all_2014[df_fisci_all_2014.TYPE_FISC.isin([\"1\",\"2\"])].CIDECI.value_counts(normalize = True)"
   ]
  },
  {
   "cell_type": "markdown",
   "metadata": {},
   "source": [
    "TODO : Comments"
   ]
  },
  {
   "cell_type": "code",
   "execution_count": 33,
   "metadata": {
    "collapsed": true
   },
   "outputs": [],
   "source": []
  },
  {
   "cell_type": "markdown",
   "metadata": {},
   "source": [
    "### Attrition "
   ]
  },
  {
   "cell_type": "markdown",
   "metadata": {},
   "source": [
    "Taux d'attrition parmis les menages optimiseurs. Taux d'attrition parmis les non optimiseurs."
   ]
  },
  {
   "cell_type": "code",
   "execution_count": 33,
   "metadata": {
    "collapsed": false
   },
   "outputs": [
    {
     "data": {
      "text/plain": [
       "False    0.978217\n",
       "True     0.021783\n",
       "dtype: float64"
      ]
     },
     "execution_count": 33,
     "metadata": {},
     "output_type": "execute_result"
    }
   ],
   "source": [
    "df_fisci.ID_FISC_LOG_DIFF.isin(select_id_fisc_log_non_opt).value_counts(normalize = True)"
   ]
  },
  {
   "cell_type": "code",
   "execution_count": 34,
   "metadata": {
    "collapsed": false
   },
   "outputs": [
    {
     "data": {
      "text/plain": [
       "False    0.910401\n",
       "True     0.089599\n",
       "dtype: float64"
      ]
     },
     "execution_count": 34,
     "metadata": {},
     "output_type": "execute_result"
    }
   ],
   "source": [
    "df_fisci.ID_FISC_LOG_DIFF.isin(select_id_fisc_log_2013).value_counts(normalize = True)"
   ]
  },
  {
   "cell_type": "code",
   "execution_count": 35,
   "metadata": {
    "collapsed": false
   },
   "outputs": [
    {
     "data": {
      "text/plain": [
       "0.9997679060483684"
      ]
     },
     "execution_count": 35,
     "metadata": {},
     "output_type": "execute_result"
    }
   ],
   "source": [
    "df_fisci_non_opt_2013.ID_FISC_LOG_DIFF.nunique()/len(select_id_fisc_log_non_opt)"
   ]
  },
  {
   "cell_type": "code",
   "execution_count": 36,
   "metadata": {
    "collapsed": false
   },
   "outputs": [
    {
     "data": {
      "text/plain": [
       "1.0000764648758593"
      ]
     },
     "execution_count": 36,
     "metadata": {},
     "output_type": "execute_result"
    }
   ],
   "source": [
    "df_fisci_opt_2013.ID_FISC_LOG_DIFF.nunique()/(len(select_id_fisc_log_2013) - len(select_id_fisc_log_non_opt))"
   ]
  },
  {
   "cell_type": "code",
   "execution_count": 37,
   "metadata": {
    "collapsed": false
   },
   "outputs": [
    {
     "data": {
      "text/plain": [
       "130789"
      ]
     },
     "execution_count": 37,
     "metadata": {},
     "output_type": "execute_result"
    }
   ],
   "source": [
    "len(select_id_fisc_log_2013.difference(select_id_fisc_log_non_opt))"
   ]
  },
  {
   "cell_type": "code",
   "execution_count": 38,
   "metadata": {
    "collapsed": false
   },
   "outputs": [
    {
     "data": {
      "text/plain": [
       "173865"
      ]
     },
     "execution_count": 38,
     "metadata": {},
     "output_type": "execute_result"
    }
   ],
   "source": [
    "len(select_id_fisc_log_2013)"
   ]
  },
  {
   "cell_type": "code",
   "execution_count": 39,
   "metadata": {
    "collapsed": false
   },
   "outputs": [
    {
     "data": {
      "text/plain": [
       "43086"
      ]
     },
     "execution_count": 39,
     "metadata": {},
     "output_type": "execute_result"
    }
   ],
   "source": [
    "len(select_id_fisc_log_non_opt)"
   ]
  },
  {
   "cell_type": "code",
   "execution_count": 40,
   "metadata": {
    "collapsed": false
   },
   "outputs": [
    {
     "data": {
      "text/plain": [
       "130789"
      ]
     },
     "execution_count": 40,
     "metadata": {},
     "output_type": "execute_result"
    }
   ],
   "source": [
    "df_fisci_opt_2013.ID_FISC_LOG_DIFF.nunique()"
   ]
  },
  {
   "cell_type": "markdown",
   "metadata": {},
   "source": [
    "#### Taux d'attrition par intersect"
   ]
  },
  {
   "cell_type": "code",
   "execution_count": 41,
   "metadata": {
    "collapsed": true
   },
   "outputs": [],
   "source": [
    "path = (u\"./Pickle/final_select_rev_{}.p\".format(2014))\n",
    "id_hello = pickle.load(open(path, 'rb'))"
   ]
  },
  {
   "cell_type": "code",
   "execution_count": 42,
   "metadata": {
    "collapsed": false
   },
   "outputs": [
    {
     "data": {
      "text/plain": [
       "0.6930093301768556"
      ]
     },
     "execution_count": 42,
     "metadata": {},
     "output_type": "execute_result"
    }
   ],
   "source": [
    "len(id_hello.intersection(select_id_fisc_log_non_opt))/len(select_id_fisc_log_non_opt)"
   ]
  },
  {
   "cell_type": "code",
   "execution_count": 43,
   "metadata": {
    "collapsed": false
   },
   "outputs": [
    {
     "data": {
      "text/plain": [
       "0.7108013670874462"
      ]
     },
     "execution_count": 43,
     "metadata": {},
     "output_type": "execute_result"
    }
   ],
   "source": [
    "len(id_hello.intersection(select_id_fisc_log_opt))/len(select_id_fisc_log_opt)"
   ]
  },
  {
   "cell_type": "code",
   "execution_count": 44,
   "metadata": {
    "collapsed": true
   },
   "outputs": [],
   "source": []
  },
  {
   "cell_type": "markdown",
   "metadata": {},
   "source": [
    "### Isole précisément les séparations."
   ]
  },
  {
   "cell_type": "markdown",
   "metadata": {},
   "source": [
    "Règle, deux conjoints marqués comme C en 2013. Deux conjoints marqués comme D en 2014."
   ]
  },
  {
   "cell_type": "code",
   "execution_count": 44,
   "metadata": {
    "collapsed": false
   },
   "outputs": [],
   "source": [
    "df_fisci_2013 = load_fisc_i_by_year(2013)\n",
    "df_fisci_2013_select = df_fisci_2013[df_fisci_2013.ID_FISC_LOG_DIFF.isin(select_id_fisc_log_2013)]"
   ]
  },
  {
   "cell_type": "markdown",
   "metadata": {},
   "source": [
    "ON crée un identifiant pour repérer les enfants devenu majeur l'année d'après. (sauf si jumeau ou nés à la même date...)"
   ]
  },
  {
   "cell_type": "code",
   "execution_count": 45,
   "metadata": {
    "collapsed": false
   },
   "outputs": [],
   "source": [
    "# df_fisci_2013_select['Id_Reperage'] = (df_fisci_2013_select.ID_FISC_LOG_DIFF.astype('str')+\n",
    "#                                     df_fisci_2013_select.SEXE.astype('str')+\n",
    "#                                     df_fisci_2013_select.JNAIS.astype('str')+\n",
    "#                                     df_fisci_2013_select.MNAIS.astype('str')+\n",
    "#                                     df_fisci_2013_select.ANAIS.astype('str'))"
   ]
  },
  {
   "cell_type": "code",
   "execution_count": 46,
   "metadata": {
    "collapsed": false
   },
   "outputs": [],
   "source": [
    "# df_fisci_2013_select.Id_unique.head()"
   ]
  },
  {
   "cell_type": "markdown",
   "metadata": {},
   "source": [
    "On garde que les déclarants"
   ]
  },
  {
   "cell_type": "code",
   "execution_count": 47,
   "metadata": {
    "collapsed": false
   },
   "outputs": [],
   "source": [
    "df_fisci_2013_declar = df_fisci_2013_select[df_fisci_2013_select.TYPE_FISC == \"1\"]"
   ]
  },
  {
   "cell_type": "code",
   "execution_count": 48,
   "metadata": {
    "collapsed": false
   },
   "outputs": [
    {
     "data": {
      "text/plain": [
       "CC    0.769436\n",
       "DC    0.072781\n",
       "CD    0.072355\n",
       "DD    0.052058\n",
       "MM    0.012429\n",
       "dtype: float64"
      ]
     },
     "execution_count": 48,
     "metadata": {},
     "output_type": "execute_result"
    }
   ],
   "source": [
    "df_fisci_2013_declar.groupby('ID_FISC_LOG_DIFF')[\"CIDECI\"].sum().value_counts(normalize = True).head(5)"
   ]
  },
  {
   "cell_type": "code",
   "execution_count": 49,
   "metadata": {
    "collapsed": true
   },
   "outputs": [],
   "source": []
  },
  {
   "cell_type": "code",
   "execution_count": 49,
   "metadata": {
    "collapsed": false
   },
   "outputs": [],
   "source": []
  },
  {
   "cell_type": "code",
   "execution_count": 49,
   "metadata": {
    "collapsed": false
   },
   "outputs": [],
   "source": [
    "### Parenthèse\n",
    "hello = df_fisci_2013_declar.groupby('ID_FISC_LOG_DIFF')[\"CIDECI\"].sum()\n",
    "mm_index = hello[hello=='MM'].index\n",
    "#df_fisci_2013[df_fisci_2013.ID_FISC_LOG_DIFF.isin(mm_index)].sort('ID_FISC_LOG_DIFF').head()\n",
    "# TODO: find why we have two fiscal units with married couples."
   ]
  },
  {
   "cell_type": "code",
   "execution_count": 50,
   "metadata": {
    "collapsed": true
   },
   "outputs": [],
   "source": []
  },
  {
   "cell_type": "code",
   "execution_count": 50,
   "metadata": {
    "collapsed": true
   },
   "outputs": [],
   "source": []
  },
  {
   "cell_type": "markdown",
   "metadata": {},
   "source": [
    "On isole les couples qui se déclarent tous les deux célibataires en 2013."
   ]
  },
  {
   "cell_type": "code",
   "execution_count": 50,
   "metadata": {
    "collapsed": true
   },
   "outputs": [],
   "source": [
    "cc_2013_id_log = df_fisci_2013_declar.groupby('ID_FISC_LOG_DIFF')[\"CIDECI\"].sum()[\n",
    "    df_fisci_2013_declar.groupby('ID_FISC_LOG_DIFF')[\"CIDECI\"].sum() == \"CC\"].index"
   ]
  },
  {
   "cell_type": "markdown",
   "metadata": {},
   "source": [
    "On prends les individus des logements en 2014 qui étaient constitués de couples célibataires en 2013"
   ]
  },
  {
   "cell_type": "code",
   "execution_count": 51,
   "metadata": {
    "collapsed": true
   },
   "outputs": [],
   "source": [
    "df_fisci_2014 = load_fisc_i_by_year(2014)\n",
    "df_fisci_2014.CIDECI.fillna(\"Error\", inplace = True) #TODO: pourquoi des Nan ?\n",
    "df_fisci_2014_select = df_fisci_2014[df_fisci_2014.ID_FISC_LOG_DIFF.isin(select_id_fisc_log_2013)]"
   ]
  },
  {
   "cell_type": "code",
   "execution_count": 52,
   "metadata": {
    "collapsed": false
   },
   "outputs": [
    {
     "name": "stderr",
     "output_type": "stream",
     "text": [
      "C:\\Users\\IMPTEMP_A_PACIFIC\\Desktop\\WinPython-64bit-2.7.10.2\\WinPython-64bit-2.7.10.2\\python-2.7.10.amd64\\lib\\site-packages\\IPython\\kernel\\__main__.py:5: SettingWithCopyWarning: \n",
      "A value is trying to be set on a copy of a slice from a DataFrame.\n",
      "Try using .loc[row_indexer,col_indexer] = value instead\n",
      "\n",
      "See the the caveats in the documentation: http://pandas.pydata.org/pandas-docs/stable/indexing.html#indexing-view-versus-copy\n"
     ]
    }
   ],
   "source": [
    "df_fisci_2014_select['Id_Reperage'] = (df_fisci_2014_select.ID_FISC_LOG_DIFF.astype('str')+\n",
    "                                    df_fisci_2014_select.SEXE.astype('str')+\n",
    "                                    df_fisci_2014_select.JNAIS.astype('str')+\n",
    "                                    df_fisci_2014_select.MNAIS.astype('str')+\n",
    "                                    df_fisci_2014_select.ANAIS.astype('str'))"
   ]
  },
  {
   "cell_type": "code",
   "execution_count": 53,
   "metadata": {
    "collapsed": false
   },
   "outputs": [],
   "source": [
    "\n",
    "df_fisci_2014_cc = df_fisci_2014[df_fisci_2014.ID_FISC_LOG_DIFF.isin(cc_2013_id_log)]"
   ]
  },
  {
   "cell_type": "markdown",
   "metadata": {},
   "source": [
    "On garde les individus qui sont déclarants ou second déclarants (mariage ou pacs) en 2014.  \n",
    "(Elimine les enfants et personnes à charges)"
   ]
  },
  {
   "cell_type": "code",
   "execution_count": 54,
   "metadata": {
    "collapsed": true
   },
   "outputs": [],
   "source": [
    "df_fisci_2014_declar = df_fisci_2014_select[df_fisci_2014_select.TYPE_FISC.isin([\"1\", \"2\"]) ]\n",
    "df_fisci_2014_cc_declar = df_fisci_2014_cc[df_fisci_2014_cc.TYPE_FISC.isin([\"1\", \"2\"]) ]"
   ]
  },
  {
   "cell_type": "code",
   "execution_count": 55,
   "metadata": {
    "collapsed": false
   },
   "outputs": [
    {
     "name": "stdout",
     "output_type": "stream",
     "text": [
      "0.849739740603\n"
     ]
    }
   ],
   "source": [
    "print df_fisci_2014_select.ID_FISC_LOG_DIFF.nunique()/len(select_id_fisc_log_2013)"
   ]
  },
  {
   "cell_type": "markdown",
   "metadata": {},
   "source": [
    "On a gardé que 85% des logements dans les observations."
   ]
  },
  {
   "cell_type": "code",
   "execution_count": 56,
   "metadata": {
    "collapsed": false
   },
   "outputs": [
    {
     "data": {
      "text/plain": [
       "C        0.804695\n",
       "D        0.111862\n",
       "M        0.047160\n",
       "O        0.030356\n",
       "V        0.005750\n",
       "Error    0.000177\n",
       "dtype: float64"
      ]
     },
     "execution_count": 56,
     "metadata": {},
     "output_type": "execute_result"
    }
   ],
   "source": [
    "df_fisci_2014_declar.CIDECI.value_counts(dropna=False, normalize = True)"
   ]
  },
  {
   "cell_type": "code",
   "execution_count": 57,
   "metadata": {
    "collapsed": false
   },
   "outputs": [
    {
     "data": {
      "text/plain": [
       "C    0.845486\n",
       "D    0.126866\n",
       "M    0.012955\n",
       "O    0.009358\n",
       "V    0.005335\n",
       "dtype: float64"
      ]
     },
     "execution_count": 57,
     "metadata": {},
     "output_type": "execute_result"
    }
   ],
   "source": [
    "df_fisci_2013_declar.CIDECI.value_counts(dropna=False, normalize = True)"
   ]
  },
  {
   "cell_type": "markdown",
   "metadata": {},
   "source": [
    " Parmis les couples cohabitants en 2013, on se retrouve avec 11% de divorcés, 4% de mariés, 3% de Pacés en 2014 ; contre 13, 1 et 1 en 2013"
   ]
  },
  {
   "cell_type": "code",
   "execution_count": 58,
   "metadata": {
    "collapsed": false
   },
   "outputs": [
    {
     "data": {
      "text/plain": [
       "CC    102791\n",
       "DC      8983\n",
       "CD      8963\n",
       "MM      6507\n",
       "DD      5747\n",
       "dtype: int64"
      ]
     },
     "execution_count": 58,
     "metadata": {},
     "output_type": "execute_result"
    }
   ],
   "source": [
    "df_fisci_2014_declar.groupby('ID_FISC_LOG_DIFF')[\"CIDECI\"].sum().value_counts().head()"
   ]
  },
  {
   "cell_type": "code",
   "execution_count": 59,
   "metadata": {
    "collapsed": false
   },
   "outputs": [
    {
     "data": {
      "text/plain": [
       "C        215368\n",
       "M          7549\n",
       "O          4950\n",
       "D           434\n",
       "V           105\n",
       "Error        42\n",
       "dtype: int64"
      ]
     },
     "execution_count": 59,
     "metadata": {},
     "output_type": "execute_result"
    }
   ],
   "source": [
    "df_fisci_2014_cc_declar.CIDECI.value_counts(dropna=False, normalize = False)"
   ]
  },
  {
   "cell_type": "markdown",
   "metadata": {},
   "source": [
    "Parmis les couples cohabitants célibataires en 2013 (\"CC\"), 5,8% ne le sont plus avec 3.3% de mariés, 2.1% de pacés, 0.1 de divorcés séparés."
   ]
  },
  {
   "cell_type": "code",
   "execution_count": 60,
   "metadata": {
    "collapsed": true
   },
   "outputs": [],
   "source": []
  },
  {
   "cell_type": "code",
   "execution_count": 60,
   "metadata": {
    "collapsed": false
   },
   "outputs": [
    {
     "data": {
      "text/plain": [
       "CC      0.894219\n",
       "C       0.031429\n",
       "MM      0.030959\n",
       "OO      0.021121\n",
       "CCC     0.014464\n",
       "CCCC    0.000871\n",
       "D       0.000723\n",
       "CCD     0.000619\n",
       "DCC     0.000610\n",
       "CDC     0.000610\n",
       "dtype: float64"
      ]
     },
     "execution_count": 60,
     "metadata": {},
     "output_type": "execute_result"
    }
   ],
   "source": [
    "df_fisci_2014_cc_declar.groupby('ID_FISC_LOG_DIFF')[\"CIDECI\"].sum().value_counts(normalize = True).head(10)"
   ]
  },
  {
   "cell_type": "code",
   "execution_count": 61,
   "metadata": {
    "collapsed": false
   },
   "outputs": [
    {
     "data": {
      "text/plain": [
       "CC     35590\n",
       "MM      1363\n",
       "C       1119\n",
       "OO      1004\n",
       "CCC      283\n",
       "D         30\n",
       "DCC       26\n",
       "CCD       22\n",
       "CDC       22\n",
       "CD        19\n",
       "dtype: int64"
      ]
     },
     "execution_count": 61,
     "metadata": {},
     "output_type": "execute_result"
    }
   ],
   "source": [
    "df_fisci_2014_cc_declar[\n",
    "    df_fisci_2014_cc_declar.ID_FISC_LOG_DIFF.isin(biologic)\n",
    "        ].groupby('ID_FISC_LOG_DIFF')[\"CIDECI\"].sum().value_counts(normalize = False).head(10)"
   ]
  },
  {
   "cell_type": "markdown",
   "metadata": {},
   "source": [
    "On a donc 3% des coupls qui se sont mariés, 2% qui se sont pacés, et 3% ou il n'y a plus qu'un des deux conjoints. Il y a des erreurs de type 2 (des gens CC qui en fait sont C car un des enfants est devenu majeur)."
   ]
  },
  {
   "cell_type": "code",
   "execution_count": 62,
   "metadata": {
    "collapsed": true
   },
   "outputs": [],
   "source": [
    "### TODO : Essayer d'isoler ceux qui sont devenu majeurs et qui comptent dans le CCC !"
   ]
  },
  {
   "cell_type": "code",
   "execution_count": 63,
   "metadata": {
    "collapsed": false
   },
   "outputs": [],
   "source": [
    "hello_merge = pd.merge(df_fisci_2014_cc, df_fisci_2013[['ID_FISC_LOG_DIFF', 'SEXE','MNAIS', 'JNAIS', 'ANAIS']],\n",
    "         on= ['ID_FISC_LOG_DIFF', 'SEXE', 'ANAIS'])"
   ]
  },
  {
   "cell_type": "code",
   "execution_count": 64,
   "metadata": {
    "collapsed": false
   },
   "outputs": [],
   "source": [
    "df_a = df_fisci_2013_select.sort('ID_FISC_LOG_DIFF').head(20)"
   ]
  },
  {
   "cell_type": "code",
   "execution_count": 65,
   "metadata": {
    "collapsed": false
   },
   "outputs": [],
   "source": [
    "df_b = df_fisci_2014_cc.sort('ID_FISC_LOG_DIFF').head(20)"
   ]
  },
  {
   "cell_type": "code",
   "execution_count": 66,
   "metadata": {
    "collapsed": false
   },
   "outputs": [],
   "source": [
    "hello_merge = pd.merge(df_a[['ID_FISC_LOG_DIFF', 'SEXE','MNAIS', 'JNAIS', 'ANAIS']], df_b,  on= ['ID_FISC_LOG_DIFF', 'SEXE', 'ANAIS'])"
   ]
  },
  {
   "cell_type": "code",
   "execution_count": 67,
   "metadata": {
    "collapsed": false
   },
   "outputs": [
    {
     "data": {
      "text/plain": [
       "True     5\n",
       "False    4\n",
       "dtype: int64"
      ]
     },
     "execution_count": 67,
     "metadata": {},
     "output_type": "execute_result"
    }
   ],
   "source": [
    "((hello_merge[['ANAIS','JNAIS_x','JNAIS_y']].JNAIS_y.isnull()) \n",
    " &( hello_merge[['ANAIS','JNAIS_x','JNAIS_y']].JNAIS_x.isnull())).value_counts()"
   ]
  },
  {
   "cell_type": "code",
   "execution_count": 68,
   "metadata": {
    "collapsed": false
   },
   "outputs": [
    {
     "data": {
      "text/plain": [
       "True     5\n",
       "False    4\n",
       "dtype: int64"
      ]
     },
     "execution_count": 68,
     "metadata": {},
     "output_type": "execute_result"
    }
   ],
   "source": [
    "hello_merge[['ANAIS','JNAIS_x','JNAIS_y']].JNAIS_y.isnull().value_counts()"
   ]
  },
  {
   "cell_type": "code",
   "execution_count": 69,
   "metadata": {
    "collapsed": false
   },
   "outputs": [
    {
     "data": {
      "text/plain": [
       "True     5\n",
       "False    4\n",
       "dtype: int64"
      ]
     },
     "execution_count": 69,
     "metadata": {},
     "output_type": "execute_result"
    }
   ],
   "source": [
    "hello_merge[['ANAIS','JNAIS_x','JNAIS_y']].JNAIS_x.isnull().value_counts()"
   ]
  },
  {
   "cell_type": "code",
   "execution_count": 70,
   "metadata": {
    "collapsed": false
   },
   "outputs": [
    {
     "data": {
      "text/plain": [
       "(7897225, 28)"
      ]
     },
     "execution_count": 70,
     "metadata": {},
     "output_type": "execute_result"
    }
   ],
   "source": [
    "df_fisci_2014.shape"
   ]
  },
  {
   "cell_type": "code",
   "execution_count": 71,
   "metadata": {
    "collapsed": false
   },
   "outputs": [],
   "source": [
    "grpby_sum_CIDECI = df_fisci_2014_cc_declar.groupby('ID_FISC_LOG_DIFF')[\"CIDECI\"].sum()\n",
    "ccc_index = grpby_sum_CIDECI[grpby_sum_CIDECI == 'CCC'].index"
   ]
  },
  {
   "cell_type": "code",
   "execution_count": 72,
   "metadata": {
    "collapsed": false
   },
   "outputs": [],
   "source": [
    "#df_fisci_2014_cc_declar[df_fisci_2014_cc_declar.ID_FISC_LOG_DIFF.isin(ccc_index)].sort('ID_FISC_LOG_DIFF')"
   ]
  },
  {
   "cell_type": "markdown",
   "metadata": {},
   "source": [
    "Parmis les couples de célibataires en 2013, on se retrouve avec 0.1% de divorcés, 3.3% de mariés, 2% de Pacés"
   ]
  },
  {
   "cell_type": "code",
   "execution_count": 73,
   "metadata": {
    "collapsed": true
   },
   "outputs": [],
   "source": []
  },
  {
   "cell_type": "code",
   "execution_count": 73,
   "metadata": {
    "collapsed": true
   },
   "outputs": [],
   "source": [
    "### FIN TODO enfants devenant célibataires"
   ]
  },
  {
   "cell_type": "code",
   "execution_count": 74,
   "metadata": {
    "collapsed": true
   },
   "outputs": [],
   "source": []
  },
  {
   "cell_type": "markdown",
   "metadata": {},
   "source": [
    "Etrangement on se retrouve avec beaucoup de DC et CD, a quoi cela correspond-il ?"
   ]
  },
  {
   "cell_type": "code",
   "execution_count": 74,
   "metadata": {
    "collapsed": false
   },
   "outputs": [
    {
     "name": "stdout",
     "output_type": "stream",
     "text": [
      "(17946L,)\n"
     ]
    }
   ],
   "source": [
    "### Parenthèse\n",
    "\n",
    "hello = df_fisci_2014_declar.groupby('ID_FISC_LOG_DIFF')[\"CIDECI\"].sum()\n",
    "dc_index = hello[hello.isin(['DC', 'CD'])].index\n",
    "print dc_index.shape\n",
    "dc_to_merge_2013 = df_fisci_2013[df_fisci_2013.ID_FISC_LOG_DIFF.isin(dc_index)]\n",
    "dc_to_merge_2014 = df_fisci_2014[df_fisci_2014.ID_FISC_LOG_DIFF.isin(dc_index)]\n",
    "# TODO: find why we have two fiscal units with married couples."
   ]
  },
  {
   "cell_type": "code",
   "execution_count": 75,
   "metadata": {
    "collapsed": false
   },
   "outputs": [],
   "source": [
    "dc_merged = pd.merge(dc_to_merge_2013,dc_to_merge_2014, on=['ID_FISC_LOG_DIFF', 'ANAIS', 'MNAIS', 'JNAIS'], how='right', suffixes = ('_2013', \"_2014\"))"
   ]
  },
  {
   "cell_type": "code",
   "execution_count": 76,
   "metadata": {
    "collapsed": false
   },
   "outputs": [
    {
     "data": {
      "text/html": [
       "<div>\n",
       "<table border=\"1\" class=\"dataframe\">\n",
       "  <thead>\n",
       "    <tr style=\"text-align: right;\">\n",
       "      <th></th>\n",
       "      <th>ANAIS</th>\n",
       "      <th>CIDECI_2013</th>\n",
       "      <th>CIDECI_2014</th>\n",
       "    </tr>\n",
       "  </thead>\n",
       "  <tbody>\n",
       "    <tr>\n",
       "      <th>28947</th>\n",
       "      <td>1968</td>\n",
       "      <td>C</td>\n",
       "      <td>C</td>\n",
       "    </tr>\n",
       "    <tr>\n",
       "      <th>47474</th>\n",
       "      <td>1962</td>\n",
       "      <td>D</td>\n",
       "      <td>D</td>\n",
       "    </tr>\n",
       "    <tr>\n",
       "      <th>47476</th>\n",
       "      <td>2002</td>\n",
       "      <td>A</td>\n",
       "      <td>A</td>\n",
       "    </tr>\n",
       "    <tr>\n",
       "      <th>47475</th>\n",
       "      <td>2007</td>\n",
       "      <td>A</td>\n",
       "      <td>A</td>\n",
       "    </tr>\n",
       "    <tr>\n",
       "      <th>25207</th>\n",
       "      <td>1978</td>\n",
       "      <td>D</td>\n",
       "      <td>D</td>\n",
       "    </tr>\n",
       "  </tbody>\n",
       "</table>\n",
       "</div>"
      ],
      "text/plain": [
       "       ANAIS CIDECI_2013 CIDECI_2014\n",
       "28947   1968           C           C\n",
       "47474   1962           D           D\n",
       "47476   2002           A           A\n",
       "47475   2007           A           A\n",
       "25207   1978           D           D"
      ]
     },
     "execution_count": 76,
     "metadata": {},
     "output_type": "execute_result"
    }
   ],
   "source": [
    "dc_merged.sort('ID_FISC_LOG_DIFF')[[\"ANAIS\",\"CIDECI_2013\", \"CIDECI_2014\"]].head()"
   ]
  },
  {
   "cell_type": "code",
   "execution_count": 77,
   "metadata": {
    "collapsed": true
   },
   "outputs": [],
   "source": []
  },
  {
   "cell_type": "code",
   "execution_count": 77,
   "metadata": {
    "collapsed": true
   },
   "outputs": [],
   "source": []
  },
  {
   "cell_type": "code",
   "execution_count": 77,
   "metadata": {
    "collapsed": false
   },
   "outputs": [
    {
     "data": {
      "text/plain": [
       "CC      0.894219\n",
       "C       0.031429\n",
       "MM      0.030959\n",
       "OO      0.021121\n",
       "CCC     0.014464\n",
       "CCCC    0.000871\n",
       "D       0.000723\n",
       "CCD     0.000619\n",
       "DCC     0.000610\n",
       "CDC     0.000610\n",
       "dtype: float64"
      ]
     },
     "execution_count": 77,
     "metadata": {},
     "output_type": "execute_result"
    }
   ],
   "source": [
    "df_fisci_2014_cc_declar.groupby('ID_FISC_LOG_DIFF')[\"CIDECI\"].sum().value_counts(normalize = True).head(10)"
   ]
  },
  {
   "cell_type": "code",
   "execution_count": 78,
   "metadata": {
    "collapsed": true
   },
   "outputs": [],
   "source": []
  },
  {
   "cell_type": "code",
   "execution_count": 78,
   "metadata": {
    "collapsed": true
   },
   "outputs": [],
   "source": [
    "#cideci_2014_log = df_fisci_2014_declar.groupby('ID_FISC_LOG_DIFF')[\"CIDECI\"].sum()\n",
    "#pd.Series(cideci_2014_log.index.isin(couple_de_celibataire_id_log)).value_counts()\n",
    "#cideci_2014_log[cideci_2014_log.index.isin(couple_de_celibataire_id_log)].value_counts(normalize = True)"
   ]
  },
  {
   "cell_type": "code",
   "execution_count": 79,
   "metadata": {
    "collapsed": false
   },
   "outputs": [],
   "source": [
    "# get_married = cideci_2014_log[cideci_2014_log.index.isin(couple_de_celibataire_id_log)] ==\"MM\"\n",
    "# mariage_id_2013_2014 = cideci_2014_log[cideci_2014_log.index.isin(couple_de_celibataire_id_log)][get_married].index\n",
    "\n",
    "#get_married = cideci_2014_log[cideci_2014_log.index.isin(couple_de_celibataire_id_log)] ==\"MM\"\n",
    "#mariage_id_2013_2014 = cideci_2014_log[cideci_2014_log.index.isin(couple_de_celibataire_id_log)][get_married].index\n",
    "\n",
    "# get_pacsed = cideci_2014_log[cideci_2014_log.index.isin(couple_de_celibataire_id_log)] ==\"OO\"\n",
    "# pacs_id_2013_2014 = cideci_2014_log[cideci_2014_log.index.isin(couple_de_celibataire_id_log)][get_pacsed].index\n"
   ]
  },
  {
   "cell_type": "code",
   "execution_count": 80,
   "metadata": {
    "collapsed": true
   },
   "outputs": [],
   "source": [
    "\n",
    "\n"
   ]
  },
  {
   "cell_type": "code",
   "execution_count": 80,
   "metadata": {
    "collapsed": false
   },
   "outputs": [],
   "source": [
    "get_married_bool = df_fisci_2014_cc_declar.groupby('ID_FISC_LOG_DIFF')[\"CIDECI\"].sum() == \"MM\"\n",
    "\n",
    "mariage_id_2013_2014 = get_married_bool[get_married_bool].index"
   ]
  },
  {
   "cell_type": "code",
   "execution_count": 81,
   "metadata": {
    "collapsed": false
   },
   "outputs": [],
   "source": [
    "get_married_bool = df_fisci_2014_cc_declar.groupby('ID_FISC_LOG_DIFF')[\"CIDECI\"].sum() == \"MM\"\n",
    "\n",
    "mariage_id_2013_2014 = get_married_bool[get_married_bool&get_married_bool.index.isin(biologic)].index"
   ]
  },
  {
   "cell_type": "code",
   "execution_count": 82,
   "metadata": {
    "collapsed": true
   },
   "outputs": [],
   "source": [
    "get_pacsed_bool = df_fisci_2014_cc_declar.groupby('ID_FISC_LOG_DIFF')[\"CIDECI\"].sum() == \"OO\"\n",
    "pacs_id_2013_2014 = get_pacsed_bool[get_pacsed_bool].index"
   ]
  },
  {
   "cell_type": "code",
   "execution_count": 83,
   "metadata": {
    "collapsed": true
   },
   "outputs": [],
   "source": [
    "get_pacsed_bool = df_fisci_2014_cc_declar.groupby('ID_FISC_LOG_DIFF')[\"CIDECI\"].sum() == \"OO\"\n",
    "\n",
    "pacs_id_2013_2014 = get_pacsed_bool[get_pacsed_bool&get_pacsed_bool.index.isin(biologic)].index"
   ]
  },
  {
   "cell_type": "code",
   "execution_count": 84,
   "metadata": {
    "collapsed": true
   },
   "outputs": [],
   "source": [
    "path = (u\"./Pickle/optimize/\")"
   ]
  },
  {
   "cell_type": "code",
   "execution_count": 85,
   "metadata": {
    "collapsed": false
   },
   "outputs": [],
   "source": [
    "pickle.dump(mariage_id_2013_2014, \n",
    "            open(path+\"marriage_en_2013_2014.p\", 'wb'))\n",
    "pickle.dump(pacs_id_2013_2014, \n",
    "            open(path+\"pacs_en_2013_2014.p\", 'wb'))"
   ]
  },
  {
   "cell_type": "code",
   "execution_count": 86,
   "metadata": {
    "collapsed": false
   },
   "outputs": [],
   "source": [
    "# one_C_index = cideci_2014_log[cideci_2014_log.index.isin(couple_de_celibataire_id_log)][\n",
    "#     (cideci_2014_log[cideci_2014_log.index.isin(couple_de_celibataire_id_log)] == 'C')].index\n",
    "# df_fisci_2014[df_fisci_2014.ID_FISC_LOG_DIFF.isin(one_C_index)].sort(\"ID_FISC_LOG_DIFF\").head(15)\n",
    "# df_fiscr_2014[df_fiscr_2014.ID_FISC_LOG_DIFF.isin(one_C_index)].sort(\"ID_FISC_LOG_DIFF\").NBFOYM.value_counts()"
   ]
  },
  {
   "cell_type": "markdown",
   "metadata": {},
   "source": [
    "Warning: TODO: Does't take into account separation with CC due to a child becomming fiscally independent"
   ]
  },
  {
   "cell_type": "code",
   "execution_count": 87,
   "metadata": {
    "collapsed": false
   },
   "outputs": [],
   "source": [
    "get_oneC_bool = df_fisci_2014_cc_declar.groupby('ID_FISC_LOG_DIFF')[\"CIDECI\"].sum() == \"C\"\n",
    "one_C_index = get_oneC_bool[get_oneC_bool].index"
   ]
  },
  {
   "cell_type": "code",
   "execution_count": 88,
   "metadata": {
    "collapsed": false
   },
   "outputs": [],
   "source": [
    "get_oneC_bool = df_fisci_2014_cc_declar.groupby('ID_FISC_LOG_DIFF')[\"CIDECI\"].sum() == \"C\"\n",
    "one_C_index = get_oneC_bool[get_oneC_bool&get_pacsed_bool.index.isin(biologic)].index"
   ]
  },
  {
   "cell_type": "code",
   "execution_count": 89,
   "metadata": {
    "collapsed": true
   },
   "outputs": [],
   "source": [
    "pickle.dump(one_C_index, \n",
    "            open(path+\"separation_en_2013_2014.p\", 'wb'))\n"
   ]
  },
  {
   "cell_type": "code",
   "execution_count": 90,
   "metadata": {
    "collapsed": false
   },
   "outputs": [
    {
     "name": "stdout",
     "output_type": "stream",
     "text": [
      "2019-04-26 18:09:26.795000\n"
     ]
    }
   ],
   "source": [
    "import datetime\n",
    "print datetime.datetime.now()"
   ]
  },
  {
   "cell_type": "code",
   "execution_count": 91,
   "metadata": {
    "collapsed": false
   },
   "outputs": [
    {
     "data": {
      "text/plain": [
       "1119"
      ]
     },
     "execution_count": 91,
     "metadata": {},
     "output_type": "execute_result"
    }
   ],
   "source": [
    "len(one_C_index)"
   ]
  },
  {
   "cell_type": "code",
   "execution_count": 92,
   "metadata": {
    "collapsed": false
   },
   "outputs": [
    {
     "data": {
      "text/plain": [
       "1363"
      ]
     },
     "execution_count": 92,
     "metadata": {},
     "output_type": "execute_result"
    }
   ],
   "source": [
    "len(mariage_id_2013_2014)"
   ]
  },
  {
   "cell_type": "code",
   "execution_count": 93,
   "metadata": {
    "collapsed": false
   },
   "outputs": [
    {
     "data": {
      "text/plain": [
       "1004"
      ]
     },
     "execution_count": 93,
     "metadata": {},
     "output_type": "execute_result"
    }
   ],
   "source": [
    "len(pacs_id_2013_2014)"
   ]
  },
  {
   "cell_type": "code",
   "execution_count": 94,
   "metadata": {
    "collapsed": false
   },
   "outputs": [
    {
     "name": "stdout",
     "output_type": "stream",
     "text": [
      "('now: ', datetime.datetime(2019, 4, 26, 18, 9, 26, 818000))\n",
      "('execution_time: ', datetime.timedelta(0, 194, 633000))\n"
     ]
    }
   ],
   "source": [
    "stop_time = datetime.datetime.now(); print(\"now: \",stop_time);\n",
    "execution_time = stop_time - start_time; print(\"execution_time: \",execution_time)\n",
    "stop_time = start_time\n",
    "#clear  memory\n",
    "%reset -f "
   ]
  },
  {
   "cell_type": "code",
   "execution_count": 95,
   "metadata": {
    "collapsed": true
   },
   "outputs": [],
   "source": []
  }
 ],
 "metadata": {
  "kernelspec": {
   "display_name": "Python 3",
   "language": "python",
   "name": "python3"
  },
  "language_info": {
   "codemirror_mode": {
    "name": "ipython",
    "version": 3
   },
   "file_extension": ".py",
   "mimetype": "text/x-python",
   "name": "python",
   "nbconvert_exporter": "python",
   "pygments_lexer": "ipython3",
   "version": "3.7.2"
  }
 },
 "nbformat": 4,
 "nbformat_minor": 2
}
