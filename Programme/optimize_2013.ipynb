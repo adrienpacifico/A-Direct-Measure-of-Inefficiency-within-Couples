{
 "cells": [
  {
   "cell_type": "markdown",
   "metadata": {},
   "source": [
    "# Simulation impot concubains"
   ]
  },
  {
   "cell_type": "markdown",
   "metadata": {},
   "source": [
    "Data FISCI_BIOLOGIC_DESCENDANCE Taken originaly from biologic_child_tentative_2"
   ]
  },
  {
   "cell_type": "code",
   "execution_count": 1,
   "metadata": {
    "collapsed": false
   },
   "outputs": [
    {
     "name": "stdout",
     "output_type": "stream",
     "text": [
      "2019-04-26 17:44:11.285000\n"
     ]
    }
   ],
   "source": [
    "import datetime\n",
    "start_time = datetime.datetime.now(); print(start_time)"
   ]
  },
  {
   "cell_type": "code",
   "execution_count": 2,
   "metadata": {
    "collapsed": true
   },
   "outputs": [],
   "source": [
    "year = 2013"
   ]
  },
  {
   "cell_type": "code",
   "execution_count": 3,
   "metadata": {
    "collapsed": false
   },
   "outputs": [],
   "source": [
    "%matplotlib inline"
   ]
  },
  {
   "cell_type": "code",
   "execution_count": 4,
   "metadata": {
    "collapsed": true
   },
   "outputs": [],
   "source": [
    "import matplotlib.pyplot as plt"
   ]
  },
  {
   "cell_type": "code",
   "execution_count": 5,
   "metadata": {
    "collapsed": false
   },
   "outputs": [],
   "source": [
    "from __future__ import division\n",
    "import importlib\n",
    "import pandas as pd ; pd.set_option(\"display.max_columns\",200)\n",
    "import numpy as np\n",
    "import sys"
   ]
  },
  {
   "cell_type": "code",
   "execution_count": 6,
   "metadata": {
    "collapsed": false
   },
   "outputs": [
    {
     "data": {
      "text/plain": [
       "u'C:\\\\Users\\\\IMPTEMP_A_PACIFIC\\\\Desktop\\\\Cohabitant_project(EDP_2015)\\\\Programme'"
      ]
     },
     "execution_count": 6,
     "metadata": {},
     "output_type": "execute_result"
    }
   ],
   "source": [
    "%pwd"
   ]
  },
  {
   "cell_type": "code",
   "execution_count": 7,
   "metadata": {
    "collapsed": false
   },
   "outputs": [],
   "source": [
    "import sys\n",
    "sys.path.append(\"./income_tax_function\")\n"
   ]
  },
  {
   "cell_type": "code",
   "execution_count": 8,
   "metadata": {
    "collapsed": false
   },
   "outputs": [],
   "source": [
    "if year == 2014:\n",
    "    ir = importlib.import_module(\"IRPP_from_scratch\")\n",
    "else :\n",
    "    ir = importlib.import_module(\"IRPP_from_scratch_{}\".format(year))"
   ]
  },
  {
   "cell_type": "code",
   "execution_count": 9,
   "metadata": {
    "collapsed": false
   },
   "outputs": [],
   "source": [
    "ir_pacs =  importlib.import_module(\"IRPP_from_scratch_{}_pacse\".format(year))"
   ]
  },
  {
   "cell_type": "code",
   "execution_count": 10,
   "metadata": {
    "collapsed": false
   },
   "outputs": [],
   "source": [
    "store_path = '../Data/hdf/edp_2015_final.h5'\n",
    "Store = pd.HDFStore(store_path)"
   ]
  },
  {
   "cell_type": "code",
   "execution_count": 11,
   "metadata": {
    "collapsed": true
   },
   "outputs": [],
   "source": [
    "def load_fisc_i_by_year(year = None):\n",
    "    df_fisci = pd.read_hdf(store_path, 'FISC_INDIVIDU_{}'.format(year))\n",
    "    return df_fisci\n",
    "def load_fisc_r_by_year(year = None):\n",
    "    df_fiscr = pd.read_hdf(store_path, 'FISC_REVENU_{}'.format(year))\n",
    "    return df_fiscr\n",
    "def load_fisc_l_by_year(year = None):\n",
    "    df_fiscr = pd.read_hdf(store_path, 'FISC_LOGEMENT_{}'.format(year))\n",
    "    return df_fiscr\n",
    "\n",
    "def load_df_fiscrevdet_by_year(year = None):\n",
    "    df_fiscrevdet = pd.read_hdf(store_path, 'FISC_REVDET_{}'.format(year))\n",
    "    return df_fiscrevdet\n",
    "    "
   ]
  },
  {
   "cell_type": "code",
   "execution_count": 12,
   "metadata": {
    "collapsed": false
   },
   "outputs": [],
   "source": [
    "df_fiscr = load_fisc_r_by_year(year)"
   ]
  },
  {
   "cell_type": "code",
   "execution_count": 13,
   "metadata": {
    "collapsed": false
   },
   "outputs": [
    {
     "name": "stdout",
     "output_type": "stream",
     "text": [
      "2014\n"
     ]
    }
   ],
   "source": [
    "print df_fiscr.AN_FISC.iloc[0]"
   ]
  },
  {
   "cell_type": "markdown",
   "metadata": {},
   "source": [
    "## Test contre simulateur DgFip"
   ]
  },
  {
   "cell_type": "code",
   "execution_count": 14,
   "metadata": {
    "collapsed": false
   },
   "outputs": [],
   "source": [
    "salcho_imp = ir.salcho_imp(pd.Series([103456, 103456, 74000]))\n",
    "parts_fiscales_enfants = ir.parts_fiscales_enfants((pd.Series([4,0,0])))"
   ]
  },
  {
   "cell_type": "code",
   "execution_count": 15,
   "metadata": {
    "collapsed": true
   },
   "outputs": [],
   "source": [
    "salcho_imp = ir.salcho_imp(pd.Series([103456, 103456, 74000]))\n",
    "parts_fiscales_enfants = ir.parts_fiscales_enfants((pd.Series([4,0,0])))"
   ]
  },
  {
   "cell_type": "code",
   "execution_count": 16,
   "metadata": {
    "collapsed": false
   },
   "outputs": [
    {
     "data": {
      "text/plain": [
       "0    93110\n",
       "1    93110\n",
       "2    66600\n",
       "dtype: float64"
      ]
     },
     "execution_count": 16,
     "metadata": {},
     "output_type": "execute_result"
    }
   ],
   "source": [
    "salcho_imp"
   ]
  },
  {
   "cell_type": "code",
   "execution_count": 17,
   "metadata": {
    "collapsed": false
   },
   "outputs": [
    {
     "data": {
      "text/plain": [
       "0     7636.04\n",
       "1    24710.63\n",
       "2    14369.20\n",
       "dtype: float64"
      ]
     },
     "execution_count": 17,
     "metadata": {},
     "output_type": "execute_result"
    }
   ],
   "source": [
    "ir.ir_avec_qf(salcho_imp, parts_fiscales_enfants)"
   ]
  },
  {
   "cell_type": "code",
   "execution_count": 18,
   "metadata": {
    "collapsed": false
   },
   "outputs": [
    {
     "data": {
      "text/plain": [
       "0    15710.63\n",
       "1    24710.63\n",
       "2    14369.20\n",
       "dtype: float64"
      ]
     },
     "execution_count": 18,
     "metadata": {},
     "output_type": "execute_result"
    }
   ],
   "source": [
    "ir.ir_avec_plafond_qf_enfant(salcho_imp, parts_fiscales_enfant=parts_fiscales_enfants)"
   ]
  },
  {
   "cell_type": "markdown",
   "metadata": {},
   "source": [
    "decote"
   ]
  },
  {
   "cell_type": "code",
   "execution_count": 19,
   "metadata": {
    "collapsed": false
   },
   "outputs": [
    {
     "data": {
      "text/plain": [
       "0    15710.63\n",
       "1    24710.63\n",
       "2    14369.20\n",
       "dtype: float64"
      ]
     },
     "execution_count": 19,
     "metadata": {},
     "output_type": "execute_result"
    }
   ],
   "source": [
    "np.maximum(0,ir.ir_avec_plafond_qf_enfant(salcho_imp, parts_fiscales_enfant=parts_fiscales_enfants) - \n",
    "           ir.decote_ir(salcho_imp,parts_fiscales_enfants))"
   ]
  },
  {
   "cell_type": "code",
   "execution_count": 20,
   "metadata": {
    "collapsed": false
   },
   "outputs": [
    {
     "data": {
      "text/plain": [
       "424.043"
      ]
     },
     "execution_count": 20,
     "metadata": {},
     "output_type": "execute_result"
    }
   ],
   "source": [
    "salaire =  ir.salcho_imp(pd.Series([17000]))\n",
    "ir.ppe(16000,4 ) "
   ]
  },
  {
   "cell_type": "code",
   "execution_count": 21,
   "metadata": {
    "collapsed": false
   },
   "outputs": [
    {
     "data": {
      "text/plain": [
       "array([   0,    1,    2, ..., 1997, 1998, 1999])"
      ]
     },
     "execution_count": 21,
     "metadata": {},
     "output_type": "execute_result"
    }
   ],
   "source": [
    "np.array(range(2000))"
   ]
  },
  {
   "cell_type": "markdown",
   "metadata": {},
   "source": [
    "### Test contre simulateur DgFip PACS"
   ]
  },
  {
   "cell_type": "code",
   "execution_count": 22,
   "metadata": {
    "collapsed": true
   },
   "outputs": [],
   "source": [
    "salcho_imp = ir.salcho_imp(pd.Series([55000, 55000,155000]))\n",
    "parts_fiscales_enfants = ir.parts_fiscales_enfants((pd.Series([0,1,1])))"
   ]
  },
  {
   "cell_type": "code",
   "execution_count": 23,
   "metadata": {
    "collapsed": false
   },
   "outputs": [
    {
     "data": {
      "text/plain": [
       "0     49500\n",
       "1     49500\n",
       "2    142903\n",
       "dtype: float64"
      ]
     },
     "execution_count": 23,
     "metadata": {},
     "output_type": "execute_result"
    }
   ],
   "source": [
    "salcho_imp"
   ]
  },
  {
   "cell_type": "code",
   "execution_count": 24,
   "metadata": {
    "collapsed": false
   },
   "outputs": [
    {
     "data": {
      "text/plain": [
       "0     4230.32\n",
       "1     3555.40\n",
       "2    28843.90\n",
       "dtype: float64"
      ]
     },
     "execution_count": 24,
     "metadata": {},
     "output_type": "execute_result"
    }
   ],
   "source": [
    "ir_pacs.ir_avec_qf(salcho_imp, parts_fiscales_enfants)"
   ]
  },
  {
   "cell_type": "code",
   "execution_count": 25,
   "metadata": {
    "collapsed": false
   },
   "outputs": [
    {
     "data": {
      "text/plain": [
       "0     4230.32\n",
       "1     3555.40\n",
       "2    30161.29\n",
       "dtype: float64"
      ]
     },
     "execution_count": 25,
     "metadata": {},
     "output_type": "execute_result"
    }
   ],
   "source": [
    "ir_pacs.ir_avec_plafond_qf_enfant(salcho_imp, parts_fiscales_enfants)"
   ]
  },
  {
   "cell_type": "code",
   "execution_count": 26,
   "metadata": {
    "collapsed": false
   },
   "outputs": [
    {
     "data": {
      "text/plain": [
       "-2817"
      ]
     },
     "execution_count": 26,
     "metadata": {},
     "output_type": "execute_result"
    }
   ],
   "source": [
    "28844-31661"
   ]
  },
  {
   "cell_type": "code",
   "execution_count": 27,
   "metadata": {
    "collapsed": false
   },
   "outputs": [
    {
     "data": {
      "text/plain": [
       "30161.29"
      ]
     },
     "execution_count": 27,
     "metadata": {},
     "output_type": "execute_result"
    }
   ],
   "source": [
    "28844.29+817+500"
   ]
  },
  {
   "cell_type": "markdown",
   "metadata": {},
   "source": [
    "# Match avec les déclarations fiscales individuelles."
   ]
  },
  {
   "cell_type": "code",
   "execution_count": 28,
   "metadata": {
    "collapsed": false
   },
   "outputs": [],
   "source": [
    "path = (u\"./Pickle/final_select_rev_{}.p\".format(year))"
   ]
  },
  {
   "cell_type": "code",
   "execution_count": 29,
   "metadata": {
    "collapsed": false
   },
   "outputs": [],
   "source": [
    "import pickle\n",
    "select_id_fisc_log = pickle.load(\n",
    "            open(path, 'rb'))"
   ]
  },
  {
   "cell_type": "code",
   "execution_count": 30,
   "metadata": {
    "collapsed": false
   },
   "outputs": [],
   "source": [
    "df_fisci = load_fisc_i_by_year(year)\n",
    "df_fisci_select =  df_fisci[df_fisci.ID_FISC_LOG_DIFF.isin(select_id_fisc_log)]"
   ]
  },
  {
   "cell_type": "code",
   "execution_count": 31,
   "metadata": {
    "collapsed": false
   },
   "outputs": [
    {
     "name": "stderr",
     "output_type": "stream",
     "text": [
      "C:\\Users\\IMPTEMP_A_PACIFIC\\Desktop\\WinPython-64bit-2.7.10.2\\WinPython-64bit-2.7.10.2\\python-2.7.10.amd64\\lib\\site-packages\\IPython\\kernel\\__main__.py:1: SettingWithCopyWarning: \n",
      "A value is trying to be set on a copy of a slice from a DataFrame.\n",
      "Try using .loc[row_indexer,col_indexer] = value instead\n",
      "\n",
      "See the the caveats in the documentation: http://pandas.pydata.org/pandas-docs/stable/indexing.html#indexing-view-versus-copy\n",
      "  if __name__ == '__main__':\n"
     ]
    }
   ],
   "source": [
    "df_fisci_select['SEXE'] = df_fisci_select.SEXE.fillna(0).astype('int')"
   ]
  },
  {
   "cell_type": "code",
   "execution_count": 32,
   "metadata": {
    "collapsed": false
   },
   "outputs": [
    {
     "data": {
      "text/plain": [
       "2    173865\n",
       "dtype: int64"
      ]
     },
     "execution_count": 32,
     "metadata": {},
     "output_type": "execute_result"
    }
   ],
   "source": [
    "df_fisci_select.groupby('ID_FISC_LOG_DIFF')['ID_FISC_FOY_DIFF'].nunique().value_counts()"
   ]
  },
  {
   "cell_type": "code",
   "execution_count": 33,
   "metadata": {
    "collapsed": true
   },
   "outputs": [],
   "source": [
    "del df_fisci"
   ]
  },
  {
   "cell_type": "code",
   "execution_count": 34,
   "metadata": {
    "collapsed": true
   },
   "outputs": [],
   "source": [
    "select = df_fisci_select.ID_FISC_FOY_DIFF"
   ]
  },
  {
   "cell_type": "code",
   "execution_count": 35,
   "metadata": {
    "collapsed": false
   },
   "outputs": [
    {
     "name": "stderr",
     "output_type": "stream",
     "text": [
      "C:\\Users\\IMPTEMP_A_PACIFIC\\Desktop\\WinPython-64bit-2.7.10.2\\WinPython-64bit-2.7.10.2\\python-2.7.10.amd64\\lib\\site-packages\\IPython\\kernel\\__main__.py:3: SettingWithCopyWarning: \n",
      "A value is trying to be set on a copy of a slice from a DataFrame.\n",
      "Try using .loc[row_indexer,col_indexer] = value instead\n",
      "\n",
      "See the the caveats in the documentation: http://pandas.pydata.org/pandas-docs/stable/indexing.html#indexing-view-versus-copy\n",
      "  app.launch_new_instance()\n"
     ]
    }
   ],
   "source": [
    "df_revdet =  pd.read_hdf(store_path, 'FISC_REVDET_{}'.format(year)) \n",
    "df_revdet_select = df_revdet[df_revdet.ID_FISC_FOY_DIFF.isin(select)]\n",
    "df_revdet_select['TYPE_FISC'] = df_revdet_select.TYPE_FISC.astype('str')\n",
    "df_revdet_select = df_revdet_select.merge(df_fisci_select, on = [\n",
    "        'ID_FISC_FOY_DIFF','ORDREFIP', 'TYPE_FISC'], how='right').sort('ID_FISC_LOG_DIFF')"
   ]
  },
  {
   "cell_type": "code",
   "execution_count": 36,
   "metadata": {
    "collapsed": false
   },
   "outputs": [],
   "source": [
    "columns = [u'AN_FISC_x', u'ID_FISC_FOY_DIFF', u'ID_FISC_LOG_DIFF', u'ORDREFIP', u'TYPE_FISC',\n",
    "       u'REV_PRINC', u'YSALI', u'YCHOI', u'YRSTI', u'YALRI', u'YRAGI',\n",
    "       u'YBICI', u'YBNCI', u'ID_DIFF', u'AN_FISC_y',\n",
    "       u'SEXE', u'JNAIS', u'MNAIS', u'ANAIS', u'CODNAIS', u'CIDECI', u'ZOXYZD',\n",
    "       u'DACOED', u'ZOXYZP', u'DACOEP', u'T_CHARGE', u'CNCOIPV', u'CSDEP',\n",
    "       u'CNE1', u'COM_NSCAT', u'COM_SCAT1', u'COM_SCAT2', u'I_FISC_LOGEMENT',\n",
    "       u'I_FISC_REVENU', u'TYPE_DECL', u'TYPE_PRES', u'POIDS_FIDELI']"
   ]
  },
  {
   "cell_type": "code",
   "execution_count": 37,
   "metadata": {
    "collapsed": false
   },
   "outputs": [],
   "source": [
    "df_revdet_select = df_revdet_select.sort(['ID_FISC_LOG_DIFF', 'ID_FISC_FOY_DIFF'])[columns]"
   ]
  },
  {
   "cell_type": "code",
   "execution_count": 38,
   "metadata": {
    "collapsed": true
   },
   "outputs": [],
   "source": []
  },
  {
   "cell_type": "code",
   "execution_count": 38,
   "metadata": {
    "collapsed": false
   },
   "outputs": [],
   "source": [
    "rev_sal = df_revdet_select[['YSALI','YCHOI']].sum(axis = 1)"
   ]
  },
  {
   "cell_type": "code",
   "execution_count": 39,
   "metadata": {
    "collapsed": false
   },
   "outputs": [],
   "source": [
    "salcho_imp = ir.salcho_imp(rev_sal)\n",
    "#TODO : tester lequel des deux marche le mieux\n",
    "# rev_sal = df_fisci_revdet[['YSALI','YCHOI']].sum(axis = 1)"
   ]
  },
  {
   "cell_type": "code",
   "execution_count": 40,
   "metadata": {
    "collapsed": true
   },
   "outputs": [],
   "source": []
  },
  {
   "cell_type": "code",
   "execution_count": 40,
   "metadata": {
    "collapsed": false
   },
   "outputs": [],
   "source": [
    "rpns_var = df_revdet_select[['YRAGI','YBICI','YBNCI']].sum(axis = 1) #rpns-->rev_act_nonsal-->rev_actdf_revdet_select"
   ]
  },
  {
   "cell_type": "markdown",
   "metadata": {},
   "source": [
    "YRAGI agricol Revenus \n",
    "YBICI industriels et commerciaux individuels\n",
    "YBNCI Revenus non commerciaux individuels"
   ]
  },
  {
   "cell_type": "code",
   "execution_count": 41,
   "metadata": {
    "collapsed": false
   },
   "outputs": [],
   "source": [
    "rev_pen_var = df_revdet_select[['YRSTI','YALRI']].sum(axis = 1)"
   ]
  },
  {
   "cell_type": "code",
   "execution_count": 42,
   "metadata": {
    "collapsed": false
   },
   "outputs": [
    {
     "name": "stdout",
     "output_type": "stream",
     "text": [
      "False    677812\n",
      "True      10994\n",
      "dtype: int64\n",
      "False    681040\n",
      "True       7766\n",
      "dtype: int64\n"
     ]
    }
   ],
   "source": [
    "print (df_revdet_select.YALRI>20).value_counts()\n",
    "print (df_revdet_select.YRSTI>20).value_counts()"
   ]
  },
  {
   "cell_type": "code",
   "execution_count": 43,
   "metadata": {
    "collapsed": false
   },
   "outputs": [],
   "source": [
    "rev_cat = salcho_imp + rpns_var + rev_pen_var\n",
    "#TODO : chack car fait à l'arrache."
   ]
  },
  {
   "cell_type": "code",
   "execution_count": 44,
   "metadata": {
    "collapsed": true
   },
   "outputs": [],
   "source": [
    "rbg = rev_cat #ne prends pas en compte (nbic_impm_holder) + nacc_pvce  - deficit_ante\n",
    "rni = rbg # prends pas en compte les abat_spe"
   ]
  },
  {
   "cell_type": "code",
   "execution_count": 45,
   "metadata": {
    "collapsed": false
   },
   "outputs": [],
   "source": [
    "df_fisci_revdet= df_revdet_select"
   ]
  },
  {
   "cell_type": "code",
   "execution_count": 46,
   "metadata": {
    "collapsed": false
   },
   "outputs": [],
   "source": [
    "df_fisci_revdet[\"Age\"] = year - df_fisci_revdet.ANAIS"
   ]
  },
  {
   "cell_type": "code",
   "execution_count": 47,
   "metadata": {
    "collapsed": false
   },
   "outputs": [],
   "source": [
    "df_fisci_revdet[\"Reduction_impot_pour_etudes\"] = (\n",
    "    ((df_fisci_revdet.Age >10)& (df_fisci_revdet.Age <=14)) *61 +\n",
    "  ( (df_fisci_revdet.Age >14)& (df_fisci_revdet.Age <=18)) *153 \n",
    "  # + ( (df_fisci_revdet.Age >18)& (df_fisci_revdet.Age <=25)) *183\n",
    ").astype('float')"
   ]
  },
  {
   "cell_type": "markdown",
   "metadata": {},
   "source": [
    "### Crée une variable avec l'age de tout les enfants à la suite"
   ]
  },
  {
   "cell_type": "code",
   "execution_count": 48,
   "metadata": {
    "collapsed": true
   },
   "outputs": [],
   "source": []
  },
  {
   "cell_type": "code",
   "execution_count": 48,
   "metadata": {
    "collapsed": true
   },
   "outputs": [],
   "source": []
  },
  {
   "cell_type": "code",
   "execution_count": 48,
   "metadata": {
    "collapsed": false
   },
   "outputs": [],
   "source": [
    "groupie = df_fisci_revdet.groupby('ID_FISC_LOG_DIFF')"
   ]
  },
  {
   "cell_type": "code",
   "execution_count": 49,
   "metadata": {
    "collapsed": false
   },
   "outputs": [
    {
     "data": {
      "text/plain": [
       "29.0"
      ]
     },
     "execution_count": 49,
     "metadata": {},
     "output_type": "execute_result"
    }
   ],
   "source": [
    "groupie.nth(1).Age.iloc[0]"
   ]
  },
  {
   "cell_type": "code",
   "execution_count": 50,
   "metadata": {
    "collapsed": false
   },
   "outputs": [],
   "source": [
    "#df_fisci_revdet.head(0)"
   ]
  },
  {
   "cell_type": "code",
   "execution_count": 51,
   "metadata": {
    "collapsed": true
   },
   "outputs": [],
   "source": [
    "df_fisci_revdet[\"Rni\"] = rni"
   ]
  },
  {
   "cell_type": "code",
   "execution_count": 52,
   "metadata": {
    "collapsed": true
   },
   "outputs": [],
   "source": [
    "grpby = df_fisci_revdet.groupby('ID_FISC_FOY_DIFF')"
   ]
  },
  {
   "cell_type": "code",
   "execution_count": 53,
   "metadata": {
    "collapsed": false
   },
   "outputs": [],
   "source": [
    "grpby_fisci_count = grpby.count()\n"
   ]
  },
  {
   "cell_type": "code",
   "execution_count": 54,
   "metadata": {
    "collapsed": false
   },
   "outputs": [],
   "source": [
    "grpby_fisci_sum = grpby.sum()"
   ]
  },
  {
   "cell_type": "code",
   "execution_count": 55,
   "metadata": {
    "collapsed": false
   },
   "outputs": [],
   "source": [
    "grpby_fisci_first = df_fisci_revdet[df_fisci_revdet.TYPE_FISC == \"1\"].groupby('ID_FISC_FOY_DIFF').first()"
   ]
  },
  {
   "cell_type": "code",
   "execution_count": 56,
   "metadata": {
    "collapsed": false
   },
   "outputs": [],
   "source": [
    "#grpby_fisci_first.head(0)"
   ]
  },
  {
   "cell_type": "code",
   "execution_count": 57,
   "metadata": {
    "collapsed": false
   },
   "outputs": [],
   "source": [
    "#merge = pd.merge(grpby_fisci.reset_index(), df_fisci_bio, on = 'ID_FISC_FOY_DIFF')"
   ]
  },
  {
   "cell_type": "code",
   "execution_count": 58,
   "metadata": {
    "collapsed": false
   },
   "outputs": [],
   "source": [
    "nb_individu_foyer = grpby_fisci_count['AN_FISC_y']\n",
    "nb_enfant = nb_individu_foyer - 1\n",
    "grpby_fisci_first['Nb_enfants'] = nb_enfant"
   ]
  },
  {
   "cell_type": "code",
   "execution_count": 59,
   "metadata": {
    "collapsed": false
   },
   "outputs": [],
   "source": [
    "parts_fiscales_enfants = ir.parts_fiscales_enfants(nb_enfant)\n",
    "grpby_fisci_first['Parts_fiscales_enfants'] = parts_fiscales_enfants\n"
   ]
  },
  {
   "cell_type": "code",
   "execution_count": 60,
   "metadata": {
    "collapsed": false
   },
   "outputs": [
    {
     "data": {
      "text/plain": [
       "(347730L,)"
      ]
     },
     "execution_count": 60,
     "metadata": {},
     "output_type": "execute_result"
    }
   ],
   "source": [
    "grpby_fisci_sum.Rni.shape"
   ]
  },
  {
   "cell_type": "code",
   "execution_count": 61,
   "metadata": {
    "collapsed": false
   },
   "outputs": [],
   "source": []
  },
  {
   "cell_type": "code",
   "execution_count": 61,
   "metadata": {
    "collapsed": false
   },
   "outputs": [
    {
     "data": {
      "text/html": [
       "<div>\n",
       "<table border=\"1\" class=\"dataframe\">\n",
       "  <thead>\n",
       "    <tr style=\"text-align: right;\">\n",
       "      <th></th>\n",
       "      <th>Parts_fiscales_enfants</th>\n",
       "      <th>Nb_enfants</th>\n",
       "    </tr>\n",
       "  </thead>\n",
       "  <tbody>\n",
       "    <tr>\n",
       "      <th>0</th>\n",
       "      <td>3.0</td>\n",
       "      <td>4</td>\n",
       "    </tr>\n",
       "    <tr>\n",
       "      <th>1</th>\n",
       "      <td>0.5</td>\n",
       "      <td>1</td>\n",
       "    </tr>\n",
       "    <tr>\n",
       "      <th>2</th>\n",
       "      <td>1.0</td>\n",
       "      <td>2</td>\n",
       "    </tr>\n",
       "    <tr>\n",
       "      <th>3</th>\n",
       "      <td>0.0</td>\n",
       "      <td>0</td>\n",
       "    </tr>\n",
       "    <tr>\n",
       "      <th>4</th>\n",
       "      <td>0.0</td>\n",
       "      <td>0</td>\n",
       "    </tr>\n",
       "  </tbody>\n",
       "</table>\n",
       "</div>"
      ],
      "text/plain": [
       "   Parts_fiscales_enfants  Nb_enfants\n",
       "0                     3.0           4\n",
       "1                     0.5           1\n",
       "2                     1.0           2\n",
       "3                     0.0           0\n",
       "4                     0.0           0"
      ]
     },
     "execution_count": 61,
     "metadata": {},
     "output_type": "execute_result"
    }
   ],
   "source": [
    "grpby_fisci_first.reset_index()[[\"Parts_fiscales_enfants\", 'Nb_enfants']].head()"
   ]
  },
  {
   "cell_type": "code",
   "execution_count": 62,
   "metadata": {
    "collapsed": false
   },
   "outputs": [],
   "source": [
    "grpby_fisci_first['Irpp_ss_qf'] = ir.ir_sans_qf(grpby_fisci_sum.Rni)\n",
    "grpby_fisci_first['Irpp_ac_qf'] = ir.ir_avec_qf(grpby_fisci_sum.Rni, parts_fiscales_enfants)\n",
    "grpby_fisci_first['Irpp_ac_plaf_qf'] = ir.ir_avec_plafond_qf_enfant(grpby_fisci_sum.Rni, parts_fiscales_enfants)\n",
    "grpby_fisci_first['Ppe'] = ir.ppe(grpby_fisci_sum.YSALI, grpby_fisci_first.Nb_enfants)\n"
   ]
  },
  {
   "cell_type": "code",
   "execution_count": 63,
   "metadata": {
    "collapsed": false
   },
   "outputs": [],
   "source": [
    "\n",
    "grpby_fisci_first['Decote'] = ir.decote_ir(grpby_fisci_sum.Rni, parts_fiscales_enfants)\n",
    "grpby_fisci_first['Irpp_decote'] =  np.maximum(0, grpby_fisci_first['Irpp_ac_plaf_qf'] -grpby_fisci_first['Decote'] )\n",
    "grpby_fisci_first['Irpp_seuil_prelevement'] = ((grpby_fisci_first['Irpp_decote']<=62)*0 +\n",
    "                                               (grpby_fisci_first['Irpp_decote']>62)*grpby_fisci_first['Irpp_decote'])\n"
   ]
  },
  {
   "cell_type": "code",
   "execution_count": 64,
   "metadata": {
    "collapsed": true
   },
   "outputs": [],
   "source": [
    "grpby_fisci_first[\"Reduction_impot_pour_etudes\"] = grpby_fisci_sum.Reduction_impot_pour_etudes"
   ]
  },
  {
   "cell_type": "code",
   "execution_count": 65,
   "metadata": {
    "collapsed": true
   },
   "outputs": [],
   "source": [
    "grpby_fisci_first['Irpp_reduction_impot_etudes'] = np.maximum(0, grpby_fisci_first['Irpp_decote'] - grpby_fisci_sum.Reduction_impot_pour_etudes)\n",
    "grpby_fisci_first['Irpp_reduction_impot_etudes_seuil'] = ((grpby_fisci_first['Irpp_reduction_impot_etudes']<=62)*0 +\n",
    "                                               (grpby_fisci_first['Irpp_reduction_impot_etudes']>62)*grpby_fisci_first['Irpp_reduction_impot_etudes'])"
   ]
  },
  {
   "cell_type": "code",
   "execution_count": 66,
   "metadata": {
    "collapsed": false
   },
   "outputs": [],
   "source": [
    "#grpby_fisci_first[['Irpp_reduction_impot_etudes', 'Irpp_decote',\"Reduction_impot_pour_etudes\" ]].head(0)"
   ]
  },
  {
   "cell_type": "code",
   "execution_count": 67,
   "metadata": {
    "collapsed": false
   },
   "outputs": [],
   "source": [
    "#grpby_fisci_first[['Irpp_reduction_impot_etudes', 'Irpp_decote',\"Reduction_impot_pour_etudes\" ]].head(0)"
   ]
  },
  {
   "cell_type": "code",
   "execution_count": 68,
   "metadata": {
    "collapsed": false
   },
   "outputs": [],
   "source": [
    "grpby_fisci_first[\"Rni_pere\"] = grpby_fisci_first[grpby_fisci_first.SEXE == 1].Rni\n",
    "grpby_fisci_first[\"Rni_mere\"] = grpby_fisci_first[grpby_fisci_first.SEXE == 2].Rni\n",
    "\n",
    "grpby_fisci_first[\"Salaire_pere\"] = grpby_fisci_first[grpby_fisci_first.SEXE == 1].YSALI\n",
    "grpby_fisci_first[\"Salaire_mere\"] = grpby_fisci_first[grpby_fisci_first.SEXE == 2].YSALI\n",
    "\n",
    "grpby_fisci_first[\"Irpp_ac_plaf_qf_pere\"] = grpby_fisci_first[grpby_fisci_first.SEXE == 1].Irpp_ac_plaf_qf\n",
    "grpby_fisci_first[\"Irpp_ac_plaf_qf_mere\"] = grpby_fisci_first[grpby_fisci_first.SEXE == 2].Irpp_ac_plaf_qf\n",
    "\n",
    "grpby_fisci_first[\"Irpp_decote_pere\"] = grpby_fisci_first[grpby_fisci_first.SEXE == 1].Irpp_decote\n",
    "grpby_fisci_first[\"Irpp_decote_mere\"] = grpby_fisci_first[grpby_fisci_first.SEXE == 2].Irpp_decote\n",
    "grpby_fisci_first.loc[grpby_fisci_first['SEXE'] == 1, 'Allocation_pere'] = grpby_fisci_first.Nb_enfants\n",
    "grpby_fisci_first.loc[grpby_fisci_first['SEXE'] == 2, 'Allocation_mere'] = grpby_fisci_first.Nb_enfants\n",
    "grpby_fisci_first[\"Age_pere\"] = year - grpby_fisci_first[grpby_fisci_first.SEXE == 1].ANAIS\n",
    "grpby_fisci_first[\"Age_mere\"] = year - grpby_fisci_first[grpby_fisci_first.SEXE == 2].ANAIS"
   ]
  },
  {
   "cell_type": "code",
   "execution_count": 69,
   "metadata": {
    "collapsed": false
   },
   "outputs": [
    {
     "data": {
      "text/plain": [
       "NaN       174086\n",
       " 0         21396\n",
       " 24000       110\n",
       " 18000       103\n",
       "dtype: int64"
      ]
     },
     "execution_count": 69,
     "metadata": {},
     "output_type": "execute_result"
    }
   ],
   "source": [
    "grpby_fisci_first.Salaire_pere.value_counts(dropna=False).head(4)"
   ]
  },
  {
   "cell_type": "code",
   "execution_count": 70,
   "metadata": {
    "collapsed": false
   },
   "outputs": [],
   "source": [
    "grpby_fisci_first[\"Not_touched_by_decote\"] = grpby_fisci_first.Irpp_decote == grpby_fisci_first.Irpp_ac_plaf_qf"
   ]
  },
  {
   "cell_type": "markdown",
   "metadata": {},
   "source": [
    "### Travail sur petit sample dans un premier temps"
   ]
  },
  {
   "cell_type": "code",
   "execution_count": 71,
   "metadata": {
    "collapsed": true
   },
   "outputs": [],
   "source": [
    "irpp_by_log_diff = grpby_fisci_first.groupby('ID_FISC_LOG_DIFF').sum().reset_index()"
   ]
  },
  {
   "cell_type": "code",
   "execution_count": 72,
   "metadata": {
    "collapsed": true
   },
   "outputs": [],
   "source": [
    "#df = df_fiscr.merge(irpp_by_log_diff, on='ID_FISC_LOG_DIFF')\n",
    "#df_right = df_fiscr.merge(irpp_by_log_diff, on='ID_FISC_LOG_DIFF', how = 'outer')"
   ]
  },
  {
   "cell_type": "code",
   "execution_count": 73,
   "metadata": {
    "collapsed": true
   },
   "outputs": [],
   "source": [
    "small_sample_ripp_fisci = grpby_fisci_first.sort('ID_FISC_LOG_DIFF')\n",
    "small_sample_ripp_fisci = small_sample_ripp_fisci#.iloc[:1000].reset_index()"
   ]
  },
  {
   "cell_type": "code",
   "execution_count": 74,
   "metadata": {
    "collapsed": true
   },
   "outputs": [],
   "source": []
  },
  {
   "cell_type": "code",
   "execution_count": 74,
   "metadata": {
    "collapsed": false,
    "scrolled": true
   },
   "outputs": [],
   "source": [
    "#small_sample_ripp_fisci.head()"
   ]
  },
  {
   "cell_type": "code",
   "execution_count": 75,
   "metadata": {
    "collapsed": true
   },
   "outputs": [],
   "source": [
    "small_sample_ripp_fiscr = df_fiscr.sort('ID_FISC_LOG_DIFF')#.iloc[0:5000]"
   ]
  },
  {
   "cell_type": "code",
   "execution_count": 76,
   "metadata": {
    "collapsed": false,
    "scrolled": true
   },
   "outputs": [
    {
     "name": "stdout",
     "output_type": "stream",
     "text": [
      "Wall time: 33.2 s\n"
     ]
    }
   ],
   "source": [
    "%%time\n",
    "small_merge=pd.merge(small_sample_ripp_fisci.reset_index(), small_sample_ripp_fiscr, on = 'ID_FISC_LOG_DIFF')"
   ]
  },
  {
   "cell_type": "code",
   "execution_count": 77,
   "metadata": {
    "collapsed": false
   },
   "outputs": [
    {
     "data": {
      "text/plain": [
       "ID_FISC_LOG_DIFF\n",
       "29    3\n",
       "72    1\n",
       "87    2\n",
       "96    3\n",
       "97    2\n",
       "Name: Nb_enfants, dtype: int64"
      ]
     },
     "execution_count": 77,
     "metadata": {},
     "output_type": "execute_result"
    }
   ],
   "source": [
    "small_merge.groupby('ID_FISC_LOG_DIFF').sum().Nb_enfants.head()"
   ]
  },
  {
   "cell_type": "markdown",
   "metadata": {},
   "source": [
    "Pour chaque logement ayant N enfants on a N+1 allocations possible."
   ]
  },
  {
   "cell_type": "code",
   "execution_count": 78,
   "metadata": {
    "collapsed": true
   },
   "outputs": [],
   "source": []
  },
  {
   "cell_type": "code",
   "execution_count": 78,
   "metadata": {
    "collapsed": false
   },
   "outputs": [],
   "source": []
  },
  {
   "cell_type": "code",
   "execution_count": 78,
   "metadata": {
    "collapsed": false
   },
   "outputs": [],
   "source": []
  },
  {
   "cell_type": "markdown",
   "metadata": {},
   "source": [
    "### Touché par la décote"
   ]
  },
  {
   "cell_type": "code",
   "execution_count": 78,
   "metadata": {
    "collapsed": true
   },
   "outputs": [],
   "source": []
  },
  {
   "cell_type": "code",
   "execution_count": 78,
   "metadata": {
    "collapsed": true
   },
   "outputs": [],
   "source": []
  },
  {
   "cell_type": "code",
   "execution_count": 78,
   "metadata": {
    "collapsed": false
   },
   "outputs": [],
   "source": [
    "small_sample_ripp_fisci.loc[small_sample_ripp_fisci.ID_FISC_LOG_DIFF == 216,'Nb_enfants'] = pd.Series([0,1]).values"
   ]
  },
  {
   "cell_type": "code",
   "execution_count": 79,
   "metadata": {
    "collapsed": false
   },
   "outputs": [],
   "source": [
    "#small_sample_ripp_fisci[small_sample_ripp_fisci.ID_FISC_LOG_DIFF == 216]"
   ]
  },
  {
   "cell_type": "markdown",
   "metadata": {},
   "source": [
    "Stratégie : On trie par ID_FISC_LOG puis par ID_FOY. ON sépare en fonction du nombre d'enfants pour faire plusieurs moulinettes.\n",
    "Il y a N+1 allocations possibles.\n",
    "\n",
    "On veut se retrouver avec une df_fisci qui fait impot8allocation_1, impot_allocation_2,..., impot_allocation_n\n",
    "\n",
    "Si 1 enfant on fait d'abord l'impot avec toute les parts sur le premier parent, puis sur le deuxième.\n"
   ]
  },
  {
   "cell_type": "markdown",
   "metadata": {},
   "source": [
    "#### On isole les 1 enfants"
   ]
  },
  {
   "cell_type": "code",
   "execution_count": 80,
   "metadata": {
    "collapsed": false
   },
   "outputs": [],
   "source": [
    "grpby = small_merge.groupby('ID_FISC_LOG_DIFF').sum()\n",
    "grpby_1_enfant = grpby[grpby.Nb_enfants == 1]\n",
    "grpby_2_enfant = grpby[grpby.Nb_enfants == 2]\n",
    "grpby_3_enfant = grpby[grpby.Nb_enfants == 3]\n",
    "grpby_4_enfant = grpby[grpby.Nb_enfants == 4]\n",
    "grpby_5_enfant = grpby[grpby.Nb_enfants == 5]\n",
    "grpby_6_enfant = grpby[grpby.Nb_enfants == 6]\n",
    "grpby_7_enfant = grpby[grpby.Nb_enfants == 7]\n",
    "grpby_8_enfant = grpby[grpby.Nb_enfants == 8]\n",
    "\n"
   ]
  },
  {
   "cell_type": "code",
   "execution_count": 81,
   "metadata": {
    "collapsed": false
   },
   "outputs": [
    {
     "data": {
      "text/plain": [
       "2     74820\n",
       "1     62513\n",
       "3     23465\n",
       "4      8605\n",
       "5      2137\n",
       "6      1413\n",
       "0       296\n",
       "8       260\n",
       "7       229\n",
       "10       57\n",
       "9        47\n",
       "12       16\n",
       "11        7\n",
       "dtype: int64"
      ]
     },
     "execution_count": 81,
     "metadata": {},
     "output_type": "execute_result"
    }
   ],
   "source": [
    "grpby.Nb_enfants.value_counts()"
   ]
  },
  {
   "cell_type": "code",
   "execution_count": 82,
   "metadata": {
    "collapsed": false
   },
   "outputs": [],
   "source": [
    "#\n",
    "grpby_dict= dict()\n",
    "for nb_enf in range(1,9):\n",
    "    grpby_dict[\"{}_child\".format(nb_enf)] = grpby[grpby.Nb_enfants == nb_enf].reset_index()"
   ]
  },
  {
   "cell_type": "code",
   "execution_count": 83,
   "metadata": {
    "collapsed": true
   },
   "outputs": [],
   "source": [
    "#\n",
    "df_fisci_dict = dict()\n",
    "for nb_enf in range(1,9):\n",
    "    small_sample_ripp_fisci[\"nb_enfant_total\"] = nb_enf\n",
    "    temp = small_sample_ripp_fisci[small_sample_ripp_fisci.ID_FISC_LOG_DIFF.isin( grpby_dict[\"{}_child\".format(nb_enf)].ID_FISC_LOG_DIFF)]\n",
    "    df_fisci_dict[\"{}_child\".format(nb_enf)] = temp.reset_index().sort(['ID_FISC_LOG_DIFF','ID_FISC_FOY_DIFF'])"
   ]
  },
  {
   "cell_type": "code",
   "execution_count": 84,
   "metadata": {
    "collapsed": false
   },
   "outputs": [],
   "source": [
    "for nb_enf in range(1,9): #Teste qu'on a bien toujours que 2 observations dans chaque logement fiscal\n",
    "    assert  np.all(df_fisci_dict[\"{}_child\".format(1)].groupby(\"ID_FISC_LOG_DIFF\")[\"ID_FISC_FOY_DIFF\"].nunique())"
   ]
  },
  {
   "cell_type": "code",
   "execution_count": 85,
   "metadata": {
    "collapsed": false
   },
   "outputs": [
    {
     "name": "stdout",
     "output_type": "stream",
     "text": [
      "2    62512\n",
      "1        1\n",
      "dtype: int64\n",
      "2    74818\n",
      "1        2\n",
      "dtype: int64\n",
      "2    23465\n",
      "dtype: int64\n",
      "2    8605\n",
      "dtype: int64\n",
      "2    2137\n",
      "dtype: int64\n",
      "2    1413\n",
      "dtype: int64\n",
      "2    229\n",
      "dtype: int64\n",
      "2    260\n",
      "dtype: int64\n"
     ]
    }
   ],
   "source": [
    "for nb_enf in range(1,9): #Teste qu'on a bien toujours que 2 observations dans chaque logement fiscal\n",
    "      print df_fisci_dict[\"{}_child\".format(nb_enf)].groupby(\"ID_FISC_LOG_DIFF\")[\"AN_FISC_x\"].count().value_counts()"
   ]
  },
  {
   "cell_type": "markdown",
   "metadata": {},
   "source": [
    "Sort par le sexe pour que allocation 1 corresponde bien au père qui prend un enfant, et alloc 2 la mere, etc"
   ]
  },
  {
   "cell_type": "code",
   "execution_count": 86,
   "metadata": {
    "collapsed": false
   },
   "outputs": [],
   "source": [
    "for nb_enf in range(1,9): \n",
    "      df_fisci_dict[\"{}_child\".format(nb_enf)] = df_fisci_dict[\"{}_child\".format(nb_enf)].sort([\"ID_FISC_LOG_DIFF\",\"SEXE\"])"
   ]
  },
  {
   "cell_type": "code",
   "execution_count": 87,
   "metadata": {
    "collapsed": false
   },
   "outputs": [],
   "source": [
    "#\n",
    "for nb_enf1 in range(1,9):\n",
    "    df_temp = df_fisci_dict[\"{}_child\".format(nb_enf1)]\n",
    "    nb_enfant_total= nb_enf1\n",
    "    for nb_enf2 in range(nb_enfant_total+1):\n",
    "        df_temp[\"Nb_enf_allocation_{}\".format(nb_enf2+1)] = int(len(df_temp)/2)*[nb_enf2, nb_enfant_total - nb_enf2] \n",
    "    df_fisci_dict[\"{}_child\".format(nb_enf)] = df_temp\n"
   ]
  },
  {
   "cell_type": "markdown",
   "metadata": {},
   "source": [
    "#### Calcul de l'impot"
   ]
  },
  {
   "cell_type": "code",
   "execution_count": 88,
   "metadata": {
    "collapsed": false
   },
   "outputs": [],
   "source": [
    "grpby_fisci_first['Ppe'] = ir.ppe(grpby_fisci_sum.YSALI, grpby_fisci_first.Nb_enfants)\n",
    "grpby_fisci_first['Decote'] = ir.decote_ir(grpby_fisci_sum.Rni, parts_fiscales_enfants)\n",
    "grpby_fisci_first['Irpp_decote'] =  np.maximum(0, grpby_fisci_first['Irpp_ac_plaf_qf'] -grpby_fisci_first['Decote'] )\n",
    "grpby_fisci_first['Irpp_seuil_prelevement'] = ((grpby_fisci_first['Irpp_decote']<=62)*0 +\n",
    "                                               (grpby_fisci_first['Irpp_decote']>62)*grpby_fisci_first['Irpp_decote'])\n",
    "grpby_fisci_first[\"Reduction_impot_pour_etudes\"] = grpby_fisci_sum.Reduction_impot_pour_etudes\n",
    "grpby_fisci_first['Irpp_reduction_impot_etudes'] = np.maximum(0, grpby_fisci_first['Irpp_decote'] - grpby_fisci_sum.Reduction_impot_pour_etudes)\n",
    "grpby_fisci_first['Irpp_reduction_impot_etudes_seuil'] = ((grpby_fisci_first['Irpp_reduction_impot_etudes']<=62)*0 +\n",
    "                         \n",
    "                                                          (grpby_fisci_first['Irpp_reduction_impot_etudes']>62)*grpby_fisci_first['Irpp_reduction_impot_etudes'])"
   ]
  },
  {
   "cell_type": "code",
   "execution_count": 89,
   "metadata": {
    "collapsed": false
   },
   "outputs": [],
   "source": [
    "#grpby_fisci_first.sort(\"ID_FISC_LOG_DIFF\").head(10)"
   ]
  },
  {
   "cell_type": "code",
   "execution_count": 90,
   "metadata": {
    "collapsed": false
   },
   "outputs": [],
   "source": [
    "from scipy import special"
   ]
  },
  {
   "cell_type": "code",
   "execution_count": 91,
   "metadata": {
    "collapsed": false
   },
   "outputs": [],
   "source": [
    "## More kind of taxes\n",
    "for nb_enf in range(1,9):\n",
    "    df_temp = df_fisci_dict[\"{}_child\".format(nb_enf)]\n",
    "    \n",
    "    for alloc_number in range(1,nb_enf+2): # Il y a nb_enf+1 allocations possibles     \n",
    "        \n",
    "        ## Decote\n",
    "        parts_fiscales_enfants = pd.Series(ir.parts_fiscales_enfants(df_temp['Nb_enf_allocation_{}'.format(alloc_number)]))\n",
    "        decote = ir.decote_ir(df_temp.Rni, parts_fiscales_enfants)\n",
    "        irpp_ac_plaf_qf = ir.ir_avec_plafond_qf_enfant(df_temp.Rni, parts_fiscales_enfants)\n",
    "        df_temp['Irpp_decote_allocation_{}'.format(alloc_number)] =  np.maximum(0, irpp_ac_plaf_qf -decote )\n",
    "        \n",
    "        ## Seuil prelevement\n",
    "        \n",
    "        df_temp['Irpp_decote_seuil_prel_allocation_{}'.format(alloc_number)] =  ((irpp_ac_plaf_qf<=62)*0 +\n",
    "                                               (irpp_ac_plaf_qf>62)*irpp_ac_plaf_qf)\n",
    "        \n",
    "\n",
    "        \n",
    "        df_fisci_dict[\"{}_child\".format(nb_enf)] = df_temp"
   ]
  },
  {
   "cell_type": "code",
   "execution_count": 92,
   "metadata": {
    "collapsed": false
   },
   "outputs": [],
   "source": [
    "#df_fisci_dict[\"{}_child\".format(nb_enf)].head(0)"
   ]
  },
  {
   "cell_type": "code",
   "execution_count": 93,
   "metadata": {
    "collapsed": true
   },
   "outputs": [],
   "source": [
    "# Simple\n",
    "\n",
    "for nb_enf in range(1,9):\n",
    "    df_temp = df_fisci_dict[\"{}_child\".format(nb_enf)]\n",
    "    \n",
    "    for alloc_number in range(1,nb_enf+2): # Il y a nb_enf+1 allocations possibles     \n",
    "        parts_fiscales_enfants = pd.Series(ir.parts_fiscales_enfants(df_temp['Nb_enf_allocation_{}'.format(alloc_number)]))\n",
    "        decote = ir.decote_ir(df_temp.Rni, parts_fiscales_enfants)\n",
    "        irpp_ac_plaf_qf = ir.ir_avec_plafond_qf_enfant(df_temp.Rni, parts_fiscales_enfants)\n",
    "        df_temp['Irpp_decote_allocation_{}'.format(alloc_number)] =  np.maximum(0, irpp_ac_plaf_qf -decote )\n",
    "        df_fisci_dict[\"{}_child\".format(nb_enf)] = df_temp"
   ]
  },
  {
   "cell_type": "code",
   "execution_count": 94,
   "metadata": {
    "collapsed": false
   },
   "outputs": [],
   "source": [
    "#df_fisci_dict[\"{}_child\".format(2)][['ID_FISC_LOG_DIFF']+['Irpp_decote_allocation_{}'.format(aloc) for aloc in range(1,4)]+['Irpp_decote']].head()"
   ]
  },
  {
   "cell_type": "code",
   "execution_count": 95,
   "metadata": {
    "collapsed": false
   },
   "outputs": [],
   "source": [
    "\n",
    "#df_fisci_dict[\"{}_child\".format(2)][['ID_FISC_LOG_DIFF']+['Irpp_decote_allocation_{}'.format(aloc) for aloc in range(1,4)]+['Irpp_decote']].head()"
   ]
  },
  {
   "cell_type": "code",
   "execution_count": 96,
   "metadata": {
    "collapsed": false
   },
   "outputs": [],
   "source": [
    "select_var= ['Irpp_decote_allocation_{}'.format(aloc) for aloc in range(1,nb_enf + 2)]+['Irpp_decote']\\\n",
    "            +[\"ZIMPOM\"]"
   ]
  },
  {
   "cell_type": "code",
   "execution_count": 97,
   "metadata": {
    "collapsed": false
   },
   "outputs": [],
   "source": [
    "#\n",
    "result_dict = dict()\n",
    "for nb_enf in range(1,9):\n",
    "    result_dict[\"{}_child\".format(nb_enf)] = df_fisci_dict[\"{}_child\".format(nb_enf)\n",
    "                                                          ].groupby('ID_FISC_LOG_DIFF').sum()#[\n",
    "       # ['Irpp_decote_allocation_{}'.format(aloc) for aloc in range(1,nb_enf + 2)]+['Irpp_decote']]]"
   ]
  },
  {
   "cell_type": "code",
   "execution_count": 98,
   "metadata": {
    "collapsed": false
   },
   "outputs": [],
   "source": [
    "#result_dict[\"{}_child\".format(1)].head()"
   ]
  },
  {
   "cell_type": "code",
   "execution_count": 99,
   "metadata": {
    "collapsed": false
   },
   "outputs": [],
   "source": [
    "#\n",
    "for nb_enf in range(1,9):\n",
    "    result = result_dict[\"{}_child\".format(nb_enf)]\n",
    "    result[\"result_min_allocation\"] = result[['Irpp_decote_allocation_{}'.format(aloc) for aloc in range(1,nb_enf+2)]].min(axis = 1)\n",
    "    result[\"result_max_allocation\"] = result[['Irpp_decote_allocation_{}'.format(aloc) for aloc in range(1,nb_enf+2)]].max(axis = 1)\n",
    "    result[\"Gain_fiscal_max\"] = result[\"result_max_allocation\"] - result[\"result_min_allocation\"]\n",
    "    result[\"Gain_fiscal_max_in_ratio\"] =  result[\"result_min_allocation\"]/result[\"result_max_allocation\"] \n",
    "    \n",
    "\n",
    "    result[\"Fiscal_loss\"] =  result[\"Irpp_decote\"] -result[\"result_min_allocation\"]\n",
    "    result_dict[\"{}_child\".format(nb_enf)] = result"
   ]
  },
  {
   "cell_type": "code",
   "execution_count": 100,
   "metadata": {
    "collapsed": false
   },
   "outputs": [
    {
     "data": {
      "text/plain": [
       "False    146\n",
       "True      83\n",
       "dtype: int64"
      ]
     },
     "execution_count": 100,
     "metadata": {},
     "output_type": "execute_result"
    }
   ],
   "source": [
    "(result.result_min_allocation == result.result_max_allocation).value_counts()"
   ]
  },
  {
   "cell_type": "markdown",
   "metadata": {},
   "source": [
    "Puisque pas de découte en couple en 2013, on ajoute simplement une part fiscale pour avoir l'impôt avec Pacs"
   ]
  },
  {
   "cell_type": "code",
   "execution_count": 101,
   "metadata": {
    "collapsed": false,
    "scrolled": false
   },
   "outputs": [],
   "source": [
    "for nb_enf in range(1,9):\n",
    "    result = result_dict[\"{}_child\".format(nb_enf)]\n",
    "    parts_fiscales_enfants_pacs = ir.parts_fiscales_enfants(result.Nb_enfants) \n",
    "    result[\"Parts_fiscales_enfants_pacs\"] = parts_fiscales_enfants_pacs\n",
    "    result['Irpp_ac_plaf_qf_pacs'] = ir_pacs.ir_avec_plafond_qf_enfant(result.Rni, parts_fiscales_enfants_pacs) #on ajoute la part du deuxième conjoint\n",
    "    result['Irpp_ac_qf_pacs'] = ir_pacs.ir_avec_qf(result.Rni, parts_fiscales_enfants_pacs)\n",
    "    result['Decote_pacs'] = ir_pacs.decote_ir(result.Rni, parts_fiscales_enfants_pacs)\n",
    "    result['Irpp_decote_pacs'] =  np.maximum(0, result['Irpp_ac_plaf_qf_pacs'] -result['Decote_pacs'] )\n",
    "    \n",
    "    \n",
    "    result_dict[\"{}_child\".format(nb_enf)] = result"
   ]
  },
  {
   "cell_type": "code",
   "execution_count": 102,
   "metadata": {
    "collapsed": false
   },
   "outputs": [
    {
     "data": {
      "text/plain": [
       "ID_FISC_LOG_DIFF\n",
       "29     1.5\n",
       "96     1.5\n",
       "282    1.5\n",
       "362    2.0\n",
       "422    2.0\n",
       "Name: Parts_fiscales_enfants, dtype: float64"
      ]
     },
     "execution_count": 102,
     "metadata": {},
     "output_type": "execute_result"
    }
   ],
   "source": [
    "result_dict[\"{}_child\".format(3)].Parts_fiscales_enfants.head()"
   ]
  },
  {
   "cell_type": "markdown",
   "metadata": {},
   "source": [
    "On concatène les tables avant de merger à fiscr (pour avoir ZIMPOM)."
   ]
  },
  {
   "cell_type": "code",
   "execution_count": 103,
   "metadata": {
    "collapsed": true
   },
   "outputs": [],
   "source": [
    "frames = result_dict\n",
    "df = pd.concat(result_dict)"
   ]
  },
  {
   "cell_type": "code",
   "execution_count": 104,
   "metadata": {
    "collapsed": true
   },
   "outputs": [],
   "source": [
    "gain_fiscal_au_pacs = df.Irpp_decote - df.Irpp_decote_pacs"
   ]
  },
  {
   "cell_type": "code",
   "execution_count": 105,
   "metadata": {
    "collapsed": true
   },
   "outputs": [],
   "source": [
    "df[\"Montant_gain_fiscal_au_pacs\"] = gain_fiscal_au_pacs\n",
    "df['Gain_fiscal_au_pacs'] = (gain_fiscal_au_pacs>10)\n",
    "df['Perte_fiscale_au_pacs'] = (gain_fiscal_au_pacs<-10)\n",
    "df['Neutre_au_pacs'] = (np.abs(gain_fiscal_au_pacs)<10)"
   ]
  },
  {
   "cell_type": "code",
   "execution_count": 106,
   "metadata": {
    "collapsed": true
   },
   "outputs": [],
   "source": [
    "gain_fiscal_ss_decote_au_pacs = df.Irpp_ac_plaf_qf - df.Irpp_ac_plaf_qf_pacs"
   ]
  },
  {
   "cell_type": "code",
   "execution_count": 107,
   "metadata": {
    "collapsed": false
   },
   "outputs": [
    {
     "data": {
      "text/plain": [
       "False    1\n",
       "dtype: float64"
      ]
     },
     "execution_count": 107,
     "metadata": {},
     "output_type": "execute_result"
    }
   ],
   "source": [
    "(gain_fiscal_ss_decote_au_pacs<-1).value_counts(normalize = True)"
   ]
  },
  {
   "cell_type": "markdown",
   "metadata": {},
   "source": [
    "Tout le monde gagne en se pacsant si on inclue pas la décote."
   ]
  },
  {
   "cell_type": "code",
   "execution_count": 108,
   "metadata": {
    "collapsed": false
   },
   "outputs": [
    {
     "name": "stdout",
     "output_type": "stream",
     "text": [
      "0.304871086609\n",
      "0.374635980416\n",
      "0.320492932974\n"
     ]
    }
   ],
   "source": [
    "print (np.abs(gain_fiscal_au_pacs)<1).value_counts(normalize = True)[True]\n",
    "print (gain_fiscal_au_pacs<-1).value_counts(normalize = True)[True]\n",
    "print (gain_fiscal_au_pacs>1).value_counts(normalize = True)[True]"
   ]
  },
  {
   "cell_type": "code",
   "execution_count": 109,
   "metadata": {
    "collapsed": false
   },
   "outputs": [
    {
     "name": "stdout",
     "output_type": "stream",
     "text": [
      "0.304871086609\n",
      "0.374635980416\n",
      "0.320492932974\n"
     ]
    }
   ],
   "source": [
    "print (np.abs(df.Montant_gain_fiscal_au_pacs)<1).value_counts(normalize = True)[True]\n",
    "print (df.Montant_gain_fiscal_au_pacs<-1).value_counts(normalize = True)[True]\n",
    "print (df.Montant_gain_fiscal_au_pacs>1).value_counts(normalize = True)[True]"
   ]
  },
  {
   "cell_type": "markdown",
   "metadata": {},
   "source": [
    "37% de perdants, et 31% de gagnants au mariage, 30% neutre."
   ]
  },
  {
   "cell_type": "markdown",
   "metadata": {},
   "source": [
    "#### Par rang d'enfant"
   ]
  },
  {
   "cell_type": "code",
   "execution_count": 110,
   "metadata": {
    "collapsed": false
   },
   "outputs": [],
   "source": [
    "\n",
    "df_table = pd.DataFrame()\n",
    "for child_number in range(1,6):\n",
    "    df_table.loc[child_number ,\"Neutre\"] = (np.abs(df.query(\"nb_enfant_total=={}\".format(child_number*2)).Montant_gain_fiscal_au_pacs)<1).value_counts(normalize = True)[True]\n",
    "    df_table.loc[child_number ,\"Gain\"] = (df.query(\"nb_enfant_total=={}\".format(child_number*2)).Montant_gain_fiscal_au_pacs>1).value_counts(normalize = True)[True]    \n",
    "    df_table.loc[child_number ,\"Perte\"] = (df.query(\"nb_enfant_total=={}\".format(child_number*2)).Montant_gain_fiscal_au_pacs<-1).value_counts(normalize = True)[True]"
   ]
  },
  {
   "cell_type": "code",
   "execution_count": 111,
   "metadata": {
    "collapsed": false
   },
   "outputs": [
    {
     "data": {
      "text/html": [
       "<div>\n",
       "<table border=\"1\" class=\"dataframe\">\n",
       "  <thead>\n",
       "    <tr style=\"text-align: right;\">\n",
       "      <th></th>\n",
       "      <th>Neutre</th>\n",
       "      <th>Gain</th>\n",
       "      <th>Perte</th>\n",
       "    </tr>\n",
       "  </thead>\n",
       "  <tbody>\n",
       "    <tr>\n",
       "      <th>1</th>\n",
       "      <td>0.235807</td>\n",
       "      <td>0.294579</td>\n",
       "      <td>0.469614</td>\n",
       "    </tr>\n",
       "    <tr>\n",
       "      <th>2</th>\n",
       "      <td>0.262590</td>\n",
       "      <td>0.317255</td>\n",
       "      <td>0.420155</td>\n",
       "    </tr>\n",
       "    <tr>\n",
       "      <th>3</th>\n",
       "      <td>0.435457</td>\n",
       "      <td>0.404390</td>\n",
       "      <td>0.160153</td>\n",
       "    </tr>\n",
       "    <tr>\n",
       "      <th>4</th>\n",
       "      <td>0.596862</td>\n",
       "      <td>0.360837</td>\n",
       "      <td>0.042301</td>\n",
       "    </tr>\n",
       "    <tr>\n",
       "      <th>5</th>\n",
       "      <td>0.721572</td>\n",
       "      <td>0.259242</td>\n",
       "      <td>0.019186</td>\n",
       "    </tr>\n",
       "  </tbody>\n",
       "</table>\n",
       "</div>"
      ],
      "text/plain": [
       "     Neutre      Gain     Perte\n",
       "1  0.235807  0.294579  0.469614\n",
       "2  0.262590  0.317255  0.420155\n",
       "3  0.435457  0.404390  0.160153\n",
       "4  0.596862  0.360837  0.042301\n",
       "5  0.721572  0.259242  0.019186"
      ]
     },
     "execution_count": 111,
     "metadata": {},
     "output_type": "execute_result"
    }
   ],
   "source": [
    "df_table"
   ]
  },
  {
   "cell_type": "code",
   "execution_count": 112,
   "metadata": {
    "collapsed": true
   },
   "outputs": [],
   "source": []
  },
  {
   "cell_type": "code",
   "execution_count": 112,
   "metadata": {
    "collapsed": false
   },
   "outputs": [
    {
     "data": {
      "text/plain": [
       "False    0.625364\n",
       "True     0.374636\n",
       "dtype: float64"
      ]
     },
     "execution_count": 112,
     "metadata": {},
     "output_type": "execute_result"
    }
   ],
   "source": [
    "(gain_fiscal_au_pacs<-1).value_counts(normalize = True)"
   ]
  },
  {
   "cell_type": "code",
   "execution_count": 113,
   "metadata": {
    "collapsed": false
   },
   "outputs": [
    {
     "data": {
      "text/plain": [
       "(-2000, 2000)"
      ]
     },
     "execution_count": 113,
     "metadata": {},
     "output_type": "execute_result"
    },
    {
     "data": {
      "image/png": "[encoded data removed]",
      "text/plain": [
       "<matplotlib.figure.Figure at 0x11ef23ba8>"
      ]
     },
     "metadata": {},
     "output_type": "display_data"
    }
   ],
   "source": [
    "(df.Irpp_ac_plaf_qf - df.Irpp_ac_plaf_qf_pacs).hist(bins = 400)\n",
    "plt.xlim(-2000,2000)"
   ]
  },
  {
   "cell_type": "code",
   "execution_count": 114,
   "metadata": {
    "collapsed": false
   },
   "outputs": [
    {
     "data": {
      "text/plain": [
       "<matplotlib.collections.LineCollection at 0xda2a55f8>"
      ]
     },
     "execution_count": 114,
     "metadata": {},
     "output_type": "execute_result"
    },
    {
     "data": {
      "image/png": "[encoded data removed]",
      "text/plain": [
       "<matplotlib.figure.Figure at 0x11fc1bc18>"
      ]
     },
     "metadata": {},
     "output_type": "display_data"
    }
   ],
   "source": [
    "gain_fiscal_au_pacs[(np.abs(gain_fiscal_au_pacs)>10)].hist(bins = 400)\n",
    "plt.xlim(-2000,2000)\n",
    "plt.title(\"Gain fiscal au pacs\"); plt.xlim(-600,2000); plt.vlines(0,0,25000, color = 'r', linewidth = 2)"
   ]
  },
  {
   "cell_type": "code",
   "execution_count": 115,
   "metadata": {
    "collapsed": false
   },
   "outputs": [
    {
     "data": {
      "text/plain": [
       "-508.00000000000074"
      ]
     },
     "execution_count": 115,
     "metadata": {},
     "output_type": "execute_result"
    }
   ],
   "source": [
    "df.Montant_gain_fiscal_au_pacs.min()"
   ]
  },
  {
   "cell_type": "code",
   "execution_count": 116,
   "metadata": {
    "collapsed": false
   },
   "outputs": [
    {
     "data": {
      "text/plain": [
       "ID_FISC_LOG_DIFF\n",
       "35679    5.0\n",
       "58546    5.5\n",
       "59874    5.0\n",
       "62304    5.0\n",
       "81116    5.0\n",
       "Name: Parts_fiscales_enfants, dtype: float64"
      ]
     },
     "execution_count": 116,
     "metadata": {},
     "output_type": "execute_result"
    }
   ],
   "source": [
    "result.Parts_fiscales_enfants.head()"
   ]
  },
  {
   "cell_type": "code",
   "execution_count": 117,
   "metadata": {
    "collapsed": false
   },
   "outputs": [
    {
     "name": "stdout",
     "output_type": "stream",
     "text": [
      "True    173411\n",
      "dtype: int64\n",
      "False    0.571561\n",
      "True     0.428439\n",
      "dtype: float64\n"
     ]
    }
   ],
   "source": [
    "print ((df.Irpp_ac_qf-df.Irpp_ac_qf_pacs)>-1).value_counts()\n",
    "print  (np.abs(df.Irpp_ac_qf-df.Irpp_ac_qf_pacs)<1).value_counts(normalize = True)\n"
   ]
  },
  {
   "cell_type": "markdown",
   "metadata": {},
   "source": [
    "Personne ne paye plus d'impot avant plafonnement et décote en se pacsant que sans se pacser.\n",
    "\n",
    "Environ 43% payeraient le même impot."
   ]
  },
  {
   "cell_type": "code",
   "execution_count": 118,
   "metadata": {
    "collapsed": false
   },
   "outputs": [
    {
     "name": "stdout",
     "output_type": "stream",
     "text": [
      "True     0.580724\n",
      "False    0.419276\n",
      "dtype: float64\n"
     ]
    }
   ],
   "source": [
    "print ((df.Irpp_ac_plaf_qf-df.Irpp_ac_plaf_qf_pacs)> 10).value_counts(normalize = True)"
   ]
  },
  {
   "cell_type": "markdown",
   "metadata": {},
   "source": [
    "Par contre 7.4% paieraient plus d'impot à cause du plafonnement du QF."
   ]
  },
  {
   "cell_type": "code",
   "execution_count": 119,
   "metadata": {
    "collapsed": false
   },
   "outputs": [
    {
     "data": {
      "text/plain": [
       "Index([u'ANAIS', u'AN_FISC_x', u'AN_FISC_y', u'Age', u'Age_mere', u'Age_pere',\n",
       "       u'Allocation_mere', u'Allocation_pere', u'CNE1', u'COM_NSCAT',\n",
       "       u'COM_SCAT1', u'COM_SCAT2', u'DACOED', u'DACOEP', u'Decote',\n",
       "       u'Decote_pacs', u'Fiscal_loss', u'Gain_fiscal_max',\n",
       "       u'Gain_fiscal_max_in_ratio', u'ID_DIFF', u'ID_FISC_FOY_DIFF',\n",
       "       u'I_FISC_LOGEMENT', u'I_FISC_REVENU', u'Irpp_ac_plaf_qf',\n",
       "       u'Irpp_ac_plaf_qf_mere', u'Irpp_ac_plaf_qf_pacs',\n",
       "       u'Irpp_ac_plaf_qf_pere', u'Irpp_ac_qf', u'Irpp_ac_qf_pacs',\n",
       "       u'Irpp_decote', u'Irpp_decote_allocation_1',\n",
       "       u'Irpp_decote_allocation_2', u'Irpp_decote_allocation_3',\n",
       "       u'Irpp_decote_allocation_4', u'Irpp_decote_allocation_5',\n",
       "       u'Irpp_decote_allocation_6', u'Irpp_decote_allocation_7',\n",
       "       u'Irpp_decote_allocation_8', u'Irpp_decote_allocation_9',\n",
       "       u'Irpp_decote_mere', u'Irpp_decote_pacs', u'Irpp_decote_pere',\n",
       "       u'Irpp_decote_seuil_prel_allocation_1',\n",
       "       u'Irpp_decote_seuil_prel_allocation_2',\n",
       "       u'Irpp_decote_seuil_prel_allocation_3',\n",
       "       u'Irpp_decote_seuil_prel_allocation_4',\n",
       "       u'Irpp_decote_seuil_prel_allocation_5',\n",
       "       u'Irpp_decote_seuil_prel_allocation_6',\n",
       "       u'Irpp_decote_seuil_prel_allocation_7',\n",
       "       u'Irpp_decote_seuil_prel_allocation_8',\n",
       "       u'Irpp_decote_seuil_prel_allocation_9', u'Irpp_reduction_impot_etudes',\n",
       "       u'Irpp_reduction_impot_etudes_seuil', u'Irpp_seuil_prelevement',\n",
       "       u'Irpp_ss_qf', u'JNAIS', u'MNAIS', u'Nb_enf_allocation_1',\n",
       "       u'Nb_enf_allocation_2', u'Nb_enf_allocation_3', u'Nb_enf_allocation_4',\n",
       "       u'Nb_enf_allocation_5', u'Nb_enf_allocation_6', u'Nb_enf_allocation_7',\n",
       "       u'Nb_enf_allocation_8', u'Nb_enf_allocation_9', u'Nb_enfants',\n",
       "       u'Not_touched_by_decote', u'POIDS_FIDELI', u'Parts_fiscales_enfants',\n",
       "       u'Parts_fiscales_enfants_pacs', u'Ppe', u'REV_PRINC',\n",
       "       u'Reduction_impot_pour_etudes', u'Rni', u'Rni_mere', u'Rni_pere',\n",
       "       u'SEXE', u'Salaire_mere', u'Salaire_pere', u'TYPE_DECL', u'TYPE_PRES',\n",
       "       u'T_CHARGE', u'YALRI', u'YBICI', u'YBNCI', u'YCHOI', u'YRAGI', u'YRSTI',\n",
       "       u'YSALI', u'nb_enfant_total', u'result_max_allocation',\n",
       "       u'result_min_allocation', u'Montant_gain_fiscal_au_pacs',\n",
       "       u'Gain_fiscal_au_pacs', u'Perte_fiscale_au_pacs', u'Neutre_au_pacs'],\n",
       "      dtype='object')"
      ]
     },
     "execution_count": 119,
     "metadata": {},
     "output_type": "execute_result"
    }
   ],
   "source": [
    "df.columns"
   ]
  },
  {
   "cell_type": "code",
   "execution_count": 120,
   "metadata": {
    "collapsed": false
   },
   "outputs": [],
   "source": [
    "df[\"Plafond_qf\"] = (df.Irpp_ac_qf< df.Irpp_ac_plaf_qf)"
   ]
  },
  {
   "cell_type": "code",
   "execution_count": 121,
   "metadata": {
    "collapsed": false
   },
   "outputs": [
    {
     "name": "stdout",
     "output_type": "stream",
     "text": [
      "[ 2673.5  1446.8]\n",
      "4120.3\n",
      "[ 4120.3]\n",
      "4120.3\n",
      "hello [ 4120.3  1446.8]\n",
      "[ 4045.5   1310.72]\n",
      "[ 5350.9   1310.72]\n"
     ]
    }
   ],
   "source": [
    "rates = np.array([0,0.055, 0.14, 0.3, 0.41, 0.45]) #To modify for specific year 2013\n",
    "thresholds = [0,6011, 11991, 26631, 71397, 151200]  #To modify for specific year 2013\n",
    "\n",
    "\n",
    "calcul =  ir.calc([(33559/1.5),(19976)], thresholds, rates)*np.array([1.5,1]); print calcul\n",
    "print calcul.sum()\n",
    "calcul =  ir.calc([((33559+19976)/2.5)], thresholds, rates)*np.array([2.5]); print calcul\n",
    "print calcul.sum()\n",
    "print \"hello\", ir.calc([(33559+19976)/2.5,(19976)], thresholds, rates)*np.array([2.5,1])\n",
    "print ir.ir_avec_qf(np.array([41539,19004]), np.array([0.5,0]))\n",
    "print ir.ir_avec_plafond_qf_enfant(np.array([41539,19004]), np.array([0.5,0]))"
   ]
  },
  {
   "cell_type": "code",
   "execution_count": 122,
   "metadata": {
    "collapsed": false
   },
   "outputs": [
    {
     "name": "stdout",
     "output_type": "stream",
     "text": [
      "False    0.951373\n",
      "True     0.048627\n",
      "dtype: float64\n",
      "False    15280\n",
      "True       781\n",
      "dtype: int64\n"
     ]
    }
   ],
   "source": [
    "print df[df.Irpp_ac_plaf_qf_pacs>df.Irpp_ac_plaf_qf].Plafond_qf.value_counts(normalize = True)\n",
    "print df[df.Irpp_ac_plaf_qf_pacs>df.Irpp_ac_plaf_qf].Plafond_qf.value_counts(normalize = False)"
   ]
  },
  {
   "cell_type": "code",
   "execution_count": 123,
   "metadata": {
    "collapsed": false
   },
   "outputs": [
    {
     "data": {
      "text/html": [
       "<div>\n",
       "<table border=\"1\" class=\"dataframe\">\n",
       "  <thead>\n",
       "    <tr style=\"text-align: right;\">\n",
       "      <th></th>\n",
       "      <th></th>\n",
       "      <th>Rni</th>\n",
       "      <th>Rni_mere</th>\n",
       "      <th>Rni_pere</th>\n",
       "      <th>Allocation_mere</th>\n",
       "      <th>Parts_fiscales_enfants</th>\n",
       "      <th>Irpp_ac_plaf_qf_pere</th>\n",
       "      <th>Irpp_ac_plaf_qf_mere</th>\n",
       "      <th>Irpp_ac_plaf_qf</th>\n",
       "      <th>Irpp_ac_qf_pacs</th>\n",
       "      <th>Irpp_ac_plaf_qf_pacs</th>\n",
       "    </tr>\n",
       "    <tr>\n",
       "      <th></th>\n",
       "      <th>ID_FISC_LOG_DIFF</th>\n",
       "      <th></th>\n",
       "      <th></th>\n",
       "      <th></th>\n",
       "      <th></th>\n",
       "      <th></th>\n",
       "      <th></th>\n",
       "      <th></th>\n",
       "      <th></th>\n",
       "      <th></th>\n",
       "      <th></th>\n",
       "    </tr>\n",
       "  </thead>\n",
       "  <tbody>\n",
       "  </tbody>\n",
       "</table>\n",
       "</div>"
      ],
      "text/plain": [
       "Empty DataFrame\n",
       "Columns: [Rni, Rni_mere, Rni_pere, Allocation_mere, Parts_fiscales_enfants, Irpp_ac_plaf_qf_pere, Irpp_ac_plaf_qf_mere, Irpp_ac_plaf_qf, Irpp_ac_qf_pacs, Irpp_ac_plaf_qf_pacs]\n",
       "Index: []"
      ]
     },
     "execution_count": 123,
     "metadata": {},
     "output_type": "execute_result"
    }
   ],
   "source": [
    "df[((df.Irpp_ac_plaf_qf_pacs-df.Irpp_ac_plaf_qf)>1)&(~df.Plafond_qf)][[\"Rni\",\"Rni_mere\", \"Rni_pere\",u'Allocation_mere', \"Parts_fiscales_enfants\",\n",
    "                                                u'Irpp_ac_plaf_qf_pere', u\"Irpp_ac_plaf_qf_mere\", \"Irpp_ac_plaf_qf\", \"Irpp_ac_qf_pacs\", \"Irpp_ac_plaf_qf_pacs\"]]"
   ]
  },
  {
   "cell_type": "code",
   "execution_count": 124,
   "metadata": {
    "collapsed": false
   },
   "outputs": [],
   "source": [
    "# df[[\"Irpp_decote_mere\",\"Irpp_decote_pere\",\"Decote\", \"Irpp_decote\", \"Irpp_decote_pacs\",\"Decote_pacs\",\"result_min_allocation\",\n",
    "#                               \"Montant_gain_fiscal_au_pacs\"]]"
   ]
  },
  {
   "cell_type": "code",
   "execution_count": 125,
   "metadata": {
    "collapsed": false
   },
   "outputs": [],
   "source": [
    "#df.head()"
   ]
  },
  {
   "cell_type": "code",
   "execution_count": 126,
   "metadata": {
    "collapsed": false
   },
   "outputs": [
    {
     "name": "stdout",
     "output_type": "stream",
     "text": [
      "True     122017\n",
      "False     51394\n",
      "dtype: int64\n",
      "False    150200\n",
      "True      23211\n",
      "dtype: int64\n"
     ]
    }
   ],
   "source": [
    "print (df.result_min_allocation == df.Irpp_decote).value_counts()\n",
    "print (df.result_max_allocation == df.result_min_allocation).value_counts()"
   ]
  },
  {
   "cell_type": "code",
   "execution_count": 127,
   "metadata": {
    "collapsed": false
   },
   "outputs": [
    {
     "name": "stdout",
     "output_type": "stream",
     "text": [
      "True     0.703629\n",
      "False    0.296371\n",
      "dtype: float64\n",
      "False    0.86615\n",
      "True     0.13385\n",
      "dtype: float64\n"
     ]
    }
   ],
   "source": [
    "print (df.result_min_allocation == df.Irpp_decote).value_counts(normalize = True)\n",
    "print (df.result_max_allocation == df.result_min_allocation).value_counts(normalize = True)"
   ]
  },
  {
   "cell_type": "code",
   "execution_count": 128,
   "metadata": {
    "collapsed": false
   },
   "outputs": [],
   "source": [
    "df[\"Gain_fiscal_max_1\"] = ((df.Gain_fiscal_max>0)&(df.Gain_fiscal_max<= 1)).astype('int')\n",
    "df[\"Gain_fiscal_max_50\"] = ((df.Gain_fiscal_max>1)&(df.Gain_fiscal_max<= 50)).astype('int')\n",
    "df[\"Gain_fiscal_max_100\"] = ((df.Gain_fiscal_max> 50)&(df.Gain_fiscal_max <= 100)).astype('int')\n",
    "df[\"Gain_fiscal_max_200\"] = ((df.Gain_fiscal_max> 100)&(df.Gain_fiscal_max <= 200)).astype('int')\n",
    "\n",
    "df[\"Gain_fiscal_max_300\"] = ((df.Gain_fiscal_max> 200)&(df.Gain_fiscal_max <= 300)).astype('int')\n",
    "df[\"Gain_fiscal_max_over_300\"] = ((df.Gain_fiscal_max > 300)).astype('int')"
   ]
  },
  {
   "cell_type": "code",
   "execution_count": 129,
   "metadata": {
    "collapsed": false
   },
   "outputs": [],
   "source": [
    "#pd.crosstab()"
   ]
  },
  {
   "cell_type": "code",
   "execution_count": 130,
   "metadata": {
    "collapsed": true
   },
   "outputs": [],
   "source": [
    "df[\"Do_not_optimize\"] = (df.result_min_allocation != df.Irpp_decote)"
   ]
  },
  {
   "cell_type": "code",
   "execution_count": 131,
   "metadata": {
    "collapsed": true
   },
   "outputs": [],
   "source": []
  },
  {
   "cell_type": "code",
   "execution_count": 131,
   "metadata": {
    "collapsed": true
   },
   "outputs": [],
   "source": [
    "df[\"Do_not_optimize_5_euros\"] = np.abs(df.result_min_allocation - df.Irpp_decote)>5\n",
    "df[\"Do_not_optimize_10_euros\"] = np.abs(df.result_min_allocation - df.Irpp_decote)>10\n",
    "df[\"Do_not_optimize_20_euros\"] = np.abs(df.result_min_allocation - df.Irpp_decote)>20\n",
    "df[\"Do_not_optimize_50_euros\"] = np.abs(df.result_min_allocation - df.Irpp_decote)>50\n",
    "df[\"Do_not_optimize_100_euros\"] = np.abs(df.result_min_allocation - df.Irpp_decote)>100"
   ]
  },
  {
   "cell_type": "code",
   "execution_count": 132,
   "metadata": {
    "collapsed": false
   },
   "outputs": [],
   "source": [
    "optimize_path = (u\"./Pickle/optimize/Do_not_optimize_rev_{}.p\".format(year))"
   ]
  },
  {
   "cell_type": "code",
   "execution_count": 133,
   "metadata": {
    "collapsed": false
   },
   "outputs": [],
   "source": [
    "pickle.dump(df[df.Do_not_optimize_5_euros].reset_index().ID_FISC_LOG_DIFF, \n",
    "            open(optimize_path, 'wb'))"
   ]
  },
  {
   "cell_type": "code",
   "execution_count": 134,
   "metadata": {
    "collapsed": false
   },
   "outputs": [
    {
     "name": "stdout",
     "output_type": "stream",
     "text": [
      "False    0.703629\n",
      "True     0.296371\n",
      "dtype: float64\n",
      "False    0.710405\n",
      "True     0.289595\n",
      "dtype: float64\n",
      "False    0.714061\n",
      "True     0.285939\n",
      "dtype: float64\n",
      "False    0.721373\n",
      "True     0.278627\n",
      "dtype: float64\n",
      "False    0.741026\n",
      "True     0.258974\n",
      "dtype: float64\n",
      "False    0.773002\n",
      "True     0.226998\n",
      "dtype: float64\n"
     ]
    }
   ],
   "source": [
    "print df.Do_not_optimize.value_counts(normalize=True)\n",
    "print df.Do_not_optimize_5_euros.value_counts(normalize=True)\n",
    "print df.Do_not_optimize_10_euros.value_counts(normalize=True)\n",
    "print df.Do_not_optimize_20_euros.value_counts(normalize=True)\n",
    "print df.Do_not_optimize_50_euros.value_counts(normalize=True)\n",
    "print df.Do_not_optimize_100_euros.value_counts(normalize=True)"
   ]
  },
  {
   "cell_type": "markdown",
   "metadata": {},
   "source": [
    "#### Biologic"
   ]
  },
  {
   "cell_type": "code",
   "execution_count": 135,
   "metadata": {
    "collapsed": false
   },
   "outputs": [],
   "source": [
    "path = (u\"./Pickle/biologic/\")\n",
    "biologic = pickle.load(open(path+\"biologic_households2013.p\", 'rb'))"
   ]
  },
  {
   "cell_type": "code",
   "execution_count": 136,
   "metadata": {
    "collapsed": true
   },
   "outputs": [],
   "source": [
    "df2 = df.reset_index()\n",
    "df2 = df2[df2.ID_FISC_LOG_DIFF.isin(biologic)]"
   ]
  },
  {
   "cell_type": "code",
   "execution_count": 137,
   "metadata": {
    "collapsed": false
   },
   "outputs": [
    {
     "name": "stdout",
     "output_type": "stream",
     "text": [
      "False    0.751376\n",
      "True     0.248624\n",
      "dtype: float64\n",
      "False    0.757969\n",
      "True     0.242031\n",
      "dtype: float64\n",
      "False    0.761982\n",
      "True     0.238018\n",
      "dtype: float64\n",
      "False    0.770524\n",
      "True     0.229476\n",
      "dtype: float64\n",
      "False    0.790667\n",
      "True     0.209333\n",
      "dtype: float64\n",
      "False    0.823957\n",
      "True     0.176043\n",
      "dtype: float64\n"
     ]
    }
   ],
   "source": [
    "print df2.Do_not_optimize.value_counts(normalize=True)\n",
    "print df2.Do_not_optimize_5_euros.value_counts(normalize=True)\n",
    "print df2.Do_not_optimize_10_euros.value_counts(normalize=True)\n",
    "print df2.Do_not_optimize_20_euros.value_counts(normalize=True)\n",
    "print df2.Do_not_optimize_50_euros.value_counts(normalize=True)\n",
    "print df2.Do_not_optimize_100_euros.value_counts(normalize=True)"
   ]
  },
  {
   "cell_type": "code",
   "execution_count": 138,
   "metadata": {
    "collapsed": false
   },
   "outputs": [],
   "source": [
    "from scipy import stats"
   ]
  },
  {
   "cell_type": "code",
   "execution_count": 139,
   "metadata": {
    "collapsed": false
   },
   "outputs": [
    {
     "data": {
      "text/plain": [
       "Ttest_indResult(statistic=21.220947239541868, pvalue=7.6638163855217121e-100)"
      ]
     },
     "execution_count": 139,
     "metadata": {},
     "output_type": "execute_result"
    }
   ],
   "source": [
    "stats.ttest_ind(df.Do_not_optimize, df2.Do_not_optimize)"
   ]
  },
  {
   "cell_type": "code",
   "execution_count": 140,
   "metadata": {
    "collapsed": true
   },
   "outputs": [],
   "source": [
    "df[\"Do_not_optimize_0_1_prct_income_share\"] =  (np.abs(df.result_min_allocation - df.Irpp_decote)/df.Rni)>0.001\n",
    "df[\"Do_not_optimize_0_5_prct_income_share\"] =  (np.abs(df.result_min_allocation - df.Irpp_decote)/df.Rni)>0.005\n",
    "df[\"Do_not_optimize_1_prct_income_share\"] =  (np.abs(df.result_min_allocation - df.Irpp_decote)/df.Rni)>0.01\n",
    "df[\"Do_not_optimize_2_prct_income_share\"] =  (np.abs(df.result_min_allocation - df.Irpp_decote)/df.Rni)>0.02\n",
    "df[\"Do_not_optimize_5_prct_income_share\"] =  (np.abs(df.result_min_allocation - df.Irpp_decote)/df.Rni)>0.05"
   ]
  },
  {
   "cell_type": "code",
   "execution_count": 141,
   "metadata": {
    "collapsed": false
   },
   "outputs": [
    {
     "name": "stdout",
     "output_type": "stream",
     "text": [
      "False    0.733402\n",
      "True     0.266598\n",
      "dtype: float64\n",
      "False    0.819366\n",
      "True     0.180634\n",
      "dtype: float64\n",
      "False    0.870643\n",
      "True     0.129357\n",
      "dtype: float64\n",
      "False    0.930673\n",
      "True     0.069327\n",
      "dtype: float64\n",
      "False    0.991535\n",
      "True     0.008465\n",
      "dtype: float64\n"
     ]
    }
   ],
   "source": [
    "print df.Do_not_optimize_0_1_prct_income_share.value_counts(normalize = True)\n",
    "print df.Do_not_optimize_0_5_prct_income_share.value_counts(normalize = True)\n",
    "print df.Do_not_optimize_1_prct_income_share.value_counts(normalize = True)\n",
    "print df.Do_not_optimize_2_prct_income_share.value_counts(normalize = True)\n",
    "print df.Do_not_optimize_5_prct_income_share.value_counts(normalize = True)"
   ]
  },
  {
   "cell_type": "code",
   "execution_count": 142,
   "metadata": {
    "collapsed": true
   },
   "outputs": [],
   "source": [
    "df[\"Do_not_optimize_95_prct_tax_amount\"] =  ((df.Irpp_decote - df.result_min_allocation)/df.Irpp_decote)>0.95\n",
    "df[\"Do_not_optimize_90_prct_tax_amount\"] =  (np.abs(df.result_min_allocation - df.Irpp_decote)/df.Irpp_decote)>0.9\n",
    "df[\"Do_not_optimize_50_prct_tax_amount\"] =  ((df.Irpp_decote - df.result_min_allocation)/df.Irpp_decote)>0.50\n",
    "df[\"Do_not_optimize_5_prct_tax_amount\"] = ((df.Irpp_decote - df.result_min_allocation)/df.Irpp_decote)>0.05"
   ]
  },
  {
   "cell_type": "code",
   "execution_count": 143,
   "metadata": {
    "collapsed": true
   },
   "outputs": [],
   "source": [
    "df[\"Optimize_10_prct_tax_amount\"] =  (np.abs(df.result_min_allocation - df.Irpp_decote)/df.Irpp_decote)<0.9"
   ]
  },
  {
   "cell_type": "code",
   "execution_count": 144,
   "metadata": {
    "collapsed": false
   },
   "outputs": [
    {
     "data": {
      "text/plain": [
       "True    1\n",
       "dtype: float64"
      ]
     },
     "execution_count": 144,
     "metadata": {},
     "output_type": "execute_result"
    }
   ],
   "source": [
    "(df.result_min_allocation<=(df.Irpp_decote)).value_counts(normalize = True)"
   ]
  },
  {
   "cell_type": "code",
   "execution_count": 145,
   "metadata": {
    "collapsed": false
   },
   "outputs": [
    {
     "data": {
      "text/plain": [
       "0.1"
      ]
     },
     "execution_count": 145,
     "metadata": {},
     "output_type": "execute_result"
    }
   ],
   "source": [
    "(100-90)/100"
   ]
  },
  {
   "cell_type": "code",
   "execution_count": 146,
   "metadata": {
    "collapsed": false
   },
   "outputs": [
    {
     "data": {
      "text/plain": [
       "False    0.93561\n",
       "True     0.06439\n",
       "dtype: float64"
      ]
     },
     "execution_count": 146,
     "metadata": {},
     "output_type": "execute_result"
    }
   ],
   "source": [
    "df.Do_not_optimize_90_prct_tax_amount.value_counts(normalize = True)"
   ]
  },
  {
   "cell_type": "code",
   "execution_count": 147,
   "metadata": {
    "collapsed": false
   },
   "outputs": [
    {
     "data": {
      "text/plain": [
       "True     0.682413\n",
       "False    0.317587\n",
       "dtype: float64"
      ]
     },
     "execution_count": 147,
     "metadata": {},
     "output_type": "execute_result"
    }
   ],
   "source": [
    "df.Optimize_10_prct_tax_amount.value_counts(normalize = True)"
   ]
  },
  {
   "cell_type": "code",
   "execution_count": 148,
   "metadata": {
    "collapsed": false
   },
   "outputs": [
    {
     "data": {
      "text/plain": [
       "0.040354767184035474"
      ]
     },
     "execution_count": 148,
     "metadata": {},
     "output_type": "execute_result"
    }
   ],
   "source": [
    " (np.abs(2164-2255)/2255)"
   ]
  },
  {
   "cell_type": "code",
   "execution_count": 149,
   "metadata": {
    "collapsed": false
   },
   "outputs": [],
   "source": [
    "#df[[\"Do_not_optimize_90_prct_tax_amount\",\"Optimize_10_prct_tax_amount\", \"Irpp_decote\", \"result_min_allocation\" ]]"
   ]
  },
  {
   "cell_type": "code",
   "execution_count": 150,
   "metadata": {
    "collapsed": true
   },
   "outputs": [],
   "source": [
    "hdf_path = (\"./Generated_hdf/optimizers.h5\")"
   ]
  },
  {
   "cell_type": "code",
   "execution_count": 151,
   "metadata": {
    "collapsed": false
   },
   "outputs": [],
   "source": [
    "df.to_hdf(hdf_path, \"optimizers_{}\".format(year))"
   ]
  },
  {
   "cell_type": "code",
   "execution_count": 152,
   "metadata": {
    "collapsed": true
   },
   "outputs": [],
   "source": []
  },
  {
   "cell_type": "code",
   "execution_count": 152,
   "metadata": {
    "collapsed": false
   },
   "outputs": [
    {
     "data": {
      "text/plain": [
       "2013"
      ]
     },
     "execution_count": 152,
     "metadata": {},
     "output_type": "execute_result"
    }
   ],
   "source": [
    "year"
   ]
  },
  {
   "cell_type": "code",
   "execution_count": 153,
   "metadata": {
    "collapsed": false
   },
   "outputs": [
    {
     "name": "stdout",
     "output_type": "stream",
     "text": [
      "2019-04-26 17:46:21.390000\n"
     ]
    }
   ],
   "source": [
    "import datetime\n",
    "print datetime.datetime.now()"
   ]
  },
  {
   "cell_type": "code",
   "execution_count": 154,
   "metadata": {
    "collapsed": false
   },
   "outputs": [],
   "source": []
  },
  {
   "cell_type": "code",
   "execution_count": 154,
   "metadata": {
    "collapsed": false
   },
   "outputs": [],
   "source": [
    "df.reset_index(inplace = True)"
   ]
  },
  {
   "cell_type": "code",
   "execution_count": 155,
   "metadata": {
    "collapsed": true
   },
   "outputs": [],
   "source": [
    "keep_id_fisc_log_diff = df.ID_FISC_LOG_DIFF"
   ]
  },
  {
   "cell_type": "code",
   "execution_count": 156,
   "metadata": {
    "collapsed": false
   },
   "outputs": [],
   "source": [
    "df_fiscr = load_fisc_r_by_year(year)\n",
    "df_fiscr = df_fiscr[df_fiscr.ID_FISC_LOG_DIFF.isin(keep_id_fisc_log_diff)][['ID_FISC_LOG_DIFF', \"ZIMPOM\", \"ZIMPOM14\"]]"
   ]
  },
  {
   "cell_type": "code",
   "execution_count": 157,
   "metadata": {
    "collapsed": true
   },
   "outputs": [],
   "source": [
    "df_scatter = pd.merge(df, df_fiscr, on = \"ID_FISC_LOG_DIFF\")"
   ]
  },
  {
   "cell_type": "code",
   "execution_count": 158,
   "metadata": {
    "collapsed": true
   },
   "outputs": [],
   "source": []
  },
  {
   "cell_type": "code",
   "execution_count": 158,
   "metadata": {
    "collapsed": false
   },
   "outputs": [
    {
     "data": {
      "text/plain": [
       "(0, 1500)"
      ]
     },
     "execution_count": 158,
     "metadata": {},
     "output_type": "execute_result"
    },
    {
     "data": {
      "image/png": "[encoded data removed]",
      "text/plain": [
       "<matplotlib.figure.Figure at 0x11ef0ce80>"
      ]
     },
     "metadata": {},
     "output_type": "display_data"
    }
   ],
   "source": [
    "euros_threshold = 100\n",
    "df_scatter = df_scatter.query(\"(ZIMPOM>{}) & (Irpp_decote>{})\".format(euros_threshold, euros_threshold))\n",
    "plt.scatter(df_scatter.ZIMPOM, df_scatter.Irpp_decote,  s = 0.01)\n",
    "plt.xlim((0,1500))\n",
    "plt.ylim((0,1500))"
   ]
  },
  {
   "cell_type": "code",
   "execution_count": 159,
   "metadata": {
    "collapsed": false
   },
   "outputs": [
    {
     "data": {
      "text/plain": [
       "(0.9, 1.1)"
      ]
     },
     "execution_count": 159,
     "metadata": {},
     "output_type": "execute_result"
    },
    {
     "data": {
      "image/png": "[encoded data removed]",
      "text/plain": [
       "<matplotlib.figure.Figure at 0x120dd89e8>"
      ]
     },
     "metadata": {},
     "output_type": "display_data"
    }
   ],
   "source": [
    "ratio = df_scatter.Irpp_decote/df_scatter.ZIMPOM\n",
    "ratio  = ratio[ratio<2]\n",
    "plt.hist(ratio, bins = 1000)\n",
    "plt.xlim(0.9, 1.1)"
   ]
  },
  {
   "cell_type": "code",
   "execution_count": 160,
   "metadata": {
    "collapsed": false
   },
   "outputs": [
    {
     "data": {
      "text/plain": [
       "9021"
      ]
     },
     "execution_count": 160,
     "metadata": {},
     "output_type": "execute_result"
    }
   ],
   "source": [
    "df_scatter[\"ratio\"] = ratio\n",
    "df_scatter.query(\"0.998<ratio<1.002\").shape[0]"
   ]
  },
  {
   "cell_type": "code",
   "execution_count": 161,
   "metadata": {
    "collapsed": false
   },
   "outputs": [
    {
     "data": {
      "text/plain": [
       "(85, 125)"
      ]
     },
     "execution_count": 161,
     "metadata": {},
     "output_type": "execute_result"
    }
   ],
   "source": [
    "df_scatter.query(\"(ZIMPOM == Irpp_decote)\").shape"
   ]
  },
  {
   "cell_type": "code",
   "execution_count": 162,
   "metadata": {
    "collapsed": false
   },
   "outputs": [],
   "source": [
    "biologic_path = (u\"./Pickle/biologic/biologic_households{}.p\".format(year))\n",
    "biologic = pickle.load( \n",
    "        open(biologic_path, 'rb'))"
   ]
  },
  {
   "cell_type": "code",
   "execution_count": 163,
   "metadata": {
    "collapsed": true
   },
   "outputs": [],
   "source": [
    "df_scatter = df_scatter[df_scatter.ID_FISC_LOG_DIFF.isin(biologic)]\n"
   ]
  },
  {
   "cell_type": "code",
   "execution_count": 164,
   "metadata": {
    "collapsed": false
   },
   "outputs": [
    {
     "data": {
      "text/plain": [
       "(0, 1500)"
      ]
     },
     "execution_count": 164,
     "metadata": {},
     "output_type": "execute_result"
    },
    {
     "data": {
      "image/png": "[encoded data removed]",
      "text/plain": [
       "<matplotlib.figure.Figure at 0x12100c358>"
      ]
     },
     "metadata": {},
     "output_type": "display_data"
    }
   ],
   "source": [
    "euros_threshold = 100\n",
    "df_scatter = df_scatter.query(\"(ZIMPOM>{}) & (Irpp_decote>{})\".format(euros_threshold, euros_threshold))\n",
    "plt.scatter(df_scatter.ZIMPOM, df_scatter.Irpp_decote,  s = 0.05)\n",
    "plt.xlim((0,1500))\n",
    "plt.ylim((0,1500))"
   ]
  },
  {
   "cell_type": "code",
   "execution_count": 165,
   "metadata": {
    "collapsed": false
   },
   "outputs": [
    {
     "data": {
      "text/plain": [
       "(0.99, 1.01)"
      ]
     },
     "execution_count": 165,
     "metadata": {},
     "output_type": "execute_result"
    },
    {
     "data": {
      "image/png": "[encoded data removed]",
      "text/plain": [
       "<matplotlib.figure.Figure at 0x12100cdd8>"
      ]
     },
     "metadata": {},
     "output_type": "display_data"
    }
   ],
   "source": [
    "ratio = df_scatter.Irpp_decote/df_scatter.ZIMPOM\n",
    "ratio  = ratio[ratio<2]\n",
    "plt.hist(ratio.values, bins = 10000)\n",
    "plt.xlim(0.99, 1.01)"
   ]
  },
  {
   "cell_type": "code",
   "execution_count": 166,
   "metadata": {
    "collapsed": false
   },
   "outputs": [
    {
     "data": {
      "text/plain": [
       "(array([ 1.,  0.,  0., ...,  0.,  0.,  1.]),\n",
       " array([ 0.0276383 ,  0.02823543,  0.02883256, ...,  5.99771092,\n",
       "         5.99830805,  5.99890517]),\n",
       " <a list of 10000 Patch objects>)"
      ]
     },
     "execution_count": 166,
     "metadata": {},
     "output_type": "execute_result"
    },
    {
     "data": {
      "image/png": "[encoded data removed]",
      "text/plain": [
       "<matplotlib.figure.Figure at 0x11f499240>"
      ]
     },
     "metadata": {},
     "output_type": "display_data"
    }
   ],
   "source": [
    "ratio = df_scatter.Irpp_decote/df_scatter.ZIMPOM\n",
    "ratio  = ratio[ratio<6]\n",
    "plt.hist(ratio.values, bins = 10000)"
   ]
  },
  {
   "cell_type": "code",
   "execution_count": 167,
   "metadata": {
    "collapsed": false
   },
   "outputs": [
    {
     "data": {
      "text/plain": [
       "2686"
      ]
     },
     "execution_count": 167,
     "metadata": {},
     "output_type": "execute_result"
    }
   ],
   "source": [
    "df_scatter[\"ratio\"] = ratio\n",
    "df_scatter.query(\"0.998<ratio<1.002\").shape[0]"
   ]
  },
  {
   "cell_type": "code",
   "execution_count": 168,
   "metadata": {
    "collapsed": true
   },
   "outputs": [],
   "source": []
  },
  {
   "cell_type": "code",
   "execution_count": 168,
   "metadata": {
    "collapsed": true
   },
   "outputs": [],
   "source": []
  },
  {
   "cell_type": "markdown",
   "metadata": {},
   "source": [
    "Biologiques, payent de l'impôt, non touchés par la décote et peuvent optimiser"
   ]
  },
  {
   "cell_type": "code",
   "execution_count": 168,
   "metadata": {
    "collapsed": true
   },
   "outputs": [],
   "source": [
    "cant_optimize = (df_scatter.result_min_allocation == df_scatter.result_max_allocation)\n",
    "not_touched_by_decote = (df_scatter.Irpp_decote==df_scatter.Irpp_ac_plaf_qf)\n",
    "df_scatter = df_scatter[(~cant_optimize) & not_touched_by_decote ]"
   ]
  },
  {
   "cell_type": "code",
   "execution_count": 169,
   "metadata": {
    "collapsed": false
   },
   "outputs": [
    {
     "data": {
      "text/plain": [
       "(0, 1500)"
      ]
     },
     "execution_count": 169,
     "metadata": {},
     "output_type": "execute_result"
    },
    {
     "data": {
      "image/png": "[encoded data removed]",
      "text/plain": [
       "<matplotlib.figure.Figure at 0x30242c88>"
      ]
     },
     "metadata": {},
     "output_type": "display_data"
    }
   ],
   "source": [
    "\n",
    "euros_threshold = 100\n",
    "df_scatter = df_scatter.query(\"(ZIMPOM>{}) & (Irpp_decote>{})\".format(euros_threshold, euros_threshold))\n",
    "plt.scatter(df_scatter.ZIMPOM, df_scatter.Irpp_decote,  s = 0.05)\n",
    "plt.xlim((0,1500))\n",
    "plt.ylim((0,1500))"
   ]
  },
  {
   "cell_type": "code",
   "execution_count": 170,
   "metadata": {
    "collapsed": false
   },
   "outputs": [
    {
     "data": {
      "text/plain": [
       "(0.99, 1.01)"
      ]
     },
     "execution_count": 170,
     "metadata": {},
     "output_type": "execute_result"
    },
    {
     "data": {
      "image/png": "[encoded data removed]",
      "text/plain": [
       "<matplotlib.figure.Figure at 0x30a5add8>"
      ]
     },
     "metadata": {},
     "output_type": "display_data"
    }
   ],
   "source": [
    "ratio = df_scatter.Irpp_decote/df_scatter.ZIMPOM\n",
    "ratio  = ratio[ratio<2]\n",
    "plt.hist(ratio.values, bins = 10000)\n",
    "plt.xlim(0.99, 1.01)"
   ]
  },
  {
   "cell_type": "code",
   "execution_count": 171,
   "metadata": {
    "collapsed": false
   },
   "outputs": [
    {
     "data": {
      "text/plain": [
       "685"
      ]
     },
     "execution_count": 171,
     "metadata": {},
     "output_type": "execute_result"
    }
   ],
   "source": [
    "df_scatter[\"ratio\"] = ratio\n",
    "df_scatter.query(\"0.998<ratio<1.002\").shape[0]"
   ]
  },
  {
   "cell_type": "markdown",
   "metadata": {},
   "source": [
    "Sample C (no decote)."
   ]
  },
  {
   "cell_type": "code",
   "execution_count": 172,
   "metadata": {
    "collapsed": true
   },
   "outputs": [],
   "source": [
    "df_scatter = pd.merge(df, df_fiscr, on = \"ID_FISC_LOG_DIFF\")"
   ]
  },
  {
   "cell_type": "code",
   "execution_count": 173,
   "metadata": {
    "collapsed": true
   },
   "outputs": [],
   "source": [
    "cant_optimize = (df_scatter.result_min_allocation == df_scatter.result_max_allocation)\n",
    "not_touched_by_decote = (df_scatter.Irpp_decote==df_scatter.Irpp_ac_plaf_qf)\n",
    "df_scatter = df_scatter[(~cant_optimize) & not_touched_by_decote ]"
   ]
  },
  {
   "cell_type": "code",
   "execution_count": 174,
   "metadata": {
    "collapsed": false
   },
   "outputs": [
    {
     "data": {
      "text/plain": [
       "(0, 1500)"
      ]
     },
     "execution_count": 174,
     "metadata": {},
     "output_type": "execute_result"
    },
    {
     "data": {
      "image/png": "[encoded data removed]",
      "text/plain": [
       "<matplotlib.figure.Figure at 0x564f5438>"
      ]
     },
     "metadata": {},
     "output_type": "display_data"
    }
   ],
   "source": [
    "\n",
    "euros_threshold = 0\n",
    "df_scatter = df_scatter.query(\"(ZIMPOM>{}) & (Irpp_decote>{})\".format(euros_threshold, euros_threshold))\n",
    "plt.scatter(df_scatter.ZIMPOM, df_scatter.Irpp_decote,  s = 0.05)\n",
    "plt.xlim((0,1500))\n",
    "plt.ylim((0,1500))"
   ]
  },
  {
   "cell_type": "code",
   "execution_count": 175,
   "metadata": {
    "collapsed": false
   },
   "outputs": [
    {
     "data": {
      "text/plain": [
       "(0.99, 1.01)"
      ]
     },
     "execution_count": 175,
     "metadata": {},
     "output_type": "execute_result"
    },
    {
     "data": {
      "image/png": "[encoded data removed]",
      "text/plain": [
       "<matplotlib.figure.Figure at 0x120e95080>"
      ]
     },
     "metadata": {},
     "output_type": "display_data"
    }
   ],
   "source": [
    "ratio = df_scatter.Irpp_decote/df_scatter.ZIMPOM\n",
    "ratio  = ratio[ratio<2]\n",
    "plt.hist(ratio.values, bins = 10000)\n",
    "plt.xlim(0.99, 1.01)"
   ]
  },
  {
   "cell_type": "code",
   "execution_count": 176,
   "metadata": {
    "collapsed": false
   },
   "outputs": [
    {
     "data": {
      "text/plain": [
       "2459"
      ]
     },
     "execution_count": 176,
     "metadata": {},
     "output_type": "execute_result"
    }
   ],
   "source": [
    "df_scatter[\"ratio\"] = ratio\n",
    "df_scatter.query(\"0.998<ratio<1.002\").shape[0]"
   ]
  },
  {
   "cell_type": "code",
   "execution_count": 177,
   "metadata": {
    "collapsed": false
   },
   "outputs": [
    {
     "data": {
      "text/plain": [
       "2459"
      ]
     },
     "execution_count": 177,
     "metadata": {},
     "output_type": "execute_result"
    }
   ],
   "source": [
    "df_scatter.query(\"(Irpp_decote>100)& (0.998<ratio<1.002)\").shape[0]"
   ]
  },
  {
   "cell_type": "code",
   "execution_count": 178,
   "metadata": {
    "collapsed": false
   },
   "outputs": [],
   "source": [
    "df_scatter = pd.merge(df, df_fiscr, on = \"ID_FISC_LOG_DIFF\")\n",
    "df_scatter = df_scatter[df_scatter.ID_FISC_LOG_DIFF.isin(biologic)]"
   ]
  },
  {
   "cell_type": "code",
   "execution_count": 179,
   "metadata": {
    "collapsed": false
   },
   "outputs": [
    {
     "data": {
      "text/plain": [
       "False    46359\n",
       "True      5969\n",
       "dtype: int64"
      ]
     },
     "execution_count": 179,
     "metadata": {},
     "output_type": "execute_result"
    }
   ],
   "source": [
    "(\n",
    "(df_scatter.Irpp_decote - df_scatter.ZIMPOM) <df_scatter.Fiscal_loss).value_counts()"
   ]
  },
  {
   "cell_type": "code",
   "execution_count": 180,
   "metadata": {
    "collapsed": false
   },
   "outputs": [
    {
     "data": {
      "text/plain": [
       "False    46359\n",
       "True      5969\n",
       "dtype: int64"
      ]
     },
     "execution_count": 180,
     "metadata": {},
     "output_type": "execute_result"
    }
   ],
   "source": [
    "((df_scatter.Irpp_decote - df_scatter.ZIMPOM) <df_scatter.Fiscal_loss).value_counts()"
   ]
  },
  {
   "cell_type": "code",
   "execution_count": 181,
   "metadata": {
    "collapsed": false
   },
   "outputs": [
    {
     "data": {
      "text/plain": [
       "False    49441\n",
       "True      2887\n",
       "dtype: int64"
      ]
     },
     "execution_count": 181,
     "metadata": {},
     "output_type": "execute_result"
    }
   ],
   "source": [
    "(((df_scatter.Irpp_decote - df_scatter.ZIMPOM) <df_scatter.Fiscal_loss)& (df_scatter.Fiscal_loss>10)).value_counts()"
   ]
  },
  {
   "cell_type": "code",
   "execution_count": 182,
   "metadata": {
    "collapsed": false
   },
   "outputs": [
    {
     "data": {
      "text/plain": [
       "False    39873\n",
       "True     12455\n",
       "dtype: int64"
      ]
     },
     "execution_count": 182,
     "metadata": {},
     "output_type": "execute_result"
    }
   ],
   "source": [
    "(df_scatter.Fiscal_loss>10).value_counts()"
   ]
  },
  {
   "cell_type": "code",
   "execution_count": 183,
   "metadata": {
    "collapsed": false
   },
   "outputs": [
    {
     "data": {
      "text/plain": [
       "False    0.740942\n",
       "True     0.259058\n",
       "dtype: float64"
      ]
     },
     "execution_count": 183,
     "metadata": {},
     "output_type": "execute_result"
    }
   ],
   "source": [
    "(df_scatter.ZIMPOM<0).value_counts(normalize = True)"
   ]
  },
  {
   "cell_type": "code",
   "execution_count": 184,
   "metadata": {
    "collapsed": false
   },
   "outputs": [
    {
     "name": "stdout",
     "output_type": "stream",
     "text": [
      "('now: ', datetime.datetime(2019, 4, 26, 17, 47, 56, 889000))\n",
      "('execution_time: ', datetime.timedelta(0, 225, 604000))\n"
     ]
    }
   ],
   "source": [
    "stop_time = datetime.datetime.now(); print(\"now: \",stop_time);\n",
    "execution_time = stop_time - start_time; print(\"execution_time: \",execution_time)\n",
    "stop_time = start_time\n",
    "#clear  memory\n",
    "%reset -f "
   ]
  },
  {
   "cell_type": "code",
   "execution_count": 185,
   "metadata": {
    "collapsed": true
   },
   "outputs": [],
   "source": []
  }
 ],
 "metadata": {
  "kernelspec": {
   "display_name": "Python 3",
   "language": "python",
   "name": "python3"
  },
  "language_info": {
   "codemirror_mode": {
    "name": "ipython",
    "version": 3
   },
   "file_extension": ".py",
   "mimetype": "text/x-python",
   "name": "python",
   "nbconvert_exporter": "python",
   "pygments_lexer": "ipython3",
   "version": "3.7.2"
  }
 },
 "nbformat": 4,
 "nbformat_minor": 2
}
