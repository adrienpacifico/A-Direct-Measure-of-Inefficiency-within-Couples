{
 "cells": [
  {
   "cell_type": "code",
   "execution_count": 1,
   "metadata": {
    "collapsed": false
   },
   "outputs": [
    {
     "name": "stdout",
     "output_type": "stream",
     "text": [
      "2019-04-26 17:58:33.675000\n"
     ]
    }
   ],
   "source": [
    "import datetime\n",
    "start_time = datetime.datetime.now(); print(start_time)"
   ]
  },
  {
   "cell_type": "code",
   "execution_count": 2,
   "metadata": {
    "collapsed": false
   },
   "outputs": [],
   "source": [
    "%matplotlib inline"
   ]
  },
  {
   "cell_type": "code",
   "execution_count": 3,
   "metadata": {
    "collapsed": true
   },
   "outputs": [],
   "source": [
    "import matplotlib.pyplot as plt"
   ]
  },
  {
   "cell_type": "code",
   "execution_count": 4,
   "metadata": {
    "collapsed": true
   },
   "outputs": [],
   "source": [
    "import statsmodels.api as sm"
   ]
  },
  {
   "cell_type": "code",
   "execution_count": 5,
   "metadata": {
    "collapsed": true
   },
   "outputs": [],
   "source": [
    "df = sm.datasets.anes96.load_pandas().data"
   ]
  },
  {
   "cell_type": "code",
   "execution_count": 6,
   "metadata": {
    "collapsed": false
   },
   "outputs": [],
   "source": [
    "from __future__ import division\n",
    "import pandas as pd ; pd.set_option(\"display.max_columns\",200)\n",
    "import pickle\n",
    "import numpy as np\n",
    "import string\n",
    "import sys"
   ]
  },
  {
   "cell_type": "code",
   "execution_count": 7,
   "metadata": {
    "collapsed": false
   },
   "outputs": [],
   "source": [
    "import sys\n",
    "sys.path.append(\".\\Income_tax_function\")\n",
    "import IRPP_from_scratch as ir"
   ]
  },
  {
   "cell_type": "code",
   "execution_count": 8,
   "metadata": {
    "collapsed": false
   },
   "outputs": [],
   "source": [
    "store_path = '../Data/hdf/edp_2015_final.h5'\n",
    "Store = pd.HDFStore(store_path)"
   ]
  },
  {
   "cell_type": "code",
   "execution_count": 9,
   "metadata": {
    "collapsed": false
   },
   "outputs": [
    {
     "data": {
      "text/plain": [
       "<class 'pandas.io.pytables.HDFStore'>\n",
       "File path: ../Data/hdf/edp_2015_final.h5\n",
       "/DECES                         frame        (shape->[358338,19])  \n",
       "/DESCENDANCE                   frame        (shape->[1320391,41]) \n",
       "/EAR2004_FAMILLE               frame        (shape->[48316,13])   \n",
       "/EAR2004_INDIVIDU              frame        (shape->[277933,86])  \n",
       "/EAR2004_LOGEMENT              frame        (shape->[89892,52])   \n",
       "/EAR2005_FAMILLE               frame        (shape->[78041,13])   \n",
       "/EAR2005_INDIVIDU              frame        (shape->[283781,86])  \n",
       "/EAR2005_LOGEMENT              frame        (shape->[91733,52])   \n",
       "/EAR2006_FAMILLE               frame        (shape->[78227,13])   \n",
       "/EAR2006_INDIVIDU              frame        (shape->[287786,86])  \n",
       "/EAR2006_LOGEMENT              frame        (shape->[92761,52])   \n",
       "/EAR2007_FAMILLE               frame        (shape->[78230,13])   \n",
       "/EAR2007_INDIVIDU              frame        (shape->[283228,86])  \n",
       "/EAR2007_LOGEMENT              frame        (shape->[92892,52])   \n",
       "/EAR2008_FAMILLE               frame        (shape->[272545,13])  \n",
       "/EAR2008_INDIVIDU              frame        (shape->[976703,86])  \n",
       "/EAR2008_LOGEMENT              frame        (shape->[318891,52])  \n",
       "/EAR2009_FAMILLE               frame        (shape->[307169,13])  \n",
       "/EAR2009_INDIVIDU              frame        (shape->[1100141,87]) \n",
       "/EAR2009_LOGEMENT              frame        (shape->[364051,53])  \n",
       "/EAR2010_FAMILLE               frame        (shape->[307974,13])  \n",
       "/EAR2010_INDIVIDU              frame        (shape->[1101133,87]) \n",
       "/EAR2010_LOGEMENT              frame        (shape->[365338,59])  \n",
       "/EAR2011_FAMILLE               frame        (shape->[304799,13])  \n",
       "/EAR2011_INDIVIDU              frame        (shape->[1103412,87]) \n",
       "/EAR2011_LOGEMENT              frame        (shape->[365353,59])  \n",
       "/EAR2012_FAMILLE               frame        (shape->[304623,13])  \n",
       "/EAR2012_INDIVIDU              frame        (shape->[1088188,88]) \n",
       "/EAR2012_LOGEMENT              frame        (shape->[364466,60])  \n",
       "/EAR2013_FAMILLE               frame        (shape->[307313,13])  \n",
       "/EAR2013_INDIVIDU              frame        (shape->[1095329,88]) \n",
       "/EAR2013_LOGEMENT              frame        (shape->[368097,60])  \n",
       "/EAR2014_FAMILLE               frame        (shape->[306704,13])  \n",
       "/EAR2014_INDIVIDU              frame        (shape->[1094413,89]) \n",
       "/EAR2014_LOGEMENT              frame        (shape->[368049,60])  \n",
       "/EAR2015_FAMILLE               frame        (shape->[307607,13])  \n",
       "/EAR2015_INDIVIDU              frame        (shape->[1096137,89]) \n",
       "/EAR2015_LOGEMENT              frame        (shape->[369412,60])  \n",
       "/FE                            frame        (shape->[4261066,7])  \n",
       "/FISC_INDIVIDU_2010            frame        (shape->[7443729,28]) \n",
       "/FISC_INDIVIDU_2011            frame        (shape->[7521928,28]) \n",
       "/FISC_INDIVIDU_2012            frame        (shape->[7606885,28]) \n",
       "/FISC_INDIVIDU_2013            frame        (shape->[7687654,28]) \n",
       "/FISC_INDIVIDU_2014            frame        (shape->[7897225,28]) \n",
       "/FISC_INDIVIDU_2015            frame        (shape->[1,28])       \n",
       "/FISC_LOGEMENT_2010            frame        (shape->[2371126,36]) \n",
       "/FISC_LOGEMENT_2011            frame        (shape->[2406495,36]) \n",
       "/FISC_LOGEMENT_2012            frame        (shape->[2438524,36]) \n",
       "/FISC_LOGEMENT_2013            frame        (shape->[2463418,36]) \n",
       "/FISC_LOGEMENT_2014            frame        (shape->[2517285,36]) \n",
       "/FISC_LOGEMENT_2015            frame        (shape->[1,36])       \n",
       "/FISC_REVDET_2010              frame        (shape->[5187327,12]) \n",
       "/FISC_REVDET_2011              frame        (shape->[5231237,12]) \n",
       "/FISC_REVDET_2012              frame        (shape->[5278844,12]) \n",
       "/FISC_REVDET_2013              frame        (shape->[5307821,12]) \n",
       "/FISC_REVDET_2014              frame        (shape->[5461506,12]) \n",
       "/FISC_REVDET_2015              frame        (shape->[1,12])       \n",
       "/FISC_REVENU_2010              frame        (shape->[2348114,100])\n",
       "/FISC_REVENU_2011              frame        (shape->[2380185,100])\n",
       "/FISC_REVENU_2012              frame        (shape->[2410915,100])\n",
       "/FISC_REVENU_2013              frame        (shape->[2433291,100])\n",
       "/FISC_REVENU_2014              frame        (shape->[2478714,100])\n",
       "/FISC_REVENU_2015              frame        (shape->[1,100])      \n",
       "/INDIVIDU                      frame        (shape->[3571655,43]) \n",
       "/MARIAGE                       frame        (shape->[458354,34])  \n",
       "/NAISSANCE                     frame        (shape->[712962,40])  \n",
       "/RP1968                        frame        (shape->[484308,49])  \n",
       "/RP1975                        frame        (shape->[527025,95])  \n",
       "/RP1982                        frame        (shape->[552711,75])  \n",
       "/RP1990                        frame        (shape->[586037,228]) "
      ]
     },
     "execution_count": 9,
     "metadata": {},
     "output_type": "execute_result"
    }
   ],
   "source": [
    "Store"
   ]
  },
  {
   "cell_type": "code",
   "execution_count": 10,
   "metadata": {
    "collapsed": true
   },
   "outputs": [],
   "source": [
    "def load_fisc_i_by_year(year = 2014):\n",
    "    df_fisci = pd.read_hdf(store_path, 'FISC_INDIVIDU_{}'.format(year))\n",
    "    return df_fisci\n",
    "def load_fisc_r_by_year(year = 2014):\n",
    "    df_fiscr = pd.read_hdf(store_path, 'FISC_REVENU_{}'.format(year))\n",
    "    return df_fiscr\n",
    "def load_fisc_l_by_year(year = 2014):\n",
    "    df_fiscr = pd.read_hdf(store_path, 'FISC_LOGEMENT_{}'.format(year))\n",
    "    return df_fiscr\n",
    "\n",
    "def load_df_fiscrevdet_by_year(year = 2014):\n",
    "    df_fiscrevdet = pd.read_hdf(store_path, 'FISC_REVDET_{}'.format(year))\n",
    "    return df_fiscrevdet\n",
    "    "
   ]
  },
  {
   "cell_type": "code",
   "execution_count": 11,
   "metadata": {
    "collapsed": false
   },
   "outputs": [],
   "source": [
    "# %%time\n",
    "# df_ear_dict = dict()\n",
    "# for year in range(2014, 2016):\n",
    "#     df_ear_temp = pd.read_hdf(store_path, 'EAR{}_INDIVIDU'.format(year))\n",
    "#     df_ear_temp[\"AN_EDP\"] = year\n",
    "#     df_ear_dict[year] = df_ear_temp\n"
   ]
  },
  {
   "cell_type": "code",
   "execution_count": 12,
   "metadata": {
    "collapsed": true
   },
   "outputs": [],
   "source": [
    "import datetime"
   ]
  },
  {
   "cell_type": "code",
   "execution_count": 13,
   "metadata": {
    "collapsed": false
   },
   "outputs": [
    {
     "name": "stdout",
     "output_type": "stream",
     "text": [
      "2010\n",
      "2010 2019-04-26 17:59:13.558000\n",
      "2011\n",
      "2011 2019-04-26 17:59:40.223000\n",
      "2012\n",
      "2012 2019-04-26 18:00:08.652000\n",
      "2013\n",
      "2013 2019-04-26 18:00:42.053000\n",
      "2014\n",
      "2014 2019-04-26 18:01:20.498000\n",
      "Wall time: 2min 42s\n"
     ]
    }
   ],
   "source": [
    "%%time\n",
    "df_ear= pd.read_hdf(store_path, 'EAR{}_INDIVIDU'.format(2015))\n",
    "df_ear[\"AN_EDP\"] = 2015\n",
    "for year in range(2010, 2015):\n",
    "    print year\n",
    "    df_ear_temp = pd.read_hdf(store_path, 'EAR{}_INDIVIDU'.format(year))\n",
    "    df_ear_temp[\"AN_EDP\"] = year\n",
    "    df_ear = pd.concat([df_ear,df_ear_temp])\n",
    "    print year, datetime.datetime.now()\n",
    "del df_ear_temp #1m 22 s avec ear range(2013,2015)"
   ]
  },
  {
   "cell_type": "code",
   "execution_count": 14,
   "metadata": {
    "collapsed": false
   },
   "outputs": [],
   "source": [
    "#df_ear.sort(\"ID_LOG_DIFF\").head()"
   ]
  },
  {
   "cell_type": "markdown",
   "metadata": {},
   "source": [
    "1. Sort by year  \n",
    "2. Find last ID_DIFF for a given year  \n",
    "3. take ID_DIFF ID_LOG \n"
   ]
  },
  {
   "cell_type": "markdown",
   "metadata": {},
   "source": [
    "1. Sort by year "
   ]
  },
  {
   "cell_type": "code",
   "execution_count": 15,
   "metadata": {
    "collapsed": false
   },
   "outputs": [
    {
     "name": "stdout",
     "output_type": "stream",
     "text": [
      "Wall time: 17.3 s\n"
     ]
    }
   ],
   "source": [
    "%%time\n",
    "df_ear.sort(\"AN_EDP\", inplace=True) #25s"
   ]
  },
  {
   "cell_type": "markdown",
   "metadata": {},
   "source": [
    "<span>2. Find last ID_DIFF for a given year  "
   ]
  },
  {
   "cell_type": "code",
   "execution_count": 16,
   "metadata": {
    "collapsed": false
   },
   "outputs": [
    {
     "name": "stdout",
     "output_type": "stream",
     "text": [
      "Wall time: 2.09 s\n"
     ]
    }
   ],
   "source": [
    "%%time\n",
    "last_id_diff = df_ear.groupby('ID_DIFF')[[\"ID_DIFF\", \"AN_EDP\", \"ID_LOG_DIFF\"]].last()"
   ]
  },
  {
   "cell_type": "code",
   "execution_count": 17,
   "metadata": {
    "collapsed": false
   },
   "outputs": [
    {
     "name": "stdout",
     "output_type": "stream",
     "text": [
      "Wall time: 18.7 s\n"
     ]
    }
   ],
   "source": [
    "%%time\n",
    "merge = pd.merge(df_ear, last_id_diff, on = [\"ID_LOG_DIFF\", \"AN_EDP\"], how = 'inner', suffixes=(\"\", \"_to_drop\")) #18s"
   ]
  },
  {
   "cell_type": "code",
   "execution_count": 18,
   "metadata": {
    "collapsed": true
   },
   "outputs": [],
   "source": [
    "merge[\"ID_DIFF_Filled\"] = merge.ID_DIFF_to_drop"
   ]
  },
  {
   "cell_type": "markdown",
   "metadata": {},
   "source": [
    "On a gardé les informations les plus fraiches sur un logement d'un individu particulier."
   ]
  },
  {
   "cell_type": "markdown",
   "metadata": {},
   "source": [
    "<span> 3. On repli les id_diff pour un logement particulier"
   ]
  },
  {
   "cell_type": "code",
   "execution_count": 19,
   "metadata": {
    "collapsed": false
   },
   "outputs": [
    {
     "data": {
      "text/plain": [
       "0    2542781\n",
       "1    2542781\n",
       "2     469663\n",
       "3     469663\n",
       "4     469663\n",
       "5     970783\n",
       "6     970783\n",
       "7    3000998\n",
       "8    3000998\n",
       "9    3256490\n",
       "Name: ID_DIFF_Filled, dtype: float64"
      ]
     },
     "execution_count": 19,
     "metadata": {},
     "output_type": "execute_result"
    }
   ],
   "source": [
    "merge.ID_DIFF_Filled.head(10)"
   ]
  },
  {
   "cell_type": "markdown",
   "metadata": {},
   "source": [
    "Je renome les variables pour un merge avec df_fisci."
   ]
  },
  {
   "cell_type": "code",
   "execution_count": 20,
   "metadata": {
    "collapsed": true
   },
   "outputs": [],
   "source": [
    "merge[\"ANAIS\"] = merge.ANAI\n",
    "merge['JNAIS'] = merge.JNAI\n",
    "merge['MNAIS']= merge.MNAI"
   ]
  },
  {
   "cell_type": "code",
   "execution_count": 21,
   "metadata": {
    "collapsed": false
   },
   "outputs": [
    {
     "name": "stdout",
     "output_type": "stream",
     "text": [
      "Wall time: 19.3 s\n"
     ]
    }
   ],
   "source": [
    "%%time\n",
    "biologic_path = (u\"./Pickle/biologic/biologic_households{}.p\".format(2013))\n",
    "biologic_2013 = pickle.load( \n",
    "        open(biologic_path, 'rb'))\n",
    "fisci = load_fisc_i_by_year(2013)\n",
    "df_fisci = fisci[fisci.ID_FISC_LOG_DIFF.isin(biologic_2013)]\n",
    "id_diff_fisci = set(df_fisci[df_fisci.ID_DIFF.notnull()].ID_DIFF)"
   ]
  },
  {
   "cell_type": "code",
   "execution_count": 22,
   "metadata": {
    "collapsed": false
   },
   "outputs": [
    {
     "name": "stdout",
     "output_type": "stream",
     "text": [
      "Wall time: 443 ms\n"
     ]
    }
   ],
   "source": [
    "%%time\n",
    "last_id_diff_fisci = df_fisci.groupby('ID_DIFF')[[\"ID_DIFF\", \"AN_FISC\", \"ID_FISC_LOG_DIFF\"]].last()"
   ]
  },
  {
   "cell_type": "code",
   "execution_count": 23,
   "metadata": {
    "collapsed": false
   },
   "outputs": [
    {
     "name": "stdout",
     "output_type": "stream",
     "text": [
      "Wall time: 491 ms\n"
     ]
    }
   ],
   "source": [
    "%%time\n",
    "merge_fisci = pd.merge(df_fisci, last_id_diff_fisci, on = [\"ID_FISC_LOG_DIFF\", \"AN_FISC\"], how = 'inner', suffixes=(\"\", \"_to_drop\"))#1s"
   ]
  },
  {
   "cell_type": "code",
   "execution_count": 24,
   "metadata": {
    "collapsed": false
   },
   "outputs": [],
   "source": [
    "merge_fisci[\"ID_DIFF_Filled\"] = merge_fisci.ID_DIFF_to_drop"
   ]
  },
  {
   "cell_type": "code",
   "execution_count": 25,
   "metadata": {
    "collapsed": false
   },
   "outputs": [],
   "source": [
    "# %%time\n",
    "# merge_fisci.sort('ID_DIFF_Filled', inplace = True) #Peut être supprimé pour gagner du temps\n",
    "# merge.sort('ID_DIFF_Filled', inplace = True) #Peut être supprimé pour gagner du temps"
   ]
  },
  {
   "cell_type": "markdown",
   "metadata": {},
   "source": [
    "### On Merge fisci et les ear sur ID_DIFF_FILLED et les dates de naissances"
   ]
  },
  {
   "cell_type": "code",
   "execution_count": 26,
   "metadata": {
    "collapsed": false
   },
   "outputs": [
    {
     "name": "stdout",
     "output_type": "stream",
     "text": [
      "Wall time: 2min 49s\n"
     ]
    }
   ],
   "source": [
    "%%time\n",
    "merge_ear_fisci = pd.merge(merge_fisci, merge, on=[\"ID_DIFF_Filled\",\"ANAIS\", \"JNAIS\",\"MNAIS\"], suffixes = ('', '_to_drop'), how = \"inner\")#1m24s"
   ]
  },
  {
   "cell_type": "code",
   "execution_count": 27,
   "metadata": {
    "collapsed": false
   },
   "outputs": [
    {
     "name": "stdout",
     "output_type": "stream",
     "text": [
      "A\n"
     ]
    }
   ],
   "source": [
    "print \"A\""
   ]
  },
  {
   "cell_type": "code",
   "execution_count": 28,
   "metadata": {
    "collapsed": false
   },
   "outputs": [],
   "source": [
    "#merge_ear_fisci.sort('ID_FISC_LOG_DIFF').head()"
   ]
  },
  {
   "cell_type": "code",
   "execution_count": 29,
   "metadata": {
    "collapsed": false
   },
   "outputs": [
    {
     "data": {
      "text/plain": [
       "37428"
      ]
     },
     "execution_count": 29,
     "metadata": {},
     "output_type": "execute_result"
    }
   ],
   "source": [
    "merge_ear_fisci.ID_FISC_LOG_DIFF.nunique() #22384 logements matché avec ear 2013,2014,2015 ; 36954 avec 2010,2015"
   ]
  },
  {
   "cell_type": "code",
   "execution_count": 30,
   "metadata": {
    "collapsed": false
   },
   "outputs": [],
   "source": [
    "merge_ear_fisci.reset_index(inplace = True)"
   ]
  },
  {
   "cell_type": "code",
   "execution_count": 31,
   "metadata": {
    "collapsed": false
   },
   "outputs": [],
   "source": [
    "merge_ear_fisci.drop(\"ID_DIFF_to_drop\", axis = 1, inplace = True)"
   ]
  },
  {
   "cell_type": "code",
   "execution_count": 32,
   "metadata": {
    "collapsed": false
   },
   "outputs": [
    {
     "name": "stderr",
     "output_type": "stream",
     "text": [
      "C:\\Users\\IMPTEMP_A_PACIFIC\\Desktop\\WinPython-64bit-2.7.10.2\\WinPython-64bit-2.7.10.2\\python-2.7.10.amd64\\lib\\site-packages\\pandas\\io\\pytables.py:2577: PerformanceWarning: \n",
      "your performance may suffer as PyTables will pickle object types that it cannot\n",
      "map directly to c-types [inferred_type->mixed-integer,key->block2_values] [items->['ORDREFIP', 'TYPE_FISC', 'SEXE', 'CODNAIS', 'CIDECI', 'ZOXYZD', 'ZOXYZP', 'T_CHARGE', 'CNCOIPV', 'CSDEP', 'ANAR', 'APAF', 'ARRIV', 'CIL', 'COUPLE', 'CPOP', 'CRP_C_C', 'CRP_C_R', 'CS', 'DCETUF', 'DCLT', 'DCNAI', 'DCRAN', 'DEPCOM_CODE', 'DIPL', 'DISTIL_CODE', 'EMPL', 'ETUD', 'FIL', 'ILETUD', 'ILTD', 'IMMI', 'INAT', 'INATCC', 'IPRM', 'IRAND', 'IRIS_ILOT', 'LIENF', 'LPRF', 'LPRM', 'MOCO', 'MODV', 'NAF', 'NATE', 'NATE_C_C', 'NATN', 'NATN_C_C', 'NUMF', 'PNAI', 'PNAI_C_C', 'POSP', 'PRAN', 'PRAN_C_C', 'PROF', 'RECH', 'REGNAI', 'REGRAN', 'TP', 'TYPACT']]\n",
      "\n",
      "  warnings.warn(ws, PerformanceWarning)\n"
     ]
    }
   ],
   "source": [
    "merge_ear_fisci.to_hdf(\n",
    "    \"./Generated_hdf/FSCI_EAR_BIO.h5\",  \n",
    "    \"ear_2010_2015_fisci_bio_2013\")"
   ]
  },
  {
   "cell_type": "code",
   "execution_count": 33,
   "metadata": {
    "collapsed": true
   },
   "outputs": [],
   "source": [
    "merge_ear_fisci = pd.read_hdf(\n",
    "     \"./Generated_hdf/FSCI_EAR_BIO.h5\",  \n",
    "    \"ear_2010_2015_fisci_bio_2013\")"
   ]
  },
  {
   "cell_type": "code",
   "execution_count": 34,
   "metadata": {
    "collapsed": false
   },
   "outputs": [
    {
     "data": {
      "text/plain": [
       "0    73\n",
       "1    73\n",
       "2    72\n",
       "3    72\n",
       "4    82\n",
       "Name: REG_CODE, dtype: int64"
      ]
     },
     "execution_count": 34,
     "metadata": {},
     "output_type": "execute_result"
    }
   ],
   "source": [
    "merge_ear_fisci.REG_CODE.head()"
   ]
  },
  {
   "cell_type": "code",
   "execution_count": 35,
   "metadata": {
    "collapsed": false
   },
   "outputs": [],
   "source": [
    "merge_ear_fisci[\"Diplome_homme\"] = merge_ear_fisci[merge_ear_fisci.SEXE == 1].DIPL_X\n",
    "merge_ear_fisci[\"Diplome_femme\"] = merge_ear_fisci[merge_ear_fisci.SEXE == 2].DIPL_X\n",
    "merge_ear_fisci[\"Categorie_sociale_homme\"] = merge_ear_fisci[merge_ear_fisci.SEXE == 1].CS\n",
    "merge_ear_fisci[\"Categorie_sociale_femme\"] = merge_ear_fisci[merge_ear_fisci.SEXE == 2].CS\n",
    "merge_ear_fisci[\"Travaille_dans_commune_ILTD_homme\"] = merge_ear_fisci[merge_ear_fisci.SEXE == 1].ILTD\n",
    "merge_ear_fisci[\"Travaille_dans_commune_ILTD_femme\"] = merge_ear_fisci[merge_ear_fisci.SEXE == 2].ILTD\n",
    "merge_ear_fisci[\"Type_contrat_travail_EMPL_homme\"] = merge_ear_fisci[merge_ear_fisci.SEXE == 1].EMPL \n",
    "merge_ear_fisci[\"Type_contrat_travail_EMPL_femme\"] = merge_ear_fisci[merge_ear_fisci.SEXE == 2].EMPL\n",
    "merge_ear_fisci[\"Immigre_IMMI_homme\"] = merge_ear_fisci[merge_ear_fisci.SEXE == 1].IMMI\n",
    "merge_ear_fisci[\"Immigre_IMMI_femme\"] = merge_ear_fisci[merge_ear_fisci.SEXE == 2].IMMI\n",
    "merge_ear_fisci[\"Position_professionnelle_homme\"] = merge_ear_fisci[merge_ear_fisci.SEXE == 1].POSP\n",
    "merge_ear_fisci[\"Position_professionnelle_femme\"] = merge_ear_fisci[merge_ear_fisci.SEXE == 2].POSP\n",
    "\n",
    "merge_ear_fisci[\"Temps_recherche_emploi_homme\"] = merge_ear_fisci[merge_ear_fisci.SEXE == 1].RECH\n",
    "merge_ear_fisci[\"Temps_recherche_emploi_femme\"] = merge_ear_fisci[merge_ear_fisci.SEXE == 2].RECH \n",
    "merge_ear_fisci[\"Region_homme\"] = merge_ear_fisci[merge_ear_fisci.SEXE == 1].REG_CODE\n",
    "merge_ear_fisci[\"Region_femme\"] = merge_ear_fisci[merge_ear_fisci.SEXE == 2].REG_CODE\n",
    "merge_ear_fisci[\"Temps_partiel_homme\"] = merge_ear_fisci[merge_ear_fisci.SEXE == 1].TP \n",
    "merge_ear_fisci[\"Temps_partiel_femme\"] = merge_ear_fisci[merge_ear_fisci.SEXE == 2].TP\n"
   ]
  },
  {
   "cell_type": "code",
   "execution_count": 36,
   "metadata": {
    "collapsed": true
   },
   "outputs": [],
   "source": [
    "merge_ear_fisci = merge_ear_fisci.drop_duplicates(subset = [\"ID_FISC_LOG_DIFF\", 'ANAIS', 'JNAIS', 'MNAIS', 'SEXE'] )"
   ]
  },
  {
   "cell_type": "code",
   "execution_count": 37,
   "metadata": {
    "collapsed": false
   },
   "outputs": [
    {
     "data": {
      "text/plain": [
       "2    34445\n",
       "1     2983\n",
       "dtype: int64"
      ]
     },
     "execution_count": 37,
     "metadata": {},
     "output_type": "execute_result"
    }
   ],
   "source": [
    "(merge_ear_fisci.groupby(\"ID_FISC_LOG_DIFF\").AN_FISC.count()).value_counts()"
   ]
  },
  {
   "cell_type": "code",
   "execution_count": 38,
   "metadata": {
    "collapsed": false
   },
   "outputs": [
    {
     "data": {
      "text/plain": [
       "1    0.791438\n",
       "2    0.208562\n",
       "dtype: float64"
      ]
     },
     "execution_count": 38,
     "metadata": {},
     "output_type": "execute_result"
    }
   ],
   "source": [
    "merge_ear_fisci.TC.value_counts(normalize=True)"
   ]
  },
  {
   "cell_type": "code",
   "execution_count": 39,
   "metadata": {
    "collapsed": false
   },
   "outputs": [],
   "source": [
    "vars_to_sum = [\"Diplome\", \"Categorie_sociale\", 'Travaille_dans_commune_ILTD', 'Type_contrat_travail_EMPL', 'Immigre_IMMI',\n",
    "'Position_professionnelle', \"Temps_recherche_emploi\", 'Region', 'Temps_partiel']"
   ]
  },
  {
   "cell_type": "code",
   "execution_count": 40,
   "metadata": {
    "collapsed": false
   },
   "outputs": [],
   "source": [
    "vars_to_sum_homme = [var + \"_homme\" for var in vars_to_sum]\n",
    "vars_to_sum_femme = [var + \"_femme\" for var in vars_to_sum]"
   ]
  },
  {
   "cell_type": "code",
   "execution_count": 41,
   "metadata": {
    "collapsed": false
   },
   "outputs": [
    {
     "data": {
      "text/plain": [
       "['Diplome_homme',\n",
       " 'Categorie_sociale_homme',\n",
       " 'Travaille_dans_commune_ILTD_homme',\n",
       " 'Type_contrat_travail_EMPL_homme',\n",
       " 'Immigre_IMMI_homme',\n",
       " 'Position_professionnelle_homme',\n",
       " 'Temps_recherche_emploi_homme',\n",
       " 'Region_homme',\n",
       " 'Temps_partiel_homme']"
      ]
     },
     "execution_count": 41,
     "metadata": {},
     "output_type": "execute_result"
    }
   ],
   "source": [
    "vars_to_sum_homme"
   ]
  },
  {
   "cell_type": "markdown",
   "metadata": {},
   "source": [
    "Bon ben vu que le groupby ne marche pas (va savoir pourquoi), on fait un merge en deux partie."
   ]
  },
  {
   "cell_type": "code",
   "execution_count": 42,
   "metadata": {
    "collapsed": false
   },
   "outputs": [],
   "source": [
    "df_homme = merge_ear_fisci[vars_to_sum_homme+ [\"ID_FISC_LOG_DIFF\"]][merge_ear_fisci.SEXE==1]\n",
    "df_femme = merge_ear_fisci[vars_to_sum_femme+ [\"ID_FISC_LOG_DIFF\"]][merge_ear_fisci.SEXE==2]"
   ]
  },
  {
   "cell_type": "code",
   "execution_count": 43,
   "metadata": {
    "collapsed": false
   },
   "outputs": [],
   "source": [
    "df_homme.set_index(\"ID_FISC_LOG_DIFF\", inplace = True)\n",
    "df_femme.set_index(\"ID_FISC_LOG_DIFF\", inplace = True)"
   ]
  },
  {
   "cell_type": "code",
   "execution_count": 44,
   "metadata": {
    "collapsed": true
   },
   "outputs": [],
   "source": [
    "df_homme_femme = df_homme.combine_first( df_femme)"
   ]
  },
  {
   "cell_type": "code",
   "execution_count": 45,
   "metadata": {
    "collapsed": false
   },
   "outputs": [],
   "source": [
    "df_homme_femme.reset_index(inplace = True)"
   ]
  },
  {
   "cell_type": "code",
   "execution_count": 46,
   "metadata": {
    "collapsed": false
   },
   "outputs": [],
   "source": [
    "#df_homme_femme.head(2)"
   ]
  },
  {
   "cell_type": "markdown",
   "metadata": {},
   "source": [
    "####merge pour rajouter la variable TC"
   ]
  },
  {
   "cell_type": "code",
   "execution_count": 47,
   "metadata": {
    "collapsed": false
   },
   "outputs": [],
   "source": [
    "df_homme_femme2 = pd.merge(df_homme_femme, merge_ear_fisci[[\"ID_FISC_LOG_DIFF\", \"TC\"]], on=\"ID_FISC_LOG_DIFF\", how=\"inner\")"
   ]
  },
  {
   "cell_type": "code",
   "execution_count": 48,
   "metadata": {
    "collapsed": false
   },
   "outputs": [],
   "source": [
    "df_homme_femme2 = df_homme_femme2.drop_duplicates()"
   ]
  },
  {
   "cell_type": "code",
   "execution_count": 49,
   "metadata": {
    "collapsed": false
   },
   "outputs": [
    {
     "name": "stderr",
     "output_type": "stream",
     "text": [
      "C:\\Users\\IMPTEMP_A_PACIFIC\\Desktop\\WinPython-64bit-2.7.10.2\\WinPython-64bit-2.7.10.2\\python-2.7.10.amd64\\lib\\site-packages\\pandas\\io\\pytables.py:2577: PerformanceWarning: \n",
      "your performance may suffer as PyTables will pickle object types that it cannot\n",
      "map directly to c-types [inferred_type->mixed,key->block2_values] [items->['Categorie_sociale_homme', 'Immigre_IMMI_homme', 'Position_professionnelle_femme', 'Position_professionnelle_homme', 'Temps_partiel_femme', 'Temps_partiel_homme', 'Temps_recherche_emploi_femme', 'Temps_recherche_emploi_homme', 'Travaille_dans_commune_ILTD_femme', 'Travaille_dans_commune_ILTD_homme', 'Type_contrat_travail_EMPL_femme', 'Type_contrat_travail_EMPL_homme']]\n",
      "\n",
      "  warnings.warn(ws, PerformanceWarning)\n"
     ]
    }
   ],
   "source": [
    "df_homme_femme2.to_hdf(\n",
    "    \"./Generated_hdf/FSCI_EAR_BIO.h5\",  \n",
    "    \"ear_groupby_id_fisc_log_diff_homme_femme\")"
   ]
  },
  {
   "cell_type": "code",
   "execution_count": 50,
   "metadata": {
    "collapsed": false
   },
   "outputs": [
    {
     "name": "stdout",
     "output_type": "stream",
     "text": [
      "2019-04-26 18:05:20.080000\n"
     ]
    }
   ],
   "source": [
    "import datetime\n",
    "print datetime.datetime.now()"
   ]
  },
  {
   "cell_type": "code",
   "execution_count": 51,
   "metadata": {
    "collapsed": false
   },
   "outputs": [
    {
     "name": "stdout",
     "output_type": "stream",
     "text": [
      "('now: ', datetime.datetime(2019, 4, 26, 18, 5, 20, 94000))\n",
      "('execution_time: ', datetime.timedelta(0, 406, 419000))\n"
     ]
    }
   ],
   "source": [
    "stop_time = datetime.datetime.now(); print(\"now: \",stop_time);\n",
    "execution_time = stop_time - start_time; print(\"execution_time: \",execution_time)\n",
    "stop_time = start_time\n",
    "#clear  memory\n",
    "%reset -f"
   ]
  },
  {
   "cell_type": "code",
   "execution_count": 52,
   "metadata": {
    "collapsed": true
   },
   "outputs": [],
   "source": []
  }
 ],
 "metadata": {
  "kernelspec": {
   "display_name": "Python 3",
   "language": "python",
   "name": "python3"
  },
  "language_info": {
   "codemirror_mode": {
    "name": "ipython",
    "version": 3
   },
   "file_extension": ".py",
   "mimetype": "text/x-python",
   "name": "python",
   "nbconvert_exporter": "python",
   "pygments_lexer": "ipython3",
   "version": "3.7.2"
  }
 },
 "nbformat": 4,
 "nbformat_minor": 2
}
